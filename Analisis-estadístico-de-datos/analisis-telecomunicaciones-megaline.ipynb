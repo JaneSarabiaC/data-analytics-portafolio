{
 "cells": [
  {
   "cell_type": "markdown",
   "metadata": {
    "id": "3rYiDeEH0q0f"
   },
   "source": [
    "# ¿Cuál es la mejor tarifa?\n",
    "\n",
    "Trabajas como analista para el operador de telecomunicaciones Megaline. La empresa ofrece a sus clientes dos tarifas de prepago, Surf y Ultimate. El departamento comercial quiere saber cuál de las tarifas genera más ingresos para poder ajustar el presupuesto de publicidad.\n",
    "\n",
    "Vas a realizar un análisis preliminar de las tarifas basado en una selección de clientes relativamente pequeña. Tendrás los datos de 500 clientes de Megaline: quiénes son los clientes, de dónde son, qué tarifa usan, así como la cantidad de llamadas que hicieron y los mensajes de texto que enviaron en 2018. Tu trabajo es analizar el comportamiento de los clientes y determinar qué tarifa de prepago genera más ingresos."
   ]
  },
  {
   "cell_type": "markdown",
   "metadata": {
    "id": "VNddPNRQ0q0w"
   },
   "source": [
    "[Te proporcionamos algunos comentarios para orientarte mientras completas este proyecto. Pero debes asegurarte de eliminar todos los comentarios entre corchetes antes de entregar tu proyecto.]\n",
    "\n",
    "[Antes de sumergirte en el análisis de datos, explica por tu propia cuenta el propósito del proyecto y las acciones que planeas realizar.]\n",
    "\n",
    "[Ten en cuenta que estudiar, modificar y analizar datos es un proceso iterativo. Es normal volver a los pasos anteriores y corregirlos/ampliarlos para permitir nuevos pasos.]"
   ]
  },
  {
   "cell_type": "markdown",
   "metadata": {},
   "source": [
    "## Descripción de las tarifas\n",
    "\n",
    "Nota: Megaline redondea los segundos a minutos y los megabytes a gigabytes. Para las llamadas, cada llamada individual se redondea: incluso si la llamada duró solo un segundo, se contará como un minuto. Para el tráfico web, las sesiones web individuales no se redondean. En vez de esto, el total del mes se redondea hacia arriba. Si alguien usa 1025 megabytes este mes, se le cobrarán 2 gigabytes.\n",
    "\n",
    "A continuación puedes ver una descripción de las tarifas:\n",
    "\n",
    "### Surf\n",
    "\n",
    "Pago mensual: $20.\n",
    "500 minutos al mes, 50 SMS y 15 GB de datos.\n",
    "Si se exceden los límites del paquete:\n",
    "1 minuto: 3 centavos.\n",
    "1 SMS: 3 centavos.\n",
    "1 GB de datos: $10.\n",
    "\n",
    "### Ultimate\n",
    "\n",
    "Pago mensual: $70.\n",
    "3000 minutos al mes, 1000 SMS y 30 GB de datos.\n",
    "Si se exceden los límites del paquete:\n",
    "1 minuto: 1 centavo.\n",
    "1 SMS: 1 centavo.\n",
    "1 GB de datos: $7."
   ]
  },
  {
   "cell_type": "markdown",
   "metadata": {
    "id": "MQi4IPy70q0y"
   },
   "source": [
    "## Inicialización"
   ]
  },
  {
   "cell_type": "code",
   "execution_count": 2,
   "metadata": {
    "id": "MtYIuBxu0q0z",
    "trusted": false
   },
   "outputs": [],
   "source": [
    "# Cargar todas las librerías\n",
    "\n",
    "import pandas as pd\n",
    "import matplotlib.pyplot as plt\n",
    "from scipy import stats as st\n",
    "import numpy as np\n",
    "import math\n"
   ]
  },
  {
   "cell_type": "markdown",
   "metadata": {
    "id": "4ysWWC5i0q00"
   },
   "source": [
    "## Cargar datos"
   ]
  },
  {
   "cell_type": "code",
   "execution_count": 3,
   "metadata": {
    "id": "CCqPW7rS0q01",
    "trusted": false
   },
   "outputs": [],
   "source": [
    "# Carga los archivos de datos en diferentes DataFrames\n",
    "\n",
    "llamadas_df = pd.read_csv('/datasets/megaline_calls.csv')\n",
    "internet_df = pd.read_csv('/datasets/megaline_internet.csv')\n",
    "mensajes_df = pd.read_csv('/datasets/megaline_messages.csv')\n",
    "planes_df = pd.read_csv('/datasets/megaline_plans.csv')\n",
    "usuarios_df = pd.read_csv('/datasets/megaline_users.csv')"
   ]
  },
  {
   "cell_type": "markdown",
   "metadata": {
    "id": "69qqoJ3r0q01"
   },
   "source": [
    "## Preparar los datos"
   ]
  },
  {
   "cell_type": "markdown",
   "metadata": {
    "id": "ohBhimvH0q01"
   },
   "source": [
    "## Tarifas"
   ]
  },
  {
   "cell_type": "code",
   "execution_count": 4,
   "metadata": {
    "id": "GptqP3Q40q02",
    "trusted": false
   },
   "outputs": [
    {
     "data": {
      "text/html": [
       "<div>\n",
       "<style scoped>\n",
       "    .dataframe tbody tr th:only-of-type {\n",
       "        vertical-align: middle;\n",
       "    }\n",
       "\n",
       "    .dataframe tbody tr th {\n",
       "        vertical-align: top;\n",
       "    }\n",
       "\n",
       "    .dataframe thead th {\n",
       "        text-align: right;\n",
       "    }\n",
       "</style>\n",
       "<table border=\"1\" class=\"dataframe\">\n",
       "  <thead>\n",
       "    <tr style=\"text-align: right;\">\n",
       "      <th></th>\n",
       "      <th>messages_included</th>\n",
       "      <th>mb_per_month_included</th>\n",
       "      <th>minutes_included</th>\n",
       "      <th>usd_monthly_pay</th>\n",
       "      <th>usd_per_gb</th>\n",
       "      <th>usd_per_message</th>\n",
       "      <th>usd_per_minute</th>\n",
       "      <th>plan_name</th>\n",
       "    </tr>\n",
       "  </thead>\n",
       "  <tbody>\n",
       "    <tr>\n",
       "      <th>0</th>\n",
       "      <td>50</td>\n",
       "      <td>15360</td>\n",
       "      <td>500</td>\n",
       "      <td>20</td>\n",
       "      <td>10</td>\n",
       "      <td>0.03</td>\n",
       "      <td>0.03</td>\n",
       "      <td>surf</td>\n",
       "    </tr>\n",
       "    <tr>\n",
       "      <th>1</th>\n",
       "      <td>1000</td>\n",
       "      <td>30720</td>\n",
       "      <td>3000</td>\n",
       "      <td>70</td>\n",
       "      <td>7</td>\n",
       "      <td>0.01</td>\n",
       "      <td>0.01</td>\n",
       "      <td>ultimate</td>\n",
       "    </tr>\n",
       "  </tbody>\n",
       "</table>\n",
       "</div>"
      ],
      "text/plain": [
       "   messages_included  mb_per_month_included  minutes_included  \\\n",
       "0                 50                  15360               500   \n",
       "1               1000                  30720              3000   \n",
       "\n",
       "   usd_monthly_pay  usd_per_gb  usd_per_message  usd_per_minute plan_name  \n",
       "0               20          10             0.03            0.03      surf  \n",
       "1               70           7             0.01            0.01  ultimate  "
      ]
     },
     "execution_count": 4,
     "metadata": {},
     "output_type": "execute_result"
    }
   ],
   "source": [
    "# Imprime la información general/resumida sobre el DataFrame de las tarifas\n",
    "\n",
    "planes_df.head()"
   ]
  },
  {
   "cell_type": "code",
   "execution_count": 5,
   "metadata": {
    "id": "64xzjwL70q02",
    "trusted": false
   },
   "outputs": [
    {
     "name": "stdout",
     "output_type": "stream",
     "text": [
      "<class 'pandas.core.frame.DataFrame'>\n",
      "RangeIndex: 2 entries, 0 to 1\n",
      "Data columns (total 8 columns):\n",
      " #   Column                 Non-Null Count  Dtype  \n",
      "---  ------                 --------------  -----  \n",
      " 0   messages_included      2 non-null      int64  \n",
      " 1   mb_per_month_included  2 non-null      int64  \n",
      " 2   minutes_included       2 non-null      int64  \n",
      " 3   usd_monthly_pay        2 non-null      int64  \n",
      " 4   usd_per_gb             2 non-null      int64  \n",
      " 5   usd_per_message        2 non-null      float64\n",
      " 6   usd_per_minute         2 non-null      float64\n",
      " 7   plan_name              2 non-null      object \n",
      "dtypes: float64(2), int64(5), object(1)\n",
      "memory usage: 256.0+ bytes\n"
     ]
    }
   ],
   "source": [
    "# Imprime una muestra de los datos para las tarifas\n",
    "\n",
    "planes_df.info()"
   ]
  },
  {
   "cell_type": "markdown",
   "metadata": {
    "id": "mEc_3_hs0q02"
   },
   "source": [
    "[Describe lo que ves y observas en la información general y en la muestra de datos impresa para el precio de datos anterior. ¿Hay algún problema (tipos de datos no adecuados, datos ausentes, etc.) que pudieran necesitar investigación y cambios adicionales? ¿Cómo se puede arreglar?]"
   ]
  },
  {
   "cell_type": "markdown",
   "metadata": {},
   "source": [
    "De inicio se puede observar el nombre del plan (plan_name), para que sea más claro lo cambiare a plan_id"
   ]
  },
  {
   "cell_type": "markdown",
   "metadata": {
    "id": "R3C05i1l0q03"
   },
   "source": [
    "## Corregir datos"
   ]
  },
  {
   "cell_type": "markdown",
   "metadata": {
    "id": "bIi8StZI0q03"
   },
   "source": [
    "[Corrige los problemas obvios con los datos basándote en las observaciones iniciales.]"
   ]
  },
  {
   "cell_type": "code",
   "execution_count": 6,
   "metadata": {
    "id": "Y7SVmjGn0q03",
    "trusted": false
   },
   "outputs": [],
   "source": [
    "planes_df.rename(columns={'plan_name':'plan_id'}, inplace=True)"
   ]
  },
  {
   "cell_type": "code",
   "execution_count": 7,
   "metadata": {
    "trusted": false
   },
   "outputs": [
    {
     "data": {
      "text/html": [
       "<div>\n",
       "<style scoped>\n",
       "    .dataframe tbody tr th:only-of-type {\n",
       "        vertical-align: middle;\n",
       "    }\n",
       "\n",
       "    .dataframe tbody tr th {\n",
       "        vertical-align: top;\n",
       "    }\n",
       "\n",
       "    .dataframe thead th {\n",
       "        text-align: right;\n",
       "    }\n",
       "</style>\n",
       "<table border=\"1\" class=\"dataframe\">\n",
       "  <thead>\n",
       "    <tr style=\"text-align: right;\">\n",
       "      <th></th>\n",
       "      <th>messages_included</th>\n",
       "      <th>mb_per_month_included</th>\n",
       "      <th>minutes_included</th>\n",
       "      <th>usd_monthly_pay</th>\n",
       "      <th>usd_per_gb</th>\n",
       "      <th>usd_per_message</th>\n",
       "      <th>usd_per_minute</th>\n",
       "      <th>plan_id</th>\n",
       "    </tr>\n",
       "  </thead>\n",
       "  <tbody>\n",
       "    <tr>\n",
       "      <th>0</th>\n",
       "      <td>50</td>\n",
       "      <td>15360</td>\n",
       "      <td>500</td>\n",
       "      <td>20</td>\n",
       "      <td>10</td>\n",
       "      <td>0.03</td>\n",
       "      <td>0.03</td>\n",
       "      <td>surf</td>\n",
       "    </tr>\n",
       "    <tr>\n",
       "      <th>1</th>\n",
       "      <td>1000</td>\n",
       "      <td>30720</td>\n",
       "      <td>3000</td>\n",
       "      <td>70</td>\n",
       "      <td>7</td>\n",
       "      <td>0.01</td>\n",
       "      <td>0.01</td>\n",
       "      <td>ultimate</td>\n",
       "    </tr>\n",
       "  </tbody>\n",
       "</table>\n",
       "</div>"
      ],
      "text/plain": [
       "   messages_included  mb_per_month_included  minutes_included  \\\n",
       "0                 50                  15360               500   \n",
       "1               1000                  30720              3000   \n",
       "\n",
       "   usd_monthly_pay  usd_per_gb  usd_per_message  usd_per_minute   plan_id  \n",
       "0               20          10             0.03            0.03      surf  \n",
       "1               70           7             0.01            0.01  ultimate  "
      ]
     },
     "execution_count": 7,
     "metadata": {},
     "output_type": "execute_result"
    }
   ],
   "source": [
    "planes_df.head()"
   ]
  },
  {
   "cell_type": "markdown",
   "metadata": {
    "id": "LJir7bml0q03"
   },
   "source": [
    "## Enriquecer los datos"
   ]
  },
  {
   "cell_type": "markdown",
   "metadata": {
    "id": "eqADpCfg0q04"
   },
   "source": [
    "[Agrega factores adicionales a los datos si crees que pudieran ser útiles.]"
   ]
  },
  {
   "cell_type": "markdown",
   "metadata": {
    "id": "1n2X6WXf0q04"
   },
   "source": [
    "## Usuarios/as"
   ]
  },
  {
   "cell_type": "code",
   "execution_count": 8,
   "metadata": {
    "id": "2NgjWFqx0q05",
    "trusted": false
   },
   "outputs": [
    {
     "data": {
      "text/html": [
       "<div>\n",
       "<style scoped>\n",
       "    .dataframe tbody tr th:only-of-type {\n",
       "        vertical-align: middle;\n",
       "    }\n",
       "\n",
       "    .dataframe tbody tr th {\n",
       "        vertical-align: top;\n",
       "    }\n",
       "\n",
       "    .dataframe thead th {\n",
       "        text-align: right;\n",
       "    }\n",
       "</style>\n",
       "<table border=\"1\" class=\"dataframe\">\n",
       "  <thead>\n",
       "    <tr style=\"text-align: right;\">\n",
       "      <th></th>\n",
       "      <th>user_id</th>\n",
       "      <th>first_name</th>\n",
       "      <th>last_name</th>\n",
       "      <th>age</th>\n",
       "      <th>city</th>\n",
       "      <th>reg_date</th>\n",
       "      <th>plan</th>\n",
       "      <th>churn_date</th>\n",
       "    </tr>\n",
       "  </thead>\n",
       "  <tbody>\n",
       "    <tr>\n",
       "      <th>0</th>\n",
       "      <td>1000</td>\n",
       "      <td>Anamaria</td>\n",
       "      <td>Bauer</td>\n",
       "      <td>45</td>\n",
       "      <td>Atlanta-Sandy Springs-Roswell, GA MSA</td>\n",
       "      <td>2018-12-24</td>\n",
       "      <td>ultimate</td>\n",
       "      <td>NaN</td>\n",
       "    </tr>\n",
       "    <tr>\n",
       "      <th>1</th>\n",
       "      <td>1001</td>\n",
       "      <td>Mickey</td>\n",
       "      <td>Wilkerson</td>\n",
       "      <td>28</td>\n",
       "      <td>Seattle-Tacoma-Bellevue, WA MSA</td>\n",
       "      <td>2018-08-13</td>\n",
       "      <td>surf</td>\n",
       "      <td>NaN</td>\n",
       "    </tr>\n",
       "    <tr>\n",
       "      <th>2</th>\n",
       "      <td>1002</td>\n",
       "      <td>Carlee</td>\n",
       "      <td>Hoffman</td>\n",
       "      <td>36</td>\n",
       "      <td>Las Vegas-Henderson-Paradise, NV MSA</td>\n",
       "      <td>2018-10-21</td>\n",
       "      <td>surf</td>\n",
       "      <td>NaN</td>\n",
       "    </tr>\n",
       "    <tr>\n",
       "      <th>3</th>\n",
       "      <td>1003</td>\n",
       "      <td>Reynaldo</td>\n",
       "      <td>Jenkins</td>\n",
       "      <td>52</td>\n",
       "      <td>Tulsa, OK MSA</td>\n",
       "      <td>2018-01-28</td>\n",
       "      <td>surf</td>\n",
       "      <td>NaN</td>\n",
       "    </tr>\n",
       "    <tr>\n",
       "      <th>4</th>\n",
       "      <td>1004</td>\n",
       "      <td>Leonila</td>\n",
       "      <td>Thompson</td>\n",
       "      <td>40</td>\n",
       "      <td>Seattle-Tacoma-Bellevue, WA MSA</td>\n",
       "      <td>2018-05-23</td>\n",
       "      <td>surf</td>\n",
       "      <td>NaN</td>\n",
       "    </tr>\n",
       "  </tbody>\n",
       "</table>\n",
       "</div>"
      ],
      "text/plain": [
       "   user_id first_name  last_name  age                                   city  \\\n",
       "0     1000   Anamaria      Bauer   45  Atlanta-Sandy Springs-Roswell, GA MSA   \n",
       "1     1001     Mickey  Wilkerson   28        Seattle-Tacoma-Bellevue, WA MSA   \n",
       "2     1002     Carlee    Hoffman   36   Las Vegas-Henderson-Paradise, NV MSA   \n",
       "3     1003   Reynaldo    Jenkins   52                          Tulsa, OK MSA   \n",
       "4     1004    Leonila   Thompson   40        Seattle-Tacoma-Bellevue, WA MSA   \n",
       "\n",
       "     reg_date      plan churn_date  \n",
       "0  2018-12-24  ultimate        NaN  \n",
       "1  2018-08-13      surf        NaN  \n",
       "2  2018-10-21      surf        NaN  \n",
       "3  2018-01-28      surf        NaN  \n",
       "4  2018-05-23      surf        NaN  "
      ]
     },
     "execution_count": 8,
     "metadata": {},
     "output_type": "execute_result"
    }
   ],
   "source": [
    "# Imprime la información general/resumida sobre el DataFrame de usuarios\n",
    "\n",
    "usuarios_df.head()"
   ]
  },
  {
   "cell_type": "code",
   "execution_count": 9,
   "metadata": {
    "id": "1IN1L9uh0q05",
    "trusted": false
   },
   "outputs": [
    {
     "name": "stdout",
     "output_type": "stream",
     "text": [
      "<class 'pandas.core.frame.DataFrame'>\n",
      "RangeIndex: 500 entries, 0 to 499\n",
      "Data columns (total 8 columns):\n",
      " #   Column      Non-Null Count  Dtype \n",
      "---  ------      --------------  ----- \n",
      " 0   user_id     500 non-null    int64 \n",
      " 1   first_name  500 non-null    object\n",
      " 2   last_name   500 non-null    object\n",
      " 3   age         500 non-null    int64 \n",
      " 4   city        500 non-null    object\n",
      " 5   reg_date    500 non-null    object\n",
      " 6   plan        500 non-null    object\n",
      " 7   churn_date  34 non-null     object\n",
      "dtypes: int64(2), object(6)\n",
      "memory usage: 31.4+ KB\n"
     ]
    }
   ],
   "source": [
    "# Imprime una muestra de datos para usuarios\n",
    "\n",
    "usuarios_df.info()"
   ]
  },
  {
   "cell_type": "markdown",
   "metadata": {
    "id": "dCZoUq4f0q06"
   },
   "source": [
    "[Describe lo que ves y observas en la información general y en la muestra de datos impresa para el precio de datos anterior. ¿Hay algún problema (tipos de datos no adecuados, datos ausentes, etc.) que pudieran necesitar investigación y cambios adicionales? ¿Cómo se puede arreglar?]"
   ]
  },
  {
   "cell_type": "markdown",
   "metadata": {
    "id": "BX5FQh_I0q06"
   },
   "source": [
    "### Corregir los datos"
   ]
  },
  {
   "cell_type": "markdown",
   "metadata": {
    "id": "8OdKMwJv0q06"
   },
   "source": [
    "[Corrige los problemas obvios con los datos basándote en las observaciones iniciales.]"
   ]
  },
  {
   "cell_type": "code",
   "execution_count": 10,
   "metadata": {
    "trusted": false
   },
   "outputs": [],
   "source": [
    "usuarios_df.rename(columns={'plan':'plan_id'}, inplace=True)  \n",
    "\n",
    "#inplace=True para que se modifique en la misma tabla y no se duplique"
   ]
  },
  {
   "cell_type": "code",
   "execution_count": 11,
   "metadata": {
    "trusted": false
   },
   "outputs": [
    {
     "data": {
      "text/html": [
       "<div>\n",
       "<style scoped>\n",
       "    .dataframe tbody tr th:only-of-type {\n",
       "        vertical-align: middle;\n",
       "    }\n",
       "\n",
       "    .dataframe tbody tr th {\n",
       "        vertical-align: top;\n",
       "    }\n",
       "\n",
       "    .dataframe thead th {\n",
       "        text-align: right;\n",
       "    }\n",
       "</style>\n",
       "<table border=\"1\" class=\"dataframe\">\n",
       "  <thead>\n",
       "    <tr style=\"text-align: right;\">\n",
       "      <th></th>\n",
       "      <th>user_id</th>\n",
       "      <th>first_name</th>\n",
       "      <th>last_name</th>\n",
       "      <th>age</th>\n",
       "      <th>city</th>\n",
       "      <th>reg_date</th>\n",
       "      <th>plan_id</th>\n",
       "      <th>churn_date</th>\n",
       "    </tr>\n",
       "  </thead>\n",
       "  <tbody>\n",
       "    <tr>\n",
       "      <th>0</th>\n",
       "      <td>1000</td>\n",
       "      <td>Anamaria</td>\n",
       "      <td>Bauer</td>\n",
       "      <td>45</td>\n",
       "      <td>Atlanta-Sandy Springs-Roswell, GA MSA</td>\n",
       "      <td>2018-12-24</td>\n",
       "      <td>ultimate</td>\n",
       "      <td>NaN</td>\n",
       "    </tr>\n",
       "    <tr>\n",
       "      <th>1</th>\n",
       "      <td>1001</td>\n",
       "      <td>Mickey</td>\n",
       "      <td>Wilkerson</td>\n",
       "      <td>28</td>\n",
       "      <td>Seattle-Tacoma-Bellevue, WA MSA</td>\n",
       "      <td>2018-08-13</td>\n",
       "      <td>surf</td>\n",
       "      <td>NaN</td>\n",
       "    </tr>\n",
       "    <tr>\n",
       "      <th>2</th>\n",
       "      <td>1002</td>\n",
       "      <td>Carlee</td>\n",
       "      <td>Hoffman</td>\n",
       "      <td>36</td>\n",
       "      <td>Las Vegas-Henderson-Paradise, NV MSA</td>\n",
       "      <td>2018-10-21</td>\n",
       "      <td>surf</td>\n",
       "      <td>NaN</td>\n",
       "    </tr>\n",
       "    <tr>\n",
       "      <th>3</th>\n",
       "      <td>1003</td>\n",
       "      <td>Reynaldo</td>\n",
       "      <td>Jenkins</td>\n",
       "      <td>52</td>\n",
       "      <td>Tulsa, OK MSA</td>\n",
       "      <td>2018-01-28</td>\n",
       "      <td>surf</td>\n",
       "      <td>NaN</td>\n",
       "    </tr>\n",
       "    <tr>\n",
       "      <th>4</th>\n",
       "      <td>1004</td>\n",
       "      <td>Leonila</td>\n",
       "      <td>Thompson</td>\n",
       "      <td>40</td>\n",
       "      <td>Seattle-Tacoma-Bellevue, WA MSA</td>\n",
       "      <td>2018-05-23</td>\n",
       "      <td>surf</td>\n",
       "      <td>NaN</td>\n",
       "    </tr>\n",
       "  </tbody>\n",
       "</table>\n",
       "</div>"
      ],
      "text/plain": [
       "   user_id first_name  last_name  age                                   city  \\\n",
       "0     1000   Anamaria      Bauer   45  Atlanta-Sandy Springs-Roswell, GA MSA   \n",
       "1     1001     Mickey  Wilkerson   28        Seattle-Tacoma-Bellevue, WA MSA   \n",
       "2     1002     Carlee    Hoffman   36   Las Vegas-Henderson-Paradise, NV MSA   \n",
       "3     1003   Reynaldo    Jenkins   52                          Tulsa, OK MSA   \n",
       "4     1004    Leonila   Thompson   40        Seattle-Tacoma-Bellevue, WA MSA   \n",
       "\n",
       "     reg_date   plan_id churn_date  \n",
       "0  2018-12-24  ultimate        NaN  \n",
       "1  2018-08-13      surf        NaN  \n",
       "2  2018-10-21      surf        NaN  \n",
       "3  2018-01-28      surf        NaN  \n",
       "4  2018-05-23      surf        NaN  "
      ]
     },
     "execution_count": 11,
     "metadata": {},
     "output_type": "execute_result"
    }
   ],
   "source": [
    "usuarios_df.head()"
   ]
  },
  {
   "cell_type": "markdown",
   "metadata": {
    "id": "ycwuARJp0q07"
   },
   "source": [
    "### Enriquecer los datos"
   ]
  },
  {
   "cell_type": "markdown",
   "metadata": {
    "id": "96NIh4CJ0q08"
   },
   "source": [
    "[Agrega factores adicionales a los datos si crees que pudieran ser útiles.]"
   ]
  },
  {
   "cell_type": "code",
   "execution_count": 12,
   "metadata": {
    "trusted": false
   },
   "outputs": [],
   "source": [
    "usuarios_df['reg_date'] = pd.to_datetime(usuarios_df['reg_date'], format='%Y-%m-%d')\n",
    "usuarios_df['reg_mes'] = pd.DatetimeIndex(usuarios_df['reg_date']).month"
   ]
  },
  {
   "cell_type": "code",
   "execution_count": 13,
   "metadata": {
    "trusted": false
   },
   "outputs": [],
   "source": [
    "usuarios_df['churn_date'] = pd.to_datetime(usuarios_df['churn_date'], format='%Y-%m-%d')\n",
    "usuarios_df['churn_mes'] = pd.DatetimeIndex(usuarios_df['churn_date']).month"
   ]
  },
  {
   "cell_type": "code",
   "execution_count": 14,
   "metadata": {
    "trusted": false
   },
   "outputs": [
    {
     "name": "stdout",
     "output_type": "stream",
     "text": [
      "<class 'pandas.core.frame.DataFrame'>\n",
      "RangeIndex: 500 entries, 0 to 499\n",
      "Data columns (total 10 columns):\n",
      " #   Column      Non-Null Count  Dtype         \n",
      "---  ------      --------------  -----         \n",
      " 0   user_id     500 non-null    int64         \n",
      " 1   first_name  500 non-null    object        \n",
      " 2   last_name   500 non-null    object        \n",
      " 3   age         500 non-null    int64         \n",
      " 4   city        500 non-null    object        \n",
      " 5   reg_date    500 non-null    datetime64[ns]\n",
      " 6   plan_id     500 non-null    object        \n",
      " 7   churn_date  34 non-null     datetime64[ns]\n",
      " 8   reg_mes     500 non-null    int64         \n",
      " 9   churn_mes   34 non-null     float64       \n",
      "dtypes: datetime64[ns](2), float64(1), int64(3), object(4)\n",
      "memory usage: 39.2+ KB\n"
     ]
    },
    {
     "data": {
      "text/html": [
       "<div>\n",
       "<style scoped>\n",
       "    .dataframe tbody tr th:only-of-type {\n",
       "        vertical-align: middle;\n",
       "    }\n",
       "\n",
       "    .dataframe tbody tr th {\n",
       "        vertical-align: top;\n",
       "    }\n",
       "\n",
       "    .dataframe thead th {\n",
       "        text-align: right;\n",
       "    }\n",
       "</style>\n",
       "<table border=\"1\" class=\"dataframe\">\n",
       "  <thead>\n",
       "    <tr style=\"text-align: right;\">\n",
       "      <th></th>\n",
       "      <th>user_id</th>\n",
       "      <th>first_name</th>\n",
       "      <th>last_name</th>\n",
       "      <th>age</th>\n",
       "      <th>city</th>\n",
       "      <th>reg_date</th>\n",
       "      <th>plan_id</th>\n",
       "      <th>churn_date</th>\n",
       "      <th>reg_mes</th>\n",
       "      <th>churn_mes</th>\n",
       "    </tr>\n",
       "  </thead>\n",
       "  <tbody>\n",
       "    <tr>\n",
       "      <th>0</th>\n",
       "      <td>1000</td>\n",
       "      <td>Anamaria</td>\n",
       "      <td>Bauer</td>\n",
       "      <td>45</td>\n",
       "      <td>Atlanta-Sandy Springs-Roswell, GA MSA</td>\n",
       "      <td>2018-12-24</td>\n",
       "      <td>ultimate</td>\n",
       "      <td>NaT</td>\n",
       "      <td>12</td>\n",
       "      <td>NaN</td>\n",
       "    </tr>\n",
       "    <tr>\n",
       "      <th>1</th>\n",
       "      <td>1001</td>\n",
       "      <td>Mickey</td>\n",
       "      <td>Wilkerson</td>\n",
       "      <td>28</td>\n",
       "      <td>Seattle-Tacoma-Bellevue, WA MSA</td>\n",
       "      <td>2018-08-13</td>\n",
       "      <td>surf</td>\n",
       "      <td>NaT</td>\n",
       "      <td>8</td>\n",
       "      <td>NaN</td>\n",
       "    </tr>\n",
       "    <tr>\n",
       "      <th>2</th>\n",
       "      <td>1002</td>\n",
       "      <td>Carlee</td>\n",
       "      <td>Hoffman</td>\n",
       "      <td>36</td>\n",
       "      <td>Las Vegas-Henderson-Paradise, NV MSA</td>\n",
       "      <td>2018-10-21</td>\n",
       "      <td>surf</td>\n",
       "      <td>NaT</td>\n",
       "      <td>10</td>\n",
       "      <td>NaN</td>\n",
       "    </tr>\n",
       "    <tr>\n",
       "      <th>3</th>\n",
       "      <td>1003</td>\n",
       "      <td>Reynaldo</td>\n",
       "      <td>Jenkins</td>\n",
       "      <td>52</td>\n",
       "      <td>Tulsa, OK MSA</td>\n",
       "      <td>2018-01-28</td>\n",
       "      <td>surf</td>\n",
       "      <td>NaT</td>\n",
       "      <td>1</td>\n",
       "      <td>NaN</td>\n",
       "    </tr>\n",
       "    <tr>\n",
       "      <th>4</th>\n",
       "      <td>1004</td>\n",
       "      <td>Leonila</td>\n",
       "      <td>Thompson</td>\n",
       "      <td>40</td>\n",
       "      <td>Seattle-Tacoma-Bellevue, WA MSA</td>\n",
       "      <td>2018-05-23</td>\n",
       "      <td>surf</td>\n",
       "      <td>NaT</td>\n",
       "      <td>5</td>\n",
       "      <td>NaN</td>\n",
       "    </tr>\n",
       "  </tbody>\n",
       "</table>\n",
       "</div>"
      ],
      "text/plain": [
       "   user_id first_name  last_name  age                                   city  \\\n",
       "0     1000   Anamaria      Bauer   45  Atlanta-Sandy Springs-Roswell, GA MSA   \n",
       "1     1001     Mickey  Wilkerson   28        Seattle-Tacoma-Bellevue, WA MSA   \n",
       "2     1002     Carlee    Hoffman   36   Las Vegas-Henderson-Paradise, NV MSA   \n",
       "3     1003   Reynaldo    Jenkins   52                          Tulsa, OK MSA   \n",
       "4     1004    Leonila   Thompson   40        Seattle-Tacoma-Bellevue, WA MSA   \n",
       "\n",
       "    reg_date   plan_id churn_date  reg_mes  churn_mes  \n",
       "0 2018-12-24  ultimate        NaT       12        NaN  \n",
       "1 2018-08-13      surf        NaT        8        NaN  \n",
       "2 2018-10-21      surf        NaT       10        NaN  \n",
       "3 2018-01-28      surf        NaT        1        NaN  \n",
       "4 2018-05-23      surf        NaT        5        NaN  "
      ]
     },
     "execution_count": 14,
     "metadata": {},
     "output_type": "execute_result"
    }
   ],
   "source": [
    "usuarios_df.info()\n",
    "usuarios_df.head()"
   ]
  },
  {
   "cell_type": "markdown",
   "metadata": {
    "id": "o7MeKCid0q08"
   },
   "source": [
    "## Llamadas"
   ]
  },
  {
   "cell_type": "code",
   "execution_count": 15,
   "metadata": {
    "id": "6dDlnoDm0q08",
    "trusted": false
   },
   "outputs": [
    {
     "name": "stdout",
     "output_type": "stream",
     "text": [
      "<class 'pandas.core.frame.DataFrame'>\n",
      "RangeIndex: 137735 entries, 0 to 137734\n",
      "Data columns (total 4 columns):\n",
      " #   Column     Non-Null Count   Dtype  \n",
      "---  ------     --------------   -----  \n",
      " 0   id         137735 non-null  object \n",
      " 1   user_id    137735 non-null  int64  \n",
      " 2   call_date  137735 non-null  object \n",
      " 3   duration   137735 non-null  float64\n",
      "dtypes: float64(1), int64(1), object(2)\n",
      "memory usage: 4.2+ MB\n"
     ]
    }
   ],
   "source": [
    "# Imprime la información general/resumida sobre el DataFrame de las llamadas\n",
    "\n",
    "llamadas_df.info()"
   ]
  },
  {
   "cell_type": "code",
   "execution_count": 16,
   "metadata": {
    "id": "kuh1vlNB0q09",
    "trusted": false
   },
   "outputs": [
    {
     "data": {
      "text/html": [
       "<div>\n",
       "<style scoped>\n",
       "    .dataframe tbody tr th:only-of-type {\n",
       "        vertical-align: middle;\n",
       "    }\n",
       "\n",
       "    .dataframe tbody tr th {\n",
       "        vertical-align: top;\n",
       "    }\n",
       "\n",
       "    .dataframe thead th {\n",
       "        text-align: right;\n",
       "    }\n",
       "</style>\n",
       "<table border=\"1\" class=\"dataframe\">\n",
       "  <thead>\n",
       "    <tr style=\"text-align: right;\">\n",
       "      <th></th>\n",
       "      <th>id</th>\n",
       "      <th>user_id</th>\n",
       "      <th>call_date</th>\n",
       "      <th>duration</th>\n",
       "    </tr>\n",
       "  </thead>\n",
       "  <tbody>\n",
       "    <tr>\n",
       "      <th>0</th>\n",
       "      <td>1000_93</td>\n",
       "      <td>1000</td>\n",
       "      <td>2018-12-27</td>\n",
       "      <td>8.52</td>\n",
       "    </tr>\n",
       "    <tr>\n",
       "      <th>1</th>\n",
       "      <td>1000_145</td>\n",
       "      <td>1000</td>\n",
       "      <td>2018-12-27</td>\n",
       "      <td>13.66</td>\n",
       "    </tr>\n",
       "    <tr>\n",
       "      <th>2</th>\n",
       "      <td>1000_247</td>\n",
       "      <td>1000</td>\n",
       "      <td>2018-12-27</td>\n",
       "      <td>14.48</td>\n",
       "    </tr>\n",
       "    <tr>\n",
       "      <th>3</th>\n",
       "      <td>1000_309</td>\n",
       "      <td>1000</td>\n",
       "      <td>2018-12-28</td>\n",
       "      <td>5.76</td>\n",
       "    </tr>\n",
       "    <tr>\n",
       "      <th>4</th>\n",
       "      <td>1000_380</td>\n",
       "      <td>1000</td>\n",
       "      <td>2018-12-30</td>\n",
       "      <td>4.22</td>\n",
       "    </tr>\n",
       "  </tbody>\n",
       "</table>\n",
       "</div>"
      ],
      "text/plain": [
       "         id  user_id   call_date  duration\n",
       "0   1000_93     1000  2018-12-27      8.52\n",
       "1  1000_145     1000  2018-12-27     13.66\n",
       "2  1000_247     1000  2018-12-27     14.48\n",
       "3  1000_309     1000  2018-12-28      5.76\n",
       "4  1000_380     1000  2018-12-30      4.22"
      ]
     },
     "execution_count": 16,
     "metadata": {},
     "output_type": "execute_result"
    }
   ],
   "source": [
    "# Imprime una muestra de datos para las llamadas\n",
    "\n",
    "llamadas_df.head()"
   ]
  },
  {
   "cell_type": "markdown",
   "metadata": {
    "id": "DOAxYJSx0q09"
   },
   "source": [
    "[Describe lo que ves y observas en la información general y en la muestra de datos impresa para el precio de datos anterior. ¿Hay algún problema (tipos de datos no adecuados, datos ausentes, etc.) que pudieran necesitar investigación y cambios adicionales? ¿Cómo se puede arreglar?]"
   ]
  },
  {
   "cell_type": "markdown",
   "metadata": {
    "id": "S7hzxmbX0q0-"
   },
   "source": [
    "### Corregir los datos"
   ]
  },
  {
   "cell_type": "markdown",
   "metadata": {
    "id": "YxWyAjD20q0-"
   },
   "source": [
    "[Corrige los problemas obvios con los datos basándote en las observaciones iniciales.]"
   ]
  },
  {
   "cell_type": "code",
   "execution_count": 17,
   "metadata": {
    "id": "S2r8xA4f0q0-",
    "trusted": false
   },
   "outputs": [
    {
     "data": {
      "text/html": [
       "<div>\n",
       "<style scoped>\n",
       "    .dataframe tbody tr th:only-of-type {\n",
       "        vertical-align: middle;\n",
       "    }\n",
       "\n",
       "    .dataframe tbody tr th {\n",
       "        vertical-align: top;\n",
       "    }\n",
       "\n",
       "    .dataframe thead th {\n",
       "        text-align: right;\n",
       "    }\n",
       "</style>\n",
       "<table border=\"1\" class=\"dataframe\">\n",
       "  <thead>\n",
       "    <tr style=\"text-align: right;\">\n",
       "      <th></th>\n",
       "      <th>call_id</th>\n",
       "      <th>user_id</th>\n",
       "      <th>call_date</th>\n",
       "      <th>duration</th>\n",
       "    </tr>\n",
       "  </thead>\n",
       "  <tbody>\n",
       "    <tr>\n",
       "      <th>0</th>\n",
       "      <td>1000_93</td>\n",
       "      <td>1000</td>\n",
       "      <td>2018-12-27</td>\n",
       "      <td>8.52</td>\n",
       "    </tr>\n",
       "    <tr>\n",
       "      <th>1</th>\n",
       "      <td>1000_145</td>\n",
       "      <td>1000</td>\n",
       "      <td>2018-12-27</td>\n",
       "      <td>13.66</td>\n",
       "    </tr>\n",
       "    <tr>\n",
       "      <th>2</th>\n",
       "      <td>1000_247</td>\n",
       "      <td>1000</td>\n",
       "      <td>2018-12-27</td>\n",
       "      <td>14.48</td>\n",
       "    </tr>\n",
       "    <tr>\n",
       "      <th>3</th>\n",
       "      <td>1000_309</td>\n",
       "      <td>1000</td>\n",
       "      <td>2018-12-28</td>\n",
       "      <td>5.76</td>\n",
       "    </tr>\n",
       "    <tr>\n",
       "      <th>4</th>\n",
       "      <td>1000_380</td>\n",
       "      <td>1000</td>\n",
       "      <td>2018-12-30</td>\n",
       "      <td>4.22</td>\n",
       "    </tr>\n",
       "  </tbody>\n",
       "</table>\n",
       "</div>"
      ],
      "text/plain": [
       "    call_id  user_id   call_date  duration\n",
       "0   1000_93     1000  2018-12-27      8.52\n",
       "1  1000_145     1000  2018-12-27     13.66\n",
       "2  1000_247     1000  2018-12-27     14.48\n",
       "3  1000_309     1000  2018-12-28      5.76\n",
       "4  1000_380     1000  2018-12-30      4.22"
      ]
     },
     "execution_count": 17,
     "metadata": {},
     "output_type": "execute_result"
    }
   ],
   "source": [
    "llamadas_df.rename(columns={'id':'call_id'}, inplace=True)\n",
    "llamadas_df.head()"
   ]
  },
  {
   "cell_type": "markdown",
   "metadata": {
    "id": "KrMgTrlG0q0_"
   },
   "source": [
    "### Enriquecer los datos"
   ]
  },
  {
   "cell_type": "markdown",
   "metadata": {
    "id": "a9MbmEvE0q0_"
   },
   "source": [
    "[Agrega factores adicionales a los datos si crees que pudieran ser útiles.]"
   ]
  },
  {
   "cell_type": "code",
   "execution_count": 18,
   "metadata": {
    "id": "iZ1avpA_0q0_",
    "trusted": false
   },
   "outputs": [
    {
     "data": {
      "text/plain": [
       "call_id      0\n",
       "user_id      0\n",
       "call_date    0\n",
       "duration     0\n",
       "dtype: int64"
      ]
     },
     "execution_count": 18,
     "metadata": {},
     "output_type": "execute_result"
    }
   ],
   "source": [
    "llamadas_df.isna().sum()"
   ]
  },
  {
   "cell_type": "code",
   "execution_count": 19,
   "metadata": {
    "trusted": false
   },
   "outputs": [
    {
     "data": {
      "text/plain": [
       "0"
      ]
     },
     "execution_count": 19,
     "metadata": {},
     "output_type": "execute_result"
    }
   ],
   "source": [
    "llamadas_df.duplicated().sum()"
   ]
  },
  {
   "cell_type": "code",
   "execution_count": 20,
   "metadata": {
    "trusted": false
   },
   "outputs": [
    {
     "data": {
      "text/plain": [
       "0"
      ]
     },
     "execution_count": 20,
     "metadata": {},
     "output_type": "execute_result"
    }
   ],
   "source": [
    "llamadas_df.duplicated(subset=['call_id', 'user_id']).sum()"
   ]
  },
  {
   "cell_type": "code",
   "execution_count": 21,
   "metadata": {
    "trusted": false
   },
   "outputs": [],
   "source": [
    "llamadas_df['call_date'] = pd.to_datetime(llamadas_df['call_date'], format='%Y-%m-%d')\n",
    "llamadas_df['mes'] = pd.DatetimeIndex(llamadas_df['call_date']).month"
   ]
  },
  {
   "cell_type": "code",
   "execution_count": 22,
   "metadata": {
    "trusted": false
   },
   "outputs": [
    {
     "name": "stdout",
     "output_type": "stream",
     "text": [
      "<class 'pandas.core.frame.DataFrame'>\n",
      "RangeIndex: 137735 entries, 0 to 137734\n",
      "Data columns (total 5 columns):\n",
      " #   Column     Non-Null Count   Dtype         \n",
      "---  ------     --------------   -----         \n",
      " 0   call_id    137735 non-null  object        \n",
      " 1   user_id    137735 non-null  int64         \n",
      " 2   call_date  137735 non-null  datetime64[ns]\n",
      " 3   duration   137735 non-null  float64       \n",
      " 4   mes        137735 non-null  int64         \n",
      "dtypes: datetime64[ns](1), float64(1), int64(2), object(1)\n",
      "memory usage: 5.3+ MB\n"
     ]
    }
   ],
   "source": [
    "llamadas_df.info()"
   ]
  },
  {
   "cell_type": "code",
   "execution_count": 23,
   "metadata": {
    "trusted": false
   },
   "outputs": [
    {
     "data": {
      "text/html": [
       "<div>\n",
       "<style scoped>\n",
       "    .dataframe tbody tr th:only-of-type {\n",
       "        vertical-align: middle;\n",
       "    }\n",
       "\n",
       "    .dataframe tbody tr th {\n",
       "        vertical-align: top;\n",
       "    }\n",
       "\n",
       "    .dataframe thead th {\n",
       "        text-align: right;\n",
       "    }\n",
       "</style>\n",
       "<table border=\"1\" class=\"dataframe\">\n",
       "  <thead>\n",
       "    <tr style=\"text-align: right;\">\n",
       "      <th></th>\n",
       "      <th>call_id</th>\n",
       "      <th>user_id</th>\n",
       "      <th>call_date</th>\n",
       "      <th>duration</th>\n",
       "      <th>mes</th>\n",
       "    </tr>\n",
       "  </thead>\n",
       "  <tbody>\n",
       "    <tr>\n",
       "      <th>0</th>\n",
       "      <td>1000_93</td>\n",
       "      <td>1000</td>\n",
       "      <td>2018-12-27</td>\n",
       "      <td>8.52</td>\n",
       "      <td>12</td>\n",
       "    </tr>\n",
       "    <tr>\n",
       "      <th>1</th>\n",
       "      <td>1000_145</td>\n",
       "      <td>1000</td>\n",
       "      <td>2018-12-27</td>\n",
       "      <td>13.66</td>\n",
       "      <td>12</td>\n",
       "    </tr>\n",
       "    <tr>\n",
       "      <th>2</th>\n",
       "      <td>1000_247</td>\n",
       "      <td>1000</td>\n",
       "      <td>2018-12-27</td>\n",
       "      <td>14.48</td>\n",
       "      <td>12</td>\n",
       "    </tr>\n",
       "    <tr>\n",
       "      <th>3</th>\n",
       "      <td>1000_309</td>\n",
       "      <td>1000</td>\n",
       "      <td>2018-12-28</td>\n",
       "      <td>5.76</td>\n",
       "      <td>12</td>\n",
       "    </tr>\n",
       "    <tr>\n",
       "      <th>4</th>\n",
       "      <td>1000_380</td>\n",
       "      <td>1000</td>\n",
       "      <td>2018-12-30</td>\n",
       "      <td>4.22</td>\n",
       "      <td>12</td>\n",
       "    </tr>\n",
       "  </tbody>\n",
       "</table>\n",
       "</div>"
      ],
      "text/plain": [
       "    call_id  user_id  call_date  duration  mes\n",
       "0   1000_93     1000 2018-12-27      8.52   12\n",
       "1  1000_145     1000 2018-12-27     13.66   12\n",
       "2  1000_247     1000 2018-12-27     14.48   12\n",
       "3  1000_309     1000 2018-12-28      5.76   12\n",
       "4  1000_380     1000 2018-12-30      4.22   12"
      ]
     },
     "execution_count": 23,
     "metadata": {},
     "output_type": "execute_result"
    }
   ],
   "source": [
    "llamadas_df.head()"
   ]
  },
  {
   "cell_type": "code",
   "execution_count": 24,
   "metadata": {
    "trusted": false
   },
   "outputs": [
    {
     "data": {
      "text/html": [
       "<div>\n",
       "<style scoped>\n",
       "    .dataframe tbody tr th:only-of-type {\n",
       "        vertical-align: middle;\n",
       "    }\n",
       "\n",
       "    .dataframe tbody tr th {\n",
       "        vertical-align: top;\n",
       "    }\n",
       "\n",
       "    .dataframe thead th {\n",
       "        text-align: right;\n",
       "    }\n",
       "</style>\n",
       "<table border=\"1\" class=\"dataframe\">\n",
       "  <thead>\n",
       "    <tr style=\"text-align: right;\">\n",
       "      <th></th>\n",
       "      <th>user_id</th>\n",
       "      <th>duration</th>\n",
       "      <th>mes</th>\n",
       "    </tr>\n",
       "  </thead>\n",
       "  <tbody>\n",
       "    <tr>\n",
       "      <th>count</th>\n",
       "      <td>137735.000000</td>\n",
       "      <td>137735.000000</td>\n",
       "      <td>137735.000000</td>\n",
       "    </tr>\n",
       "    <tr>\n",
       "      <th>mean</th>\n",
       "      <td>1247.658046</td>\n",
       "      <td>6.745927</td>\n",
       "      <td>9.320797</td>\n",
       "    </tr>\n",
       "    <tr>\n",
       "      <th>std</th>\n",
       "      <td>139.416268</td>\n",
       "      <td>5.839241</td>\n",
       "      <td>2.412550</td>\n",
       "    </tr>\n",
       "    <tr>\n",
       "      <th>min</th>\n",
       "      <td>1000.000000</td>\n",
       "      <td>0.000000</td>\n",
       "      <td>1.000000</td>\n",
       "    </tr>\n",
       "    <tr>\n",
       "      <th>25%</th>\n",
       "      <td>1128.000000</td>\n",
       "      <td>1.290000</td>\n",
       "      <td>8.000000</td>\n",
       "    </tr>\n",
       "    <tr>\n",
       "      <th>50%</th>\n",
       "      <td>1247.000000</td>\n",
       "      <td>5.980000</td>\n",
       "      <td>10.000000</td>\n",
       "    </tr>\n",
       "    <tr>\n",
       "      <th>75%</th>\n",
       "      <td>1365.000000</td>\n",
       "      <td>10.690000</td>\n",
       "      <td>11.000000</td>\n",
       "    </tr>\n",
       "    <tr>\n",
       "      <th>max</th>\n",
       "      <td>1499.000000</td>\n",
       "      <td>37.600000</td>\n",
       "      <td>12.000000</td>\n",
       "    </tr>\n",
       "  </tbody>\n",
       "</table>\n",
       "</div>"
      ],
      "text/plain": [
       "             user_id       duration            mes\n",
       "count  137735.000000  137735.000000  137735.000000\n",
       "mean     1247.658046       6.745927       9.320797\n",
       "std       139.416268       5.839241       2.412550\n",
       "min      1000.000000       0.000000       1.000000\n",
       "25%      1128.000000       1.290000       8.000000\n",
       "50%      1247.000000       5.980000      10.000000\n",
       "75%      1365.000000      10.690000      11.000000\n",
       "max      1499.000000      37.600000      12.000000"
      ]
     },
     "execution_count": 24,
     "metadata": {},
     "output_type": "execute_result"
    }
   ],
   "source": [
    "llamadas_df.describe()"
   ]
  },
  {
   "cell_type": "markdown",
   "metadata": {
    "id": "mOUZSi180q0_"
   },
   "source": [
    "## Mensajes"
   ]
  },
  {
   "cell_type": "code",
   "execution_count": 25,
   "metadata": {
    "trusted": false
   },
   "outputs": [
    {
     "name": "stdout",
     "output_type": "stream",
     "text": [
      "<class 'pandas.core.frame.DataFrame'>\n",
      "RangeIndex: 76051 entries, 0 to 76050\n",
      "Data columns (total 3 columns):\n",
      " #   Column        Non-Null Count  Dtype \n",
      "---  ------        --------------  ----- \n",
      " 0   id            76051 non-null  object\n",
      " 1   user_id       76051 non-null  int64 \n",
      " 2   message_date  76051 non-null  object\n",
      "dtypes: int64(1), object(2)\n",
      "memory usage: 1.7+ MB\n"
     ]
    }
   ],
   "source": [
    "# Imprime la información general/resumida sobre el DataFrame de los mensajes\n",
    "\n",
    "mensajes_df.info()"
   ]
  },
  {
   "cell_type": "code",
   "execution_count": 26,
   "metadata": {
    "id": "mCEl2iGE0q1A",
    "trusted": false
   },
   "outputs": [
    {
     "data": {
      "text/html": [
       "<div>\n",
       "<style scoped>\n",
       "    .dataframe tbody tr th:only-of-type {\n",
       "        vertical-align: middle;\n",
       "    }\n",
       "\n",
       "    .dataframe tbody tr th {\n",
       "        vertical-align: top;\n",
       "    }\n",
       "\n",
       "    .dataframe thead th {\n",
       "        text-align: right;\n",
       "    }\n",
       "</style>\n",
       "<table border=\"1\" class=\"dataframe\">\n",
       "  <thead>\n",
       "    <tr style=\"text-align: right;\">\n",
       "      <th></th>\n",
       "      <th>id</th>\n",
       "      <th>user_id</th>\n",
       "      <th>message_date</th>\n",
       "    </tr>\n",
       "  </thead>\n",
       "  <tbody>\n",
       "    <tr>\n",
       "      <th>0</th>\n",
       "      <td>1000_125</td>\n",
       "      <td>1000</td>\n",
       "      <td>2018-12-27</td>\n",
       "    </tr>\n",
       "    <tr>\n",
       "      <th>1</th>\n",
       "      <td>1000_160</td>\n",
       "      <td>1000</td>\n",
       "      <td>2018-12-31</td>\n",
       "    </tr>\n",
       "    <tr>\n",
       "      <th>2</th>\n",
       "      <td>1000_223</td>\n",
       "      <td>1000</td>\n",
       "      <td>2018-12-31</td>\n",
       "    </tr>\n",
       "    <tr>\n",
       "      <th>3</th>\n",
       "      <td>1000_251</td>\n",
       "      <td>1000</td>\n",
       "      <td>2018-12-27</td>\n",
       "    </tr>\n",
       "    <tr>\n",
       "      <th>4</th>\n",
       "      <td>1000_255</td>\n",
       "      <td>1000</td>\n",
       "      <td>2018-12-26</td>\n",
       "    </tr>\n",
       "  </tbody>\n",
       "</table>\n",
       "</div>"
      ],
      "text/plain": [
       "         id  user_id message_date\n",
       "0  1000_125     1000   2018-12-27\n",
       "1  1000_160     1000   2018-12-31\n",
       "2  1000_223     1000   2018-12-31\n",
       "3  1000_251     1000   2018-12-27\n",
       "4  1000_255     1000   2018-12-26"
      ]
     },
     "execution_count": 26,
     "metadata": {},
     "output_type": "execute_result"
    }
   ],
   "source": [
    "# Imprime una muestra de datos para los mensajes\n",
    "\n",
    "mensajes_df.head()"
   ]
  },
  {
   "cell_type": "markdown",
   "metadata": {
    "id": "04xDj7KH0q1A"
   },
   "source": [
    "[Describe lo que ves y observas en la información general y en la muestra de datos impresa para el precio de datos anterior. ¿Hay algún problema (tipos de datos no adecuados, datos ausentes, etc.) que pudieran necesitar investigación y cambios adicionales? ¿Cómo se puede arreglar?]"
   ]
  },
  {
   "cell_type": "markdown",
   "metadata": {
    "id": "Sprfak900q1B"
   },
   "source": [
    "### Corregir los datos"
   ]
  },
  {
   "cell_type": "markdown",
   "metadata": {
    "id": "eGw7d9j10q1B"
   },
   "source": [
    "[Corrige los problemas obvios con los datos basándote en las observaciones iniciales.]"
   ]
  },
  {
   "cell_type": "code",
   "execution_count": 27,
   "metadata": {
    "id": "vsllvkoa0q1B",
    "trusted": false
   },
   "outputs": [
    {
     "data": {
      "text/html": [
       "<div>\n",
       "<style scoped>\n",
       "    .dataframe tbody tr th:only-of-type {\n",
       "        vertical-align: middle;\n",
       "    }\n",
       "\n",
       "    .dataframe tbody tr th {\n",
       "        vertical-align: top;\n",
       "    }\n",
       "\n",
       "    .dataframe thead th {\n",
       "        text-align: right;\n",
       "    }\n",
       "</style>\n",
       "<table border=\"1\" class=\"dataframe\">\n",
       "  <thead>\n",
       "    <tr style=\"text-align: right;\">\n",
       "      <th></th>\n",
       "      <th>mensaje_id</th>\n",
       "      <th>user_id</th>\n",
       "      <th>message_date</th>\n",
       "    </tr>\n",
       "  </thead>\n",
       "  <tbody>\n",
       "    <tr>\n",
       "      <th>0</th>\n",
       "      <td>1000_125</td>\n",
       "      <td>1000</td>\n",
       "      <td>2018-12-27</td>\n",
       "    </tr>\n",
       "    <tr>\n",
       "      <th>1</th>\n",
       "      <td>1000_160</td>\n",
       "      <td>1000</td>\n",
       "      <td>2018-12-31</td>\n",
       "    </tr>\n",
       "    <tr>\n",
       "      <th>2</th>\n",
       "      <td>1000_223</td>\n",
       "      <td>1000</td>\n",
       "      <td>2018-12-31</td>\n",
       "    </tr>\n",
       "    <tr>\n",
       "      <th>3</th>\n",
       "      <td>1000_251</td>\n",
       "      <td>1000</td>\n",
       "      <td>2018-12-27</td>\n",
       "    </tr>\n",
       "    <tr>\n",
       "      <th>4</th>\n",
       "      <td>1000_255</td>\n",
       "      <td>1000</td>\n",
       "      <td>2018-12-26</td>\n",
       "    </tr>\n",
       "  </tbody>\n",
       "</table>\n",
       "</div>"
      ],
      "text/plain": [
       "  mensaje_id  user_id message_date\n",
       "0   1000_125     1000   2018-12-27\n",
       "1   1000_160     1000   2018-12-31\n",
       "2   1000_223     1000   2018-12-31\n",
       "3   1000_251     1000   2018-12-27\n",
       "4   1000_255     1000   2018-12-26"
      ]
     },
     "execution_count": 27,
     "metadata": {},
     "output_type": "execute_result"
    }
   ],
   "source": [
    "mensajes_df.rename(columns={'id':'mensaje_id'}, inplace=True)\n",
    "mensajes_df.head()"
   ]
  },
  {
   "cell_type": "markdown",
   "metadata": {
    "id": "HvLid7iD0q1B"
   },
   "source": [
    "### Enriquecer los datos"
   ]
  },
  {
   "cell_type": "markdown",
   "metadata": {
    "id": "8nhPFKIe0q1C"
   },
   "source": [
    "[Agrega factores adicionales a los datos si crees que pudieran ser útiles.]"
   ]
  },
  {
   "cell_type": "code",
   "execution_count": 28,
   "metadata": {
    "id": "zYEXZac10q1C",
    "trusted": false
   },
   "outputs": [
    {
     "name": "stdout",
     "output_type": "stream",
     "text": [
      "<class 'pandas.core.frame.DataFrame'>\n",
      "RangeIndex: 76051 entries, 0 to 76050\n",
      "Data columns (total 4 columns):\n",
      " #   Column        Non-Null Count  Dtype         \n",
      "---  ------        --------------  -----         \n",
      " 0   mensaje_id    76051 non-null  object        \n",
      " 1   user_id       76051 non-null  int64         \n",
      " 2   message_date  76051 non-null  datetime64[ns]\n",
      " 3   mes           76051 non-null  int64         \n",
      "dtypes: datetime64[ns](1), int64(2), object(1)\n",
      "memory usage: 2.3+ MB\n"
     ]
    },
    {
     "data": {
      "text/html": [
       "<div>\n",
       "<style scoped>\n",
       "    .dataframe tbody tr th:only-of-type {\n",
       "        vertical-align: middle;\n",
       "    }\n",
       "\n",
       "    .dataframe tbody tr th {\n",
       "        vertical-align: top;\n",
       "    }\n",
       "\n",
       "    .dataframe thead th {\n",
       "        text-align: right;\n",
       "    }\n",
       "</style>\n",
       "<table border=\"1\" class=\"dataframe\">\n",
       "  <thead>\n",
       "    <tr style=\"text-align: right;\">\n",
       "      <th></th>\n",
       "      <th>mensaje_id</th>\n",
       "      <th>user_id</th>\n",
       "      <th>message_date</th>\n",
       "      <th>mes</th>\n",
       "    </tr>\n",
       "  </thead>\n",
       "  <tbody>\n",
       "    <tr>\n",
       "      <th>0</th>\n",
       "      <td>1000_125</td>\n",
       "      <td>1000</td>\n",
       "      <td>2018-12-27</td>\n",
       "      <td>12</td>\n",
       "    </tr>\n",
       "    <tr>\n",
       "      <th>1</th>\n",
       "      <td>1000_160</td>\n",
       "      <td>1000</td>\n",
       "      <td>2018-12-31</td>\n",
       "      <td>12</td>\n",
       "    </tr>\n",
       "    <tr>\n",
       "      <th>2</th>\n",
       "      <td>1000_223</td>\n",
       "      <td>1000</td>\n",
       "      <td>2018-12-31</td>\n",
       "      <td>12</td>\n",
       "    </tr>\n",
       "    <tr>\n",
       "      <th>3</th>\n",
       "      <td>1000_251</td>\n",
       "      <td>1000</td>\n",
       "      <td>2018-12-27</td>\n",
       "      <td>12</td>\n",
       "    </tr>\n",
       "    <tr>\n",
       "      <th>4</th>\n",
       "      <td>1000_255</td>\n",
       "      <td>1000</td>\n",
       "      <td>2018-12-26</td>\n",
       "      <td>12</td>\n",
       "    </tr>\n",
       "  </tbody>\n",
       "</table>\n",
       "</div>"
      ],
      "text/plain": [
       "  mensaje_id  user_id message_date  mes\n",
       "0   1000_125     1000   2018-12-27   12\n",
       "1   1000_160     1000   2018-12-31   12\n",
       "2   1000_223     1000   2018-12-31   12\n",
       "3   1000_251     1000   2018-12-27   12\n",
       "4   1000_255     1000   2018-12-26   12"
      ]
     },
     "execution_count": 28,
     "metadata": {},
     "output_type": "execute_result"
    }
   ],
   "source": [
    "mensajes_df['message_date'] = pd.to_datetime(mensajes_df['message_date'], format='%Y-%m-%d')\n",
    "mensajes_df['mes'] = pd.DatetimeIndex(mensajes_df['message_date']).month\n",
    "mensajes_df.info()\n",
    "mensajes_df.head()"
   ]
  },
  {
   "cell_type": "code",
   "execution_count": 29,
   "metadata": {
    "trusted": false
   },
   "outputs": [
    {
     "data": {
      "text/plain": [
       "0"
      ]
     },
     "execution_count": 29,
     "metadata": {},
     "output_type": "execute_result"
    }
   ],
   "source": [
    "mensajes_df.duplicated().sum()"
   ]
  },
  {
   "cell_type": "markdown",
   "metadata": {
    "id": "bStkaxn40q1C"
   },
   "source": [
    "## Internet"
   ]
  },
  {
   "cell_type": "code",
   "execution_count": 30,
   "metadata": {
    "id": "e-Uz5qyn0q1C",
    "trusted": false
   },
   "outputs": [
    {
     "name": "stdout",
     "output_type": "stream",
     "text": [
      "<class 'pandas.core.frame.DataFrame'>\n",
      "RangeIndex: 104825 entries, 0 to 104824\n",
      "Data columns (total 4 columns):\n",
      " #   Column        Non-Null Count   Dtype  \n",
      "---  ------        --------------   -----  \n",
      " 0   id            104825 non-null  object \n",
      " 1   user_id       104825 non-null  int64  \n",
      " 2   session_date  104825 non-null  object \n",
      " 3   mb_used       104825 non-null  float64\n",
      "dtypes: float64(1), int64(1), object(2)\n",
      "memory usage: 3.2+ MB\n"
     ]
    }
   ],
   "source": [
    "# Imprime la información general/resumida sobre el DataFrame de internet\n",
    "\n",
    "internet_df.info()"
   ]
  },
  {
   "cell_type": "code",
   "execution_count": 31,
   "metadata": {
    "id": "9r3x_XLw0q1C",
    "trusted": false
   },
   "outputs": [
    {
     "data": {
      "text/html": [
       "<div>\n",
       "<style scoped>\n",
       "    .dataframe tbody tr th:only-of-type {\n",
       "        vertical-align: middle;\n",
       "    }\n",
       "\n",
       "    .dataframe tbody tr th {\n",
       "        vertical-align: top;\n",
       "    }\n",
       "\n",
       "    .dataframe thead th {\n",
       "        text-align: right;\n",
       "    }\n",
       "</style>\n",
       "<table border=\"1\" class=\"dataframe\">\n",
       "  <thead>\n",
       "    <tr style=\"text-align: right;\">\n",
       "      <th></th>\n",
       "      <th>id</th>\n",
       "      <th>user_id</th>\n",
       "      <th>session_date</th>\n",
       "      <th>mb_used</th>\n",
       "    </tr>\n",
       "  </thead>\n",
       "  <tbody>\n",
       "    <tr>\n",
       "      <th>0</th>\n",
       "      <td>1000_13</td>\n",
       "      <td>1000</td>\n",
       "      <td>2018-12-29</td>\n",
       "      <td>89.86</td>\n",
       "    </tr>\n",
       "    <tr>\n",
       "      <th>1</th>\n",
       "      <td>1000_204</td>\n",
       "      <td>1000</td>\n",
       "      <td>2018-12-31</td>\n",
       "      <td>0.00</td>\n",
       "    </tr>\n",
       "    <tr>\n",
       "      <th>2</th>\n",
       "      <td>1000_379</td>\n",
       "      <td>1000</td>\n",
       "      <td>2018-12-28</td>\n",
       "      <td>660.40</td>\n",
       "    </tr>\n",
       "    <tr>\n",
       "      <th>3</th>\n",
       "      <td>1000_413</td>\n",
       "      <td>1000</td>\n",
       "      <td>2018-12-26</td>\n",
       "      <td>270.99</td>\n",
       "    </tr>\n",
       "    <tr>\n",
       "      <th>4</th>\n",
       "      <td>1000_442</td>\n",
       "      <td>1000</td>\n",
       "      <td>2018-12-27</td>\n",
       "      <td>880.22</td>\n",
       "    </tr>\n",
       "  </tbody>\n",
       "</table>\n",
       "</div>"
      ],
      "text/plain": [
       "         id  user_id session_date  mb_used\n",
       "0   1000_13     1000   2018-12-29    89.86\n",
       "1  1000_204     1000   2018-12-31     0.00\n",
       "2  1000_379     1000   2018-12-28   660.40\n",
       "3  1000_413     1000   2018-12-26   270.99\n",
       "4  1000_442     1000   2018-12-27   880.22"
      ]
     },
     "execution_count": 31,
     "metadata": {},
     "output_type": "execute_result"
    }
   ],
   "source": [
    "# Imprime una muestra de datos para el tráfico de internet\n",
    "\n",
    "internet_df.head()"
   ]
  },
  {
   "cell_type": "markdown",
   "metadata": {
    "id": "EzOG5ik30q1D"
   },
   "source": [
    "[Describe lo que ves y observas en la información general y en la muestra de datos impresa para el precio de datos anterior. ¿Hay algún problema (tipos de datos no adecuados, datos ausentes, etc.) que pudieran necesitar investigación y cambios adicionales? ¿Cómo se puede arreglar?]"
   ]
  },
  {
   "cell_type": "markdown",
   "metadata": {
    "id": "yA0tkPFg0q1D"
   },
   "source": [
    "### Corregir los datos"
   ]
  },
  {
   "cell_type": "markdown",
   "metadata": {
    "id": "zlZMuIEK0q1D"
   },
   "source": [
    "[Corrige los problemas obvios con los datos basándote en las observaciones iniciales.]"
   ]
  },
  {
   "cell_type": "code",
   "execution_count": 32,
   "metadata": {
    "id": "zVeanzdd0q1E",
    "trusted": false
   },
   "outputs": [
    {
     "data": {
      "text/html": [
       "<div>\n",
       "<style scoped>\n",
       "    .dataframe tbody tr th:only-of-type {\n",
       "        vertical-align: middle;\n",
       "    }\n",
       "\n",
       "    .dataframe tbody tr th {\n",
       "        vertical-align: top;\n",
       "    }\n",
       "\n",
       "    .dataframe thead th {\n",
       "        text-align: right;\n",
       "    }\n",
       "</style>\n",
       "<table border=\"1\" class=\"dataframe\">\n",
       "  <thead>\n",
       "    <tr style=\"text-align: right;\">\n",
       "      <th></th>\n",
       "      <th>internet_id</th>\n",
       "      <th>user_id</th>\n",
       "      <th>session_date</th>\n",
       "      <th>mb_used</th>\n",
       "    </tr>\n",
       "  </thead>\n",
       "  <tbody>\n",
       "    <tr>\n",
       "      <th>0</th>\n",
       "      <td>1000_13</td>\n",
       "      <td>1000</td>\n",
       "      <td>2018-12-29</td>\n",
       "      <td>89.86</td>\n",
       "    </tr>\n",
       "    <tr>\n",
       "      <th>1</th>\n",
       "      <td>1000_204</td>\n",
       "      <td>1000</td>\n",
       "      <td>2018-12-31</td>\n",
       "      <td>0.00</td>\n",
       "    </tr>\n",
       "    <tr>\n",
       "      <th>2</th>\n",
       "      <td>1000_379</td>\n",
       "      <td>1000</td>\n",
       "      <td>2018-12-28</td>\n",
       "      <td>660.40</td>\n",
       "    </tr>\n",
       "    <tr>\n",
       "      <th>3</th>\n",
       "      <td>1000_413</td>\n",
       "      <td>1000</td>\n",
       "      <td>2018-12-26</td>\n",
       "      <td>270.99</td>\n",
       "    </tr>\n",
       "    <tr>\n",
       "      <th>4</th>\n",
       "      <td>1000_442</td>\n",
       "      <td>1000</td>\n",
       "      <td>2018-12-27</td>\n",
       "      <td>880.22</td>\n",
       "    </tr>\n",
       "    <tr>\n",
       "      <th>...</th>\n",
       "      <td>...</td>\n",
       "      <td>...</td>\n",
       "      <td>...</td>\n",
       "      <td>...</td>\n",
       "    </tr>\n",
       "    <tr>\n",
       "      <th>104820</th>\n",
       "      <td>1499_215</td>\n",
       "      <td>1499</td>\n",
       "      <td>2018-10-20</td>\n",
       "      <td>218.06</td>\n",
       "    </tr>\n",
       "    <tr>\n",
       "      <th>104821</th>\n",
       "      <td>1499_216</td>\n",
       "      <td>1499</td>\n",
       "      <td>2018-12-30</td>\n",
       "      <td>304.72</td>\n",
       "    </tr>\n",
       "    <tr>\n",
       "      <th>104822</th>\n",
       "      <td>1499_217</td>\n",
       "      <td>1499</td>\n",
       "      <td>2018-09-22</td>\n",
       "      <td>292.75</td>\n",
       "    </tr>\n",
       "    <tr>\n",
       "      <th>104823</th>\n",
       "      <td>1499_218</td>\n",
       "      <td>1499</td>\n",
       "      <td>2018-12-07</td>\n",
       "      <td>0.00</td>\n",
       "    </tr>\n",
       "    <tr>\n",
       "      <th>104824</th>\n",
       "      <td>1499_219</td>\n",
       "      <td>1499</td>\n",
       "      <td>2018-12-24</td>\n",
       "      <td>758.31</td>\n",
       "    </tr>\n",
       "  </tbody>\n",
       "</table>\n",
       "<p>104825 rows × 4 columns</p>\n",
       "</div>"
      ],
      "text/plain": [
       "       internet_id  user_id session_date  mb_used\n",
       "0          1000_13     1000   2018-12-29    89.86\n",
       "1         1000_204     1000   2018-12-31     0.00\n",
       "2         1000_379     1000   2018-12-28   660.40\n",
       "3         1000_413     1000   2018-12-26   270.99\n",
       "4         1000_442     1000   2018-12-27   880.22\n",
       "...            ...      ...          ...      ...\n",
       "104820    1499_215     1499   2018-10-20   218.06\n",
       "104821    1499_216     1499   2018-12-30   304.72\n",
       "104822    1499_217     1499   2018-09-22   292.75\n",
       "104823    1499_218     1499   2018-12-07     0.00\n",
       "104824    1499_219     1499   2018-12-24   758.31\n",
       "\n",
       "[104825 rows x 4 columns]"
      ]
     },
     "execution_count": 32,
     "metadata": {},
     "output_type": "execute_result"
    }
   ],
   "source": [
    "internet_df.rename(columns={'id':'internet_id'}, inplace=True)\n",
    "internet_df"
   ]
  },
  {
   "cell_type": "markdown",
   "metadata": {
    "id": "e8_mLF4a0q1E"
   },
   "source": [
    "### Enriquecer los datos"
   ]
  },
  {
   "cell_type": "markdown",
   "metadata": {
    "id": "xhNdn2tE0q1E"
   },
   "source": [
    "[Agrega factores adicionales a los datos si crees que pudieran ser útiles.]"
   ]
  },
  {
   "cell_type": "code",
   "execution_count": 33,
   "metadata": {
    "id": "ESiYPIEK0q1E",
    "trusted": false
   },
   "outputs": [
    {
     "data": {
      "text/html": [
       "<div>\n",
       "<style scoped>\n",
       "    .dataframe tbody tr th:only-of-type {\n",
       "        vertical-align: middle;\n",
       "    }\n",
       "\n",
       "    .dataframe tbody tr th {\n",
       "        vertical-align: top;\n",
       "    }\n",
       "\n",
       "    .dataframe thead th {\n",
       "        text-align: right;\n",
       "    }\n",
       "</style>\n",
       "<table border=\"1\" class=\"dataframe\">\n",
       "  <thead>\n",
       "    <tr style=\"text-align: right;\">\n",
       "      <th></th>\n",
       "      <th>internet_id</th>\n",
       "      <th>user_id</th>\n",
       "      <th>session_date</th>\n",
       "      <th>mb_used</th>\n",
       "      <th>mes</th>\n",
       "    </tr>\n",
       "  </thead>\n",
       "  <tbody>\n",
       "    <tr>\n",
       "      <th>0</th>\n",
       "      <td>1000_13</td>\n",
       "      <td>1000</td>\n",
       "      <td>2018-12-29</td>\n",
       "      <td>89.86</td>\n",
       "      <td>12</td>\n",
       "    </tr>\n",
       "    <tr>\n",
       "      <th>1</th>\n",
       "      <td>1000_204</td>\n",
       "      <td>1000</td>\n",
       "      <td>2018-12-31</td>\n",
       "      <td>0.00</td>\n",
       "      <td>12</td>\n",
       "    </tr>\n",
       "    <tr>\n",
       "      <th>2</th>\n",
       "      <td>1000_379</td>\n",
       "      <td>1000</td>\n",
       "      <td>2018-12-28</td>\n",
       "      <td>660.40</td>\n",
       "      <td>12</td>\n",
       "    </tr>\n",
       "    <tr>\n",
       "      <th>3</th>\n",
       "      <td>1000_413</td>\n",
       "      <td>1000</td>\n",
       "      <td>2018-12-26</td>\n",
       "      <td>270.99</td>\n",
       "      <td>12</td>\n",
       "    </tr>\n",
       "    <tr>\n",
       "      <th>4</th>\n",
       "      <td>1000_442</td>\n",
       "      <td>1000</td>\n",
       "      <td>2018-12-27</td>\n",
       "      <td>880.22</td>\n",
       "      <td>12</td>\n",
       "    </tr>\n",
       "  </tbody>\n",
       "</table>\n",
       "</div>"
      ],
      "text/plain": [
       "  internet_id  user_id session_date  mb_used  mes\n",
       "0     1000_13     1000   2018-12-29    89.86   12\n",
       "1    1000_204     1000   2018-12-31     0.00   12\n",
       "2    1000_379     1000   2018-12-28   660.40   12\n",
       "3    1000_413     1000   2018-12-26   270.99   12\n",
       "4    1000_442     1000   2018-12-27   880.22   12"
      ]
     },
     "execution_count": 33,
     "metadata": {},
     "output_type": "execute_result"
    }
   ],
   "source": [
    "internet_df['session_date'] = pd.to_datetime(internet_df['session_date'], format='%Y-%m-%d')\n",
    "internet_df['mes'] = pd.DatetimeIndex(internet_df['session_date']).month\n",
    "internet_df.head()"
   ]
  },
  {
   "cell_type": "code",
   "execution_count": 34,
   "metadata": {
    "trusted": false
   },
   "outputs": [
    {
     "data": {
      "text/plain": [
       "0"
      ]
     },
     "execution_count": 34,
     "metadata": {},
     "output_type": "execute_result"
    }
   ],
   "source": [
    "internet_df.duplicated().sum()"
   ]
  },
  {
   "cell_type": "code",
   "execution_count": 35,
   "metadata": {
    "trusted": false
   },
   "outputs": [
    {
     "data": {
      "text/html": [
       "<div>\n",
       "<style scoped>\n",
       "    .dataframe tbody tr th:only-of-type {\n",
       "        vertical-align: middle;\n",
       "    }\n",
       "\n",
       "    .dataframe tbody tr th {\n",
       "        vertical-align: top;\n",
       "    }\n",
       "\n",
       "    .dataframe thead th {\n",
       "        text-align: right;\n",
       "    }\n",
       "</style>\n",
       "<table border=\"1\" class=\"dataframe\">\n",
       "  <thead>\n",
       "    <tr style=\"text-align: right;\">\n",
       "      <th></th>\n",
       "      <th>user_id</th>\n",
       "      <th>mb_used</th>\n",
       "      <th>mes</th>\n",
       "    </tr>\n",
       "  </thead>\n",
       "  <tbody>\n",
       "    <tr>\n",
       "      <th>count</th>\n",
       "      <td>104825.000000</td>\n",
       "      <td>104825.000000</td>\n",
       "      <td>104825.000000</td>\n",
       "    </tr>\n",
       "    <tr>\n",
       "      <th>mean</th>\n",
       "      <td>1242.496361</td>\n",
       "      <td>366.713701</td>\n",
       "      <td>9.342552</td>\n",
       "    </tr>\n",
       "    <tr>\n",
       "      <th>std</th>\n",
       "      <td>142.053913</td>\n",
       "      <td>277.170542</td>\n",
       "      <td>2.400404</td>\n",
       "    </tr>\n",
       "    <tr>\n",
       "      <th>min</th>\n",
       "      <td>1000.000000</td>\n",
       "      <td>0.000000</td>\n",
       "      <td>1.000000</td>\n",
       "    </tr>\n",
       "    <tr>\n",
       "      <th>25%</th>\n",
       "      <td>1122.000000</td>\n",
       "      <td>136.080000</td>\n",
       "      <td>8.000000</td>\n",
       "    </tr>\n",
       "    <tr>\n",
       "      <th>50%</th>\n",
       "      <td>1236.000000</td>\n",
       "      <td>343.980000</td>\n",
       "      <td>10.000000</td>\n",
       "    </tr>\n",
       "    <tr>\n",
       "      <th>75%</th>\n",
       "      <td>1367.000000</td>\n",
       "      <td>554.610000</td>\n",
       "      <td>11.000000</td>\n",
       "    </tr>\n",
       "    <tr>\n",
       "      <th>max</th>\n",
       "      <td>1499.000000</td>\n",
       "      <td>1693.470000</td>\n",
       "      <td>12.000000</td>\n",
       "    </tr>\n",
       "  </tbody>\n",
       "</table>\n",
       "</div>"
      ],
      "text/plain": [
       "             user_id        mb_used            mes\n",
       "count  104825.000000  104825.000000  104825.000000\n",
       "mean     1242.496361     366.713701       9.342552\n",
       "std       142.053913     277.170542       2.400404\n",
       "min      1000.000000       0.000000       1.000000\n",
       "25%      1122.000000     136.080000       8.000000\n",
       "50%      1236.000000     343.980000      10.000000\n",
       "75%      1367.000000     554.610000      11.000000\n",
       "max      1499.000000    1693.470000      12.000000"
      ]
     },
     "execution_count": 35,
     "metadata": {},
     "output_type": "execute_result"
    }
   ],
   "source": [
    "internet_df.describe()"
   ]
  },
  {
   "cell_type": "code",
   "execution_count": 36,
   "metadata": {
    "trusted": false
   },
   "outputs": [
    {
     "data": {
      "text/plain": [
       "13.11423801574052"
      ]
     },
     "execution_count": 36,
     "metadata": {},
     "output_type": "execute_result"
    }
   ],
   "source": [
    "(len(internet_df.query('mb_used == 0'))/len(internet_df))*100 #porcentaje de usuaruios que NO usan MB"
   ]
  },
  {
   "cell_type": "code",
   "execution_count": 37,
   "metadata": {
    "trusted": false
   },
   "outputs": [
    {
     "data": {
      "text/html": [
       "<div>\n",
       "<style scoped>\n",
       "    .dataframe tbody tr th:only-of-type {\n",
       "        vertical-align: middle;\n",
       "    }\n",
       "\n",
       "    .dataframe tbody tr th {\n",
       "        vertical-align: top;\n",
       "    }\n",
       "\n",
       "    .dataframe thead th {\n",
       "        text-align: right;\n",
       "    }\n",
       "</style>\n",
       "<table border=\"1\" class=\"dataframe\">\n",
       "  <thead>\n",
       "    <tr style=\"text-align: right;\">\n",
       "      <th></th>\n",
       "      <th>internet_id</th>\n",
       "      <th>user_id</th>\n",
       "      <th>session_date</th>\n",
       "      <th>mb_used</th>\n",
       "      <th>mes</th>\n",
       "    </tr>\n",
       "  </thead>\n",
       "  <tbody>\n",
       "    <tr>\n",
       "      <th>0</th>\n",
       "      <td>1000_13</td>\n",
       "      <td>1000</td>\n",
       "      <td>2018-12-29</td>\n",
       "      <td>89.86</td>\n",
       "      <td>12</td>\n",
       "    </tr>\n",
       "    <tr>\n",
       "      <th>1</th>\n",
       "      <td>1000_204</td>\n",
       "      <td>1000</td>\n",
       "      <td>2018-12-31</td>\n",
       "      <td>0.00</td>\n",
       "      <td>12</td>\n",
       "    </tr>\n",
       "    <tr>\n",
       "      <th>2</th>\n",
       "      <td>1000_379</td>\n",
       "      <td>1000</td>\n",
       "      <td>2018-12-28</td>\n",
       "      <td>660.40</td>\n",
       "      <td>12</td>\n",
       "    </tr>\n",
       "    <tr>\n",
       "      <th>3</th>\n",
       "      <td>1000_413</td>\n",
       "      <td>1000</td>\n",
       "      <td>2018-12-26</td>\n",
       "      <td>270.99</td>\n",
       "      <td>12</td>\n",
       "    </tr>\n",
       "    <tr>\n",
       "      <th>4</th>\n",
       "      <td>1000_442</td>\n",
       "      <td>1000</td>\n",
       "      <td>2018-12-27</td>\n",
       "      <td>880.22</td>\n",
       "      <td>12</td>\n",
       "    </tr>\n",
       "  </tbody>\n",
       "</table>\n",
       "</div>"
      ],
      "text/plain": [
       "  internet_id  user_id session_date  mb_used  mes\n",
       "0     1000_13     1000   2018-12-29    89.86   12\n",
       "1    1000_204     1000   2018-12-31     0.00   12\n",
       "2    1000_379     1000   2018-12-28   660.40   12\n",
       "3    1000_413     1000   2018-12-26   270.99   12\n",
       "4    1000_442     1000   2018-12-27   880.22   12"
      ]
     },
     "execution_count": 37,
     "metadata": {},
     "output_type": "execute_result"
    }
   ],
   "source": [
    "internet_df.head()"
   ]
  },
  {
   "cell_type": "markdown",
   "metadata": {
    "id": "3UA2cqIW0q1E"
   },
   "source": [
    "## Estudiar las condiciones de las tarifas"
   ]
  },
  {
   "cell_type": "markdown",
   "metadata": {
    "id": "T86Sqltq0q1F"
   },
   "source": [
    "[Es sumamente importante entender cómo funcionan las tarifas, cómo se les cobra a los usuarios en función de su plan de suscripción. Así que te sugerimos imprimir la información de la tarifa para ver una vez más sus condiciones.]"
   ]
  },
  {
   "cell_type": "code",
   "execution_count": 38,
   "metadata": {
    "id": "i409op8p0q1F",
    "trusted": false
   },
   "outputs": [
    {
     "data": {
      "text/html": [
       "<div>\n",
       "<style scoped>\n",
       "    .dataframe tbody tr th:only-of-type {\n",
       "        vertical-align: middle;\n",
       "    }\n",
       "\n",
       "    .dataframe tbody tr th {\n",
       "        vertical-align: top;\n",
       "    }\n",
       "\n",
       "    .dataframe thead th {\n",
       "        text-align: right;\n",
       "    }\n",
       "</style>\n",
       "<table border=\"1\" class=\"dataframe\">\n",
       "  <thead>\n",
       "    <tr style=\"text-align: right;\">\n",
       "      <th></th>\n",
       "      <th>messages_included</th>\n",
       "      <th>mb_per_month_included</th>\n",
       "      <th>minutes_included</th>\n",
       "      <th>usd_monthly_pay</th>\n",
       "      <th>usd_per_gb</th>\n",
       "      <th>usd_per_message</th>\n",
       "      <th>usd_per_minute</th>\n",
       "      <th>plan_id</th>\n",
       "    </tr>\n",
       "  </thead>\n",
       "  <tbody>\n",
       "    <tr>\n",
       "      <th>0</th>\n",
       "      <td>50</td>\n",
       "      <td>15360</td>\n",
       "      <td>500</td>\n",
       "      <td>20</td>\n",
       "      <td>10</td>\n",
       "      <td>0.03</td>\n",
       "      <td>0.03</td>\n",
       "      <td>surf</td>\n",
       "    </tr>\n",
       "    <tr>\n",
       "      <th>1</th>\n",
       "      <td>1000</td>\n",
       "      <td>30720</td>\n",
       "      <td>3000</td>\n",
       "      <td>70</td>\n",
       "      <td>7</td>\n",
       "      <td>0.01</td>\n",
       "      <td>0.01</td>\n",
       "      <td>ultimate</td>\n",
       "    </tr>\n",
       "  </tbody>\n",
       "</table>\n",
       "</div>"
      ],
      "text/plain": [
       "   messages_included  mb_per_month_included  minutes_included  \\\n",
       "0                 50                  15360               500   \n",
       "1               1000                  30720              3000   \n",
       "\n",
       "   usd_monthly_pay  usd_per_gb  usd_per_message  usd_per_minute   plan_id  \n",
       "0               20          10             0.03            0.03      surf  \n",
       "1               70           7             0.01            0.01  ultimate  "
      ]
     },
     "execution_count": 38,
     "metadata": {},
     "output_type": "execute_result"
    }
   ],
   "source": [
    "# Imprime las condiciones de la tarifa y asegúrate de que te quedan claras\n",
    "planes_df.head()"
   ]
  },
  {
   "cell_type": "code",
   "execution_count": 39,
   "metadata": {
    "trusted": false
   },
   "outputs": [],
   "source": [
    "def redondeo_llamadas(duracion):\n",
    "    redondeo = math.ceil(duracion)\n",
    "    return redondeo"
   ]
  },
  {
   "cell_type": "code",
   "execution_count": 40,
   "metadata": {
    "trusted": false
   },
   "outputs": [],
   "source": [
    "llamadas_df['duracion_redondeada'] = llamadas_df['duration'].apply(redondeo_llamadas)"
   ]
  },
  {
   "cell_type": "code",
   "execution_count": 41,
   "metadata": {
    "trusted": false
   },
   "outputs": [
    {
     "data": {
      "text/html": [
       "<div>\n",
       "<style scoped>\n",
       "    .dataframe tbody tr th:only-of-type {\n",
       "        vertical-align: middle;\n",
       "    }\n",
       "\n",
       "    .dataframe tbody tr th {\n",
       "        vertical-align: top;\n",
       "    }\n",
       "\n",
       "    .dataframe thead th {\n",
       "        text-align: right;\n",
       "    }\n",
       "</style>\n",
       "<table border=\"1\" class=\"dataframe\">\n",
       "  <thead>\n",
       "    <tr style=\"text-align: right;\">\n",
       "      <th></th>\n",
       "      <th>call_id</th>\n",
       "      <th>user_id</th>\n",
       "      <th>call_date</th>\n",
       "      <th>duration</th>\n",
       "      <th>mes</th>\n",
       "      <th>duracion_redondeada</th>\n",
       "    </tr>\n",
       "  </thead>\n",
       "  <tbody>\n",
       "    <tr>\n",
       "      <th>0</th>\n",
       "      <td>1000_93</td>\n",
       "      <td>1000</td>\n",
       "      <td>2018-12-27</td>\n",
       "      <td>8.52</td>\n",
       "      <td>12</td>\n",
       "      <td>9</td>\n",
       "    </tr>\n",
       "    <tr>\n",
       "      <th>1</th>\n",
       "      <td>1000_145</td>\n",
       "      <td>1000</td>\n",
       "      <td>2018-12-27</td>\n",
       "      <td>13.66</td>\n",
       "      <td>12</td>\n",
       "      <td>14</td>\n",
       "    </tr>\n",
       "    <tr>\n",
       "      <th>2</th>\n",
       "      <td>1000_247</td>\n",
       "      <td>1000</td>\n",
       "      <td>2018-12-27</td>\n",
       "      <td>14.48</td>\n",
       "      <td>12</td>\n",
       "      <td>15</td>\n",
       "    </tr>\n",
       "    <tr>\n",
       "      <th>3</th>\n",
       "      <td>1000_309</td>\n",
       "      <td>1000</td>\n",
       "      <td>2018-12-28</td>\n",
       "      <td>5.76</td>\n",
       "      <td>12</td>\n",
       "      <td>6</td>\n",
       "    </tr>\n",
       "    <tr>\n",
       "      <th>4</th>\n",
       "      <td>1000_380</td>\n",
       "      <td>1000</td>\n",
       "      <td>2018-12-30</td>\n",
       "      <td>4.22</td>\n",
       "      <td>12</td>\n",
       "      <td>5</td>\n",
       "    </tr>\n",
       "  </tbody>\n",
       "</table>\n",
       "</div>"
      ],
      "text/plain": [
       "    call_id  user_id  call_date  duration  mes  duracion_redondeada\n",
       "0   1000_93     1000 2018-12-27      8.52   12                    9\n",
       "1  1000_145     1000 2018-12-27     13.66   12                   14\n",
       "2  1000_247     1000 2018-12-27     14.48   12                   15\n",
       "3  1000_309     1000 2018-12-28      5.76   12                    6\n",
       "4  1000_380     1000 2018-12-30      4.22   12                    5"
      ]
     },
     "execution_count": 41,
     "metadata": {},
     "output_type": "execute_result"
    }
   ],
   "source": [
    "llamadas_df.head()"
   ]
  },
  {
   "cell_type": "markdown",
   "metadata": {
    "id": "hMR1tP5d0q1F"
   },
   "source": [
    "## Agregar datos por usuario\n",
    "\n",
    "[Ahora que los datos están limpios, agrega los datos por usuario y por periodo para que solo haya un registro por usuario y por periodo. Esto facilitará mucho el análisis posterior.]"
   ]
  },
  {
   "cell_type": "code",
   "execution_count": 42,
   "metadata": {
    "id": "A332cedB0q1G",
    "scrolled": false,
    "trusted": false
   },
   "outputs": [
    {
     "data": {
      "text/html": [
       "<div>\n",
       "<style scoped>\n",
       "    .dataframe tbody tr th:only-of-type {\n",
       "        vertical-align: middle;\n",
       "    }\n",
       "\n",
       "    .dataframe tbody tr th {\n",
       "        vertical-align: top;\n",
       "    }\n",
       "\n",
       "    .dataframe thead tr th {\n",
       "        text-align: left;\n",
       "    }\n",
       "\n",
       "    .dataframe thead tr:last-of-type th {\n",
       "        text-align: right;\n",
       "    }\n",
       "</style>\n",
       "<table border=\"1\" class=\"dataframe\">\n",
       "  <thead>\n",
       "    <tr>\n",
       "      <th></th>\n",
       "      <th></th>\n",
       "      <th>sum</th>\n",
       "      <th>count</th>\n",
       "    </tr>\n",
       "    <tr>\n",
       "      <th></th>\n",
       "      <th></th>\n",
       "      <th>duracion_redondeada</th>\n",
       "      <th>duracion_redondeada</th>\n",
       "    </tr>\n",
       "    <tr>\n",
       "      <th>user_id</th>\n",
       "      <th>mes</th>\n",
       "      <th></th>\n",
       "      <th></th>\n",
       "    </tr>\n",
       "  </thead>\n",
       "  <tbody>\n",
       "    <tr>\n",
       "      <th>1000</th>\n",
       "      <th>12</th>\n",
       "      <td>124</td>\n",
       "      <td>16</td>\n",
       "    </tr>\n",
       "    <tr>\n",
       "      <th rowspan=\"5\" valign=\"top\">1001</th>\n",
       "      <th>8</th>\n",
       "      <td>182</td>\n",
       "      <td>27</td>\n",
       "    </tr>\n",
       "    <tr>\n",
       "      <th>9</th>\n",
       "      <td>315</td>\n",
       "      <td>49</td>\n",
       "    </tr>\n",
       "    <tr>\n",
       "      <th>10</th>\n",
       "      <td>393</td>\n",
       "      <td>65</td>\n",
       "    </tr>\n",
       "    <tr>\n",
       "      <th>11</th>\n",
       "      <td>426</td>\n",
       "      <td>64</td>\n",
       "    </tr>\n",
       "    <tr>\n",
       "      <th>12</th>\n",
       "      <td>412</td>\n",
       "      <td>56</td>\n",
       "    </tr>\n",
       "    <tr>\n",
       "      <th rowspan=\"3\" valign=\"top\">1002</th>\n",
       "      <th>10</th>\n",
       "      <td>59</td>\n",
       "      <td>11</td>\n",
       "    </tr>\n",
       "    <tr>\n",
       "      <th>11</th>\n",
       "      <td>386</td>\n",
       "      <td>55</td>\n",
       "    </tr>\n",
       "    <tr>\n",
       "      <th>12</th>\n",
       "      <td>384</td>\n",
       "      <td>47</td>\n",
       "    </tr>\n",
       "    <tr>\n",
       "      <th>1003</th>\n",
       "      <th>12</th>\n",
       "      <td>1104</td>\n",
       "      <td>149</td>\n",
       "    </tr>\n",
       "  </tbody>\n",
       "</table>\n",
       "</div>"
      ],
      "text/plain": [
       "                            sum               count\n",
       "            duracion_redondeada duracion_redondeada\n",
       "user_id mes                                        \n",
       "1000    12                  124                  16\n",
       "1001    8                   182                  27\n",
       "        9                   315                  49\n",
       "        10                  393                  65\n",
       "        11                  426                  64\n",
       "        12                  412                  56\n",
       "1002    10                   59                  11\n",
       "        11                  386                  55\n",
       "        12                  384                  47\n",
       "1003    12                 1104                 149"
      ]
     },
     "execution_count": 42,
     "metadata": {},
     "output_type": "execute_result"
    }
   ],
   "source": [
    "# Calcula el número de llamadas hechas por cada usuario al mes. Guarda el resultado.\n",
    "# Calcula la cantidad de minutos usados por cada usuario al mes. Guarda el resultado.\n",
    "\n",
    "\n",
    "llamadas_analytics = llamadas_df.pivot_table(index=['user_id', 'mes'], values='duracion_redondeada', aggfunc=['sum', 'count'])\n",
    "llamadas_analytics.head(10)"
   ]
  },
  {
   "cell_type": "code",
   "execution_count": 43,
   "metadata": {
    "scrolled": true,
    "trusted": false
   },
   "outputs": [
    {
     "data": {
      "text/html": [
       "<div>\n",
       "<style scoped>\n",
       "    .dataframe tbody tr th:only-of-type {\n",
       "        vertical-align: middle;\n",
       "    }\n",
       "\n",
       "    .dataframe tbody tr th {\n",
       "        vertical-align: top;\n",
       "    }\n",
       "\n",
       "    .dataframe thead th {\n",
       "        text-align: right;\n",
       "    }\n",
       "</style>\n",
       "<table border=\"1\" class=\"dataframe\">\n",
       "  <thead>\n",
       "    <tr style=\"text-align: right;\">\n",
       "      <th></th>\n",
       "      <th></th>\n",
       "      <th>minutos_usados</th>\n",
       "      <th>llamadas_hechas</th>\n",
       "    </tr>\n",
       "    <tr>\n",
       "      <th>user_id</th>\n",
       "      <th>mes</th>\n",
       "      <th></th>\n",
       "      <th></th>\n",
       "    </tr>\n",
       "  </thead>\n",
       "  <tbody>\n",
       "    <tr>\n",
       "      <th>1000</th>\n",
       "      <th>12</th>\n",
       "      <td>124</td>\n",
       "      <td>16</td>\n",
       "    </tr>\n",
       "    <tr>\n",
       "      <th rowspan=\"4\" valign=\"top\">1001</th>\n",
       "      <th>8</th>\n",
       "      <td>182</td>\n",
       "      <td>27</td>\n",
       "    </tr>\n",
       "    <tr>\n",
       "      <th>9</th>\n",
       "      <td>315</td>\n",
       "      <td>49</td>\n",
       "    </tr>\n",
       "    <tr>\n",
       "      <th>10</th>\n",
       "      <td>393</td>\n",
       "      <td>65</td>\n",
       "    </tr>\n",
       "    <tr>\n",
       "      <th>11</th>\n",
       "      <td>426</td>\n",
       "      <td>64</td>\n",
       "    </tr>\n",
       "  </tbody>\n",
       "</table>\n",
       "</div>"
      ],
      "text/plain": [
       "             minutos_usados  llamadas_hechas\n",
       "user_id mes                                 \n",
       "1000    12              124               16\n",
       "1001    8               182               27\n",
       "        9               315               49\n",
       "        10              393               65\n",
       "        11              426               64"
      ]
     },
     "execution_count": 43,
     "metadata": {},
     "output_type": "execute_result"
    }
   ],
   "source": [
    "llamadas_analytics.columns = ['minutos_usados', 'llamadas_hechas'] #cambio el nommbre de las columnas para que sea más comprensible\n",
    "llamadas_analytics.head()"
   ]
  },
  {
   "cell_type": "code",
   "execution_count": 44,
   "metadata": {
    "trusted": false
   },
   "outputs": [
    {
     "data": {
      "text/html": [
       "<div>\n",
       "<style scoped>\n",
       "    .dataframe tbody tr th:only-of-type {\n",
       "        vertical-align: middle;\n",
       "    }\n",
       "\n",
       "    .dataframe tbody tr th {\n",
       "        vertical-align: top;\n",
       "    }\n",
       "\n",
       "    .dataframe thead th {\n",
       "        text-align: right;\n",
       "    }\n",
       "</style>\n",
       "<table border=\"1\" class=\"dataframe\">\n",
       "  <thead>\n",
       "    <tr style=\"text-align: right;\">\n",
       "      <th></th>\n",
       "      <th>user_id</th>\n",
       "      <th>mes</th>\n",
       "      <th>minutos_usados</th>\n",
       "      <th>llamadas_hechas</th>\n",
       "    </tr>\n",
       "  </thead>\n",
       "  <tbody>\n",
       "    <tr>\n",
       "      <th>0</th>\n",
       "      <td>1000</td>\n",
       "      <td>12</td>\n",
       "      <td>124</td>\n",
       "      <td>16</td>\n",
       "    </tr>\n",
       "    <tr>\n",
       "      <th>1</th>\n",
       "      <td>1001</td>\n",
       "      <td>8</td>\n",
       "      <td>182</td>\n",
       "      <td>27</td>\n",
       "    </tr>\n",
       "    <tr>\n",
       "      <th>2</th>\n",
       "      <td>1001</td>\n",
       "      <td>9</td>\n",
       "      <td>315</td>\n",
       "      <td>49</td>\n",
       "    </tr>\n",
       "    <tr>\n",
       "      <th>3</th>\n",
       "      <td>1001</td>\n",
       "      <td>10</td>\n",
       "      <td>393</td>\n",
       "      <td>65</td>\n",
       "    </tr>\n",
       "    <tr>\n",
       "      <th>4</th>\n",
       "      <td>1001</td>\n",
       "      <td>11</td>\n",
       "      <td>426</td>\n",
       "      <td>64</td>\n",
       "    </tr>\n",
       "    <tr>\n",
       "      <th>...</th>\n",
       "      <td>...</td>\n",
       "      <td>...</td>\n",
       "      <td>...</td>\n",
       "      <td>...</td>\n",
       "    </tr>\n",
       "    <tr>\n",
       "      <th>2253</th>\n",
       "      <td>1498</td>\n",
       "      <td>12</td>\n",
       "      <td>339</td>\n",
       "      <td>39</td>\n",
       "    </tr>\n",
       "    <tr>\n",
       "      <th>2254</th>\n",
       "      <td>1499</td>\n",
       "      <td>9</td>\n",
       "      <td>346</td>\n",
       "      <td>41</td>\n",
       "    </tr>\n",
       "    <tr>\n",
       "      <th>2255</th>\n",
       "      <td>1499</td>\n",
       "      <td>10</td>\n",
       "      <td>385</td>\n",
       "      <td>53</td>\n",
       "    </tr>\n",
       "    <tr>\n",
       "      <th>2256</th>\n",
       "      <td>1499</td>\n",
       "      <td>11</td>\n",
       "      <td>308</td>\n",
       "      <td>45</td>\n",
       "    </tr>\n",
       "    <tr>\n",
       "      <th>2257</th>\n",
       "      <td>1499</td>\n",
       "      <td>12</td>\n",
       "      <td>496</td>\n",
       "      <td>65</td>\n",
       "    </tr>\n",
       "  </tbody>\n",
       "</table>\n",
       "<p>2258 rows × 4 columns</p>\n",
       "</div>"
      ],
      "text/plain": [
       "      user_id  mes  minutos_usados  llamadas_hechas\n",
       "0        1000   12             124               16\n",
       "1        1001    8             182               27\n",
       "2        1001    9             315               49\n",
       "3        1001   10             393               65\n",
       "4        1001   11             426               64\n",
       "...       ...  ...             ...              ...\n",
       "2253     1498   12             339               39\n",
       "2254     1499    9             346               41\n",
       "2255     1499   10             385               53\n",
       "2256     1499   11             308               45\n",
       "2257     1499   12             496               65\n",
       "\n",
       "[2258 rows x 4 columns]"
      ]
     },
     "execution_count": 44,
     "metadata": {},
     "output_type": "execute_result"
    }
   ],
   "source": [
    "llamadas_analytics = llamadas_analytics.reset_index() #Resetaeo el indice\n",
    "llamadas_analytics"
   ]
  },
  {
   "cell_type": "code",
   "execution_count": 45,
   "metadata": {
    "id": "CcQvNHn60q1G",
    "trusted": false
   },
   "outputs": [
    {
     "data": {
      "text/html": [
       "<div>\n",
       "<style scoped>\n",
       "    .dataframe tbody tr th:only-of-type {\n",
       "        vertical-align: middle;\n",
       "    }\n",
       "\n",
       "    .dataframe tbody tr th {\n",
       "        vertical-align: top;\n",
       "    }\n",
       "\n",
       "    .dataframe thead th {\n",
       "        text-align: right;\n",
       "    }\n",
       "</style>\n",
       "<table border=\"1\" class=\"dataframe\">\n",
       "  <thead>\n",
       "    <tr style=\"text-align: right;\">\n",
       "      <th></th>\n",
       "      <th></th>\n",
       "      <th>mensaje_id</th>\n",
       "    </tr>\n",
       "    <tr>\n",
       "      <th>user_id</th>\n",
       "      <th>mes</th>\n",
       "      <th></th>\n",
       "    </tr>\n",
       "  </thead>\n",
       "  <tbody>\n",
       "    <tr>\n",
       "      <th>1000</th>\n",
       "      <th>12</th>\n",
       "      <td>11</td>\n",
       "    </tr>\n",
       "    <tr>\n",
       "      <th rowspan=\"4\" valign=\"top\">1001</th>\n",
       "      <th>8</th>\n",
       "      <td>30</td>\n",
       "    </tr>\n",
       "    <tr>\n",
       "      <th>9</th>\n",
       "      <td>44</td>\n",
       "    </tr>\n",
       "    <tr>\n",
       "      <th>10</th>\n",
       "      <td>53</td>\n",
       "    </tr>\n",
       "    <tr>\n",
       "      <th>11</th>\n",
       "      <td>36</td>\n",
       "    </tr>\n",
       "  </tbody>\n",
       "</table>\n",
       "</div>"
      ],
      "text/plain": [
       "             mensaje_id\n",
       "user_id mes            \n",
       "1000    12           11\n",
       "1001    8            30\n",
       "        9            44\n",
       "        10           53\n",
       "        11           36"
      ]
     },
     "execution_count": 45,
     "metadata": {},
     "output_type": "execute_result"
    }
   ],
   "source": [
    "# Calcula el número de mensajes enviados por cada usuario al mes. Guarda el resultado.\n",
    "\n",
    "mensajes_analytics = mensajes_df.pivot_table(index=['user_id', 'mes'], values='mensaje_id', aggfunc='count')\n",
    "mensajes_analytics.head()"
   ]
  },
  {
   "cell_type": "code",
   "execution_count": 46,
   "metadata": {
    "trusted": false
   },
   "outputs": [
    {
     "data": {
      "text/html": [
       "<div>\n",
       "<style scoped>\n",
       "    .dataframe tbody tr th:only-of-type {\n",
       "        vertical-align: middle;\n",
       "    }\n",
       "\n",
       "    .dataframe tbody tr th {\n",
       "        vertical-align: top;\n",
       "    }\n",
       "\n",
       "    .dataframe thead th {\n",
       "        text-align: right;\n",
       "    }\n",
       "</style>\n",
       "<table border=\"1\" class=\"dataframe\">\n",
       "  <thead>\n",
       "    <tr style=\"text-align: right;\">\n",
       "      <th></th>\n",
       "      <th>user_id</th>\n",
       "      <th>mes</th>\n",
       "      <th>cantidad_de_mensajes</th>\n",
       "    </tr>\n",
       "  </thead>\n",
       "  <tbody>\n",
       "    <tr>\n",
       "      <th>0</th>\n",
       "      <td>1000</td>\n",
       "      <td>12</td>\n",
       "      <td>11</td>\n",
       "    </tr>\n",
       "    <tr>\n",
       "      <th>1</th>\n",
       "      <td>1001</td>\n",
       "      <td>8</td>\n",
       "      <td>30</td>\n",
       "    </tr>\n",
       "    <tr>\n",
       "      <th>2</th>\n",
       "      <td>1001</td>\n",
       "      <td>9</td>\n",
       "      <td>44</td>\n",
       "    </tr>\n",
       "    <tr>\n",
       "      <th>3</th>\n",
       "      <td>1001</td>\n",
       "      <td>10</td>\n",
       "      <td>53</td>\n",
       "    </tr>\n",
       "    <tr>\n",
       "      <th>4</th>\n",
       "      <td>1001</td>\n",
       "      <td>11</td>\n",
       "      <td>36</td>\n",
       "    </tr>\n",
       "    <tr>\n",
       "      <th>...</th>\n",
       "      <td>...</td>\n",
       "      <td>...</td>\n",
       "      <td>...</td>\n",
       "    </tr>\n",
       "    <tr>\n",
       "      <th>1801</th>\n",
       "      <td>1496</td>\n",
       "      <td>9</td>\n",
       "      <td>21</td>\n",
       "    </tr>\n",
       "    <tr>\n",
       "      <th>1802</th>\n",
       "      <td>1496</td>\n",
       "      <td>10</td>\n",
       "      <td>18</td>\n",
       "    </tr>\n",
       "    <tr>\n",
       "      <th>1803</th>\n",
       "      <td>1496</td>\n",
       "      <td>11</td>\n",
       "      <td>13</td>\n",
       "    </tr>\n",
       "    <tr>\n",
       "      <th>1804</th>\n",
       "      <td>1496</td>\n",
       "      <td>12</td>\n",
       "      <td>11</td>\n",
       "    </tr>\n",
       "    <tr>\n",
       "      <th>1805</th>\n",
       "      <td>1497</td>\n",
       "      <td>12</td>\n",
       "      <td>50</td>\n",
       "    </tr>\n",
       "  </tbody>\n",
       "</table>\n",
       "<p>1806 rows × 3 columns</p>\n",
       "</div>"
      ],
      "text/plain": [
       "      user_id  mes  cantidad_de_mensajes\n",
       "0        1000   12                    11\n",
       "1        1001    8                    30\n",
       "2        1001    9                    44\n",
       "3        1001   10                    53\n",
       "4        1001   11                    36\n",
       "...       ...  ...                   ...\n",
       "1801     1496    9                    21\n",
       "1802     1496   10                    18\n",
       "1803     1496   11                    13\n",
       "1804     1496   12                    11\n",
       "1805     1497   12                    50\n",
       "\n",
       "[1806 rows x 3 columns]"
      ]
     },
     "execution_count": 46,
     "metadata": {},
     "output_type": "execute_result"
    }
   ],
   "source": [
    "mensajes_analytics.columns = ['cantidad_de_mensajes'] #cambio el nombre de la culumna, para mas claridad\n",
    "mensajes_analytics = mensajes_analytics.reset_index() #reseteo el indice\n",
    "mensajes_analytics"
   ]
  },
  {
   "cell_type": "code",
   "execution_count": 47,
   "metadata": {
    "id": "H1AqN2eG0q1H",
    "trusted": false
   },
   "outputs": [
    {
     "data": {
      "text/html": [
       "<div>\n",
       "<style scoped>\n",
       "    .dataframe tbody tr th:only-of-type {\n",
       "        vertical-align: middle;\n",
       "    }\n",
       "\n",
       "    .dataframe tbody tr th {\n",
       "        vertical-align: top;\n",
       "    }\n",
       "\n",
       "    .dataframe thead th {\n",
       "        text-align: right;\n",
       "    }\n",
       "</style>\n",
       "<table border=\"1\" class=\"dataframe\">\n",
       "  <thead>\n",
       "    <tr style=\"text-align: right;\">\n",
       "      <th></th>\n",
       "      <th>internet_id</th>\n",
       "      <th>user_id</th>\n",
       "      <th>session_date</th>\n",
       "      <th>mb_used</th>\n",
       "      <th>mes</th>\n",
       "    </tr>\n",
       "  </thead>\n",
       "  <tbody>\n",
       "    <tr>\n",
       "      <th>0</th>\n",
       "      <td>1000_13</td>\n",
       "      <td>1000</td>\n",
       "      <td>2018-12-29</td>\n",
       "      <td>89.86</td>\n",
       "      <td>12</td>\n",
       "    </tr>\n",
       "    <tr>\n",
       "      <th>1</th>\n",
       "      <td>1000_204</td>\n",
       "      <td>1000</td>\n",
       "      <td>2018-12-31</td>\n",
       "      <td>0.00</td>\n",
       "      <td>12</td>\n",
       "    </tr>\n",
       "    <tr>\n",
       "      <th>2</th>\n",
       "      <td>1000_379</td>\n",
       "      <td>1000</td>\n",
       "      <td>2018-12-28</td>\n",
       "      <td>660.40</td>\n",
       "      <td>12</td>\n",
       "    </tr>\n",
       "    <tr>\n",
       "      <th>3</th>\n",
       "      <td>1000_413</td>\n",
       "      <td>1000</td>\n",
       "      <td>2018-12-26</td>\n",
       "      <td>270.99</td>\n",
       "      <td>12</td>\n",
       "    </tr>\n",
       "    <tr>\n",
       "      <th>4</th>\n",
       "      <td>1000_442</td>\n",
       "      <td>1000</td>\n",
       "      <td>2018-12-27</td>\n",
       "      <td>880.22</td>\n",
       "      <td>12</td>\n",
       "    </tr>\n",
       "  </tbody>\n",
       "</table>\n",
       "</div>"
      ],
      "text/plain": [
       "  internet_id  user_id session_date  mb_used  mes\n",
       "0     1000_13     1000   2018-12-29    89.86   12\n",
       "1    1000_204     1000   2018-12-31     0.00   12\n",
       "2    1000_379     1000   2018-12-28   660.40   12\n",
       "3    1000_413     1000   2018-12-26   270.99   12\n",
       "4    1000_442     1000   2018-12-27   880.22   12"
      ]
     },
     "execution_count": 47,
     "metadata": {},
     "output_type": "execute_result"
    }
   ],
   "source": [
    "# Calcula el volumen del tráfico de Internet usado por cada usuario al mes. Guarda el resultado.\n",
    "\n",
    "internet_df.head()"
   ]
  },
  {
   "cell_type": "code",
   "execution_count": 48,
   "metadata": {
    "trusted": false
   },
   "outputs": [
    {
     "data": {
      "text/html": [
       "<div>\n",
       "<style scoped>\n",
       "    .dataframe tbody tr th:only-of-type {\n",
       "        vertical-align: middle;\n",
       "    }\n",
       "\n",
       "    .dataframe tbody tr th {\n",
       "        vertical-align: top;\n",
       "    }\n",
       "\n",
       "    .dataframe thead th {\n",
       "        text-align: right;\n",
       "    }\n",
       "</style>\n",
       "<table border=\"1\" class=\"dataframe\">\n",
       "  <thead>\n",
       "    <tr style=\"text-align: right;\">\n",
       "      <th></th>\n",
       "      <th></th>\n",
       "      <th>mb_used</th>\n",
       "    </tr>\n",
       "    <tr>\n",
       "      <th>user_id</th>\n",
       "      <th>mes</th>\n",
       "      <th></th>\n",
       "    </tr>\n",
       "  </thead>\n",
       "  <tbody>\n",
       "    <tr>\n",
       "      <th>1000</th>\n",
       "      <th>12</th>\n",
       "      <td>1901.47</td>\n",
       "    </tr>\n",
       "    <tr>\n",
       "      <th rowspan=\"4\" valign=\"top\">1001</th>\n",
       "      <th>8</th>\n",
       "      <td>6919.15</td>\n",
       "    </tr>\n",
       "    <tr>\n",
       "      <th>9</th>\n",
       "      <td>13314.82</td>\n",
       "    </tr>\n",
       "    <tr>\n",
       "      <th>10</th>\n",
       "      <td>22330.49</td>\n",
       "    </tr>\n",
       "    <tr>\n",
       "      <th>11</th>\n",
       "      <td>18504.30</td>\n",
       "    </tr>\n",
       "    <tr>\n",
       "      <th>...</th>\n",
       "      <th>...</th>\n",
       "      <td>...</td>\n",
       "    </tr>\n",
       "    <tr>\n",
       "      <th>1498</th>\n",
       "      <th>12</th>\n",
       "      <td>23137.69</td>\n",
       "    </tr>\n",
       "    <tr>\n",
       "      <th rowspan=\"4\" valign=\"top\">1499</th>\n",
       "      <th>9</th>\n",
       "      <td>12984.76</td>\n",
       "    </tr>\n",
       "    <tr>\n",
       "      <th>10</th>\n",
       "      <td>19492.43</td>\n",
       "    </tr>\n",
       "    <tr>\n",
       "      <th>11</th>\n",
       "      <td>16813.83</td>\n",
       "    </tr>\n",
       "    <tr>\n",
       "      <th>12</th>\n",
       "      <td>22059.21</td>\n",
       "    </tr>\n",
       "  </tbody>\n",
       "</table>\n",
       "<p>2277 rows × 1 columns</p>\n",
       "</div>"
      ],
      "text/plain": [
       "              mb_used\n",
       "user_id mes          \n",
       "1000    12    1901.47\n",
       "1001    8     6919.15\n",
       "        9    13314.82\n",
       "        10   22330.49\n",
       "        11   18504.30\n",
       "...               ...\n",
       "1498    12   23137.69\n",
       "1499    9    12984.76\n",
       "        10   19492.43\n",
       "        11   16813.83\n",
       "        12   22059.21\n",
       "\n",
       "[2277 rows x 1 columns]"
      ]
     },
     "execution_count": 48,
     "metadata": {},
     "output_type": "execute_result"
    }
   ],
   "source": [
    "internet_analytics = internet_df.pivot_table(index=['user_id', 'mes'], values='mb_used', aggfunc='sum')\n",
    "internet_analytics"
   ]
  },
  {
   "cell_type": "code",
   "execution_count": 49,
   "metadata": {
    "trusted": false
   },
   "outputs": [
    {
     "data": {
      "text/html": [
       "<div>\n",
       "<style scoped>\n",
       "    .dataframe tbody tr th:only-of-type {\n",
       "        vertical-align: middle;\n",
       "    }\n",
       "\n",
       "    .dataframe tbody tr th {\n",
       "        vertical-align: top;\n",
       "    }\n",
       "\n",
       "    .dataframe thead th {\n",
       "        text-align: right;\n",
       "    }\n",
       "</style>\n",
       "<table border=\"1\" class=\"dataframe\">\n",
       "  <thead>\n",
       "    <tr style=\"text-align: right;\">\n",
       "      <th></th>\n",
       "      <th></th>\n",
       "      <th>total_datos_usados</th>\n",
       "    </tr>\n",
       "    <tr>\n",
       "      <th>user_id</th>\n",
       "      <th>mes</th>\n",
       "      <th></th>\n",
       "    </tr>\n",
       "  </thead>\n",
       "  <tbody>\n",
       "    <tr>\n",
       "      <th>1000</th>\n",
       "      <th>12</th>\n",
       "      <td>1901.47</td>\n",
       "    </tr>\n",
       "    <tr>\n",
       "      <th rowspan=\"4\" valign=\"top\">1001</th>\n",
       "      <th>8</th>\n",
       "      <td>6919.15</td>\n",
       "    </tr>\n",
       "    <tr>\n",
       "      <th>9</th>\n",
       "      <td>13314.82</td>\n",
       "    </tr>\n",
       "    <tr>\n",
       "      <th>10</th>\n",
       "      <td>22330.49</td>\n",
       "    </tr>\n",
       "    <tr>\n",
       "      <th>11</th>\n",
       "      <td>18504.30</td>\n",
       "    </tr>\n",
       "    <tr>\n",
       "      <th>...</th>\n",
       "      <th>...</th>\n",
       "      <td>...</td>\n",
       "    </tr>\n",
       "    <tr>\n",
       "      <th>1498</th>\n",
       "      <th>12</th>\n",
       "      <td>23137.69</td>\n",
       "    </tr>\n",
       "    <tr>\n",
       "      <th rowspan=\"4\" valign=\"top\">1499</th>\n",
       "      <th>9</th>\n",
       "      <td>12984.76</td>\n",
       "    </tr>\n",
       "    <tr>\n",
       "      <th>10</th>\n",
       "      <td>19492.43</td>\n",
       "    </tr>\n",
       "    <tr>\n",
       "      <th>11</th>\n",
       "      <td>16813.83</td>\n",
       "    </tr>\n",
       "    <tr>\n",
       "      <th>12</th>\n",
       "      <td>22059.21</td>\n",
       "    </tr>\n",
       "  </tbody>\n",
       "</table>\n",
       "<p>2277 rows × 1 columns</p>\n",
       "</div>"
      ],
      "text/plain": [
       "             total_datos_usados\n",
       "user_id mes                    \n",
       "1000    12              1901.47\n",
       "1001    8               6919.15\n",
       "        9              13314.82\n",
       "        10             22330.49\n",
       "        11             18504.30\n",
       "...                         ...\n",
       "1498    12             23137.69\n",
       "1499    9              12984.76\n",
       "        10             19492.43\n",
       "        11             16813.83\n",
       "        12             22059.21\n",
       "\n",
       "[2277 rows x 1 columns]"
      ]
     },
     "execution_count": 49,
     "metadata": {},
     "output_type": "execute_result"
    }
   ],
   "source": [
    "internet_analytics.columns = ['total_datos_usados'] #Cambio el nombre de la culumna a mb_used  'total_datos_usados'\n",
    "internet_analytics"
   ]
  },
  {
   "cell_type": "code",
   "execution_count": 50,
   "metadata": {
    "trusted": false
   },
   "outputs": [
    {
     "data": {
      "text/html": [
       "<div>\n",
       "<style scoped>\n",
       "    .dataframe tbody tr th:only-of-type {\n",
       "        vertical-align: middle;\n",
       "    }\n",
       "\n",
       "    .dataframe tbody tr th {\n",
       "        vertical-align: top;\n",
       "    }\n",
       "\n",
       "    .dataframe thead th {\n",
       "        text-align: right;\n",
       "    }\n",
       "</style>\n",
       "<table border=\"1\" class=\"dataframe\">\n",
       "  <thead>\n",
       "    <tr style=\"text-align: right;\">\n",
       "      <th></th>\n",
       "      <th>user_id</th>\n",
       "      <th>mes</th>\n",
       "      <th>total_datos_usados</th>\n",
       "    </tr>\n",
       "  </thead>\n",
       "  <tbody>\n",
       "    <tr>\n",
       "      <th>0</th>\n",
       "      <td>1000</td>\n",
       "      <td>12</td>\n",
       "      <td>1901.47</td>\n",
       "    </tr>\n",
       "    <tr>\n",
       "      <th>1</th>\n",
       "      <td>1001</td>\n",
       "      <td>8</td>\n",
       "      <td>6919.15</td>\n",
       "    </tr>\n",
       "    <tr>\n",
       "      <th>2</th>\n",
       "      <td>1001</td>\n",
       "      <td>9</td>\n",
       "      <td>13314.82</td>\n",
       "    </tr>\n",
       "    <tr>\n",
       "      <th>3</th>\n",
       "      <td>1001</td>\n",
       "      <td>10</td>\n",
       "      <td>22330.49</td>\n",
       "    </tr>\n",
       "    <tr>\n",
       "      <th>4</th>\n",
       "      <td>1001</td>\n",
       "      <td>11</td>\n",
       "      <td>18504.30</td>\n",
       "    </tr>\n",
       "    <tr>\n",
       "      <th>...</th>\n",
       "      <td>...</td>\n",
       "      <td>...</td>\n",
       "      <td>...</td>\n",
       "    </tr>\n",
       "    <tr>\n",
       "      <th>2272</th>\n",
       "      <td>1498</td>\n",
       "      <td>12</td>\n",
       "      <td>23137.69</td>\n",
       "    </tr>\n",
       "    <tr>\n",
       "      <th>2273</th>\n",
       "      <td>1499</td>\n",
       "      <td>9</td>\n",
       "      <td>12984.76</td>\n",
       "    </tr>\n",
       "    <tr>\n",
       "      <th>2274</th>\n",
       "      <td>1499</td>\n",
       "      <td>10</td>\n",
       "      <td>19492.43</td>\n",
       "    </tr>\n",
       "    <tr>\n",
       "      <th>2275</th>\n",
       "      <td>1499</td>\n",
       "      <td>11</td>\n",
       "      <td>16813.83</td>\n",
       "    </tr>\n",
       "    <tr>\n",
       "      <th>2276</th>\n",
       "      <td>1499</td>\n",
       "      <td>12</td>\n",
       "      <td>22059.21</td>\n",
       "    </tr>\n",
       "  </tbody>\n",
       "</table>\n",
       "<p>2277 rows × 3 columns</p>\n",
       "</div>"
      ],
      "text/plain": [
       "      user_id  mes  total_datos_usados\n",
       "0        1000   12             1901.47\n",
       "1        1001    8             6919.15\n",
       "2        1001    9            13314.82\n",
       "3        1001   10            22330.49\n",
       "4        1001   11            18504.30\n",
       "...       ...  ...                 ...\n",
       "2272     1498   12            23137.69\n",
       "2273     1499    9            12984.76\n",
       "2274     1499   10            19492.43\n",
       "2275     1499   11            16813.83\n",
       "2276     1499   12            22059.21\n",
       "\n",
       "[2277 rows x 3 columns]"
      ]
     },
     "execution_count": 50,
     "metadata": {},
     "output_type": "execute_result"
    }
   ],
   "source": [
    "internet_analytics = internet_analytics.reset_index() #Reseteo el indice\n",
    "internet_analytics"
   ]
  },
  {
   "cell_type": "code",
   "execution_count": 51,
   "metadata": {
    "trusted": false
   },
   "outputs": [],
   "source": [
    "def datos_redondeo(mb):\n",
    "    redondeo = math.ceil(mb/1024)\n",
    "    return redondeo"
   ]
  },
  {
   "cell_type": "code",
   "execution_count": 52,
   "metadata": {
    "trusted": false
   },
   "outputs": [],
   "source": [
    "internet_analytics['total_datos_usados_redondeado_GB'] = internet_analytics['total_datos_usados'].apply(datos_redondeo)"
   ]
  },
  {
   "cell_type": "code",
   "execution_count": 53,
   "metadata": {
    "trusted": false
   },
   "outputs": [
    {
     "data": {
      "text/html": [
       "<div>\n",
       "<style scoped>\n",
       "    .dataframe tbody tr th:only-of-type {\n",
       "        vertical-align: middle;\n",
       "    }\n",
       "\n",
       "    .dataframe tbody tr th {\n",
       "        vertical-align: top;\n",
       "    }\n",
       "\n",
       "    .dataframe thead th {\n",
       "        text-align: right;\n",
       "    }\n",
       "</style>\n",
       "<table border=\"1\" class=\"dataframe\">\n",
       "  <thead>\n",
       "    <tr style=\"text-align: right;\">\n",
       "      <th></th>\n",
       "      <th>user_id</th>\n",
       "      <th>mes</th>\n",
       "      <th>total_datos_usados</th>\n",
       "      <th>total_datos_usados_redondeado_GB</th>\n",
       "    </tr>\n",
       "  </thead>\n",
       "  <tbody>\n",
       "    <tr>\n",
       "      <th>0</th>\n",
       "      <td>1000</td>\n",
       "      <td>12</td>\n",
       "      <td>1901.47</td>\n",
       "      <td>2</td>\n",
       "    </tr>\n",
       "    <tr>\n",
       "      <th>1</th>\n",
       "      <td>1001</td>\n",
       "      <td>8</td>\n",
       "      <td>6919.15</td>\n",
       "      <td>7</td>\n",
       "    </tr>\n",
       "    <tr>\n",
       "      <th>2</th>\n",
       "      <td>1001</td>\n",
       "      <td>9</td>\n",
       "      <td>13314.82</td>\n",
       "      <td>14</td>\n",
       "    </tr>\n",
       "    <tr>\n",
       "      <th>3</th>\n",
       "      <td>1001</td>\n",
       "      <td>10</td>\n",
       "      <td>22330.49</td>\n",
       "      <td>22</td>\n",
       "    </tr>\n",
       "    <tr>\n",
       "      <th>4</th>\n",
       "      <td>1001</td>\n",
       "      <td>11</td>\n",
       "      <td>18504.30</td>\n",
       "      <td>19</td>\n",
       "    </tr>\n",
       "    <tr>\n",
       "      <th>...</th>\n",
       "      <td>...</td>\n",
       "      <td>...</td>\n",
       "      <td>...</td>\n",
       "      <td>...</td>\n",
       "    </tr>\n",
       "    <tr>\n",
       "      <th>2272</th>\n",
       "      <td>1498</td>\n",
       "      <td>12</td>\n",
       "      <td>23137.69</td>\n",
       "      <td>23</td>\n",
       "    </tr>\n",
       "    <tr>\n",
       "      <th>2273</th>\n",
       "      <td>1499</td>\n",
       "      <td>9</td>\n",
       "      <td>12984.76</td>\n",
       "      <td>13</td>\n",
       "    </tr>\n",
       "    <tr>\n",
       "      <th>2274</th>\n",
       "      <td>1499</td>\n",
       "      <td>10</td>\n",
       "      <td>19492.43</td>\n",
       "      <td>20</td>\n",
       "    </tr>\n",
       "    <tr>\n",
       "      <th>2275</th>\n",
       "      <td>1499</td>\n",
       "      <td>11</td>\n",
       "      <td>16813.83</td>\n",
       "      <td>17</td>\n",
       "    </tr>\n",
       "    <tr>\n",
       "      <th>2276</th>\n",
       "      <td>1499</td>\n",
       "      <td>12</td>\n",
       "      <td>22059.21</td>\n",
       "      <td>22</td>\n",
       "    </tr>\n",
       "  </tbody>\n",
       "</table>\n",
       "<p>2277 rows × 4 columns</p>\n",
       "</div>"
      ],
      "text/plain": [
       "      user_id  mes  total_datos_usados  total_datos_usados_redondeado_GB\n",
       "0        1000   12             1901.47                                 2\n",
       "1        1001    8             6919.15                                 7\n",
       "2        1001    9            13314.82                                14\n",
       "3        1001   10            22330.49                                22\n",
       "4        1001   11            18504.30                                19\n",
       "...       ...  ...                 ...                               ...\n",
       "2272     1498   12            23137.69                                23\n",
       "2273     1499    9            12984.76                                13\n",
       "2274     1499   10            19492.43                                20\n",
       "2275     1499   11            16813.83                                17\n",
       "2276     1499   12            22059.21                                22\n",
       "\n",
       "[2277 rows x 4 columns]"
      ]
     },
     "execution_count": 53,
     "metadata": {},
     "output_type": "execute_result"
    }
   ],
   "source": [
    "internet_analytics"
   ]
  },
  {
   "cell_type": "code",
   "execution_count": 54,
   "metadata": {
    "trusted": false
   },
   "outputs": [
    {
     "data": {
      "text/html": [
       "<div>\n",
       "<style scoped>\n",
       "    .dataframe tbody tr th:only-of-type {\n",
       "        vertical-align: middle;\n",
       "    }\n",
       "\n",
       "    .dataframe tbody tr th {\n",
       "        vertical-align: top;\n",
       "    }\n",
       "\n",
       "    .dataframe thead th {\n",
       "        text-align: right;\n",
       "    }\n",
       "</style>\n",
       "<table border=\"1\" class=\"dataframe\">\n",
       "  <thead>\n",
       "    <tr style=\"text-align: right;\">\n",
       "      <th></th>\n",
       "      <th>user_id</th>\n",
       "      <th>mes</th>\n",
       "      <th>minutos_usados</th>\n",
       "      <th>llamadas_hechas</th>\n",
       "    </tr>\n",
       "  </thead>\n",
       "  <tbody>\n",
       "    <tr>\n",
       "      <th>0</th>\n",
       "      <td>1000</td>\n",
       "      <td>12</td>\n",
       "      <td>124</td>\n",
       "      <td>16</td>\n",
       "    </tr>\n",
       "    <tr>\n",
       "      <th>1</th>\n",
       "      <td>1001</td>\n",
       "      <td>8</td>\n",
       "      <td>182</td>\n",
       "      <td>27</td>\n",
       "    </tr>\n",
       "    <tr>\n",
       "      <th>2</th>\n",
       "      <td>1001</td>\n",
       "      <td>9</td>\n",
       "      <td>315</td>\n",
       "      <td>49</td>\n",
       "    </tr>\n",
       "    <tr>\n",
       "      <th>3</th>\n",
       "      <td>1001</td>\n",
       "      <td>10</td>\n",
       "      <td>393</td>\n",
       "      <td>65</td>\n",
       "    </tr>\n",
       "    <tr>\n",
       "      <th>4</th>\n",
       "      <td>1001</td>\n",
       "      <td>11</td>\n",
       "      <td>426</td>\n",
       "      <td>64</td>\n",
       "    </tr>\n",
       "  </tbody>\n",
       "</table>\n",
       "</div>"
      ],
      "text/plain": [
       "   user_id  mes  minutos_usados  llamadas_hechas\n",
       "0     1000   12             124               16\n",
       "1     1001    8             182               27\n",
       "2     1001    9             315               49\n",
       "3     1001   10             393               65\n",
       "4     1001   11             426               64"
      ]
     },
     "execution_count": 54,
     "metadata": {},
     "output_type": "execute_result"
    }
   ],
   "source": [
    "llamadas_analytics.head()"
   ]
  },
  {
   "cell_type": "code",
   "execution_count": 55,
   "metadata": {
    "trusted": false
   },
   "outputs": [
    {
     "data": {
      "text/html": [
       "<div>\n",
       "<style scoped>\n",
       "    .dataframe tbody tr th:only-of-type {\n",
       "        vertical-align: middle;\n",
       "    }\n",
       "\n",
       "    .dataframe tbody tr th {\n",
       "        vertical-align: top;\n",
       "    }\n",
       "\n",
       "    .dataframe thead th {\n",
       "        text-align: right;\n",
       "    }\n",
       "</style>\n",
       "<table border=\"1\" class=\"dataframe\">\n",
       "  <thead>\n",
       "    <tr style=\"text-align: right;\">\n",
       "      <th></th>\n",
       "      <th>user_id</th>\n",
       "      <th>mes</th>\n",
       "      <th>cantidad_de_mensajes</th>\n",
       "    </tr>\n",
       "  </thead>\n",
       "  <tbody>\n",
       "    <tr>\n",
       "      <th>0</th>\n",
       "      <td>1000</td>\n",
       "      <td>12</td>\n",
       "      <td>11</td>\n",
       "    </tr>\n",
       "    <tr>\n",
       "      <th>1</th>\n",
       "      <td>1001</td>\n",
       "      <td>8</td>\n",
       "      <td>30</td>\n",
       "    </tr>\n",
       "    <tr>\n",
       "      <th>2</th>\n",
       "      <td>1001</td>\n",
       "      <td>9</td>\n",
       "      <td>44</td>\n",
       "    </tr>\n",
       "    <tr>\n",
       "      <th>3</th>\n",
       "      <td>1001</td>\n",
       "      <td>10</td>\n",
       "      <td>53</td>\n",
       "    </tr>\n",
       "    <tr>\n",
       "      <th>4</th>\n",
       "      <td>1001</td>\n",
       "      <td>11</td>\n",
       "      <td>36</td>\n",
       "    </tr>\n",
       "  </tbody>\n",
       "</table>\n",
       "</div>"
      ],
      "text/plain": [
       "   user_id  mes  cantidad_de_mensajes\n",
       "0     1000   12                    11\n",
       "1     1001    8                    30\n",
       "2     1001    9                    44\n",
       "3     1001   10                    53\n",
       "4     1001   11                    36"
      ]
     },
     "execution_count": 55,
     "metadata": {},
     "output_type": "execute_result"
    }
   ],
   "source": [
    "mensajes_analytics.head()"
   ]
  },
  {
   "cell_type": "markdown",
   "metadata": {
    "id": "VDfYXnj80q1H"
   },
   "source": [
    "[Junta los datos agregados en un DataFrame para que haya un registro que represente lo que consumió un usuario único en un mes determinado.]"
   ]
  },
  {
   "cell_type": "code",
   "execution_count": 56,
   "metadata": {
    "id": "FW99ykyf0q1H",
    "trusted": false
   },
   "outputs": [
    {
     "data": {
      "text/html": [
       "<div>\n",
       "<style scoped>\n",
       "    .dataframe tbody tr th:only-of-type {\n",
       "        vertical-align: middle;\n",
       "    }\n",
       "\n",
       "    .dataframe tbody tr th {\n",
       "        vertical-align: top;\n",
       "    }\n",
       "\n",
       "    .dataframe thead th {\n",
       "        text-align: right;\n",
       "    }\n",
       "</style>\n",
       "<table border=\"1\" class=\"dataframe\">\n",
       "  <thead>\n",
       "    <tr style=\"text-align: right;\">\n",
       "      <th></th>\n",
       "      <th>user_id</th>\n",
       "      <th>mes</th>\n",
       "      <th>minutos_usados</th>\n",
       "      <th>llamadas_hechas</th>\n",
       "      <th>cantidad_de_mensajes</th>\n",
       "    </tr>\n",
       "  </thead>\n",
       "  <tbody>\n",
       "    <tr>\n",
       "      <th>0</th>\n",
       "      <td>1000</td>\n",
       "      <td>12</td>\n",
       "      <td>124.0</td>\n",
       "      <td>16.0</td>\n",
       "      <td>11.0</td>\n",
       "    </tr>\n",
       "    <tr>\n",
       "      <th>1</th>\n",
       "      <td>1001</td>\n",
       "      <td>8</td>\n",
       "      <td>182.0</td>\n",
       "      <td>27.0</td>\n",
       "      <td>30.0</td>\n",
       "    </tr>\n",
       "    <tr>\n",
       "      <th>2</th>\n",
       "      <td>1001</td>\n",
       "      <td>9</td>\n",
       "      <td>315.0</td>\n",
       "      <td>49.0</td>\n",
       "      <td>44.0</td>\n",
       "    </tr>\n",
       "    <tr>\n",
       "      <th>3</th>\n",
       "      <td>1001</td>\n",
       "      <td>10</td>\n",
       "      <td>393.0</td>\n",
       "      <td>65.0</td>\n",
       "      <td>53.0</td>\n",
       "    </tr>\n",
       "    <tr>\n",
       "      <th>4</th>\n",
       "      <td>1001</td>\n",
       "      <td>11</td>\n",
       "      <td>426.0</td>\n",
       "      <td>64.0</td>\n",
       "      <td>36.0</td>\n",
       "    </tr>\n",
       "    <tr>\n",
       "      <th>...</th>\n",
       "      <td>...</td>\n",
       "      <td>...</td>\n",
       "      <td>...</td>\n",
       "      <td>...</td>\n",
       "      <td>...</td>\n",
       "    </tr>\n",
       "    <tr>\n",
       "      <th>2286</th>\n",
       "      <td>1349</td>\n",
       "      <td>10</td>\n",
       "      <td>NaN</td>\n",
       "      <td>NaN</td>\n",
       "      <td>76.0</td>\n",
       "    </tr>\n",
       "    <tr>\n",
       "      <th>2287</th>\n",
       "      <td>1349</td>\n",
       "      <td>11</td>\n",
       "      <td>NaN</td>\n",
       "      <td>NaN</td>\n",
       "      <td>72.0</td>\n",
       "    </tr>\n",
       "    <tr>\n",
       "      <th>2288</th>\n",
       "      <td>1349</td>\n",
       "      <td>12</td>\n",
       "      <td>NaN</td>\n",
       "      <td>NaN</td>\n",
       "      <td>61.0</td>\n",
       "    </tr>\n",
       "    <tr>\n",
       "      <th>2289</th>\n",
       "      <td>1361</td>\n",
       "      <td>5</td>\n",
       "      <td>NaN</td>\n",
       "      <td>NaN</td>\n",
       "      <td>2.0</td>\n",
       "    </tr>\n",
       "    <tr>\n",
       "      <th>2290</th>\n",
       "      <td>1482</td>\n",
       "      <td>10</td>\n",
       "      <td>NaN</td>\n",
       "      <td>NaN</td>\n",
       "      <td>2.0</td>\n",
       "    </tr>\n",
       "  </tbody>\n",
       "</table>\n",
       "<p>2291 rows × 5 columns</p>\n",
       "</div>"
      ],
      "text/plain": [
       "      user_id  mes  minutos_usados  llamadas_hechas  cantidad_de_mensajes\n",
       "0        1000   12           124.0             16.0                  11.0\n",
       "1        1001    8           182.0             27.0                  30.0\n",
       "2        1001    9           315.0             49.0                  44.0\n",
       "3        1001   10           393.0             65.0                  53.0\n",
       "4        1001   11           426.0             64.0                  36.0\n",
       "...       ...  ...             ...              ...                   ...\n",
       "2286     1349   10             NaN              NaN                  76.0\n",
       "2287     1349   11             NaN              NaN                  72.0\n",
       "2288     1349   12             NaN              NaN                  61.0\n",
       "2289     1361    5             NaN              NaN                   2.0\n",
       "2290     1482   10             NaN              NaN                   2.0\n",
       "\n",
       "[2291 rows x 5 columns]"
      ]
     },
     "execution_count": 56,
     "metadata": {},
     "output_type": "execute_result"
    }
   ],
   "source": [
    "# Fusiona los datos de llamadas, minutos, mensajes e Internet con base en user_id y month\n",
    "\n",
    "llamadas_y_mensajes = llamadas_analytics.merge(mensajes_analytics, on=['user_id', 'mes'], how='outer')\n",
    "llamadas_y_mensajes\n"
   ]
  },
  {
   "cell_type": "code",
   "execution_count": 57,
   "metadata": {
    "trusted": false
   },
   "outputs": [
    {
     "data": {
      "text/html": [
       "<div>\n",
       "<style scoped>\n",
       "    .dataframe tbody tr th:only-of-type {\n",
       "        vertical-align: middle;\n",
       "    }\n",
       "\n",
       "    .dataframe tbody tr th {\n",
       "        vertical-align: top;\n",
       "    }\n",
       "\n",
       "    .dataframe thead th {\n",
       "        text-align: right;\n",
       "    }\n",
       "</style>\n",
       "<table border=\"1\" class=\"dataframe\">\n",
       "  <thead>\n",
       "    <tr style=\"text-align: right;\">\n",
       "      <th></th>\n",
       "      <th>user_id</th>\n",
       "      <th>mes</th>\n",
       "      <th>minutos_usados</th>\n",
       "      <th>llamadas_hechas</th>\n",
       "      <th>cantidad_de_mensajes</th>\n",
       "      <th>total_datos_usados</th>\n",
       "      <th>total_datos_usados_redondeado_GB</th>\n",
       "    </tr>\n",
       "  </thead>\n",
       "  <tbody>\n",
       "    <tr>\n",
       "      <th>0</th>\n",
       "      <td>1000</td>\n",
       "      <td>12</td>\n",
       "      <td>124.0</td>\n",
       "      <td>16.0</td>\n",
       "      <td>11.0</td>\n",
       "      <td>1901.47</td>\n",
       "      <td>2.0</td>\n",
       "    </tr>\n",
       "    <tr>\n",
       "      <th>1</th>\n",
       "      <td>1001</td>\n",
       "      <td>8</td>\n",
       "      <td>182.0</td>\n",
       "      <td>27.0</td>\n",
       "      <td>30.0</td>\n",
       "      <td>6919.15</td>\n",
       "      <td>7.0</td>\n",
       "    </tr>\n",
       "    <tr>\n",
       "      <th>2</th>\n",
       "      <td>1001</td>\n",
       "      <td>9</td>\n",
       "      <td>315.0</td>\n",
       "      <td>49.0</td>\n",
       "      <td>44.0</td>\n",
       "      <td>13314.82</td>\n",
       "      <td>14.0</td>\n",
       "    </tr>\n",
       "    <tr>\n",
       "      <th>3</th>\n",
       "      <td>1001</td>\n",
       "      <td>10</td>\n",
       "      <td>393.0</td>\n",
       "      <td>65.0</td>\n",
       "      <td>53.0</td>\n",
       "      <td>22330.49</td>\n",
       "      <td>22.0</td>\n",
       "    </tr>\n",
       "    <tr>\n",
       "      <th>4</th>\n",
       "      <td>1001</td>\n",
       "      <td>11</td>\n",
       "      <td>426.0</td>\n",
       "      <td>64.0</td>\n",
       "      <td>36.0</td>\n",
       "      <td>18504.30</td>\n",
       "      <td>19.0</td>\n",
       "    </tr>\n",
       "    <tr>\n",
       "      <th>...</th>\n",
       "      <td>...</td>\n",
       "      <td>...</td>\n",
       "      <td>...</td>\n",
       "      <td>...</td>\n",
       "      <td>...</td>\n",
       "      <td>...</td>\n",
       "      <td>...</td>\n",
       "    </tr>\n",
       "    <tr>\n",
       "      <th>2288</th>\n",
       "      <td>1349</td>\n",
       "      <td>12</td>\n",
       "      <td>NaN</td>\n",
       "      <td>NaN</td>\n",
       "      <td>61.0</td>\n",
       "      <td>13039.91</td>\n",
       "      <td>13.0</td>\n",
       "    </tr>\n",
       "    <tr>\n",
       "      <th>2289</th>\n",
       "      <td>1361</td>\n",
       "      <td>5</td>\n",
       "      <td>NaN</td>\n",
       "      <td>NaN</td>\n",
       "      <td>2.0</td>\n",
       "      <td>1519.69</td>\n",
       "      <td>2.0</td>\n",
       "    </tr>\n",
       "    <tr>\n",
       "      <th>2290</th>\n",
       "      <td>1482</td>\n",
       "      <td>10</td>\n",
       "      <td>NaN</td>\n",
       "      <td>NaN</td>\n",
       "      <td>2.0</td>\n",
       "      <td>NaN</td>\n",
       "      <td>NaN</td>\n",
       "    </tr>\n",
       "    <tr>\n",
       "      <th>2291</th>\n",
       "      <td>1108</td>\n",
       "      <td>12</td>\n",
       "      <td>NaN</td>\n",
       "      <td>NaN</td>\n",
       "      <td>NaN</td>\n",
       "      <td>233.17</td>\n",
       "      <td>1.0</td>\n",
       "    </tr>\n",
       "    <tr>\n",
       "      <th>2292</th>\n",
       "      <td>1311</td>\n",
       "      <td>6</td>\n",
       "      <td>NaN</td>\n",
       "      <td>NaN</td>\n",
       "      <td>NaN</td>\n",
       "      <td>1498.83</td>\n",
       "      <td>2.0</td>\n",
       "    </tr>\n",
       "  </tbody>\n",
       "</table>\n",
       "<p>2293 rows × 7 columns</p>\n",
       "</div>"
      ],
      "text/plain": [
       "      user_id  mes  minutos_usados  llamadas_hechas  cantidad_de_mensajes  \\\n",
       "0        1000   12           124.0             16.0                  11.0   \n",
       "1        1001    8           182.0             27.0                  30.0   \n",
       "2        1001    9           315.0             49.0                  44.0   \n",
       "3        1001   10           393.0             65.0                  53.0   \n",
       "4        1001   11           426.0             64.0                  36.0   \n",
       "...       ...  ...             ...              ...                   ...   \n",
       "2288     1349   12             NaN              NaN                  61.0   \n",
       "2289     1361    5             NaN              NaN                   2.0   \n",
       "2290     1482   10             NaN              NaN                   2.0   \n",
       "2291     1108   12             NaN              NaN                   NaN   \n",
       "2292     1311    6             NaN              NaN                   NaN   \n",
       "\n",
       "      total_datos_usados  total_datos_usados_redondeado_GB  \n",
       "0                1901.47                               2.0  \n",
       "1                6919.15                               7.0  \n",
       "2               13314.82                              14.0  \n",
       "3               22330.49                              22.0  \n",
       "4               18504.30                              19.0  \n",
       "...                  ...                               ...  \n",
       "2288            13039.91                              13.0  \n",
       "2289             1519.69                               2.0  \n",
       "2290                 NaN                               NaN  \n",
       "2291              233.17                               1.0  \n",
       "2292             1498.83                               2.0  \n",
       "\n",
       "[2293 rows x 7 columns]"
      ]
     },
     "execution_count": 57,
     "metadata": {},
     "output_type": "execute_result"
    }
   ],
   "source": [
    "tabla_consumo = llamadas_y_mensajes.merge(internet_analytics, on=['user_id', 'mes'], how='outer')\n",
    "tabla_consumo"
   ]
  },
  {
   "cell_type": "code",
   "execution_count": 58,
   "metadata": {
    "trusted": false
   },
   "outputs": [
    {
     "data": {
      "text/html": [
       "<div>\n",
       "<style scoped>\n",
       "    .dataframe tbody tr th:only-of-type {\n",
       "        vertical-align: middle;\n",
       "    }\n",
       "\n",
       "    .dataframe tbody tr th {\n",
       "        vertical-align: top;\n",
       "    }\n",
       "\n",
       "    .dataframe thead th {\n",
       "        text-align: right;\n",
       "    }\n",
       "</style>\n",
       "<table border=\"1\" class=\"dataframe\">\n",
       "  <thead>\n",
       "    <tr style=\"text-align: right;\">\n",
       "      <th></th>\n",
       "      <th>user_id</th>\n",
       "      <th>plan_id</th>\n",
       "      <th>city</th>\n",
       "    </tr>\n",
       "  </thead>\n",
       "  <tbody>\n",
       "    <tr>\n",
       "      <th>0</th>\n",
       "      <td>1000</td>\n",
       "      <td>ultimate</td>\n",
       "      <td>Atlanta-Sandy Springs-Roswell, GA MSA</td>\n",
       "    </tr>\n",
       "    <tr>\n",
       "      <th>1</th>\n",
       "      <td>1001</td>\n",
       "      <td>surf</td>\n",
       "      <td>Seattle-Tacoma-Bellevue, WA MSA</td>\n",
       "    </tr>\n",
       "    <tr>\n",
       "      <th>2</th>\n",
       "      <td>1002</td>\n",
       "      <td>surf</td>\n",
       "      <td>Las Vegas-Henderson-Paradise, NV MSA</td>\n",
       "    </tr>\n",
       "    <tr>\n",
       "      <th>3</th>\n",
       "      <td>1003</td>\n",
       "      <td>surf</td>\n",
       "      <td>Tulsa, OK MSA</td>\n",
       "    </tr>\n",
       "    <tr>\n",
       "      <th>4</th>\n",
       "      <td>1004</td>\n",
       "      <td>surf</td>\n",
       "      <td>Seattle-Tacoma-Bellevue, WA MSA</td>\n",
       "    </tr>\n",
       "    <tr>\n",
       "      <th>...</th>\n",
       "      <td>...</td>\n",
       "      <td>...</td>\n",
       "      <td>...</td>\n",
       "    </tr>\n",
       "    <tr>\n",
       "      <th>495</th>\n",
       "      <td>1495</td>\n",
       "      <td>surf</td>\n",
       "      <td>New York-Newark-Jersey City, NY-NJ-PA MSA</td>\n",
       "    </tr>\n",
       "    <tr>\n",
       "      <th>496</th>\n",
       "      <td>1496</td>\n",
       "      <td>surf</td>\n",
       "      <td>New Orleans-Metairie, LA MSA</td>\n",
       "    </tr>\n",
       "    <tr>\n",
       "      <th>497</th>\n",
       "      <td>1497</td>\n",
       "      <td>ultimate</td>\n",
       "      <td>Los Angeles-Long Beach-Anaheim, CA MSA</td>\n",
       "    </tr>\n",
       "    <tr>\n",
       "      <th>498</th>\n",
       "      <td>1498</td>\n",
       "      <td>surf</td>\n",
       "      <td>New York-Newark-Jersey City, NY-NJ-PA MSA</td>\n",
       "    </tr>\n",
       "    <tr>\n",
       "      <th>499</th>\n",
       "      <td>1499</td>\n",
       "      <td>surf</td>\n",
       "      <td>Orlando-Kissimmee-Sanford, FL MSA</td>\n",
       "    </tr>\n",
       "  </tbody>\n",
       "</table>\n",
       "<p>500 rows × 3 columns</p>\n",
       "</div>"
      ],
      "text/plain": [
       "     user_id   plan_id                                       city\n",
       "0       1000  ultimate      Atlanta-Sandy Springs-Roswell, GA MSA\n",
       "1       1001      surf            Seattle-Tacoma-Bellevue, WA MSA\n",
       "2       1002      surf       Las Vegas-Henderson-Paradise, NV MSA\n",
       "3       1003      surf                              Tulsa, OK MSA\n",
       "4       1004      surf            Seattle-Tacoma-Bellevue, WA MSA\n",
       "..       ...       ...                                        ...\n",
       "495     1495      surf  New York-Newark-Jersey City, NY-NJ-PA MSA\n",
       "496     1496      surf               New Orleans-Metairie, LA MSA\n",
       "497     1497  ultimate     Los Angeles-Long Beach-Anaheim, CA MSA\n",
       "498     1498      surf  New York-Newark-Jersey City, NY-NJ-PA MSA\n",
       "499     1499      surf          Orlando-Kissimmee-Sanford, FL MSA\n",
       "\n",
       "[500 rows x 3 columns]"
      ]
     },
     "execution_count": 58,
     "metadata": {},
     "output_type": "execute_result"
    }
   ],
   "source": [
    "plan_analytics = usuarios_df[['user_id', 'plan_id', 'city']]\n",
    "plan_analytics\n"
   ]
  },
  {
   "cell_type": "code",
   "execution_count": 59,
   "metadata": {
    "trusted": false
   },
   "outputs": [
    {
     "data": {
      "text/html": [
       "<div>\n",
       "<style scoped>\n",
       "    .dataframe tbody tr th:only-of-type {\n",
       "        vertical-align: middle;\n",
       "    }\n",
       "\n",
       "    .dataframe tbody tr th {\n",
       "        vertical-align: top;\n",
       "    }\n",
       "\n",
       "    .dataframe thead th {\n",
       "        text-align: right;\n",
       "    }\n",
       "</style>\n",
       "<table border=\"1\" class=\"dataframe\">\n",
       "  <thead>\n",
       "    <tr style=\"text-align: right;\">\n",
       "      <th></th>\n",
       "      <th>user_id</th>\n",
       "      <th>mes</th>\n",
       "      <th>minutos_usados</th>\n",
       "      <th>llamadas_hechas</th>\n",
       "      <th>cantidad_de_mensajes</th>\n",
       "      <th>total_datos_usados</th>\n",
       "      <th>total_datos_usados_redondeado_GB</th>\n",
       "      <th>plan_id</th>\n",
       "      <th>city</th>\n",
       "    </tr>\n",
       "  </thead>\n",
       "  <tbody>\n",
       "    <tr>\n",
       "      <th>0</th>\n",
       "      <td>1000</td>\n",
       "      <td>12.0</td>\n",
       "      <td>124.0</td>\n",
       "      <td>16.0</td>\n",
       "      <td>11.0</td>\n",
       "      <td>1901.47</td>\n",
       "      <td>2.0</td>\n",
       "      <td>ultimate</td>\n",
       "      <td>Atlanta-Sandy Springs-Roswell, GA MSA</td>\n",
       "    </tr>\n",
       "    <tr>\n",
       "      <th>1</th>\n",
       "      <td>1001</td>\n",
       "      <td>8.0</td>\n",
       "      <td>182.0</td>\n",
       "      <td>27.0</td>\n",
       "      <td>30.0</td>\n",
       "      <td>6919.15</td>\n",
       "      <td>7.0</td>\n",
       "      <td>surf</td>\n",
       "      <td>Seattle-Tacoma-Bellevue, WA MSA</td>\n",
       "    </tr>\n",
       "    <tr>\n",
       "      <th>2</th>\n",
       "      <td>1001</td>\n",
       "      <td>9.0</td>\n",
       "      <td>315.0</td>\n",
       "      <td>49.0</td>\n",
       "      <td>44.0</td>\n",
       "      <td>13314.82</td>\n",
       "      <td>14.0</td>\n",
       "      <td>surf</td>\n",
       "      <td>Seattle-Tacoma-Bellevue, WA MSA</td>\n",
       "    </tr>\n",
       "    <tr>\n",
       "      <th>3</th>\n",
       "      <td>1001</td>\n",
       "      <td>10.0</td>\n",
       "      <td>393.0</td>\n",
       "      <td>65.0</td>\n",
       "      <td>53.0</td>\n",
       "      <td>22330.49</td>\n",
       "      <td>22.0</td>\n",
       "      <td>surf</td>\n",
       "      <td>Seattle-Tacoma-Bellevue, WA MSA</td>\n",
       "    </tr>\n",
       "    <tr>\n",
       "      <th>4</th>\n",
       "      <td>1001</td>\n",
       "      <td>11.0</td>\n",
       "      <td>426.0</td>\n",
       "      <td>64.0</td>\n",
       "      <td>36.0</td>\n",
       "      <td>18504.30</td>\n",
       "      <td>19.0</td>\n",
       "      <td>surf</td>\n",
       "      <td>Seattle-Tacoma-Bellevue, WA MSA</td>\n",
       "    </tr>\n",
       "    <tr>\n",
       "      <th>...</th>\n",
       "      <td>...</td>\n",
       "      <td>...</td>\n",
       "      <td>...</td>\n",
       "      <td>...</td>\n",
       "      <td>...</td>\n",
       "      <td>...</td>\n",
       "      <td>...</td>\n",
       "      <td>...</td>\n",
       "      <td>...</td>\n",
       "    </tr>\n",
       "    <tr>\n",
       "      <th>2298</th>\n",
       "      <td>1307</td>\n",
       "      <td>NaN</td>\n",
       "      <td>NaN</td>\n",
       "      <td>NaN</td>\n",
       "      <td>NaN</td>\n",
       "      <td>NaN</td>\n",
       "      <td>NaN</td>\n",
       "      <td>surf</td>\n",
       "      <td>Boston-Cambridge-Newton, MA-NH MSA</td>\n",
       "    </tr>\n",
       "    <tr>\n",
       "      <th>2299</th>\n",
       "      <td>1319</td>\n",
       "      <td>NaN</td>\n",
       "      <td>NaN</td>\n",
       "      <td>NaN</td>\n",
       "      <td>NaN</td>\n",
       "      <td>NaN</td>\n",
       "      <td>NaN</td>\n",
       "      <td>surf</td>\n",
       "      <td>Colorado Springs, CO MSA</td>\n",
       "    </tr>\n",
       "    <tr>\n",
       "      <th>2300</th>\n",
       "      <td>1378</td>\n",
       "      <td>NaN</td>\n",
       "      <td>NaN</td>\n",
       "      <td>NaN</td>\n",
       "      <td>NaN</td>\n",
       "      <td>NaN</td>\n",
       "      <td>NaN</td>\n",
       "      <td>surf</td>\n",
       "      <td>Denver-Aurora-Lakewood, CO MSA</td>\n",
       "    </tr>\n",
       "    <tr>\n",
       "      <th>2301</th>\n",
       "      <td>1463</td>\n",
       "      <td>NaN</td>\n",
       "      <td>NaN</td>\n",
       "      <td>NaN</td>\n",
       "      <td>NaN</td>\n",
       "      <td>NaN</td>\n",
       "      <td>NaN</td>\n",
       "      <td>ultimate</td>\n",
       "      <td>Atlanta-Sandy Springs-Roswell, GA MSA</td>\n",
       "    </tr>\n",
       "    <tr>\n",
       "      <th>2302</th>\n",
       "      <td>1473</td>\n",
       "      <td>NaN</td>\n",
       "      <td>NaN</td>\n",
       "      <td>NaN</td>\n",
       "      <td>NaN</td>\n",
       "      <td>NaN</td>\n",
       "      <td>NaN</td>\n",
       "      <td>surf</td>\n",
       "      <td>Louisville/Jefferson County, KY-IN MSA</td>\n",
       "    </tr>\n",
       "  </tbody>\n",
       "</table>\n",
       "<p>2303 rows × 9 columns</p>\n",
       "</div>"
      ],
      "text/plain": [
       "      user_id   mes  minutos_usados  llamadas_hechas  cantidad_de_mensajes  \\\n",
       "0        1000  12.0           124.0             16.0                  11.0   \n",
       "1        1001   8.0           182.0             27.0                  30.0   \n",
       "2        1001   9.0           315.0             49.0                  44.0   \n",
       "3        1001  10.0           393.0             65.0                  53.0   \n",
       "4        1001  11.0           426.0             64.0                  36.0   \n",
       "...       ...   ...             ...              ...                   ...   \n",
       "2298     1307   NaN             NaN              NaN                   NaN   \n",
       "2299     1319   NaN             NaN              NaN                   NaN   \n",
       "2300     1378   NaN             NaN              NaN                   NaN   \n",
       "2301     1463   NaN             NaN              NaN                   NaN   \n",
       "2302     1473   NaN             NaN              NaN                   NaN   \n",
       "\n",
       "      total_datos_usados  total_datos_usados_redondeado_GB   plan_id  \\\n",
       "0                1901.47                               2.0  ultimate   \n",
       "1                6919.15                               7.0      surf   \n",
       "2               13314.82                              14.0      surf   \n",
       "3               22330.49                              22.0      surf   \n",
       "4               18504.30                              19.0      surf   \n",
       "...                  ...                               ...       ...   \n",
       "2298                 NaN                               NaN      surf   \n",
       "2299                 NaN                               NaN      surf   \n",
       "2300                 NaN                               NaN      surf   \n",
       "2301                 NaN                               NaN  ultimate   \n",
       "2302                 NaN                               NaN      surf   \n",
       "\n",
       "                                        city  \n",
       "0      Atlanta-Sandy Springs-Roswell, GA MSA  \n",
       "1            Seattle-Tacoma-Bellevue, WA MSA  \n",
       "2            Seattle-Tacoma-Bellevue, WA MSA  \n",
       "3            Seattle-Tacoma-Bellevue, WA MSA  \n",
       "4            Seattle-Tacoma-Bellevue, WA MSA  \n",
       "...                                      ...  \n",
       "2298      Boston-Cambridge-Newton, MA-NH MSA  \n",
       "2299                Colorado Springs, CO MSA  \n",
       "2300          Denver-Aurora-Lakewood, CO MSA  \n",
       "2301   Atlanta-Sandy Springs-Roswell, GA MSA  \n",
       "2302  Louisville/Jefferson County, KY-IN MSA  \n",
       "\n",
       "[2303 rows x 9 columns]"
      ]
     },
     "execution_count": 59,
     "metadata": {},
     "output_type": "execute_result"
    }
   ],
   "source": [
    "tabla_consumo_planes = tabla_consumo.merge(plan_analytics, on=['user_id'], how='outer')\n",
    "tabla_consumo_planes"
   ]
  },
  {
   "cell_type": "code",
   "execution_count": 60,
   "metadata": {
    "id": "0dNOXHag0q1H",
    "trusted": false
   },
   "outputs": [],
   "source": [
    "# Añade la información de la tarifa\n",
    "\n",
    "surf_usd_monthly_pay = 20\n",
    "surf_messages_month = 50\n",
    "surf_minutes_month = 500\n",
    "surf_mb_per_month = 15\n",
    "surf_usd_per_gb = 10\n",
    "surf_usd_per_message = 0.03\n",
    "surf_usd_per_minute = 0.03\n",
    "\n",
    "ultimate_usd_monthly_pay = 70\n",
    "ultimate_messages_month = 1000\n",
    "ultimate_minutes_month = 3000\n",
    "ultimate_mb_per_month = 30\n",
    "ultimate_usd_per_gb = 7\n",
    "surf_usd_per_message = 0.01\n",
    "ultimate_usd_per_minute = 0.01"
   ]
  },
  {
   "cell_type": "markdown",
   "metadata": {
    "id": "1IwGo4wg0q1I"
   },
   "source": [
    "[Calcula los ingresos mensuales por usuario (resta el límite del paquete gratuito del número total de llamadas, mensajes de texto y datos; multiplica el resultado por el valor del plan de llamadas; añade la tarifa mensual en función del plan de llamadas). Nota: Dadas las condiciones del plan, ¡esto podría no ser tan trivial como un par de líneas! Así que no pasa nada si dedicas algo de tiempo a ello.]"
   ]
  },
  {
   "cell_type": "code",
   "execution_count": 61,
   "metadata": {
    "id": "5FGCf_c60q1I",
    "trusted": false
   },
   "outputs": [],
   "source": [
    "# Calcula el ingreso mensual para cada usuario\n",
    "\n"
   ]
  },
  {
   "cell_type": "markdown",
   "metadata": {
    "id": "-jtyHzJb0q1I"
   },
   "source": [
    "## Estudia el comportamiento de usuario"
   ]
  },
  {
   "cell_type": "markdown",
   "metadata": {
    "id": "AxU3Y0N70q1J"
   },
   "source": [
    "[Calcula algunas estadísticas descriptivas para los datos agregados y fusionados que nos sean útiles y que muestren un panorama general captado por los datos. Dibuja gráficos útiles para facilitar la comprensión. Dado que la tarea principal es comparar las tarifas y decidir cuál es más rentable, las estadísticas y gráficas deben calcularse por tarifa.]\n",
    "\n",
    "[En los comentarios hallarás pistas relevantes para las llamadas, pero no las hay para los mensajes e Internet. Sin embargo, el principio del estudio estadístico que se aplica para ellos es el mismo que para las llamadas.]"
   ]
  },
  {
   "cell_type": "markdown",
   "metadata": {
    "id": "vtW4CJEe0q1J"
   },
   "source": [
    "### Llamadas"
   ]
  },
  {
   "cell_type": "code",
   "execution_count": 62,
   "metadata": {
    "id": "Jf5v5--k0q1J",
    "trusted": false
   },
   "outputs": [],
   "source": [
    "# Compara la duración promedio de llamadas por cada plan y por cada mes. Traza un gráfico de barras para visualizarla.\n",
    "\n",
    "def llamadas_por_cobrar(fila):\n",
    "    plan = fila['plan_id']\n",
    "    minutos_usados = fila['minutos_usados']\n",
    "    \n",
    "    minutos_cobrables = 0\n",
    "    \n",
    "    if plan == 'surf':\n",
    "        if minutos_usados > surf_minutes_month:\n",
    "            minutos_cobrables = minutos_usados - surf_minutes_month\n",
    "    elif plan == 'ultimate':\n",
    "        if minutos_usados > ultimate_minutes_month:\n",
    "            minutos_cobrables = minutos_usados - ultimate_minutes_month\n",
    "            \n",
    "    return minutos_cobrables\n",
    "        "
   ]
  },
  {
   "cell_type": "code",
   "execution_count": 63,
   "metadata": {
    "trusted": false
   },
   "outputs": [
    {
     "data": {
      "text/html": [
       "<div>\n",
       "<style scoped>\n",
       "    .dataframe tbody tr th:only-of-type {\n",
       "        vertical-align: middle;\n",
       "    }\n",
       "\n",
       "    .dataframe tbody tr th {\n",
       "        vertical-align: top;\n",
       "    }\n",
       "\n",
       "    .dataframe thead th {\n",
       "        text-align: right;\n",
       "    }\n",
       "</style>\n",
       "<table border=\"1\" class=\"dataframe\">\n",
       "  <thead>\n",
       "    <tr style=\"text-align: right;\">\n",
       "      <th></th>\n",
       "      <th>user_id</th>\n",
       "      <th>mes</th>\n",
       "      <th>minutos_usados</th>\n",
       "      <th>llamadas_hechas</th>\n",
       "      <th>cantidad_de_mensajes</th>\n",
       "      <th>total_datos_usados</th>\n",
       "      <th>total_datos_usados_redondeado_GB</th>\n",
       "      <th>plan_id</th>\n",
       "      <th>city</th>\n",
       "      <th>minutos_cobrables</th>\n",
       "    </tr>\n",
       "  </thead>\n",
       "  <tbody>\n",
       "    <tr>\n",
       "      <th>0</th>\n",
       "      <td>1000</td>\n",
       "      <td>12.0</td>\n",
       "      <td>124.0</td>\n",
       "      <td>16.0</td>\n",
       "      <td>11.0</td>\n",
       "      <td>1901.47</td>\n",
       "      <td>2.0</td>\n",
       "      <td>ultimate</td>\n",
       "      <td>Atlanta-Sandy Springs-Roswell, GA MSA</td>\n",
       "      <td>0.0</td>\n",
       "    </tr>\n",
       "    <tr>\n",
       "      <th>1</th>\n",
       "      <td>1001</td>\n",
       "      <td>8.0</td>\n",
       "      <td>182.0</td>\n",
       "      <td>27.0</td>\n",
       "      <td>30.0</td>\n",
       "      <td>6919.15</td>\n",
       "      <td>7.0</td>\n",
       "      <td>surf</td>\n",
       "      <td>Seattle-Tacoma-Bellevue, WA MSA</td>\n",
       "      <td>0.0</td>\n",
       "    </tr>\n",
       "    <tr>\n",
       "      <th>2</th>\n",
       "      <td>1001</td>\n",
       "      <td>9.0</td>\n",
       "      <td>315.0</td>\n",
       "      <td>49.0</td>\n",
       "      <td>44.0</td>\n",
       "      <td>13314.82</td>\n",
       "      <td>14.0</td>\n",
       "      <td>surf</td>\n",
       "      <td>Seattle-Tacoma-Bellevue, WA MSA</td>\n",
       "      <td>0.0</td>\n",
       "    </tr>\n",
       "    <tr>\n",
       "      <th>3</th>\n",
       "      <td>1001</td>\n",
       "      <td>10.0</td>\n",
       "      <td>393.0</td>\n",
       "      <td>65.0</td>\n",
       "      <td>53.0</td>\n",
       "      <td>22330.49</td>\n",
       "      <td>22.0</td>\n",
       "      <td>surf</td>\n",
       "      <td>Seattle-Tacoma-Bellevue, WA MSA</td>\n",
       "      <td>0.0</td>\n",
       "    </tr>\n",
       "    <tr>\n",
       "      <th>4</th>\n",
       "      <td>1001</td>\n",
       "      <td>11.0</td>\n",
       "      <td>426.0</td>\n",
       "      <td>64.0</td>\n",
       "      <td>36.0</td>\n",
       "      <td>18504.30</td>\n",
       "      <td>19.0</td>\n",
       "      <td>surf</td>\n",
       "      <td>Seattle-Tacoma-Bellevue, WA MSA</td>\n",
       "      <td>0.0</td>\n",
       "    </tr>\n",
       "    <tr>\n",
       "      <th>...</th>\n",
       "      <td>...</td>\n",
       "      <td>...</td>\n",
       "      <td>...</td>\n",
       "      <td>...</td>\n",
       "      <td>...</td>\n",
       "      <td>...</td>\n",
       "      <td>...</td>\n",
       "      <td>...</td>\n",
       "      <td>...</td>\n",
       "      <td>...</td>\n",
       "    </tr>\n",
       "    <tr>\n",
       "      <th>2298</th>\n",
       "      <td>1307</td>\n",
       "      <td>NaN</td>\n",
       "      <td>NaN</td>\n",
       "      <td>NaN</td>\n",
       "      <td>NaN</td>\n",
       "      <td>NaN</td>\n",
       "      <td>NaN</td>\n",
       "      <td>surf</td>\n",
       "      <td>Boston-Cambridge-Newton, MA-NH MSA</td>\n",
       "      <td>0.0</td>\n",
       "    </tr>\n",
       "    <tr>\n",
       "      <th>2299</th>\n",
       "      <td>1319</td>\n",
       "      <td>NaN</td>\n",
       "      <td>NaN</td>\n",
       "      <td>NaN</td>\n",
       "      <td>NaN</td>\n",
       "      <td>NaN</td>\n",
       "      <td>NaN</td>\n",
       "      <td>surf</td>\n",
       "      <td>Colorado Springs, CO MSA</td>\n",
       "      <td>0.0</td>\n",
       "    </tr>\n",
       "    <tr>\n",
       "      <th>2300</th>\n",
       "      <td>1378</td>\n",
       "      <td>NaN</td>\n",
       "      <td>NaN</td>\n",
       "      <td>NaN</td>\n",
       "      <td>NaN</td>\n",
       "      <td>NaN</td>\n",
       "      <td>NaN</td>\n",
       "      <td>surf</td>\n",
       "      <td>Denver-Aurora-Lakewood, CO MSA</td>\n",
       "      <td>0.0</td>\n",
       "    </tr>\n",
       "    <tr>\n",
       "      <th>2301</th>\n",
       "      <td>1463</td>\n",
       "      <td>NaN</td>\n",
       "      <td>NaN</td>\n",
       "      <td>NaN</td>\n",
       "      <td>NaN</td>\n",
       "      <td>NaN</td>\n",
       "      <td>NaN</td>\n",
       "      <td>ultimate</td>\n",
       "      <td>Atlanta-Sandy Springs-Roswell, GA MSA</td>\n",
       "      <td>0.0</td>\n",
       "    </tr>\n",
       "    <tr>\n",
       "      <th>2302</th>\n",
       "      <td>1473</td>\n",
       "      <td>NaN</td>\n",
       "      <td>NaN</td>\n",
       "      <td>NaN</td>\n",
       "      <td>NaN</td>\n",
       "      <td>NaN</td>\n",
       "      <td>NaN</td>\n",
       "      <td>surf</td>\n",
       "      <td>Louisville/Jefferson County, KY-IN MSA</td>\n",
       "      <td>0.0</td>\n",
       "    </tr>\n",
       "  </tbody>\n",
       "</table>\n",
       "<p>2303 rows × 10 columns</p>\n",
       "</div>"
      ],
      "text/plain": [
       "      user_id   mes  minutos_usados  llamadas_hechas  cantidad_de_mensajes  \\\n",
       "0        1000  12.0           124.0             16.0                  11.0   \n",
       "1        1001   8.0           182.0             27.0                  30.0   \n",
       "2        1001   9.0           315.0             49.0                  44.0   \n",
       "3        1001  10.0           393.0             65.0                  53.0   \n",
       "4        1001  11.0           426.0             64.0                  36.0   \n",
       "...       ...   ...             ...              ...                   ...   \n",
       "2298     1307   NaN             NaN              NaN                   NaN   \n",
       "2299     1319   NaN             NaN              NaN                   NaN   \n",
       "2300     1378   NaN             NaN              NaN                   NaN   \n",
       "2301     1463   NaN             NaN              NaN                   NaN   \n",
       "2302     1473   NaN             NaN              NaN                   NaN   \n",
       "\n",
       "      total_datos_usados  total_datos_usados_redondeado_GB   plan_id  \\\n",
       "0                1901.47                               2.0  ultimate   \n",
       "1                6919.15                               7.0      surf   \n",
       "2               13314.82                              14.0      surf   \n",
       "3               22330.49                              22.0      surf   \n",
       "4               18504.30                              19.0      surf   \n",
       "...                  ...                               ...       ...   \n",
       "2298                 NaN                               NaN      surf   \n",
       "2299                 NaN                               NaN      surf   \n",
       "2300                 NaN                               NaN      surf   \n",
       "2301                 NaN                               NaN  ultimate   \n",
       "2302                 NaN                               NaN      surf   \n",
       "\n",
       "                                        city  minutos_cobrables  \n",
       "0      Atlanta-Sandy Springs-Roswell, GA MSA                0.0  \n",
       "1            Seattle-Tacoma-Bellevue, WA MSA                0.0  \n",
       "2            Seattle-Tacoma-Bellevue, WA MSA                0.0  \n",
       "3            Seattle-Tacoma-Bellevue, WA MSA                0.0  \n",
       "4            Seattle-Tacoma-Bellevue, WA MSA                0.0  \n",
       "...                                      ...                ...  \n",
       "2298      Boston-Cambridge-Newton, MA-NH MSA                0.0  \n",
       "2299                Colorado Springs, CO MSA                0.0  \n",
       "2300          Denver-Aurora-Lakewood, CO MSA                0.0  \n",
       "2301   Atlanta-Sandy Springs-Roswell, GA MSA                0.0  \n",
       "2302  Louisville/Jefferson County, KY-IN MSA                0.0  \n",
       "\n",
       "[2303 rows x 10 columns]"
      ]
     },
     "execution_count": 63,
     "metadata": {},
     "output_type": "execute_result"
    }
   ],
   "source": [
    "tabla_consumo_planes['minutos_cobrables'] = tabla_consumo_planes.apply(llamadas_por_cobrar, axis = 1)\n",
    "tabla_consumo_planes"
   ]
  },
  {
   "cell_type": "code",
   "execution_count": 64,
   "metadata": {
    "trusted": false
   },
   "outputs": [
    {
     "data": {
      "text/html": [
       "<div>\n",
       "<style scoped>\n",
       "    .dataframe tbody tr th:only-of-type {\n",
       "        vertical-align: middle;\n",
       "    }\n",
       "\n",
       "    .dataframe tbody tr th {\n",
       "        vertical-align: top;\n",
       "    }\n",
       "\n",
       "    .dataframe thead th {\n",
       "        text-align: right;\n",
       "    }\n",
       "</style>\n",
       "<table border=\"1\" class=\"dataframe\">\n",
       "  <thead>\n",
       "    <tr style=\"text-align: right;\">\n",
       "      <th></th>\n",
       "      <th>user_id</th>\n",
       "      <th>mes</th>\n",
       "      <th>minutos_usados</th>\n",
       "      <th>llamadas_hechas</th>\n",
       "      <th>cantidad_de_mensajes</th>\n",
       "      <th>total_datos_usados</th>\n",
       "      <th>total_datos_usados_redondeado_GB</th>\n",
       "      <th>plan_id</th>\n",
       "      <th>city</th>\n",
       "      <th>minutos_cobrables</th>\n",
       "    </tr>\n",
       "  </thead>\n",
       "  <tbody>\n",
       "    <tr>\n",
       "      <th>9</th>\n",
       "      <td>1003</td>\n",
       "      <td>12.0</td>\n",
       "      <td>1104.0</td>\n",
       "      <td>149.0</td>\n",
       "      <td>50.0</td>\n",
       "      <td>27044.14</td>\n",
       "      <td>27.0</td>\n",
       "      <td>surf</td>\n",
       "      <td>Tulsa, OK MSA</td>\n",
       "      <td>604.0</td>\n",
       "    </tr>\n",
       "    <tr>\n",
       "      <th>23</th>\n",
       "      <td>1007</td>\n",
       "      <td>10.0</td>\n",
       "      <td>645.0</td>\n",
       "      <td>80.0</td>\n",
       "      <td>59.0</td>\n",
       "      <td>37885.63</td>\n",
       "      <td>37.0</td>\n",
       "      <td>surf</td>\n",
       "      <td>Grand Rapids-Kentwood, MI MSA</td>\n",
       "      <td>145.0</td>\n",
       "    </tr>\n",
       "    <tr>\n",
       "      <th>24</th>\n",
       "      <td>1007</td>\n",
       "      <td>11.0</td>\n",
       "      <td>524.0</td>\n",
       "      <td>80.0</td>\n",
       "      <td>48.0</td>\n",
       "      <td>24334.00</td>\n",
       "      <td>24.0</td>\n",
       "      <td>surf</td>\n",
       "      <td>Grand Rapids-Kentwood, MI MSA</td>\n",
       "      <td>24.0</td>\n",
       "    </tr>\n",
       "    <tr>\n",
       "      <th>25</th>\n",
       "      <td>1007</td>\n",
       "      <td>12.0</td>\n",
       "      <td>617.0</td>\n",
       "      <td>87.0</td>\n",
       "      <td>50.0</td>\n",
       "      <td>29069.28</td>\n",
       "      <td>29.0</td>\n",
       "      <td>surf</td>\n",
       "      <td>Grand Rapids-Kentwood, MI MSA</td>\n",
       "      <td>117.0</td>\n",
       "    </tr>\n",
       "    <tr>\n",
       "      <th>29</th>\n",
       "      <td>1009</td>\n",
       "      <td>5.0</td>\n",
       "      <td>534.0</td>\n",
       "      <td>71.0</td>\n",
       "      <td>NaN</td>\n",
       "      <td>20389.40</td>\n",
       "      <td>20.0</td>\n",
       "      <td>surf</td>\n",
       "      <td>San Jose-Sunnyvale-Santa Clara, CA MSA</td>\n",
       "      <td>34.0</td>\n",
       "    </tr>\n",
       "    <tr>\n",
       "      <th>...</th>\n",
       "      <td>...</td>\n",
       "      <td>...</td>\n",
       "      <td>...</td>\n",
       "      <td>...</td>\n",
       "      <td>...</td>\n",
       "      <td>...</td>\n",
       "      <td>...</td>\n",
       "      <td>...</td>\n",
       "      <td>...</td>\n",
       "      <td>...</td>\n",
       "    </tr>\n",
       "    <tr>\n",
       "      <th>2205</th>\n",
       "      <td>1489</td>\n",
       "      <td>10.0</td>\n",
       "      <td>518.0</td>\n",
       "      <td>66.0</td>\n",
       "      <td>84.0</td>\n",
       "      <td>14695.08</td>\n",
       "      <td>15.0</td>\n",
       "      <td>surf</td>\n",
       "      <td>Detroit-Warren-Dearborn, MI MSA</td>\n",
       "      <td>18.0</td>\n",
       "    </tr>\n",
       "    <tr>\n",
       "      <th>2220</th>\n",
       "      <td>1491</td>\n",
       "      <td>10.0</td>\n",
       "      <td>585.0</td>\n",
       "      <td>75.0</td>\n",
       "      <td>51.0</td>\n",
       "      <td>8480.09</td>\n",
       "      <td>9.0</td>\n",
       "      <td>surf</td>\n",
       "      <td>Grand Rapids-Kentwood, MI MSA</td>\n",
       "      <td>85.0</td>\n",
       "    </tr>\n",
       "    <tr>\n",
       "      <th>2235</th>\n",
       "      <td>1494</td>\n",
       "      <td>10.0</td>\n",
       "      <td>616.0</td>\n",
       "      <td>78.0</td>\n",
       "      <td>38.0</td>\n",
       "      <td>14498.50</td>\n",
       "      <td>15.0</td>\n",
       "      <td>surf</td>\n",
       "      <td>New York-Newark-Jersey City, NY-NJ-PA MSA</td>\n",
       "      <td>116.0</td>\n",
       "    </tr>\n",
       "    <tr>\n",
       "      <th>2236</th>\n",
       "      <td>1494</td>\n",
       "      <td>11.0</td>\n",
       "      <td>509.0</td>\n",
       "      <td>82.0</td>\n",
       "      <td>35.0</td>\n",
       "      <td>18405.82</td>\n",
       "      <td>18.0</td>\n",
       "      <td>surf</td>\n",
       "      <td>New York-Newark-Jersey City, NY-NJ-PA MSA</td>\n",
       "      <td>9.0</td>\n",
       "    </tr>\n",
       "    <tr>\n",
       "      <th>2239</th>\n",
       "      <td>1495</td>\n",
       "      <td>10.0</td>\n",
       "      <td>610.0</td>\n",
       "      <td>75.0</td>\n",
       "      <td>NaN</td>\n",
       "      <td>26899.41</td>\n",
       "      <td>27.0</td>\n",
       "      <td>surf</td>\n",
       "      <td>New York-Newark-Jersey City, NY-NJ-PA MSA</td>\n",
       "      <td>110.0</td>\n",
       "    </tr>\n",
       "  </tbody>\n",
       "</table>\n",
       "<p>566 rows × 10 columns</p>\n",
       "</div>"
      ],
      "text/plain": [
       "      user_id   mes  minutos_usados  llamadas_hechas  cantidad_de_mensajes  \\\n",
       "9        1003  12.0          1104.0            149.0                  50.0   \n",
       "23       1007  10.0           645.0             80.0                  59.0   \n",
       "24       1007  11.0           524.0             80.0                  48.0   \n",
       "25       1007  12.0           617.0             87.0                  50.0   \n",
       "29       1009   5.0           534.0             71.0                   NaN   \n",
       "...       ...   ...             ...              ...                   ...   \n",
       "2205     1489  10.0           518.0             66.0                  84.0   \n",
       "2220     1491  10.0           585.0             75.0                  51.0   \n",
       "2235     1494  10.0           616.0             78.0                  38.0   \n",
       "2236     1494  11.0           509.0             82.0                  35.0   \n",
       "2239     1495  10.0           610.0             75.0                   NaN   \n",
       "\n",
       "      total_datos_usados  total_datos_usados_redondeado_GB plan_id  \\\n",
       "9               27044.14                              27.0    surf   \n",
       "23              37885.63                              37.0    surf   \n",
       "24              24334.00                              24.0    surf   \n",
       "25              29069.28                              29.0    surf   \n",
       "29              20389.40                              20.0    surf   \n",
       "...                  ...                               ...     ...   \n",
       "2205            14695.08                              15.0    surf   \n",
       "2220             8480.09                               9.0    surf   \n",
       "2235            14498.50                              15.0    surf   \n",
       "2236            18405.82                              18.0    surf   \n",
       "2239            26899.41                              27.0    surf   \n",
       "\n",
       "                                           city  minutos_cobrables  \n",
       "9                                 Tulsa, OK MSA              604.0  \n",
       "23                Grand Rapids-Kentwood, MI MSA              145.0  \n",
       "24                Grand Rapids-Kentwood, MI MSA               24.0  \n",
       "25                Grand Rapids-Kentwood, MI MSA              117.0  \n",
       "29       San Jose-Sunnyvale-Santa Clara, CA MSA               34.0  \n",
       "...                                         ...                ...  \n",
       "2205            Detroit-Warren-Dearborn, MI MSA               18.0  \n",
       "2220              Grand Rapids-Kentwood, MI MSA               85.0  \n",
       "2235  New York-Newark-Jersey City, NY-NJ-PA MSA              116.0  \n",
       "2236  New York-Newark-Jersey City, NY-NJ-PA MSA                9.0  \n",
       "2239  New York-Newark-Jersey City, NY-NJ-PA MSA              110.0  \n",
       "\n",
       "[566 rows x 10 columns]"
      ]
     },
     "execution_count": 64,
     "metadata": {},
     "output_type": "execute_result"
    }
   ],
   "source": [
    "tabla_consumo_planes.query('minutos_cobrables != 0') #Usuarios que pagan minutos extras"
   ]
  },
  {
   "cell_type": "code",
   "execution_count": 65,
   "metadata": {
    "trusted": false
   },
   "outputs": [
    {
     "data": {
      "text/plain": [
       "0.2457663916630482"
      ]
     },
     "execution_count": 65,
     "metadata": {},
     "output_type": "execute_result"
    }
   ],
   "source": [
    "len(tabla_consumo_planes.query('minutos_cobrables > 0'))/len(tabla_consumo_planes) \n",
    "#24% de las personas pagan minutos extras"
   ]
  },
  {
   "cell_type": "code",
   "execution_count": 66,
   "metadata": {
    "id": "QoLqW1S_0q1J",
    "trusted": false
   },
   "outputs": [],
   "source": [
    "# Compara el número de minutos mensuales que necesitan los usuarios de cada plan. Traza un histograma.\n",
    "\n"
   ]
  },
  {
   "cell_type": "markdown",
   "metadata": {
    "id": "bLS9T8OH0q1K"
   },
   "source": [
    "[Calcula la media y la variable de la duración de las llamadas para averiguar si los usuarios de los distintos planes se comportan de forma diferente al realizar sus llamadas.]"
   ]
  },
  {
   "cell_type": "code",
   "execution_count": 84,
   "metadata": {
    "id": "oSndbAnt0q1K",
    "trusted": false
   },
   "outputs": [
    {
     "data": {
      "text/plain": [
       "434.67601683029454"
      ]
     },
     "execution_count": 84,
     "metadata": {},
     "output_type": "execute_result"
    }
   ],
   "source": [
    "# Calcula la media y la varianza de la duración mensual de llamadas.\n",
    "media_llamadas_ultimate = tabla_consumo_planes[tabla_consumo_planes['plan_id']=='ultimate']['minutos_usados'].mean()\n",
    "media_llamadas_ultimate\n",
    "\n"
   ]
  },
  {
   "cell_type": "code",
   "execution_count": 85,
   "metadata": {
    "trusted": false
   },
   "outputs": [
    {
     "data": {
      "text/plain": [
       "56573.632247033434"
      ]
     },
     "execution_count": 85,
     "metadata": {},
     "output_type": "execute_result"
    }
   ],
   "source": [
    "varianza_llamadas_ultimate = tabla_consumo_planes[tabla_consumo_planes['plan_id']=='ultimate']['minutos_usados'].var()\n",
    "varianza_llamadas_ultimate\n"
   ]
  },
  {
   "cell_type": "code",
   "execution_count": 86,
   "metadata": {
    "trusted": false
   },
   "outputs": [
    {
     "data": {
      "text/plain": [
       "436.51974110032364"
      ]
     },
     "execution_count": 86,
     "metadata": {},
     "output_type": "execute_result"
    }
   ],
   "source": [
    "media_llamadas_surf = tabla_consumo_planes[tabla_consumo_planes['plan_id']=='surf']['minutos_usados'].mean()\n",
    "media_llamadas_surf"
   ]
  },
  {
   "cell_type": "code",
   "execution_count": 87,
   "metadata": {
    "trusted": false
   },
   "outputs": [
    {
     "data": {
      "text/plain": [
       "52571.06324345624"
      ]
     },
     "execution_count": 87,
     "metadata": {},
     "output_type": "execute_result"
    }
   ],
   "source": [
    "varianza_llamadas_surf = tabla_consumo_planes[tabla_consumo_planes['plan_id']=='surf']['minutos_usados'].var()\n",
    "varianza_llamadas_surf"
   ]
  },
  {
   "cell_type": "code",
   "execution_count": 68,
   "metadata": {
    "id": "nZzoRUKc0q1K",
    "trusted": false
   },
   "outputs": [],
   "source": [
    "# Traza un diagrama de caja para visualizar la distribución de la duración mensual de llamadas\n",
    "\n"
   ]
  },
  {
   "cell_type": "markdown",
   "metadata": {
    "id": "r627zBO50q1K"
   },
   "source": [
    "[Elabora las conclusiones sobre el comportamiento de los usuarios con respecto a las llamadas. ¿Su comportamiento varía en función del plan?]"
   ]
  },
  {
   "cell_type": "markdown",
   "metadata": {
    "id": "8idKy8Wh0q1L"
   },
   "source": [
    "### Mensajes"
   ]
  },
  {
   "cell_type": "code",
   "execution_count": 69,
   "metadata": {
    "id": "NXLxiTit0q1L",
    "trusted": false
   },
   "outputs": [],
   "source": [
    "# Comprara el número de mensajes que tienden a enviar cada mes los usuarios de cada plan\n",
    "\n",
    "def mensajes_por_cobrar(fila):\n",
    "    plan = fila['plan_id']\n",
    "    numero_de_mensajes = fila['cantidad_de_mensajes']\n",
    "    \n",
    "    mensajes_cobrables = 0\n",
    "    \n",
    "    if plan == 'surf':\n",
    "        if numero_de_mensajes > surf_messages_month:\n",
    "            mensajes_cobrables = numero_de_mensajes - surf_messages_month\n",
    "    elif plan == 'ultimate':\n",
    "        if numero_de_mensajes > ultimate_messages_month:\n",
    "            mensajes_cobrables = numero_de_mensajes - ultimate_messages_month\n",
    "    return mensajes_cobrables"
   ]
  },
  {
   "cell_type": "code",
   "execution_count": 70,
   "metadata": {
    "trusted": false
   },
   "outputs": [
    {
     "data": {
      "text/html": [
       "<div>\n",
       "<style scoped>\n",
       "    .dataframe tbody tr th:only-of-type {\n",
       "        vertical-align: middle;\n",
       "    }\n",
       "\n",
       "    .dataframe tbody tr th {\n",
       "        vertical-align: top;\n",
       "    }\n",
       "\n",
       "    .dataframe thead th {\n",
       "        text-align: right;\n",
       "    }\n",
       "</style>\n",
       "<table border=\"1\" class=\"dataframe\">\n",
       "  <thead>\n",
       "    <tr style=\"text-align: right;\">\n",
       "      <th></th>\n",
       "      <th>user_id</th>\n",
       "      <th>mes</th>\n",
       "      <th>minutos_usados</th>\n",
       "      <th>llamadas_hechas</th>\n",
       "      <th>cantidad_de_mensajes</th>\n",
       "      <th>total_datos_usados</th>\n",
       "      <th>total_datos_usados_redondeado_GB</th>\n",
       "      <th>plan_id</th>\n",
       "      <th>city</th>\n",
       "      <th>minutos_cobrables</th>\n",
       "      <th>mensajes_cobrables</th>\n",
       "    </tr>\n",
       "  </thead>\n",
       "  <tbody>\n",
       "    <tr>\n",
       "      <th>0</th>\n",
       "      <td>1000</td>\n",
       "      <td>12.0</td>\n",
       "      <td>124.0</td>\n",
       "      <td>16.0</td>\n",
       "      <td>11.0</td>\n",
       "      <td>1901.47</td>\n",
       "      <td>2.0</td>\n",
       "      <td>ultimate</td>\n",
       "      <td>Atlanta-Sandy Springs-Roswell, GA MSA</td>\n",
       "      <td>0.0</td>\n",
       "      <td>0.0</td>\n",
       "    </tr>\n",
       "    <tr>\n",
       "      <th>1</th>\n",
       "      <td>1001</td>\n",
       "      <td>8.0</td>\n",
       "      <td>182.0</td>\n",
       "      <td>27.0</td>\n",
       "      <td>30.0</td>\n",
       "      <td>6919.15</td>\n",
       "      <td>7.0</td>\n",
       "      <td>surf</td>\n",
       "      <td>Seattle-Tacoma-Bellevue, WA MSA</td>\n",
       "      <td>0.0</td>\n",
       "      <td>0.0</td>\n",
       "    </tr>\n",
       "    <tr>\n",
       "      <th>2</th>\n",
       "      <td>1001</td>\n",
       "      <td>9.0</td>\n",
       "      <td>315.0</td>\n",
       "      <td>49.0</td>\n",
       "      <td>44.0</td>\n",
       "      <td>13314.82</td>\n",
       "      <td>14.0</td>\n",
       "      <td>surf</td>\n",
       "      <td>Seattle-Tacoma-Bellevue, WA MSA</td>\n",
       "      <td>0.0</td>\n",
       "      <td>0.0</td>\n",
       "    </tr>\n",
       "    <tr>\n",
       "      <th>3</th>\n",
       "      <td>1001</td>\n",
       "      <td>10.0</td>\n",
       "      <td>393.0</td>\n",
       "      <td>65.0</td>\n",
       "      <td>53.0</td>\n",
       "      <td>22330.49</td>\n",
       "      <td>22.0</td>\n",
       "      <td>surf</td>\n",
       "      <td>Seattle-Tacoma-Bellevue, WA MSA</td>\n",
       "      <td>0.0</td>\n",
       "      <td>3.0</td>\n",
       "    </tr>\n",
       "    <tr>\n",
       "      <th>4</th>\n",
       "      <td>1001</td>\n",
       "      <td>11.0</td>\n",
       "      <td>426.0</td>\n",
       "      <td>64.0</td>\n",
       "      <td>36.0</td>\n",
       "      <td>18504.30</td>\n",
       "      <td>19.0</td>\n",
       "      <td>surf</td>\n",
       "      <td>Seattle-Tacoma-Bellevue, WA MSA</td>\n",
       "      <td>0.0</td>\n",
       "      <td>0.0</td>\n",
       "    </tr>\n",
       "    <tr>\n",
       "      <th>...</th>\n",
       "      <td>...</td>\n",
       "      <td>...</td>\n",
       "      <td>...</td>\n",
       "      <td>...</td>\n",
       "      <td>...</td>\n",
       "      <td>...</td>\n",
       "      <td>...</td>\n",
       "      <td>...</td>\n",
       "      <td>...</td>\n",
       "      <td>...</td>\n",
       "      <td>...</td>\n",
       "    </tr>\n",
       "    <tr>\n",
       "      <th>2298</th>\n",
       "      <td>1307</td>\n",
       "      <td>NaN</td>\n",
       "      <td>NaN</td>\n",
       "      <td>NaN</td>\n",
       "      <td>NaN</td>\n",
       "      <td>NaN</td>\n",
       "      <td>NaN</td>\n",
       "      <td>surf</td>\n",
       "      <td>Boston-Cambridge-Newton, MA-NH MSA</td>\n",
       "      <td>0.0</td>\n",
       "      <td>0.0</td>\n",
       "    </tr>\n",
       "    <tr>\n",
       "      <th>2299</th>\n",
       "      <td>1319</td>\n",
       "      <td>NaN</td>\n",
       "      <td>NaN</td>\n",
       "      <td>NaN</td>\n",
       "      <td>NaN</td>\n",
       "      <td>NaN</td>\n",
       "      <td>NaN</td>\n",
       "      <td>surf</td>\n",
       "      <td>Colorado Springs, CO MSA</td>\n",
       "      <td>0.0</td>\n",
       "      <td>0.0</td>\n",
       "    </tr>\n",
       "    <tr>\n",
       "      <th>2300</th>\n",
       "      <td>1378</td>\n",
       "      <td>NaN</td>\n",
       "      <td>NaN</td>\n",
       "      <td>NaN</td>\n",
       "      <td>NaN</td>\n",
       "      <td>NaN</td>\n",
       "      <td>NaN</td>\n",
       "      <td>surf</td>\n",
       "      <td>Denver-Aurora-Lakewood, CO MSA</td>\n",
       "      <td>0.0</td>\n",
       "      <td>0.0</td>\n",
       "    </tr>\n",
       "    <tr>\n",
       "      <th>2301</th>\n",
       "      <td>1463</td>\n",
       "      <td>NaN</td>\n",
       "      <td>NaN</td>\n",
       "      <td>NaN</td>\n",
       "      <td>NaN</td>\n",
       "      <td>NaN</td>\n",
       "      <td>NaN</td>\n",
       "      <td>ultimate</td>\n",
       "      <td>Atlanta-Sandy Springs-Roswell, GA MSA</td>\n",
       "      <td>0.0</td>\n",
       "      <td>0.0</td>\n",
       "    </tr>\n",
       "    <tr>\n",
       "      <th>2302</th>\n",
       "      <td>1473</td>\n",
       "      <td>NaN</td>\n",
       "      <td>NaN</td>\n",
       "      <td>NaN</td>\n",
       "      <td>NaN</td>\n",
       "      <td>NaN</td>\n",
       "      <td>NaN</td>\n",
       "      <td>surf</td>\n",
       "      <td>Louisville/Jefferson County, KY-IN MSA</td>\n",
       "      <td>0.0</td>\n",
       "      <td>0.0</td>\n",
       "    </tr>\n",
       "  </tbody>\n",
       "</table>\n",
       "<p>2303 rows × 11 columns</p>\n",
       "</div>"
      ],
      "text/plain": [
       "      user_id   mes  minutos_usados  llamadas_hechas  cantidad_de_mensajes  \\\n",
       "0        1000  12.0           124.0             16.0                  11.0   \n",
       "1        1001   8.0           182.0             27.0                  30.0   \n",
       "2        1001   9.0           315.0             49.0                  44.0   \n",
       "3        1001  10.0           393.0             65.0                  53.0   \n",
       "4        1001  11.0           426.0             64.0                  36.0   \n",
       "...       ...   ...             ...              ...                   ...   \n",
       "2298     1307   NaN             NaN              NaN                   NaN   \n",
       "2299     1319   NaN             NaN              NaN                   NaN   \n",
       "2300     1378   NaN             NaN              NaN                   NaN   \n",
       "2301     1463   NaN             NaN              NaN                   NaN   \n",
       "2302     1473   NaN             NaN              NaN                   NaN   \n",
       "\n",
       "      total_datos_usados  total_datos_usados_redondeado_GB   plan_id  \\\n",
       "0                1901.47                               2.0  ultimate   \n",
       "1                6919.15                               7.0      surf   \n",
       "2               13314.82                              14.0      surf   \n",
       "3               22330.49                              22.0      surf   \n",
       "4               18504.30                              19.0      surf   \n",
       "...                  ...                               ...       ...   \n",
       "2298                 NaN                               NaN      surf   \n",
       "2299                 NaN                               NaN      surf   \n",
       "2300                 NaN                               NaN      surf   \n",
       "2301                 NaN                               NaN  ultimate   \n",
       "2302                 NaN                               NaN      surf   \n",
       "\n",
       "                                        city  minutos_cobrables  \\\n",
       "0      Atlanta-Sandy Springs-Roswell, GA MSA                0.0   \n",
       "1            Seattle-Tacoma-Bellevue, WA MSA                0.0   \n",
       "2            Seattle-Tacoma-Bellevue, WA MSA                0.0   \n",
       "3            Seattle-Tacoma-Bellevue, WA MSA                0.0   \n",
       "4            Seattle-Tacoma-Bellevue, WA MSA                0.0   \n",
       "...                                      ...                ...   \n",
       "2298      Boston-Cambridge-Newton, MA-NH MSA                0.0   \n",
       "2299                Colorado Springs, CO MSA                0.0   \n",
       "2300          Denver-Aurora-Lakewood, CO MSA                0.0   \n",
       "2301   Atlanta-Sandy Springs-Roswell, GA MSA                0.0   \n",
       "2302  Louisville/Jefferson County, KY-IN MSA                0.0   \n",
       "\n",
       "      mensajes_cobrables  \n",
       "0                    0.0  \n",
       "1                    0.0  \n",
       "2                    0.0  \n",
       "3                    3.0  \n",
       "4                    0.0  \n",
       "...                  ...  \n",
       "2298                 0.0  \n",
       "2299                 0.0  \n",
       "2300                 0.0  \n",
       "2301                 0.0  \n",
       "2302                 0.0  \n",
       "\n",
       "[2303 rows x 11 columns]"
      ]
     },
     "execution_count": 70,
     "metadata": {},
     "output_type": "execute_result"
    }
   ],
   "source": [
    "tabla_consumo_planes['mensajes_cobrables'] = tabla_consumo_planes.apply(mensajes_por_cobrar, axis = 1)\n",
    "tabla_consumo_planes"
   ]
  },
  {
   "cell_type": "code",
   "execution_count": 71,
   "metadata": {
    "trusted": false
   },
   "outputs": [
    {
     "data": {
      "text/plain": [
       "0.14763352149370387"
      ]
     },
     "execution_count": 71,
     "metadata": {},
     "output_type": "execute_result"
    }
   ],
   "source": [
    "len(tabla_consumo_planes.query('mensajes_cobrables > 0'))/len(tabla_consumo_planes) \n",
    "#El 14% se cobra de mensajes extras"
   ]
  },
  {
   "cell_type": "code",
   "execution_count": 72,
   "metadata": {
    "trusted": false
   },
   "outputs": [
    {
     "data": {
      "text/html": [
       "<div>\n",
       "<style scoped>\n",
       "    .dataframe tbody tr th:only-of-type {\n",
       "        vertical-align: middle;\n",
       "    }\n",
       "\n",
       "    .dataframe tbody tr th {\n",
       "        vertical-align: top;\n",
       "    }\n",
       "\n",
       "    .dataframe thead th {\n",
       "        text-align: right;\n",
       "    }\n",
       "</style>\n",
       "<table border=\"1\" class=\"dataframe\">\n",
       "  <thead>\n",
       "    <tr style=\"text-align: right;\">\n",
       "      <th></th>\n",
       "      <th>user_id</th>\n",
       "      <th>mes</th>\n",
       "      <th>minutos_usados</th>\n",
       "      <th>llamadas_hechas</th>\n",
       "      <th>cantidad_de_mensajes</th>\n",
       "      <th>total_datos_usados</th>\n",
       "      <th>total_datos_usados_redondeado_GB</th>\n",
       "      <th>plan_id</th>\n",
       "      <th>city</th>\n",
       "      <th>minutos_cobrables</th>\n",
       "      <th>mensajes_cobrables</th>\n",
       "    </tr>\n",
       "  </thead>\n",
       "  <tbody>\n",
       "    <tr>\n",
       "      <th>0</th>\n",
       "      <td>1000</td>\n",
       "      <td>12.0</td>\n",
       "      <td>124.0</td>\n",
       "      <td>16.0</td>\n",
       "      <td>11.0</td>\n",
       "      <td>1901.47</td>\n",
       "      <td>2.0</td>\n",
       "      <td>ultimate</td>\n",
       "      <td>Atlanta-Sandy Springs-Roswell, GA MSA</td>\n",
       "      <td>0.0</td>\n",
       "      <td>0.0</td>\n",
       "    </tr>\n",
       "    <tr>\n",
       "      <th>1</th>\n",
       "      <td>1001</td>\n",
       "      <td>8.0</td>\n",
       "      <td>182.0</td>\n",
       "      <td>27.0</td>\n",
       "      <td>30.0</td>\n",
       "      <td>6919.15</td>\n",
       "      <td>7.0</td>\n",
       "      <td>surf</td>\n",
       "      <td>Seattle-Tacoma-Bellevue, WA MSA</td>\n",
       "      <td>0.0</td>\n",
       "      <td>0.0</td>\n",
       "    </tr>\n",
       "    <tr>\n",
       "      <th>2</th>\n",
       "      <td>1001</td>\n",
       "      <td>9.0</td>\n",
       "      <td>315.0</td>\n",
       "      <td>49.0</td>\n",
       "      <td>44.0</td>\n",
       "      <td>13314.82</td>\n",
       "      <td>14.0</td>\n",
       "      <td>surf</td>\n",
       "      <td>Seattle-Tacoma-Bellevue, WA MSA</td>\n",
       "      <td>0.0</td>\n",
       "      <td>0.0</td>\n",
       "    </tr>\n",
       "    <tr>\n",
       "      <th>3</th>\n",
       "      <td>1001</td>\n",
       "      <td>10.0</td>\n",
       "      <td>393.0</td>\n",
       "      <td>65.0</td>\n",
       "      <td>53.0</td>\n",
       "      <td>22330.49</td>\n",
       "      <td>22.0</td>\n",
       "      <td>surf</td>\n",
       "      <td>Seattle-Tacoma-Bellevue, WA MSA</td>\n",
       "      <td>0.0</td>\n",
       "      <td>3.0</td>\n",
       "    </tr>\n",
       "    <tr>\n",
       "      <th>4</th>\n",
       "      <td>1001</td>\n",
       "      <td>11.0</td>\n",
       "      <td>426.0</td>\n",
       "      <td>64.0</td>\n",
       "      <td>36.0</td>\n",
       "      <td>18504.30</td>\n",
       "      <td>19.0</td>\n",
       "      <td>surf</td>\n",
       "      <td>Seattle-Tacoma-Bellevue, WA MSA</td>\n",
       "      <td>0.0</td>\n",
       "      <td>0.0</td>\n",
       "    </tr>\n",
       "    <tr>\n",
       "      <th>...</th>\n",
       "      <td>...</td>\n",
       "      <td>...</td>\n",
       "      <td>...</td>\n",
       "      <td>...</td>\n",
       "      <td>...</td>\n",
       "      <td>...</td>\n",
       "      <td>...</td>\n",
       "      <td>...</td>\n",
       "      <td>...</td>\n",
       "      <td>...</td>\n",
       "      <td>...</td>\n",
       "    </tr>\n",
       "    <tr>\n",
       "      <th>2298</th>\n",
       "      <td>1307</td>\n",
       "      <td>NaN</td>\n",
       "      <td>NaN</td>\n",
       "      <td>NaN</td>\n",
       "      <td>NaN</td>\n",
       "      <td>NaN</td>\n",
       "      <td>NaN</td>\n",
       "      <td>surf</td>\n",
       "      <td>Boston-Cambridge-Newton, MA-NH MSA</td>\n",
       "      <td>0.0</td>\n",
       "      <td>0.0</td>\n",
       "    </tr>\n",
       "    <tr>\n",
       "      <th>2299</th>\n",
       "      <td>1319</td>\n",
       "      <td>NaN</td>\n",
       "      <td>NaN</td>\n",
       "      <td>NaN</td>\n",
       "      <td>NaN</td>\n",
       "      <td>NaN</td>\n",
       "      <td>NaN</td>\n",
       "      <td>surf</td>\n",
       "      <td>Colorado Springs, CO MSA</td>\n",
       "      <td>0.0</td>\n",
       "      <td>0.0</td>\n",
       "    </tr>\n",
       "    <tr>\n",
       "      <th>2300</th>\n",
       "      <td>1378</td>\n",
       "      <td>NaN</td>\n",
       "      <td>NaN</td>\n",
       "      <td>NaN</td>\n",
       "      <td>NaN</td>\n",
       "      <td>NaN</td>\n",
       "      <td>NaN</td>\n",
       "      <td>surf</td>\n",
       "      <td>Denver-Aurora-Lakewood, CO MSA</td>\n",
       "      <td>0.0</td>\n",
       "      <td>0.0</td>\n",
       "    </tr>\n",
       "    <tr>\n",
       "      <th>2301</th>\n",
       "      <td>1463</td>\n",
       "      <td>NaN</td>\n",
       "      <td>NaN</td>\n",
       "      <td>NaN</td>\n",
       "      <td>NaN</td>\n",
       "      <td>NaN</td>\n",
       "      <td>NaN</td>\n",
       "      <td>ultimate</td>\n",
       "      <td>Atlanta-Sandy Springs-Roswell, GA MSA</td>\n",
       "      <td>0.0</td>\n",
       "      <td>0.0</td>\n",
       "    </tr>\n",
       "    <tr>\n",
       "      <th>2302</th>\n",
       "      <td>1473</td>\n",
       "      <td>NaN</td>\n",
       "      <td>NaN</td>\n",
       "      <td>NaN</td>\n",
       "      <td>NaN</td>\n",
       "      <td>NaN</td>\n",
       "      <td>NaN</td>\n",
       "      <td>surf</td>\n",
       "      <td>Louisville/Jefferson County, KY-IN MSA</td>\n",
       "      <td>0.0</td>\n",
       "      <td>0.0</td>\n",
       "    </tr>\n",
       "  </tbody>\n",
       "</table>\n",
       "<p>2303 rows × 11 columns</p>\n",
       "</div>"
      ],
      "text/plain": [
       "      user_id   mes  minutos_usados  llamadas_hechas  cantidad_de_mensajes  \\\n",
       "0        1000  12.0           124.0             16.0                  11.0   \n",
       "1        1001   8.0           182.0             27.0                  30.0   \n",
       "2        1001   9.0           315.0             49.0                  44.0   \n",
       "3        1001  10.0           393.0             65.0                  53.0   \n",
       "4        1001  11.0           426.0             64.0                  36.0   \n",
       "...       ...   ...             ...              ...                   ...   \n",
       "2298     1307   NaN             NaN              NaN                   NaN   \n",
       "2299     1319   NaN             NaN              NaN                   NaN   \n",
       "2300     1378   NaN             NaN              NaN                   NaN   \n",
       "2301     1463   NaN             NaN              NaN                   NaN   \n",
       "2302     1473   NaN             NaN              NaN                   NaN   \n",
       "\n",
       "      total_datos_usados  total_datos_usados_redondeado_GB   plan_id  \\\n",
       "0                1901.47                               2.0  ultimate   \n",
       "1                6919.15                               7.0      surf   \n",
       "2               13314.82                              14.0      surf   \n",
       "3               22330.49                              22.0      surf   \n",
       "4               18504.30                              19.0      surf   \n",
       "...                  ...                               ...       ...   \n",
       "2298                 NaN                               NaN      surf   \n",
       "2299                 NaN                               NaN      surf   \n",
       "2300                 NaN                               NaN      surf   \n",
       "2301                 NaN                               NaN  ultimate   \n",
       "2302                 NaN                               NaN      surf   \n",
       "\n",
       "                                        city  minutos_cobrables  \\\n",
       "0      Atlanta-Sandy Springs-Roswell, GA MSA                0.0   \n",
       "1            Seattle-Tacoma-Bellevue, WA MSA                0.0   \n",
       "2            Seattle-Tacoma-Bellevue, WA MSA                0.0   \n",
       "3            Seattle-Tacoma-Bellevue, WA MSA                0.0   \n",
       "4            Seattle-Tacoma-Bellevue, WA MSA                0.0   \n",
       "...                                      ...                ...   \n",
       "2298      Boston-Cambridge-Newton, MA-NH MSA                0.0   \n",
       "2299                Colorado Springs, CO MSA                0.0   \n",
       "2300          Denver-Aurora-Lakewood, CO MSA                0.0   \n",
       "2301   Atlanta-Sandy Springs-Roswell, GA MSA                0.0   \n",
       "2302  Louisville/Jefferson County, KY-IN MSA                0.0   \n",
       "\n",
       "      mensajes_cobrables  \n",
       "0                    0.0  \n",
       "1                    0.0  \n",
       "2                    0.0  \n",
       "3                    3.0  \n",
       "4                    0.0  \n",
       "...                  ...  \n",
       "2298                 0.0  \n",
       "2299                 0.0  \n",
       "2300                 0.0  \n",
       "2301                 0.0  \n",
       "2302                 0.0  \n",
       "\n",
       "[2303 rows x 11 columns]"
      ]
     },
     "execution_count": 72,
     "metadata": {},
     "output_type": "execute_result"
    }
   ],
   "source": [
    "tabla_consumo_planes"
   ]
  },
  {
   "cell_type": "code",
   "execution_count": 73,
   "metadata": {
    "id": "GRI_R7xF0q1L",
    "trusted": false
   },
   "outputs": [],
   "source": [
    "# Compara la cantidad de tráfico de Internet consumido por usuarios por plan\n",
    "\n"
   ]
  },
  {
   "cell_type": "markdown",
   "metadata": {
    "id": "390SSL480q1M"
   },
   "source": [
    "[Elabora las conclusiones sobre el comportamiento de los usuarios con respecto a los mensajes. ¿Su comportamiento varía en función del plan?]"
   ]
  },
  {
   "cell_type": "markdown",
   "metadata": {
    "id": "42YSypXz0q1M"
   },
   "source": [
    "### Internet"
   ]
  },
  {
   "cell_type": "code",
   "execution_count": 74,
   "metadata": {
    "id": "lSuKPtjh0q1M",
    "trusted": false
   },
   "outputs": [],
   "source": [
    "def datos_cobrables(fila):\n",
    "    plan = fila['plan_id']\n",
    "    datos_consumidos = fila['total_datos_usados_redondeado_GB']\n",
    "    \n",
    "    datos_cobrables = 0\n",
    "    \n",
    "    if plan == 'surf':\n",
    "        if datos_consumidos > surf_mb_per_month:\n",
    "            datos_cobrables = datos_consumidos - surf_mb_per_month\n",
    "    elif plan == 'ultimate':\n",
    "        if datos_consumidos > ultimate_mb_per_month:\n",
    "            datos_cobrables = datos_consumidos - ultimate_mb_per_month\n",
    "    return datos_cobrables"
   ]
  },
  {
   "cell_type": "code",
   "execution_count": 75,
   "metadata": {
    "id": "wnh8jYXi0q1N",
    "trusted": false
   },
   "outputs": [],
   "source": [
    "tabla_consumo_planes['datos_cobrables'] = tabla_consumo_planes.apply(datos_cobrables, axis = 1)"
   ]
  },
  {
   "cell_type": "code",
   "execution_count": 76,
   "metadata": {
    "id": "5VlyJ9ry0q1N",
    "trusted": false
   },
   "outputs": [
    {
     "data": {
      "text/html": [
       "<div>\n",
       "<style scoped>\n",
       "    .dataframe tbody tr th:only-of-type {\n",
       "        vertical-align: middle;\n",
       "    }\n",
       "\n",
       "    .dataframe tbody tr th {\n",
       "        vertical-align: top;\n",
       "    }\n",
       "\n",
       "    .dataframe thead th {\n",
       "        text-align: right;\n",
       "    }\n",
       "</style>\n",
       "<table border=\"1\" class=\"dataframe\">\n",
       "  <thead>\n",
       "    <tr style=\"text-align: right;\">\n",
       "      <th></th>\n",
       "      <th>user_id</th>\n",
       "      <th>mes</th>\n",
       "      <th>minutos_usados</th>\n",
       "      <th>llamadas_hechas</th>\n",
       "      <th>cantidad_de_mensajes</th>\n",
       "      <th>total_datos_usados</th>\n",
       "      <th>total_datos_usados_redondeado_GB</th>\n",
       "      <th>plan_id</th>\n",
       "      <th>city</th>\n",
       "      <th>minutos_cobrables</th>\n",
       "      <th>mensajes_cobrables</th>\n",
       "      <th>datos_cobrables</th>\n",
       "    </tr>\n",
       "  </thead>\n",
       "  <tbody>\n",
       "    <tr>\n",
       "      <th>0</th>\n",
       "      <td>1000</td>\n",
       "      <td>12.0</td>\n",
       "      <td>124.0</td>\n",
       "      <td>16.0</td>\n",
       "      <td>11.0</td>\n",
       "      <td>1901.47</td>\n",
       "      <td>2.0</td>\n",
       "      <td>ultimate</td>\n",
       "      <td>Atlanta-Sandy Springs-Roswell, GA MSA</td>\n",
       "      <td>0.0</td>\n",
       "      <td>0.0</td>\n",
       "      <td>0.0</td>\n",
       "    </tr>\n",
       "    <tr>\n",
       "      <th>1</th>\n",
       "      <td>1001</td>\n",
       "      <td>8.0</td>\n",
       "      <td>182.0</td>\n",
       "      <td>27.0</td>\n",
       "      <td>30.0</td>\n",
       "      <td>6919.15</td>\n",
       "      <td>7.0</td>\n",
       "      <td>surf</td>\n",
       "      <td>Seattle-Tacoma-Bellevue, WA MSA</td>\n",
       "      <td>0.0</td>\n",
       "      <td>0.0</td>\n",
       "      <td>0.0</td>\n",
       "    </tr>\n",
       "    <tr>\n",
       "      <th>2</th>\n",
       "      <td>1001</td>\n",
       "      <td>9.0</td>\n",
       "      <td>315.0</td>\n",
       "      <td>49.0</td>\n",
       "      <td>44.0</td>\n",
       "      <td>13314.82</td>\n",
       "      <td>14.0</td>\n",
       "      <td>surf</td>\n",
       "      <td>Seattle-Tacoma-Bellevue, WA MSA</td>\n",
       "      <td>0.0</td>\n",
       "      <td>0.0</td>\n",
       "      <td>0.0</td>\n",
       "    </tr>\n",
       "    <tr>\n",
       "      <th>3</th>\n",
       "      <td>1001</td>\n",
       "      <td>10.0</td>\n",
       "      <td>393.0</td>\n",
       "      <td>65.0</td>\n",
       "      <td>53.0</td>\n",
       "      <td>22330.49</td>\n",
       "      <td>22.0</td>\n",
       "      <td>surf</td>\n",
       "      <td>Seattle-Tacoma-Bellevue, WA MSA</td>\n",
       "      <td>0.0</td>\n",
       "      <td>3.0</td>\n",
       "      <td>7.0</td>\n",
       "    </tr>\n",
       "    <tr>\n",
       "      <th>4</th>\n",
       "      <td>1001</td>\n",
       "      <td>11.0</td>\n",
       "      <td>426.0</td>\n",
       "      <td>64.0</td>\n",
       "      <td>36.0</td>\n",
       "      <td>18504.30</td>\n",
       "      <td>19.0</td>\n",
       "      <td>surf</td>\n",
       "      <td>Seattle-Tacoma-Bellevue, WA MSA</td>\n",
       "      <td>0.0</td>\n",
       "      <td>0.0</td>\n",
       "      <td>4.0</td>\n",
       "    </tr>\n",
       "    <tr>\n",
       "      <th>...</th>\n",
       "      <td>...</td>\n",
       "      <td>...</td>\n",
       "      <td>...</td>\n",
       "      <td>...</td>\n",
       "      <td>...</td>\n",
       "      <td>...</td>\n",
       "      <td>...</td>\n",
       "      <td>...</td>\n",
       "      <td>...</td>\n",
       "      <td>...</td>\n",
       "      <td>...</td>\n",
       "      <td>...</td>\n",
       "    </tr>\n",
       "    <tr>\n",
       "      <th>2298</th>\n",
       "      <td>1307</td>\n",
       "      <td>NaN</td>\n",
       "      <td>NaN</td>\n",
       "      <td>NaN</td>\n",
       "      <td>NaN</td>\n",
       "      <td>NaN</td>\n",
       "      <td>NaN</td>\n",
       "      <td>surf</td>\n",
       "      <td>Boston-Cambridge-Newton, MA-NH MSA</td>\n",
       "      <td>0.0</td>\n",
       "      <td>0.0</td>\n",
       "      <td>0.0</td>\n",
       "    </tr>\n",
       "    <tr>\n",
       "      <th>2299</th>\n",
       "      <td>1319</td>\n",
       "      <td>NaN</td>\n",
       "      <td>NaN</td>\n",
       "      <td>NaN</td>\n",
       "      <td>NaN</td>\n",
       "      <td>NaN</td>\n",
       "      <td>NaN</td>\n",
       "      <td>surf</td>\n",
       "      <td>Colorado Springs, CO MSA</td>\n",
       "      <td>0.0</td>\n",
       "      <td>0.0</td>\n",
       "      <td>0.0</td>\n",
       "    </tr>\n",
       "    <tr>\n",
       "      <th>2300</th>\n",
       "      <td>1378</td>\n",
       "      <td>NaN</td>\n",
       "      <td>NaN</td>\n",
       "      <td>NaN</td>\n",
       "      <td>NaN</td>\n",
       "      <td>NaN</td>\n",
       "      <td>NaN</td>\n",
       "      <td>surf</td>\n",
       "      <td>Denver-Aurora-Lakewood, CO MSA</td>\n",
       "      <td>0.0</td>\n",
       "      <td>0.0</td>\n",
       "      <td>0.0</td>\n",
       "    </tr>\n",
       "    <tr>\n",
       "      <th>2301</th>\n",
       "      <td>1463</td>\n",
       "      <td>NaN</td>\n",
       "      <td>NaN</td>\n",
       "      <td>NaN</td>\n",
       "      <td>NaN</td>\n",
       "      <td>NaN</td>\n",
       "      <td>NaN</td>\n",
       "      <td>ultimate</td>\n",
       "      <td>Atlanta-Sandy Springs-Roswell, GA MSA</td>\n",
       "      <td>0.0</td>\n",
       "      <td>0.0</td>\n",
       "      <td>0.0</td>\n",
       "    </tr>\n",
       "    <tr>\n",
       "      <th>2302</th>\n",
       "      <td>1473</td>\n",
       "      <td>NaN</td>\n",
       "      <td>NaN</td>\n",
       "      <td>NaN</td>\n",
       "      <td>NaN</td>\n",
       "      <td>NaN</td>\n",
       "      <td>NaN</td>\n",
       "      <td>surf</td>\n",
       "      <td>Louisville/Jefferson County, KY-IN MSA</td>\n",
       "      <td>0.0</td>\n",
       "      <td>0.0</td>\n",
       "      <td>0.0</td>\n",
       "    </tr>\n",
       "  </tbody>\n",
       "</table>\n",
       "<p>2303 rows × 12 columns</p>\n",
       "</div>"
      ],
      "text/plain": [
       "      user_id   mes  minutos_usados  llamadas_hechas  cantidad_de_mensajes  \\\n",
       "0        1000  12.0           124.0             16.0                  11.0   \n",
       "1        1001   8.0           182.0             27.0                  30.0   \n",
       "2        1001   9.0           315.0             49.0                  44.0   \n",
       "3        1001  10.0           393.0             65.0                  53.0   \n",
       "4        1001  11.0           426.0             64.0                  36.0   \n",
       "...       ...   ...             ...              ...                   ...   \n",
       "2298     1307   NaN             NaN              NaN                   NaN   \n",
       "2299     1319   NaN             NaN              NaN                   NaN   \n",
       "2300     1378   NaN             NaN              NaN                   NaN   \n",
       "2301     1463   NaN             NaN              NaN                   NaN   \n",
       "2302     1473   NaN             NaN              NaN                   NaN   \n",
       "\n",
       "      total_datos_usados  total_datos_usados_redondeado_GB   plan_id  \\\n",
       "0                1901.47                               2.0  ultimate   \n",
       "1                6919.15                               7.0      surf   \n",
       "2               13314.82                              14.0      surf   \n",
       "3               22330.49                              22.0      surf   \n",
       "4               18504.30                              19.0      surf   \n",
       "...                  ...                               ...       ...   \n",
       "2298                 NaN                               NaN      surf   \n",
       "2299                 NaN                               NaN      surf   \n",
       "2300                 NaN                               NaN      surf   \n",
       "2301                 NaN                               NaN  ultimate   \n",
       "2302                 NaN                               NaN      surf   \n",
       "\n",
       "                                        city  minutos_cobrables  \\\n",
       "0      Atlanta-Sandy Springs-Roswell, GA MSA                0.0   \n",
       "1            Seattle-Tacoma-Bellevue, WA MSA                0.0   \n",
       "2            Seattle-Tacoma-Bellevue, WA MSA                0.0   \n",
       "3            Seattle-Tacoma-Bellevue, WA MSA                0.0   \n",
       "4            Seattle-Tacoma-Bellevue, WA MSA                0.0   \n",
       "...                                      ...                ...   \n",
       "2298      Boston-Cambridge-Newton, MA-NH MSA                0.0   \n",
       "2299                Colorado Springs, CO MSA                0.0   \n",
       "2300          Denver-Aurora-Lakewood, CO MSA                0.0   \n",
       "2301   Atlanta-Sandy Springs-Roswell, GA MSA                0.0   \n",
       "2302  Louisville/Jefferson County, KY-IN MSA                0.0   \n",
       "\n",
       "      mensajes_cobrables  datos_cobrables  \n",
       "0                    0.0              0.0  \n",
       "1                    0.0              0.0  \n",
       "2                    0.0              0.0  \n",
       "3                    3.0              7.0  \n",
       "4                    0.0              4.0  \n",
       "...                  ...              ...  \n",
       "2298                 0.0              0.0  \n",
       "2299                 0.0              0.0  \n",
       "2300                 0.0              0.0  \n",
       "2301                 0.0              0.0  \n",
       "2302                 0.0              0.0  \n",
       "\n",
       "[2303 rows x 12 columns]"
      ]
     },
     "execution_count": 76,
     "metadata": {},
     "output_type": "execute_result"
    }
   ],
   "source": [
    "tabla_consumo_planes"
   ]
  },
  {
   "cell_type": "code",
   "execution_count": 77,
   "metadata": {
    "trusted": false
   },
   "outputs": [
    {
     "data": {
      "text/plain": [
       "0.4133738601823708"
      ]
     },
     "execution_count": 77,
     "metadata": {},
     "output_type": "execute_result"
    }
   ],
   "source": [
    "len(tabla_consumo_planes.query('datos_cobrables > 0'))/len(tabla_consumo_planes)\n",
    "#El 41% de personas consumen mas datos de los que incluye el plan."
   ]
  },
  {
   "cell_type": "code",
   "execution_count": 78,
   "metadata": {
    "trusted": false
   },
   "outputs": [
    {
     "data": {
      "text/html": [
       "<div>\n",
       "<style scoped>\n",
       "    .dataframe tbody tr th:only-of-type {\n",
       "        vertical-align: middle;\n",
       "    }\n",
       "\n",
       "    .dataframe tbody tr th {\n",
       "        vertical-align: top;\n",
       "    }\n",
       "\n",
       "    .dataframe thead th {\n",
       "        text-align: right;\n",
       "    }\n",
       "</style>\n",
       "<table border=\"1\" class=\"dataframe\">\n",
       "  <thead>\n",
       "    <tr style=\"text-align: right;\">\n",
       "      <th></th>\n",
       "      <th>user_id</th>\n",
       "      <th>mes</th>\n",
       "      <th>minutos_usados</th>\n",
       "      <th>llamadas_hechas</th>\n",
       "      <th>cantidad_de_mensajes</th>\n",
       "      <th>total_datos_usados</th>\n",
       "      <th>total_datos_usados_redondeado_GB</th>\n",
       "      <th>plan_id</th>\n",
       "      <th>city</th>\n",
       "      <th>minutos_cobrables</th>\n",
       "      <th>mensajes_cobrables</th>\n",
       "      <th>datos_cobrables</th>\n",
       "    </tr>\n",
       "  </thead>\n",
       "  <tbody>\n",
       "    <tr>\n",
       "      <th>0</th>\n",
       "      <td>1000</td>\n",
       "      <td>12.0</td>\n",
       "      <td>124.0</td>\n",
       "      <td>16.0</td>\n",
       "      <td>11.0</td>\n",
       "      <td>1901.47</td>\n",
       "      <td>2.0</td>\n",
       "      <td>ultimate</td>\n",
       "      <td>Atlanta-Sandy Springs-Roswell, GA MSA</td>\n",
       "      <td>0.0</td>\n",
       "      <td>0.0</td>\n",
       "      <td>0.0</td>\n",
       "    </tr>\n",
       "    <tr>\n",
       "      <th>1</th>\n",
       "      <td>1001</td>\n",
       "      <td>8.0</td>\n",
       "      <td>182.0</td>\n",
       "      <td>27.0</td>\n",
       "      <td>30.0</td>\n",
       "      <td>6919.15</td>\n",
       "      <td>7.0</td>\n",
       "      <td>surf</td>\n",
       "      <td>Seattle-Tacoma-Bellevue, WA MSA</td>\n",
       "      <td>0.0</td>\n",
       "      <td>0.0</td>\n",
       "      <td>0.0</td>\n",
       "    </tr>\n",
       "    <tr>\n",
       "      <th>2</th>\n",
       "      <td>1001</td>\n",
       "      <td>9.0</td>\n",
       "      <td>315.0</td>\n",
       "      <td>49.0</td>\n",
       "      <td>44.0</td>\n",
       "      <td>13314.82</td>\n",
       "      <td>14.0</td>\n",
       "      <td>surf</td>\n",
       "      <td>Seattle-Tacoma-Bellevue, WA MSA</td>\n",
       "      <td>0.0</td>\n",
       "      <td>0.0</td>\n",
       "      <td>0.0</td>\n",
       "    </tr>\n",
       "    <tr>\n",
       "      <th>3</th>\n",
       "      <td>1001</td>\n",
       "      <td>10.0</td>\n",
       "      <td>393.0</td>\n",
       "      <td>65.0</td>\n",
       "      <td>53.0</td>\n",
       "      <td>22330.49</td>\n",
       "      <td>22.0</td>\n",
       "      <td>surf</td>\n",
       "      <td>Seattle-Tacoma-Bellevue, WA MSA</td>\n",
       "      <td>0.0</td>\n",
       "      <td>3.0</td>\n",
       "      <td>7.0</td>\n",
       "    </tr>\n",
       "    <tr>\n",
       "      <th>4</th>\n",
       "      <td>1001</td>\n",
       "      <td>11.0</td>\n",
       "      <td>426.0</td>\n",
       "      <td>64.0</td>\n",
       "      <td>36.0</td>\n",
       "      <td>18504.30</td>\n",
       "      <td>19.0</td>\n",
       "      <td>surf</td>\n",
       "      <td>Seattle-Tacoma-Bellevue, WA MSA</td>\n",
       "      <td>0.0</td>\n",
       "      <td>0.0</td>\n",
       "      <td>4.0</td>\n",
       "    </tr>\n",
       "    <tr>\n",
       "      <th>...</th>\n",
       "      <td>...</td>\n",
       "      <td>...</td>\n",
       "      <td>...</td>\n",
       "      <td>...</td>\n",
       "      <td>...</td>\n",
       "      <td>...</td>\n",
       "      <td>...</td>\n",
       "      <td>...</td>\n",
       "      <td>...</td>\n",
       "      <td>...</td>\n",
       "      <td>...</td>\n",
       "      <td>...</td>\n",
       "    </tr>\n",
       "    <tr>\n",
       "      <th>2298</th>\n",
       "      <td>1307</td>\n",
       "      <td>NaN</td>\n",
       "      <td>NaN</td>\n",
       "      <td>NaN</td>\n",
       "      <td>NaN</td>\n",
       "      <td>NaN</td>\n",
       "      <td>NaN</td>\n",
       "      <td>surf</td>\n",
       "      <td>Boston-Cambridge-Newton, MA-NH MSA</td>\n",
       "      <td>0.0</td>\n",
       "      <td>0.0</td>\n",
       "      <td>0.0</td>\n",
       "    </tr>\n",
       "    <tr>\n",
       "      <th>2299</th>\n",
       "      <td>1319</td>\n",
       "      <td>NaN</td>\n",
       "      <td>NaN</td>\n",
       "      <td>NaN</td>\n",
       "      <td>NaN</td>\n",
       "      <td>NaN</td>\n",
       "      <td>NaN</td>\n",
       "      <td>surf</td>\n",
       "      <td>Colorado Springs, CO MSA</td>\n",
       "      <td>0.0</td>\n",
       "      <td>0.0</td>\n",
       "      <td>0.0</td>\n",
       "    </tr>\n",
       "    <tr>\n",
       "      <th>2300</th>\n",
       "      <td>1378</td>\n",
       "      <td>NaN</td>\n",
       "      <td>NaN</td>\n",
       "      <td>NaN</td>\n",
       "      <td>NaN</td>\n",
       "      <td>NaN</td>\n",
       "      <td>NaN</td>\n",
       "      <td>surf</td>\n",
       "      <td>Denver-Aurora-Lakewood, CO MSA</td>\n",
       "      <td>0.0</td>\n",
       "      <td>0.0</td>\n",
       "      <td>0.0</td>\n",
       "    </tr>\n",
       "    <tr>\n",
       "      <th>2301</th>\n",
       "      <td>1463</td>\n",
       "      <td>NaN</td>\n",
       "      <td>NaN</td>\n",
       "      <td>NaN</td>\n",
       "      <td>NaN</td>\n",
       "      <td>NaN</td>\n",
       "      <td>NaN</td>\n",
       "      <td>ultimate</td>\n",
       "      <td>Atlanta-Sandy Springs-Roswell, GA MSA</td>\n",
       "      <td>0.0</td>\n",
       "      <td>0.0</td>\n",
       "      <td>0.0</td>\n",
       "    </tr>\n",
       "    <tr>\n",
       "      <th>2302</th>\n",
       "      <td>1473</td>\n",
       "      <td>NaN</td>\n",
       "      <td>NaN</td>\n",
       "      <td>NaN</td>\n",
       "      <td>NaN</td>\n",
       "      <td>NaN</td>\n",
       "      <td>NaN</td>\n",
       "      <td>surf</td>\n",
       "      <td>Louisville/Jefferson County, KY-IN MSA</td>\n",
       "      <td>0.0</td>\n",
       "      <td>0.0</td>\n",
       "      <td>0.0</td>\n",
       "    </tr>\n",
       "  </tbody>\n",
       "</table>\n",
       "<p>2303 rows × 12 columns</p>\n",
       "</div>"
      ],
      "text/plain": [
       "      user_id   mes  minutos_usados  llamadas_hechas  cantidad_de_mensajes  \\\n",
       "0        1000  12.0           124.0             16.0                  11.0   \n",
       "1        1001   8.0           182.0             27.0                  30.0   \n",
       "2        1001   9.0           315.0             49.0                  44.0   \n",
       "3        1001  10.0           393.0             65.0                  53.0   \n",
       "4        1001  11.0           426.0             64.0                  36.0   \n",
       "...       ...   ...             ...              ...                   ...   \n",
       "2298     1307   NaN             NaN              NaN                   NaN   \n",
       "2299     1319   NaN             NaN              NaN                   NaN   \n",
       "2300     1378   NaN             NaN              NaN                   NaN   \n",
       "2301     1463   NaN             NaN              NaN                   NaN   \n",
       "2302     1473   NaN             NaN              NaN                   NaN   \n",
       "\n",
       "      total_datos_usados  total_datos_usados_redondeado_GB   plan_id  \\\n",
       "0                1901.47                               2.0  ultimate   \n",
       "1                6919.15                               7.0      surf   \n",
       "2               13314.82                              14.0      surf   \n",
       "3               22330.49                              22.0      surf   \n",
       "4               18504.30                              19.0      surf   \n",
       "...                  ...                               ...       ...   \n",
       "2298                 NaN                               NaN      surf   \n",
       "2299                 NaN                               NaN      surf   \n",
       "2300                 NaN                               NaN      surf   \n",
       "2301                 NaN                               NaN  ultimate   \n",
       "2302                 NaN                               NaN      surf   \n",
       "\n",
       "                                        city  minutos_cobrables  \\\n",
       "0      Atlanta-Sandy Springs-Roswell, GA MSA                0.0   \n",
       "1            Seattle-Tacoma-Bellevue, WA MSA                0.0   \n",
       "2            Seattle-Tacoma-Bellevue, WA MSA                0.0   \n",
       "3            Seattle-Tacoma-Bellevue, WA MSA                0.0   \n",
       "4            Seattle-Tacoma-Bellevue, WA MSA                0.0   \n",
       "...                                      ...                ...   \n",
       "2298      Boston-Cambridge-Newton, MA-NH MSA                0.0   \n",
       "2299                Colorado Springs, CO MSA                0.0   \n",
       "2300          Denver-Aurora-Lakewood, CO MSA                0.0   \n",
       "2301   Atlanta-Sandy Springs-Roswell, GA MSA                0.0   \n",
       "2302  Louisville/Jefferson County, KY-IN MSA                0.0   \n",
       "\n",
       "      mensajes_cobrables  datos_cobrables  \n",
       "0                    0.0              0.0  \n",
       "1                    0.0              0.0  \n",
       "2                    0.0              0.0  \n",
       "3                    3.0              7.0  \n",
       "4                    0.0              4.0  \n",
       "...                  ...              ...  \n",
       "2298                 0.0              0.0  \n",
       "2299                 0.0              0.0  \n",
       "2300                 0.0              0.0  \n",
       "2301                 0.0              0.0  \n",
       "2302                 0.0              0.0  \n",
       "\n",
       "[2303 rows x 12 columns]"
      ]
     },
     "execution_count": 78,
     "metadata": {},
     "output_type": "execute_result"
    }
   ],
   "source": [
    "tabla_consumo_planes"
   ]
  },
  {
   "cell_type": "markdown",
   "metadata": {
    "id": "UN9zwuMP0q1N"
   },
   "source": [
    "[Elabora las conclusiones sobre cómo los usuarios tienden a consumir el tráfico de Internet. ¿Su comportamiento varía en función del plan?]"
   ]
  },
  {
   "cell_type": "markdown",
   "metadata": {
    "id": "tCijq3260q1N"
   },
   "source": [
    "## Ingreso"
   ]
  },
  {
   "cell_type": "markdown",
   "metadata": {
    "id": "9nq5IAcy0q1O"
   },
   "source": [
    "[Del mismo modo que has estudiado el comportamiento de los usuarios, describe estadísticamente los ingresos de los planes.]"
   ]
  },
  {
   "cell_type": "code",
   "execution_count": 79,
   "metadata": {
    "id": "tz-dq_V00q1O",
    "trusted": false
   },
   "outputs": [],
   "source": [
    "def rentabilidad_mensual(fila):\n",
    "    plan = fila['plan_id']\n",
    "    llamadas_cobrables = fila['minutos_cobrables']\n",
    "    mensajes_cobrables = fila['mensajes_cobrables']\n",
    "    datos_cobrables = fila['datos_cobrables']\n",
    "    rentabilidad = 0\n",
    "    \n",
    "    if plan == 'surf':\n",
    "        rentabilidad = surf_usd_monthly_pay + (llamadas_cobrables*surf_usd_per_minute) + (mensajes_cobrables*surf_usd_per_message) + (datos_cobrables*surf_usd_per_gb)\n",
    "    elif plan == 'ultimate':\n",
    "        rentabilidad = ultimate_usd_monthly_pay + (llamadas_cobrables*ultimate_usd_per_minute) + (mensajes_cobrables*surf_usd_per_message) + (datos_cobrables*ultimate_usd_per_gb)\n",
    "    return rentabilidad       "
   ]
  },
  {
   "cell_type": "code",
   "execution_count": 80,
   "metadata": {
    "id": "0Y1v8ZUz0q1P",
    "trusted": false
   },
   "outputs": [],
   "source": [
    "tabla_consumo_planes['rentabilidad_mensual'] = tabla_consumo_planes.apply(rentabilidad_mensual, axis=1 )"
   ]
  },
  {
   "cell_type": "code",
   "execution_count": 101,
   "metadata": {
    "id": "bYmwxyVh0q1P",
    "trusted": false
   },
   "outputs": [
    {
     "data": {
      "text/html": [
       "<div>\n",
       "<style scoped>\n",
       "    .dataframe tbody tr th:only-of-type {\n",
       "        vertical-align: middle;\n",
       "    }\n",
       "\n",
       "    .dataframe tbody tr th {\n",
       "        vertical-align: top;\n",
       "    }\n",
       "\n",
       "    .dataframe thead th {\n",
       "        text-align: right;\n",
       "    }\n",
       "</style>\n",
       "<table border=\"1\" class=\"dataframe\">\n",
       "  <thead>\n",
       "    <tr style=\"text-align: right;\">\n",
       "      <th></th>\n",
       "      <th>user_id</th>\n",
       "      <th>mes</th>\n",
       "      <th>minutos_usados</th>\n",
       "      <th>llamadas_hechas</th>\n",
       "      <th>cantidad_de_mensajes</th>\n",
       "      <th>total_datos_usados</th>\n",
       "      <th>total_datos_usados_redondeado_GB</th>\n",
       "      <th>plan_id</th>\n",
       "      <th>city</th>\n",
       "      <th>minutos_cobrables</th>\n",
       "      <th>mensajes_cobrables</th>\n",
       "      <th>datos_cobrables</th>\n",
       "      <th>rentabilidad_mensual</th>\n",
       "    </tr>\n",
       "  </thead>\n",
       "  <tbody>\n",
       "    <tr>\n",
       "      <th>0</th>\n",
       "      <td>1000</td>\n",
       "      <td>12.0</td>\n",
       "      <td>124.0</td>\n",
       "      <td>16.0</td>\n",
       "      <td>11.0</td>\n",
       "      <td>1901.47</td>\n",
       "      <td>2.0</td>\n",
       "      <td>ultimate</td>\n",
       "      <td>Atlanta-Sandy Springs-Roswell, GA MSA</td>\n",
       "      <td>0.0</td>\n",
       "      <td>0.0</td>\n",
       "      <td>0.0</td>\n",
       "      <td>70.00</td>\n",
       "    </tr>\n",
       "    <tr>\n",
       "      <th>1</th>\n",
       "      <td>1001</td>\n",
       "      <td>8.0</td>\n",
       "      <td>182.0</td>\n",
       "      <td>27.0</td>\n",
       "      <td>30.0</td>\n",
       "      <td>6919.15</td>\n",
       "      <td>7.0</td>\n",
       "      <td>surf</td>\n",
       "      <td>Seattle-Tacoma-Bellevue, WA MSA</td>\n",
       "      <td>0.0</td>\n",
       "      <td>0.0</td>\n",
       "      <td>0.0</td>\n",
       "      <td>20.00</td>\n",
       "    </tr>\n",
       "    <tr>\n",
       "      <th>2</th>\n",
       "      <td>1001</td>\n",
       "      <td>9.0</td>\n",
       "      <td>315.0</td>\n",
       "      <td>49.0</td>\n",
       "      <td>44.0</td>\n",
       "      <td>13314.82</td>\n",
       "      <td>14.0</td>\n",
       "      <td>surf</td>\n",
       "      <td>Seattle-Tacoma-Bellevue, WA MSA</td>\n",
       "      <td>0.0</td>\n",
       "      <td>0.0</td>\n",
       "      <td>0.0</td>\n",
       "      <td>20.00</td>\n",
       "    </tr>\n",
       "    <tr>\n",
       "      <th>3</th>\n",
       "      <td>1001</td>\n",
       "      <td>10.0</td>\n",
       "      <td>393.0</td>\n",
       "      <td>65.0</td>\n",
       "      <td>53.0</td>\n",
       "      <td>22330.49</td>\n",
       "      <td>22.0</td>\n",
       "      <td>surf</td>\n",
       "      <td>Seattle-Tacoma-Bellevue, WA MSA</td>\n",
       "      <td>0.0</td>\n",
       "      <td>3.0</td>\n",
       "      <td>7.0</td>\n",
       "      <td>90.03</td>\n",
       "    </tr>\n",
       "    <tr>\n",
       "      <th>4</th>\n",
       "      <td>1001</td>\n",
       "      <td>11.0</td>\n",
       "      <td>426.0</td>\n",
       "      <td>64.0</td>\n",
       "      <td>36.0</td>\n",
       "      <td>18504.30</td>\n",
       "      <td>19.0</td>\n",
       "      <td>surf</td>\n",
       "      <td>Seattle-Tacoma-Bellevue, WA MSA</td>\n",
       "      <td>0.0</td>\n",
       "      <td>0.0</td>\n",
       "      <td>4.0</td>\n",
       "      <td>60.00</td>\n",
       "    </tr>\n",
       "  </tbody>\n",
       "</table>\n",
       "</div>"
      ],
      "text/plain": [
       "   user_id   mes  minutos_usados  llamadas_hechas  cantidad_de_mensajes  \\\n",
       "0     1000  12.0           124.0             16.0                  11.0   \n",
       "1     1001   8.0           182.0             27.0                  30.0   \n",
       "2     1001   9.0           315.0             49.0                  44.0   \n",
       "3     1001  10.0           393.0             65.0                  53.0   \n",
       "4     1001  11.0           426.0             64.0                  36.0   \n",
       "\n",
       "   total_datos_usados  total_datos_usados_redondeado_GB   plan_id  \\\n",
       "0             1901.47                               2.0  ultimate   \n",
       "1             6919.15                               7.0      surf   \n",
       "2            13314.82                              14.0      surf   \n",
       "3            22330.49                              22.0      surf   \n",
       "4            18504.30                              19.0      surf   \n",
       "\n",
       "                                    city  minutos_cobrables  \\\n",
       "0  Atlanta-Sandy Springs-Roswell, GA MSA                0.0   \n",
       "1        Seattle-Tacoma-Bellevue, WA MSA                0.0   \n",
       "2        Seattle-Tacoma-Bellevue, WA MSA                0.0   \n",
       "3        Seattle-Tacoma-Bellevue, WA MSA                0.0   \n",
       "4        Seattle-Tacoma-Bellevue, WA MSA                0.0   \n",
       "\n",
       "   mensajes_cobrables  datos_cobrables  rentabilidad_mensual  \n",
       "0                 0.0              0.0                 70.00  \n",
       "1                 0.0              0.0                 20.00  \n",
       "2                 0.0              0.0                 20.00  \n",
       "3                 3.0              7.0                 90.03  \n",
       "4                 0.0              4.0                 60.00  "
      ]
     },
     "execution_count": 101,
     "metadata": {},
     "output_type": "execute_result"
    }
   ],
   "source": [
    "tabla_consumo_planes.head(5)"
   ]
  },
  {
   "cell_type": "code",
   "execution_count": 88,
   "metadata": {
    "trusted": false
   },
   "outputs": [],
   "source": [
    "variables = ['minutos_usados', 'cantidad_de_mensajes', 'total_datos_usados_redondeado_GB']"
   ]
  },
  {
   "cell_type": "code",
   "execution_count": 89,
   "metadata": {
    "trusted": false
   },
   "outputs": [],
   "source": [
    "planes = ['surf', 'ultimate']"
   ]
  },
  {
   "cell_type": "code",
   "execution_count": 90,
   "metadata": {
    "trusted": false
   },
   "outputs": [
    {
     "data": {
      "image/png": "[encoded data removed]",
      "text/plain": [
       "<Figure size 640x480 with 1 Axes>"
      ]
     },
     "metadata": {},
     "output_type": "display_data"
    },
    {
     "data": {
      "image/png": "[encoded data removed]",
      "text/plain": [
       "<Figure size 640x480 with 1 Axes>"
      ]
     },
     "metadata": {},
     "output_type": "display_data"
    },
    {
     "data": {
      "image/png": "[encoded data removed]",
      "text/plain": [
       "<Figure size 640x480 with 1 Axes>"
      ]
     },
     "metadata": {},
     "output_type": "display_data"
    },
    {
     "data": {
      "image/png": "[encoded data removed]",
      "text/plain": [
       "<Figure size 640x480 with 1 Axes>"
      ]
     },
     "metadata": {},
     "output_type": "display_data"
    },
    {
     "data": {
      "image/png": "[encoded data removed]",
      "text/plain": [
       "<Figure size 640x480 with 1 Axes>"
      ]
     },
     "metadata": {},
     "output_type": "display_data"
    },
    {
     "data": {
      "image/png": "[encoded data removed]",
      "text/plain": [
       "<Figure size 640x480 with 1 Axes>"
      ]
     },
     "metadata": {},
     "output_type": "display_data"
    },
    {
     "data": {
      "image/png": "[encoded data removed]",
      "text/plain": [
       "<Figure size 640x480 with 1 Axes>"
      ]
     },
     "metadata": {},
     "output_type": "display_data"
    },
    {
     "data": {
      "image/png": "[encoded data removed]",
      "text/plain": [
       "<Figure size 640x480 with 1 Axes>"
      ]
     },
     "metadata": {},
     "output_type": "display_data"
    },
    {
     "data": {
      "image/png": "[encoded data removed]",
      "text/plain": [
       "<Figure size 640x480 with 1 Axes>"
      ]
     },
     "metadata": {},
     "output_type": "display_data"
    }
   ],
   "source": [
    "for metrica in variables:\n",
    "    for plan in planes:\n",
    "        tabla_consumo_planes[tabla_consumo_planes['plan_id'] == plan][metrica].plot(kind='hist')\n",
    "    plt.title(metrica)\n",
    "    plt.legend(planes)\n",
    "    plt.show()\n",
    "    \n",
    "    for plan in planes:\n",
    "        plt.boxplot(tabla_consumo_planes[tabla_consumo_planes['plan_id'] == plan][metrica].dropna())\n",
    "        plt.title(plan)\n",
    "        plt.show()"
   ]
  },
  {
   "cell_type": "markdown",
   "metadata": {
    "id": "KAFidcXZ0q1P"
   },
   "source": [
    "[Elabora las conclusiones sobre cómo difiere el ingreso entre los planes.]"
   ]
  },
  {
   "cell_type": "markdown",
   "metadata": {
    "id": "ajJ7VKeI0q1Q"
   },
   "source": [
    "## Prueba las hipótesis estadísticas"
   ]
  },
  {
   "cell_type": "markdown",
   "metadata": {
    "id": "AdXAZ-yL0q1Q"
   },
   "source": [
    "[Prueba la hipótesis de que son diferentes los ingresos promedio procedentes de los usuarios de los planes de llamada Ultimate y Surf.]"
   ]
  },
  {
   "cell_type": "markdown",
   "metadata": {
    "id": "IQwa_hsh0q1Q"
   },
   "source": [
    "[Elabora las hipótesis nula y alternativa, escoge la prueba estadística, determina el valor alfa.]"
   ]
  },
  {
   "cell_type": "code",
   "execution_count": 82,
   "metadata": {
    "id": "nFoPNlPq0q1R",
    "trusted": false
   },
   "outputs": [],
   "source": [
    "# Prueba las hipótesis"
   ]
  },
  {
   "cell_type": "code",
   "execution_count": 91,
   "metadata": {
    "trusted": false
   },
   "outputs": [
    {
     "name": "stdout",
     "output_type": "stream",
     "text": [
      "La rentabilidad total del plan surf es de : 95390.56\n",
      "La rentabilidad mensual promedio del plan surf es de : 60.41200759974667\n",
      "La rentabilidad total del plan ultimate es de : 52346.0\n",
      "La rentabilidad mensual promedio del plan ultimate es de : 72.3011049723757\n"
     ]
    }
   ],
   "source": [
    "plans = ['surf', 'ultimate']\n",
    "\n",
    "for plan in plans:\n",
    "    rentabilidad_suma = tabla_consumo_planes[tabla_consumo_planes['plan_id'] == plan]['rentabilidad_mensual'].sum()\n",
    "    rentabilidad_promedio_mensual = tabla_consumo_planes[tabla_consumo_planes['plan_id'] == plan]['rentabilidad_mensual'].mean()\n",
    "    print(f'La rentabilidad total del plan {plan} es de : {rentabilidad_suma}')\n",
    "    print(f'La rentabilidad mensual promedio del plan {plan} es de : {rentabilidad_promedio_mensual}')"
   ]
  },
  {
   "cell_type": "code",
   "execution_count": 93,
   "metadata": {
    "trusted": false
   },
   "outputs": [],
   "source": [
    "alpha = 0.05\n",
    "\n",
    "sample_1 = tabla_consumo_planes.query('plan_id == \"surf\"')['rentabilidad_mensual']"
   ]
  },
  {
   "cell_type": "code",
   "execution_count": 94,
   "metadata": {
    "trusted": false
   },
   "outputs": [
    {
     "data": {
      "text/plain": [
       "1       20.00\n",
       "2       20.00\n",
       "3       90.03\n",
       "4       60.00\n",
       "5       60.00\n",
       "        ...  \n",
       "2295    20.00\n",
       "2298    20.00\n",
       "2299    20.00\n",
       "2300    20.00\n",
       "2302    20.00\n",
       "Name: rentabilidad_mensual, Length: 1579, dtype: float64"
      ]
     },
     "execution_count": 94,
     "metadata": {},
     "output_type": "execute_result"
    }
   ],
   "source": [
    "sample_1"
   ]
  },
  {
   "cell_type": "code",
   "execution_count": 95,
   "metadata": {
    "trusted": false
   },
   "outputs": [],
   "source": [
    "sample_2 = tabla_consumo_planes.query('plan_id == \"ultimate\"')['rentabilidad_mensual']"
   ]
  },
  {
   "cell_type": "code",
   "execution_count": 96,
   "metadata": {
    "trusted": false
   },
   "outputs": [
    {
     "data": {
      "text/plain": [
       "0       70.0\n",
       "19      70.0\n",
       "20      84.0\n",
       "26      70.0\n",
       "27      70.0\n",
       "        ... \n",
       "2292    70.0\n",
       "2293    70.0\n",
       "2296    70.0\n",
       "2297    70.0\n",
       "2301    70.0\n",
       "Name: rentabilidad_mensual, Length: 724, dtype: float64"
      ]
     },
     "execution_count": 96,
     "metadata": {},
     "output_type": "execute_result"
    }
   ],
   "source": [
    "sample_2"
   ]
  },
  {
   "cell_type": "markdown",
   "metadata": {},
   "source": [
    "1era Hipotesis Nula = Los promedios mensuales del Plan Surf son iguales al Plan Ultimate"
   ]
  },
  {
   "cell_type": "code",
   "execution_count": 97,
   "metadata": {
    "trusted": false
   },
   "outputs": [
    {
     "name": "stdout",
     "output_type": "stream",
     "text": [
      "p-value: 5.268703695438697e-16\n"
     ]
    }
   ],
   "source": [
    "resultados = st.ttest_ind(sample_1, sample_2, equal_var=False)\n",
    "\n",
    "print(f'p-value: {resultados.pvalue}')"
   ]
  },
  {
   "cell_type": "code",
   "execution_count": 98,
   "metadata": {
    "trusted": false
   },
   "outputs": [
    {
     "name": "stdout",
     "output_type": "stream",
     "text": [
      "Rechazamos la hipótesis nula\n"
     ]
    }
   ],
   "source": [
    "if resultados.pvalue < alpha:\n",
    "    print(\"Rechazamos la hipótesis nula\")\n",
    "else:\n",
    "    print(\"No podemos rechazar la hipótesis nula\")"
   ]
  },
  {
   "cell_type": "markdown",
   "metadata": {
    "id": "tCcAruM60q1R"
   },
   "source": [
    "[Prueba la hipótesis de que el ingreso promedio de los usuarios del área NY-NJ es diferente al de los usuarios de otras regiones.]"
   ]
  },
  {
   "cell_type": "markdown",
   "metadata": {
    "id": "LsBgitqj0q1R"
   },
   "source": [
    "[Elabora las hipótesis nula y alternativa, escoge la prueba estadística, determina el valor alfa.]"
   ]
  },
  {
   "cell_type": "code",
   "execution_count": 83,
   "metadata": {
    "id": "Cqcj7wrZ0q1S",
    "trusted": false
   },
   "outputs": [],
   "source": [
    "# Prueba las hipótesis"
   ]
  },
  {
   "cell_type": "code",
   "execution_count": 99,
   "metadata": {
    "trusted": false
   },
   "outputs": [
    {
     "data": {
      "text/plain": [
       "0          Atlanta-Sandy Springs-Roswell, GA MSA\n",
       "1                Seattle-Tacoma-Bellevue, WA MSA\n",
       "2           Las Vegas-Henderson-Paradise, NV MSA\n",
       "3                                  Tulsa, OK MSA\n",
       "4                Seattle-Tacoma-Bellevue, WA MSA\n",
       "                         ...                    \n",
       "495    New York-Newark-Jersey City, NY-NJ-PA MSA\n",
       "496                 New Orleans-Metairie, LA MSA\n",
       "497       Los Angeles-Long Beach-Anaheim, CA MSA\n",
       "498    New York-Newark-Jersey City, NY-NJ-PA MSA\n",
       "499            Orlando-Kissimmee-Sanford, FL MSA\n",
       "Name: city, Length: 500, dtype: object"
      ]
     },
     "execution_count": 99,
     "metadata": {},
     "output_type": "execute_result"
    }
   ],
   "source": [
    "usuarios_df['city']"
   ]
  },
  {
   "cell_type": "code",
   "execution_count": 100,
   "metadata": {
    "trusted": false
   },
   "outputs": [
    {
     "name": "stdout",
     "output_type": "stream",
     "text": [
      "La rentabilidad mensual promedio general es de : 64.14961354754668\n",
      "La rentabilidad mensual promedio en la ciudad de  NY es de : 59.896058201058196\n",
      "La rentabilidad mensual promedio en el resto de ciudades es de : 64.98485714285715\n"
     ]
    }
   ],
   "source": [
    "promedio_ingresos_general = tabla_consumo_planes['rentabilidad_mensual'].mean()\n",
    "promedio_ingresos_ny = tabla_consumo_planes[tabla_consumo_planes['city'].str.contains('NY-NJ')]['rentabilidad_mensual'].mean()\n",
    "promedio_ingresos_resto_de_ciudades = tabla_consumo_planes[~tabla_consumo_planes['city'].str.contains('NY-NJ', case=False)]['rentabilidad_mensual'].mean()\n",
    "print(f'La rentabilidad mensual promedio general es de : {promedio_ingresos_general}')\n",
    "print(f'La rentabilidad mensual promedio en la ciudad de  NY es de : {promedio_ingresos_ny}')\n",
    "print(f'La rentabilidad mensual promedio en el resto de ciudades es de : {promedio_ingresos_resto_de_ciudades}')\n",
    "\n",
    "\n",
    "    "
   ]
  },
  {
   "cell_type": "markdown",
   "metadata": {
    "id": "bbTR8UQO0q1T"
   },
   "source": [
    "## Conclusión general\n",
    "\n",
    "[En esta sección final, enumera tus conclusiones importantes. Asegúrate de que estas abarquen todas las decisiones (suposiciones) importantes que adoptaste y que determinaron la forma elegida para procesar y analizar los datos.]"
   ]
  }
 ],
 "metadata": {
  "ExecuteTimeLog": [
   {
    "duration": 828,
    "start_time": "2021-11-16T09:21:11.304Z"
   },
   {
    "duration": 893,
    "start_time": "2021-11-16T09:21:17.728Z"
   },
   {
    "duration": 1150,
    "start_time": "2021-11-16T09:21:29.568Z"
   },
   {
    "duration": 3,
    "start_time": "2021-11-16T09:24:14.495Z"
   },
   {
    "duration": 120,
    "start_time": "2021-11-16T09:24:46.630Z"
   },
   {
    "duration": 3,
    "start_time": "2021-11-16T09:28:27.882Z"
   },
   {
    "duration": 4,
    "start_time": "2021-11-16T09:29:54.281Z"
   },
   {
    "duration": 3,
    "start_time": "2021-11-16T09:30:45.936Z"
   },
   {
    "duration": 4,
    "start_time": "2021-11-16T09:31:06.300Z"
   },
   {
    "duration": 113,
    "start_time": "2021-11-16T09:31:37.208Z"
   },
   {
    "duration": 143,
    "start_time": "2021-11-16T09:31:48.656Z"
   },
   {
    "duration": 98,
    "start_time": "2021-11-16T09:31:55.678Z"
   },
   {
    "duration": 3,
    "start_time": "2021-11-16T09:32:08.535Z"
   },
   {
    "duration": 111,
    "start_time": "2021-11-16T09:32:10.120Z"
   },
   {
    "duration": 3,
    "start_time": "2021-11-16T09:32:15.732Z"
   },
   {
    "duration": 4,
    "start_time": "2021-11-16T09:32:29.423Z"
   },
   {
    "duration": 3,
    "start_time": "2021-11-16T10:03:03.074Z"
   },
   {
    "duration": 3,
    "start_time": "2021-11-16T10:10:01.288Z"
   },
   {
    "duration": 3,
    "start_time": "2021-11-16T10:10:46.923Z"
   },
   {
    "duration": 121,
    "start_time": "2021-11-16T10:37:46.494Z"
   },
   {
    "duration": 125,
    "start_time": "2021-11-16T10:38:20.632Z"
   },
   {
    "duration": 112,
    "start_time": "2021-11-16T10:46:53.001Z"
   },
   {
    "duration": 110,
    "start_time": "2021-11-16T10:48:25.775Z"
   },
   {
    "duration": 3,
    "start_time": "2021-11-16T10:50:18.720Z"
   },
   {
    "duration": 4,
    "start_time": "2021-11-16T10:50:37.649Z"
   },
   {
    "duration": 2,
    "start_time": "2021-11-16T10:50:51.884Z"
   },
   {
    "duration": 3,
    "start_time": "2021-11-16T10:51:56.237Z"
   },
   {
    "duration": 101,
    "start_time": "2021-11-16T10:53:13.791Z"
   },
   {
    "duration": 3,
    "start_time": "2021-11-16T10:55:59.186Z"
   },
   {
    "duration": 3,
    "start_time": "2021-11-16T10:56:10.751Z"
   },
   {
    "duration": 3,
    "start_time": "2021-11-16T10:56:49.038Z"
   },
   {
    "duration": 3,
    "start_time": "2021-11-16T10:56:49.174Z"
   },
   {
    "duration": 4,
    "start_time": "2021-11-16T10:56:49.414Z"
   },
   {
    "duration": 3,
    "start_time": "2021-11-16T10:56:49.680Z"
   },
   {
    "duration": 3,
    "start_time": "2021-11-16T10:56:50.370Z"
   },
   {
    "duration": 114,
    "start_time": "2021-11-16T10:59:34.518Z"
   },
   {
    "duration": 3,
    "start_time": "2021-11-16T11:01:41.201Z"
   },
   {
    "duration": 116,
    "start_time": "2021-11-16T11:01:48.754Z"
   },
   {
    "duration": 3,
    "start_time": "2021-11-16T11:02:16.685Z"
   },
   {
    "duration": 3,
    "start_time": "2021-11-16T11:02:19.479Z"
   },
   {
    "duration": 3,
    "start_time": "2021-11-16T11:02:47.067Z"
   },
   {
    "duration": 3,
    "start_time": "2021-11-16T11:02:49.353Z"
   },
   {
    "duration": 3,
    "start_time": "2021-11-16T11:03:07.835Z"
   },
   {
    "duration": 3,
    "start_time": "2021-11-16T11:03:07.953Z"
   },
   {
    "duration": 112,
    "start_time": "2021-11-16T11:07:52.072Z"
   },
   {
    "duration": 187,
    "start_time": "2021-11-16T11:09:23.468Z"
   },
   {
    "duration": 4,
    "start_time": "2021-11-16T11:10:01.455Z"
   },
   {
    "duration": 3,
    "start_time": "2021-11-16T11:10:05.069Z"
   },
   {
    "duration": 4,
    "start_time": "2021-11-16T11:10:13.376Z"
   },
   {
    "duration": 3,
    "start_time": "2021-11-16T11:10:14.434Z"
   },
   {
    "duration": 3,
    "start_time": "2021-11-16T11:10:22.853Z"
   },
   {
    "duration": 4,
    "start_time": "2021-11-16T11:27:29.279Z"
   },
   {
    "duration": 4,
    "start_time": "2021-11-16T11:29:08.919Z"
   },
   {
    "duration": 118,
    "start_time": "2021-11-16T11:29:46.703Z"
   },
   {
    "duration": 437,
    "start_time": "2021-11-16T11:36:02.181Z"
   },
   {
    "duration": 157,
    "start_time": "2021-11-16T11:36:14.388Z"
   },
   {
    "duration": 207,
    "start_time": "2021-11-16T11:47:15.898Z"
   },
   {
    "duration": 3,
    "start_time": "2021-11-16T11:53:52.092Z"
   },
   {
    "duration": 3,
    "start_time": "2021-11-16T11:53:52.236Z"
   },
   {
    "duration": 3,
    "start_time": "2021-11-16T11:59:12.005Z"
   },
   {
    "duration": 112,
    "start_time": "2021-11-16T12:00:33.446Z"
   },
   {
    "duration": 3,
    "start_time": "2021-11-16T12:02:14.453Z"
   },
   {
    "duration": 3,
    "start_time": "2021-11-16T12:02:39.512Z"
   },
   {
    "duration": 106,
    "start_time": "2021-11-16T12:03:03.460Z"
   },
   {
    "duration": 3,
    "start_time": "2021-11-17T20:37:21.139Z"
   },
   {
    "duration": 3,
    "start_time": "2021-11-17T20:37:22.229Z"
   },
   {
    "duration": 3,
    "start_time": "2021-11-17T20:38:38.806Z"
   },
   {
    "duration": 3,
    "start_time": "2021-11-17T20:38:41.958Z"
   },
   {
    "duration": 3,
    "start_time": "2021-11-17T20:43:46.551Z"
   },
   {
    "duration": 4,
    "start_time": "2021-11-17T20:58:21.835Z"
   },
   {
    "duration": 3,
    "start_time": "2021-11-17T20:59:21.872Z"
   },
   {
    "duration": 4,
    "start_time": "2021-11-17T20:59:45.352Z"
   },
   {
    "duration": 4,
    "start_time": "2021-11-17T20:59:49.646Z"
   },
   {
    "duration": 159,
    "start_time": "2021-11-17T21:02:26.949Z"
   },
   {
    "duration": 3,
    "start_time": "2021-11-17T21:03:53.461Z"
   },
   {
    "duration": 3,
    "start_time": "2021-11-17T21:03:53.694Z"
   },
   {
    "duration": 3,
    "start_time": "2021-11-17T21:05:28.145Z"
   },
   {
    "duration": 116,
    "start_time": "2021-11-17T21:05:57.787Z"
   },
   {
    "duration": 3,
    "start_time": "2021-11-17T21:06:37.993Z"
   },
   {
    "duration": 3,
    "start_time": "2021-11-17T21:06:38.261Z"
   },
   {
    "duration": 3,
    "start_time": "2021-11-17T21:11:54.358Z"
   },
   {
    "duration": 3,
    "start_time": "2021-11-17T21:12:43.846Z"
   },
   {
    "duration": 4,
    "start_time": "2021-11-17T21:13:08.773Z"
   },
   {
    "duration": 3,
    "start_time": "2021-11-17T21:14:44.441Z"
   },
   {
    "duration": 3,
    "start_time": "2021-11-17T21:15:42.059Z"
   },
   {
    "duration": 4,
    "start_time": "2021-11-17T21:15:51.995Z"
   },
   {
    "duration": 3,
    "start_time": "2021-11-17T21:15:53.923Z"
   },
   {
    "duration": 3,
    "start_time": "2021-11-17T21:15:55.282Z"
   },
   {
    "duration": 3,
    "start_time": "2021-11-17T21:16:28.492Z"
   },
   {
    "duration": 3,
    "start_time": "2021-11-17T21:16:32.603Z"
   },
   {
    "duration": 3,
    "start_time": "2021-11-17T21:17:06.941Z"
   },
   {
    "duration": 98,
    "start_time": "2021-11-17T21:18:05.733Z"
   },
   {
    "duration": 4,
    "start_time": "2021-11-17T21:21:35.255Z"
   },
   {
    "duration": 3,
    "start_time": "2021-11-17T21:21:37.804Z"
   },
   {
    "duration": 4,
    "start_time": "2021-11-17T21:23:06.071Z"
   },
   {
    "duration": 3,
    "start_time": "2021-11-17T21:23:24.799Z"
   },
   {
    "duration": 3,
    "start_time": "2021-11-17T21:23:32.591Z"
   },
   {
    "duration": 98,
    "start_time": "2021-11-17T21:28:31.559Z"
   },
   {
    "duration": 3,
    "start_time": "2021-11-17T21:28:45.448Z"
   },
   {
    "duration": 3,
    "start_time": "2021-11-17T21:29:17.303Z"
   },
   {
    "duration": 3,
    "start_time": "2021-11-17T21:29:29.617Z"
   },
   {
    "duration": 3,
    "start_time": "2021-11-17T21:29:32.681Z"
   },
   {
    "duration": 3,
    "start_time": "2021-11-17T21:36:11.474Z"
   },
   {
    "duration": 3,
    "start_time": "2021-11-17T21:36:14.791Z"
   },
   {
    "duration": 3,
    "start_time": "2021-11-17T21:36:53.943Z"
   },
   {
    "duration": 3,
    "start_time": "2021-11-17T21:36:56.165Z"
   },
   {
    "duration": 4,
    "start_time": "2021-11-17T21:37:16.590Z"
   },
   {
    "duration": 3,
    "start_time": "2021-11-17T21:37:22.702Z"
   },
   {
    "duration": 4,
    "start_time": "2021-11-17T21:38:03.479Z"
   },
   {
    "duration": 3,
    "start_time": "2021-11-17T21:38:08.601Z"
   },
   {
    "duration": 3,
    "start_time": "2021-11-17T21:38:12.928Z"
   },
   {
    "duration": 3,
    "start_time": "2021-11-17T21:38:48.896Z"
   },
   {
    "duration": 2,
    "start_time": "2021-11-17T21:38:49.171Z"
   },
   {
    "duration": 4,
    "start_time": "2021-11-17T21:39:57.889Z"
   },
   {
    "duration": 3,
    "start_time": "2021-11-17T21:39:58.057Z"
   },
   {
    "duration": 3,
    "start_time": "2021-11-17T21:41:20.108Z"
   },
   {
    "duration": 3,
    "start_time": "2021-11-17T21:41:20.629Z"
   },
   {
    "duration": 3,
    "start_time": "2021-11-17T21:42:49.136Z"
   },
   {
    "duration": 3,
    "start_time": "2021-11-17T21:43:15.137Z"
   },
   {
    "duration": 4,
    "start_time": "2021-11-17T21:43:16.766Z"
   },
   {
    "duration": 4,
    "start_time": "2021-11-17T21:43:31.711Z"
   },
   {
    "duration": 3,
    "start_time": "2021-11-17T21:43:36.312Z"
   },
   {
    "duration": 4,
    "start_time": "2021-11-17T21:45:08.825Z"
   },
   {
    "duration": 4,
    "start_time": "2021-11-17T21:45:10.119Z"
   },
   {
    "duration": 4,
    "start_time": "2021-11-17T21:45:13.748Z"
   },
   {
    "duration": 3,
    "start_time": "2021-11-17T21:45:22.219Z"
   },
   {
    "duration": 3,
    "start_time": "2021-11-17T21:45:33.412Z"
   },
   {
    "duration": 2,
    "start_time": "2021-11-17T21:46:01.885Z"
   },
   {
    "duration": 3,
    "start_time": "2021-11-17T21:46:03.628Z"
   },
   {
    "duration": 107,
    "start_time": "2021-11-17T21:47:32.512Z"
   },
   {
    "duration": 103,
    "start_time": "2021-11-17T21:50:36.243Z"
   },
   {
    "duration": 3,
    "start_time": "2021-11-18T06:28:31.440Z"
   },
   {
    "duration": 3,
    "start_time": "2021-11-18T06:29:00.168Z"
   },
   {
    "duration": 3,
    "start_time": "2021-11-18T06:31:27.008Z"
   },
   {
    "duration": 2,
    "start_time": "2021-11-18T06:35:34.288Z"
   },
   {
    "duration": 2,
    "start_time": "2021-11-18T06:38:04.527Z"
   },
   {
    "duration": 169,
    "start_time": "2024-11-21T18:49:19.143Z"
   },
   {
    "duration": 2397,
    "start_time": "2024-11-21T18:49:29.559Z"
   },
   {
    "duration": 247,
    "start_time": "2024-11-21T18:49:31.958Z"
   },
   {
    "duration": 11,
    "start_time": "2024-11-21T18:49:32.812Z"
   },
   {
    "duration": 12,
    "start_time": "2024-11-21T18:50:22.621Z"
   },
   {
    "duration": 3,
    "start_time": "2024-11-21T19:00:30.099Z"
   },
   {
    "duration": 7,
    "start_time": "2024-11-21T19:00:51.542Z"
   },
   {
    "duration": 8,
    "start_time": "2024-11-21T19:04:31.747Z"
   },
   {
    "duration": 10,
    "start_time": "2024-11-21T19:04:33.441Z"
   },
   {
    "duration": 8,
    "start_time": "2024-11-21T19:11:00.591Z"
   },
   {
    "duration": 6,
    "start_time": "2024-11-21T19:11:05.510Z"
   },
   {
    "duration": 5,
    "start_time": "2024-11-21T19:11:05.960Z"
   },
   {
    "duration": 9,
    "start_time": "2024-11-21T19:11:06.502Z"
   },
   {
    "duration": 3,
    "start_time": "2024-11-21T19:12:41.548Z"
   },
   {
    "duration": 9,
    "start_time": "2024-11-21T19:12:42.452Z"
   },
   {
    "duration": 5,
    "start_time": "2024-11-21T19:13:35.325Z"
   },
   {
    "duration": 5,
    "start_time": "2024-11-21T19:13:35.764Z"
   },
   {
    "duration": 9,
    "start_time": "2024-11-21T19:13:36.944Z"
   },
   {
    "duration": 2,
    "start_time": "2024-11-21T19:13:45.638Z"
   },
   {
    "duration": 9,
    "start_time": "2024-11-21T19:13:49.722Z"
   },
   {
    "duration": 9,
    "start_time": "2024-11-21T19:38:57.233Z"
   },
   {
    "duration": 10,
    "start_time": "2024-11-21T19:39:10.314Z"
   },
   {
    "duration": 9,
    "start_time": "2024-11-21T19:39:15.729Z"
   },
   {
    "duration": 8,
    "start_time": "2024-11-21T19:39:17.459Z"
   },
   {
    "duration": 9,
    "start_time": "2024-11-21T19:39:19.535Z"
   },
   {
    "duration": 3,
    "start_time": "2024-11-21T19:39:21.829Z"
   },
   {
    "duration": 10,
    "start_time": "2024-11-21T19:39:22.136Z"
   },
   {
    "duration": 4,
    "start_time": "2024-11-21T19:39:39.392Z"
   },
   {
    "duration": 9,
    "start_time": "2024-11-21T19:39:40.268Z"
   },
   {
    "duration": 9,
    "start_time": "2024-11-21T19:39:50.343Z"
   },
   {
    "duration": 2,
    "start_time": "2024-11-21T19:39:58.343Z"
   },
   {
    "duration": 186,
    "start_time": "2024-11-21T19:39:59.303Z"
   },
   {
    "duration": 9,
    "start_time": "2024-11-21T19:40:00.832Z"
   },
   {
    "duration": 9,
    "start_time": "2024-11-21T19:40:01.133Z"
   },
   {
    "duration": 2,
    "start_time": "2024-11-21T19:40:05.884Z"
   },
   {
    "duration": 7,
    "start_time": "2024-11-21T19:40:06.476Z"
   },
   {
    "duration": 9,
    "start_time": "2024-11-21T19:40:11.698Z"
   },
   {
    "duration": 11,
    "start_time": "2024-11-21T19:40:15.281Z"
   },
   {
    "duration": 3,
    "start_time": "2024-11-21T19:40:25.695Z"
   },
   {
    "duration": 3,
    "start_time": "2024-11-21T19:41:04.226Z"
   },
   {
    "duration": 8,
    "start_time": "2024-11-21T19:41:04.809Z"
   },
   {
    "duration": 3,
    "start_time": "2024-11-21T19:42:14.262Z"
   },
   {
    "duration": 8,
    "start_time": "2024-11-21T19:42:14.886Z"
   },
   {
    "duration": 2420,
    "start_time": "2024-11-22T18:18:46.838Z"
   },
   {
    "duration": 210,
    "start_time": "2024-11-22T18:18:49.260Z"
   },
   {
    "duration": 11,
    "start_time": "2024-11-22T18:19:08.821Z"
   },
   {
    "duration": 10,
    "start_time": "2024-11-22T18:19:09.832Z"
   },
   {
    "duration": 3,
    "start_time": "2024-11-22T18:20:57.368Z"
   },
   {
    "duration": 8,
    "start_time": "2024-11-22T18:20:57.659Z"
   },
   {
    "duration": 8,
    "start_time": "2024-11-22T18:22:51.903Z"
   },
   {
    "duration": 8,
    "start_time": "2024-11-22T18:22:52.254Z"
   },
   {
    "duration": 3,
    "start_time": "2024-11-22T18:22:54.683Z"
   },
   {
    "duration": 10,
    "start_time": "2024-11-22T18:22:55.025Z"
   },
   {
    "duration": 5,
    "start_time": "2024-11-22T18:22:56.163Z"
   },
   {
    "duration": 5,
    "start_time": "2024-11-22T18:22:56.400Z"
   },
   {
    "duration": 10,
    "start_time": "2024-11-22T18:22:56.620Z"
   },
   {
    "duration": 3,
    "start_time": "2024-11-22T18:24:25.018Z"
   },
   {
    "duration": 11,
    "start_time": "2024-11-22T18:24:25.610Z"
   },
   {
    "duration": 4,
    "start_time": "2024-11-22T18:24:27.582Z"
   },
   {
    "duration": 5,
    "start_time": "2024-11-22T18:24:28.124Z"
   },
   {
    "duration": 10,
    "start_time": "2024-11-22T18:24:28.418Z"
   },
   {
    "duration": 16,
    "start_time": "2024-11-22T18:31:45.514Z"
   },
   {
    "duration": 3,
    "start_time": "2024-11-22T18:33:19.503Z"
   },
   {
    "duration": 2,
    "start_time": "2024-11-22T18:33:19.708Z"
   },
   {
    "duration": 19,
    "start_time": "2024-11-22T18:34:44.559Z"
   },
   {
    "duration": 7,
    "start_time": "2024-11-22T18:34:44.993Z"
   },
   {
    "duration": 7,
    "start_time": "2024-11-22T18:35:54.978Z"
   },
   {
    "duration": 20,
    "start_time": "2024-11-22T18:36:11.705Z"
   },
   {
    "duration": 46,
    "start_time": "2024-11-22T18:36:34.383Z"
   },
   {
    "duration": 22,
    "start_time": "2024-11-22T18:36:42.454Z"
   },
   {
    "duration": 17,
    "start_time": "2024-11-22T18:37:39.802Z"
   },
   {
    "duration": 32,
    "start_time": "2024-11-22T18:37:40.106Z"
   },
   {
    "duration": 30,
    "start_time": "2024-11-22T18:37:40.842Z"
   },
   {
    "duration": 23,
    "start_time": "2024-11-22T18:37:41.640Z"
   },
   {
    "duration": 13,
    "start_time": "2024-11-22T18:37:43.109Z"
   },
   {
    "duration": 11,
    "start_time": "2024-11-22T18:38:01.336Z"
   },
   {
    "duration": 23,
    "start_time": "2024-11-22T18:38:11.391Z"
   },
   {
    "duration": 12,
    "start_time": "2024-11-22T18:38:50.880Z"
   },
   {
    "duration": 5,
    "start_time": "2024-11-22T18:39:00.569Z"
   },
   {
    "duration": 6,
    "start_time": "2024-11-22T18:39:53.262Z"
   },
   {
    "duration": 18,
    "start_time": "2024-11-22T18:40:14.204Z"
   },
   {
    "duration": 26,
    "start_time": "2024-11-22T18:40:57.258Z"
   },
   {
    "duration": 22,
    "start_time": "2024-11-22T18:41:15.687Z"
   },
   {
    "duration": 25,
    "start_time": "2024-11-22T18:41:43.784Z"
   },
   {
    "duration": 14,
    "start_time": "2024-11-22T18:41:44.375Z"
   },
   {
    "duration": 22,
    "start_time": "2024-11-22T18:42:47.959Z"
   },
   {
    "duration": 23,
    "start_time": "2024-11-22T18:43:32.412Z"
   },
   {
    "duration": 34,
    "start_time": "2024-11-22T18:43:52.111Z"
   },
   {
    "duration": 23,
    "start_time": "2024-11-22T18:43:59.642Z"
   },
   {
    "duration": 15,
    "start_time": "2024-11-22T18:44:35.756Z"
   },
   {
    "duration": 7,
    "start_time": "2024-11-22T18:44:45.931Z"
   },
   {
    "duration": 7,
    "start_time": "2024-11-22T18:44:49.051Z"
   },
   {
    "duration": 2,
    "start_time": "2024-11-22T18:46:32.085Z"
   },
   {
    "duration": 20,
    "start_time": "2024-11-22T18:47:16.089Z"
   },
   {
    "duration": 32,
    "start_time": "2024-11-22T18:47:17.030Z"
   },
   {
    "duration": 21,
    "start_time": "2024-11-22T18:47:17.774Z"
   },
   {
    "duration": 8,
    "start_time": "2024-11-22T18:47:18.724Z"
   },
   {
    "duration": 7,
    "start_time": "2024-11-22T18:47:19.865Z"
   },
   {
    "duration": 13,
    "start_time": "2024-11-22T18:47:36.098Z"
   },
   {
    "duration": 3,
    "start_time": "2024-11-22T18:47:52.127Z"
   },
   {
    "duration": 4,
    "start_time": "2024-11-22T18:48:07.085Z"
   },
   {
    "duration": 492,
    "start_time": "2024-11-22T18:48:07.531Z"
   },
   {
    "duration": 8,
    "start_time": "2024-11-22T18:48:19.449Z"
   },
   {
    "duration": 4,
    "start_time": "2024-11-22T18:48:20.278Z"
   },
   {
    "duration": 30,
    "start_time": "2024-11-22T18:48:21.262Z"
   },
   {
    "duration": 3,
    "start_time": "2024-11-22T18:52:30.591Z"
   },
   {
    "duration": 161,
    "start_time": "2024-11-22T18:52:31.712Z"
   },
   {
    "duration": 9,
    "start_time": "2024-11-22T18:52:32.369Z"
   },
   {
    "duration": 9,
    "start_time": "2024-11-22T18:52:32.584Z"
   },
   {
    "duration": 3,
    "start_time": "2024-11-22T18:52:34.192Z"
   },
   {
    "duration": 8,
    "start_time": "2024-11-22T18:52:34.404Z"
   },
   {
    "duration": 11,
    "start_time": "2024-11-22T18:52:36.327Z"
   },
   {
    "duration": 10,
    "start_time": "2024-11-22T18:52:37.193Z"
   },
   {
    "duration": 3,
    "start_time": "2024-11-22T18:52:49.572Z"
   },
   {
    "duration": 7,
    "start_time": "2024-11-22T18:52:49.750Z"
   },
   {
    "duration": 5,
    "start_time": "2024-11-22T18:52:50.376Z"
   },
   {
    "duration": 5,
    "start_time": "2024-11-22T18:52:50.590Z"
   },
   {
    "duration": 17,
    "start_time": "2024-11-22T18:52:50.812Z"
   },
   {
    "duration": 20,
    "start_time": "2024-11-22T18:52:52.628Z"
   },
   {
    "duration": 9,
    "start_time": "2024-11-22T18:52:52.815Z"
   },
   {
    "duration": 7,
    "start_time": "2024-11-22T18:52:53.961Z"
   },
   {
    "duration": 16,
    "start_time": "2024-11-22T18:52:54.597Z"
   },
   {
    "duration": 30,
    "start_time": "2024-11-22T18:52:54.768Z"
   },
   {
    "duration": 30,
    "start_time": "2024-11-22T18:52:55.085Z"
   },
   {
    "duration": 22,
    "start_time": "2024-11-22T18:52:55.257Z"
   },
   {
    "duration": 12,
    "start_time": "2024-11-22T18:52:55.444Z"
   },
   {
    "duration": 7,
    "start_time": "2024-11-22T18:52:55.594Z"
   },
   {
    "duration": 20,
    "start_time": "2024-11-22T18:52:55.777Z"
   },
   {
    "duration": 13,
    "start_time": "2024-11-22T18:52:56.269Z"
   },
   {
    "duration": 7,
    "start_time": "2024-11-22T18:52:56.435Z"
   },
   {
    "duration": 9,
    "start_time": "2024-11-22T18:52:57.510Z"
   },
   {
    "duration": 34,
    "start_time": "2024-11-22T18:52:58.062Z"
   },
   {
    "duration": 14,
    "start_time": "2024-11-22T18:52:58.270Z"
   },
   {
    "duration": 14,
    "start_time": "2024-11-22T18:52:58.670Z"
   },
   {
    "duration": 8,
    "start_time": "2024-11-22T18:52:58.894Z"
   },
   {
    "duration": 11,
    "start_time": "2024-11-22T18:52:59.912Z"
   },
   {
    "duration": 29,
    "start_time": "2024-11-22T18:53:02.754Z"
   },
   {
    "duration": 33,
    "start_time": "2024-11-22T18:53:03.234Z"
   },
   {
    "duration": 20,
    "start_time": "2024-11-22T18:53:03.803Z"
   },
   {
    "duration": 8,
    "start_time": "2024-11-22T18:53:04.069Z"
   },
   {
    "duration": 8,
    "start_time": "2024-11-22T18:53:04.292Z"
   },
   {
    "duration": 8,
    "start_time": "2024-11-22T18:53:06.639Z"
   },
   {
    "duration": 5,
    "start_time": "2024-11-22T18:53:07.379Z"
   },
   {
    "duration": 39,
    "start_time": "2024-11-22T18:53:08.258Z"
   },
   {
    "duration": 9,
    "start_time": "2024-11-22T18:53:09.903Z"
   },
   {
    "duration": 770,
    "start_time": "2024-11-22T19:23:07.515Z"
   },
   {
    "duration": 169,
    "start_time": "2024-11-22T19:23:08.287Z"
   },
   {
    "duration": 10,
    "start_time": "2024-11-22T19:23:08.458Z"
   },
   {
    "duration": 9,
    "start_time": "2024-11-22T19:23:08.471Z"
   },
   {
    "duration": 3,
    "start_time": "2024-11-22T19:23:08.481Z"
   },
   {
    "duration": 7,
    "start_time": "2024-11-22T19:23:08.486Z"
   },
   {
    "duration": 8,
    "start_time": "2024-11-22T19:23:08.495Z"
   },
   {
    "duration": 8,
    "start_time": "2024-11-22T19:23:08.504Z"
   },
   {
    "duration": 3,
    "start_time": "2024-11-22T19:23:08.513Z"
   },
   {
    "duration": 8,
    "start_time": "2024-11-22T19:23:08.519Z"
   },
   {
    "duration": 43,
    "start_time": "2024-11-22T19:23:08.528Z"
   },
   {
    "duration": 4,
    "start_time": "2024-11-22T19:23:08.573Z"
   },
   {
    "duration": 15,
    "start_time": "2024-11-22T19:23:08.580Z"
   },
   {
    "duration": 15,
    "start_time": "2024-11-22T19:23:08.598Z"
   },
   {
    "duration": 6,
    "start_time": "2024-11-22T19:23:08.615Z"
   },
   {
    "duration": 7,
    "start_time": "2024-11-22T19:23:08.622Z"
   },
   {
    "duration": 51,
    "start_time": "2024-11-22T19:23:08.630Z"
   },
   {
    "duration": 32,
    "start_time": "2024-11-22T19:23:08.683Z"
   },
   {
    "duration": 21,
    "start_time": "2024-11-22T19:23:08.717Z"
   },
   {
    "duration": 39,
    "start_time": "2024-11-22T19:23:08.740Z"
   },
   {
    "duration": 12,
    "start_time": "2024-11-22T19:23:08.781Z"
   },
   {
    "duration": 7,
    "start_time": "2024-11-22T19:23:08.794Z"
   },
   {
    "duration": 21,
    "start_time": "2024-11-22T19:23:08.803Z"
   },
   {
    "duration": 11,
    "start_time": "2024-11-22T19:23:08.826Z"
   },
   {
    "duration": 35,
    "start_time": "2024-11-22T19:23:08.840Z"
   },
   {
    "duration": 6,
    "start_time": "2024-11-22T19:23:08.876Z"
   },
   {
    "duration": 24,
    "start_time": "2024-11-22T19:23:08.883Z"
   },
   {
    "duration": 13,
    "start_time": "2024-11-22T19:23:08.912Z"
   },
   {
    "duration": 15,
    "start_time": "2024-11-22T19:23:08.927Z"
   },
   {
    "duration": 6,
    "start_time": "2024-11-22T19:23:08.971Z"
   },
   {
    "duration": 10,
    "start_time": "2024-11-22T19:23:08.979Z"
   },
   {
    "duration": 20,
    "start_time": "2024-11-22T19:23:08.991Z"
   },
   {
    "duration": 59,
    "start_time": "2024-11-22T19:23:09.012Z"
   },
   {
    "duration": 18,
    "start_time": "2024-11-22T19:23:09.072Z"
   },
   {
    "duration": 7,
    "start_time": "2024-11-22T19:23:09.092Z"
   },
   {
    "duration": 6,
    "start_time": "2024-11-22T19:23:09.101Z"
   },
   {
    "duration": 7,
    "start_time": "2024-11-22T19:23:09.109Z"
   },
   {
    "duration": 3,
    "start_time": "2024-11-22T19:23:09.117Z"
   },
   {
    "duration": 70,
    "start_time": "2024-11-22T19:23:09.122Z"
   },
   {
    "duration": 7,
    "start_time": "2024-11-22T19:23:09.194Z"
   },
   {
    "duration": 2,
    "start_time": "2024-11-22T19:23:09.203Z"
   },
   {
    "duration": 2,
    "start_time": "2024-11-22T19:23:09.207Z"
   },
   {
    "duration": 2,
    "start_time": "2024-11-22T19:23:09.211Z"
   },
   {
    "duration": 2,
    "start_time": "2024-11-22T19:23:09.215Z"
   },
   {
    "duration": 2,
    "start_time": "2024-11-22T19:23:09.219Z"
   },
   {
    "duration": 2,
    "start_time": "2024-11-22T19:23:09.223Z"
   },
   {
    "duration": 3,
    "start_time": "2024-11-22T19:23:09.226Z"
   },
   {
    "duration": 3,
    "start_time": "2024-11-22T19:23:09.230Z"
   },
   {
    "duration": 2,
    "start_time": "2024-11-22T19:23:09.271Z"
   },
   {
    "duration": 2,
    "start_time": "2024-11-22T19:23:09.275Z"
   },
   {
    "duration": 3,
    "start_time": "2024-11-22T19:23:09.279Z"
   },
   {
    "duration": 3,
    "start_time": "2024-11-22T19:23:09.283Z"
   },
   {
    "duration": 3,
    "start_time": "2024-11-22T19:23:09.287Z"
   },
   {
    "duration": 4,
    "start_time": "2024-11-22T19:23:09.292Z"
   },
   {
    "duration": 2,
    "start_time": "2024-11-22T19:23:09.297Z"
   },
   {
    "duration": 19,
    "start_time": "2024-11-22T19:23:16.995Z"
   },
   {
    "duration": 33,
    "start_time": "2024-11-22T19:23:18.124Z"
   },
   {
    "duration": 19,
    "start_time": "2024-11-22T19:23:18.899Z"
   },
   {
    "duration": 7,
    "start_time": "2024-11-22T19:23:19.954Z"
   },
   {
    "duration": 8,
    "start_time": "2024-11-22T19:23:22.279Z"
   },
   {
    "duration": 11,
    "start_time": "2024-11-22T19:23:24.380Z"
   },
   {
    "duration": 3,
    "start_time": "2024-11-22T19:23:25.071Z"
   },
   {
    "duration": 38,
    "start_time": "2024-11-22T19:23:28.915Z"
   },
   {
    "duration": 8,
    "start_time": "2024-11-22T19:23:29.499Z"
   },
   {
    "duration": 7,
    "start_time": "2024-11-22T19:26:26.881Z"
   },
   {
    "duration": 3,
    "start_time": "2024-11-22T19:26:27.503Z"
   },
   {
    "duration": 39,
    "start_time": "2024-11-22T19:26:27.922Z"
   },
   {
    "duration": 7,
    "start_time": "2024-11-22T19:26:28.195Z"
   },
   {
    "duration": 33,
    "start_time": "2024-11-22T19:29:48.454Z"
   },
   {
    "duration": 30,
    "start_time": "2024-11-22T19:31:12.888Z"
   },
   {
    "duration": 7,
    "start_time": "2024-11-22T19:31:32.569Z"
   },
   {
    "duration": 7,
    "start_time": "2024-11-22T19:31:55.469Z"
   },
   {
    "duration": 10,
    "start_time": "2024-11-22T19:32:40.015Z"
   },
   {
    "duration": 17,
    "start_time": "2024-11-22T19:37:00.433Z"
   },
   {
    "duration": 9,
    "start_time": "2024-11-22T19:37:22.778Z"
   },
   {
    "duration": 11,
    "start_time": "2024-11-22T19:41:16.163Z"
   },
   {
    "duration": 12,
    "start_time": "2024-11-22T19:41:16.861Z"
   },
   {
    "duration": 18,
    "start_time": "2024-11-22T19:42:10.348Z"
   },
   {
    "duration": 12,
    "start_time": "2024-11-22T19:42:19.001Z"
   },
   {
    "duration": 7,
    "start_time": "2024-11-22T19:43:20.063Z"
   },
   {
    "duration": 18,
    "start_time": "2024-11-22T19:44:10.115Z"
   },
   {
    "duration": 9,
    "start_time": "2024-11-22T19:44:11.946Z"
   },
   {
    "duration": 5,
    "start_time": "2024-11-22T19:45:51.388Z"
   },
   {
    "duration": 6,
    "start_time": "2024-11-22T19:46:32.370Z"
   },
   {
    "duration": 14,
    "start_time": "2024-11-22T19:46:34.451Z"
   },
   {
    "duration": 10,
    "start_time": "2024-11-22T19:46:35.998Z"
   },
   {
    "duration": 3,
    "start_time": "2024-11-22T19:47:07.540Z"
   },
   {
    "duration": 151,
    "start_time": "2024-11-22T19:47:08.849Z"
   },
   {
    "duration": 7,
    "start_time": "2024-11-22T19:47:10.075Z"
   },
   {
    "duration": 8,
    "start_time": "2024-11-22T19:47:10.341Z"
   },
   {
    "duration": 3,
    "start_time": "2024-11-22T19:47:12.546Z"
   },
   {
    "duration": 7,
    "start_time": "2024-11-22T19:47:13.090Z"
   },
   {
    "duration": 8,
    "start_time": "2024-11-22T19:47:15.083Z"
   },
   {
    "duration": 8,
    "start_time": "2024-11-22T19:47:15.477Z"
   },
   {
    "duration": 3,
    "start_time": "2024-11-22T19:47:16.558Z"
   },
   {
    "duration": 8,
    "start_time": "2024-11-22T19:47:16.776Z"
   },
   {
    "duration": 4,
    "start_time": "2024-11-22T19:47:17.429Z"
   },
   {
    "duration": 5,
    "start_time": "2024-11-22T19:47:17.638Z"
   },
   {
    "duration": 15,
    "start_time": "2024-11-22T19:47:17.827Z"
   },
   {
    "duration": 16,
    "start_time": "2024-11-22T19:47:18.402Z"
   },
   {
    "duration": 6,
    "start_time": "2024-11-22T19:47:18.547Z"
   },
   {
    "duration": 7,
    "start_time": "2024-11-22T19:47:19.238Z"
   },
   {
    "duration": 15,
    "start_time": "2024-11-22T19:47:19.681Z"
   },
   {
    "duration": 26,
    "start_time": "2024-11-22T19:47:19.832Z"
   },
   {
    "duration": 18,
    "start_time": "2024-11-22T19:47:19.991Z"
   },
   {
    "duration": 23,
    "start_time": "2024-11-22T19:47:20.275Z"
   },
   {
    "duration": 12,
    "start_time": "2024-11-22T19:47:20.442Z"
   },
   {
    "duration": 8,
    "start_time": "2024-11-22T19:47:20.603Z"
   },
   {
    "duration": 20,
    "start_time": "2024-11-22T19:47:20.762Z"
   },
   {
    "duration": 13,
    "start_time": "2024-11-22T19:47:21.208Z"
   },
   {
    "duration": 6,
    "start_time": "2024-11-22T19:47:22.957Z"
   },
   {
    "duration": 7,
    "start_time": "2024-11-22T19:47:30.059Z"
   },
   {
    "duration": 23,
    "start_time": "2024-11-22T19:47:32.175Z"
   },
   {
    "duration": 12,
    "start_time": "2024-11-22T19:47:32.472Z"
   },
   {
    "duration": 15,
    "start_time": "2024-11-22T19:47:33.207Z"
   },
   {
    "duration": 8,
    "start_time": "2024-11-22T19:47:33.439Z"
   },
   {
    "duration": 10,
    "start_time": "2024-11-22T19:47:34.518Z"
   },
   {
    "duration": 22,
    "start_time": "2024-11-22T19:47:35.264Z"
   },
   {
    "duration": 31,
    "start_time": "2024-11-22T19:47:35.735Z"
   },
   {
    "duration": 18,
    "start_time": "2024-11-22T19:47:35.982Z"
   },
   {
    "duration": 7,
    "start_time": "2024-11-22T19:47:36.293Z"
   },
   {
    "duration": 7,
    "start_time": "2024-11-22T19:47:36.515Z"
   },
   {
    "duration": 7,
    "start_time": "2024-11-22T19:47:38.721Z"
   },
   {
    "duration": 2,
    "start_time": "2024-11-22T19:47:39.825Z"
   },
   {
    "duration": 36,
    "start_time": "2024-11-22T19:47:40.041Z"
   },
   {
    "duration": 7,
    "start_time": "2024-11-22T19:47:41.222Z"
   },
   {
    "duration": 31,
    "start_time": "2024-11-22T19:47:41.952Z"
   },
   {
    "duration": 6,
    "start_time": "2024-11-22T19:47:42.874Z"
   },
   {
    "duration": 11,
    "start_time": "2024-11-22T19:47:43.395Z"
   },
   {
    "duration": 17,
    "start_time": "2024-11-22T19:47:43.659Z"
   },
   {
    "duration": 9,
    "start_time": "2024-11-22T19:47:43.912Z"
   },
   {
    "duration": 9,
    "start_time": "2024-11-22T19:47:44.200Z"
   },
   {
    "duration": 6,
    "start_time": "2024-11-22T19:47:44.616Z"
   },
   {
    "duration": 11,
    "start_time": "2024-11-22T19:47:47.106Z"
   },
   {
    "duration": 10,
    "start_time": "2024-11-22T19:47:48.268Z"
   },
   {
    "duration": 7,
    "start_time": "2024-11-22T19:48:12.067Z"
   },
   {
    "duration": 14,
    "start_time": "2024-11-22T19:48:13.455Z"
   },
   {
    "duration": 11,
    "start_time": "2024-11-22T19:48:14.106Z"
   },
   {
    "duration": 6,
    "start_time": "2024-11-22T19:49:10.356Z"
   },
   {
    "duration": 8,
    "start_time": "2024-11-22T19:52:12.080Z"
   },
   {
    "duration": 13,
    "start_time": "2024-11-22T19:52:21.263Z"
   },
   {
    "duration": 10,
    "start_time": "2024-11-22T19:52:22.110Z"
   },
   {
    "duration": 575,
    "start_time": "2024-11-22T19:53:46.608Z"
   },
   {
    "duration": 14,
    "start_time": "2024-11-22T19:53:50.427Z"
   },
   {
    "duration": 3,
    "start_time": "2024-11-22T19:53:51.176Z"
   },
   {
    "duration": 9,
    "start_time": "2024-11-22T19:53:54.058Z"
   },
   {
    "duration": 19,
    "start_time": "2024-11-22T19:54:15.584Z"
   },
   {
    "duration": 14,
    "start_time": "2024-11-22T19:54:33.728Z"
   },
   {
    "duration": 9,
    "start_time": "2024-11-22T19:54:40.960Z"
   },
   {
    "duration": 3,
    "start_time": "2024-11-22T19:56:55.345Z"
   },
   {
    "duration": 4,
    "start_time": "2024-11-22T19:56:55.904Z"
   },
   {
    "duration": 10,
    "start_time": "2024-11-22T19:56:56.398Z"
   },
   {
    "duration": 5,
    "start_time": "2024-11-22T19:57:48.774Z"
   },
   {
    "duration": 3,
    "start_time": "2024-11-22T19:59:15.846Z"
   },
   {
    "duration": 7,
    "start_time": "2024-11-22T19:59:16.349Z"
   },
   {
    "duration": 11,
    "start_time": "2024-11-22T19:59:17.032Z"
   },
   {
    "duration": 161,
    "start_time": "2024-11-23T00:18:41.658Z"
   },
   {
    "duration": 12,
    "start_time": "2024-11-23T00:18:42.649Z"
   },
   {
    "duration": 2506,
    "start_time": "2024-11-23T00:19:18.901Z"
   },
   {
    "duration": 223,
    "start_time": "2024-11-23T00:19:21.409Z"
   },
   {
    "duration": 12,
    "start_time": "2024-11-23T00:19:21.634Z"
   },
   {
    "duration": 9,
    "start_time": "2024-11-23T00:19:21.648Z"
   },
   {
    "duration": 3,
    "start_time": "2024-11-23T00:19:21.658Z"
   },
   {
    "duration": 8,
    "start_time": "2024-11-23T00:19:21.663Z"
   },
   {
    "duration": 9,
    "start_time": "2024-11-23T00:19:21.672Z"
   },
   {
    "duration": 29,
    "start_time": "2024-11-23T00:19:21.682Z"
   },
   {
    "duration": 3,
    "start_time": "2024-11-23T00:19:21.712Z"
   },
   {
    "duration": 9,
    "start_time": "2024-11-23T00:19:21.718Z"
   },
   {
    "duration": 4,
    "start_time": "2024-11-23T00:19:21.729Z"
   },
   {
    "duration": 5,
    "start_time": "2024-11-23T00:19:21.735Z"
   },
   {
    "duration": 16,
    "start_time": "2024-11-23T00:19:21.741Z"
   },
   {
    "duration": 52,
    "start_time": "2024-11-23T00:19:21.758Z"
   },
   {
    "duration": 7,
    "start_time": "2024-11-23T00:19:21.812Z"
   },
   {
    "duration": 8,
    "start_time": "2024-11-23T00:19:21.820Z"
   },
   {
    "duration": 13,
    "start_time": "2024-11-23T00:19:21.829Z"
   },
   {
    "duration": 33,
    "start_time": "2024-11-23T00:19:21.843Z"
   },
   {
    "duration": 23,
    "start_time": "2024-11-23T00:19:21.909Z"
   },
   {
    "duration": 23,
    "start_time": "2024-11-23T00:19:21.934Z"
   },
   {
    "duration": 14,
    "start_time": "2024-11-23T00:19:21.959Z"
   },
   {
    "duration": 7,
    "start_time": "2024-11-23T00:19:21.975Z"
   },
   {
    "duration": 49,
    "start_time": "2024-11-23T00:19:21.983Z"
   },
   {
    "duration": 12,
    "start_time": "2024-11-23T00:19:22.034Z"
   },
   {
    "duration": 6,
    "start_time": "2024-11-23T00:19:22.048Z"
   },
   {
    "duration": 7,
    "start_time": "2024-11-23T00:19:22.055Z"
   },
   {
    "duration": 54,
    "start_time": "2024-11-23T00:19:22.064Z"
   },
   {
    "duration": 16,
    "start_time": "2024-11-23T00:19:22.124Z"
   },
   {
    "duration": 16,
    "start_time": "2024-11-23T00:19:22.141Z"
   },
   {
    "duration": 7,
    "start_time": "2024-11-23T00:19:22.158Z"
   },
   {
    "duration": 11,
    "start_time": "2024-11-23T00:19:22.167Z"
   },
   {
    "duration": 23,
    "start_time": "2024-11-23T00:19:22.210Z"
   },
   {
    "duration": 36,
    "start_time": "2024-11-23T00:19:22.236Z"
   },
   {
    "duration": 40,
    "start_time": "2024-11-23T00:19:22.273Z"
   },
   {
    "duration": 9,
    "start_time": "2024-11-23T00:19:22.315Z"
   },
   {
    "duration": 7,
    "start_time": "2024-11-23T00:19:22.326Z"
   },
   {
    "duration": 9,
    "start_time": "2024-11-23T00:19:22.335Z"
   },
   {
    "duration": 3,
    "start_time": "2024-11-23T00:19:22.345Z"
   },
   {
    "duration": 68,
    "start_time": "2024-11-23T00:19:22.349Z"
   },
   {
    "duration": 7,
    "start_time": "2024-11-23T00:19:22.419Z"
   },
   {
    "duration": 36,
    "start_time": "2024-11-23T00:19:22.428Z"
   },
   {
    "duration": 8,
    "start_time": "2024-11-23T00:19:22.466Z"
   },
   {
    "duration": 33,
    "start_time": "2024-11-23T00:19:22.476Z"
   },
   {
    "duration": 17,
    "start_time": "2024-11-23T00:19:22.511Z"
   },
   {
    "duration": 10,
    "start_time": "2024-11-23T00:19:22.530Z"
   },
   {
    "duration": 7,
    "start_time": "2024-11-23T00:19:22.541Z"
   },
   {
    "duration": 19,
    "start_time": "2024-11-23T00:19:22.550Z"
   },
   {
    "duration": 39,
    "start_time": "2024-11-23T00:19:22.571Z"
   },
   {
    "duration": 10,
    "start_time": "2024-11-23T00:19:22.611Z"
   },
   {
    "duration": 4,
    "start_time": "2024-11-23T00:19:22.623Z"
   },
   {
    "duration": 4,
    "start_time": "2024-11-23T00:19:22.628Z"
   },
   {
    "duration": 9,
    "start_time": "2024-11-23T00:19:22.634Z"
   },
   {
    "duration": 6,
    "start_time": "2024-11-23T00:19:22.644Z"
   },
   {
    "duration": 5,
    "start_time": "2024-11-23T00:19:22.652Z"
   },
   {
    "duration": 3,
    "start_time": "2024-11-23T00:19:22.659Z"
   },
   {
    "duration": 46,
    "start_time": "2024-11-23T00:19:22.663Z"
   },
   {
    "duration": 2,
    "start_time": "2024-11-23T00:19:22.711Z"
   },
   {
    "duration": 3,
    "start_time": "2024-11-23T00:19:22.715Z"
   },
   {
    "duration": 4,
    "start_time": "2024-11-23T00:19:22.720Z"
   },
   {
    "duration": 3,
    "start_time": "2024-11-23T00:19:22.725Z"
   },
   {
    "duration": 2,
    "start_time": "2024-11-23T00:19:22.731Z"
   },
   {
    "duration": 3,
    "start_time": "2024-11-23T00:19:22.735Z"
   },
   {
    "duration": 3,
    "start_time": "2024-11-23T00:19:22.740Z"
   },
   {
    "duration": 3,
    "start_time": "2024-11-23T00:19:22.745Z"
   },
   {
    "duration": 3,
    "start_time": "2024-11-23T00:19:22.749Z"
   },
   {
    "duration": 15,
    "start_time": "2024-11-23T00:59:40.233Z"
   },
   {
    "duration": 16,
    "start_time": "2024-11-23T01:00:59.405Z"
   },
   {
    "duration": 9,
    "start_time": "2024-11-23T01:03:09.697Z"
   },
   {
    "duration": 18,
    "start_time": "2024-11-23T01:04:19.435Z"
   },
   {
    "duration": 4,
    "start_time": "2024-11-23T01:16:52.992Z"
   },
   {
    "duration": 630,
    "start_time": "2024-11-23T01:16:53.517Z"
   },
   {
    "duration": 6,
    "start_time": "2024-11-23T01:17:21.325Z"
   },
   {
    "duration": 3,
    "start_time": "2024-11-23T01:17:23.869Z"
   },
   {
    "duration": 2,
    "start_time": "2024-11-23T01:17:24.787Z"
   },
   {
    "duration": 3,
    "start_time": "2024-11-23T01:17:26.843Z"
   },
   {
    "duration": 32,
    "start_time": "2024-11-23T01:17:27.237Z"
   },
   {
    "duration": 7,
    "start_time": "2024-11-23T01:20:08.757Z"
   },
   {
    "duration": 4,
    "start_time": "2024-11-23T01:24:22.024Z"
   },
   {
    "duration": 35,
    "start_time": "2024-11-23T01:24:22.378Z"
   },
   {
    "duration": 6,
    "start_time": "2024-11-23T01:28:01.501Z"
   },
   {
    "duration": 17,
    "start_time": "2024-11-23T01:28:04.148Z"
   },
   {
    "duration": 3,
    "start_time": "2024-11-23T01:30:58.635Z"
   },
   {
    "duration": 30,
    "start_time": "2024-11-23T01:30:59.401Z"
   },
   {
    "duration": 25,
    "start_time": "2024-11-23T01:31:00.102Z"
   },
   {
    "duration": 7,
    "start_time": "2024-11-23T01:31:27.454Z"
   },
   {
    "duration": 15,
    "start_time": "2024-11-23T01:32:32.282Z"
   },
   {
    "duration": 3,
    "start_time": "2024-11-23T01:32:59.985Z"
   },
   {
    "duration": 28,
    "start_time": "2024-11-23T01:33:00.484Z"
   },
   {
    "duration": 12,
    "start_time": "2024-11-23T01:33:01.182Z"
   },
   {
    "duration": 7,
    "start_time": "2024-11-23T01:35:57.318Z"
   },
   {
    "duration": 157,
    "start_time": "2024-11-26T18:20:13.297Z"
   },
   {
    "duration": 2405,
    "start_time": "2024-11-26T18:20:26.423Z"
   },
   {
    "duration": 204,
    "start_time": "2024-11-26T18:20:28.830Z"
   },
   {
    "duration": 9,
    "start_time": "2024-11-26T18:20:29.038Z"
   },
   {
    "duration": 8,
    "start_time": "2024-11-26T18:20:29.049Z"
   },
   {
    "duration": 3,
    "start_time": "2024-11-26T18:20:32.188Z"
   },
   {
    "duration": 7,
    "start_time": "2024-11-26T18:20:32.417Z"
   },
   {
    "duration": 7,
    "start_time": "2024-11-26T18:20:34.641Z"
   },
   {
    "duration": 9,
    "start_time": "2024-11-26T18:20:35.690Z"
   },
   {
    "duration": 4,
    "start_time": "2024-11-26T18:20:37.470Z"
   },
   {
    "duration": 8,
    "start_time": "2024-11-26T18:20:37.719Z"
   },
   {
    "duration": 5,
    "start_time": "2024-11-26T18:20:38.974Z"
   },
   {
    "duration": 5,
    "start_time": "2024-11-26T18:20:39.199Z"
   },
   {
    "duration": 17,
    "start_time": "2024-11-26T18:20:39.456Z"
   },
   {
    "duration": 15,
    "start_time": "2024-11-26T18:20:40.756Z"
   },
   {
    "duration": 7,
    "start_time": "2024-11-26T18:20:41.022Z"
   },
   {
    "duration": 7,
    "start_time": "2024-11-26T18:20:42.220Z"
   },
   {
    "duration": 12,
    "start_time": "2024-11-26T18:20:42.819Z"
   },
   {
    "duration": 32,
    "start_time": "2024-11-26T18:20:43.007Z"
   },
   {
    "duration": 33,
    "start_time": "2024-11-26T18:20:43.175Z"
   },
   {
    "duration": 23,
    "start_time": "2024-11-26T18:20:43.331Z"
   },
   {
    "duration": 15,
    "start_time": "2024-11-26T18:20:43.659Z"
   },
   {
    "duration": 8,
    "start_time": "2024-11-26T18:20:43.815Z"
   },
   {
    "duration": 22,
    "start_time": "2024-11-26T18:20:43.989Z"
   },
   {
    "duration": 11,
    "start_time": "2024-11-26T18:20:44.368Z"
   },
   {
    "duration": 6,
    "start_time": "2024-11-26T18:20:44.574Z"
   },
   {
    "duration": 6,
    "start_time": "2024-11-26T18:20:45.853Z"
   },
   {
    "duration": 25,
    "start_time": "2024-11-26T18:20:46.745Z"
   },
   {
    "duration": 15,
    "start_time": "2024-11-26T18:20:46.894Z"
   },
   {
    "duration": 14,
    "start_time": "2024-11-26T18:20:47.273Z"
   },
   {
    "duration": 7,
    "start_time": "2024-11-26T18:20:47.481Z"
   },
   {
    "duration": 10,
    "start_time": "2024-11-26T18:20:48.596Z"
   },
   {
    "duration": 22,
    "start_time": "2024-11-26T18:20:49.156Z"
   },
   {
    "duration": 32,
    "start_time": "2024-11-26T18:20:49.340Z"
   },
   {
    "duration": 19,
    "start_time": "2024-11-26T18:20:49.549Z"
   },
   {
    "duration": 13,
    "start_time": "2024-11-26T18:20:49.723Z"
   },
   {
    "duration": 6,
    "start_time": "2024-11-26T18:20:49.924Z"
   },
   {
    "duration": 7,
    "start_time": "2024-11-26T18:20:50.849Z"
   },
   {
    "duration": 2,
    "start_time": "2024-11-26T18:20:51.069Z"
   },
   {
    "duration": 38,
    "start_time": "2024-11-26T18:20:51.330Z"
   },
   {
    "duration": 7,
    "start_time": "2024-11-26T18:20:51.524Z"
   },
   {
    "duration": 33,
    "start_time": "2024-11-26T18:20:51.872Z"
   },
   {
    "duration": 7,
    "start_time": "2024-11-26T18:20:52.059Z"
   },
   {
    "duration": 10,
    "start_time": "2024-11-26T18:20:52.278Z"
   },
   {
    "duration": 17,
    "start_time": "2024-11-26T18:20:52.513Z"
   },
   {
    "duration": 9,
    "start_time": "2024-11-26T18:20:52.794Z"
   },
   {
    "duration": 7,
    "start_time": "2024-11-26T18:20:53.029Z"
   },
   {
    "duration": 20,
    "start_time": "2024-11-26T18:20:53.279Z"
   },
   {
    "duration": 10,
    "start_time": "2024-11-26T18:20:53.523Z"
   },
   {
    "duration": 9,
    "start_time": "2024-11-26T18:20:53.768Z"
   },
   {
    "duration": 2,
    "start_time": "2024-11-26T18:20:54.250Z"
   },
   {
    "duration": 4,
    "start_time": "2024-11-26T18:20:54.474Z"
   },
   {
    "duration": 9,
    "start_time": "2024-11-26T18:20:54.708Z"
   },
   {
    "duration": 7,
    "start_time": "2024-11-26T18:20:54.945Z"
   },
   {
    "duration": 6,
    "start_time": "2024-11-26T18:20:55.152Z"
   },
   {
    "duration": 16,
    "start_time": "2024-11-26T18:20:55.612Z"
   },
   {
    "duration": 16,
    "start_time": "2024-11-26T18:20:55.848Z"
   },
   {
    "duration": 9,
    "start_time": "2024-11-26T18:20:56.044Z"
   },
   {
    "duration": 20,
    "start_time": "2024-11-26T18:20:56.279Z"
   },
   {
    "duration": 3,
    "start_time": "2024-11-26T18:20:56.756Z"
   },
   {
    "duration": 2,
    "start_time": "2024-11-26T18:20:57.744Z"
   },
   {
    "duration": 3,
    "start_time": "2024-11-26T18:21:06.012Z"
   },
   {
    "duration": 33,
    "start_time": "2024-11-26T18:21:07.000Z"
   },
   {
    "duration": 17,
    "start_time": "2024-11-26T18:21:08.336Z"
   },
   {
    "duration": 5,
    "start_time": "2024-11-26T18:21:09.219Z"
   },
   {
    "duration": 2,
    "start_time": "2024-11-26T18:21:14.268Z"
   },
   {
    "duration": 1,
    "start_time": "2024-11-26T18:21:15.016Z"
   },
   {
    "duration": 2,
    "start_time": "2024-11-26T18:21:15.225Z"
   },
   {
    "duration": 3,
    "start_time": "2024-11-26T18:21:15.954Z"
   },
   {
    "duration": 32,
    "start_time": "2024-11-26T18:21:16.249Z"
   },
   {
    "duration": 6,
    "start_time": "2024-11-26T18:21:16.601Z"
   },
   {
    "duration": 15,
    "start_time": "2024-11-26T18:21:17.517Z"
   },
   {
    "duration": 2,
    "start_time": "2024-11-26T18:21:18.207Z"
   },
   {
    "duration": 3,
    "start_time": "2024-11-26T18:21:20.113Z"
   },
   {
    "duration": 19,
    "start_time": "2024-11-26T18:21:20.336Z"
   },
   {
    "duration": 16,
    "start_time": "2024-11-26T18:21:20.624Z"
   },
   {
    "duration": 6,
    "start_time": "2024-11-26T18:21:20.944Z"
   },
   {
    "duration": 15,
    "start_time": "2024-11-26T18:21:21.134Z"
   },
   {
    "duration": 3,
    "start_time": "2024-11-26T18:21:21.878Z"
   },
   {
    "duration": 28,
    "start_time": "2024-11-26T18:21:22.080Z"
   },
   {
    "duration": 11,
    "start_time": "2024-11-26T18:21:22.281Z"
   },
   {
    "duration": 2,
    "start_time": "2024-11-26T18:21:23.760Z"
   },
   {
    "duration": 2,
    "start_time": "2024-11-26T18:21:25.254Z"
   },
   {
    "duration": 5,
    "start_time": "2024-11-26T19:35:19.833Z"
   },
   {
    "duration": 5,
    "start_time": "2024-11-26T19:35:38.797Z"
   },
   {
    "duration": 6,
    "start_time": "2024-11-26T19:37:31.139Z"
   },
   {
    "duration": 6,
    "start_time": "2024-11-26T19:37:43.720Z"
   },
   {
    "duration": 2,
    "start_time": "2024-11-26T19:39:49.806Z"
   },
   {
    "duration": 2,
    "start_time": "2024-11-26T19:39:50.251Z"
   },
   {
    "duration": 923,
    "start_time": "2024-11-26T19:39:50.744Z"
   },
   {
    "duration": 8,
    "start_time": "2024-11-26T19:40:26.395Z"
   },
   {
    "duration": 6,
    "start_time": "2024-11-26T19:40:33.719Z"
   },
   {
    "duration": 5,
    "start_time": "2024-11-26T19:40:49.482Z"
   },
   {
    "duration": 4,
    "start_time": "2024-11-26T19:40:49.748Z"
   },
   {
    "duration": 6,
    "start_time": "2024-11-26T19:41:04.388Z"
   },
   {
    "duration": 5,
    "start_time": "2024-11-26T19:41:04.846Z"
   },
   {
    "duration": 4,
    "start_time": "2024-11-26T19:41:59.964Z"
   },
   {
    "duration": 3,
    "start_time": "2024-11-26T19:42:00.438Z"
   },
   {
    "duration": 5,
    "start_time": "2024-11-26T19:42:38.267Z"
   },
   {
    "duration": 9,
    "start_time": "2024-11-26T19:42:50.552Z"
   },
   {
    "duration": 11,
    "start_time": "2024-11-26T19:56:57.184Z"
   }
  ],
  "colab": {
   "provenance": []
  },
  "kernelspec": {
   "display_name": "Python 3 (ipykernel)",
   "language": "python",
   "name": "python3"
  },
  "language_info": {
   "codemirror_mode": {
    "name": "ipython",
    "version": 3
   },
   "file_extension": ".py",
   "mimetype": "text/x-python",
   "name": "python",
   "nbconvert_exporter": "python",
   "pygments_lexer": "ipython3",
   "version": "3.9.19"
  },
  "toc": {
   "base_numbering": 1,
   "nav_menu": {},
   "number_sections": true,
   "sideBar": true,
   "skip_h1_title": false,
   "title_cell": "Table of Contents",
   "title_sidebar": "Contents",
   "toc_cell": false,
   "toc_position": {},
   "toc_section_display": true,
   "toc_window_display": true
  }
 },
 "nbformat": 4,
 "nbformat_minor": 1
}
