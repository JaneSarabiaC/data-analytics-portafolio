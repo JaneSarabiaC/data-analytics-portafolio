{
 "cells": [
  {
   "cell_type": "markdown",
   "id": "493d3b7b",
   "metadata": {},
   "source": [
    "# Proyecto Manipulación de datos en base de datos retail"
   ]
  },
  {
   "cell_type": "markdown",
   "id": "3Xg_RQfnafXz",
   "metadata": {
    "id": "3Xg_RQfnafXz"
   },
   "source": [
    "## ¡Llena ese carrito!"
   ]
  },
  {
   "cell_type": "markdown",
   "id": "a1cdb5ad",
   "metadata": {},
   "source": [
    "### Tabla de contenido\n",
    "\n",
    "1. Introducción\n",
    "2. Paso 1. Descripción de los datos\n",
    "3. Paso 2. Preprocesamiento de los datos\n",
    "4. Paso 3. Análisis de los datos\n",
    "5. Conclusion general del proyecto"
   ]
  },
  {
   "cell_type": "markdown",
   "id": "mhIvmmkW414q",
   "metadata": {
    "id": "mhIvmmkW414q"
   },
   "source": [
    "### Introducción\n",
    "\n",
    "Instacart es una plataforma de entregas de comestibles donde la clientela puede registrar un pedido y hacer que se lo entreguen, similar a Uber Eats y Door Dash.\n",
    "El conjunto de datos que te hemos proporcionado tiene modificaciones del original. Redujimos el tamaño del conjunto para que tus cálculos se hicieran más rápido e introdujimos valores ausentes y duplicados. Tuvimos cuidado de conservar las distribuciones de los datos originales cuando hicimos los cambios.\n",
    "\n",
    "Debes completar tres pasos. Para cada uno de ellos, escribe una breve introducción que refleje con claridad cómo pretendes resolver cada paso, y escribe párrafos explicatorios que justifiquen tus decisiones al tiempo que avanzas en tu solución.  También escribe una conclusión que resuma tus hallazgos y elecciones.\n"
   ]
  },
  {
   "cell_type": "markdown",
   "id": "3MbyzpOQZ5Or",
   "metadata": {
    "id": "3MbyzpOQZ5Or"
   },
   "source": [
    "## Diccionario de datos\n",
    "\n",
    "Hay cinco tablas en el conjunto de datos, y tendrás que usarlas todas para hacer el preprocesamiento de datos y el análisis exploratorio de datos. A continuación se muestra un diccionario de datos que enumera las columnas de cada tabla y describe los datos que contienen.\n",
    "\n",
    "- `instacart_orders.csv`: cada fila corresponde a un pedido en la aplicación Instacart.\n",
    "    - `'order_id'`: número de ID que identifica de manera única cada pedido.\n",
    "    - `'user_id'`: número de ID que identifica de manera única la cuenta de cada cliente.\n",
    "    - `'order_number'`: el número de veces que este cliente ha hecho un pedido.\n",
    "    - `'order_dow'`: día de la semana en que se hizo el pedido (0 si es domingo).\n",
    "    - `'order_hour_of_day'`: hora del día en que se hizo el pedido.\n",
    "    - `'days_since_prior_order'`: número de días transcurridos desde que este cliente hizo su pedido anterior.\n",
    "- `products.csv`: cada fila corresponde a un producto único que pueden comprar los clientes.\n",
    "    - `'product_id'`: número ID que identifica de manera única cada producto.\n",
    "    - `'product_name'`: nombre del producto.\n",
    "    - `'aisle_id'`: número ID que identifica de manera única cada categoría de pasillo de víveres.\n",
    "    - `'department_id'`: número ID que identifica de manera única cada departamento de víveres.\n",
    "- `order_products.csv`: cada fila corresponde a un artículo pedido en un pedido.\n",
    "    - `'order_id'`: número de ID que identifica de manera única cada pedido.\n",
    "    - `'product_id'`: número ID que identifica de manera única cada producto.\n",
    "    - `'add_to_cart_order'`: el orden secuencial en el que se añadió cada artículo en el carrito.\n",
    "    - `'reordered'`: 0 si el cliente nunca ha pedido este producto antes, 1 si lo ha pedido.\n",
    "- `aisles.csv`\n",
    "    - `'aisle_id'`: número ID que identifica de manera única cada categoría de pasillo de víveres.\n",
    "    - `'aisle'`: nombre del pasillo.\n",
    "- `departments.csv`\n",
    "    - `'department_id'`: número ID que identifica de manera única cada departamento de víveres.\n",
    "    - `'department'`: nombre del departamento."
   ]
  },
  {
   "cell_type": "markdown",
   "id": "n3Ha_cNSZ8lK",
   "metadata": {
    "id": "n3Ha_cNSZ8lK"
   },
   "source": [
    "# Paso 1. Descripción de los datos\n",
    "\n",
    "Lee los archivos de datos (`/datasets/instacart_orders.csv`, `/datasets/products.csv`, `/datasets/aisles.csv`, `/datasets/departments.csv` y `/datasets/order_products.csv`) con `pd.read_csv()` usando los parámetros adecuados para leer los datos correctamente. Verifica la información para cada DataFrame creado.\n"
   ]
  },
  {
   "cell_type": "markdown",
   "id": "OmlQPLlyaAfR",
   "metadata": {
    "id": "OmlQPLlyaAfR"
   },
   "source": [
    "## Plan de solución\n",
    "\n",
    "Escribe aquí tu plan de solución para el Paso 1. Descripción de los datos.\n",
    "\n",
    "1er paso, importar todas las librerias y hacer una visualizacion rapida de los datos."
   ]
  },
  {
   "cell_type": "code",
   "execution_count": 4,
   "id": "fbf1adab",
   "metadata": {
    "id": "fbf1adab"
   },
   "outputs": [],
   "source": [
    "import pandas as pd\n",
    "import matplotlib.pyplot as plt\n",
    "# importar librerías"
   ]
  },
  {
   "cell_type": "code",
   "execution_count": 8,
   "id": "ad36396d",
   "metadata": {
    "id": "ad36396d"
   },
   "outputs": [],
   "source": [
    "orders = pd.read_csv('./datasets/instacart_orders.csv', sep=';')\n",
    "products = pd.read_csv('./datasets/products.csv', sep=';')\n",
    "departments = pd.read_csv('./datasets/departments.csv', sep=';')\n",
    "aisles = pd.read_csv('./datasets/aisles.csv', sep=';')\n",
    "order_products = pd.read_csv('./datasets/order_products.csv', sep=';')\n",
    "\n",
    "# leer conjuntos de datos en los DataFrames"
   ]
  },
  {
   "cell_type": "code",
   "execution_count": 13,
   "id": "ad6a1efa",
   "metadata": {
    "id": "ad6a1efa"
   },
   "outputs": [
    {
     "name": "stdout",
     "output_type": "stream",
     "text": [
      "<class 'pandas.core.frame.DataFrame'>\n",
      "RangeIndex: 478967 entries, 0 to 478966\n",
      "Data columns (total 6 columns):\n",
      " #   Column                  Non-Null Count   Dtype  \n",
      "---  ------                  --------------   -----  \n",
      " 0   order_id                478967 non-null  int64  \n",
      " 1   user_id                 478967 non-null  int64  \n",
      " 2   order_number            478967 non-null  int64  \n",
      " 3   order_dow               478967 non-null  int64  \n",
      " 4   order_hour_of_day       478967 non-null  int64  \n",
      " 5   days_since_prior_order  450148 non-null  float64\n",
      "dtypes: float64(1), int64(5)\n",
      "memory usage: 21.9 MB\n"
     ]
    },
    {
     "data": {
      "text/html": [
       "<div>\n",
       "<style scoped>\n",
       "    .dataframe tbody tr th:only-of-type {\n",
       "        vertical-align: middle;\n",
       "    }\n",
       "\n",
       "    .dataframe tbody tr th {\n",
       "        vertical-align: top;\n",
       "    }\n",
       "\n",
       "    .dataframe thead th {\n",
       "        text-align: right;\n",
       "    }\n",
       "</style>\n",
       "<table border=\"1\" class=\"dataframe\">\n",
       "  <thead>\n",
       "    <tr style=\"text-align: right;\">\n",
       "      <th></th>\n",
       "      <th>order_id</th>\n",
       "      <th>user_id</th>\n",
       "      <th>order_number</th>\n",
       "      <th>order_dow</th>\n",
       "      <th>order_hour_of_day</th>\n",
       "      <th>days_since_prior_order</th>\n",
       "    </tr>\n",
       "  </thead>\n",
       "  <tbody>\n",
       "    <tr>\n",
       "      <th>0</th>\n",
       "      <td>1515936</td>\n",
       "      <td>183418</td>\n",
       "      <td>11</td>\n",
       "      <td>6</td>\n",
       "      <td>13</td>\n",
       "      <td>30.0</td>\n",
       "    </tr>\n",
       "    <tr>\n",
       "      <th>1</th>\n",
       "      <td>1690866</td>\n",
       "      <td>163593</td>\n",
       "      <td>5</td>\n",
       "      <td>5</td>\n",
       "      <td>12</td>\n",
       "      <td>9.0</td>\n",
       "    </tr>\n",
       "    <tr>\n",
       "      <th>2</th>\n",
       "      <td>1454967</td>\n",
       "      <td>39980</td>\n",
       "      <td>4</td>\n",
       "      <td>5</td>\n",
       "      <td>19</td>\n",
       "      <td>2.0</td>\n",
       "    </tr>\n",
       "    <tr>\n",
       "      <th>3</th>\n",
       "      <td>1768857</td>\n",
       "      <td>82516</td>\n",
       "      <td>56</td>\n",
       "      <td>0</td>\n",
       "      <td>20</td>\n",
       "      <td>10.0</td>\n",
       "    </tr>\n",
       "    <tr>\n",
       "      <th>4</th>\n",
       "      <td>3007858</td>\n",
       "      <td>196724</td>\n",
       "      <td>2</td>\n",
       "      <td>4</td>\n",
       "      <td>12</td>\n",
       "      <td>17.0</td>\n",
       "    </tr>\n",
       "  </tbody>\n",
       "</table>\n",
       "</div>"
      ],
      "text/plain": [
       "   order_id  user_id  order_number  order_dow  order_hour_of_day  \\\n",
       "0   1515936   183418            11          6                 13   \n",
       "1   1690866   163593             5          5                 12   \n",
       "2   1454967    39980             4          5                 19   \n",
       "3   1768857    82516            56          0                 20   \n",
       "4   3007858   196724             2          4                 12   \n",
       "\n",
       "   days_since_prior_order  \n",
       "0                    30.0  \n",
       "1                     9.0  \n",
       "2                     2.0  \n",
       "3                    10.0  \n",
       "4                    17.0  "
      ]
     },
     "execution_count": 13,
     "metadata": {},
     "output_type": "execute_result"
    }
   ],
   "source": [
    "# mostrar información del DataFrame\n",
    "orders.info()\n",
    "orders.head()"
   ]
  },
  {
   "cell_type": "code",
   "execution_count": 14,
   "id": "5130e05e",
   "metadata": {
    "id": "5130e05e"
   },
   "outputs": [
    {
     "name": "stdout",
     "output_type": "stream",
     "text": [
      "<class 'pandas.core.frame.DataFrame'>\n",
      "RangeIndex: 49694 entries, 0 to 49693\n",
      "Data columns (total 4 columns):\n",
      " #   Column         Non-Null Count  Dtype \n",
      "---  ------         --------------  ----- \n",
      " 0   product_id     49694 non-null  int64 \n",
      " 1   product_name   48436 non-null  object\n",
      " 2   aisle_id       49694 non-null  int64 \n",
      " 3   department_id  49694 non-null  int64 \n",
      "dtypes: int64(3), object(1)\n",
      "memory usage: 1.5+ MB\n"
     ]
    },
    {
     "data": {
      "text/html": [
       "<div>\n",
       "<style scoped>\n",
       "    .dataframe tbody tr th:only-of-type {\n",
       "        vertical-align: middle;\n",
       "    }\n",
       "\n",
       "    .dataframe tbody tr th {\n",
       "        vertical-align: top;\n",
       "    }\n",
       "\n",
       "    .dataframe thead th {\n",
       "        text-align: right;\n",
       "    }\n",
       "</style>\n",
       "<table border=\"1\" class=\"dataframe\">\n",
       "  <thead>\n",
       "    <tr style=\"text-align: right;\">\n",
       "      <th></th>\n",
       "      <th>product_id</th>\n",
       "      <th>product_name</th>\n",
       "      <th>aisle_id</th>\n",
       "      <th>department_id</th>\n",
       "    </tr>\n",
       "  </thead>\n",
       "  <tbody>\n",
       "    <tr>\n",
       "      <th>0</th>\n",
       "      <td>1</td>\n",
       "      <td>Chocolate Sandwich Cookies</td>\n",
       "      <td>61</td>\n",
       "      <td>19</td>\n",
       "    </tr>\n",
       "    <tr>\n",
       "      <th>1</th>\n",
       "      <td>2</td>\n",
       "      <td>All-Seasons Salt</td>\n",
       "      <td>104</td>\n",
       "      <td>13</td>\n",
       "    </tr>\n",
       "    <tr>\n",
       "      <th>2</th>\n",
       "      <td>3</td>\n",
       "      <td>Robust Golden Unsweetened Oolong Tea</td>\n",
       "      <td>94</td>\n",
       "      <td>7</td>\n",
       "    </tr>\n",
       "    <tr>\n",
       "      <th>3</th>\n",
       "      <td>4</td>\n",
       "      <td>Smart Ones Classic Favorites Mini Rigatoni Wit...</td>\n",
       "      <td>38</td>\n",
       "      <td>1</td>\n",
       "    </tr>\n",
       "    <tr>\n",
       "      <th>4</th>\n",
       "      <td>5</td>\n",
       "      <td>Green Chile Anytime Sauce</td>\n",
       "      <td>5</td>\n",
       "      <td>13</td>\n",
       "    </tr>\n",
       "  </tbody>\n",
       "</table>\n",
       "</div>"
      ],
      "text/plain": [
       "   product_id                                       product_name  aisle_id  \\\n",
       "0           1                         Chocolate Sandwich Cookies        61   \n",
       "1           2                                   All-Seasons Salt       104   \n",
       "2           3               Robust Golden Unsweetened Oolong Tea        94   \n",
       "3           4  Smart Ones Classic Favorites Mini Rigatoni Wit...        38   \n",
       "4           5                          Green Chile Anytime Sauce         5   \n",
       "\n",
       "   department_id  \n",
       "0             19  \n",
       "1             13  \n",
       "2              7  \n",
       "3              1  \n",
       "4             13  "
      ]
     },
     "execution_count": 14,
     "metadata": {},
     "output_type": "execute_result"
    }
   ],
   "source": [
    "# mostrar información del DataFrame\n",
    "products.info()\n",
    "products.head()"
   ]
  },
  {
   "cell_type": "code",
   "execution_count": 15,
   "id": "d8370c05",
   "metadata": {
    "id": "d8370c05"
   },
   "outputs": [
    {
     "name": "stdout",
     "output_type": "stream",
     "text": [
      "<class 'pandas.core.frame.DataFrame'>\n",
      "RangeIndex: 21 entries, 0 to 20\n",
      "Data columns (total 2 columns):\n",
      " #   Column         Non-Null Count  Dtype \n",
      "---  ------         --------------  ----- \n",
      " 0   department_id  21 non-null     int64 \n",
      " 1   department     21 non-null     object\n",
      "dtypes: int64(1), object(1)\n",
      "memory usage: 464.0+ bytes\n"
     ]
    },
    {
     "data": {
      "text/html": [
       "<div>\n",
       "<style scoped>\n",
       "    .dataframe tbody tr th:only-of-type {\n",
       "        vertical-align: middle;\n",
       "    }\n",
       "\n",
       "    .dataframe tbody tr th {\n",
       "        vertical-align: top;\n",
       "    }\n",
       "\n",
       "    .dataframe thead th {\n",
       "        text-align: right;\n",
       "    }\n",
       "</style>\n",
       "<table border=\"1\" class=\"dataframe\">\n",
       "  <thead>\n",
       "    <tr style=\"text-align: right;\">\n",
       "      <th></th>\n",
       "      <th>department_id</th>\n",
       "      <th>department</th>\n",
       "    </tr>\n",
       "  </thead>\n",
       "  <tbody>\n",
       "    <tr>\n",
       "      <th>0</th>\n",
       "      <td>1</td>\n",
       "      <td>frozen</td>\n",
       "    </tr>\n",
       "    <tr>\n",
       "      <th>1</th>\n",
       "      <td>2</td>\n",
       "      <td>other</td>\n",
       "    </tr>\n",
       "    <tr>\n",
       "      <th>2</th>\n",
       "      <td>3</td>\n",
       "      <td>bakery</td>\n",
       "    </tr>\n",
       "    <tr>\n",
       "      <th>3</th>\n",
       "      <td>4</td>\n",
       "      <td>produce</td>\n",
       "    </tr>\n",
       "    <tr>\n",
       "      <th>4</th>\n",
       "      <td>5</td>\n",
       "      <td>alcohol</td>\n",
       "    </tr>\n",
       "  </tbody>\n",
       "</table>\n",
       "</div>"
      ],
      "text/plain": [
       "   department_id department\n",
       "0              1     frozen\n",
       "1              2      other\n",
       "2              3     bakery\n",
       "3              4    produce\n",
       "4              5    alcohol"
      ]
     },
     "execution_count": 15,
     "metadata": {},
     "output_type": "execute_result"
    }
   ],
   "source": [
    "# mostrar información del DataFrame\n",
    "departments.info()\n",
    "departments.head()"
   ]
  },
  {
   "cell_type": "code",
   "execution_count": 16,
   "id": "59e2090f",
   "metadata": {
    "id": "59e2090f"
   },
   "outputs": [
    {
     "name": "stdout",
     "output_type": "stream",
     "text": [
      "<class 'pandas.core.frame.DataFrame'>\n",
      "RangeIndex: 134 entries, 0 to 133\n",
      "Data columns (total 2 columns):\n",
      " #   Column    Non-Null Count  Dtype \n",
      "---  ------    --------------  ----- \n",
      " 0   aisle_id  134 non-null    int64 \n",
      " 1   aisle     134 non-null    object\n",
      "dtypes: int64(1), object(1)\n",
      "memory usage: 2.2+ KB\n"
     ]
    },
    {
     "data": {
      "text/html": [
       "<div>\n",
       "<style scoped>\n",
       "    .dataframe tbody tr th:only-of-type {\n",
       "        vertical-align: middle;\n",
       "    }\n",
       "\n",
       "    .dataframe tbody tr th {\n",
       "        vertical-align: top;\n",
       "    }\n",
       "\n",
       "    .dataframe thead th {\n",
       "        text-align: right;\n",
       "    }\n",
       "</style>\n",
       "<table border=\"1\" class=\"dataframe\">\n",
       "  <thead>\n",
       "    <tr style=\"text-align: right;\">\n",
       "      <th></th>\n",
       "      <th>aisle_id</th>\n",
       "      <th>aisle</th>\n",
       "    </tr>\n",
       "  </thead>\n",
       "  <tbody>\n",
       "    <tr>\n",
       "      <th>0</th>\n",
       "      <td>1</td>\n",
       "      <td>prepared soups salads</td>\n",
       "    </tr>\n",
       "    <tr>\n",
       "      <th>1</th>\n",
       "      <td>2</td>\n",
       "      <td>specialty cheeses</td>\n",
       "    </tr>\n",
       "    <tr>\n",
       "      <th>2</th>\n",
       "      <td>3</td>\n",
       "      <td>energy granola bars</td>\n",
       "    </tr>\n",
       "    <tr>\n",
       "      <th>3</th>\n",
       "      <td>4</td>\n",
       "      <td>instant foods</td>\n",
       "    </tr>\n",
       "    <tr>\n",
       "      <th>4</th>\n",
       "      <td>5</td>\n",
       "      <td>marinades meat preparation</td>\n",
       "    </tr>\n",
       "  </tbody>\n",
       "</table>\n",
       "</div>"
      ],
      "text/plain": [
       "   aisle_id                       aisle\n",
       "0         1       prepared soups salads\n",
       "1         2           specialty cheeses\n",
       "2         3         energy granola bars\n",
       "3         4               instant foods\n",
       "4         5  marinades meat preparation"
      ]
     },
     "execution_count": 16,
     "metadata": {},
     "output_type": "execute_result"
    }
   ],
   "source": [
    "# mostrar información del DataFrame\n",
    "aisles.info()\n",
    "aisles.head()"
   ]
  },
  {
   "cell_type": "code",
   "execution_count": 17,
   "id": "6fc81694",
   "metadata": {
    "id": "6fc81694"
   },
   "outputs": [
    {
     "name": "stdout",
     "output_type": "stream",
     "text": [
      "<class 'pandas.core.frame.DataFrame'>\n",
      "RangeIndex: 4545007 entries, 0 to 4545006\n",
      "Data columns (total 4 columns):\n",
      " #   Column             Dtype  \n",
      "---  ------             -----  \n",
      " 0   order_id           int64  \n",
      " 1   product_id         int64  \n",
      " 2   add_to_cart_order  float64\n",
      " 3   reordered          int64  \n",
      "dtypes: float64(1), int64(3)\n",
      "memory usage: 138.7 MB\n"
     ]
    },
    {
     "data": {
      "text/html": [
       "<div>\n",
       "<style scoped>\n",
       "    .dataframe tbody tr th:only-of-type {\n",
       "        vertical-align: middle;\n",
       "    }\n",
       "\n",
       "    .dataframe tbody tr th {\n",
       "        vertical-align: top;\n",
       "    }\n",
       "\n",
       "    .dataframe thead th {\n",
       "        text-align: right;\n",
       "    }\n",
       "</style>\n",
       "<table border=\"1\" class=\"dataframe\">\n",
       "  <thead>\n",
       "    <tr style=\"text-align: right;\">\n",
       "      <th></th>\n",
       "      <th>order_id</th>\n",
       "      <th>product_id</th>\n",
       "      <th>add_to_cart_order</th>\n",
       "      <th>reordered</th>\n",
       "    </tr>\n",
       "  </thead>\n",
       "  <tbody>\n",
       "    <tr>\n",
       "      <th>0</th>\n",
       "      <td>2141543</td>\n",
       "      <td>11440</td>\n",
       "      <td>17.0</td>\n",
       "      <td>0</td>\n",
       "    </tr>\n",
       "    <tr>\n",
       "      <th>1</th>\n",
       "      <td>567889</td>\n",
       "      <td>1560</td>\n",
       "      <td>1.0</td>\n",
       "      <td>1</td>\n",
       "    </tr>\n",
       "    <tr>\n",
       "      <th>2</th>\n",
       "      <td>2261212</td>\n",
       "      <td>26683</td>\n",
       "      <td>1.0</td>\n",
       "      <td>1</td>\n",
       "    </tr>\n",
       "    <tr>\n",
       "      <th>3</th>\n",
       "      <td>491251</td>\n",
       "      <td>8670</td>\n",
       "      <td>35.0</td>\n",
       "      <td>1</td>\n",
       "    </tr>\n",
       "    <tr>\n",
       "      <th>4</th>\n",
       "      <td>2571142</td>\n",
       "      <td>1940</td>\n",
       "      <td>5.0</td>\n",
       "      <td>1</td>\n",
       "    </tr>\n",
       "  </tbody>\n",
       "</table>\n",
       "</div>"
      ],
      "text/plain": [
       "   order_id  product_id  add_to_cart_order  reordered\n",
       "0   2141543       11440               17.0          0\n",
       "1    567889        1560                1.0          1\n",
       "2   2261212       26683                1.0          1\n",
       "3    491251        8670               35.0          1\n",
       "4   2571142        1940                5.0          1"
      ]
     },
     "execution_count": 17,
     "metadata": {},
     "output_type": "execute_result"
    }
   ],
   "source": [
    "# mostrar información del DataFrame\n",
    "order_products.info()\n",
    "order_products.head()"
   ]
  },
  {
   "cell_type": "markdown",
   "id": "8RJHqxVmaVsF",
   "metadata": {
    "id": "8RJHqxVmaVsF"
   },
   "source": [
    "# Paso 2. Preprocesamiento de los datos\n",
    "\n",
    "Preprocesa los datos de la siguiente manera:\n",
    "\n",
    "- Verifica y corrige los tipos de datos (por ejemplo, asegúrate de que las columnas de ID sean números enteros).\n",
    "- Identifica y completa los valores ausentes.\n",
    "- Identifica y elimina los valores duplicados.\n",
    "\n",
    "Asegúrate de explicar qué tipos de valores ausentes y duplicados encontraste, cómo los completaste o eliminaste y por qué usaste esos métodos. ¿Por qué crees que estos valores ausentes y duplicados pueden haber estado presentes en el conjunto de datos?"
   ]
  },
  {
   "cell_type": "markdown",
   "id": "p6poABZQaZYb",
   "metadata": {
    "id": "p6poABZQaZYb"
   },
   "source": [
    "## Plan de solución\n",
    "\n",
    "Escribe aquí tu plan para el Paso 2. Preprocesamiento de los datos."
   ]
  },
  {
   "cell_type": "markdown",
   "id": "07357848-dc64-4156-9cc3-01ff4365226d",
   "metadata": {
    "id": "07357848-dc64-4156-9cc3-01ff4365226d"
   },
   "source": [
    "## Encuentra y elimina los valores duplicados (y describe cómo tomaste tus decisiones)."
   ]
  },
  {
   "cell_type": "markdown",
   "id": "f179f0a9",
   "metadata": {
    "id": "f179f0a9"
   },
   "source": [
    "### `instacart_orders` data frame"
   ]
  },
  {
   "cell_type": "code",
   "execution_count": 18,
   "id": "b99297a5-405a-463d-8535-9adc3da4ad74",
   "metadata": {
    "id": "b99297a5-405a-463d-8535-9adc3da4ad74"
   },
   "outputs": [],
   "source": [
    "# Revisa si hay pedidos duplicados"
   ]
  },
  {
   "cell_type": "code",
   "execution_count": 19,
   "id": "cf139187",
   "metadata": {},
   "outputs": [
    {
     "data": {
      "text/html": [
       "<div>\n",
       "<style scoped>\n",
       "    .dataframe tbody tr th:only-of-type {\n",
       "        vertical-align: middle;\n",
       "    }\n",
       "\n",
       "    .dataframe tbody tr th {\n",
       "        vertical-align: top;\n",
       "    }\n",
       "\n",
       "    .dataframe thead th {\n",
       "        text-align: right;\n",
       "    }\n",
       "</style>\n",
       "<table border=\"1\" class=\"dataframe\">\n",
       "  <thead>\n",
       "    <tr style=\"text-align: right;\">\n",
       "      <th></th>\n",
       "      <th>order_id</th>\n",
       "      <th>user_id</th>\n",
       "      <th>order_number</th>\n",
       "      <th>order_dow</th>\n",
       "      <th>order_hour_of_day</th>\n",
       "      <th>days_since_prior_order</th>\n",
       "    </tr>\n",
       "  </thead>\n",
       "  <tbody>\n",
       "    <tr>\n",
       "      <th>145574</th>\n",
       "      <td>794638</td>\n",
       "      <td>50898</td>\n",
       "      <td>24</td>\n",
       "      <td>3</td>\n",
       "      <td>2</td>\n",
       "      <td>2.0</td>\n",
       "    </tr>\n",
       "    <tr>\n",
       "      <th>223105</th>\n",
       "      <td>2160484</td>\n",
       "      <td>107525</td>\n",
       "      <td>16</td>\n",
       "      <td>3</td>\n",
       "      <td>2</td>\n",
       "      <td>30.0</td>\n",
       "    </tr>\n",
       "    <tr>\n",
       "      <th>230807</th>\n",
       "      <td>1918001</td>\n",
       "      <td>188546</td>\n",
       "      <td>14</td>\n",
       "      <td>3</td>\n",
       "      <td>2</td>\n",
       "      <td>16.0</td>\n",
       "    </tr>\n",
       "    <tr>\n",
       "      <th>266232</th>\n",
       "      <td>1782114</td>\n",
       "      <td>106752</td>\n",
       "      <td>1</td>\n",
       "      <td>3</td>\n",
       "      <td>2</td>\n",
       "      <td>NaN</td>\n",
       "    </tr>\n",
       "    <tr>\n",
       "      <th>273805</th>\n",
       "      <td>1112182</td>\n",
       "      <td>202304</td>\n",
       "      <td>84</td>\n",
       "      <td>3</td>\n",
       "      <td>2</td>\n",
       "      <td>6.0</td>\n",
       "    </tr>\n",
       "    <tr>\n",
       "      <th>284038</th>\n",
       "      <td>2845099</td>\n",
       "      <td>31189</td>\n",
       "      <td>11</td>\n",
       "      <td>3</td>\n",
       "      <td>2</td>\n",
       "      <td>7.0</td>\n",
       "    </tr>\n",
       "    <tr>\n",
       "      <th>311713</th>\n",
       "      <td>1021560</td>\n",
       "      <td>53767</td>\n",
       "      <td>3</td>\n",
       "      <td>3</td>\n",
       "      <td>2</td>\n",
       "      <td>9.0</td>\n",
       "    </tr>\n",
       "    <tr>\n",
       "      <th>321100</th>\n",
       "      <td>408114</td>\n",
       "      <td>68324</td>\n",
       "      <td>4</td>\n",
       "      <td>3</td>\n",
       "      <td>2</td>\n",
       "      <td>18.0</td>\n",
       "    </tr>\n",
       "    <tr>\n",
       "      <th>323900</th>\n",
       "      <td>1919531</td>\n",
       "      <td>191501</td>\n",
       "      <td>32</td>\n",
       "      <td>3</td>\n",
       "      <td>2</td>\n",
       "      <td>7.0</td>\n",
       "    </tr>\n",
       "    <tr>\n",
       "      <th>345917</th>\n",
       "      <td>2232988</td>\n",
       "      <td>82565</td>\n",
       "      <td>1</td>\n",
       "      <td>3</td>\n",
       "      <td>2</td>\n",
       "      <td>NaN</td>\n",
       "    </tr>\n",
       "    <tr>\n",
       "      <th>371905</th>\n",
       "      <td>391768</td>\n",
       "      <td>57671</td>\n",
       "      <td>19</td>\n",
       "      <td>3</td>\n",
       "      <td>2</td>\n",
       "      <td>10.0</td>\n",
       "    </tr>\n",
       "    <tr>\n",
       "      <th>394347</th>\n",
       "      <td>467134</td>\n",
       "      <td>63189</td>\n",
       "      <td>21</td>\n",
       "      <td>3</td>\n",
       "      <td>2</td>\n",
       "      <td>2.0</td>\n",
       "    </tr>\n",
       "    <tr>\n",
       "      <th>411408</th>\n",
       "      <td>1286742</td>\n",
       "      <td>183220</td>\n",
       "      <td>48</td>\n",
       "      <td>3</td>\n",
       "      <td>2</td>\n",
       "      <td>4.0</td>\n",
       "    </tr>\n",
       "    <tr>\n",
       "      <th>415163</th>\n",
       "      <td>2282673</td>\n",
       "      <td>86751</td>\n",
       "      <td>49</td>\n",
       "      <td>3</td>\n",
       "      <td>2</td>\n",
       "      <td>2.0</td>\n",
       "    </tr>\n",
       "    <tr>\n",
       "      <th>441599</th>\n",
       "      <td>2125197</td>\n",
       "      <td>14050</td>\n",
       "      <td>48</td>\n",
       "      <td>3</td>\n",
       "      <td>2</td>\n",
       "      <td>3.0</td>\n",
       "    </tr>\n",
       "  </tbody>\n",
       "</table>\n",
       "</div>"
      ],
      "text/plain": [
       "        order_id  user_id  order_number  order_dow  order_hour_of_day  \\\n",
       "145574    794638    50898            24          3                  2   \n",
       "223105   2160484   107525            16          3                  2   \n",
       "230807   1918001   188546            14          3                  2   \n",
       "266232   1782114   106752             1          3                  2   \n",
       "273805   1112182   202304            84          3                  2   \n",
       "284038   2845099    31189            11          3                  2   \n",
       "311713   1021560    53767             3          3                  2   \n",
       "321100    408114    68324             4          3                  2   \n",
       "323900   1919531   191501            32          3                  2   \n",
       "345917   2232988    82565             1          3                  2   \n",
       "371905    391768    57671            19          3                  2   \n",
       "394347    467134    63189            21          3                  2   \n",
       "411408   1286742   183220            48          3                  2   \n",
       "415163   2282673    86751            49          3                  2   \n",
       "441599   2125197    14050            48          3                  2   \n",
       "\n",
       "        days_since_prior_order  \n",
       "145574                     2.0  \n",
       "223105                    30.0  \n",
       "230807                    16.0  \n",
       "266232                     NaN  \n",
       "273805                     6.0  \n",
       "284038                     7.0  \n",
       "311713                     9.0  \n",
       "321100                    18.0  \n",
       "323900                     7.0  \n",
       "345917                     NaN  \n",
       "371905                    10.0  \n",
       "394347                     2.0  \n",
       "411408                     4.0  \n",
       "415163                     2.0  \n",
       "441599                     3.0  "
      ]
     },
     "execution_count": 19,
     "metadata": {},
     "output_type": "execute_result"
    }
   ],
   "source": [
    "orders[orders.duplicated()]"
   ]
  },
  {
   "cell_type": "code",
   "execution_count": 20,
   "id": "b672e967",
   "metadata": {},
   "outputs": [
    {
     "data": {
      "text/html": [
       "<div>\n",
       "<style scoped>\n",
       "    .dataframe tbody tr th:only-of-type {\n",
       "        vertical-align: middle;\n",
       "    }\n",
       "\n",
       "    .dataframe tbody tr th {\n",
       "        vertical-align: top;\n",
       "    }\n",
       "\n",
       "    .dataframe thead th {\n",
       "        text-align: right;\n",
       "    }\n",
       "</style>\n",
       "<table border=\"1\" class=\"dataframe\">\n",
       "  <thead>\n",
       "    <tr style=\"text-align: right;\">\n",
       "      <th></th>\n",
       "      <th>order_id</th>\n",
       "      <th>user_id</th>\n",
       "      <th>order_number</th>\n",
       "      <th>order_dow</th>\n",
       "      <th>order_hour_of_day</th>\n",
       "      <th>days_since_prior_order</th>\n",
       "    </tr>\n",
       "  </thead>\n",
       "  <tbody>\n",
       "    <tr>\n",
       "      <th>145574</th>\n",
       "      <td>794638</td>\n",
       "      <td>50898</td>\n",
       "      <td>24</td>\n",
       "      <td>3</td>\n",
       "      <td>2</td>\n",
       "      <td>2.0</td>\n",
       "    </tr>\n",
       "    <tr>\n",
       "      <th>223105</th>\n",
       "      <td>2160484</td>\n",
       "      <td>107525</td>\n",
       "      <td>16</td>\n",
       "      <td>3</td>\n",
       "      <td>2</td>\n",
       "      <td>30.0</td>\n",
       "    </tr>\n",
       "    <tr>\n",
       "      <th>230807</th>\n",
       "      <td>1918001</td>\n",
       "      <td>188546</td>\n",
       "      <td>14</td>\n",
       "      <td>3</td>\n",
       "      <td>2</td>\n",
       "      <td>16.0</td>\n",
       "    </tr>\n",
       "    <tr>\n",
       "      <th>266232</th>\n",
       "      <td>1782114</td>\n",
       "      <td>106752</td>\n",
       "      <td>1</td>\n",
       "      <td>3</td>\n",
       "      <td>2</td>\n",
       "      <td>NaN</td>\n",
       "    </tr>\n",
       "    <tr>\n",
       "      <th>273805</th>\n",
       "      <td>1112182</td>\n",
       "      <td>202304</td>\n",
       "      <td>84</td>\n",
       "      <td>3</td>\n",
       "      <td>2</td>\n",
       "      <td>6.0</td>\n",
       "    </tr>\n",
       "    <tr>\n",
       "      <th>284038</th>\n",
       "      <td>2845099</td>\n",
       "      <td>31189</td>\n",
       "      <td>11</td>\n",
       "      <td>3</td>\n",
       "      <td>2</td>\n",
       "      <td>7.0</td>\n",
       "    </tr>\n",
       "    <tr>\n",
       "      <th>311713</th>\n",
       "      <td>1021560</td>\n",
       "      <td>53767</td>\n",
       "      <td>3</td>\n",
       "      <td>3</td>\n",
       "      <td>2</td>\n",
       "      <td>9.0</td>\n",
       "    </tr>\n",
       "    <tr>\n",
       "      <th>321100</th>\n",
       "      <td>408114</td>\n",
       "      <td>68324</td>\n",
       "      <td>4</td>\n",
       "      <td>3</td>\n",
       "      <td>2</td>\n",
       "      <td>18.0</td>\n",
       "    </tr>\n",
       "    <tr>\n",
       "      <th>323900</th>\n",
       "      <td>1919531</td>\n",
       "      <td>191501</td>\n",
       "      <td>32</td>\n",
       "      <td>3</td>\n",
       "      <td>2</td>\n",
       "      <td>7.0</td>\n",
       "    </tr>\n",
       "    <tr>\n",
       "      <th>345917</th>\n",
       "      <td>2232988</td>\n",
       "      <td>82565</td>\n",
       "      <td>1</td>\n",
       "      <td>3</td>\n",
       "      <td>2</td>\n",
       "      <td>NaN</td>\n",
       "    </tr>\n",
       "    <tr>\n",
       "      <th>371905</th>\n",
       "      <td>391768</td>\n",
       "      <td>57671</td>\n",
       "      <td>19</td>\n",
       "      <td>3</td>\n",
       "      <td>2</td>\n",
       "      <td>10.0</td>\n",
       "    </tr>\n",
       "    <tr>\n",
       "      <th>394347</th>\n",
       "      <td>467134</td>\n",
       "      <td>63189</td>\n",
       "      <td>21</td>\n",
       "      <td>3</td>\n",
       "      <td>2</td>\n",
       "      <td>2.0</td>\n",
       "    </tr>\n",
       "    <tr>\n",
       "      <th>411408</th>\n",
       "      <td>1286742</td>\n",
       "      <td>183220</td>\n",
       "      <td>48</td>\n",
       "      <td>3</td>\n",
       "      <td>2</td>\n",
       "      <td>4.0</td>\n",
       "    </tr>\n",
       "    <tr>\n",
       "      <th>415163</th>\n",
       "      <td>2282673</td>\n",
       "      <td>86751</td>\n",
       "      <td>49</td>\n",
       "      <td>3</td>\n",
       "      <td>2</td>\n",
       "      <td>2.0</td>\n",
       "    </tr>\n",
       "    <tr>\n",
       "      <th>441599</th>\n",
       "      <td>2125197</td>\n",
       "      <td>14050</td>\n",
       "      <td>48</td>\n",
       "      <td>3</td>\n",
       "      <td>2</td>\n",
       "      <td>3.0</td>\n",
       "    </tr>\n",
       "  </tbody>\n",
       "</table>\n",
       "</div>"
      ],
      "text/plain": [
       "        order_id  user_id  order_number  order_dow  order_hour_of_day  \\\n",
       "145574    794638    50898            24          3                  2   \n",
       "223105   2160484   107525            16          3                  2   \n",
       "230807   1918001   188546            14          3                  2   \n",
       "266232   1782114   106752             1          3                  2   \n",
       "273805   1112182   202304            84          3                  2   \n",
       "284038   2845099    31189            11          3                  2   \n",
       "311713   1021560    53767             3          3                  2   \n",
       "321100    408114    68324             4          3                  2   \n",
       "323900   1919531   191501            32          3                  2   \n",
       "345917   2232988    82565             1          3                  2   \n",
       "371905    391768    57671            19          3                  2   \n",
       "394347    467134    63189            21          3                  2   \n",
       "411408   1286742   183220            48          3                  2   \n",
       "415163   2282673    86751            49          3                  2   \n",
       "441599   2125197    14050            48          3                  2   \n",
       "\n",
       "        days_since_prior_order  \n",
       "145574                     2.0  \n",
       "223105                    30.0  \n",
       "230807                    16.0  \n",
       "266232                     NaN  \n",
       "273805                     6.0  \n",
       "284038                     7.0  \n",
       "311713                     9.0  \n",
       "321100                    18.0  \n",
       "323900                     7.0  \n",
       "345917                     NaN  \n",
       "371905                    10.0  \n",
       "394347                     2.0  \n",
       "411408                     4.0  \n",
       "415163                     2.0  \n",
       "441599                     3.0  "
      ]
     },
     "execution_count": 20,
     "metadata": {},
     "output_type": "execute_result"
    }
   ],
   "source": [
    "orders[orders.duplicated(subset='order_id')]"
   ]
  },
  {
   "cell_type": "code",
   "execution_count": 99,
   "id": "28770674",
   "metadata": {},
   "outputs": [
    {
     "data": {
      "text/plain": [
       "15"
      ]
     },
     "execution_count": 99,
     "metadata": {},
     "output_type": "execute_result"
    }
   ],
   "source": [
    "orders.duplicated(subset='order_id').sum()"
   ]
  },
  {
   "cell_type": "markdown",
   "id": "PEkwUX_gvt5A",
   "metadata": {
    "id": "PEkwUX_gvt5A"
   },
   "source": [
    "¿Tienes líneas duplicadas? Si sí, ¿qué tienen en común?"
   ]
  },
  {
   "cell_type": "code",
   "execution_count": 22,
   "id": "0d44de5d",
   "metadata": {
    "id": "0d44de5d"
   },
   "outputs": [],
   "source": [
    "# Basándote en tus hallazgos,\n",
    "# Verifica todos los pedidos que se hicieron el miércoles a las 2:00 a.m.\n"
   ]
  },
  {
   "cell_type": "code",
   "execution_count": 23,
   "id": "8a4d5003",
   "metadata": {},
   "outputs": [
    {
     "data": {
      "text/html": [
       "<div>\n",
       "<style scoped>\n",
       "    .dataframe tbody tr th:only-of-type {\n",
       "        vertical-align: middle;\n",
       "    }\n",
       "\n",
       "    .dataframe tbody tr th {\n",
       "        vertical-align: top;\n",
       "    }\n",
       "\n",
       "    .dataframe thead th {\n",
       "        text-align: right;\n",
       "    }\n",
       "</style>\n",
       "<table border=\"1\" class=\"dataframe\">\n",
       "  <thead>\n",
       "    <tr style=\"text-align: right;\">\n",
       "      <th></th>\n",
       "      <th>order_id</th>\n",
       "      <th>user_id</th>\n",
       "      <th>order_number</th>\n",
       "      <th>order_dow</th>\n",
       "      <th>order_hour_of_day</th>\n",
       "      <th>days_since_prior_order</th>\n",
       "    </tr>\n",
       "  </thead>\n",
       "  <tbody>\n",
       "    <tr>\n",
       "      <th>4838</th>\n",
       "      <td>2766110</td>\n",
       "      <td>162084</td>\n",
       "      <td>41</td>\n",
       "      <td>3</td>\n",
       "      <td>2</td>\n",
       "      <td>16.0</td>\n",
       "    </tr>\n",
       "    <tr>\n",
       "      <th>5156</th>\n",
       "      <td>2190225</td>\n",
       "      <td>138285</td>\n",
       "      <td>18</td>\n",
       "      <td>3</td>\n",
       "      <td>2</td>\n",
       "      <td>11.0</td>\n",
       "    </tr>\n",
       "    <tr>\n",
       "      <th>15506</th>\n",
       "      <td>553049</td>\n",
       "      <td>58599</td>\n",
       "      <td>13</td>\n",
       "      <td>3</td>\n",
       "      <td>2</td>\n",
       "      <td>7.0</td>\n",
       "    </tr>\n",
       "    <tr>\n",
       "      <th>18420</th>\n",
       "      <td>382357</td>\n",
       "      <td>120200</td>\n",
       "      <td>19</td>\n",
       "      <td>3</td>\n",
       "      <td>2</td>\n",
       "      <td>11.0</td>\n",
       "    </tr>\n",
       "    <tr>\n",
       "      <th>24691</th>\n",
       "      <td>690242</td>\n",
       "      <td>77357</td>\n",
       "      <td>2</td>\n",
       "      <td>3</td>\n",
       "      <td>2</td>\n",
       "      <td>9.0</td>\n",
       "    </tr>\n",
       "    <tr>\n",
       "      <th>...</th>\n",
       "      <td>...</td>\n",
       "      <td>...</td>\n",
       "      <td>...</td>\n",
       "      <td>...</td>\n",
       "      <td>...</td>\n",
       "      <td>...</td>\n",
       "    </tr>\n",
       "    <tr>\n",
       "      <th>457013</th>\n",
       "      <td>3384021</td>\n",
       "      <td>14881</td>\n",
       "      <td>6</td>\n",
       "      <td>3</td>\n",
       "      <td>2</td>\n",
       "      <td>30.0</td>\n",
       "    </tr>\n",
       "    <tr>\n",
       "      <th>458816</th>\n",
       "      <td>910166</td>\n",
       "      <td>164782</td>\n",
       "      <td>18</td>\n",
       "      <td>3</td>\n",
       "      <td>2</td>\n",
       "      <td>4.0</td>\n",
       "    </tr>\n",
       "    <tr>\n",
       "      <th>459635</th>\n",
       "      <td>1680532</td>\n",
       "      <td>106435</td>\n",
       "      <td>6</td>\n",
       "      <td>3</td>\n",
       "      <td>2</td>\n",
       "      <td>21.0</td>\n",
       "    </tr>\n",
       "    <tr>\n",
       "      <th>468324</th>\n",
       "      <td>222962</td>\n",
       "      <td>54979</td>\n",
       "      <td>59</td>\n",
       "      <td>3</td>\n",
       "      <td>2</td>\n",
       "      <td>3.0</td>\n",
       "    </tr>\n",
       "    <tr>\n",
       "      <th>477526</th>\n",
       "      <td>2592344</td>\n",
       "      <td>46860</td>\n",
       "      <td>38</td>\n",
       "      <td>3</td>\n",
       "      <td>2</td>\n",
       "      <td>3.0</td>\n",
       "    </tr>\n",
       "  </tbody>\n",
       "</table>\n",
       "<p>121 rows × 6 columns</p>\n",
       "</div>"
      ],
      "text/plain": [
       "        order_id  user_id  order_number  order_dow  order_hour_of_day  \\\n",
       "4838     2766110   162084            41          3                  2   \n",
       "5156     2190225   138285            18          3                  2   \n",
       "15506     553049    58599            13          3                  2   \n",
       "18420     382357   120200            19          3                  2   \n",
       "24691     690242    77357             2          3                  2   \n",
       "...          ...      ...           ...        ...                ...   \n",
       "457013   3384021    14881             6          3                  2   \n",
       "458816    910166   164782            18          3                  2   \n",
       "459635   1680532   106435             6          3                  2   \n",
       "468324    222962    54979            59          3                  2   \n",
       "477526   2592344    46860            38          3                  2   \n",
       "\n",
       "        days_since_prior_order  \n",
       "4838                      16.0  \n",
       "5156                      11.0  \n",
       "15506                      7.0  \n",
       "18420                     11.0  \n",
       "24691                      9.0  \n",
       "...                        ...  \n",
       "457013                    30.0  \n",
       "458816                     4.0  \n",
       "459635                    21.0  \n",
       "468324                     3.0  \n",
       "477526                     3.0  \n",
       "\n",
       "[121 rows x 6 columns]"
      ]
     },
     "execution_count": 23,
     "metadata": {},
     "output_type": "execute_result"
    }
   ],
   "source": [
    "orders[(orders['order_dow'] == 3) & (orders['order_hour_of_day'] == 2)]"
   ]
  },
  {
   "cell_type": "markdown",
   "id": "vu2OWyoqwOx5",
   "metadata": {
    "id": "vu2OWyoqwOx5"
   },
   "source": [
    "¿Qué sugiere este resultado?"
   ]
  },
  {
   "cell_type": "code",
   "execution_count": 100,
   "id": "480563c7",
   "metadata": {
    "id": "480563c7"
   },
   "outputs": [
    {
     "name": "stdout",
     "output_type": "stream",
     "text": [
      "15\n"
     ]
    }
   ],
   "source": [
    "# Elimina los pedidos duplicados\n",
    "\n",
    "orders.drop_duplicates('order_id')\n",
    "print(orders.duplicated('order_id').sum())"
   ]
  },
  {
   "cell_type": "code",
   "execution_count": 26,
   "id": "0b2396a2",
   "metadata": {
    "id": "0b2396a2"
   },
   "outputs": [],
   "source": [
    "# Vuelve a verificar si hay filas duplicadas"
   ]
  },
  {
   "cell_type": "code",
   "execution_count": 103,
   "id": "620dc8ab",
   "metadata": {},
   "outputs": [
    {
     "data": {
      "text/plain": [
       "order_id                  0.0\n",
       "user_id                   0.0\n",
       "order_number              0.0\n",
       "order_dow                 0.0\n",
       "order_hour_of_day         0.0\n",
       "days_since_prior_order    0.0\n",
       "dtype: float64"
      ]
     },
     "execution_count": 103,
     "metadata": {},
     "output_type": "execute_result"
    }
   ],
   "source": [
    "orders[orders.duplicated()].sum()"
   ]
  },
  {
   "cell_type": "code",
   "execution_count": 104,
   "id": "f6113ef1",
   "metadata": {
    "id": "f6113ef1"
   },
   "outputs": [
    {
     "name": "stdout",
     "output_type": "stream",
     "text": [
      "0\n"
     ]
    }
   ],
   "source": [
    "# Vuelve a verificar si hay IDs duplicados de pedidos\n",
    "orders.drop_duplicates('order_id', inplace=True)\n",
    "\n",
    "print(orders.duplicated('order_id').sum())"
   ]
  },
  {
   "cell_type": "markdown",
   "id": "45e6bc46",
   "metadata": {
    "id": "45e6bc46"
   },
   "source": [
    "### `products` data frame"
   ]
  },
  {
   "cell_type": "code",
   "execution_count": 29,
   "id": "5f526b5b-8175-46fa-a0fd-441767d50e64",
   "metadata": {
    "id": "5f526b5b-8175-46fa-a0fd-441767d50e64"
   },
   "outputs": [
    {
     "data": {
      "text/html": [
       "<div>\n",
       "<style scoped>\n",
       "    .dataframe tbody tr th:only-of-type {\n",
       "        vertical-align: middle;\n",
       "    }\n",
       "\n",
       "    .dataframe tbody tr th {\n",
       "        vertical-align: top;\n",
       "    }\n",
       "\n",
       "    .dataframe thead th {\n",
       "        text-align: right;\n",
       "    }\n",
       "</style>\n",
       "<table border=\"1\" class=\"dataframe\">\n",
       "  <thead>\n",
       "    <tr style=\"text-align: right;\">\n",
       "      <th></th>\n",
       "      <th>product_id</th>\n",
       "      <th>product_name</th>\n",
       "      <th>aisle_id</th>\n",
       "      <th>department_id</th>\n",
       "    </tr>\n",
       "  </thead>\n",
       "  <tbody>\n",
       "  </tbody>\n",
       "</table>\n",
       "</div>"
      ],
      "text/plain": [
       "Empty DataFrame\n",
       "Columns: [product_id, product_name, aisle_id, department_id]\n",
       "Index: []"
      ]
     },
     "execution_count": 29,
     "metadata": {},
     "output_type": "execute_result"
    }
   ],
   "source": [
    "# Verifica si hay filas totalmente duplicadas\n",
    "products[products.duplicated()]\n"
   ]
  },
  {
   "cell_type": "code",
   "execution_count": 30,
   "id": "88daa4f4",
   "metadata": {
    "id": "88daa4f4"
   },
   "outputs": [
    {
     "data": {
      "text/html": [
       "<div>\n",
       "<style scoped>\n",
       "    .dataframe tbody tr th:only-of-type {\n",
       "        vertical-align: middle;\n",
       "    }\n",
       "\n",
       "    .dataframe tbody tr th {\n",
       "        vertical-align: top;\n",
       "    }\n",
       "\n",
       "    .dataframe thead th {\n",
       "        text-align: right;\n",
       "    }\n",
       "</style>\n",
       "<table border=\"1\" class=\"dataframe\">\n",
       "  <thead>\n",
       "    <tr style=\"text-align: right;\">\n",
       "      <th></th>\n",
       "      <th>product_id</th>\n",
       "      <th>product_name</th>\n",
       "      <th>aisle_id</th>\n",
       "      <th>department_id</th>\n",
       "    </tr>\n",
       "  </thead>\n",
       "  <tbody>\n",
       "  </tbody>\n",
       "</table>\n",
       "</div>"
      ],
      "text/plain": [
       "Empty DataFrame\n",
       "Columns: [product_id, product_name, aisle_id, department_id]\n",
       "Index: []"
      ]
     },
     "execution_count": 30,
     "metadata": {},
     "output_type": "execute_result"
    }
   ],
   "source": [
    "# Verifica si hay IDs duplicadas de productos\n",
    "products[products.duplicated(subset='product_id')]"
   ]
  },
  {
   "cell_type": "code",
   "execution_count": 31,
   "id": "c773f0bf",
   "metadata": {
    "id": "c773f0bf"
   },
   "outputs": [
    {
     "data": {
      "text/plain": [
       "0        False\n",
       "1        False\n",
       "2        False\n",
       "3        False\n",
       "4        False\n",
       "         ...  \n",
       "49689     True\n",
       "49690     True\n",
       "49691     True\n",
       "49692     True\n",
       "49693     True\n",
       "Name: product_name, Length: 49694, dtype: bool"
      ]
     },
     "execution_count": 31,
     "metadata": {},
     "output_type": "execute_result"
    }
   ],
   "source": [
    "# Revisa si hay nombres duplicados de productos (convierte los nombres a letras mayúsculas para compararlos mejor)\n",
    "products['product_name'].str.upper().duplicated()"
   ]
  },
  {
   "cell_type": "code",
   "execution_count": 32,
   "id": "d5bdeb4c",
   "metadata": {},
   "outputs": [
    {
     "data": {
      "text/plain": [
       "1361"
      ]
     },
     "execution_count": 32,
     "metadata": {},
     "output_type": "execute_result"
    }
   ],
   "source": [
    "products['product_name'].str.upper().duplicated().sum()"
   ]
  },
  {
   "cell_type": "code",
   "execution_count": 33,
   "id": "01efd02e",
   "metadata": {
    "id": "01efd02e"
   },
   "outputs": [
    {
     "data": {
      "text/html": [
       "<div>\n",
       "<style scoped>\n",
       "    .dataframe tbody tr th:only-of-type {\n",
       "        vertical-align: middle;\n",
       "    }\n",
       "\n",
       "    .dataframe tbody tr th {\n",
       "        vertical-align: top;\n",
       "    }\n",
       "\n",
       "    .dataframe thead th {\n",
       "        text-align: right;\n",
       "    }\n",
       "</style>\n",
       "<table border=\"1\" class=\"dataframe\">\n",
       "  <thead>\n",
       "    <tr style=\"text-align: right;\">\n",
       "      <th></th>\n",
       "      <th>product_id</th>\n",
       "      <th>product_name</th>\n",
       "      <th>aisle_id</th>\n",
       "      <th>department_id</th>\n",
       "    </tr>\n",
       "  </thead>\n",
       "  <tbody>\n",
       "    <tr>\n",
       "      <th>2058</th>\n",
       "      <td>2059</td>\n",
       "      <td>Biotin 1000 Mcg</td>\n",
       "      <td>47</td>\n",
       "      <td>11</td>\n",
       "    </tr>\n",
       "    <tr>\n",
       "      <th>5455</th>\n",
       "      <td>5456</td>\n",
       "      <td>Green Tea With Ginseng and Honey</td>\n",
       "      <td>96</td>\n",
       "      <td>20</td>\n",
       "    </tr>\n",
       "    <tr>\n",
       "      <th>5558</th>\n",
       "      <td>5559</td>\n",
       "      <td>Cream Of Mushroom Soup</td>\n",
       "      <td>69</td>\n",
       "      <td>15</td>\n",
       "    </tr>\n",
       "    <tr>\n",
       "      <th>7558</th>\n",
       "      <td>7559</td>\n",
       "      <td>Cinnamon Rolls with Icing</td>\n",
       "      <td>105</td>\n",
       "      <td>13</td>\n",
       "    </tr>\n",
       "    <tr>\n",
       "      <th>9037</th>\n",
       "      <td>9038</td>\n",
       "      <td>American Cheese slices</td>\n",
       "      <td>21</td>\n",
       "      <td>16</td>\n",
       "    </tr>\n",
       "    <tr>\n",
       "      <th>...</th>\n",
       "      <td>...</td>\n",
       "      <td>...</td>\n",
       "      <td>...</td>\n",
       "      <td>...</td>\n",
       "    </tr>\n",
       "    <tr>\n",
       "      <th>49689</th>\n",
       "      <td>49690</td>\n",
       "      <td>HIGH PERFORMANCE ENERGY DRINK</td>\n",
       "      <td>64</td>\n",
       "      <td>7</td>\n",
       "    </tr>\n",
       "    <tr>\n",
       "      <th>49690</th>\n",
       "      <td>49691</td>\n",
       "      <td>ORIGINAL PANCAKE &amp; WAFFLE MIX</td>\n",
       "      <td>130</td>\n",
       "      <td>14</td>\n",
       "    </tr>\n",
       "    <tr>\n",
       "      <th>49691</th>\n",
       "      <td>49692</td>\n",
       "      <td>ORGANIC INSTANT OATMEAL LIGHT MAPLE BROWN SUGAR</td>\n",
       "      <td>130</td>\n",
       "      <td>14</td>\n",
       "    </tr>\n",
       "    <tr>\n",
       "      <th>49692</th>\n",
       "      <td>49693</td>\n",
       "      <td>SPRING WATER BODY WASH</td>\n",
       "      <td>127</td>\n",
       "      <td>11</td>\n",
       "    </tr>\n",
       "    <tr>\n",
       "      <th>49693</th>\n",
       "      <td>49694</td>\n",
       "      <td>BURRITO- STEAK &amp; CHEESE</td>\n",
       "      <td>38</td>\n",
       "      <td>1</td>\n",
       "    </tr>\n",
       "  </tbody>\n",
       "</table>\n",
       "<p>104 rows × 4 columns</p>\n",
       "</div>"
      ],
      "text/plain": [
       "       product_id                                     product_name  aisle_id  \\\n",
       "2058         2059                                  Biotin 1000 Mcg        47   \n",
       "5455         5456                 Green Tea With Ginseng and Honey        96   \n",
       "5558         5559                           Cream Of Mushroom Soup        69   \n",
       "7558         7559                        Cinnamon Rolls with Icing       105   \n",
       "9037         9038                           American Cheese slices        21   \n",
       "...           ...                                              ...       ...   \n",
       "49689       49690                    HIGH PERFORMANCE ENERGY DRINK        64   \n",
       "49690       49691                    ORIGINAL PANCAKE & WAFFLE MIX       130   \n",
       "49691       49692  ORGANIC INSTANT OATMEAL LIGHT MAPLE BROWN SUGAR       130   \n",
       "49692       49693                           SPRING WATER BODY WASH       127   \n",
       "49693       49694                          BURRITO- STEAK & CHEESE        38   \n",
       "\n",
       "       department_id  \n",
       "2058              11  \n",
       "5455              20  \n",
       "5558              15  \n",
       "7558              13  \n",
       "9037              16  \n",
       "...              ...  \n",
       "49689              7  \n",
       "49690             14  \n",
       "49691             14  \n",
       "49692             11  \n",
       "49693              1  \n",
       "\n",
       "[104 rows x 4 columns]"
      ]
     },
     "execution_count": 33,
     "metadata": {},
     "output_type": "execute_result"
    }
   ],
   "source": [
    "# Revisa si hay nombres duplicados de productos no faltantes\n",
    "products[(~products['product_name'].isna()) & (products['product_name'].str.upper().duplicated())]\n"
   ]
  },
  {
   "cell_type": "markdown",
   "id": "9da8d293",
   "metadata": {
    "id": "9da8d293"
   },
   "source": [
    "Describe brevemente tus hallazgos y lo que hiciste con ellos.\n",
    "\n",
    "\n",
    "Verificando el DafaFrame products no me aparecen duplicados de products ni de product_id, pero al llamar al metodo upper en la columna product_name y visualizar todos los nombres a mayusculas, aperecen los duplicados. \n",
    "Llamo a isna para sacar los produc name que no estan vacios usando la negacion ~, una vez que tengo los no vacios, caso los duplicados que no estan vacios, y en el ultimo punto ya puedo sacarrecen los que realmente estan vacios"
   ]
  },
  {
   "cell_type": "markdown",
   "id": "60f30db1",
   "metadata": {
    "id": "60f30db1"
   },
   "source": [
    "### `departments` data frame"
   ]
  },
  {
   "cell_type": "code",
   "execution_count": 34,
   "id": "fb410ad4-0fbf-4b80-bb09-23fdea79afe3",
   "metadata": {
    "id": "fb410ad4-0fbf-4b80-bb09-23fdea79afe3"
   },
   "outputs": [],
   "source": [
    "# Revisa si hay filas totalmente duplicadas"
   ]
  },
  {
   "cell_type": "code",
   "execution_count": 35,
   "id": "96f42dbc",
   "metadata": {},
   "outputs": [
    {
     "data": {
      "text/html": [
       "<div>\n",
       "<style scoped>\n",
       "    .dataframe tbody tr th:only-of-type {\n",
       "        vertical-align: middle;\n",
       "    }\n",
       "\n",
       "    .dataframe tbody tr th {\n",
       "        vertical-align: top;\n",
       "    }\n",
       "\n",
       "    .dataframe thead th {\n",
       "        text-align: right;\n",
       "    }\n",
       "</style>\n",
       "<table border=\"1\" class=\"dataframe\">\n",
       "  <thead>\n",
       "    <tr style=\"text-align: right;\">\n",
       "      <th></th>\n",
       "      <th>department_id</th>\n",
       "      <th>department</th>\n",
       "    </tr>\n",
       "  </thead>\n",
       "  <tbody>\n",
       "  </tbody>\n",
       "</table>\n",
       "</div>"
      ],
      "text/plain": [
       "Empty DataFrame\n",
       "Columns: [department_id, department]\n",
       "Index: []"
      ]
     },
     "execution_count": 35,
     "metadata": {},
     "output_type": "execute_result"
    }
   ],
   "source": [
    "departments[departments.duplicated()]"
   ]
  },
  {
   "cell_type": "code",
   "execution_count": 36,
   "id": "332b12bb",
   "metadata": {
    "id": "332b12bb"
   },
   "outputs": [],
   "source": [
    "# Revisa si hay IDs duplicadas de productos"
   ]
  },
  {
   "cell_type": "code",
   "execution_count": 37,
   "id": "cd810d0b",
   "metadata": {},
   "outputs": [
    {
     "data": {
      "text/html": [
       "<div>\n",
       "<style scoped>\n",
       "    .dataframe tbody tr th:only-of-type {\n",
       "        vertical-align: middle;\n",
       "    }\n",
       "\n",
       "    .dataframe tbody tr th {\n",
       "        vertical-align: top;\n",
       "    }\n",
       "\n",
       "    .dataframe thead th {\n",
       "        text-align: right;\n",
       "    }\n",
       "</style>\n",
       "<table border=\"1\" class=\"dataframe\">\n",
       "  <thead>\n",
       "    <tr style=\"text-align: right;\">\n",
       "      <th></th>\n",
       "      <th>department_id</th>\n",
       "      <th>department</th>\n",
       "    </tr>\n",
       "  </thead>\n",
       "  <tbody>\n",
       "  </tbody>\n",
       "</table>\n",
       "</div>"
      ],
      "text/plain": [
       "Empty DataFrame\n",
       "Columns: [department_id, department]\n",
       "Index: []"
      ]
     },
     "execution_count": 37,
     "metadata": {},
     "output_type": "execute_result"
    }
   ],
   "source": [
    "departments[departments.duplicated(['department_id'])]\n"
   ]
  },
  {
   "cell_type": "markdown",
   "id": "889349c1",
   "metadata": {
    "id": "889349c1"
   },
   "source": [
    "### `aisles` data frame"
   ]
  },
  {
   "cell_type": "code",
   "execution_count": 38,
   "id": "9da89fb9-4679-40f5-ad0d-c34df753a3f8",
   "metadata": {
    "id": "9da89fb9-4679-40f5-ad0d-c34df753a3f8"
   },
   "outputs": [],
   "source": [
    "# Revisa si hay filas totalmente duplicadas"
   ]
  },
  {
   "cell_type": "code",
   "execution_count": 39,
   "id": "edaca261",
   "metadata": {},
   "outputs": [
    {
     "data": {
      "text/html": [
       "<div>\n",
       "<style scoped>\n",
       "    .dataframe tbody tr th:only-of-type {\n",
       "        vertical-align: middle;\n",
       "    }\n",
       "\n",
       "    .dataframe tbody tr th {\n",
       "        vertical-align: top;\n",
       "    }\n",
       "\n",
       "    .dataframe thead th {\n",
       "        text-align: right;\n",
       "    }\n",
       "</style>\n",
       "<table border=\"1\" class=\"dataframe\">\n",
       "  <thead>\n",
       "    <tr style=\"text-align: right;\">\n",
       "      <th></th>\n",
       "      <th>aisle_id</th>\n",
       "      <th>aisle</th>\n",
       "    </tr>\n",
       "  </thead>\n",
       "  <tbody>\n",
       "  </tbody>\n",
       "</table>\n",
       "</div>"
      ],
      "text/plain": [
       "Empty DataFrame\n",
       "Columns: [aisle_id, aisle]\n",
       "Index: []"
      ]
     },
     "execution_count": 39,
     "metadata": {},
     "output_type": "execute_result"
    }
   ],
   "source": [
    "aisles[aisles.duplicated()]"
   ]
  },
  {
   "cell_type": "code",
   "execution_count": 40,
   "id": "da7c2822",
   "metadata": {
    "id": "da7c2822"
   },
   "outputs": [],
   "source": [
    "# Revisa si hay IDs duplicadas de productos"
   ]
  },
  {
   "cell_type": "code",
   "execution_count": 41,
   "id": "ebf19eb2",
   "metadata": {},
   "outputs": [
    {
     "data": {
      "text/html": [
       "<div>\n",
       "<style scoped>\n",
       "    .dataframe tbody tr th:only-of-type {\n",
       "        vertical-align: middle;\n",
       "    }\n",
       "\n",
       "    .dataframe tbody tr th {\n",
       "        vertical-align: top;\n",
       "    }\n",
       "\n",
       "    .dataframe thead th {\n",
       "        text-align: right;\n",
       "    }\n",
       "</style>\n",
       "<table border=\"1\" class=\"dataframe\">\n",
       "  <thead>\n",
       "    <tr style=\"text-align: right;\">\n",
       "      <th></th>\n",
       "      <th>aisle_id</th>\n",
       "      <th>aisle</th>\n",
       "    </tr>\n",
       "  </thead>\n",
       "  <tbody>\n",
       "  </tbody>\n",
       "</table>\n",
       "</div>"
      ],
      "text/plain": [
       "Empty DataFrame\n",
       "Columns: [aisle_id, aisle]\n",
       "Index: []"
      ]
     },
     "execution_count": 41,
     "metadata": {},
     "output_type": "execute_result"
    }
   ],
   "source": [
    "aisles[aisles.duplicated(['aisle_id'])]\n"
   ]
  },
  {
   "cell_type": "markdown",
   "id": "274cd06a",
   "metadata": {
    "id": "274cd06a"
   },
   "source": [
    "### `order_products` data frame"
   ]
  },
  {
   "cell_type": "code",
   "execution_count": 42,
   "id": "52326689-84a8-4b8f-a881-7c68780f62c9",
   "metadata": {
    "id": "52326689-84a8-4b8f-a881-7c68780f62c9"
   },
   "outputs": [],
   "source": [
    "# Revisa si hay filas totalmente duplicadas"
   ]
  },
  {
   "cell_type": "code",
   "execution_count": 43,
   "id": "f6938e6d",
   "metadata": {},
   "outputs": [
    {
     "data": {
      "text/html": [
       "<div>\n",
       "<style scoped>\n",
       "    .dataframe tbody tr th:only-of-type {\n",
       "        vertical-align: middle;\n",
       "    }\n",
       "\n",
       "    .dataframe tbody tr th {\n",
       "        vertical-align: top;\n",
       "    }\n",
       "\n",
       "    .dataframe thead th {\n",
       "        text-align: right;\n",
       "    }\n",
       "</style>\n",
       "<table border=\"1\" class=\"dataframe\">\n",
       "  <thead>\n",
       "    <tr style=\"text-align: right;\">\n",
       "      <th></th>\n",
       "      <th>order_id</th>\n",
       "      <th>product_id</th>\n",
       "      <th>add_to_cart_order</th>\n",
       "      <th>reordered</th>\n",
       "    </tr>\n",
       "  </thead>\n",
       "  <tbody>\n",
       "  </tbody>\n",
       "</table>\n",
       "</div>"
      ],
      "text/plain": [
       "Empty DataFrame\n",
       "Columns: [order_id, product_id, add_to_cart_order, reordered]\n",
       "Index: []"
      ]
     },
     "execution_count": 43,
     "metadata": {},
     "output_type": "execute_result"
    }
   ],
   "source": [
    "order_products[order_products.duplicated()]"
   ]
  },
  {
   "cell_type": "code",
   "execution_count": 44,
   "id": "7b861391",
   "metadata": {
    "id": "7b861391"
   },
   "outputs": [],
   "source": [
    "# Vuelve a verificar si hay cualquier otro duplicado engañoso"
   ]
  },
  {
   "cell_type": "code",
   "execution_count": 45,
   "id": "54f4fae4",
   "metadata": {},
   "outputs": [
    {
     "data": {
      "text/plain": [
       "0"
      ]
     },
     "execution_count": 45,
     "metadata": {},
     "output_type": "execute_result"
    }
   ],
   "source": [
    "order_products.duplicated(subset=['order_id', 'product_id']).sum()"
   ]
  },
  {
   "cell_type": "markdown",
   "id": "0b890492",
   "metadata": {
    "id": "0b890492"
   },
   "source": [
    "Describe brevemente tus hallazgos y lo que hiciste con ellos.\n",
    "\n",
    "Revise si el Dataframe order_products tenia duplicados, pero me trae ceros, entonces verifique las columnas order_id y product_id ya que son mis llaves principales para buscar si estas podrian tener duplicados. \n",
    "El resultado es sin duplicados."
   ]
  },
  {
   "cell_type": "markdown",
   "id": "1e46de76",
   "metadata": {
    "id": "1e46de76"
   },
   "source": [
    "## Encuentra y elimina los valores ausentes\n",
    "\n",
    "Al trabajar con valores duplicados, pudimos observar que también nos falta investigar valores ausentes:\n",
    "\n",
    "* La columna `'product_name'` de la tabla products.\n",
    "* La columna `'days_since_prior_order'` de la tabla orders.\n",
    "* La columna `'add_to_cart_order'` de la tabla order_productos."
   ]
  },
  {
   "cell_type": "markdown",
   "id": "c0aebd78",
   "metadata": {
    "id": "c0aebd78"
   },
   "source": [
    "### `products` data frame"
   ]
  },
  {
   "cell_type": "code",
   "execution_count": 46,
   "id": "fe4a8b0f",
   "metadata": {
    "id": "fe4a8b0f"
   },
   "outputs": [],
   "source": [
    "# Encuentra los valores ausentes en la columna 'product_name'"
   ]
  },
  {
   "cell_type": "code",
   "execution_count": 47,
   "id": "ff7de113",
   "metadata": {},
   "outputs": [
    {
     "data": {
      "text/plain": [
       "product_id          0\n",
       "product_name     1258\n",
       "aisle_id            0\n",
       "department_id       0\n",
       "dtype: int64"
      ]
     },
     "execution_count": 47,
     "metadata": {},
     "output_type": "execute_result"
    }
   ],
   "source": [
    "products.isna().sum()"
   ]
  },
  {
   "cell_type": "code",
   "execution_count": 48,
   "id": "1d46caf0",
   "metadata": {},
   "outputs": [
    {
     "data": {
      "text/html": [
       "<div>\n",
       "<style scoped>\n",
       "    .dataframe tbody tr th:only-of-type {\n",
       "        vertical-align: middle;\n",
       "    }\n",
       "\n",
       "    .dataframe tbody tr th {\n",
       "        vertical-align: top;\n",
       "    }\n",
       "\n",
       "    .dataframe thead th {\n",
       "        text-align: right;\n",
       "    }\n",
       "</style>\n",
       "<table border=\"1\" class=\"dataframe\">\n",
       "  <thead>\n",
       "    <tr style=\"text-align: right;\">\n",
       "      <th></th>\n",
       "      <th>product_id</th>\n",
       "      <th>product_name</th>\n",
       "      <th>aisle_id</th>\n",
       "      <th>department_id</th>\n",
       "    </tr>\n",
       "  </thead>\n",
       "  <tbody>\n",
       "    <tr>\n",
       "      <th>37</th>\n",
       "      <td>38</td>\n",
       "      <td>NaN</td>\n",
       "      <td>100</td>\n",
       "      <td>21</td>\n",
       "    </tr>\n",
       "    <tr>\n",
       "      <th>71</th>\n",
       "      <td>72</td>\n",
       "      <td>NaN</td>\n",
       "      <td>100</td>\n",
       "      <td>21</td>\n",
       "    </tr>\n",
       "    <tr>\n",
       "      <th>109</th>\n",
       "      <td>110</td>\n",
       "      <td>NaN</td>\n",
       "      <td>100</td>\n",
       "      <td>21</td>\n",
       "    </tr>\n",
       "    <tr>\n",
       "      <th>296</th>\n",
       "      <td>297</td>\n",
       "      <td>NaN</td>\n",
       "      <td>100</td>\n",
       "      <td>21</td>\n",
       "    </tr>\n",
       "    <tr>\n",
       "      <th>416</th>\n",
       "      <td>417</td>\n",
       "      <td>NaN</td>\n",
       "      <td>100</td>\n",
       "      <td>21</td>\n",
       "    </tr>\n",
       "    <tr>\n",
       "      <th>...</th>\n",
       "      <td>...</td>\n",
       "      <td>...</td>\n",
       "      <td>...</td>\n",
       "      <td>...</td>\n",
       "    </tr>\n",
       "    <tr>\n",
       "      <th>49552</th>\n",
       "      <td>49553</td>\n",
       "      <td>NaN</td>\n",
       "      <td>100</td>\n",
       "      <td>21</td>\n",
       "    </tr>\n",
       "    <tr>\n",
       "      <th>49574</th>\n",
       "      <td>49575</td>\n",
       "      <td>NaN</td>\n",
       "      <td>100</td>\n",
       "      <td>21</td>\n",
       "    </tr>\n",
       "    <tr>\n",
       "      <th>49640</th>\n",
       "      <td>49641</td>\n",
       "      <td>NaN</td>\n",
       "      <td>100</td>\n",
       "      <td>21</td>\n",
       "    </tr>\n",
       "    <tr>\n",
       "      <th>49663</th>\n",
       "      <td>49664</td>\n",
       "      <td>NaN</td>\n",
       "      <td>100</td>\n",
       "      <td>21</td>\n",
       "    </tr>\n",
       "    <tr>\n",
       "      <th>49668</th>\n",
       "      <td>49669</td>\n",
       "      <td>NaN</td>\n",
       "      <td>100</td>\n",
       "      <td>21</td>\n",
       "    </tr>\n",
       "  </tbody>\n",
       "</table>\n",
       "<p>1258 rows × 4 columns</p>\n",
       "</div>"
      ],
      "text/plain": [
       "       product_id product_name  aisle_id  department_id\n",
       "37             38          NaN       100             21\n",
       "71             72          NaN       100             21\n",
       "109           110          NaN       100             21\n",
       "296           297          NaN       100             21\n",
       "416           417          NaN       100             21\n",
       "...           ...          ...       ...            ...\n",
       "49552       49553          NaN       100             21\n",
       "49574       49575          NaN       100             21\n",
       "49640       49641          NaN       100             21\n",
       "49663       49664          NaN       100             21\n",
       "49668       49669          NaN       100             21\n",
       "\n",
       "[1258 rows x 4 columns]"
      ]
     },
     "execution_count": 48,
     "metadata": {},
     "output_type": "execute_result"
    }
   ],
   "source": [
    "products[products['product_name'].isna()]"
   ]
  },
  {
   "cell_type": "markdown",
   "id": "-A6x1AbJhjkp",
   "metadata": {
    "id": "-A6x1AbJhjkp"
   },
   "source": [
    "Describe brevemente cuáles son tus hallazgos.\n",
    "\n",
    "\n",
    "Al filtrar la culumna product_name usando .isna() y haciendo una suma puedo observan todos los valores ausentes en esta columna. 1258 filas donde produc name esta vacia."
   ]
  },
  {
   "cell_type": "code",
   "execution_count": 49,
   "id": "e96167bc",
   "metadata": {
    "id": "e96167bc"
   },
   "outputs": [],
   "source": [
    "#  ¿Todos los nombres de productos ausentes están relacionados con el pasillo con ID 100?"
   ]
  },
  {
   "cell_type": "code",
   "execution_count": 50,
   "id": "84d7f890",
   "metadata": {},
   "outputs": [
    {
     "data": {
      "text/html": [
       "<div>\n",
       "<style scoped>\n",
       "    .dataframe tbody tr th:only-of-type {\n",
       "        vertical-align: middle;\n",
       "    }\n",
       "\n",
       "    .dataframe tbody tr th {\n",
       "        vertical-align: top;\n",
       "    }\n",
       "\n",
       "    .dataframe thead th {\n",
       "        text-align: right;\n",
       "    }\n",
       "</style>\n",
       "<table border=\"1\" class=\"dataframe\">\n",
       "  <thead>\n",
       "    <tr style=\"text-align: right;\">\n",
       "      <th></th>\n",
       "      <th>product_id</th>\n",
       "      <th>product_name</th>\n",
       "      <th>aisle_id</th>\n",
       "      <th>department_id</th>\n",
       "    </tr>\n",
       "  </thead>\n",
       "  <tbody>\n",
       "  </tbody>\n",
       "</table>\n",
       "</div>"
      ],
      "text/plain": [
       "Empty DataFrame\n",
       "Columns: [product_id, product_name, aisle_id, department_id]\n",
       "Index: []"
      ]
     },
     "execution_count": 50,
     "metadata": {},
     "output_type": "execute_result"
    }
   ],
   "source": [
    "products[(products['product_name'].isna()) & (products['aisle_id'] !=100)]"
   ]
  },
  {
   "cell_type": "code",
   "execution_count": 51,
   "id": "8fd0a541",
   "metadata": {
    "id": "8fd0a541"
   },
   "outputs": [
    {
     "data": {
      "text/html": [
       "<div>\n",
       "<style scoped>\n",
       "    .dataframe tbody tr th:only-of-type {\n",
       "        vertical-align: middle;\n",
       "    }\n",
       "\n",
       "    .dataframe tbody tr th {\n",
       "        vertical-align: top;\n",
       "    }\n",
       "\n",
       "    .dataframe thead th {\n",
       "        text-align: right;\n",
       "    }\n",
       "</style>\n",
       "<table border=\"1\" class=\"dataframe\">\n",
       "  <thead>\n",
       "    <tr style=\"text-align: right;\">\n",
       "      <th></th>\n",
       "      <th>product_id</th>\n",
       "      <th>product_name</th>\n",
       "      <th>aisle_id</th>\n",
       "      <th>department_id</th>\n",
       "    </tr>\n",
       "  </thead>\n",
       "  <tbody>\n",
       "  </tbody>\n",
       "</table>\n",
       "</div>"
      ],
      "text/plain": [
       "Empty DataFrame\n",
       "Columns: [product_id, product_name, aisle_id, department_id]\n",
       "Index: []"
      ]
     },
     "execution_count": 51,
     "metadata": {},
     "output_type": "execute_result"
    }
   ],
   "source": [
    "# ¿Todos los nombres de productos ausentes están relacionados con el departamento con ID 21?\n",
    "products[(products['product_name'].isna()) & (products['department_id'] !=21)]"
   ]
  },
  {
   "cell_type": "markdown",
   "id": "qDpdYn1Fht_I",
   "metadata": {
    "id": "qDpdYn1Fht_I"
   },
   "source": [
    "Describe brevemente cuáles son tus hallazgos.\n",
    "\n",
    "Observo que todos los productos vacios tienen la isla 100 y el departamento 21, claramente hay un error de los productos de ese pasillo y ese departamento, "
   ]
  },
  {
   "cell_type": "code",
   "execution_count": 52,
   "id": "325c3464",
   "metadata": {
    "id": "325c3464"
   },
   "outputs": [
    {
     "name": "stdout",
     "output_type": "stream",
     "text": [
      "    aisle_id    aisle\n",
      "99       100  missing\n",
      "    department_id department\n",
      "20             21    missing\n"
     ]
    }
   ],
   "source": [
    "# Usa las tablas department y aisle para revisar los datos del pasillo con ID 100 y el departamento con ID 21.\n",
    "\n",
    "print(aisles[aisles['aisle_id']==100])\n",
    "print(departments[departments['department_id']==21])\n"
   ]
  },
  {
   "cell_type": "markdown",
   "id": "nqhSTUPhhvEJ",
   "metadata": {
    "id": "nqhSTUPhhvEJ"
   },
   "source": [
    "Describe brevemente cuáles son tus hallazgos."
   ]
  },
  {
   "cell_type": "code",
   "execution_count": 53,
   "id": "6b295120",
   "metadata": {
    "id": "6b295120"
   },
   "outputs": [
    {
     "data": {
      "text/plain": [
       "product_id       0\n",
       "product_name     0\n",
       "aisle_id         0\n",
       "department_id    0\n",
       "dtype: int64"
      ]
     },
     "execution_count": 53,
     "metadata": {},
     "output_type": "execute_result"
    }
   ],
   "source": [
    "# Completa los nombres de productos ausentes con 'Unknown'\n",
    "products.fillna('unknown', inplace = True)\n",
    "products.isna().sum()"
   ]
  },
  {
   "cell_type": "markdown",
   "id": "fc70e5ad",
   "metadata": {
    "id": "fc70e5ad"
   },
   "source": [
    "Describe brevemente tus hallazgos y lo que hiciste con ellos.\n",
    "\n",
    "Llenar los valores vacioscon fillna() para no tener que borrar los ID, esto para no perder la informacion que se encuentra en cada uno de ellos. y uso inplace = True para que se guard en la misma tabla. Verifico la informacion lo vuelvo a correr y ya no estan los valores ausentes."
   ]
  },
  {
   "cell_type": "markdown",
   "id": "7eb45c86",
   "metadata": {
    "id": "7eb45c86"
   },
   "source": [
    "### `orders` data frame"
   ]
  },
  {
   "cell_type": "code",
   "execution_count": 54,
   "id": "188ce750",
   "metadata": {},
   "outputs": [
    {
     "name": "stdout",
     "output_type": "stream",
     "text": [
      "<class 'pandas.core.frame.DataFrame'>\n",
      "RangeIndex: 478967 entries, 0 to 478966\n",
      "Data columns (total 6 columns):\n",
      " #   Column                  Non-Null Count   Dtype  \n",
      "---  ------                  --------------   -----  \n",
      " 0   order_id                478967 non-null  int64  \n",
      " 1   user_id                 478967 non-null  int64  \n",
      " 2   order_number            478967 non-null  int64  \n",
      " 3   order_dow               478967 non-null  int64  \n",
      " 4   order_hour_of_day       478967 non-null  int64  \n",
      " 5   days_since_prior_order  450148 non-null  float64\n",
      "dtypes: float64(1), int64(5)\n",
      "memory usage: 21.9 MB\n"
     ]
    }
   ],
   "source": [
    "orders.info()"
   ]
  },
  {
   "cell_type": "code",
   "execution_count": 55,
   "id": "93e41d96",
   "metadata": {
    "id": "93e41d96"
   },
   "outputs": [
    {
     "data": {
      "text/plain": [
       "order_id                      0\n",
       "user_id                       0\n",
       "order_number                  0\n",
       "order_dow                     0\n",
       "order_hour_of_day             0\n",
       "days_since_prior_order    28819\n",
       "dtype: int64"
      ]
     },
     "execution_count": 55,
     "metadata": {},
     "output_type": "execute_result"
    }
   ],
   "source": [
    "# Encuentra los valores ausentes\n",
    "orders.isna().sum()"
   ]
  },
  {
   "cell_type": "code",
   "execution_count": 56,
   "id": "166e5a86",
   "metadata": {
    "id": "166e5a86"
   },
   "outputs": [
    {
     "data": {
      "text/html": [
       "<div>\n",
       "<style scoped>\n",
       "    .dataframe tbody tr th:only-of-type {\n",
       "        vertical-align: middle;\n",
       "    }\n",
       "\n",
       "    .dataframe tbody tr th {\n",
       "        vertical-align: top;\n",
       "    }\n",
       "\n",
       "    .dataframe thead th {\n",
       "        text-align: right;\n",
       "    }\n",
       "</style>\n",
       "<table border=\"1\" class=\"dataframe\">\n",
       "  <thead>\n",
       "    <tr style=\"text-align: right;\">\n",
       "      <th></th>\n",
       "      <th>order_id</th>\n",
       "      <th>user_id</th>\n",
       "      <th>order_number</th>\n",
       "      <th>order_dow</th>\n",
       "      <th>order_hour_of_day</th>\n",
       "      <th>days_since_prior_order</th>\n",
       "    </tr>\n",
       "  </thead>\n",
       "  <tbody>\n",
       "  </tbody>\n",
       "</table>\n",
       "</div>"
      ],
      "text/plain": [
       "Empty DataFrame\n",
       "Columns: [order_id, user_id, order_number, order_dow, order_hour_of_day, days_since_prior_order]\n",
       "Index: []"
      ]
     },
     "execution_count": 56,
     "metadata": {},
     "output_type": "execute_result"
    }
   ],
   "source": [
    "# ¿Hay algún valor ausente que no sea el primer pedido del cliente?\n",
    "orders[(orders['days_since_prior_order'].isna()) & (orders['order_number'] !=1)]"
   ]
  },
  {
   "cell_type": "code",
   "execution_count": 57,
   "id": "67ba8a71",
   "metadata": {
    "scrolled": true
   },
   "outputs": [
    {
     "data": {
      "text/html": [
       "<div>\n",
       "<style scoped>\n",
       "    .dataframe tbody tr th:only-of-type {\n",
       "        vertical-align: middle;\n",
       "    }\n",
       "\n",
       "    .dataframe tbody tr th {\n",
       "        vertical-align: top;\n",
       "    }\n",
       "\n",
       "    .dataframe thead th {\n",
       "        text-align: right;\n",
       "    }\n",
       "</style>\n",
       "<table border=\"1\" class=\"dataframe\">\n",
       "  <thead>\n",
       "    <tr style=\"text-align: right;\">\n",
       "      <th></th>\n",
       "      <th>order_id</th>\n",
       "      <th>user_id</th>\n",
       "      <th>order_number</th>\n",
       "      <th>order_dow</th>\n",
       "      <th>order_hour_of_day</th>\n",
       "      <th>days_since_prior_order</th>\n",
       "    </tr>\n",
       "  </thead>\n",
       "  <tbody>\n",
       "    <tr>\n",
       "      <th>28</th>\n",
       "      <td>133707</td>\n",
       "      <td>182261</td>\n",
       "      <td>1</td>\n",
       "      <td>3</td>\n",
       "      <td>10</td>\n",
       "      <td>NaN</td>\n",
       "    </tr>\n",
       "    <tr>\n",
       "      <th>96</th>\n",
       "      <td>787445</td>\n",
       "      <td>25685</td>\n",
       "      <td>1</td>\n",
       "      <td>6</td>\n",
       "      <td>18</td>\n",
       "      <td>NaN</td>\n",
       "    </tr>\n",
       "    <tr>\n",
       "      <th>100</th>\n",
       "      <td>294410</td>\n",
       "      <td>111449</td>\n",
       "      <td>1</td>\n",
       "      <td>0</td>\n",
       "      <td>19</td>\n",
       "      <td>NaN</td>\n",
       "    </tr>\n",
       "    <tr>\n",
       "      <th>103</th>\n",
       "      <td>2869915</td>\n",
       "      <td>123958</td>\n",
       "      <td>1</td>\n",
       "      <td>4</td>\n",
       "      <td>16</td>\n",
       "      <td>NaN</td>\n",
       "    </tr>\n",
       "    <tr>\n",
       "      <th>104</th>\n",
       "      <td>2521921</td>\n",
       "      <td>42286</td>\n",
       "      <td>1</td>\n",
       "      <td>3</td>\n",
       "      <td>18</td>\n",
       "      <td>NaN</td>\n",
       "    </tr>\n",
       "    <tr>\n",
       "      <th>...</th>\n",
       "      <td>...</td>\n",
       "      <td>...</td>\n",
       "      <td>...</td>\n",
       "      <td>...</td>\n",
       "      <td>...</td>\n",
       "      <td>...</td>\n",
       "    </tr>\n",
       "    <tr>\n",
       "      <th>478895</th>\n",
       "      <td>2589657</td>\n",
       "      <td>205028</td>\n",
       "      <td>1</td>\n",
       "      <td>0</td>\n",
       "      <td>16</td>\n",
       "      <td>NaN</td>\n",
       "    </tr>\n",
       "    <tr>\n",
       "      <th>478896</th>\n",
       "      <td>2222353</td>\n",
       "      <td>141211</td>\n",
       "      <td>1</td>\n",
       "      <td>2</td>\n",
       "      <td>13</td>\n",
       "      <td>NaN</td>\n",
       "    </tr>\n",
       "    <tr>\n",
       "      <th>478922</th>\n",
       "      <td>2272807</td>\n",
       "      <td>204154</td>\n",
       "      <td>1</td>\n",
       "      <td>1</td>\n",
       "      <td>15</td>\n",
       "      <td>NaN</td>\n",
       "    </tr>\n",
       "    <tr>\n",
       "      <th>478926</th>\n",
       "      <td>2499542</td>\n",
       "      <td>68810</td>\n",
       "      <td>1</td>\n",
       "      <td>4</td>\n",
       "      <td>19</td>\n",
       "      <td>NaN</td>\n",
       "    </tr>\n",
       "    <tr>\n",
       "      <th>478945</th>\n",
       "      <td>1387033</td>\n",
       "      <td>22496</td>\n",
       "      <td>1</td>\n",
       "      <td>5</td>\n",
       "      <td>14</td>\n",
       "      <td>NaN</td>\n",
       "    </tr>\n",
       "  </tbody>\n",
       "</table>\n",
       "<p>28819 rows × 6 columns</p>\n",
       "</div>"
      ],
      "text/plain": [
       "        order_id  user_id  order_number  order_dow  order_hour_of_day  \\\n",
       "28        133707   182261             1          3                 10   \n",
       "96        787445    25685             1          6                 18   \n",
       "100       294410   111449             1          0                 19   \n",
       "103      2869915   123958             1          4                 16   \n",
       "104      2521921    42286             1          3                 18   \n",
       "...          ...      ...           ...        ...                ...   \n",
       "478895   2589657   205028             1          0                 16   \n",
       "478896   2222353   141211             1          2                 13   \n",
       "478922   2272807   204154             1          1                 15   \n",
       "478926   2499542    68810             1          4                 19   \n",
       "478945   1387033    22496             1          5                 14   \n",
       "\n",
       "        days_since_prior_order  \n",
       "28                         NaN  \n",
       "96                         NaN  \n",
       "100                        NaN  \n",
       "103                        NaN  \n",
       "104                        NaN  \n",
       "...                        ...  \n",
       "478895                     NaN  \n",
       "478896                     NaN  \n",
       "478922                     NaN  \n",
       "478926                     NaN  \n",
       "478945                     NaN  \n",
       "\n",
       "[28819 rows x 6 columns]"
      ]
     },
     "execution_count": 57,
     "metadata": {},
     "output_type": "execute_result"
    }
   ],
   "source": [
    "orders[orders['days_since_prior_order'].isna()]"
   ]
  },
  {
   "cell_type": "markdown",
   "id": "cd83e880",
   "metadata": {},
   "source": [
    "Primero analizo el DataFrame llamando a .info() en donde observo que days_since_prior_order tiene filas nulas.\n",
    "Para comprobarlo llamo a .isna() para revisar esa columna.\n",
    "Se aprecia la columna order_number con 1 en todas sus filas, para esto valido que la informacion sea correcta, pero todos los valores vacios son 1, esto por que es su 1er compra, no tiene con que compararse ya que es su 1er compra.\n",
    "En lugar de aprecer NaN en la columna days_since_prior_order, yo pondria 0(cero) ya que ese dato hace referencia a que no hay una compra antes.\n"
   ]
  },
  {
   "cell_type": "code",
   "execution_count": 58,
   "id": "04d853da",
   "metadata": {},
   "outputs": [
    {
     "data": {
      "text/plain": [
       "order_id                  0\n",
       "user_id                   0\n",
       "order_number              0\n",
       "order_dow                 0\n",
       "order_hour_of_day         0\n",
       "days_since_prior_order    0\n",
       "dtype: int64"
      ]
     },
     "execution_count": 58,
     "metadata": {},
     "output_type": "execute_result"
    }
   ],
   "source": [
    "orders.fillna(0, inplace=True)\n",
    "orders.isna().sum()\n"
   ]
  },
  {
   "cell_type": "markdown",
   "id": "69dc9ca4",
   "metadata": {
    "id": "69dc9ca4"
   },
   "source": [
    "### `order_products` data frame"
   ]
  },
  {
   "cell_type": "code",
   "execution_count": 59,
   "id": "b8240253",
   "metadata": {
    "id": "b8240253"
   },
   "outputs": [
    {
     "data": {
      "text/plain": [
       "order_id               0\n",
       "product_id             0\n",
       "add_to_cart_order    836\n",
       "reordered              0\n",
       "dtype: int64"
      ]
     },
     "execution_count": 59,
     "metadata": {},
     "output_type": "execute_result"
    }
   ],
   "source": [
    "# Encuentra los valores ausentes\n",
    "order_products.isna().sum()"
   ]
  },
  {
   "cell_type": "code",
   "execution_count": 60,
   "id": "9a78e5ee",
   "metadata": {
    "id": "9a78e5ee"
   },
   "outputs": [
    {
     "data": {
      "text/plain": [
       "(1.0, 64.0)"
      ]
     },
     "execution_count": 60,
     "metadata": {},
     "output_type": "execute_result"
    }
   ],
   "source": [
    "# ¿Cuáles son los valores mínimos y máximos en esta columna?\n",
    "order_products['add_to_cart_order'].min(), order_products['add_to_cart_order'].max()"
   ]
  },
  {
   "cell_type": "markdown",
   "id": "-Z2Ja215jW78",
   "metadata": {
    "id": "-Z2Ja215jW78"
   },
   "source": [
    "Describe brevemente cuáles son tus hallazgos.\n",
    "\n",
    "Llamo el metodo .isna() para revisar si el DataFrame order_products tiene valores vacios,\n",
    "podemos observar que la columna add_to_cart_order tiene 836 valores vacios, sacando los minimos y maximos observo que el maximo de items en el carrito fue de 64 lo cual suena a muchos."
   ]
  },
  {
   "cell_type": "code",
   "execution_count": 61,
   "id": "ab9d0c2b",
   "metadata": {
    "id": "ab9d0c2b"
   },
   "outputs": [
    {
     "data": {
      "text/plain": [
       "[9310,\n",
       " 61355,\n",
       " 102236,\n",
       " 129627,\n",
       " 165801,\n",
       " 171934,\n",
       " 180546,\n",
       " 264710,\n",
       " 293169,\n",
       " 388234,\n",
       " 404157,\n",
       " 678116,\n",
       " 733526,\n",
       " 747668,\n",
       " 813364,\n",
       " 844733,\n",
       " 854647,\n",
       " 871281,\n",
       " 888470,\n",
       " 903110,\n",
       " 936852,\n",
       " 1021563,\n",
       " 1038146,\n",
       " 1169835,\n",
       " 1183255,\n",
       " 1220886,\n",
       " 1302315,\n",
       " 1308785,\n",
       " 1386261,\n",
       " 1477139,\n",
       " 1529171,\n",
       " 1564093,\n",
       " 1598369,\n",
       " 1625713,\n",
       " 1633337,\n",
       " 1648217,\n",
       " 1673227,\n",
       " 1677118,\n",
       " 1713430,\n",
       " 1717990,\n",
       " 1730767,\n",
       " 1800005,\n",
       " 1832957,\n",
       " 1888628,\n",
       " 1916118,\n",
       " 1959075,\n",
       " 1961723,\n",
       " 1968313,\n",
       " 2094761,\n",
       " 2136777,\n",
       " 2170451,\n",
       " 2256933,\n",
       " 2409109,\n",
       " 2449164,\n",
       " 2470674,\n",
       " 2479011,\n",
       " 2621907,\n",
       " 2625444,\n",
       " 2652650,\n",
       " 2721963,\n",
       " 2729254,\n",
       " 2849370,\n",
       " 2926893,\n",
       " 2979697,\n",
       " 2997021,\n",
       " 2999801,\n",
       " 3125735,\n",
       " 3308010,\n",
       " 3347453,\n",
       " 3383594]"
      ]
     },
     "execution_count": 61,
     "metadata": {},
     "output_type": "execute_result"
    }
   ],
   "source": [
    "# Guarda todas las IDs de pedidos que tengan un valor ausente en 'add_to_cart_order'\n",
    "orders_ids_faltantes = order_products[order_products['add_to_cart_order'].isna()]['order_id'].unique()\n",
    "orders_ids_faltantes = sorted(list(orders_ids_faltantes))\n",
    "orders_ids_faltantes"
   ]
  },
  {
   "cell_type": "markdown",
   "id": "f7ea0429",
   "metadata": {},
   "source": [
    "Analizaremos si los 64 ítems son reales, voy a iniciar por  las ordenes donde  add_to_cart_order  esta vacío.\n",
    "Empezamos por order_id y guardo esto en una nueva variable para analizar los orders_ids_faltantes, y filtro por order_productos la columna add_to_cart_order  para sacar de los que estan vacios el order_id y llamo a unique para que traiga los valores unicos.\n",
    "Cambio la tabla a una lista y lo ordeno con sorted.\n",
    "\n",
    "\n"
   ]
  },
  {
   "cell_type": "code",
   "execution_count": 62,
   "id": "54c31695",
   "metadata": {
    "id": "54c31695"
   },
   "outputs": [],
   "source": [
    "# ¿Todos los pedidos con valores ausentes tienen más de 64 productos?\n",
    "# Agrupa todos los pedidos con datos ausentes por su ID de pedido.\n",
    "# Cuenta el número de 'product_id' en cada pedido y revisa el valor mínimo del conteo.\n"
   ]
  },
  {
   "cell_type": "code",
   "execution_count": 63,
   "id": "366c1860",
   "metadata": {},
   "outputs": [
    {
     "data": {
      "text/plain": [
       "order_id\n",
       "3421079      1\n",
       "1288686      1\n",
       "1288764      1\n",
       "1288825      1\n",
       "1288873      1\n",
       "          ... \n",
       "1959075     98\n",
       "171934     104\n",
       "2136777    108\n",
       "3308010    115\n",
       "61355      127\n",
       "Name: product_id, Length: 450046, dtype: int64"
      ]
     },
     "execution_count": 63,
     "metadata": {},
     "output_type": "execute_result"
    }
   ],
   "source": [
    "order_products.groupby('order_id')['product_id'].count().sort_values()"
   ]
  },
  {
   "cell_type": "code",
   "execution_count": 64,
   "id": "6f8418d4",
   "metadata": {},
   "outputs": [
    {
     "data": {
      "text/plain": [
       "order_id\n",
       "9310        65\n",
       "747668      65\n",
       "1598369     65\n",
       "1677118     65\n",
       "2170451     65\n",
       "          ... \n",
       "1959075     98\n",
       "171934     104\n",
       "2136777    108\n",
       "3308010    115\n",
       "61355      127\n",
       "Name: product_id, Length: 70, dtype: int64"
      ]
     },
     "execution_count": 64,
     "metadata": {},
     "output_type": "execute_result"
    }
   ],
   "source": [
    "order_products[order_products['order_id'].isin(orders_ids_faltantes)].groupby('order_id')['product_id'].count().sort_values()"
   ]
  },
  {
   "cell_type": "code",
   "execution_count": 65,
   "id": "7a987d08",
   "metadata": {
    "id": "7a987d08"
   },
   "outputs": [],
   "source": [
    "# Remplaza los valores ausentes en la columna 'add_to_cart? con 999 y convierte la columna al tipo entero."
   ]
  },
  {
   "cell_type": "code",
   "execution_count": 105,
   "id": "f96a65c4",
   "metadata": {},
   "outputs": [
    {
     "data": {
      "text/plain": [
       "order_id             0\n",
       "product_id           0\n",
       "add_to_cart_order    0\n",
       "reordered            0\n",
       "dtype: int64"
      ]
     },
     "execution_count": 105,
     "metadata": {},
     "output_type": "execute_result"
    }
   ],
   "source": [
    "order_products['add_to_cart_order'] = order_products['add_to_cart_order'].fillna(999).astype('int')\n",
    "order_products.isna().sum()"
   ]
  },
  {
   "cell_type": "markdown",
   "id": "fea4bcc7",
   "metadata": {
    "id": "fea4bcc7"
   },
   "source": [
    "Describe brevemente tus hallazgos y lo que hiciste con ellos.\n",
    "\n",
    "Quiero saber si todas las órdenes que están vacías tienen más de 64 productos o bien cuántos productos tienen, para esto quiero contar los productos que tiene cada order_id y  product_id llamó a groupby y cuento los productos por orden depues los ordeno. de mayor a menor con  ascending = False.\n",
    "Ahora me aparece que una orden tiene 127 pero el mexico es 64, entonces el sistema no registro la información  de esas órdenes que se encuentra como nulo.\n",
    "\n",
    "Entonces llamo a .isin()  para saber que está dentro de cada una de esas órdenes, para saber si mis ordenes vacias corresponden a las nulas.\n",
    "Reemplazamos los valores ausentes con .fillna() de add_to_car con 999 para que dejen de aparecer como nulo y que sea entero.\n"
   ]
  },
  {
   "cell_type": "markdown",
   "id": "UjrOIwTcz3ri",
   "metadata": {
    "id": "UjrOIwTcz3ri"
   },
   "source": [
    "# Paso 3. Análisis de los datos\n",
    "\n",
    "Una vez los datos estén procesados y listos, haz el siguiente análisis:"
   ]
  },
  {
   "cell_type": "markdown",
   "id": "turkish-kidney",
   "metadata": {
    "id": "turkish-kidney"
   },
   "source": [
    "# [A] Fácil (deben completarse todos para aprobar)\n",
    "\n",
    "1. Verifica que los valores en las columnas `'order_hour_of_day'` y `'order_dow'` en la tabla orders sean razonables (es decir, `'order_hour_of_day'` oscile entre 0 y 23 y `'order_dow'` oscile entre 0 y 6).\n",
    "2. Crea un gráfico que muestre el número de personas que hacen pedidos dependiendo de la hora del día.\n",
    "3. Crea un gráfico que muestre qué día de la semana la gente hace sus compras.\n",
    "4. Crea un gráfico que muestre el tiempo que la gente espera hasta hacer su siguiente pedido, y comenta sobre los valores mínimos y máximos."
   ]
  },
  {
   "cell_type": "markdown",
   "id": "short-capability",
   "metadata": {
    "id": "short-capability"
   },
   "source": [
    "### [A1] Verifica que los valores sean sensibles"
   ]
  },
  {
   "cell_type": "code",
   "execution_count": 67,
   "id": "a58402fd",
   "metadata": {},
   "outputs": [
    {
     "name": "stdout",
     "output_type": "stream",
     "text": [
      "<class 'pandas.core.frame.DataFrame'>\n",
      "RangeIndex: 478967 entries, 0 to 478966\n",
      "Data columns (total 6 columns):\n",
      " #   Column                  Non-Null Count   Dtype  \n",
      "---  ------                  --------------   -----  \n",
      " 0   order_id                478967 non-null  int64  \n",
      " 1   user_id                 478967 non-null  int64  \n",
      " 2   order_number            478967 non-null  int64  \n",
      " 3   order_dow               478967 non-null  int64  \n",
      " 4   order_hour_of_day       478967 non-null  int64  \n",
      " 5   days_since_prior_order  478967 non-null  float64\n",
      "dtypes: float64(1), int64(5)\n",
      "memory usage: 21.9 MB\n"
     ]
    }
   ],
   "source": [
    "orders.info()"
   ]
  },
  {
   "cell_type": "code",
   "execution_count": 68,
   "id": "growing-fruit",
   "metadata": {
    "id": "growing-fruit"
   },
   "outputs": [
    {
     "data": {
      "text/plain": [
       "0      3180\n",
       "1      1763\n",
       "2      1004\n",
       "3       770\n",
       "4       765\n",
       "5      1371\n",
       "6      4215\n",
       "7     13043\n",
       "8     25024\n",
       "9     35896\n",
       "10    40578\n",
       "11    40032\n",
       "12    38034\n",
       "13    39007\n",
       "14    39631\n",
       "15    39789\n",
       "16    38112\n",
       "17    31930\n",
       "18    25510\n",
       "19    19547\n",
       "20    14624\n",
       "21    11019\n",
       "22     8512\n",
       "23     5611\n",
       "Name: order_hour_of_day, dtype: int64"
      ]
     },
     "execution_count": 68,
     "metadata": {},
     "output_type": "execute_result"
    }
   ],
   "source": [
    "orders['order_hour_of_day'].value_counts().sort_index()"
   ]
  },
  {
   "cell_type": "code",
   "execution_count": 69,
   "id": "fb887330",
   "metadata": {},
   "outputs": [
    {
     "data": {
      "text/plain": [
       "0    84090\n",
       "1    82185\n",
       "2    65833\n",
       "3    60912\n",
       "4    59810\n",
       "5    63488\n",
       "6    62649\n",
       "Name: order_dow, dtype: int64"
      ]
     },
     "execution_count": 69,
     "metadata": {},
     "output_type": "execute_result"
    }
   ],
   "source": [
    "orders['order_dow'].value_counts().sort_index()"
   ]
  },
  {
   "cell_type": "markdown",
   "id": "a6743a70",
   "metadata": {
    "id": "a6743a70"
   },
   "source": [
    "### [A2] Para cada hora del día, ¿cuántas personas hacen órdenes?"
   ]
  },
  {
   "cell_type": "code",
   "execution_count": 70,
   "id": "a36cca27",
   "metadata": {
    "id": "a36cca27"
   },
   "outputs": [
    {
     "data": {
      "text/plain": [
       "0      3180\n",
       "1      1763\n",
       "2      1004\n",
       "3       770\n",
       "4       765\n",
       "5      1371\n",
       "6      4215\n",
       "7     13043\n",
       "8     25024\n",
       "9     35896\n",
       "10    40578\n",
       "11    40032\n",
       "12    38034\n",
       "13    39007\n",
       "14    39631\n",
       "15    39789\n",
       "16    38112\n",
       "17    31930\n",
       "18    25510\n",
       "19    19547\n",
       "20    14624\n",
       "21    11019\n",
       "22     8512\n",
       "23     5611\n",
       "Name: order_hour_of_day, dtype: int64"
      ]
     },
     "execution_count": 70,
     "metadata": {},
     "output_type": "execute_result"
    }
   ],
   "source": [
    "shopping_hour_of_day = orders['order_hour_of_day'].value_counts().sort_index()\n",
    "shopping_hour_of_day"
   ]
  },
  {
   "cell_type": "code",
   "execution_count": 71,
   "id": "7d21de6c",
   "metadata": {},
   "outputs": [
    {
     "data": {
      "image/png": "[encoded data removed]",
      "text/plain": [
       "<Figure size 640x480 with 1 Axes>"
      ]
     },
     "metadata": {},
     "output_type": "display_data"
    }
   ],
   "source": [
    "shopping_hour_of_day.plot(\n",
    "    kind='bar',\n",
    "    title='Ordenes por hora del dia',\n",
    "    xlabel='Hora del dia',\n",
    "    ylabel='Numero de ordenes'\n",
    ")\n",
    "plt.show()"
   ]
  },
  {
   "cell_type": "markdown",
   "id": "documented-command",
   "metadata": {
    "id": "documented-command"
   },
   "source": [
    "### [A3] ¿Qué día de la semana compran víveres las personas?"
   ]
  },
  {
   "cell_type": "code",
   "execution_count": 72,
   "id": "chief-digit",
   "metadata": {
    "id": "chief-digit"
   },
   "outputs": [
    {
     "data": {
      "text/plain": [
       "order_dow\n",
       "0    84090\n",
       "1    82185\n",
       "2    65833\n",
       "3    60912\n",
       "4    59810\n",
       "5    63488\n",
       "6    62649\n",
       "Name: order_id, dtype: int64"
      ]
     },
     "execution_count": 72,
     "metadata": {},
     "output_type": "execute_result"
    }
   ],
   "source": [
    "orders_per_day = orders.groupby('order_dow')['order_id'].count().sort_index()\n",
    "orders_per_day"
   ]
  },
  {
   "cell_type": "code",
   "execution_count": 73,
   "id": "9807d049",
   "metadata": {},
   "outputs": [
    {
     "data": {
      "image/png": "[encoded data removed]",
      "text/plain": [
       "<Figure size 640x480 with 1 Axes>"
      ]
     },
     "metadata": {},
     "output_type": "display_data"
    }
   ],
   "source": [
    "#Grafico\n",
    "\n",
    "orders_per_day.plot(\n",
    "    kind='bar',\n",
    "    title='Compras de Clientes por dia de la semana',\n",
    "    xlabel='Dias de la semana',\n",
    "    ylabel='Ordenes de pedidos'\n",
    ")\n",
    "plt.show()"
   ]
  },
  {
   "cell_type": "markdown",
   "id": "dominant-lightning",
   "metadata": {
    "id": "dominant-lightning"
   },
   "source": [
    "\n",
    "\n",
    "La grafica muestra que los clientes hacen sus compras los dias domingos, tal vez esto se debe a a que son usualmente sus dias de descanso."
   ]
  },
  {
   "cell_type": "markdown",
   "id": "cutting-concert",
   "metadata": {
    "id": "cutting-concert"
   },
   "source": [
    "### [A4] ¿Cuánto tiempo esperan las personas hasta hacer otro pedido? Comenta sobre los valores mínimos y máximos."
   ]
  },
  {
   "cell_type": "code",
   "execution_count": 74,
   "id": "c231f523",
   "metadata": {
    "id": "c231f523"
   },
   "outputs": [
    {
     "data": {
      "text/plain": [
       "(0.0, 30.0)"
      ]
     },
     "execution_count": 74,
     "metadata": {},
     "output_type": "execute_result"
    }
   ],
   "source": [
    "order_time = orders['days_since_prior_order'].min(), orders['days_since_prior_order'].max()\n",
    "order_time"
   ]
  },
  {
   "cell_type": "code",
   "execution_count": 75,
   "id": "914bd838",
   "metadata": {},
   "outputs": [
    {
     "data": {
      "image/png": "[encoded data removed]",
      "text/plain": [
       "<Figure size 640x480 with 1 Axes>"
      ]
     },
     "metadata": {},
     "output_type": "display_data"
    }
   ],
   "source": [
    "#Grafico\n",
    "\n",
    "orders['days_since_prior_order'].value_counts().sort_index().plot(kind='bar',\n",
    "                                                                  title='Days since prior order',\n",
    "                                                                  xlabel='Number of days',\n",
    "                                                                  ylabel='Number of orders'\n",
    "                                                                 )\n",
    "plt.show()"
   ]
  },
  {
   "cell_type": "markdown",
   "id": "discrete-vertex",
   "metadata": {
    "id": "discrete-vertex"
   },
   "source": [
    "\n",
    "\n",
    "La mayoria de las personas tardan como maximo 30 días para volver a hacer un pedido.\n",
    "Aun que la grafica muestra que una gran parte tambien hace pedidos cada semana.\n"
   ]
  },
  {
   "cell_type": "markdown",
   "id": "tight-staff",
   "metadata": {
    "id": "tight-staff"
   },
   "source": [
    "# [B] Intermedio (deben completarse todos para aprobar)\n",
    "\n",
    "1. ¿Existe alguna diferencia entre las distribuciones `'order_hour_of_day'` de los miércoles y los sábados? Traza gráficos de barra de `'order_hour_of_day'` para ambos días en la misma figura y describe las diferencias que observes.\n",
    "2. Grafica la distribución para el número de órdenes que hacen los clientes (es decir, cuántos clientes hicieron solo 1 pedido, cuántos hicieron 2, cuántos 3, y así sucesivamente...).\n",
    "3. ¿Cuáles son los 20 principales productos que se piden con más frecuencia (muestra su identificación y nombre)?"
   ]
  },
  {
   "cell_type": "markdown",
   "id": "packed-classic",
   "metadata": {
    "id": "packed-classic"
   },
   "source": [
    "### [B1] Diferencia entre miércoles y sábados para  `'order_hour_of_day'`. Traza gráficos de barra para los dos días y describe las diferencias que veas."
   ]
  },
  {
   "cell_type": "code",
   "execution_count": 76,
   "id": "d89b8403",
   "metadata": {
    "id": "d89b8403"
   },
   "outputs": [],
   "source": [
    "wednesday_filter = orders['order_dow'] ==3"
   ]
  },
  {
   "cell_type": "code",
   "execution_count": 77,
   "id": "94e54e8a",
   "metadata": {
    "id": "94e54e8a"
   },
   "outputs": [],
   "source": [
    "orders_wednesday = orders[wednesday_filter]['order_hour_of_day'].value_counts().sort_index()"
   ]
  },
  {
   "cell_type": "code",
   "execution_count": 78,
   "id": "797c90a8",
   "metadata": {
    "id": "797c90a8"
   },
   "outputs": [
    {
     "data": {
      "text/plain": [
       "0      373\n",
       "1      215\n",
       "2      121\n",
       "3      101\n",
       "4      108\n",
       "5      170\n",
       "6      643\n",
       "7     1732\n",
       "8     3125\n",
       "9     4490\n",
       "10    5026\n",
       "11    5004\n",
       "12    4688\n",
       "13    4674\n",
       "14    4774\n",
       "15    5163\n",
       "16    4976\n",
       "17    4175\n",
       "18    3463\n",
       "19    2652\n",
       "20    1917\n",
       "21    1450\n",
       "22    1154\n",
       "23     718\n",
       "Name: order_hour_of_day, dtype: int64"
      ]
     },
     "execution_count": 78,
     "metadata": {},
     "output_type": "execute_result"
    }
   ],
   "source": [
    "orders_wednesday"
   ]
  },
  {
   "cell_type": "code",
   "execution_count": 79,
   "id": "35bcea30",
   "metadata": {
    "id": "35bcea30"
   },
   "outputs": [],
   "source": [
    "saturday_filter = orders['order_dow'] ==6"
   ]
  },
  {
   "cell_type": "code",
   "execution_count": 80,
   "id": "ae7bdfee",
   "metadata": {},
   "outputs": [],
   "source": [
    "orders_saturday = orders[saturday_filter]['order_hour_of_day'].value_counts().sort_index()"
   ]
  },
  {
   "cell_type": "code",
   "execution_count": 81,
   "id": "8712f337",
   "metadata": {},
   "outputs": [
    {
     "data": {
      "text/plain": [
       "0      464\n",
       "1      254\n",
       "2      177\n",
       "3      125\n",
       "4      118\n",
       "5      161\n",
       "6      451\n",
       "7     1619\n",
       "8     3246\n",
       "9     4311\n",
       "10    4919\n",
       "11    5116\n",
       "12    5132\n",
       "13    5323\n",
       "14    5375\n",
       "15    5188\n",
       "16    5029\n",
       "17    4295\n",
       "18    3338\n",
       "19    2610\n",
       "20    1847\n",
       "21    1473\n",
       "22    1185\n",
       "23     893\n",
       "Name: order_hour_of_day, dtype: int64"
      ]
     },
     "execution_count": 81,
     "metadata": {},
     "output_type": "execute_result"
    }
   ],
   "source": [
    "orders_saturday"
   ]
  },
  {
   "cell_type": "code",
   "execution_count": 82,
   "id": "1af6d6af",
   "metadata": {},
   "outputs": [],
   "source": [
    "wednesday_saturday = pd.concat([orders_saturday, orders_wednesday], axis = 1)"
   ]
  },
  {
   "cell_type": "code",
   "execution_count": 83,
   "id": "559c4428",
   "metadata": {},
   "outputs": [
    {
     "data": {
      "text/html": [
       "<div>\n",
       "<style scoped>\n",
       "    .dataframe tbody tr th:only-of-type {\n",
       "        vertical-align: middle;\n",
       "    }\n",
       "\n",
       "    .dataframe tbody tr th {\n",
       "        vertical-align: top;\n",
       "    }\n",
       "\n",
       "    .dataframe thead th {\n",
       "        text-align: right;\n",
       "    }\n",
       "</style>\n",
       "<table border=\"1\" class=\"dataframe\">\n",
       "  <thead>\n",
       "    <tr style=\"text-align: right;\">\n",
       "      <th></th>\n",
       "      <th>Saturday</th>\n",
       "      <th>wednesday</th>\n",
       "    </tr>\n",
       "  </thead>\n",
       "  <tbody>\n",
       "    <tr>\n",
       "      <th>0</th>\n",
       "      <td>464</td>\n",
       "      <td>373</td>\n",
       "    </tr>\n",
       "    <tr>\n",
       "      <th>1</th>\n",
       "      <td>254</td>\n",
       "      <td>215</td>\n",
       "    </tr>\n",
       "    <tr>\n",
       "      <th>2</th>\n",
       "      <td>177</td>\n",
       "      <td>121</td>\n",
       "    </tr>\n",
       "    <tr>\n",
       "      <th>3</th>\n",
       "      <td>125</td>\n",
       "      <td>101</td>\n",
       "    </tr>\n",
       "    <tr>\n",
       "      <th>4</th>\n",
       "      <td>118</td>\n",
       "      <td>108</td>\n",
       "    </tr>\n",
       "    <tr>\n",
       "      <th>5</th>\n",
       "      <td>161</td>\n",
       "      <td>170</td>\n",
       "    </tr>\n",
       "    <tr>\n",
       "      <th>6</th>\n",
       "      <td>451</td>\n",
       "      <td>643</td>\n",
       "    </tr>\n",
       "    <tr>\n",
       "      <th>7</th>\n",
       "      <td>1619</td>\n",
       "      <td>1732</td>\n",
       "    </tr>\n",
       "    <tr>\n",
       "      <th>8</th>\n",
       "      <td>3246</td>\n",
       "      <td>3125</td>\n",
       "    </tr>\n",
       "    <tr>\n",
       "      <th>9</th>\n",
       "      <td>4311</td>\n",
       "      <td>4490</td>\n",
       "    </tr>\n",
       "    <tr>\n",
       "      <th>10</th>\n",
       "      <td>4919</td>\n",
       "      <td>5026</td>\n",
       "    </tr>\n",
       "    <tr>\n",
       "      <th>11</th>\n",
       "      <td>5116</td>\n",
       "      <td>5004</td>\n",
       "    </tr>\n",
       "    <tr>\n",
       "      <th>12</th>\n",
       "      <td>5132</td>\n",
       "      <td>4688</td>\n",
       "    </tr>\n",
       "    <tr>\n",
       "      <th>13</th>\n",
       "      <td>5323</td>\n",
       "      <td>4674</td>\n",
       "    </tr>\n",
       "    <tr>\n",
       "      <th>14</th>\n",
       "      <td>5375</td>\n",
       "      <td>4774</td>\n",
       "    </tr>\n",
       "    <tr>\n",
       "      <th>15</th>\n",
       "      <td>5188</td>\n",
       "      <td>5163</td>\n",
       "    </tr>\n",
       "    <tr>\n",
       "      <th>16</th>\n",
       "      <td>5029</td>\n",
       "      <td>4976</td>\n",
       "    </tr>\n",
       "    <tr>\n",
       "      <th>17</th>\n",
       "      <td>4295</td>\n",
       "      <td>4175</td>\n",
       "    </tr>\n",
       "    <tr>\n",
       "      <th>18</th>\n",
       "      <td>3338</td>\n",
       "      <td>3463</td>\n",
       "    </tr>\n",
       "    <tr>\n",
       "      <th>19</th>\n",
       "      <td>2610</td>\n",
       "      <td>2652</td>\n",
       "    </tr>\n",
       "    <tr>\n",
       "      <th>20</th>\n",
       "      <td>1847</td>\n",
       "      <td>1917</td>\n",
       "    </tr>\n",
       "    <tr>\n",
       "      <th>21</th>\n",
       "      <td>1473</td>\n",
       "      <td>1450</td>\n",
       "    </tr>\n",
       "    <tr>\n",
       "      <th>22</th>\n",
       "      <td>1185</td>\n",
       "      <td>1154</td>\n",
       "    </tr>\n",
       "    <tr>\n",
       "      <th>23</th>\n",
       "      <td>893</td>\n",
       "      <td>718</td>\n",
       "    </tr>\n",
       "  </tbody>\n",
       "</table>\n",
       "</div>"
      ],
      "text/plain": [
       "    Saturday  wednesday\n",
       "0        464        373\n",
       "1        254        215\n",
       "2        177        121\n",
       "3        125        101\n",
       "4        118        108\n",
       "5        161        170\n",
       "6        451        643\n",
       "7       1619       1732\n",
       "8       3246       3125\n",
       "9       4311       4490\n",
       "10      4919       5026\n",
       "11      5116       5004\n",
       "12      5132       4688\n",
       "13      5323       4674\n",
       "14      5375       4774\n",
       "15      5188       5163\n",
       "16      5029       4976\n",
       "17      4295       4175\n",
       "18      3338       3463\n",
       "19      2610       2652\n",
       "20      1847       1917\n",
       "21      1473       1450\n",
       "22      1185       1154\n",
       "23       893        718"
      ]
     },
     "execution_count": 83,
     "metadata": {},
     "output_type": "execute_result"
    }
   ],
   "source": [
    "wednesday_saturday.columns = ['Saturday', 'wednesday']\n",
    "wednesday_saturday"
   ]
  },
  {
   "cell_type": "code",
   "execution_count": 84,
   "id": "cc632979",
   "metadata": {},
   "outputs": [
    {
     "data": {
      "image/png": "[encoded data removed]",
      "text/plain": [
       "<Figure size 640x480 with 1 Axes>"
      ]
     },
     "metadata": {},
     "output_type": "display_data"
    }
   ],
   "source": [
    "wednesday_saturday.plot(\n",
    "    kind='bar',\n",
    "    title='Comparacion de ordenes wednesday y saturday',\n",
    "    xlabel='Hora del dia',\n",
    "    ylabel='Numero de ordenes'\n",
    ")\n",
    "plt.show()"
   ]
  },
  {
   "cell_type": "markdown",
   "id": "charitable-congo",
   "metadata": {
    "id": "charitable-congo"
   },
   "source": [
    "\n",
    "\n",
    "El grafico nos muestra que la mayoria de las personas hacen sus compras los días sabados, seguramente por que son horarios en los que no se encuentran laborandoo bien por que es la hora que salen a comer."
   ]
  },
  {
   "cell_type": "markdown",
   "id": "e3891143",
   "metadata": {
    "id": "e3891143"
   },
   "source": [
    "### [B2] ¿Cuál es la distribución para el número de pedidos por cliente?"
   ]
  },
  {
   "cell_type": "code",
   "execution_count": 85,
   "id": "d8c26c23",
   "metadata": {
    "id": "d8c26c23"
   },
   "outputs": [
    {
     "data": {
      "text/plain": [
       "user_id\n",
       "149605    28\n",
       "193164    26\n",
       "78375     25\n",
       "66664     24\n",
       "148162    24\n",
       "          ..\n",
       "121642     1\n",
       "56614      1\n",
       "56611      1\n",
       "56608      1\n",
       "157554     1\n",
       "Name: order_number, Length: 157437, dtype: int64"
      ]
     },
     "execution_count": 85,
     "metadata": {},
     "output_type": "execute_result"
    }
   ],
   "source": [
    "totalOrdersByUser = orders.groupby('user_id')['order_number'].count().sort_values(ascending=False)\n",
    "totalOrdersByUser\n"
   ]
  },
  {
   "cell_type": "markdown",
   "id": "54a0319c",
   "metadata": {
    "id": "54a0319c"
   },
   "source": [
    "### [B3] ¿Cuáles son los 20 productos más populares (muestra su ID y nombre)?"
   ]
  },
  {
   "cell_type": "code",
   "execution_count": 86,
   "id": "exterior-arizona",
   "metadata": {
    "id": "exterior-arizona",
    "scrolled": true
   },
   "outputs": [],
   "source": [
    "df_merge = order_products.merge(products, on='product_id')\n",
    "top_ordered_products = df_merge.groupby(['product_id', 'product_name']).size().sort_values(ascending=True)"
   ]
  },
  {
   "cell_type": "code",
   "execution_count": 87,
   "id": "universal-facial",
   "metadata": {
    "id": "universal-facial"
   },
   "outputs": [
    {
     "data": {
      "text/plain": [
       "product_id  product_name                                                 \n",
       "37535       Voluminous Extra-Volume Collagen Mascara - Blackest Black 680        1\n",
       "11183       Gluten Free Wheat Free Chocolate Cake Mix                            1\n",
       "3719        Dark Brown Henna Cream                                               1\n",
       "13788       Sweet Tangerine All Good Lips SPF 12 Lip Balm with Clear Zinc        1\n",
       "32383       Homestyle Gravy Mix                                                  1\n",
       "                                                                             ...  \n",
       "47209       Organic Hass Avocado                                             29773\n",
       "21903       Organic Baby Spinach                                             33971\n",
       "21137       Organic Strawberries                                             37039\n",
       "13176       Bag of Organic Bananas                                           53297\n",
       "24852       Banana                                                           66050\n",
       "Length: 45573, dtype: int64"
      ]
     },
     "execution_count": 87,
     "metadata": {},
     "output_type": "execute_result"
    }
   ],
   "source": [
    "top_ordered_products"
   ]
  },
  {
   "cell_type": "markdown",
   "id": "7df00f47",
   "metadata": {
    "id": "7df00f47"
   },
   "source": [
    "Escribe aquí tus conclusiones"
   ]
  },
  {
   "cell_type": "markdown",
   "id": "gross-theme",
   "metadata": {
    "id": "gross-theme"
   },
   "source": [
    "# [C] Difícil (deben completarse todos para aprobar)\n",
    "\n",
    "1. ¿Cuántos artículos suelen comprar las personas en un pedido? ¿Cómo es la distribución?\n",
    "2. ¿Cuáles son los 20 principales artículos que vuelven a pedirse con mayor frecuencia (muestra sus nombres e IDs de los productos)?\n",
    "3. Para cada producto, ¿cuál es la tasa de repetición del pedido (número de repeticiones de pedido/total de pedidos?\n",
    "4. Para cada cliente, ¿qué proporción de los productos que pidió ya los había pedido? Calcula la tasa de repetición de pedido para cada usuario en lugar de para cada producto.\n",
    "5. ¿Cuáles son los 20 principales artículos que la gente pone primero en sus carritos (muestra las IDs de los productos, sus nombres, y el número de veces en que fueron el primer artículo en añadirse al carrito)?"
   ]
  },
  {
   "cell_type": "markdown",
   "id": "romantic-deposit",
   "metadata": {
    "id": "romantic-deposit"
   },
   "source": [
    "### [C1] ¿Cuántos artículos compran normalmente las personas en un pedido? ¿Cómo es la distribución?"
   ]
  },
  {
   "cell_type": "code",
   "execution_count": 88,
   "id": "virtual-punch",
   "metadata": {
    "id": "virtual-punch"
   },
   "outputs": [],
   "source": [
    "total_products_orders = order_products.groupby('order_id')['product_id'].count()"
   ]
  },
  {
   "cell_type": "code",
   "execution_count": 89,
   "id": "sensitive-breathing",
   "metadata": {
    "id": "sensitive-breathing"
   },
   "outputs": [],
   "source": [
    "histograma_valores = total_products_orders.value_counts().sort_index()"
   ]
  },
  {
   "cell_type": "code",
   "execution_count": 90,
   "id": "completed-frank",
   "metadata": {
    "id": "completed-frank"
   },
   "outputs": [
    {
     "data": {
      "image/png": "[encoded data removed]",
      "text/plain": [
       "<Figure size 640x480 with 1 Axes>"
      ]
     },
     "metadata": {},
     "output_type": "display_data"
    }
   ],
   "source": [
    "histograma_valores[histograma_valores.index < 40].plot(\n",
    "    kind='bar',\n",
    "    title='Productos comprados por cada orden',\n",
    "    xlabel='Numero de productos',\n",
    "    ylabel='Numero de ordenes'\n",
    ")\n",
    "plt.show()\n",
    "    "
   ]
  },
  {
   "cell_type": "code",
   "execution_count": 91,
   "id": "6f10f405",
   "metadata": {},
   "outputs": [
    {
     "data": {
      "image/png": "[encoded data removed]",
      "text/plain": [
       "<Figure size 640x480 with 1 Axes>"
      ]
     },
     "metadata": {},
     "output_type": "display_data"
    }
   ],
   "source": [
    "total_products_orders.plot(\n",
    "    kind='hist',\n",
    "    title='Productos comprados por cada orden',\n",
    "    xlabel='Numero de productos',\n",
    "    ylabel='Numero de ordenes'\n",
    "    \n",
    ")\n",
    "plt.show()"
   ]
  },
  {
   "cell_type": "code",
   "execution_count": 92,
   "id": "f9f539e9",
   "metadata": {},
   "outputs": [
    {
     "data": {
      "text/plain": [
       "order_id\n",
       "4          13\n",
       "9          15\n",
       "11          5\n",
       "19          3\n",
       "20          8\n",
       "           ..\n",
       "3421034    17\n",
       "3421053     9\n",
       "3421071     5\n",
       "3421077     4\n",
       "3421079     1\n",
       "Name: product_id, Length: 450046, dtype: int64"
      ]
     },
     "execution_count": 92,
     "metadata": {},
     "output_type": "execute_result"
    }
   ],
   "source": [
    "total_products_orders"
   ]
  },
  {
   "cell_type": "markdown",
   "id": "designed-mortality",
   "metadata": {
    "id": "designed-mortality"
   },
   "source": [
    "Escribe aquí tus conclusiones"
   ]
  },
  {
   "cell_type": "markdown",
   "id": "5e6b5537",
   "metadata": {
    "id": "5e6b5537"
   },
   "source": [
    "### [C2] ¿Cuáles son los 20 principales artículos que vuelven a pedirse con mayor frecuencia (muestra sus nombres e IDs de los productos)?"
   ]
  },
  {
   "cell_type": "markdown",
   "id": "6be0017e",
   "metadata": {},
   "source": [
    "Sin duda alguna muestra de manera más clara el orden en que se vuelven a pedir con mayor frecuencia los articulos y sus nombres.\n",
    "Modifique .sort_values(ascending=True)  a False y la grafica me muestra mas claro el resultado."
   ]
  },
  {
   "cell_type": "code",
   "execution_count": 93,
   "id": "9374e55a",
   "metadata": {
    "id": "9374e55a"
   },
   "outputs": [],
   "source": [
    "reorder_products = order_products[order_products['reordered'] == 1]\n"
   ]
  },
  {
   "cell_type": "code",
   "execution_count": 94,
   "id": "possible-change",
   "metadata": {
    "id": "possible-change",
    "scrolled": true
   },
   "outputs": [],
   "source": [
    "df_merge = reorder_products.merge(products, on='product_id')\n",
    "top_reordered_products = df_merge.groupby(['product_id', 'product_name']).size().sort_values(ascending=False)"
   ]
  },
  {
   "cell_type": "code",
   "execution_count": 95,
   "id": "professional-surfing",
   "metadata": {
    "id": "professional-surfing",
    "scrolled": true
   },
   "outputs": [
    {
     "name": "stdout",
     "output_type": "stream",
     "text": [
      "product_id  product_name            \n",
      "24852       Banana                      55763\n",
      "13176       Bag of Organic Bananas      44450\n",
      "21137       Organic Strawberries        28639\n",
      "21903       Organic Baby Spinach        26233\n",
      "47209       Organic Hass Avocado        23629\n",
      "47766       Organic Avocado             18743\n",
      "27845       Organic Whole Milk          16251\n",
      "47626       Large Lemon                 15044\n",
      "27966       Organic Raspberries         14748\n",
      "16797       Strawberries                13945\n",
      "26209       Limes                       13327\n",
      "22935       Organic Yellow Onion        11145\n",
      "24964       Organic Garlic              10411\n",
      "45007       Organic Zucchini            10076\n",
      "49683       Cucumber Kirby               9538\n",
      "28204       Organic Fuji Apple           8989\n",
      "8277        Apple Honeycrisp Organic     8836\n",
      "39275       Organic Blueberries          8799\n",
      "5876        Organic Lemon                8412\n",
      "49235       Organic Half & Half          8389\n",
      "dtype: int64\n"
     ]
    }
   ],
   "source": [
    "print(top_reordered_products.head(20))"
   ]
  },
  {
   "cell_type": "code",
   "execution_count": 96,
   "id": "300ffb72",
   "metadata": {},
   "outputs": [
    {
     "data": {
      "image/png": "[encoded data removed]",
      "text/plain": [
       "<Figure size 640x480 with 1 Axes>"
      ]
     },
     "metadata": {},
     "output_type": "display_data"
    }
   ],
   "source": [
    "#Grafico... cuando lo cargo hace que se muera el kernel\n",
    "\n",
    "top_reordered_products.head(20).plot(kind='bar', x='product_name', y='product_id')\n",
    "plt.show()"
   ]
  },
  {
   "cell_type": "markdown",
   "id": "9d312b14",
   "metadata": {
    "id": "9d312b14"
   },
   "source": [
    "### [C3] Para cada producto, ¿cuál es la proporción de las veces que se pide y que se vuelve a pedir?"
   ]
  },
  {
   "cell_type": "code",
   "execution_count": 97,
   "id": "8ae9f4b1",
   "metadata": {
    "id": "8ae9f4b1"
   },
   "outputs": [
    {
     "data": {
      "text/plain": [
       "product_id  product_name                                                     \n",
       "1           Chocolate Sandwich Cookies                                           0.564286\n",
       "2           All-Seasons Salt                                                     0.000000\n",
       "3           Robust Golden Unsweetened Oolong Tea                                 0.738095\n",
       "4           Smart Ones Classic Favorites Mini Rigatoni With Vodka Cream Sauce    0.510204\n",
       "7           Pure Coconut Water With Orange                                       0.500000\n",
       "                                                                                   ...   \n",
       "49690       HIGH PERFORMANCE ENERGY DRINK                                        0.800000\n",
       "49691       ORIGINAL PANCAKE & WAFFLE MIX                                        0.430556\n",
       "49692       ORGANIC INSTANT OATMEAL LIGHT MAPLE BROWN SUGAR                      0.416667\n",
       "49693       SPRING WATER BODY WASH                                               0.440000\n",
       "49694       BURRITO- STEAK & CHEESE                                              0.333333\n",
       "Name: reordered, Length: 45573, dtype: float64"
      ]
     },
     "execution_count": 97,
     "metadata": {},
     "output_type": "execute_result"
    }
   ],
   "source": [
    "order_products_merged_with_products = order_products.merge(products, on='product_id')\n",
    "reorderedAvgByProduct = order_products_merged_with_products.groupby(['product_id','product_name'])['reordered'].mean()\n",
    "reorderedAvgByProduct"
   ]
  },
  {
   "cell_type": "markdown",
   "id": "subject-boxing",
   "metadata": {
    "id": "subject-boxing"
   },
   "source": [
    "### [C4] Para cada cliente, ¿qué proporción de sus productos ya los había pedido?"
   ]
  },
  {
   "cell_type": "code",
   "execution_count": 91,
   "id": "medical-couple",
   "metadata": {
    "id": "medical-couple",
    "scrolled": true
   },
   "outputs": [
    {
     "data": {
      "text/plain": [
       "user_id\n",
       "2         0.038462\n",
       "4         0.000000\n",
       "5         0.666667\n",
       "6         0.000000\n",
       "7         0.928571\n",
       "            ...   \n",
       "206203    0.222222\n",
       "206206    0.714286\n",
       "206207    0.891304\n",
       "206208    0.696000\n",
       "206209    0.320000\n",
       "Name: reordered, Length: 149626, dtype: float64"
      ]
     },
     "execution_count": 91,
     "metadata": {},
     "output_type": "execute_result"
    }
   ],
   "source": [
    "df_merge = order_products.merge(orders)\n",
    "reorder_pct = df_merge.groupby('user_id')['reordered'].mean()\n",
    "reorder_pct\n"
   ]
  },
  {
   "cell_type": "code",
   "execution_count": 92,
   "id": "8892e4b4",
   "metadata": {
    "id": "8892e4b4"
   },
   "outputs": [
    {
     "data": {
      "text/html": [
       "<div>\n",
       "<style scoped>\n",
       "    .dataframe tbody tr th:only-of-type {\n",
       "        vertical-align: middle;\n",
       "    }\n",
       "\n",
       "    .dataframe tbody tr th {\n",
       "        vertical-align: top;\n",
       "    }\n",
       "\n",
       "    .dataframe thead th {\n",
       "        text-align: right;\n",
       "    }\n",
       "</style>\n",
       "<table border=\"1\" class=\"dataframe\">\n",
       "  <thead>\n",
       "    <tr style=\"text-align: right;\">\n",
       "      <th></th>\n",
       "      <th>user_id</th>\n",
       "      <th>reordered</th>\n",
       "    </tr>\n",
       "  </thead>\n",
       "  <tbody>\n",
       "    <tr>\n",
       "      <th>0</th>\n",
       "      <td>96430</td>\n",
       "      <td>1.0</td>\n",
       "    </tr>\n",
       "    <tr>\n",
       "      <th>1</th>\n",
       "      <td>69003</td>\n",
       "      <td>1.0</td>\n",
       "    </tr>\n",
       "    <tr>\n",
       "      <th>2</th>\n",
       "      <td>199910</td>\n",
       "      <td>1.0</td>\n",
       "    </tr>\n",
       "    <tr>\n",
       "      <th>3</th>\n",
       "      <td>203290</td>\n",
       "      <td>1.0</td>\n",
       "    </tr>\n",
       "    <tr>\n",
       "      <th>4</th>\n",
       "      <td>140076</td>\n",
       "      <td>1.0</td>\n",
       "    </tr>\n",
       "    <tr>\n",
       "      <th>...</th>\n",
       "      <td>...</td>\n",
       "      <td>...</td>\n",
       "    </tr>\n",
       "    <tr>\n",
       "      <th>149621</th>\n",
       "      <td>190953</td>\n",
       "      <td>0.0</td>\n",
       "    </tr>\n",
       "    <tr>\n",
       "      <th>149622</th>\n",
       "      <td>119371</td>\n",
       "      <td>0.0</td>\n",
       "    </tr>\n",
       "    <tr>\n",
       "      <th>149623</th>\n",
       "      <td>63173</td>\n",
       "      <td>0.0</td>\n",
       "    </tr>\n",
       "    <tr>\n",
       "      <th>149624</th>\n",
       "      <td>63163</td>\n",
       "      <td>0.0</td>\n",
       "    </tr>\n",
       "    <tr>\n",
       "      <th>149625</th>\n",
       "      <td>165726</td>\n",
       "      <td>0.0</td>\n",
       "    </tr>\n",
       "  </tbody>\n",
       "</table>\n",
       "<p>149626 rows × 2 columns</p>\n",
       "</div>"
      ],
      "text/plain": [
       "        user_id  reordered\n",
       "0         96430        1.0\n",
       "1         69003        1.0\n",
       "2        199910        1.0\n",
       "3        203290        1.0\n",
       "4        140076        1.0\n",
       "...         ...        ...\n",
       "149621   190953        0.0\n",
       "149622   119371        0.0\n",
       "149623    63173        0.0\n",
       "149624    63163        0.0\n",
       "149625   165726        0.0\n",
       "\n",
       "[149626 rows x 2 columns]"
      ]
     },
     "execution_count": 92,
     "metadata": {},
     "output_type": "execute_result"
    }
   ],
   "source": [
    "reorder_pct_as_df = reorder_pct.sort_values(ascending=False).reset_index()\n",
    "reorder_pct_as_df"
   ]
  },
  {
   "cell_type": "markdown",
   "id": "92d35137",
   "metadata": {
    "id": "92d35137"
   },
   "source": [
    "### [C5] ¿Cuáles son los 20 principales artículos que las personas ponen primero en sus carritos?"
   ]
  },
  {
   "cell_type": "code",
   "execution_count": 93,
   "id": "0ae57274",
   "metadata": {
    "id": "0ae57274",
    "scrolled": true
   },
   "outputs": [
    {
     "data": {
      "text/html": [
       "<div>\n",
       "<style scoped>\n",
       "    .dataframe tbody tr th:only-of-type {\n",
       "        vertical-align: middle;\n",
       "    }\n",
       "\n",
       "    .dataframe tbody tr th {\n",
       "        vertical-align: top;\n",
       "    }\n",
       "\n",
       "    .dataframe thead th {\n",
       "        text-align: right;\n",
       "    }\n",
       "</style>\n",
       "<table border=\"1\" class=\"dataframe\">\n",
       "  <thead>\n",
       "    <tr style=\"text-align: right;\">\n",
       "      <th></th>\n",
       "      <th>order_id</th>\n",
       "      <th>product_id</th>\n",
       "      <th>add_to_cart_order</th>\n",
       "      <th>reordered</th>\n",
       "      <th>product_name</th>\n",
       "      <th>aisle_id</th>\n",
       "      <th>department_id</th>\n",
       "    </tr>\n",
       "  </thead>\n",
       "  <tbody>\n",
       "    <tr>\n",
       "      <th>6</th>\n",
       "      <td>1463503</td>\n",
       "      <td>11440</td>\n",
       "      <td>1</td>\n",
       "      <td>0</td>\n",
       "      <td>Chicken Breast Tenders Breaded</td>\n",
       "      <td>129</td>\n",
       "      <td>1</td>\n",
       "    </tr>\n",
       "    <tr>\n",
       "      <th>17</th>\n",
       "      <td>2201430</td>\n",
       "      <td>11440</td>\n",
       "      <td>1</td>\n",
       "      <td>1</td>\n",
       "      <td>Chicken Breast Tenders Breaded</td>\n",
       "      <td>129</td>\n",
       "      <td>1</td>\n",
       "    </tr>\n",
       "    <tr>\n",
       "      <th>21</th>\n",
       "      <td>1036054</td>\n",
       "      <td>11440</td>\n",
       "      <td>1</td>\n",
       "      <td>1</td>\n",
       "      <td>Chicken Breast Tenders Breaded</td>\n",
       "      <td>129</td>\n",
       "      <td>1</td>\n",
       "    </tr>\n",
       "    <tr>\n",
       "      <th>50</th>\n",
       "      <td>3008652</td>\n",
       "      <td>11440</td>\n",
       "      <td>1</td>\n",
       "      <td>1</td>\n",
       "      <td>Chicken Breast Tenders Breaded</td>\n",
       "      <td>129</td>\n",
       "      <td>1</td>\n",
       "    </tr>\n",
       "    <tr>\n",
       "      <th>62</th>\n",
       "      <td>2946144</td>\n",
       "      <td>11440</td>\n",
       "      <td>1</td>\n",
       "      <td>1</td>\n",
       "      <td>Chicken Breast Tenders Breaded</td>\n",
       "      <td>129</td>\n",
       "      <td>1</td>\n",
       "    </tr>\n",
       "    <tr>\n",
       "      <th>...</th>\n",
       "      <td>...</td>\n",
       "      <td>...</td>\n",
       "      <td>...</td>\n",
       "      <td>...</td>\n",
       "      <td>...</td>\n",
       "      <td>...</td>\n",
       "      <td>...</td>\n",
       "    </tr>\n",
       "    <tr>\n",
       "      <th>4544972</th>\n",
       "      <td>1518168</td>\n",
       "      <td>16952</td>\n",
       "      <td>1</td>\n",
       "      <td>0</td>\n",
       "      <td>Sensitive Night Cream</td>\n",
       "      <td>73</td>\n",
       "      <td>11</td>\n",
       "    </tr>\n",
       "    <tr>\n",
       "      <th>4544977</th>\n",
       "      <td>1776450</td>\n",
       "      <td>21507</td>\n",
       "      <td>1</td>\n",
       "      <td>0</td>\n",
       "      <td>Gluten Free All-Purpose Rice Flour Blend</td>\n",
       "      <td>17</td>\n",
       "      <td>13</td>\n",
       "    </tr>\n",
       "    <tr>\n",
       "      <th>4544995</th>\n",
       "      <td>2333206</td>\n",
       "      <td>25467</td>\n",
       "      <td>1</td>\n",
       "      <td>0</td>\n",
       "      <td>Madagascar Pure Vanilla</td>\n",
       "      <td>17</td>\n",
       "      <td>13</td>\n",
       "    </tr>\n",
       "    <tr>\n",
       "      <th>4545005</th>\n",
       "      <td>532895</td>\n",
       "      <td>8182</td>\n",
       "      <td>1</td>\n",
       "      <td>0</td>\n",
       "      <td>Total Mint Stripe Gel Toothpaste</td>\n",
       "      <td>20</td>\n",
       "      <td>11</td>\n",
       "    </tr>\n",
       "    <tr>\n",
       "      <th>4545006</th>\n",
       "      <td>3132243</td>\n",
       "      <td>40024</td>\n",
       "      <td>1</td>\n",
       "      <td>0</td>\n",
       "      <td>Egg Replacer Powder</td>\n",
       "      <td>17</td>\n",
       "      <td>13</td>\n",
       "    </tr>\n",
       "  </tbody>\n",
       "</table>\n",
       "<p>450046 rows × 7 columns</p>\n",
       "</div>"
      ],
      "text/plain": [
       "         order_id  product_id  add_to_cart_order  reordered  \\\n",
       "6         1463503       11440                  1          0   \n",
       "17        2201430       11440                  1          1   \n",
       "21        1036054       11440                  1          1   \n",
       "50        3008652       11440                  1          1   \n",
       "62        2946144       11440                  1          1   \n",
       "...           ...         ...                ...        ...   \n",
       "4544972   1518168       16952                  1          0   \n",
       "4544977   1776450       21507                  1          0   \n",
       "4544995   2333206       25467                  1          0   \n",
       "4545005    532895        8182                  1          0   \n",
       "4545006   3132243       40024                  1          0   \n",
       "\n",
       "                                     product_name  aisle_id  department_id  \n",
       "6                  Chicken Breast Tenders Breaded       129              1  \n",
       "17                 Chicken Breast Tenders Breaded       129              1  \n",
       "21                 Chicken Breast Tenders Breaded       129              1  \n",
       "50                 Chicken Breast Tenders Breaded       129              1  \n",
       "62                 Chicken Breast Tenders Breaded       129              1  \n",
       "...                                           ...       ...            ...  \n",
       "4544972                     Sensitive Night Cream        73             11  \n",
       "4544977  Gluten Free All-Purpose Rice Flour Blend        17             13  \n",
       "4544995                   Madagascar Pure Vanilla        17             13  \n",
       "4545005          Total Mint Stripe Gel Toothpaste        20             11  \n",
       "4545006                       Egg Replacer Powder        17             13  \n",
       "\n",
       "[450046 rows x 7 columns]"
      ]
     },
     "execution_count": 93,
     "metadata": {},
     "output_type": "execute_result"
    }
   ],
   "source": [
    "df_merge = order_products.merge(products)\n",
    "first_in_cart = df_merge[df_merge['add_to_cart_order'] == 1]\n",
    "first_in_cart\n"
   ]
  },
  {
   "cell_type": "code",
   "execution_count": 94,
   "id": "forty-netherlands",
   "metadata": {
    "id": "forty-netherlands",
    "scrolled": true
   },
   "outputs": [
    {
     "data": {
      "text/plain": [
       "product_id  product_name                                               \n",
       "24852       Banana                                                         15562\n",
       "13176       Bag of Organic Bananas                                         11026\n",
       "27845       Organic Whole Milk                                              4363\n",
       "21137       Organic Strawberries                                            3946\n",
       "47209       Organic Hass Avocado                                            3390\n",
       "                                                                           ...  \n",
       "10981       Cloud White Decorating Cupcake Icing                               1\n",
       "10985       Premium Twin Pack Rock Cornish Game Hen                            1\n",
       "38272       Organic Raw Coconut Flour                                          1\n",
       "10989       Garbage Disposal Freshener & Cleaner Red Pear with Magnolia        1\n",
       "36996       Cool Sport Spray-On Sunscreen SPF 50                               1\n",
       "Name: product_id, Length: 26760, dtype: int64"
      ]
     },
     "execution_count": 94,
     "metadata": {},
     "output_type": "execute_result"
    }
   ],
   "source": [
    "first_count = first_in_cart.groupby(['product_id', 'product_name'])['product_id'].count().sort_values(ascending=False)\n",
    "first_count"
   ]
  },
  {
   "cell_type": "code",
   "execution_count": 95,
   "id": "08e41ec2",
   "metadata": {
    "id": "08e41ec2"
   },
   "outputs": [
    {
     "data": {
      "text/html": [
       "<div>\n",
       "<style scoped>\n",
       "    .dataframe tbody tr th:only-of-type {\n",
       "        vertical-align: middle;\n",
       "    }\n",
       "\n",
       "    .dataframe tbody tr th {\n",
       "        vertical-align: top;\n",
       "    }\n",
       "\n",
       "    .dataframe thead th {\n",
       "        text-align: right;\n",
       "    }\n",
       "</style>\n",
       "<table border=\"1\" class=\"dataframe\">\n",
       "  <thead>\n",
       "    <tr style=\"text-align: right;\">\n",
       "      <th></th>\n",
       "      <th>product_id</th>\n",
       "      <th>product_name</th>\n",
       "      <th>count</th>\n",
       "    </tr>\n",
       "  </thead>\n",
       "  <tbody>\n",
       "    <tr>\n",
       "      <th>0</th>\n",
       "      <td>24852</td>\n",
       "      <td>Banana</td>\n",
       "      <td>15562</td>\n",
       "    </tr>\n",
       "    <tr>\n",
       "      <th>1</th>\n",
       "      <td>13176</td>\n",
       "      <td>Bag of Organic Bananas</td>\n",
       "      <td>11026</td>\n",
       "    </tr>\n",
       "    <tr>\n",
       "      <th>2</th>\n",
       "      <td>27845</td>\n",
       "      <td>Organic Whole Milk</td>\n",
       "      <td>4363</td>\n",
       "    </tr>\n",
       "    <tr>\n",
       "      <th>3</th>\n",
       "      <td>21137</td>\n",
       "      <td>Organic Strawberries</td>\n",
       "      <td>3946</td>\n",
       "    </tr>\n",
       "    <tr>\n",
       "      <th>4</th>\n",
       "      <td>47209</td>\n",
       "      <td>Organic Hass Avocado</td>\n",
       "      <td>3390</td>\n",
       "    </tr>\n",
       "    <tr>\n",
       "      <th>5</th>\n",
       "      <td>21903</td>\n",
       "      <td>Organic Baby Spinach</td>\n",
       "      <td>3336</td>\n",
       "    </tr>\n",
       "    <tr>\n",
       "      <th>6</th>\n",
       "      <td>47766</td>\n",
       "      <td>Organic Avocado</td>\n",
       "      <td>3044</td>\n",
       "    </tr>\n",
       "    <tr>\n",
       "      <th>7</th>\n",
       "      <td>19660</td>\n",
       "      <td>Spring Water</td>\n",
       "      <td>2336</td>\n",
       "    </tr>\n",
       "    <tr>\n",
       "      <th>8</th>\n",
       "      <td>16797</td>\n",
       "      <td>Strawberries</td>\n",
       "      <td>2308</td>\n",
       "    </tr>\n",
       "    <tr>\n",
       "      <th>9</th>\n",
       "      <td>27966</td>\n",
       "      <td>Organic Raspberries</td>\n",
       "      <td>2024</td>\n",
       "    </tr>\n",
       "    <tr>\n",
       "      <th>10</th>\n",
       "      <td>44632</td>\n",
       "      <td>Sparkling Water Grapefruit</td>\n",
       "      <td>1914</td>\n",
       "    </tr>\n",
       "    <tr>\n",
       "      <th>11</th>\n",
       "      <td>49235</td>\n",
       "      <td>Organic Half &amp; Half</td>\n",
       "      <td>1797</td>\n",
       "    </tr>\n",
       "    <tr>\n",
       "      <th>12</th>\n",
       "      <td>47626</td>\n",
       "      <td>Large Lemon</td>\n",
       "      <td>1737</td>\n",
       "    </tr>\n",
       "    <tr>\n",
       "      <th>13</th>\n",
       "      <td>196</td>\n",
       "      <td>Soda</td>\n",
       "      <td>1733</td>\n",
       "    </tr>\n",
       "    <tr>\n",
       "      <th>14</th>\n",
       "      <td>38689</td>\n",
       "      <td>Organic Reduced Fat Milk</td>\n",
       "      <td>1397</td>\n",
       "    </tr>\n",
       "    <tr>\n",
       "      <th>15</th>\n",
       "      <td>26209</td>\n",
       "      <td>Limes</td>\n",
       "      <td>1370</td>\n",
       "    </tr>\n",
       "    <tr>\n",
       "      <th>16</th>\n",
       "      <td>12341</td>\n",
       "      <td>Hass Avocados</td>\n",
       "      <td>1340</td>\n",
       "    </tr>\n",
       "    <tr>\n",
       "      <th>17</th>\n",
       "      <td>5785</td>\n",
       "      <td>Organic Reduced Fat 2% Milk</td>\n",
       "      <td>1310</td>\n",
       "    </tr>\n",
       "    <tr>\n",
       "      <th>18</th>\n",
       "      <td>27086</td>\n",
       "      <td>Half &amp; Half</td>\n",
       "      <td>1309</td>\n",
       "    </tr>\n",
       "    <tr>\n",
       "      <th>19</th>\n",
       "      <td>43352</td>\n",
       "      <td>Raspberries</td>\n",
       "      <td>1246</td>\n",
       "    </tr>\n",
       "  </tbody>\n",
       "</table>\n",
       "</div>"
      ],
      "text/plain": [
       "    product_id                 product_name  count\n",
       "0        24852                       Banana  15562\n",
       "1        13176       Bag of Organic Bananas  11026\n",
       "2        27845           Organic Whole Milk   4363\n",
       "3        21137         Organic Strawberries   3946\n",
       "4        47209         Organic Hass Avocado   3390\n",
       "5        21903         Organic Baby Spinach   3336\n",
       "6        47766              Organic Avocado   3044\n",
       "7        19660                 Spring Water   2336\n",
       "8        16797                 Strawberries   2308\n",
       "9        27966          Organic Raspberries   2024\n",
       "10       44632   Sparkling Water Grapefruit   1914\n",
       "11       49235          Organic Half & Half   1797\n",
       "12       47626                  Large Lemon   1737\n",
       "13         196                         Soda   1733\n",
       "14       38689     Organic Reduced Fat Milk   1397\n",
       "15       26209                        Limes   1370\n",
       "16       12341                Hass Avocados   1340\n",
       "17        5785  Organic Reduced Fat 2% Milk   1310\n",
       "18       27086                  Half & Half   1309\n",
       "19       43352                  Raspberries   1246"
      ]
     },
     "execution_count": 95,
     "metadata": {},
     "output_type": "execute_result"
    }
   ],
   "source": [
    "first_count_as_df = first_count.reset_index(name='count')\n",
    "first_count_as_df.head(20)"
   ]
  },
  {
   "cell_type": "markdown",
   "id": "28ce9872",
   "metadata": {
    "id": "28ce9872"
   },
   "source": [
    "Escribe aquí tus conclusiones"
   ]
  },
  {
   "cell_type": "markdown",
   "id": "uITbFCEoDosC",
   "metadata": {
    "id": "uITbFCEoDosC"
   },
   "source": [
    "### Conclusion general del proyecto:"
   ]
  },
  {
   "cell_type": "markdown",
   "id": "2587888d",
   "metadata": {
    "id": "Nk-4GS7mDwqY"
   },
   "source": [
    "Considero este es un proyecto desafiante, me encontre con muchas dudas al llevarlo a cavo, tuve que pedir asesoria de Erick, \n",
    "Al hacer el analisis de los datos a primera vista esta todo bien, conforme vas adentrandote analizando y vizualizando mas a fondo te encuentras \n",
    "con informacion que no fue registrada, con datos faltantes, datos duplicados, en los cuales use los metodos que te ayudan a solucionar ese problema y darle una nueva vizualizacion a los datos.\n",
    "\n",
    "\n"
   ]
  }
 ],
 "metadata": {
  "ExecuteTimeLog": [
   {
    "duration": 452,
    "start_time": "2024-07-14T19:24:23.781Z"
   },
   {
    "duration": 447,
    "start_time": "2024-07-14T19:24:44.309Z"
   },
   {
    "duration": 1680,
    "start_time": "2024-07-14T19:24:47.406Z"
   },
   {
    "duration": 20,
    "start_time": "2024-07-14T19:25:04.379Z"
   },
   {
    "duration": 10,
    "start_time": "2024-07-14T19:26:19.645Z"
   },
   {
    "duration": 15,
    "start_time": "2024-07-14T19:26:24.937Z"
   },
   {
    "duration": 10,
    "start_time": "2024-07-14T19:26:31.626Z"
   },
   {
    "duration": 10,
    "start_time": "2024-07-14T19:26:33.538Z"
   },
   {
    "duration": 19,
    "start_time": "2024-07-14T19:59:04.237Z"
   },
   {
    "duration": 18,
    "start_time": "2024-07-14T19:59:21.350Z"
   },
   {
    "duration": 16,
    "start_time": "2024-07-14T19:59:34.678Z"
   },
   {
    "duration": 16,
    "start_time": "2024-07-14T19:59:57.998Z"
   },
   {
    "duration": 23,
    "start_time": "2024-07-14T20:02:04.088Z"
   },
   {
    "duration": 23,
    "start_time": "2024-07-14T20:02:23.467Z"
   },
   {
    "duration": 21,
    "start_time": "2024-07-14T20:02:42.818Z"
   },
   {
    "duration": 19,
    "start_time": "2024-07-14T20:03:01.564Z"
   },
   {
    "duration": 18,
    "start_time": "2024-07-14T20:03:17.167Z"
   },
   {
    "duration": 176,
    "start_time": "2024-07-14T20:04:19.918Z"
   },
   {
    "duration": 178,
    "start_time": "2024-07-14T20:05:09.927Z"
   },
   {
    "duration": 479,
    "start_time": "2024-07-14T20:21:52.489Z"
   },
   {
    "duration": 30,
    "start_time": "2024-07-14T20:22:38.852Z"
   },
   {
    "duration": 13,
    "start_time": "2024-07-14T20:24:07.601Z"
   },
   {
    "duration": 41,
    "start_time": "2024-07-14T20:26:58.264Z"
   },
   {
    "duration": 32,
    "start_time": "2024-07-14T20:27:13.460Z"
   },
   {
    "duration": 36,
    "start_time": "2024-07-14T20:27:47.046Z"
   },
   {
    "duration": 21,
    "start_time": "2024-07-14T20:30:05.362Z"
   },
   {
    "duration": 9,
    "start_time": "2024-07-14T20:30:22.876Z"
   },
   {
    "duration": 5,
    "start_time": "2024-07-14T20:34:26.848Z"
   },
   {
    "duration": 47,
    "start_time": "2024-07-14T20:35:27.843Z"
   },
   {
    "duration": 1318,
    "start_time": "2024-07-14T20:50:37.000Z"
   },
   {
    "duration": 1337,
    "start_time": "2024-07-14T20:51:50.160Z"
   },
   {
    "duration": 1248,
    "start_time": "2024-07-14T20:53:23.474Z"
   },
   {
    "duration": 1322,
    "start_time": "2024-07-14T20:53:32.133Z"
   },
   {
    "duration": 1172,
    "start_time": "2024-07-14T20:53:52.506Z"
   },
   {
    "duration": 1334,
    "start_time": "2024-07-14T20:54:10.222Z"
   },
   {
    "duration": 1153,
    "start_time": "2024-07-14T20:54:27.341Z"
   },
   {
    "duration": 1263,
    "start_time": "2024-07-14T20:55:27.944Z"
   },
   {
    "duration": 1388,
    "start_time": "2024-07-14T20:55:34.430Z"
   },
   {
    "duration": 1373,
    "start_time": "2024-07-14T20:56:09.415Z"
   },
   {
    "duration": 1355,
    "start_time": "2024-07-14T20:56:24.083Z"
   },
   {
    "duration": 1369,
    "start_time": "2024-07-14T20:56:32.850Z"
   },
   {
    "duration": 1197,
    "start_time": "2024-07-14T20:56:41.012Z"
   },
   {
    "duration": 9,
    "start_time": "2024-07-14T20:58:48.220Z"
   },
   {
    "duration": 19,
    "start_time": "2024-07-14T21:00:10.732Z"
   },
   {
    "duration": 18,
    "start_time": "2024-07-14T21:04:18.972Z"
   },
   {
    "duration": 16,
    "start_time": "2024-07-14T21:05:42.991Z"
   },
   {
    "duration": 6,
    "start_time": "2024-07-14T21:14:21.547Z"
   },
   {
    "duration": 7,
    "start_time": "2024-07-14T21:14:27.667Z"
   },
   {
    "duration": 14,
    "start_time": "2024-07-14T21:15:32.389Z"
   },
   {
    "duration": 11,
    "start_time": "2024-07-14T21:20:16.985Z"
   },
   {
    "duration": 6,
    "start_time": "2024-07-14T21:23:33.286Z"
   },
   {
    "duration": 8,
    "start_time": "2024-07-14T21:23:55.698Z"
   },
   {
    "duration": 14,
    "start_time": "2024-07-14T21:24:04.062Z"
   },
   {
    "duration": 34,
    "start_time": "2024-07-14T21:25:35.602Z"
   },
   {
    "duration": 65,
    "start_time": "2024-07-14T21:27:36.372Z"
   },
   {
    "duration": 50,
    "start_time": "2024-07-14T21:28:04.362Z"
   },
   {
    "duration": 19,
    "start_time": "2024-07-14T21:32:08.050Z"
   },
   {
    "duration": 12,
    "start_time": "2024-07-14T21:32:23.717Z"
   },
   {
    "duration": 26,
    "start_time": "2024-07-14T21:35:46.404Z"
   },
   {
    "duration": 15,
    "start_time": "2024-07-14T21:36:05.741Z"
   },
   {
    "duration": 512,
    "start_time": "2024-07-14T21:41:29.968Z"
   },
   {
    "duration": 5,
    "start_time": "2024-07-14T21:46:35.392Z"
   },
   {
    "duration": 110,
    "start_time": "2024-07-14T21:47:11.464Z"
   },
   {
    "duration": 105,
    "start_time": "2024-07-14T21:48:56.174Z"
   },
   {
    "duration": 63,
    "start_time": "2024-07-14T22:13:09.467Z"
   },
   {
    "duration": 7,
    "start_time": "2024-07-14T22:15:20.964Z"
   },
   {
    "duration": 22,
    "start_time": "2024-07-14T22:17:39.111Z"
   },
   {
    "duration": 9,
    "start_time": "2024-07-14T22:18:29.858Z"
   },
   {
    "duration": 7,
    "start_time": "2024-07-14T22:18:35.767Z"
   },
   {
    "duration": 23,
    "start_time": "2024-07-14T22:19:15.497Z"
   },
   {
    "duration": 8,
    "start_time": "2024-07-14T22:19:26.735Z"
   },
   {
    "duration": 7,
    "start_time": "2024-07-14T22:19:32.775Z"
   },
   {
    "duration": 7,
    "start_time": "2024-07-14T22:21:00.192Z"
   },
   {
    "duration": 25,
    "start_time": "2024-07-14T22:30:32.550Z"
   },
   {
    "duration": 3866,
    "start_time": "2024-07-14T22:30:56.316Z"
   },
   {
    "duration": 1535,
    "start_time": "2024-07-14T22:31:01.077Z"
   },
   {
    "duration": 54,
    "start_time": "2024-07-14T22:36:23.878Z"
   },
   {
    "duration": 12,
    "start_time": "2024-07-14T22:37:00.640Z"
   },
   {
    "duration": 360,
    "start_time": "2024-07-14T22:37:01.958Z"
   },
   {
    "duration": 323,
    "start_time": "2024-07-14T22:37:31.359Z"
   },
   {
    "duration": 11,
    "start_time": "2024-07-14T22:38:53.830Z"
   },
   {
    "duration": 98,
    "start_time": "2024-07-14T23:19:32.861Z"
   },
   {
    "duration": 498,
    "start_time": "2024-07-14T23:19:53.168Z"
   },
   {
    "duration": 5,
    "start_time": "2024-07-14T23:20:19.097Z"
   },
   {
    "duration": 12,
    "start_time": "2024-07-14T23:20:22.950Z"
   },
   {
    "duration": 8,
    "start_time": "2024-07-14T23:20:28.110Z"
   },
   {
    "duration": 35,
    "start_time": "2024-07-14T23:22:46.787Z"
   },
   {
    "duration": 6,
    "start_time": "2024-07-14T23:23:25.357Z"
   },
   {
    "duration": 26,
    "start_time": "2024-07-14T23:23:26.059Z"
   },
   {
    "duration": 24,
    "start_time": "2024-07-14T23:23:26.866Z"
   },
   {
    "duration": 21,
    "start_time": "2024-07-14T23:28:26.516Z"
   },
   {
    "duration": 22,
    "start_time": "2024-07-14T23:29:06.908Z"
   },
   {
    "duration": 5,
    "start_time": "2024-07-14T23:29:09.515Z"
   },
   {
    "duration": 10,
    "start_time": "2024-07-14T23:29:11.318Z"
   },
   {
    "duration": 4,
    "start_time": "2024-07-14T23:29:39.927Z"
   },
   {
    "duration": 5,
    "start_time": "2024-07-14T23:30:19.365Z"
   },
   {
    "duration": 10,
    "start_time": "2024-07-14T23:30:20.418Z"
   },
   {
    "duration": 5,
    "start_time": "2024-07-14T23:30:28.183Z"
   },
   {
    "duration": 11,
    "start_time": "2024-07-14T23:30:31.036Z"
   },
   {
    "duration": 9,
    "start_time": "2024-07-14T23:30:57.161Z"
   },
   {
    "duration": 6,
    "start_time": "2024-07-14T23:31:02.451Z"
   },
   {
    "duration": 12,
    "start_time": "2024-07-14T23:31:05.111Z"
   },
   {
    "duration": 5,
    "start_time": "2024-07-14T23:31:23.739Z"
   },
   {
    "duration": 10,
    "start_time": "2024-07-14T23:31:25.071Z"
   },
   {
    "duration": 5,
    "start_time": "2024-07-14T23:32:14.565Z"
   },
   {
    "duration": 10,
    "start_time": "2024-07-14T23:32:24.463Z"
   },
   {
    "duration": 4,
    "start_time": "2024-07-14T23:33:55.092Z"
   },
   {
    "duration": 10,
    "start_time": "2024-07-14T23:34:02.568Z"
   },
   {
    "duration": 4,
    "start_time": "2024-07-14T23:34:38.772Z"
   },
   {
    "duration": 7,
    "start_time": "2024-07-14T23:34:40.101Z"
   },
   {
    "duration": 5,
    "start_time": "2024-07-14T23:34:49.481Z"
   },
   {
    "duration": 10,
    "start_time": "2024-07-14T23:34:50.596Z"
   },
   {
    "duration": 10,
    "start_time": "2024-07-14T23:38:03.517Z"
   },
   {
    "duration": 405,
    "start_time": "2024-07-14T23:42:49.601Z"
   },
   {
    "duration": 428,
    "start_time": "2024-07-14T23:44:24.289Z"
   },
   {
    "duration": 23,
    "start_time": "2024-07-15T00:05:02.668Z"
   },
   {
    "duration": 523,
    "start_time": "2024-07-15T00:05:19.699Z"
   },
   {
    "duration": 9,
    "start_time": "2024-07-15T00:05:20.373Z"
   },
   {
    "duration": 1648,
    "start_time": "2024-07-15T00:05:20.926Z"
   },
   {
    "duration": 1441,
    "start_time": "2024-07-15T00:06:18.885Z"
   },
   {
    "duration": 403,
    "start_time": "2024-07-15T00:07:48.286Z"
   },
   {
    "duration": 415,
    "start_time": "2024-07-15T00:11:15.094Z"
   },
   {
    "duration": 284,
    "start_time": "2024-07-15T00:12:24.707Z"
   },
   {
    "duration": 340,
    "start_time": "2024-07-15T00:14:28.325Z"
   },
   {
    "duration": 512,
    "start_time": "2024-07-15T00:14:54.573Z"
   },
   {
    "duration": 9,
    "start_time": "2024-07-15T00:14:55.235Z"
   },
   {
    "duration": 542,
    "start_time": "2024-07-15T00:14:56.829Z"
   },
   {
    "duration": 281,
    "start_time": "2024-07-15T00:14:59.046Z"
   },
   {
    "duration": 250,
    "start_time": "2024-07-15T00:15:27.643Z"
   },
   {
    "duration": 251,
    "start_time": "2024-07-15T00:15:39.294Z"
   },
   {
    "duration": 322,
    "start_time": "2024-07-15T17:41:37.197Z"
   },
   {
    "duration": 4411,
    "start_time": "2024-07-15T17:42:29.806Z"
   },
   {
    "duration": 1706,
    "start_time": "2024-07-15T17:42:34.222Z"
   },
   {
    "duration": 30,
    "start_time": "2024-07-15T17:42:35.931Z"
   },
   {
    "duration": 23,
    "start_time": "2024-07-15T17:42:35.965Z"
   },
   {
    "duration": 20,
    "start_time": "2024-07-15T17:42:36.022Z"
   },
   {
    "duration": 21,
    "start_time": "2024-07-15T17:42:36.045Z"
   },
   {
    "duration": 61,
    "start_time": "2024-07-15T17:42:36.069Z"
   },
   {
    "duration": 196,
    "start_time": "2024-07-15T17:42:36.134Z"
   },
   {
    "duration": 3,
    "start_time": "2024-07-15T17:42:38.351Z"
   },
   {
    "duration": 3,
    "start_time": "2024-07-15T17:42:39.911Z"
   },
   {
    "duration": 4,
    "start_time": "2024-07-15T17:42:40.159Z"
   },
   {
    "duration": 3,
    "start_time": "2024-07-15T17:42:40.440Z"
   },
   {
    "duration": 26,
    "start_time": "2024-07-15T17:42:41.220Z"
   },
   {
    "duration": 14,
    "start_time": "2024-07-15T17:42:42.383Z"
   },
   {
    "duration": 38,
    "start_time": "2024-07-15T17:42:48.803Z"
   },
   {
    "duration": 42,
    "start_time": "2024-07-15T17:42:53.272Z"
   },
   {
    "duration": 8,
    "start_time": "2024-07-15T17:42:58.272Z"
   },
   {
    "duration": 8,
    "start_time": "2024-07-15T17:43:00.308Z"
   },
   {
    "duration": 4,
    "start_time": "2024-07-15T17:43:01.370Z"
   },
   {
    "duration": 7,
    "start_time": "2024-07-15T17:43:02.382Z"
   },
   {
    "duration": 8,
    "start_time": "2024-07-15T17:43:11.428Z"
   },
   {
    "duration": 8,
    "start_time": "2024-07-15T17:43:22.583Z"
   },
   {
    "duration": 3,
    "start_time": "2024-07-15T17:43:29.167Z"
   },
   {
    "duration": 8,
    "start_time": "2024-07-15T17:43:29.381Z"
   },
   {
    "duration": 4,
    "start_time": "2024-07-15T17:43:29.628Z"
   },
   {
    "duration": 8,
    "start_time": "2024-07-15T17:43:30.163Z"
   },
   {
    "duration": 1373,
    "start_time": "2024-07-15T17:43:31.726Z"
   },
   {
    "duration": 1221,
    "start_time": "2024-07-15T17:43:33.103Z"
   },
   {
    "duration": 20,
    "start_time": "2024-07-15T17:43:34.328Z"
   },
   {
    "duration": 19,
    "start_time": "2024-07-15T17:43:35.303Z"
   },
   {
    "duration": 13,
    "start_time": "2024-07-15T17:43:37.087Z"
   },
   {
    "duration": 3,
    "start_time": "2024-07-15T17:43:39.050Z"
   },
   {
    "duration": 14,
    "start_time": "2024-07-15T17:43:40.186Z"
   },
   {
    "duration": 11,
    "start_time": "2024-07-15T17:43:48.178Z"
   },
   {
    "duration": 10,
    "start_time": "2024-07-15T17:43:51.087Z"
   },
   {
    "duration": 30,
    "start_time": "2024-07-15T17:43:53.528Z"
   },
   {
    "duration": 50,
    "start_time": "2024-07-15T17:43:54.915Z"
   },
   {
    "duration": 23,
    "start_time": "2024-07-15T17:43:59.347Z"
   },
   {
    "duration": 4,
    "start_time": "2024-07-15T17:44:00.299Z"
   },
   {
    "duration": 533,
    "start_time": "2024-07-15T17:44:01.491Z"
   },
   {
    "duration": 109,
    "start_time": "2024-07-15T17:44:02.250Z"
   },
   {
    "duration": 4,
    "start_time": "2024-07-15T17:44:05.351Z"
   },
   {
    "duration": 65,
    "start_time": "2024-07-15T17:44:05.894Z"
   },
   {
    "duration": 1888,
    "start_time": "2024-07-15T17:46:34.847Z"
   },
   {
    "duration": 33,
    "start_time": "2024-07-15T17:46:36.739Z"
   },
   {
    "duration": 1221,
    "start_time": "2024-07-15T17:48:09.596Z"
   },
   {
    "duration": 131,
    "start_time": "2024-07-15T17:48:12.697Z"
   },
   {
    "duration": 17,
    "start_time": "2024-07-15T17:48:14.068Z"
   },
   {
    "duration": 1388,
    "start_time": "2024-07-15T17:56:32.789Z"
   },
   {
    "duration": 77,
    "start_time": "2024-07-15T17:57:24.565Z"
   },
   {
    "duration": 1171,
    "start_time": "2024-07-15T17:57:49.713Z"
   },
   {
    "duration": 197,
    "start_time": "2024-07-15T18:03:40.939Z"
   },
   {
    "duration": 180,
    "start_time": "2024-07-15T18:08:38.406Z"
   },
   {
    "duration": 19,
    "start_time": "2024-07-15T18:14:08.065Z"
   },
   {
    "duration": 13,
    "start_time": "2024-07-15T18:18:20.530Z"
   },
   {
    "duration": 26,
    "start_time": "2024-07-15T18:20:57.087Z"
   },
   {
    "duration": 13,
    "start_time": "2024-07-15T18:21:02.576Z"
   },
   {
    "duration": 171,
    "start_time": "2024-07-15T18:28:45.101Z"
   },
   {
    "duration": 179,
    "start_time": "2024-07-15T18:28:54.757Z"
   },
   {
    "duration": 177,
    "start_time": "2024-07-15T18:30:13.015Z"
   },
   {
    "duration": 169,
    "start_time": "2024-07-15T18:31:32.263Z"
   },
   {
    "duration": 5,
    "start_time": "2024-07-15T18:31:37.614Z"
   },
   {
    "duration": 170,
    "start_time": "2024-07-15T18:31:46.396Z"
   },
   {
    "duration": 23,
    "start_time": "2024-07-15T18:33:36.735Z"
   },
   {
    "duration": 166,
    "start_time": "2024-07-15T18:37:34.664Z"
   },
   {
    "duration": 184,
    "start_time": "2024-07-15T18:37:42.185Z"
   },
   {
    "duration": 171,
    "start_time": "2024-07-15T18:37:49.333Z"
   },
   {
    "duration": 173,
    "start_time": "2024-07-15T18:39:00.857Z"
   },
   {
    "duration": 211,
    "start_time": "2024-07-15T18:39:16.071Z"
   },
   {
    "duration": 177,
    "start_time": "2024-07-15T18:40:40.027Z"
   },
   {
    "duration": 3,
    "start_time": "2024-07-15T18:40:45.771Z"
   },
   {
    "duration": 17,
    "start_time": "2024-07-15T18:40:46.014Z"
   },
   {
    "duration": 3,
    "start_time": "2024-07-15T18:40:47.693Z"
   },
   {
    "duration": 3,
    "start_time": "2024-07-15T18:40:48.978Z"
   },
   {
    "duration": 27,
    "start_time": "2024-07-15T18:40:58.507Z"
   },
   {
    "duration": 12,
    "start_time": "2024-07-15T18:41:02.111Z"
   },
   {
    "duration": 42,
    "start_time": "2024-07-15T18:41:06.576Z"
   },
   {
    "duration": 18,
    "start_time": "2024-07-15T18:44:45.873Z"
   },
   {
    "duration": 174,
    "start_time": "2024-07-15T18:44:56.072Z"
   },
   {
    "duration": 174,
    "start_time": "2024-07-15T18:45:05.532Z"
   },
   {
    "duration": 21,
    "start_time": "2024-07-15T18:45:58.424Z"
   },
   {
    "duration": 170,
    "start_time": "2024-07-15T18:46:05.341Z"
   },
   {
    "duration": 177,
    "start_time": "2024-07-15T18:49:00.818Z"
   },
   {
    "duration": 190,
    "start_time": "2024-07-15T18:49:28.337Z"
   },
   {
    "duration": 165,
    "start_time": "2024-07-15T18:49:55.548Z"
   },
   {
    "duration": 180,
    "start_time": "2024-07-15T18:50:59.964Z"
   },
   {
    "duration": 127,
    "start_time": "2024-07-15T18:54:48.932Z"
   },
   {
    "duration": 123,
    "start_time": "2024-07-15T18:54:55.861Z"
   },
   {
    "duration": 19,
    "start_time": "2024-07-15T18:56:01.480Z"
   },
   {
    "duration": 154,
    "start_time": "2024-07-15T18:56:28.327Z"
   },
   {
    "duration": 176,
    "start_time": "2024-07-15T18:57:26.985Z"
   },
   {
    "duration": 3,
    "start_time": "2024-07-15T19:01:17.305Z"
   },
   {
    "duration": 1488,
    "start_time": "2024-07-15T19:01:18.463Z"
   },
   {
    "duration": 25,
    "start_time": "2024-07-15T19:01:20.224Z"
   },
   {
    "duration": 23,
    "start_time": "2024-07-15T19:01:27.425Z"
   },
   {
    "duration": 19,
    "start_time": "2024-07-15T19:01:34.392Z"
   },
   {
    "duration": 20,
    "start_time": "2024-07-15T19:01:39.783Z"
   },
   {
    "duration": 24,
    "start_time": "2024-07-15T19:01:40.930Z"
   },
   {
    "duration": 29,
    "start_time": "2024-07-15T19:01:42.297Z"
   },
   {
    "duration": 4,
    "start_time": "2024-07-15T19:01:52.657Z"
   },
   {
    "duration": 21,
    "start_time": "2024-07-15T19:01:53.646Z"
   },
   {
    "duration": 15,
    "start_time": "2024-07-15T19:02:14.082Z"
   },
   {
    "duration": 165,
    "start_time": "2024-07-15T19:02:15.519Z"
   },
   {
    "duration": 3,
    "start_time": "2024-07-15T19:02:27.912Z"
   },
   {
    "duration": 22,
    "start_time": "2024-07-15T19:02:30.080Z"
   },
   {
    "duration": 159,
    "start_time": "2024-07-15T19:02:32.772Z"
   },
   {
    "duration": 156,
    "start_time": "2024-07-15T19:03:10.949Z"
   },
   {
    "duration": 19,
    "start_time": "2024-07-15T19:03:23.845Z"
   },
   {
    "duration": 15,
    "start_time": "2024-07-15T19:05:22.511Z"
   },
   {
    "duration": 4,
    "start_time": "2024-07-15T19:05:24.142Z"
   },
   {
    "duration": 147,
    "start_time": "2024-07-15T19:05:24.956Z"
   },
   {
    "duration": 143,
    "start_time": "2024-07-15T19:06:52.613Z"
   },
   {
    "duration": 40,
    "start_time": "2024-07-15T19:06:54.420Z"
   },
   {
    "duration": 31,
    "start_time": "2024-07-15T19:09:29.913Z"
   },
   {
    "duration": 17,
    "start_time": "2024-07-15T19:09:31.139Z"
   },
   {
    "duration": 37,
    "start_time": "2024-07-15T19:09:36.813Z"
   },
   {
    "duration": 44,
    "start_time": "2024-07-15T19:09:38.469Z"
   },
   {
    "duration": 3,
    "start_time": "2024-07-15T19:09:41.615Z"
   },
   {
    "duration": 7,
    "start_time": "2024-07-15T19:09:42.181Z"
   },
   {
    "duration": 9,
    "start_time": "2024-07-15T19:10:10.925Z"
   },
   {
    "duration": 10,
    "start_time": "2024-07-15T19:11:18.404Z"
   },
   {
    "duration": 10,
    "start_time": "2024-07-15T19:12:24.637Z"
   },
   {
    "duration": 11,
    "start_time": "2024-07-15T19:12:58.890Z"
   },
   {
    "duration": 10,
    "start_time": "2024-07-15T19:15:39.070Z"
   },
   {
    "duration": 1283,
    "start_time": "2024-07-15T19:15:41.679Z"
   },
   {
    "duration": 1142,
    "start_time": "2024-07-15T19:15:43.114Z"
   },
   {
    "duration": 19,
    "start_time": "2024-07-15T19:15:52.263Z"
   },
   {
    "duration": 14,
    "start_time": "2024-07-15T19:15:54.918Z"
   },
   {
    "duration": 18,
    "start_time": "2024-07-15T19:15:57.454Z"
   },
   {
    "duration": 3,
    "start_time": "2024-07-15T19:16:00.490Z"
   },
   {
    "duration": 14,
    "start_time": "2024-07-15T19:16:02.369Z"
   },
   {
    "duration": 12,
    "start_time": "2024-07-15T19:16:11.231Z"
   },
   {
    "duration": 16,
    "start_time": "2024-07-15T19:16:19.677Z"
   },
   {
    "duration": 27,
    "start_time": "2024-07-15T19:16:38.143Z"
   },
   {
    "duration": 51,
    "start_time": "2024-07-15T19:16:51.390Z"
   },
   {
    "duration": 14,
    "start_time": "2024-07-15T19:16:53.721Z"
   },
   {
    "duration": 3,
    "start_time": "2024-07-15T19:17:01.341Z"
   },
   {
    "duration": 528,
    "start_time": "2024-07-15T19:17:15.243Z"
   },
   {
    "duration": 120,
    "start_time": "2024-07-15T19:17:15.774Z"
   },
   {
    "duration": 3,
    "start_time": "2024-07-15T19:17:21.504Z"
   },
   {
    "duration": 61,
    "start_time": "2024-07-15T19:17:21.867Z"
   },
   {
    "duration": 21,
    "start_time": "2024-07-15T19:28:23.323Z"
   },
   {
    "duration": 22,
    "start_time": "2024-07-15T19:28:30.503Z"
   },
   {
    "duration": 470,
    "start_time": "2024-07-15T19:28:36.269Z"
   },
   {
    "duration": 9,
    "start_time": "2024-07-15T19:28:37.013Z"
   },
   {
    "duration": 497,
    "start_time": "2024-07-15T19:28:37.975Z"
   },
   {
    "duration": 252,
    "start_time": "2024-07-15T19:28:42.507Z"
   },
   {
    "duration": 8,
    "start_time": "2024-07-15T19:28:46.371Z"
   },
   {
    "duration": 14,
    "start_time": "2024-07-15T19:29:16.856Z"
   },
   {
    "duration": 7,
    "start_time": "2024-07-15T19:30:14.222Z"
   },
   {
    "duration": 7,
    "start_time": "2024-07-15T19:31:25.466Z"
   },
   {
    "duration": 142,
    "start_time": "2024-07-15T19:31:27.858Z"
   },
   {
    "duration": 7,
    "start_time": "2024-07-15T19:31:28.542Z"
   },
   {
    "duration": 9,
    "start_time": "2024-07-15T19:32:21.387Z"
   },
   {
    "duration": 15,
    "start_time": "2024-07-15T19:32:38.173Z"
   },
   {
    "duration": 12,
    "start_time": "2024-07-15T19:33:22.163Z"
   },
   {
    "duration": 9,
    "start_time": "2024-07-15T19:33:47.115Z"
   },
   {
    "duration": 433,
    "start_time": "2024-07-15T19:33:55.484Z"
   },
   {
    "duration": 268,
    "start_time": "2024-07-15T19:33:56.417Z"
   },
   {
    "duration": 7,
    "start_time": "2024-07-15T19:33:57.820Z"
   },
   {
    "duration": 11,
    "start_time": "2024-07-15T19:34:42.076Z"
   },
   {
    "duration": 12,
    "start_time": "2024-07-15T19:35:14.509Z"
   },
   {
    "duration": 11,
    "start_time": "2024-07-15T19:35:41.129Z"
   },
   {
    "duration": 147,
    "start_time": "2024-07-15T19:36:20.258Z"
   },
   {
    "duration": 8,
    "start_time": "2024-07-15T19:36:26.784Z"
   },
   {
    "duration": 17,
    "start_time": "2024-07-15T19:41:33.314Z"
   },
   {
    "duration": 30,
    "start_time": "2024-07-15T19:42:06.080Z"
   },
   {
    "duration": 30,
    "start_time": "2024-07-15T19:42:19.251Z"
   },
   {
    "duration": 42,
    "start_time": "2024-07-15T19:42:39.619Z"
   },
   {
    "duration": 41,
    "start_time": "2024-07-15T19:43:01.122Z"
   },
   {
    "duration": 22,
    "start_time": "2024-07-15T19:43:13.198Z"
   },
   {
    "duration": 44,
    "start_time": "2024-07-15T19:43:28.540Z"
   },
   {
    "duration": 28,
    "start_time": "2024-07-15T19:43:54.648Z"
   },
   {
    "duration": 29,
    "start_time": "2024-07-15T19:44:25.347Z"
   },
   {
    "duration": 22,
    "start_time": "2024-07-15T19:44:37.306Z"
   },
   {
    "duration": 24,
    "start_time": "2024-07-15T19:45:11.434Z"
   },
   {
    "duration": 19,
    "start_time": "2024-07-15T19:45:26.182Z"
   },
   {
    "duration": 21,
    "start_time": "2024-07-15T19:45:43.325Z"
   },
   {
    "duration": 22,
    "start_time": "2024-07-15T19:46:09.028Z"
   },
   {
    "duration": 28,
    "start_time": "2024-07-15T19:46:43.593Z"
   },
   {
    "duration": 25,
    "start_time": "2024-07-15T20:21:16.948Z"
   },
   {
    "duration": 22,
    "start_time": "2024-07-15T20:21:40.960Z"
   },
   {
    "duration": 0,
    "start_time": "2024-07-15T20:21:40.985Z"
   },
   {
    "duration": 181,
    "start_time": "2024-07-15T20:25:16.772Z"
   },
   {
    "duration": 30,
    "start_time": "2024-07-15T20:25:21.918Z"
   },
   {
    "duration": 981,
    "start_time": "2024-07-15T20:26:35.321Z"
   },
   {
    "duration": 874,
    "start_time": "2024-07-15T20:26:53.067Z"
   },
   {
    "duration": 5,
    "start_time": "2024-07-15T20:27:55.782Z"
   },
   {
    "duration": 7,
    "start_time": "2024-07-15T20:28:10.859Z"
   },
   {
    "duration": 721,
    "start_time": "2024-07-15T20:38:53.142Z"
   },
   {
    "duration": 1711,
    "start_time": "2024-07-15T20:38:53.866Z"
   },
   {
    "duration": 43,
    "start_time": "2024-07-15T20:38:55.581Z"
   },
   {
    "duration": 23,
    "start_time": "2024-07-15T20:38:56.120Z"
   },
   {
    "duration": 21,
    "start_time": "2024-07-15T20:38:57.618Z"
   },
   {
    "duration": 18,
    "start_time": "2024-07-15T20:38:58.939Z"
   },
   {
    "duration": 19,
    "start_time": "2024-07-15T20:38:59.453Z"
   },
   {
    "duration": 3,
    "start_time": "2024-07-15T20:39:00.875Z"
   },
   {
    "duration": 18,
    "start_time": "2024-07-15T20:39:01.129Z"
   },
   {
    "duration": 173,
    "start_time": "2024-07-15T20:39:01.437Z"
   },
   {
    "duration": 3,
    "start_time": "2024-07-15T20:39:03.723Z"
   },
   {
    "duration": 23,
    "start_time": "2024-07-15T20:39:05.196Z"
   },
   {
    "duration": 188,
    "start_time": "2024-07-15T20:39:07.660Z"
   },
   {
    "duration": 16,
    "start_time": "2024-07-15T20:39:08.609Z"
   },
   {
    "duration": 3,
    "start_time": "2024-07-15T20:39:10.399Z"
   },
   {
    "duration": 181,
    "start_time": "2024-07-15T20:39:14.133Z"
   },
   {
    "duration": 49,
    "start_time": "2024-07-15T20:39:15.734Z"
   },
   {
    "duration": 26,
    "start_time": "2024-07-15T20:39:18.650Z"
   },
   {
    "duration": 572,
    "start_time": "2024-07-15T20:39:41.784Z"
   },
   {
    "duration": 10,
    "start_time": "2024-07-15T20:39:43.510Z"
   },
   {
    "duration": 455,
    "start_time": "2024-07-15T20:39:44.656Z"
   },
   {
    "duration": 261,
    "start_time": "2024-07-15T20:39:48.953Z"
   },
   {
    "duration": 8,
    "start_time": "2024-07-15T20:39:50.355Z"
   },
   {
    "duration": 124,
    "start_time": "2024-07-15T20:39:53.415Z"
   },
   {
    "duration": 1030,
    "start_time": "2024-07-15T20:39:54.481Z"
   },
   {
    "duration": 7,
    "start_time": "2024-07-15T20:39:55.619Z"
   },
   {
    "duration": 763,
    "start_time": "2024-07-15T20:46:41.322Z"
   },
   {
    "duration": 1643,
    "start_time": "2024-07-15T20:46:42.088Z"
   },
   {
    "duration": 33,
    "start_time": "2024-07-15T20:46:43.734Z"
   },
   {
    "duration": 54,
    "start_time": "2024-07-15T20:46:43.770Z"
   },
   {
    "duration": 21,
    "start_time": "2024-07-15T20:46:43.829Z"
   },
   {
    "duration": 21,
    "start_time": "2024-07-15T20:46:43.853Z"
   },
   {
    "duration": 60,
    "start_time": "2024-07-15T20:46:43.877Z"
   },
   {
    "duration": 4,
    "start_time": "2024-07-15T20:46:43.940Z"
   },
   {
    "duration": 16,
    "start_time": "2024-07-15T20:46:43.948Z"
   },
   {
    "duration": 238,
    "start_time": "2024-07-15T20:46:43.967Z"
   },
   {
    "duration": 4,
    "start_time": "2024-07-15T20:46:44.208Z"
   },
   {
    "duration": 20,
    "start_time": "2024-07-15T20:46:44.224Z"
   },
   {
    "duration": 232,
    "start_time": "2024-07-15T20:46:44.248Z"
   },
   {
    "duration": 18,
    "start_time": "2024-07-15T20:46:44.487Z"
   },
   {
    "duration": 3,
    "start_time": "2024-07-15T20:46:44.523Z"
   },
   {
    "duration": 223,
    "start_time": "2024-07-15T20:46:44.531Z"
   },
   {
    "duration": 66,
    "start_time": "2024-07-15T20:46:44.757Z"
   },
   {
    "duration": 31,
    "start_time": "2024-07-15T20:46:44.826Z"
   },
   {
    "duration": 13,
    "start_time": "2024-07-15T20:46:44.861Z"
   },
   {
    "duration": 65,
    "start_time": "2024-07-15T20:46:44.877Z"
   },
   {
    "duration": 45,
    "start_time": "2024-07-15T20:46:44.945Z"
   },
   {
    "duration": 32,
    "start_time": "2024-07-15T20:46:44.992Z"
   },
   {
    "duration": 10,
    "start_time": "2024-07-15T20:46:45.028Z"
   },
   {
    "duration": 4,
    "start_time": "2024-07-15T20:46:45.041Z"
   },
   {
    "duration": 10,
    "start_time": "2024-07-15T20:46:45.049Z"
   },
   {
    "duration": 4,
    "start_time": "2024-07-15T20:46:45.063Z"
   },
   {
    "duration": 63,
    "start_time": "2024-07-15T20:46:45.069Z"
   },
   {
    "duration": 3,
    "start_time": "2024-07-15T20:46:45.136Z"
   },
   {
    "duration": 10,
    "start_time": "2024-07-15T20:46:45.143Z"
   },
   {
    "duration": 1543,
    "start_time": "2024-07-15T20:46:45.156Z"
   },
   {
    "duration": 1334,
    "start_time": "2024-07-15T20:46:46.703Z"
   },
   {
    "duration": 20,
    "start_time": "2024-07-15T20:46:48.040Z"
   },
   {
    "duration": 15,
    "start_time": "2024-07-15T20:46:48.066Z"
   },
   {
    "duration": 41,
    "start_time": "2024-07-15T20:46:48.085Z"
   },
   {
    "duration": 4,
    "start_time": "2024-07-15T20:46:48.129Z"
   },
   {
    "duration": 16,
    "start_time": "2024-07-15T20:46:48.136Z"
   },
   {
    "duration": 13,
    "start_time": "2024-07-15T20:46:48.155Z"
   },
   {
    "duration": 60,
    "start_time": "2024-07-15T20:46:48.171Z"
   },
   {
    "duration": 31,
    "start_time": "2024-07-15T20:46:48.234Z"
   },
   {
    "duration": 85,
    "start_time": "2024-07-15T20:46:48.268Z"
   },
   {
    "duration": 14,
    "start_time": "2024-07-15T20:46:48.364Z"
   },
   {
    "duration": 6,
    "start_time": "2024-07-15T20:46:48.382Z"
   },
   {
    "duration": 632,
    "start_time": "2024-07-15T20:46:48.391Z"
   },
   {
    "duration": 120,
    "start_time": "2024-07-15T20:46:49.027Z"
   },
   {
    "duration": 4,
    "start_time": "2024-07-15T20:46:49.150Z"
   },
   {
    "duration": 91,
    "start_time": "2024-07-15T20:46:49.157Z"
   },
   {
    "duration": 13,
    "start_time": "2024-07-15T20:46:49.252Z"
   },
   {
    "duration": 387,
    "start_time": "2024-07-15T20:46:49.268Z"
   },
   {
    "duration": 6,
    "start_time": "2024-07-15T20:46:49.658Z"
   },
   {
    "duration": 12,
    "start_time": "2024-07-15T20:46:49.668Z"
   },
   {
    "duration": 13,
    "start_time": "2024-07-15T20:46:49.684Z"
   },
   {
    "duration": 6,
    "start_time": "2024-07-15T20:46:49.727Z"
   },
   {
    "duration": 17,
    "start_time": "2024-07-15T20:46:49.736Z"
   },
   {
    "duration": 7,
    "start_time": "2024-07-15T20:46:49.756Z"
   },
   {
    "duration": 6,
    "start_time": "2024-07-15T20:46:49.767Z"
   },
   {
    "duration": 13,
    "start_time": "2024-07-15T20:46:49.826Z"
   },
   {
    "duration": 461,
    "start_time": "2024-07-15T20:46:49.845Z"
   },
   {
    "duration": 572,
    "start_time": "2024-07-15T20:46:50.309Z"
   },
   {
    "duration": 9,
    "start_time": "2024-07-15T20:46:50.884Z"
   },
   {
    "duration": 475,
    "start_time": "2024-07-15T20:46:50.896Z"
   },
   {
    "duration": 280,
    "start_time": "2024-07-15T20:46:51.375Z"
   },
   {
    "duration": 8,
    "start_time": "2024-07-15T20:46:51.659Z"
   },
   {
    "duration": 201,
    "start_time": "2024-07-15T20:46:51.670Z"
   },
   {
    "duration": 949,
    "start_time": "2024-07-15T20:46:51.874Z"
   },
   {
    "duration": 7,
    "start_time": "2024-07-15T20:46:52.826Z"
   },
   {
    "duration": 812,
    "start_time": "2024-07-15T20:48:40.246Z"
   },
   {
    "duration": 1627,
    "start_time": "2024-07-15T20:48:41.063Z"
   },
   {
    "duration": 43,
    "start_time": "2024-07-15T20:48:42.694Z"
   },
   {
    "duration": 26,
    "start_time": "2024-07-15T20:48:42.740Z"
   },
   {
    "duration": 53,
    "start_time": "2024-07-15T20:48:42.771Z"
   },
   {
    "duration": 21,
    "start_time": "2024-07-15T20:48:42.828Z"
   },
   {
    "duration": 23,
    "start_time": "2024-07-15T20:48:42.852Z"
   },
   {
    "duration": 4,
    "start_time": "2024-07-15T20:48:42.923Z"
   },
   {
    "duration": 19,
    "start_time": "2024-07-15T20:48:42.930Z"
   },
   {
    "duration": 256,
    "start_time": "2024-07-15T20:48:42.955Z"
   },
   {
    "duration": 9,
    "start_time": "2024-07-15T20:48:43.214Z"
   },
   {
    "duration": 20,
    "start_time": "2024-07-15T20:48:43.227Z"
   },
   {
    "duration": 245,
    "start_time": "2024-07-15T20:48:43.250Z"
   },
   {
    "duration": 31,
    "start_time": "2024-07-15T20:48:43.502Z"
   },
   {
    "duration": 4,
    "start_time": "2024-07-15T20:48:43.537Z"
   },
   {
    "duration": 255,
    "start_time": "2024-07-15T20:48:43.545Z"
   },
   {
    "duration": 66,
    "start_time": "2024-07-15T20:48:43.804Z"
   },
   {
    "duration": 52,
    "start_time": "2024-07-15T20:48:43.873Z"
   },
   {
    "duration": 14,
    "start_time": "2024-07-15T20:48:43.928Z"
   },
   {
    "duration": 42,
    "start_time": "2024-07-15T20:48:43.945Z"
   },
   {
    "duration": 79,
    "start_time": "2024-07-15T20:48:43.990Z"
   },
   {
    "duration": 4,
    "start_time": "2024-07-15T20:48:44.072Z"
   },
   {
    "duration": 10,
    "start_time": "2024-07-15T20:48:44.080Z"
   },
   {
    "duration": 4,
    "start_time": "2024-07-15T20:48:44.125Z"
   },
   {
    "duration": 10,
    "start_time": "2024-07-15T20:48:44.134Z"
   },
   {
    "duration": 3,
    "start_time": "2024-07-15T20:48:44.148Z"
   },
   {
    "duration": 12,
    "start_time": "2024-07-15T20:48:44.154Z"
   },
   {
    "duration": 4,
    "start_time": "2024-07-15T20:48:44.222Z"
   },
   {
    "duration": 12,
    "start_time": "2024-07-15T20:48:44.230Z"
   },
   {
    "duration": 1498,
    "start_time": "2024-07-15T20:48:44.246Z"
   },
   {
    "duration": 1348,
    "start_time": "2024-07-15T20:48:45.749Z"
   },
   {
    "duration": 34,
    "start_time": "2024-07-15T20:48:47.101Z"
   },
   {
    "duration": 14,
    "start_time": "2024-07-15T20:48:47.138Z"
   },
   {
    "duration": 13,
    "start_time": "2024-07-15T20:48:47.156Z"
   },
   {
    "duration": 4,
    "start_time": "2024-07-15T20:48:47.173Z"
   },
   {
    "duration": 16,
    "start_time": "2024-07-15T20:48:47.223Z"
   },
   {
    "duration": 12,
    "start_time": "2024-07-15T20:48:47.243Z"
   },
   {
    "duration": 15,
    "start_time": "2024-07-15T20:48:47.258Z"
   },
   {
    "duration": 74,
    "start_time": "2024-07-15T20:48:47.276Z"
   },
   {
    "duration": 84,
    "start_time": "2024-07-15T20:48:47.354Z"
   },
   {
    "duration": 16,
    "start_time": "2024-07-15T20:48:47.448Z"
   },
   {
    "duration": 7,
    "start_time": "2024-07-15T20:48:47.466Z"
   },
   {
    "duration": 668,
    "start_time": "2024-07-15T20:48:47.477Z"
   },
   {
    "duration": 117,
    "start_time": "2024-07-15T20:48:48.148Z"
   },
   {
    "duration": 4,
    "start_time": "2024-07-15T20:48:48.269Z"
   },
   {
    "duration": 92,
    "start_time": "2024-07-15T20:48:48.277Z"
   },
   {
    "duration": 14,
    "start_time": "2024-07-15T20:48:48.372Z"
   },
   {
    "duration": 398,
    "start_time": "2024-07-15T20:48:48.389Z"
   },
   {
    "duration": 5,
    "start_time": "2024-07-15T20:48:48.791Z"
   },
   {
    "duration": 27,
    "start_time": "2024-07-15T20:48:48.799Z"
   },
   {
    "duration": 12,
    "start_time": "2024-07-15T20:48:48.829Z"
   },
   {
    "duration": 7,
    "start_time": "2024-07-15T20:48:48.844Z"
   },
   {
    "duration": 12,
    "start_time": "2024-07-15T20:48:48.855Z"
   },
   {
    "duration": 54,
    "start_time": "2024-07-15T20:48:48.870Z"
   },
   {
    "duration": 6,
    "start_time": "2024-07-15T20:48:48.927Z"
   },
   {
    "duration": 11,
    "start_time": "2024-07-15T20:48:48.937Z"
   },
   {
    "duration": 460,
    "start_time": "2024-07-15T20:48:48.952Z"
   },
   {
    "duration": 625,
    "start_time": "2024-07-15T20:48:49.415Z"
   },
   {
    "duration": 11,
    "start_time": "2024-07-15T20:48:50.044Z"
   },
   {
    "duration": 479,
    "start_time": "2024-07-15T20:48:50.058Z"
   },
   {
    "duration": 292,
    "start_time": "2024-07-15T20:48:50.540Z"
   },
   {
    "duration": 8,
    "start_time": "2024-07-15T20:48:50.836Z"
   },
   {
    "duration": 212,
    "start_time": "2024-07-15T20:48:50.848Z"
   },
   {
    "duration": 990,
    "start_time": "2024-07-15T20:48:51.064Z"
   },
   {
    "duration": 7,
    "start_time": "2024-07-15T20:48:52.058Z"
   },
   {
    "duration": 676,
    "start_time": "2024-07-15T21:02:58.763Z"
   },
   {
    "duration": 1774,
    "start_time": "2024-07-15T21:02:59.443Z"
   },
   {
    "duration": 30,
    "start_time": "2024-07-15T21:03:01.220Z"
   },
   {
    "duration": 25,
    "start_time": "2024-07-15T21:03:01.253Z"
   },
   {
    "duration": 56,
    "start_time": "2024-07-15T21:03:01.284Z"
   },
   {
    "duration": 21,
    "start_time": "2024-07-15T21:03:01.343Z"
   },
   {
    "duration": 62,
    "start_time": "2024-07-15T21:03:01.367Z"
   },
   {
    "duration": 4,
    "start_time": "2024-07-15T21:03:01.432Z"
   },
   {
    "duration": 16,
    "start_time": "2024-07-15T21:03:01.439Z"
   },
   {
    "duration": 221,
    "start_time": "2024-07-15T21:03:01.459Z"
   },
   {
    "duration": 4,
    "start_time": "2024-07-15T21:03:01.683Z"
   },
   {
    "duration": 47,
    "start_time": "2024-07-15T21:03:01.690Z"
   },
   {
    "duration": 207,
    "start_time": "2024-07-15T21:03:01.740Z"
   },
   {
    "duration": 16,
    "start_time": "2024-07-15T21:03:01.954Z"
   },
   {
    "duration": 4,
    "start_time": "2024-07-15T21:03:01.973Z"
   },
   {
    "duration": 230,
    "start_time": "2024-07-15T21:03:01.980Z"
   },
   {
    "duration": 56,
    "start_time": "2024-07-15T21:03:02.212Z"
   },
   {
    "duration": 26,
    "start_time": "2024-07-15T21:03:02.271Z"
   },
   {
    "duration": 13,
    "start_time": "2024-07-15T21:03:02.323Z"
   },
   {
    "duration": 39,
    "start_time": "2024-07-15T21:03:02.339Z"
   },
   {
    "duration": 75,
    "start_time": "2024-07-15T21:03:02.382Z"
   },
   {
    "duration": 3,
    "start_time": "2024-07-15T21:03:02.461Z"
   },
   {
    "duration": 10,
    "start_time": "2024-07-15T21:03:02.468Z"
   },
   {
    "duration": 3,
    "start_time": "2024-07-15T21:03:02.481Z"
   },
   {
    "duration": 10,
    "start_time": "2024-07-15T21:03:02.524Z"
   },
   {
    "duration": 4,
    "start_time": "2024-07-15T21:03:02.537Z"
   },
   {
    "duration": 10,
    "start_time": "2024-07-15T21:03:02.545Z"
   },
   {
    "duration": 4,
    "start_time": "2024-07-15T21:03:02.558Z"
   },
   {
    "duration": 58,
    "start_time": "2024-07-15T21:03:02.565Z"
   },
   {
    "duration": 1475,
    "start_time": "2024-07-15T21:03:02.627Z"
   },
   {
    "duration": 1312,
    "start_time": "2024-07-15T21:03:04.105Z"
   },
   {
    "duration": 25,
    "start_time": "2024-07-15T21:03:05.424Z"
   },
   {
    "duration": 17,
    "start_time": "2024-07-15T21:03:05.452Z"
   },
   {
    "duration": 50,
    "start_time": "2024-07-15T21:03:05.473Z"
   },
   {
    "duration": 4,
    "start_time": "2024-07-15T21:03:05.526Z"
   },
   {
    "duration": 16,
    "start_time": "2024-07-15T21:03:05.533Z"
   },
   {
    "duration": 11,
    "start_time": "2024-07-15T21:03:05.553Z"
   },
   {
    "duration": 56,
    "start_time": "2024-07-15T21:03:05.567Z"
   },
   {
    "duration": 30,
    "start_time": "2024-07-15T21:03:05.626Z"
   },
   {
    "duration": 83,
    "start_time": "2024-07-15T21:03:05.660Z"
   },
   {
    "duration": 14,
    "start_time": "2024-07-15T21:03:05.754Z"
   },
   {
    "duration": 3,
    "start_time": "2024-07-15T21:03:05.771Z"
   },
   {
    "duration": 600,
    "start_time": "2024-07-15T21:03:05.778Z"
   },
   {
    "duration": 115,
    "start_time": "2024-07-15T21:03:06.381Z"
   },
   {
    "duration": 4,
    "start_time": "2024-07-15T21:03:06.500Z"
   },
   {
    "duration": 66,
    "start_time": "2024-07-15T21:03:06.523Z"
   },
   {
    "duration": 36,
    "start_time": "2024-07-15T21:03:06.592Z"
   },
   {
    "duration": 356,
    "start_time": "2024-07-15T21:03:06.631Z"
   },
   {
    "duration": 4,
    "start_time": "2024-07-15T21:03:06.991Z"
   },
   {
    "duration": 33,
    "start_time": "2024-07-15T21:03:06.999Z"
   },
   {
    "duration": 7,
    "start_time": "2024-07-15T21:03:07.035Z"
   },
   {
    "duration": 5,
    "start_time": "2024-07-15T21:03:07.046Z"
   },
   {
    "duration": 13,
    "start_time": "2024-07-15T21:03:07.055Z"
   },
   {
    "duration": 7,
    "start_time": "2024-07-15T21:03:07.071Z"
   },
   {
    "duration": 6,
    "start_time": "2024-07-15T21:03:07.124Z"
   },
   {
    "duration": 11,
    "start_time": "2024-07-15T21:03:07.134Z"
   },
   {
    "duration": 465,
    "start_time": "2024-07-15T21:03:07.149Z"
   },
   {
    "duration": 543,
    "start_time": "2024-07-15T21:03:07.622Z"
   },
   {
    "duration": 18,
    "start_time": "2024-07-15T21:03:08.168Z"
   },
   {
    "duration": 454,
    "start_time": "2024-07-15T21:03:08.188Z"
   },
   {
    "duration": 280,
    "start_time": "2024-07-15T21:03:08.646Z"
   },
   {
    "duration": 8,
    "start_time": "2024-07-15T21:03:08.929Z"
   },
   {
    "duration": 197,
    "start_time": "2024-07-15T21:03:08.940Z"
   },
   {
    "duration": 955,
    "start_time": "2024-07-15T21:03:09.140Z"
   },
   {
    "duration": 6,
    "start_time": "2024-07-15T21:03:10.098Z"
   },
   {
    "duration": 690,
    "start_time": "2024-07-15T21:11:45.458Z"
   },
   {
    "duration": 1752,
    "start_time": "2024-07-15T21:11:46.151Z"
   },
   {
    "duration": 36,
    "start_time": "2024-07-15T21:11:47.906Z"
   },
   {
    "duration": 24,
    "start_time": "2024-07-15T21:11:47.945Z"
   },
   {
    "duration": 56,
    "start_time": "2024-07-15T21:11:47.973Z"
   },
   {
    "duration": 20,
    "start_time": "2024-07-15T21:11:48.032Z"
   },
   {
    "duration": 21,
    "start_time": "2024-07-15T21:11:48.055Z"
   },
   {
    "duration": 44,
    "start_time": "2024-07-15T21:11:48.079Z"
   },
   {
    "duration": 16,
    "start_time": "2024-07-15T21:11:48.125Z"
   },
   {
    "duration": 214,
    "start_time": "2024-07-15T21:11:48.144Z"
   },
   {
    "duration": 4,
    "start_time": "2024-07-15T21:11:48.360Z"
   },
   {
    "duration": 19,
    "start_time": "2024-07-15T21:11:48.367Z"
   },
   {
    "duration": 227,
    "start_time": "2024-07-15T21:11:48.389Z"
   },
   {
    "duration": 15,
    "start_time": "2024-07-15T21:11:48.623Z"
   },
   {
    "duration": 4,
    "start_time": "2024-07-15T21:11:48.641Z"
   },
   {
    "duration": 204,
    "start_time": "2024-07-15T21:11:48.648Z"
   },
   {
    "duration": 47,
    "start_time": "2024-07-15T21:11:48.855Z"
   },
   {
    "duration": 41,
    "start_time": "2024-07-15T21:11:48.905Z"
   },
   {
    "duration": 12,
    "start_time": "2024-07-15T21:11:48.948Z"
   },
   {
    "duration": 65,
    "start_time": "2024-07-15T21:11:48.963Z"
   },
   {
    "duration": 48,
    "start_time": "2024-07-15T21:11:49.031Z"
   },
   {
    "duration": 3,
    "start_time": "2024-07-15T21:11:49.082Z"
   },
   {
    "duration": 38,
    "start_time": "2024-07-15T21:11:49.089Z"
   },
   {
    "duration": 4,
    "start_time": "2024-07-15T21:11:49.131Z"
   },
   {
    "duration": 10,
    "start_time": "2024-07-15T21:11:49.138Z"
   },
   {
    "duration": 3,
    "start_time": "2024-07-15T21:11:49.152Z"
   },
   {
    "duration": 63,
    "start_time": "2024-07-15T21:11:49.159Z"
   },
   {
    "duration": 4,
    "start_time": "2024-07-15T21:11:49.226Z"
   },
   {
    "duration": 10,
    "start_time": "2024-07-15T21:11:49.233Z"
   },
   {
    "duration": 1486,
    "start_time": "2024-07-15T21:11:49.247Z"
   },
   {
    "duration": 1281,
    "start_time": "2024-07-15T21:11:50.736Z"
   },
   {
    "duration": 22,
    "start_time": "2024-07-15T21:11:52.019Z"
   },
   {
    "duration": 13,
    "start_time": "2024-07-15T21:11:52.044Z"
   },
   {
    "duration": 14,
    "start_time": "2024-07-15T21:11:52.060Z"
   },
   {
    "duration": 47,
    "start_time": "2024-07-15T21:11:52.077Z"
   },
   {
    "duration": 15,
    "start_time": "2024-07-15T21:11:52.127Z"
   },
   {
    "duration": 11,
    "start_time": "2024-07-15T21:11:52.144Z"
   },
   {
    "duration": 14,
    "start_time": "2024-07-15T21:11:52.158Z"
   },
   {
    "duration": 72,
    "start_time": "2024-07-15T21:11:52.175Z"
   },
   {
    "duration": 77,
    "start_time": "2024-07-15T21:11:52.250Z"
   },
   {
    "duration": 13,
    "start_time": "2024-07-15T21:11:52.336Z"
   },
   {
    "duration": 3,
    "start_time": "2024-07-15T21:11:52.353Z"
   },
   {
    "duration": 602,
    "start_time": "2024-07-15T21:11:52.360Z"
   },
   {
    "duration": 114,
    "start_time": "2024-07-15T21:11:52.965Z"
   },
   {
    "duration": 4,
    "start_time": "2024-07-15T21:11:53.082Z"
   },
   {
    "duration": 84,
    "start_time": "2024-07-15T21:11:53.088Z"
   },
   {
    "duration": 12,
    "start_time": "2024-07-15T21:11:53.175Z"
   },
   {
    "duration": 361,
    "start_time": "2024-07-15T21:11:53.190Z"
   },
   {
    "duration": 8,
    "start_time": "2024-07-15T21:11:53.554Z"
   },
   {
    "duration": 10,
    "start_time": "2024-07-15T21:11:53.565Z"
   },
   {
    "duration": 15,
    "start_time": "2024-07-15T21:11:53.578Z"
   },
   {
    "duration": 27,
    "start_time": "2024-07-15T21:11:53.599Z"
   },
   {
    "duration": 11,
    "start_time": "2024-07-15T21:11:53.629Z"
   },
   {
    "duration": 8,
    "start_time": "2024-07-15T21:11:53.643Z"
   },
   {
    "duration": 17,
    "start_time": "2024-07-15T21:11:53.654Z"
   },
   {
    "duration": 48,
    "start_time": "2024-07-15T21:11:53.675Z"
   },
   {
    "duration": 437,
    "start_time": "2024-07-15T21:11:53.727Z"
   },
   {
    "duration": 516,
    "start_time": "2024-07-15T21:11:54.167Z"
   },
   {
    "duration": 10,
    "start_time": "2024-07-15T21:11:54.687Z"
   },
   {
    "duration": 453,
    "start_time": "2024-07-15T21:11:54.700Z"
   },
   {
    "duration": 269,
    "start_time": "2024-07-15T21:11:55.156Z"
   },
   {
    "duration": 7,
    "start_time": "2024-07-15T21:11:55.428Z"
   },
   {
    "duration": 194,
    "start_time": "2024-07-15T21:11:55.438Z"
   },
   {
    "duration": 913,
    "start_time": "2024-07-15T21:11:55.635Z"
   },
   {
    "duration": 6,
    "start_time": "2024-07-15T21:11:56.551Z"
   },
   {
    "duration": 1545,
    "start_time": "2024-07-15T21:11:56.560Z"
   },
   {
    "duration": 40,
    "start_time": "2024-07-15T21:11:58.107Z"
   },
   {
    "duration": 986,
    "start_time": "2024-07-15T21:11:58.150Z"
   },
   {
    "duration": 148,
    "start_time": "2024-07-15T21:11:59.139Z"
   },
   {
    "duration": 34,
    "start_time": "2024-07-15T21:11:59.290Z"
   },
   {
    "duration": 6,
    "start_time": "2024-07-15T21:12:18.951Z"
   },
   {
    "duration": 216,
    "start_time": "2024-07-15T21:26:01.229Z"
   },
   {
    "duration": 723,
    "start_time": "2024-07-15T21:29:29.315Z"
   },
   {
    "duration": 1759,
    "start_time": "2024-07-15T21:29:30.042Z"
   },
   {
    "duration": 37,
    "start_time": "2024-07-15T21:29:31.804Z"
   },
   {
    "duration": 22,
    "start_time": "2024-07-15T21:29:31.846Z"
   },
   {
    "duration": 52,
    "start_time": "2024-07-15T21:29:31.871Z"
   },
   {
    "duration": 21,
    "start_time": "2024-07-15T21:29:31.925Z"
   },
   {
    "duration": 19,
    "start_time": "2024-07-15T21:29:31.950Z"
   },
   {
    "duration": 6,
    "start_time": "2024-07-15T21:29:31.972Z"
   },
   {
    "duration": 56,
    "start_time": "2024-07-15T21:29:31.981Z"
   },
   {
    "duration": 191,
    "start_time": "2024-07-15T21:29:32.042Z"
   },
   {
    "duration": 3,
    "start_time": "2024-07-15T21:29:32.236Z"
   },
   {
    "duration": 20,
    "start_time": "2024-07-15T21:29:32.243Z"
   },
   {
    "duration": 229,
    "start_time": "2024-07-15T21:29:32.266Z"
   },
   {
    "duration": 29,
    "start_time": "2024-07-15T21:29:32.497Z"
   },
   {
    "duration": 5,
    "start_time": "2024-07-15T21:29:32.529Z"
   },
   {
    "duration": 187,
    "start_time": "2024-07-15T21:29:32.537Z"
   },
   {
    "duration": 46,
    "start_time": "2024-07-15T21:29:32.727Z"
   },
   {
    "duration": 49,
    "start_time": "2024-07-15T21:29:32.777Z"
   },
   {
    "duration": 14,
    "start_time": "2024-07-15T21:29:32.829Z"
   },
   {
    "duration": 39,
    "start_time": "2024-07-15T21:29:32.846Z"
   },
   {
    "duration": 78,
    "start_time": "2024-07-15T21:29:32.888Z"
   },
   {
    "duration": 4,
    "start_time": "2024-07-15T21:29:32.968Z"
   },
   {
    "duration": 10,
    "start_time": "2024-07-15T21:29:32.975Z"
   },
   {
    "duration": 37,
    "start_time": "2024-07-15T21:29:32.987Z"
   },
   {
    "duration": 10,
    "start_time": "2024-07-15T21:29:33.028Z"
   },
   {
    "duration": 4,
    "start_time": "2024-07-15T21:29:33.041Z"
   },
   {
    "duration": 10,
    "start_time": "2024-07-15T21:29:33.047Z"
   },
   {
    "duration": 6,
    "start_time": "2024-07-15T21:29:33.069Z"
   },
   {
    "duration": 54,
    "start_time": "2024-07-15T21:29:33.077Z"
   },
   {
    "duration": 1384,
    "start_time": "2024-07-15T21:29:33.134Z"
   },
   {
    "duration": 1185,
    "start_time": "2024-07-15T21:29:34.523Z"
   },
   {
    "duration": 27,
    "start_time": "2024-07-15T21:29:35.711Z"
   },
   {
    "duration": 15,
    "start_time": "2024-07-15T21:29:35.741Z"
   },
   {
    "duration": 13,
    "start_time": "2024-07-15T21:29:35.759Z"
   },
   {
    "duration": 4,
    "start_time": "2024-07-15T21:29:35.775Z"
   },
   {
    "duration": 14,
    "start_time": "2024-07-15T21:29:35.823Z"
   },
   {
    "duration": 11,
    "start_time": "2024-07-15T21:29:35.842Z"
   },
   {
    "duration": 13,
    "start_time": "2024-07-15T21:29:35.856Z"
   },
   {
    "duration": 66,
    "start_time": "2024-07-15T21:29:35.871Z"
   },
   {
    "duration": 50,
    "start_time": "2024-07-15T21:29:35.940Z"
   },
   {
    "duration": 33,
    "start_time": "2024-07-15T21:29:35.994Z"
   },
   {
    "duration": 3,
    "start_time": "2024-07-15T21:29:36.030Z"
   },
   {
    "duration": 568,
    "start_time": "2024-07-15T21:29:36.036Z"
   },
   {
    "duration": 119,
    "start_time": "2024-07-15T21:29:36.607Z"
   },
   {
    "duration": 3,
    "start_time": "2024-07-15T21:29:36.730Z"
   },
   {
    "duration": 63,
    "start_time": "2024-07-15T21:29:36.736Z"
   },
   {
    "duration": 12,
    "start_time": "2024-07-15T21:29:36.824Z"
   },
   {
    "duration": 356,
    "start_time": "2024-07-15T21:29:36.838Z"
   },
   {
    "duration": 4,
    "start_time": "2024-07-15T21:29:37.197Z"
   },
   {
    "duration": 27,
    "start_time": "2024-07-15T21:29:37.204Z"
   },
   {
    "duration": 6,
    "start_time": "2024-07-15T21:29:37.234Z"
   },
   {
    "duration": 6,
    "start_time": "2024-07-15T21:29:37.243Z"
   },
   {
    "duration": 11,
    "start_time": "2024-07-15T21:29:37.252Z"
   },
   {
    "duration": 7,
    "start_time": "2024-07-15T21:29:37.265Z"
   },
   {
    "duration": 49,
    "start_time": "2024-07-15T21:29:37.275Z"
   },
   {
    "duration": 15,
    "start_time": "2024-07-15T21:29:37.328Z"
   },
   {
    "duration": 440,
    "start_time": "2024-07-15T21:29:37.346Z"
   },
   {
    "duration": 518,
    "start_time": "2024-07-15T21:29:37.790Z"
   },
   {
    "duration": 14,
    "start_time": "2024-07-15T21:29:38.311Z"
   },
   {
    "duration": 452,
    "start_time": "2024-07-15T21:29:38.328Z"
   },
   {
    "duration": 267,
    "start_time": "2024-07-15T21:29:38.783Z"
   },
   {
    "duration": 8,
    "start_time": "2024-07-15T21:29:39.052Z"
   },
   {
    "duration": 184,
    "start_time": "2024-07-15T21:29:39.064Z"
   },
   {
    "duration": 929,
    "start_time": "2024-07-15T21:29:39.250Z"
   },
   {
    "duration": 5,
    "start_time": "2024-07-15T21:29:40.182Z"
   },
   {
    "duration": 1457,
    "start_time": "2024-07-15T21:29:40.191Z"
   },
   {
    "duration": 31,
    "start_time": "2024-07-15T21:29:41.651Z"
   },
   {
    "duration": 968,
    "start_time": "2024-07-15T21:29:41.685Z"
   },
   {
    "duration": 144,
    "start_time": "2024-07-15T21:29:42.657Z"
   },
   {
    "duration": 29,
    "start_time": "2024-07-15T21:29:42.804Z"
   },
   {
    "duration": 441,
    "start_time": "2024-07-15T22:00:53.542Z"
   },
   {
    "duration": 24,
    "start_time": "2024-07-15T22:02:30.434Z"
   },
   {
    "duration": 17,
    "start_time": "2024-07-15T22:06:25.478Z"
   },
   {
    "duration": 341,
    "start_time": "2024-07-15T23:19:47.941Z"
   },
   {
    "duration": 25,
    "start_time": "2024-07-15T23:23:42.927Z"
   },
   {
    "duration": 21,
    "start_time": "2024-07-15T23:25:00.542Z"
   },
   {
    "duration": 29,
    "start_time": "2024-07-15T23:25:43.745Z"
   },
   {
    "duration": 21,
    "start_time": "2024-07-15T23:25:46.743Z"
   },
   {
    "duration": 4522,
    "start_time": "2024-07-15T23:25:59.033Z"
   },
   {
    "duration": 1750,
    "start_time": "2024-07-15T23:26:03.558Z"
   },
   {
    "duration": 31,
    "start_time": "2024-07-15T23:26:05.311Z"
   },
   {
    "duration": 23,
    "start_time": "2024-07-15T23:26:05.346Z"
   },
   {
    "duration": 21,
    "start_time": "2024-07-15T23:26:05.403Z"
   },
   {
    "duration": 21,
    "start_time": "2024-07-15T23:26:05.427Z"
   },
   {
    "duration": 57,
    "start_time": "2024-07-15T23:26:05.452Z"
   },
   {
    "duration": 72,
    "start_time": "2024-07-15T23:26:27.657Z"
   },
   {
    "duration": 17,
    "start_time": "2024-07-15T23:27:05.604Z"
   },
   {
    "duration": 631,
    "start_time": "2024-07-15T23:30:08.338Z"
   },
   {
    "duration": 17,
    "start_time": "2024-07-15T23:31:27.128Z"
   },
   {
    "duration": 207,
    "start_time": "2024-07-15T23:34:06.663Z"
   },
   {
    "duration": 67,
    "start_time": "2024-07-15T23:34:25.932Z"
   },
   {
    "duration": 57,
    "start_time": "2024-07-15T23:34:42.781Z"
   },
   {
    "duration": 66,
    "start_time": "2024-07-15T23:36:07.752Z"
   },
   {
    "duration": 17,
    "start_time": "2024-07-15T23:36:10.244Z"
   },
   {
    "duration": 19,
    "start_time": "2024-07-15T23:41:06.884Z"
   },
   {
    "duration": 26,
    "start_time": "2024-07-15T23:44:27.823Z"
   },
   {
    "duration": 25,
    "start_time": "2024-07-15T23:45:09.360Z"
   },
   {
    "duration": 20,
    "start_time": "2024-07-15T23:46:59.953Z"
   },
   {
    "duration": 17,
    "start_time": "2024-07-15T23:47:10.943Z"
   },
   {
    "duration": 20,
    "start_time": "2024-07-15T23:47:22.633Z"
   },
   {
    "duration": 20,
    "start_time": "2024-07-15T23:47:34.159Z"
   },
   {
    "duration": 18,
    "start_time": "2024-07-15T23:47:59.451Z"
   },
   {
    "duration": 17,
    "start_time": "2024-07-15T23:48:04.502Z"
   },
   {
    "duration": 19,
    "start_time": "2024-07-15T23:48:38.165Z"
   },
   {
    "duration": 6,
    "start_time": "2024-07-15T23:48:44.015Z"
   },
   {
    "duration": 0,
    "start_time": "2024-07-15T23:50:15.457Z"
   },
   {
    "duration": 0,
    "start_time": "2024-07-15T23:50:15.460Z"
   },
   {
    "duration": 4,
    "start_time": "2024-07-15T23:50:21.592Z"
   },
   {
    "duration": 1547,
    "start_time": "2024-07-15T23:50:21.763Z"
   },
   {
    "duration": 25,
    "start_time": "2024-07-15T23:50:23.313Z"
   },
   {
    "duration": 25,
    "start_time": "2024-07-15T23:50:23.341Z"
   },
   {
    "duration": 19,
    "start_time": "2024-07-15T23:50:23.401Z"
   },
   {
    "duration": 19,
    "start_time": "2024-07-15T23:50:23.423Z"
   },
   {
    "duration": 19,
    "start_time": "2024-07-15T23:50:23.445Z"
   },
   {
    "duration": 3,
    "start_time": "2024-07-15T23:50:23.722Z"
   },
   {
    "duration": 17,
    "start_time": "2024-07-15T23:50:24.065Z"
   },
   {
    "duration": 191,
    "start_time": "2024-07-15T23:50:35.352Z"
   },
   {
    "duration": 4,
    "start_time": "2024-07-15T23:50:37.843Z"
   },
   {
    "duration": 24,
    "start_time": "2024-07-15T23:50:38.044Z"
   },
   {
    "duration": 206,
    "start_time": "2024-07-15T23:50:38.975Z"
   },
   {
    "duration": 19,
    "start_time": "2024-07-15T23:50:39.238Z"
   },
   {
    "duration": 4,
    "start_time": "2024-07-15T23:50:39.956Z"
   },
   {
    "duration": 199,
    "start_time": "2024-07-15T23:50:40.245Z"
   },
   {
    "duration": 57,
    "start_time": "2024-07-15T23:50:40.671Z"
   },
   {
    "duration": 28,
    "start_time": "2024-07-15T23:50:41.854Z"
   },
   {
    "duration": 13,
    "start_time": "2024-07-15T23:50:42.019Z"
   },
   {
    "duration": 42,
    "start_time": "2024-07-15T23:50:42.174Z"
   },
   {
    "duration": 49,
    "start_time": "2024-07-15T23:50:42.350Z"
   },
   {
    "duration": 4,
    "start_time": "2024-07-15T23:50:42.879Z"
   },
   {
    "duration": 9,
    "start_time": "2024-07-15T23:50:43.068Z"
   },
   {
    "duration": 3,
    "start_time": "2024-07-15T23:50:43.245Z"
   },
   {
    "duration": 10,
    "start_time": "2024-07-15T23:50:43.441Z"
   },
   {
    "duration": 3,
    "start_time": "2024-07-15T23:50:44.226Z"
   },
   {
    "duration": 10,
    "start_time": "2024-07-15T23:50:44.470Z"
   },
   {
    "duration": 3,
    "start_time": "2024-07-15T23:50:44.700Z"
   },
   {
    "duration": 10,
    "start_time": "2024-07-15T23:50:44.907Z"
   },
   {
    "duration": 1469,
    "start_time": "2024-07-15T23:50:45.955Z"
   },
   {
    "duration": 1288,
    "start_time": "2024-07-15T23:50:47.428Z"
   },
   {
    "duration": 20,
    "start_time": "2024-07-15T23:50:49.442Z"
   },
   {
    "duration": 12,
    "start_time": "2024-07-15T23:50:50.201Z"
   },
   {
    "duration": 12,
    "start_time": "2024-07-15T23:50:50.560Z"
   },
   {
    "duration": 3,
    "start_time": "2024-07-15T23:50:50.907Z"
   },
   {
    "duration": 18,
    "start_time": "2024-07-15T23:50:51.251Z"
   },
   {
    "duration": 12,
    "start_time": "2024-07-15T23:50:51.772Z"
   },
   {
    "duration": 11,
    "start_time": "2024-07-15T23:50:51.946Z"
   },
   {
    "duration": 31,
    "start_time": "2024-07-15T23:50:52.457Z"
   },
   {
    "duration": 54,
    "start_time": "2024-07-15T23:50:52.635Z"
   },
   {
    "duration": 15,
    "start_time": "2024-07-15T23:50:53.512Z"
   },
   {
    "duration": 4,
    "start_time": "2024-07-15T23:50:54.272Z"
   },
   {
    "duration": 686,
    "start_time": "2024-07-15T23:50:54.976Z"
   },
   {
    "duration": 108,
    "start_time": "2024-07-15T23:50:55.795Z"
   },
   {
    "duration": 5,
    "start_time": "2024-07-15T23:50:56.407Z"
   },
   {
    "duration": 70,
    "start_time": "2024-07-15T23:50:57.240Z"
   },
   {
    "duration": 16,
    "start_time": "2024-07-15T23:51:00.503Z"
   },
   {
    "duration": 13,
    "start_time": "2024-07-15T23:51:02.665Z"
   },
   {
    "duration": 364,
    "start_time": "2024-07-15T23:51:02.881Z"
   },
   {
    "duration": 5,
    "start_time": "2024-07-15T23:51:06.641Z"
   },
   {
    "duration": 11,
    "start_time": "2024-07-15T23:51:06.902Z"
   },
   {
    "duration": 7,
    "start_time": "2024-07-15T23:51:07.243Z"
   },
   {
    "duration": 5,
    "start_time": "2024-07-15T23:51:07.954Z"
   },
   {
    "duration": 14,
    "start_time": "2024-07-15T23:51:08.740Z"
   },
   {
    "duration": 7,
    "start_time": "2024-07-15T23:51:09.294Z"
   },
   {
    "duration": 8,
    "start_time": "2024-07-15T23:51:09.946Z"
   },
   {
    "duration": 10,
    "start_time": "2024-07-15T23:51:10.744Z"
   },
   {
    "duration": 413,
    "start_time": "2024-07-15T23:51:11.395Z"
   },
   {
    "duration": 65,
    "start_time": "2024-07-15T23:51:13.758Z"
   },
   {
    "duration": 51,
    "start_time": "2024-07-15T23:51:50.961Z"
   },
   {
    "duration": 214,
    "start_time": "2024-07-15T23:52:00.657Z"
   },
   {
    "duration": 380,
    "start_time": "2024-07-15T23:52:36.913Z"
   },
   {
    "duration": 7,
    "start_time": "2024-07-15T23:53:39.069Z"
   },
   {
    "duration": 345,
    "start_time": "2024-07-15T23:53:44.969Z"
   },
   {
    "duration": 90,
    "start_time": "2024-07-15T23:54:15.932Z"
   },
   {
    "duration": 70,
    "start_time": "2024-07-15T23:56:24.755Z"
   },
   {
    "duration": 78,
    "start_time": "2024-07-15T23:56:37.725Z"
   },
   {
    "duration": 80,
    "start_time": "2024-07-15T23:57:16.935Z"
   },
   {
    "duration": 92,
    "start_time": "2024-07-15T23:57:39.357Z"
   },
   {
    "duration": 83,
    "start_time": "2024-07-15T23:58:21.869Z"
   },
   {
    "duration": 89,
    "start_time": "2024-07-15T23:59:55.876Z"
   },
   {
    "duration": 111,
    "start_time": "2024-07-16T00:00:05.891Z"
   },
   {
    "duration": 86,
    "start_time": "2024-07-16T00:00:22.636Z"
   },
   {
    "duration": 100,
    "start_time": "2024-07-16T00:00:38.215Z"
   },
   {
    "duration": 87,
    "start_time": "2024-07-16T00:00:44.568Z"
   },
   {
    "duration": 106,
    "start_time": "2024-07-16T00:00:50.596Z"
   },
   {
    "duration": 91,
    "start_time": "2024-07-16T00:01:34.317Z"
   },
   {
    "duration": 86,
    "start_time": "2024-07-16T00:01:52.251Z"
   },
   {
    "duration": 102,
    "start_time": "2024-07-16T00:02:08.502Z"
   },
   {
    "duration": 84,
    "start_time": "2024-07-16T00:03:01.615Z"
   },
   {
    "duration": 79,
    "start_time": "2024-07-16T00:03:13.435Z"
   },
   {
    "duration": 109,
    "start_time": "2024-07-16T00:03:24.428Z"
   },
   {
    "duration": 84,
    "start_time": "2024-07-16T00:03:30.775Z"
   },
   {
    "duration": 80,
    "start_time": "2024-07-16T00:03:48.458Z"
   },
   {
    "duration": 36,
    "start_time": "2024-07-16T00:10:15.374Z"
   },
   {
    "duration": 2005,
    "start_time": "2024-07-16T00:17:20.403Z"
   },
   {
    "duration": 11,
    "start_time": "2024-07-16T00:17:27.551Z"
   },
   {
    "duration": 2026,
    "start_time": "2024-07-16T00:20:03.623Z"
   },
   {
    "duration": 11,
    "start_time": "2024-07-16T00:20:05.652Z"
   },
   {
    "duration": 1965,
    "start_time": "2024-07-16T00:21:52.004Z"
   },
   {
    "duration": 1987,
    "start_time": "2024-07-16T00:23:37.145Z"
   },
   {
    "duration": 11,
    "start_time": "2024-07-16T00:23:40.718Z"
   },
   {
    "duration": 2016,
    "start_time": "2024-07-16T00:23:47.534Z"
   },
   {
    "duration": 11,
    "start_time": "2024-07-16T00:23:49.553Z"
   },
   {
    "duration": 2006,
    "start_time": "2024-07-16T00:25:41.005Z"
   },
   {
    "duration": 11,
    "start_time": "2024-07-16T00:25:43.015Z"
   },
   {
    "duration": 588,
    "start_time": "2024-07-16T00:26:01.539Z"
   },
   {
    "duration": 9,
    "start_time": "2024-07-16T00:26:02.153Z"
   },
   {
    "duration": 447,
    "start_time": "2024-07-16T00:26:03.269Z"
   },
   {
    "duration": 265,
    "start_time": "2024-07-16T00:26:04.094Z"
   },
   {
    "duration": 26,
    "start_time": "2024-07-16T00:28:30.415Z"
   },
   {
    "duration": 188,
    "start_time": "2024-07-16T00:28:38.425Z"
   },
   {
    "duration": 979,
    "start_time": "2024-07-16T00:28:39.284Z"
   },
   {
    "duration": 1516,
    "start_time": "2024-07-16T00:29:17.329Z"
   },
   {
    "duration": 11,
    "start_time": "2024-07-16T00:29:18.849Z"
   },
   {
    "duration": 1636,
    "start_time": "2024-07-16T00:31:03.899Z"
   },
   {
    "duration": 1,
    "start_time": "2024-07-16T00:31:05.537Z"
   },
   {
    "duration": 1646,
    "start_time": "2024-07-16T00:31:52.840Z"
   },
   {
    "duration": 11,
    "start_time": "2024-07-16T00:31:58.236Z"
   },
   {
    "duration": 10,
    "start_time": "2024-07-16T00:32:39.592Z"
   },
   {
    "duration": 10,
    "start_time": "2024-07-16T00:32:58.438Z"
   },
   {
    "duration": 221,
    "start_time": "2024-07-16T00:35:46.014Z"
   },
   {
    "duration": 204,
    "start_time": "2024-07-16T00:36:32.135Z"
   },
   {
    "duration": 181,
    "start_time": "2024-07-16T00:36:50.954Z"
   },
   {
    "duration": 192,
    "start_time": "2024-07-16T00:36:52.743Z"
   },
   {
    "duration": 201,
    "start_time": "2024-07-16T00:37:16.383Z"
   },
   {
    "duration": 265,
    "start_time": "2024-07-16T00:37:51.483Z"
   },
   {
    "duration": 189,
    "start_time": "2024-07-16T00:38:30.154Z"
   },
   {
    "duration": 243,
    "start_time": "2024-07-16T00:40:25.826Z"
   },
   {
    "duration": 189,
    "start_time": "2024-07-16T00:43:00.576Z"
   },
   {
    "duration": 194,
    "start_time": "2024-07-16T00:44:20.569Z"
   },
   {
    "duration": 193,
    "start_time": "2024-07-16T00:45:35.380Z"
   },
   {
    "duration": 198,
    "start_time": "2024-07-16T00:46:21.398Z"
   },
   {
    "duration": 203,
    "start_time": "2024-07-16T00:46:33.792Z"
   },
   {
    "duration": 185,
    "start_time": "2024-07-16T00:47:41.793Z"
   },
   {
    "duration": 1130,
    "start_time": "2024-07-16T00:50:10.364Z"
   },
   {
    "duration": 234,
    "start_time": "2024-07-16T00:50:58.296Z"
   },
   {
    "duration": 1119,
    "start_time": "2024-07-16T00:51:09.293Z"
   },
   {
    "duration": 195,
    "start_time": "2024-07-16T00:51:30.849Z"
   },
   {
    "duration": 1026,
    "start_time": "2024-07-16T00:53:25.953Z"
   },
   {
    "duration": 323,
    "start_time": "2024-07-16T00:54:38.562Z"
   },
   {
    "duration": 716,
    "start_time": "2024-07-16T00:54:50.651Z"
   },
   {
    "duration": 1727,
    "start_time": "2024-07-16T00:54:51.638Z"
   },
   {
    "duration": 44,
    "start_time": "2024-07-16T00:54:53.368Z"
   },
   {
    "duration": 25,
    "start_time": "2024-07-16T00:54:53.415Z"
   },
   {
    "duration": 20,
    "start_time": "2024-07-16T00:54:54.369Z"
   },
   {
    "duration": 21,
    "start_time": "2024-07-16T00:54:55.217Z"
   },
   {
    "duration": 19,
    "start_time": "2024-07-16T00:54:55.967Z"
   },
   {
    "duration": 3,
    "start_time": "2024-07-16T00:54:57.903Z"
   },
   {
    "duration": 16,
    "start_time": "2024-07-16T00:54:58.104Z"
   },
   {
    "duration": 247,
    "start_time": "2024-07-16T00:54:59.263Z"
   },
   {
    "duration": 4,
    "start_time": "2024-07-16T00:55:00.718Z"
   },
   {
    "duration": 19,
    "start_time": "2024-07-16T00:55:01.039Z"
   },
   {
    "duration": 198,
    "start_time": "2024-07-16T00:55:02.327Z"
   },
   {
    "duration": 16,
    "start_time": "2024-07-16T00:55:02.553Z"
   },
   {
    "duration": 4,
    "start_time": "2024-07-16T00:55:02.725Z"
   },
   {
    "duration": 183,
    "start_time": "2024-07-16T00:55:02.900Z"
   },
   {
    "duration": 60,
    "start_time": "2024-07-16T00:55:03.087Z"
   },
   {
    "duration": 35,
    "start_time": "2024-07-16T00:55:03.636Z"
   },
   {
    "duration": 15,
    "start_time": "2024-07-16T00:55:03.819Z"
   },
   {
    "duration": 46,
    "start_time": "2024-07-16T00:55:04.004Z"
   },
   {
    "duration": 48,
    "start_time": "2024-07-16T00:55:04.184Z"
   },
   {
    "duration": 3,
    "start_time": "2024-07-16T00:55:04.761Z"
   },
   {
    "duration": 10,
    "start_time": "2024-07-16T00:55:04.948Z"
   },
   {
    "duration": 3,
    "start_time": "2024-07-16T00:55:05.143Z"
   },
   {
    "duration": 10,
    "start_time": "2024-07-16T00:55:05.330Z"
   },
   {
    "duration": 3,
    "start_time": "2024-07-16T00:55:07.423Z"
   },
   {
    "duration": 9,
    "start_time": "2024-07-16T00:55:07.599Z"
   },
   {
    "duration": 3,
    "start_time": "2024-07-16T00:55:07.784Z"
   },
   {
    "duration": 10,
    "start_time": "2024-07-16T00:55:07.953Z"
   },
   {
    "duration": 1494,
    "start_time": "2024-07-16T00:55:08.515Z"
   },
   {
    "duration": 1268,
    "start_time": "2024-07-16T00:55:10.013Z"
   },
   {
    "duration": 31,
    "start_time": "2024-07-16T00:55:11.285Z"
   },
   {
    "duration": 13,
    "start_time": "2024-07-16T00:55:12.401Z"
   },
   {
    "duration": 14,
    "start_time": "2024-07-16T00:55:12.768Z"
   },
   {
    "duration": 4,
    "start_time": "2024-07-16T00:55:13.100Z"
   },
   {
    "duration": 15,
    "start_time": "2024-07-16T00:55:13.469Z"
   },
   {
    "duration": 14,
    "start_time": "2024-07-16T00:55:14.000Z"
   },
   {
    "duration": 12,
    "start_time": "2024-07-16T00:55:14.184Z"
   },
   {
    "duration": 30,
    "start_time": "2024-07-16T00:55:14.756Z"
   },
   {
    "duration": 53,
    "start_time": "2024-07-16T00:55:14.965Z"
   },
   {
    "duration": 14,
    "start_time": "2024-07-16T00:55:15.340Z"
   },
   {
    "duration": 3,
    "start_time": "2024-07-16T00:55:15.517Z"
   },
   {
    "duration": 646,
    "start_time": "2024-07-16T00:55:15.723Z"
   },
   {
    "duration": 122,
    "start_time": "2024-07-16T00:55:16.374Z"
   },
   {
    "duration": 4,
    "start_time": "2024-07-16T00:55:16.602Z"
   },
   {
    "duration": 72,
    "start_time": "2024-07-16T00:55:16.782Z"
   },
   {
    "duration": 17,
    "start_time": "2024-07-16T00:55:17.850Z"
   },
   {
    "duration": 12,
    "start_time": "2024-07-16T00:55:18.565Z"
   },
   {
    "duration": 351,
    "start_time": "2024-07-16T00:55:18.747Z"
   },
   {
    "duration": 7,
    "start_time": "2024-07-16T00:55:20.570Z"
   },
   {
    "duration": 11,
    "start_time": "2024-07-16T00:55:20.756Z"
   },
   {
    "duration": 7,
    "start_time": "2024-07-16T00:55:20.941Z"
   },
   {
    "duration": 5,
    "start_time": "2024-07-16T00:55:21.149Z"
   },
   {
    "duration": 11,
    "start_time": "2024-07-16T00:55:21.319Z"
   },
   {
    "duration": 6,
    "start_time": "2024-07-16T00:55:21.514Z"
   },
   {
    "duration": 6,
    "start_time": "2024-07-16T00:55:21.708Z"
   },
   {
    "duration": 11,
    "start_time": "2024-07-16T00:55:21.908Z"
   },
   {
    "duration": 436,
    "start_time": "2024-07-16T00:55:22.100Z"
   },
   {
    "duration": 101,
    "start_time": "2024-07-16T00:55:23.467Z"
   },
   {
    "duration": 2119,
    "start_time": "2024-07-16T00:55:24.218Z"
   },
   {
    "duration": 17,
    "start_time": "2024-07-16T00:55:26.342Z"
   },
   {
    "duration": 633,
    "start_time": "2024-07-16T00:55:26.362Z"
   },
   {
    "duration": 11,
    "start_time": "2024-07-16T00:55:27.004Z"
   },
   {
    "duration": 566,
    "start_time": "2024-07-16T00:55:27.019Z"
   },
   {
    "duration": 308,
    "start_time": "2024-07-16T00:55:27.589Z"
   },
   {
    "duration": 9,
    "start_time": "2024-07-16T00:55:27.904Z"
   },
   {
    "duration": 214,
    "start_time": "2024-07-16T00:55:27.918Z"
   },
   {
    "duration": 1032,
    "start_time": "2024-07-16T00:55:28.138Z"
   },
   {
    "duration": 8,
    "start_time": "2024-07-16T00:55:29.175Z"
   },
   {
    "duration": 16,
    "start_time": "2024-07-16T00:55:29.187Z"
   },
   {
    "duration": 1681,
    "start_time": "2024-07-16T00:55:29.207Z"
   },
   {
    "duration": 1766,
    "start_time": "2024-07-16T00:55:30.893Z"
   },
   {
    "duration": 46,
    "start_time": "2024-07-16T00:55:32.662Z"
   },
   {
    "duration": 990,
    "start_time": "2024-07-16T00:55:32.713Z"
   },
   {
    "duration": 176,
    "start_time": "2024-07-16T00:55:33.706Z"
   },
   {
    "duration": 32,
    "start_time": "2024-07-16T00:55:33.886Z"
   },
   {
    "duration": 12,
    "start_time": "2024-07-16T01:16:48.495Z"
   },
   {
    "duration": 317,
    "start_time": "2024-07-16T01:25:23.175Z"
   },
   {
    "duration": 22,
    "start_time": "2024-07-16T01:25:54.337Z"
   },
   {
    "duration": 754,
    "start_time": "2024-07-16T01:26:13.667Z"
   },
   {
    "duration": 1790,
    "start_time": "2024-07-16T01:26:14.489Z"
   },
   {
    "duration": 42,
    "start_time": "2024-07-16T01:26:16.282Z"
   },
   {
    "duration": 23,
    "start_time": "2024-07-16T01:26:16.327Z"
   },
   {
    "duration": 19,
    "start_time": "2024-07-16T01:26:17.433Z"
   },
   {
    "duration": 24,
    "start_time": "2024-07-16T01:26:18.244Z"
   },
   {
    "duration": 21,
    "start_time": "2024-07-16T01:26:19.260Z"
   },
   {
    "duration": 3,
    "start_time": "2024-07-16T01:26:22.399Z"
   },
   {
    "duration": 17,
    "start_time": "2024-07-16T01:26:23.213Z"
   },
   {
    "duration": 265,
    "start_time": "2024-07-16T01:26:24.597Z"
   },
   {
    "duration": 4,
    "start_time": "2024-07-16T01:26:27.364Z"
   },
   {
    "duration": 30,
    "start_time": "2024-07-16T01:26:28.210Z"
   },
   {
    "duration": 241,
    "start_time": "2024-07-16T01:26:30.788Z"
   },
   {
    "duration": 17,
    "start_time": "2024-07-16T01:26:34.331Z"
   },
   {
    "duration": 5,
    "start_time": "2024-07-16T01:26:36.504Z"
   },
   {
    "duration": 212,
    "start_time": "2024-07-16T01:26:37.701Z"
   },
   {
    "duration": 65,
    "start_time": "2024-07-16T01:26:39.233Z"
   },
   {
    "duration": 29,
    "start_time": "2024-07-16T01:26:39.874Z"
   },
   {
    "duration": 14,
    "start_time": "2024-07-16T01:26:40.083Z"
   },
   {
    "duration": 42,
    "start_time": "2024-07-16T01:26:40.282Z"
   },
   {
    "duration": 53,
    "start_time": "2024-07-16T01:26:40.492Z"
   },
   {
    "duration": 3,
    "start_time": "2024-07-16T01:26:41.078Z"
   },
   {
    "duration": 9,
    "start_time": "2024-07-16T01:26:41.288Z"
   },
   {
    "duration": 3,
    "start_time": "2024-07-16T01:26:41.490Z"
   },
   {
    "duration": 11,
    "start_time": "2024-07-16T01:26:41.693Z"
   },
   {
    "duration": 3,
    "start_time": "2024-07-16T01:26:42.316Z"
   },
   {
    "duration": 10,
    "start_time": "2024-07-16T01:26:42.519Z"
   },
   {
    "duration": 3,
    "start_time": "2024-07-16T01:26:42.720Z"
   },
   {
    "duration": 10,
    "start_time": "2024-07-16T01:26:42.907Z"
   },
   {
    "duration": 1517,
    "start_time": "2024-07-16T01:26:43.514Z"
   },
   {
    "duration": 1334,
    "start_time": "2024-07-16T01:26:45.034Z"
   },
   {
    "duration": 33,
    "start_time": "2024-07-16T01:26:46.371Z"
   },
   {
    "duration": 12,
    "start_time": "2024-07-16T01:26:46.412Z"
   },
   {
    "duration": 13,
    "start_time": "2024-07-16T01:26:46.427Z"
   },
   {
    "duration": 3,
    "start_time": "2024-07-16T01:26:46.443Z"
   },
   {
    "duration": 53,
    "start_time": "2024-07-16T01:26:46.449Z"
   },
   {
    "duration": 12,
    "start_time": "2024-07-16T01:26:46.839Z"
   },
   {
    "duration": 12,
    "start_time": "2024-07-16T01:26:47.040Z"
   },
   {
    "duration": 31,
    "start_time": "2024-07-16T01:26:47.871Z"
   },
   {
    "duration": 55,
    "start_time": "2024-07-16T01:26:48.080Z"
   },
   {
    "duration": 14,
    "start_time": "2024-07-16T01:26:48.510Z"
   },
   {
    "duration": 3,
    "start_time": "2024-07-16T01:26:48.698Z"
   },
   {
    "duration": 643,
    "start_time": "2024-07-16T01:26:48.940Z"
   },
   {
    "duration": 116,
    "start_time": "2024-07-16T01:26:49.587Z"
   },
   {
    "duration": 3,
    "start_time": "2024-07-16T01:26:49.707Z"
   },
   {
    "duration": 68,
    "start_time": "2024-07-16T01:26:49.805Z"
   },
   {
    "duration": 16,
    "start_time": "2024-07-16T01:26:51.039Z"
   },
   {
    "duration": 12,
    "start_time": "2024-07-16T01:26:51.245Z"
   },
   {
    "duration": 12,
    "start_time": "2024-07-16T01:26:51.858Z"
   },
   {
    "duration": 347,
    "start_time": "2024-07-16T01:26:53.070Z"
   },
   {
    "duration": 5,
    "start_time": "2024-07-16T01:27:03.775Z"
   },
   {
    "duration": 12,
    "start_time": "2024-07-16T01:27:04.517Z"
   },
   {
    "duration": 7,
    "start_time": "2024-07-16T01:27:05.422Z"
   },
   {
    "duration": 5,
    "start_time": "2024-07-16T01:27:06.359Z"
   },
   {
    "duration": 11,
    "start_time": "2024-07-16T01:27:07.240Z"
   },
   {
    "duration": 9,
    "start_time": "2024-07-16T01:27:08.279Z"
   },
   {
    "duration": 5,
    "start_time": "2024-07-16T01:27:09.036Z"
   },
   {
    "duration": 11,
    "start_time": "2024-07-16T01:27:09.750Z"
   },
   {
    "duration": 409,
    "start_time": "2024-07-16T01:27:16.150Z"
   },
   {
    "duration": 73,
    "start_time": "2024-07-16T01:27:20.783Z"
   },
   {
    "duration": 2237,
    "start_time": "2024-07-16T01:27:24.043Z"
   },
   {
    "duration": 25,
    "start_time": "2024-07-16T01:27:26.284Z"
   },
   {
    "duration": 555,
    "start_time": "2024-07-16T01:27:34.853Z"
   },
   {
    "duration": 10,
    "start_time": "2024-07-16T01:27:36.169Z"
   },
   {
    "duration": 445,
    "start_time": "2024-07-16T01:27:36.921Z"
   },
   {
    "duration": 260,
    "start_time": "2024-07-16T01:27:38.907Z"
   },
   {
    "duration": 7,
    "start_time": "2024-07-16T01:27:40.382Z"
   },
   {
    "duration": 189,
    "start_time": "2024-07-16T01:27:42.849Z"
   },
   {
    "duration": 949,
    "start_time": "2024-07-16T01:27:43.486Z"
   },
   {
    "duration": 6,
    "start_time": "2024-07-16T01:27:44.438Z"
   },
   {
    "duration": 3,
    "start_time": "2024-07-16T01:27:45.755Z"
   },
   {
    "duration": 1588,
    "start_time": "2024-07-16T01:27:48.140Z"
   },
   {
    "duration": 1758,
    "start_time": "2024-07-16T01:27:52.043Z"
   },
   {
    "duration": 33,
    "start_time": "2024-07-16T01:27:53.804Z"
   },
   {
    "duration": 990,
    "start_time": "2024-07-16T01:27:58.335Z"
   },
   {
    "duration": 148,
    "start_time": "2024-07-16T01:27:59.328Z"
   },
   {
    "duration": 34,
    "start_time": "2024-07-16T01:27:59.479Z"
   },
   {
    "duration": 76,
    "start_time": "2024-07-16T01:52:04.306Z"
   },
   {
    "duration": 14,
    "start_time": "2024-07-16T01:52:44.038Z"
   },
   {
    "duration": 401,
    "start_time": "2024-07-16T01:52:48.611Z"
   },
   {
    "duration": 24,
    "start_time": "2024-07-16T01:52:51.940Z"
   },
   {
    "duration": 14,
    "start_time": "2024-07-16T02:03:02.231Z"
   },
   {
    "duration": 13,
    "start_time": "2024-07-16T02:03:07.270Z"
   },
   {
    "duration": 16,
    "start_time": "2024-07-16T02:03:13.596Z"
   },
   {
    "duration": 10,
    "start_time": "2024-07-16T02:13:49.676Z"
   },
   {
    "duration": 10,
    "start_time": "2024-07-16T02:13:52.919Z"
   },
   {
    "duration": 11,
    "start_time": "2024-07-16T02:13:58.504Z"
   },
   {
    "duration": 737,
    "start_time": "2024-07-16T04:13:17.813Z"
   },
   {
    "duration": 1626,
    "start_time": "2024-07-16T04:13:18.554Z"
   },
   {
    "duration": 37,
    "start_time": "2024-07-16T04:13:20.184Z"
   },
   {
    "duration": 22,
    "start_time": "2024-07-16T04:13:20.224Z"
   },
   {
    "duration": 52,
    "start_time": "2024-07-16T04:13:20.251Z"
   },
   {
    "duration": 21,
    "start_time": "2024-07-16T04:13:20.306Z"
   },
   {
    "duration": 20,
    "start_time": "2024-07-16T04:13:20.330Z"
   },
   {
    "duration": 3,
    "start_time": "2024-07-16T04:13:20.353Z"
   },
   {
    "duration": 18,
    "start_time": "2024-07-16T04:13:20.402Z"
   },
   {
    "duration": 226,
    "start_time": "2024-07-16T04:13:20.423Z"
   },
   {
    "duration": 3,
    "start_time": "2024-07-16T04:13:20.652Z"
   },
   {
    "duration": 40,
    "start_time": "2024-07-16T04:13:20.661Z"
   },
   {
    "duration": 210,
    "start_time": "2024-07-16T04:13:20.704Z"
   },
   {
    "duration": 16,
    "start_time": "2024-07-16T04:13:20.921Z"
   },
   {
    "duration": 4,
    "start_time": "2024-07-16T04:13:20.940Z"
   },
   {
    "duration": 217,
    "start_time": "2024-07-16T04:13:20.947Z"
   },
   {
    "duration": 63,
    "start_time": "2024-07-16T04:13:21.167Z"
   },
   {
    "duration": 27,
    "start_time": "2024-07-16T04:13:21.233Z"
   },
   {
    "duration": 40,
    "start_time": "2024-07-16T04:13:21.263Z"
   },
   {
    "duration": 39,
    "start_time": "2024-07-16T04:13:21.305Z"
   },
   {
    "duration": 70,
    "start_time": "2024-07-16T04:13:21.348Z"
   },
   {
    "duration": 3,
    "start_time": "2024-07-16T04:13:21.421Z"
   },
   {
    "duration": 10,
    "start_time": "2024-07-16T04:13:21.427Z"
   },
   {
    "duration": 4,
    "start_time": "2024-07-16T04:13:21.440Z"
   },
   {
    "duration": 10,
    "start_time": "2024-07-16T04:13:21.447Z"
   },
   {
    "duration": 44,
    "start_time": "2024-07-16T04:13:21.460Z"
   },
   {
    "duration": 10,
    "start_time": "2024-07-16T04:13:21.507Z"
   },
   {
    "duration": 4,
    "start_time": "2024-07-16T04:13:21.520Z"
   },
   {
    "duration": 11,
    "start_time": "2024-07-16T04:13:21.527Z"
   },
   {
    "duration": 1597,
    "start_time": "2024-07-16T04:13:21.541Z"
   },
   {
    "duration": 1290,
    "start_time": "2024-07-16T04:13:23.141Z"
   },
   {
    "duration": 18,
    "start_time": "2024-07-16T04:13:24.434Z"
   },
   {
    "duration": 13,
    "start_time": "2024-07-16T04:13:24.455Z"
   },
   {
    "duration": 38,
    "start_time": "2024-07-16T04:13:24.472Z"
   },
   {
    "duration": 4,
    "start_time": "2024-07-16T04:13:24.513Z"
   },
   {
    "duration": 13,
    "start_time": "2024-07-16T04:13:24.520Z"
   },
   {
    "duration": 11,
    "start_time": "2024-07-16T04:13:24.536Z"
   },
   {
    "duration": 60,
    "start_time": "2024-07-16T04:13:24.550Z"
   },
   {
    "duration": 30,
    "start_time": "2024-07-16T04:13:24.612Z"
   },
   {
    "duration": 83,
    "start_time": "2024-07-16T04:13:24.645Z"
   },
   {
    "duration": 14,
    "start_time": "2024-07-16T04:13:24.740Z"
   },
   {
    "duration": 4,
    "start_time": "2024-07-16T04:13:24.757Z"
   },
   {
    "duration": 615,
    "start_time": "2024-07-16T04:13:24.764Z"
   },
   {
    "duration": 120,
    "start_time": "2024-07-16T04:13:25.382Z"
   },
   {
    "duration": 4,
    "start_time": "2024-07-16T04:13:25.506Z"
   },
   {
    "duration": 65,
    "start_time": "2024-07-16T04:13:25.513Z"
   },
   {
    "duration": 17,
    "start_time": "2024-07-16T04:13:25.603Z"
   },
   {
    "duration": 12,
    "start_time": "2024-07-16T04:13:25.623Z"
   },
   {
    "duration": 14,
    "start_time": "2024-07-16T04:13:25.638Z"
   },
   {
    "duration": 411,
    "start_time": "2024-07-16T04:13:25.655Z"
   },
   {
    "duration": 30,
    "start_time": "2024-07-16T04:13:26.070Z"
   },
   {
    "duration": 6,
    "start_time": "2024-07-16T04:13:26.104Z"
   },
   {
    "duration": 14,
    "start_time": "2024-07-16T04:13:26.115Z"
   },
   {
    "duration": 5,
    "start_time": "2024-07-16T04:13:26.132Z"
   },
   {
    "duration": 12,
    "start_time": "2024-07-16T04:13:26.140Z"
   },
   {
    "duration": 52,
    "start_time": "2024-07-16T04:13:26.155Z"
   },
   {
    "duration": 7,
    "start_time": "2024-07-16T04:13:26.211Z"
   },
   {
    "duration": 13,
    "start_time": "2024-07-16T04:13:26.223Z"
   },
   {
    "duration": 9,
    "start_time": "2024-07-16T04:13:26.239Z"
   },
   {
    "duration": 56,
    "start_time": "2024-07-16T04:13:26.252Z"
   },
   {
    "duration": 20,
    "start_time": "2024-07-16T04:13:26.312Z"
   },
   {
    "duration": 476,
    "start_time": "2024-07-16T04:13:26.335Z"
   },
   {
    "duration": 96,
    "start_time": "2024-07-16T04:13:26.814Z"
   },
   {
    "duration": 1989,
    "start_time": "2024-07-16T04:13:26.913Z"
   },
   {
    "duration": 12,
    "start_time": "2024-07-16T04:13:28.904Z"
   },
   {
    "duration": 620,
    "start_time": "2024-07-16T04:13:28.919Z"
   },
   {
    "duration": 9,
    "start_time": "2024-07-16T04:13:29.542Z"
   },
   {
    "duration": 474,
    "start_time": "2024-07-16T04:13:29.553Z"
   },
   {
    "duration": 275,
    "start_time": "2024-07-16T04:13:30.031Z"
   },
   {
    "duration": 10,
    "start_time": "2024-07-16T04:13:30.311Z"
   },
   {
    "duration": 206,
    "start_time": "2024-07-16T04:13:30.324Z"
   },
   {
    "duration": 963,
    "start_time": "2024-07-16T04:13:30.532Z"
   },
   {
    "duration": 7,
    "start_time": "2024-07-16T04:13:31.498Z"
   },
   {
    "duration": 9,
    "start_time": "2024-07-16T04:13:31.508Z"
   },
   {
    "duration": 1549,
    "start_time": "2024-07-16T04:13:31.520Z"
   },
   {
    "duration": 1737,
    "start_time": "2024-07-16T04:13:33.073Z"
   },
   {
    "duration": 33,
    "start_time": "2024-07-16T04:13:34.813Z"
   },
   {
    "duration": 1001,
    "start_time": "2024-07-16T04:13:34.849Z"
   },
   {
    "duration": 166,
    "start_time": "2024-07-16T04:13:35.853Z"
   },
   {
    "duration": 19,
    "start_time": "2024-07-16T04:13:36.023Z"
   },
   {
    "duration": 734,
    "start_time": "2024-07-16T04:21:51.096Z"
   },
   {
    "duration": 1574,
    "start_time": "2024-07-16T04:21:51.834Z"
   },
   {
    "duration": 29,
    "start_time": "2024-07-16T04:21:53.412Z"
   },
   {
    "duration": 24,
    "start_time": "2024-07-16T04:21:53.538Z"
   },
   {
    "duration": 21,
    "start_time": "2024-07-16T04:21:55.507Z"
   },
   {
    "duration": 20,
    "start_time": "2024-07-16T04:21:58.548Z"
   },
   {
    "duration": 19,
    "start_time": "2024-07-16T04:21:59.484Z"
   },
   {
    "duration": 4,
    "start_time": "2024-07-16T04:22:03.439Z"
   },
   {
    "duration": 17,
    "start_time": "2024-07-16T04:22:04.224Z"
   },
   {
    "duration": 188,
    "start_time": "2024-07-16T04:22:05.549Z"
   },
   {
    "duration": 3,
    "start_time": "2024-07-16T04:22:07.569Z"
   },
   {
    "duration": 25,
    "start_time": "2024-07-16T04:22:29.382Z"
   },
   {
    "duration": 213,
    "start_time": "2024-07-16T04:22:31.311Z"
   },
   {
    "duration": 16,
    "start_time": "2024-07-16T04:22:32.231Z"
   },
   {
    "duration": 4,
    "start_time": "2024-07-16T04:22:33.101Z"
   },
   {
    "duration": 215,
    "start_time": "2024-07-16T04:22:33.811Z"
   },
   {
    "duration": 48,
    "start_time": "2024-07-16T04:22:38.924Z"
   },
   {
    "duration": 27,
    "start_time": "2024-07-16T04:22:50.658Z"
   },
   {
    "duration": 16,
    "start_time": "2024-07-16T04:22:51.693Z"
   },
   {
    "duration": 39,
    "start_time": "2024-07-16T04:22:52.557Z"
   },
   {
    "duration": 51,
    "start_time": "2024-07-16T04:22:53.654Z"
   },
   {
    "duration": 8,
    "start_time": "2024-07-16T04:23:10.569Z"
   },
   {
    "duration": 9,
    "start_time": "2024-07-16T04:23:11.152Z"
   },
   {
    "duration": 3,
    "start_time": "2024-07-16T04:23:12.170Z"
   },
   {
    "duration": 10,
    "start_time": "2024-07-16T04:23:14.328Z"
   },
   {
    "duration": 4,
    "start_time": "2024-07-16T04:23:16.849Z"
   },
   {
    "duration": 10,
    "start_time": "2024-07-16T04:23:17.333Z"
   },
   {
    "duration": 3,
    "start_time": "2024-07-16T04:23:19.494Z"
   },
   {
    "duration": 11,
    "start_time": "2024-07-16T04:23:20.022Z"
   },
   {
    "duration": 1549,
    "start_time": "2024-07-16T04:23:29.171Z"
   },
   {
    "duration": 1362,
    "start_time": "2024-07-16T04:23:32.246Z"
   },
   {
    "duration": 19,
    "start_time": "2024-07-16T04:23:40.997Z"
   },
   {
    "duration": 12,
    "start_time": "2024-07-16T04:23:44.999Z"
   },
   {
    "duration": 16,
    "start_time": "2024-07-16T04:23:53.521Z"
   },
   {
    "duration": 4,
    "start_time": "2024-07-16T04:23:55.291Z"
   },
   {
    "duration": 15,
    "start_time": "2024-07-16T04:23:56.932Z"
   },
   {
    "duration": 13,
    "start_time": "2024-07-16T04:24:00.469Z"
   },
   {
    "duration": 11,
    "start_time": "2024-07-16T04:24:23.168Z"
   },
   {
    "duration": 31,
    "start_time": "2024-07-16T04:24:26.380Z"
   },
   {
    "duration": 54,
    "start_time": "2024-07-16T04:24:28.027Z"
   },
   {
    "duration": 14,
    "start_time": "2024-07-16T04:24:30.291Z"
   },
   {
    "duration": 3,
    "start_time": "2024-07-16T04:24:31.415Z"
   },
   {
    "duration": 610,
    "start_time": "2024-07-16T04:24:32.559Z"
   },
   {
    "duration": 106,
    "start_time": "2024-07-16T04:24:34.847Z"
   },
   {
    "duration": 3,
    "start_time": "2024-07-16T04:24:38.002Z"
   },
   {
    "duration": 70,
    "start_time": "2024-07-16T04:24:38.644Z"
   },
   {
    "duration": 17,
    "start_time": "2024-07-16T04:24:43.484Z"
   },
   {
    "duration": 13,
    "start_time": "2024-07-16T04:24:45.190Z"
   },
   {
    "duration": 12,
    "start_time": "2024-07-16T04:24:49.819Z"
   },
   {
    "duration": 343,
    "start_time": "2024-07-16T04:25:57.839Z"
   },
   {
    "duration": 15,
    "start_time": "2024-07-16T04:26:00.837Z"
   },
   {
    "duration": 4,
    "start_time": "2024-07-16T04:26:02.174Z"
   },
   {
    "duration": 11,
    "start_time": "2024-07-16T04:26:11.117Z"
   },
   {
    "duration": 5,
    "start_time": "2024-07-16T04:26:15.934Z"
   },
   {
    "duration": 11,
    "start_time": "2024-07-16T04:26:23.480Z"
   },
   {
    "duration": 7,
    "start_time": "2024-07-16T04:26:24.081Z"
   },
   {
    "duration": 5,
    "start_time": "2024-07-16T04:26:26.098Z"
   },
   {
    "duration": 11,
    "start_time": "2024-07-16T04:26:30.991Z"
   },
   {
    "duration": 7,
    "start_time": "2024-07-16T04:26:31.640Z"
   },
   {
    "duration": 5,
    "start_time": "2024-07-16T04:26:33.149Z"
   },
   {
    "duration": 11,
    "start_time": "2024-07-16T04:26:34.199Z"
   },
   {
    "duration": 413,
    "start_time": "2024-07-16T04:26:35.439Z"
   },
   {
    "duration": 5,
    "start_time": "2024-07-16T04:26:45.525Z"
   },
   {
    "duration": 10,
    "start_time": "2024-07-16T04:26:46.389Z"
   },
   {
    "duration": 7,
    "start_time": "2024-07-16T04:26:48.113Z"
   },
   {
    "duration": 5,
    "start_time": "2024-07-16T04:26:53.566Z"
   },
   {
    "duration": 10,
    "start_time": "2024-07-16T04:26:54.535Z"
   },
   {
    "duration": 411,
    "start_time": "2024-07-16T04:27:07.373Z"
   },
   {
    "duration": 79,
    "start_time": "2024-07-16T04:27:16.596Z"
   },
   {
    "duration": 2042,
    "start_time": "2024-07-16T04:27:24.382Z"
   },
   {
    "duration": 13,
    "start_time": "2024-07-16T04:27:26.427Z"
   },
   {
    "duration": 2028,
    "start_time": "2024-07-16T04:27:41.318Z"
   },
   {
    "duration": 10,
    "start_time": "2024-07-16T04:27:43.349Z"
   },
   {
    "duration": 526,
    "start_time": "2024-07-16T04:27:53.343Z"
   },
   {
    "duration": 10,
    "start_time": "2024-07-16T04:27:54.082Z"
   },
   {
    "duration": 450,
    "start_time": "2024-07-16T04:27:56.389Z"
   },
   {
    "duration": 269,
    "start_time": "2024-07-16T04:27:57.468Z"
   },
   {
    "duration": 8,
    "start_time": "2024-07-16T04:27:59.017Z"
   },
   {
    "duration": 174,
    "start_time": "2024-07-16T04:28:02.318Z"
   },
   {
    "duration": 935,
    "start_time": "2024-07-16T04:28:03.371Z"
   },
   {
    "duration": 7,
    "start_time": "2024-07-16T04:28:04.968Z"
   },
   {
    "duration": 4,
    "start_time": "2024-07-16T04:28:15.958Z"
   },
   {
    "duration": 1505,
    "start_time": "2024-07-16T04:28:18.801Z"
   },
   {
    "duration": 1594,
    "start_time": "2024-07-16T04:28:28.360Z"
   },
   {
    "duration": 31,
    "start_time": "2024-07-16T04:28:30.166Z"
   },
   {
    "duration": 949,
    "start_time": "2024-07-16T04:28:34.139Z"
   },
   {
    "duration": 146,
    "start_time": "2024-07-16T04:28:35.092Z"
   },
   {
    "duration": 23,
    "start_time": "2024-07-16T04:28:37.238Z"
   },
   {
    "duration": 1634,
    "start_time": "2024-07-16T04:30:08.230Z"
   },
   {
    "duration": 1885,
    "start_time": "2024-07-16T04:30:11.310Z"
   },
   {
    "duration": 32,
    "start_time": "2024-07-16T04:30:13.202Z"
   },
   {
    "duration": 892,
    "start_time": "2024-07-16T04:30:14.994Z"
   },
   {
    "duration": 190,
    "start_time": "2024-07-16T04:30:15.890Z"
   },
   {
    "duration": 18,
    "start_time": "2024-07-16T04:30:17.375Z"
   },
   {
    "duration": 710,
    "start_time": "2024-07-16T04:32:52.340Z"
   },
   {
    "duration": 1753,
    "start_time": "2024-07-16T04:32:53.054Z"
   },
   {
    "duration": 33,
    "start_time": "2024-07-16T04:32:54.811Z"
   },
   {
    "duration": 54,
    "start_time": "2024-07-16T04:32:54.849Z"
   },
   {
    "duration": 24,
    "start_time": "2024-07-16T04:32:54.907Z"
   },
   {
    "duration": 24,
    "start_time": "2024-07-16T04:32:54.935Z"
   },
   {
    "duration": 61,
    "start_time": "2024-07-16T04:32:54.961Z"
   },
   {
    "duration": 4,
    "start_time": "2024-07-16T04:32:55.024Z"
   },
   {
    "duration": 18,
    "start_time": "2024-07-16T04:32:55.031Z"
   },
   {
    "duration": 226,
    "start_time": "2024-07-16T04:32:55.054Z"
   },
   {
    "duration": 4,
    "start_time": "2024-07-16T04:32:55.283Z"
   },
   {
    "duration": 29,
    "start_time": "2024-07-16T04:32:55.291Z"
   },
   {
    "duration": 238,
    "start_time": "2024-07-16T04:32:55.323Z"
   },
   {
    "duration": 16,
    "start_time": "2024-07-16T04:32:55.564Z"
   },
   {
    "duration": 19,
    "start_time": "2024-07-16T04:32:55.583Z"
   },
   {
    "duration": 205,
    "start_time": "2024-07-16T04:32:55.605Z"
   },
   {
    "duration": 58,
    "start_time": "2024-07-16T04:32:55.813Z"
   },
   {
    "duration": 51,
    "start_time": "2024-07-16T04:32:55.874Z"
   },
   {
    "duration": 16,
    "start_time": "2024-07-16T04:32:55.928Z"
   },
   {
    "duration": 76,
    "start_time": "2024-07-16T04:32:55.949Z"
   },
   {
    "duration": 53,
    "start_time": "2024-07-16T04:32:56.028Z"
   },
   {
    "duration": 4,
    "start_time": "2024-07-16T04:32:56.103Z"
   },
   {
    "duration": 13,
    "start_time": "2024-07-16T04:32:56.112Z"
   },
   {
    "duration": 5,
    "start_time": "2024-07-16T04:32:56.128Z"
   },
   {
    "duration": 13,
    "start_time": "2024-07-16T04:32:56.137Z"
   },
   {
    "duration": 51,
    "start_time": "2024-07-16T04:32:56.155Z"
   },
   {
    "duration": 11,
    "start_time": "2024-07-16T04:32:56.213Z"
   },
   {
    "duration": 3,
    "start_time": "2024-07-16T04:32:56.235Z"
   },
   {
    "duration": 11,
    "start_time": "2024-07-16T04:32:56.241Z"
   },
   {
    "duration": 1571,
    "start_time": "2024-07-16T04:32:56.255Z"
   },
   {
    "duration": 1337,
    "start_time": "2024-07-16T04:32:57.829Z"
   },
   {
    "duration": 18,
    "start_time": "2024-07-16T04:32:59.169Z"
   },
   {
    "duration": 13,
    "start_time": "2024-07-16T04:32:59.203Z"
   },
   {
    "duration": 13,
    "start_time": "2024-07-16T04:32:59.220Z"
   },
   {
    "duration": 6,
    "start_time": "2024-07-16T04:32:59.236Z"
   },
   {
    "duration": 56,
    "start_time": "2024-07-16T04:32:59.246Z"
   },
   {
    "duration": 14,
    "start_time": "2024-07-16T04:32:59.305Z"
   },
   {
    "duration": 13,
    "start_time": "2024-07-16T04:32:59.323Z"
   },
   {
    "duration": 68,
    "start_time": "2024-07-16T04:32:59.339Z"
   },
   {
    "duration": 57,
    "start_time": "2024-07-16T04:32:59.410Z"
   },
   {
    "duration": 36,
    "start_time": "2024-07-16T04:32:59.471Z"
   },
   {
    "duration": 5,
    "start_time": "2024-07-16T04:32:59.511Z"
   },
   {
    "duration": 624,
    "start_time": "2024-07-16T04:32:59.520Z"
   },
   {
    "duration": 114,
    "start_time": "2024-07-16T04:33:00.147Z"
   },
   {
    "duration": 4,
    "start_time": "2024-07-16T04:33:00.264Z"
   },
   {
    "duration": 87,
    "start_time": "2024-07-16T04:33:00.271Z"
   },
   {
    "duration": 17,
    "start_time": "2024-07-16T04:33:00.361Z"
   },
   {
    "duration": 13,
    "start_time": "2024-07-16T04:33:00.401Z"
   },
   {
    "duration": 12,
    "start_time": "2024-07-16T04:33:00.417Z"
   },
   {
    "duration": 389,
    "start_time": "2024-07-16T04:33:00.433Z"
   },
   {
    "duration": 17,
    "start_time": "2024-07-16T04:33:00.825Z"
   },
   {
    "duration": 4,
    "start_time": "2024-07-16T04:33:00.845Z"
   },
   {
    "duration": 11,
    "start_time": "2024-07-16T04:33:00.852Z"
   },
   {
    "duration": 38,
    "start_time": "2024-07-16T04:33:00.865Z"
   },
   {
    "duration": 11,
    "start_time": "2024-07-16T04:33:00.907Z"
   },
   {
    "duration": 8,
    "start_time": "2024-07-16T04:33:00.920Z"
   },
   {
    "duration": 5,
    "start_time": "2024-07-16T04:33:00.931Z"
   },
   {
    "duration": 63,
    "start_time": "2024-07-16T04:33:00.940Z"
   },
   {
    "duration": 7,
    "start_time": "2024-07-16T04:33:01.005Z"
   },
   {
    "duration": 6,
    "start_time": "2024-07-16T04:33:01.015Z"
   },
   {
    "duration": 11,
    "start_time": "2024-07-16T04:33:01.024Z"
   },
   {
    "duration": 463,
    "start_time": "2024-07-16T04:33:01.038Z"
   },
   {
    "duration": 78,
    "start_time": "2024-07-16T04:33:01.505Z"
   },
   {
    "duration": 1989,
    "start_time": "2024-07-16T04:33:01.603Z"
   },
   {
    "duration": 15,
    "start_time": "2024-07-16T04:33:03.595Z"
   },
   {
    "duration": 559,
    "start_time": "2024-07-16T04:33:03.613Z"
   },
   {
    "duration": 10,
    "start_time": "2024-07-16T04:33:04.174Z"
   },
   {
    "duration": 444,
    "start_time": "2024-07-16T04:33:04.187Z"
   },
   {
    "duration": 277,
    "start_time": "2024-07-16T04:33:04.634Z"
   },
   {
    "duration": 16,
    "start_time": "2024-07-16T04:33:04.915Z"
   },
   {
    "duration": 216,
    "start_time": "2024-07-16T04:33:04.938Z"
   },
   {
    "duration": 1001,
    "start_time": "2024-07-16T04:33:05.158Z"
   },
   {
    "duration": 5,
    "start_time": "2024-07-16T04:33:06.162Z"
   },
   {
    "duration": 714,
    "start_time": "2024-07-16T04:38:07.862Z"
   },
   {
    "duration": 1879,
    "start_time": "2024-07-16T04:38:08.581Z"
   },
   {
    "duration": 49,
    "start_time": "2024-07-16T04:38:10.462Z"
   },
   {
    "duration": 28,
    "start_time": "2024-07-16T04:38:10.516Z"
   },
   {
    "duration": 55,
    "start_time": "2024-07-16T04:38:10.550Z"
   },
   {
    "duration": 29,
    "start_time": "2024-07-16T04:38:10.608Z"
   },
   {
    "duration": 20,
    "start_time": "2024-07-16T04:38:10.641Z"
   },
   {
    "duration": 37,
    "start_time": "2024-07-16T04:38:10.665Z"
   },
   {
    "duration": 16,
    "start_time": "2024-07-16T04:38:10.706Z"
   },
   {
    "duration": 235,
    "start_time": "2024-07-16T04:38:10.726Z"
   },
   {
    "duration": 4,
    "start_time": "2024-07-16T04:38:10.964Z"
   },
   {
    "duration": 41,
    "start_time": "2024-07-16T04:38:10.971Z"
   },
   {
    "duration": 217,
    "start_time": "2024-07-16T04:38:11.015Z"
   },
   {
    "duration": 15,
    "start_time": "2024-07-16T04:38:11.239Z"
   },
   {
    "duration": 4,
    "start_time": "2024-07-16T04:38:11.257Z"
   },
   {
    "duration": 207,
    "start_time": "2024-07-16T04:38:11.264Z"
   },
   {
    "duration": 68,
    "start_time": "2024-07-16T04:38:11.474Z"
   },
   {
    "duration": 28,
    "start_time": "2024-07-16T04:38:11.545Z"
   },
   {
    "duration": 35,
    "start_time": "2024-07-16T04:38:11.576Z"
   },
   {
    "duration": 44,
    "start_time": "2024-07-16T04:38:11.614Z"
   },
   {
    "duration": 78,
    "start_time": "2024-07-16T04:38:11.661Z"
   },
   {
    "duration": 4,
    "start_time": "2024-07-16T04:38:11.742Z"
   },
   {
    "duration": 10,
    "start_time": "2024-07-16T04:38:11.749Z"
   },
   {
    "duration": 3,
    "start_time": "2024-07-16T04:38:11.763Z"
   },
   {
    "duration": 10,
    "start_time": "2024-07-16T04:38:11.801Z"
   },
   {
    "duration": 4,
    "start_time": "2024-07-16T04:38:11.815Z"
   },
   {
    "duration": 11,
    "start_time": "2024-07-16T04:38:11.822Z"
   },
   {
    "duration": 4,
    "start_time": "2024-07-16T04:38:11.837Z"
   },
   {
    "duration": 59,
    "start_time": "2024-07-16T04:38:11.845Z"
   },
   {
    "duration": 1499,
    "start_time": "2024-07-16T04:38:11.907Z"
   },
   {
    "duration": 1261,
    "start_time": "2024-07-16T04:38:13.410Z"
   },
   {
    "duration": 32,
    "start_time": "2024-07-16T04:38:14.675Z"
   },
   {
    "duration": 15,
    "start_time": "2024-07-16T04:38:14.709Z"
   },
   {
    "duration": 12,
    "start_time": "2024-07-16T04:38:14.727Z"
   },
   {
    "duration": 4,
    "start_time": "2024-07-16T04:38:14.742Z"
   },
   {
    "duration": 53,
    "start_time": "2024-07-16T04:38:14.750Z"
   },
   {
    "duration": 12,
    "start_time": "2024-07-16T04:38:14.806Z"
   },
   {
    "duration": 12,
    "start_time": "2024-07-16T04:38:14.821Z"
   },
   {
    "duration": 75,
    "start_time": "2024-07-16T04:38:14.835Z"
   },
   {
    "duration": 54,
    "start_time": "2024-07-16T04:38:14.913Z"
   },
   {
    "duration": 36,
    "start_time": "2024-07-16T04:38:14.979Z"
   },
   {
    "duration": 5,
    "start_time": "2024-07-16T04:38:15.019Z"
   },
   {
    "duration": 625,
    "start_time": "2024-07-16T04:38:15.029Z"
   },
   {
    "duration": 112,
    "start_time": "2024-07-16T04:38:15.658Z"
   },
   {
    "duration": 4,
    "start_time": "2024-07-16T04:38:15.773Z"
   },
   {
    "duration": 85,
    "start_time": "2024-07-16T04:38:15.780Z"
   },
   {
    "duration": 38,
    "start_time": "2024-07-16T04:38:15.868Z"
   },
   {
    "duration": 15,
    "start_time": "2024-07-16T04:38:15.910Z"
   },
   {
    "duration": 20,
    "start_time": "2024-07-16T04:38:15.929Z"
   },
   {
    "duration": 428,
    "start_time": "2024-07-16T04:38:15.954Z"
   },
   {
    "duration": 26,
    "start_time": "2024-07-16T04:38:16.386Z"
   },
   {
    "duration": 4,
    "start_time": "2024-07-16T04:38:16.416Z"
   },
   {
    "duration": 12,
    "start_time": "2024-07-16T04:38:16.423Z"
   },
   {
    "duration": 4,
    "start_time": "2024-07-16T04:38:16.439Z"
   },
   {
    "duration": 64,
    "start_time": "2024-07-16T04:38:16.447Z"
   },
   {
    "duration": 7,
    "start_time": "2024-07-16T04:38:16.514Z"
   },
   {
    "duration": 4,
    "start_time": "2024-07-16T04:38:16.525Z"
   },
   {
    "duration": 10,
    "start_time": "2024-07-16T04:38:16.533Z"
   },
   {
    "duration": 7,
    "start_time": "2024-07-16T04:38:16.546Z"
   },
   {
    "duration": 8,
    "start_time": "2024-07-16T04:38:16.602Z"
   },
   {
    "duration": 11,
    "start_time": "2024-07-16T04:38:16.613Z"
   },
   {
    "duration": 441,
    "start_time": "2024-07-16T04:38:16.628Z"
   },
   {
    "duration": 98,
    "start_time": "2024-07-16T04:38:17.072Z"
   },
   {
    "duration": 1973,
    "start_time": "2024-07-16T04:38:17.174Z"
   },
   {
    "duration": 11,
    "start_time": "2024-07-16T04:38:19.151Z"
   },
   {
    "duration": 621,
    "start_time": "2024-07-16T04:38:19.166Z"
   },
   {
    "duration": 18,
    "start_time": "2024-07-16T04:38:19.791Z"
   },
   {
    "duration": 437,
    "start_time": "2024-07-16T04:38:19.812Z"
   },
   {
    "duration": 276,
    "start_time": "2024-07-16T04:38:20.252Z"
   },
   {
    "duration": 8,
    "start_time": "2024-07-16T04:38:20.531Z"
   },
   {
    "duration": 207,
    "start_time": "2024-07-16T04:38:20.542Z"
   },
   {
    "duration": 959,
    "start_time": "2024-07-16T04:38:20.752Z"
   },
   {
    "duration": 9,
    "start_time": "2024-07-16T04:38:21.714Z"
   },
   {
    "duration": 5,
    "start_time": "2024-07-16T04:38:21.726Z"
   },
   {
    "duration": 1558,
    "start_time": "2024-07-16T04:38:21.735Z"
   },
   {
    "duration": 1835,
    "start_time": "2024-07-16T04:38:23.296Z"
   },
   {
    "duration": 39,
    "start_time": "2024-07-16T04:38:25.135Z"
   },
   {
    "duration": 1058,
    "start_time": "2024-07-16T04:38:25.201Z"
   },
   {
    "duration": 183,
    "start_time": "2024-07-16T04:38:26.265Z"
   },
   {
    "duration": 32,
    "start_time": "2024-07-16T04:38:26.451Z"
   },
   {
    "duration": 505,
    "start_time": "2024-07-16T04:39:46.569Z"
   },
   {
    "duration": 454,
    "start_time": "2024-07-16T04:41:23.501Z"
   },
   {
    "duration": 443,
    "start_time": "2024-07-16T04:42:30.806Z"
   },
   {
    "duration": 306,
    "start_time": "2024-07-16T16:56:12.564Z"
   },
   {
    "duration": 22,
    "start_time": "2024-07-16T16:56:25.722Z"
   },
   {
    "duration": 3,
    "start_time": "2024-07-16T16:56:31.096Z"
   },
   {
    "duration": 22,
    "start_time": "2024-07-16T16:56:33.701Z"
   },
   {
    "duration": 4292,
    "start_time": "2024-07-16T16:56:44.610Z"
   },
   {
    "duration": 1717,
    "start_time": "2024-07-16T16:56:48.906Z"
   },
   {
    "duration": 31,
    "start_time": "2024-07-16T16:56:50.627Z"
   },
   {
    "duration": 23,
    "start_time": "2024-07-16T16:56:50.663Z"
   },
   {
    "duration": 1503,
    "start_time": "2024-07-16T16:56:57.424Z"
   },
   {
    "duration": 24,
    "start_time": "2024-07-16T16:56:58.931Z"
   },
   {
    "duration": 23,
    "start_time": "2024-07-16T16:56:59.870Z"
   },
   {
    "duration": 18,
    "start_time": "2024-07-16T16:57:01.210Z"
   },
   {
    "duration": 20,
    "start_time": "2024-07-16T16:57:02.776Z"
   },
   {
    "duration": 19,
    "start_time": "2024-07-16T16:57:04.287Z"
   },
   {
    "duration": 4,
    "start_time": "2024-07-16T16:57:10.578Z"
   },
   {
    "duration": 205,
    "start_time": "2024-07-16T16:57:11.409Z"
   },
   {
    "duration": 3,
    "start_time": "2024-07-16T16:57:13.731Z"
   },
   {
    "duration": 25,
    "start_time": "2024-07-16T16:57:14.424Z"
   },
   {
    "duration": 3,
    "start_time": "2024-07-16T16:57:22.362Z"
   },
   {
    "duration": 232,
    "start_time": "2024-07-16T16:57:23.023Z"
   },
   {
    "duration": 4,
    "start_time": "2024-07-16T16:57:35.665Z"
   },
   {
    "duration": 182,
    "start_time": "2024-07-16T16:57:36.368Z"
   },
   {
    "duration": 50,
    "start_time": "2024-07-16T16:57:46.424Z"
   },
   {
    "duration": 26,
    "start_time": "2024-07-16T16:57:56.354Z"
   },
   {
    "duration": 14,
    "start_time": "2024-07-16T16:58:25.996Z"
   },
   {
    "duration": 53,
    "start_time": "2024-07-16T16:58:26.768Z"
   },
   {
    "duration": 59,
    "start_time": "2024-07-16T16:58:28.638Z"
   },
   {
    "duration": 3,
    "start_time": "2024-07-16T16:58:32.903Z"
   },
   {
    "duration": 8,
    "start_time": "2024-07-16T16:58:33.157Z"
   },
   {
    "duration": 3,
    "start_time": "2024-07-16T16:58:33.437Z"
   },
   {
    "duration": 10,
    "start_time": "2024-07-16T16:58:34.255Z"
   },
   {
    "duration": 3,
    "start_time": "2024-07-16T16:58:38.515Z"
   },
   {
    "duration": 9,
    "start_time": "2024-07-16T16:58:38.952Z"
   },
   {
    "duration": 7,
    "start_time": "2024-07-16T16:58:40.127Z"
   },
   {
    "duration": 11,
    "start_time": "2024-07-16T16:58:40.570Z"
   },
   {
    "duration": 3,
    "start_time": "2024-07-16T16:59:16.253Z"
   },
   {
    "duration": 1323,
    "start_time": "2024-07-16T16:59:17.375Z"
   },
   {
    "duration": 3,
    "start_time": "2024-07-16T16:59:18.701Z"
   },
   {
    "duration": 1184,
    "start_time": "2024-07-16T16:59:20.046Z"
   },
   {
    "duration": 3,
    "start_time": "2024-07-16T16:59:55.695Z"
   },
   {
    "duration": 18,
    "start_time": "2024-07-16T16:59:56.553Z"
   },
   {
    "duration": 3,
    "start_time": "2024-07-16T16:59:58.622Z"
   },
   {
    "duration": 12,
    "start_time": "2024-07-16T17:00:00.553Z"
   },
   {
    "duration": 65,
    "start_time": "2024-07-16T17:00:25.572Z"
   },
   {
    "duration": 16,
    "start_time": "2024-07-16T17:00:37.841Z"
   },
   {
    "duration": 73,
    "start_time": "2024-07-16T17:10:21.883Z"
   },
   {
    "duration": 11,
    "start_time": "2024-07-16T17:10:41.100Z"
   },
   {
    "duration": 10,
    "start_time": "2024-07-16T17:11:05.616Z"
   },
   {
    "duration": 11,
    "start_time": "2024-07-16T17:12:01.374Z"
   },
   {
    "duration": 154,
    "start_time": "2024-07-16T17:15:39.008Z"
   },
   {
    "duration": 24,
    "start_time": "2024-07-16T17:18:17.947Z"
   },
   {
    "duration": 23,
    "start_time": "2024-07-16T17:18:52.241Z"
   },
   {
    "duration": 23,
    "start_time": "2024-07-16T17:19:17.287Z"
   },
   {
    "duration": 93,
    "start_time": "2024-07-16T17:19:30.671Z"
   },
   {
    "duration": 14,
    "start_time": "2024-07-16T17:20:43.168Z"
   },
   {
    "duration": 12,
    "start_time": "2024-07-16T17:21:32.847Z"
   },
   {
    "duration": 16,
    "start_time": "2024-07-16T17:22:09.662Z"
   },
   {
    "duration": 23,
    "start_time": "2024-07-16T17:30:24.234Z"
   },
   {
    "duration": 19,
    "start_time": "2024-07-16T17:30:32.656Z"
   },
   {
    "duration": 225,
    "start_time": "2024-07-16T17:30:33.914Z"
   },
   {
    "duration": 217,
    "start_time": "2024-07-16T17:32:14.573Z"
   },
   {
    "duration": 225,
    "start_time": "2024-07-16T17:35:24.713Z"
   },
   {
    "duration": 229,
    "start_time": "2024-07-16T17:36:07.200Z"
   },
   {
    "duration": 216,
    "start_time": "2024-07-16T17:36:14.857Z"
   },
   {
    "duration": 225,
    "start_time": "2024-07-16T17:36:57.971Z"
   },
   {
    "duration": 319,
    "start_time": "2024-07-16T17:37:27.330Z"
   },
   {
    "duration": 12,
    "start_time": "2024-07-16T17:38:55.414Z"
   },
   {
    "duration": 26,
    "start_time": "2024-07-16T17:40:19.601Z"
   },
   {
    "duration": 24,
    "start_time": "2024-07-16T17:48:45.986Z"
   },
   {
    "duration": 33,
    "start_time": "2024-07-16T18:45:17.532Z"
   },
   {
    "duration": 30,
    "start_time": "2024-07-16T18:50:32.793Z"
   },
   {
    "duration": 28,
    "start_time": "2024-07-16T18:58:30.118Z"
   },
   {
    "duration": 47,
    "start_time": "2024-07-16T19:01:31.400Z"
   },
   {
    "duration": 23,
    "start_time": "2024-07-16T19:01:49.516Z"
   },
   {
    "duration": 424,
    "start_time": "2024-07-16T19:22:34.617Z"
   },
   {
    "duration": 15,
    "start_time": "2024-07-16T19:51:37.241Z"
   },
   {
    "duration": 7,
    "start_time": "2024-07-16T20:07:07.121Z"
   },
   {
    "duration": 12,
    "start_time": "2024-07-16T20:07:44.726Z"
   },
   {
    "duration": 34,
    "start_time": "2024-07-16T20:09:04.532Z"
   },
   {
    "duration": 40,
    "start_time": "2024-07-16T20:10:03.032Z"
   },
   {
    "duration": 56,
    "start_time": "2024-07-16T20:10:25.869Z"
   },
   {
    "duration": 7,
    "start_time": "2024-07-16T20:12:36.845Z"
   },
   {
    "duration": 11,
    "start_time": "2024-07-16T20:13:00.569Z"
   },
   {
    "duration": 43,
    "start_time": "2024-07-16T20:13:31.473Z"
   },
   {
    "duration": 11,
    "start_time": "2024-07-16T20:13:32.036Z"
   },
   {
    "duration": 13,
    "start_time": "2024-07-16T20:13:56.967Z"
   },
   {
    "duration": 38,
    "start_time": "2024-07-16T20:14:03.711Z"
   },
   {
    "duration": 40,
    "start_time": "2024-07-16T20:14:04.363Z"
   },
   {
    "duration": 13,
    "start_time": "2024-07-16T20:14:05.054Z"
   },
   {
    "duration": 1191,
    "start_time": "2024-07-16T20:32:21.919Z"
   },
   {
    "duration": 11,
    "start_time": "2024-07-16T20:37:09.587Z"
   },
   {
    "duration": 17,
    "start_time": "2024-07-16T21:03:01.208Z"
   },
   {
    "duration": 18,
    "start_time": "2024-07-16T21:03:38.466Z"
   },
   {
    "duration": 12,
    "start_time": "2024-07-16T21:03:39.480Z"
   },
   {
    "duration": 5,
    "start_time": "2024-07-16T21:04:45.293Z"
   },
   {
    "duration": 1723,
    "start_time": "2024-07-16T21:04:45.937Z"
   },
   {
    "duration": 34,
    "start_time": "2024-07-16T21:04:47.664Z"
   },
   {
    "duration": 23,
    "start_time": "2024-07-16T21:05:00.694Z"
   },
   {
    "duration": 23,
    "start_time": "2024-07-16T21:05:08.911Z"
   },
   {
    "duration": 20,
    "start_time": "2024-07-16T21:05:10.466Z"
   },
   {
    "duration": 20,
    "start_time": "2024-07-16T21:05:10.879Z"
   },
   {
    "duration": 20,
    "start_time": "2024-07-16T21:05:11.155Z"
   },
   {
    "duration": 4,
    "start_time": "2024-07-16T21:05:13.623Z"
   },
   {
    "duration": 167,
    "start_time": "2024-07-16T21:05:20.694Z"
   },
   {
    "duration": 3,
    "start_time": "2024-07-16T21:05:24.699Z"
   },
   {
    "duration": 17,
    "start_time": "2024-07-16T21:05:25.853Z"
   },
   {
    "duration": 4,
    "start_time": "2024-07-16T21:05:29.938Z"
   },
   {
    "duration": 24,
    "start_time": "2024-07-16T21:11:11.529Z"
   },
   {
    "duration": 206,
    "start_time": "2024-07-16T21:11:18.767Z"
   },
   {
    "duration": 74,
    "start_time": "2024-07-16T21:13:15.579Z"
   },
   {
    "duration": 63,
    "start_time": "2024-07-16T21:13:28.849Z"
   },
   {
    "duration": 1009,
    "start_time": "2024-07-16T21:13:38.909Z"
   },
   {
    "duration": 92,
    "start_time": "2024-07-16T21:13:47.182Z"
   },
   {
    "duration": 4,
    "start_time": "2024-07-16T21:13:58.322Z"
   },
   {
    "duration": 97,
    "start_time": "2024-07-16T21:13:58.855Z"
   },
   {
    "duration": 4,
    "start_time": "2024-07-16T21:14:31.289Z"
   },
   {
    "duration": 89,
    "start_time": "2024-07-16T21:14:32.693Z"
   },
   {
    "duration": 64,
    "start_time": "2024-07-16T21:14:56.487Z"
   },
   {
    "duration": 13,
    "start_time": "2024-07-16T21:14:57.857Z"
   },
   {
    "duration": 4,
    "start_time": "2024-07-16T21:14:58.965Z"
   },
   {
    "duration": 72,
    "start_time": "2024-07-16T21:14:59.592Z"
   },
   {
    "duration": 108,
    "start_time": "2024-07-16T21:15:00.572Z"
   },
   {
    "duration": 40,
    "start_time": "2024-07-16T21:15:09.175Z"
   },
   {
    "duration": 23,
    "start_time": "2024-07-16T21:15:11.110Z"
   },
   {
    "duration": 52,
    "start_time": "2024-07-16T21:15:12.283Z"
   },
   {
    "duration": 47,
    "start_time": "2024-07-16T21:15:20.759Z"
   },
   {
    "duration": 51,
    "start_time": "2024-07-16T21:15:39.494Z"
   },
   {
    "duration": 51,
    "start_time": "2024-07-16T21:16:02.212Z"
   },
   {
    "duration": 56,
    "start_time": "2024-07-16T21:16:17.579Z"
   },
   {
    "duration": 4,
    "start_time": "2024-07-16T21:16:57.278Z"
   },
   {
    "duration": 1566,
    "start_time": "2024-07-16T21:16:57.753Z"
   },
   {
    "duration": 40,
    "start_time": "2024-07-16T21:16:59.325Z"
   },
   {
    "duration": 33,
    "start_time": "2024-07-16T21:17:03.041Z"
   },
   {
    "duration": 24,
    "start_time": "2024-07-16T21:17:04.811Z"
   },
   {
    "duration": 36,
    "start_time": "2024-07-16T21:17:05.752Z"
   },
   {
    "duration": 37,
    "start_time": "2024-07-16T21:17:06.531Z"
   },
   {
    "duration": 4,
    "start_time": "2024-07-16T21:17:10.140Z"
   },
   {
    "duration": 164,
    "start_time": "2024-07-16T21:17:11.209Z"
   },
   {
    "duration": 3,
    "start_time": "2024-07-16T21:17:13.319Z"
   },
   {
    "duration": 28,
    "start_time": "2024-07-16T21:17:14.142Z"
   },
   {
    "duration": 264,
    "start_time": "2024-07-16T21:17:16.601Z"
   },
   {
    "duration": 21,
    "start_time": "2024-07-16T21:17:18.280Z"
   },
   {
    "duration": 212,
    "start_time": "2024-07-16T21:18:20.760Z"
   },
   {
    "duration": 99,
    "start_time": "2024-07-16T21:19:47.593Z"
   },
   {
    "duration": 177,
    "start_time": "2024-07-16T21:19:52.242Z"
   },
   {
    "duration": 103,
    "start_time": "2024-07-16T21:19:53.638Z"
   },
   {
    "duration": 166,
    "start_time": "2024-07-16T21:20:59.324Z"
   },
   {
    "duration": 160,
    "start_time": "2024-07-16T21:21:23.922Z"
   },
   {
    "duration": 6,
    "start_time": "2024-07-16T21:21:32.513Z"
   },
   {
    "duration": 1555,
    "start_time": "2024-07-16T21:21:32.846Z"
   },
   {
    "duration": 25,
    "start_time": "2024-07-16T21:21:34.407Z"
   },
   {
    "duration": 23,
    "start_time": "2024-07-16T21:21:35.879Z"
   },
   {
    "duration": 19,
    "start_time": "2024-07-16T21:21:36.345Z"
   },
   {
    "duration": 24,
    "start_time": "2024-07-16T21:21:36.536Z"
   },
   {
    "duration": 19,
    "start_time": "2024-07-16T21:21:36.707Z"
   },
   {
    "duration": 3,
    "start_time": "2024-07-16T21:21:38.020Z"
   },
   {
    "duration": 182,
    "start_time": "2024-07-16T21:21:39.514Z"
   },
   {
    "duration": 91,
    "start_time": "2024-07-16T21:21:41.315Z"
   },
   {
    "duration": 3,
    "start_time": "2024-07-16T21:22:33.369Z"
   },
   {
    "duration": 19,
    "start_time": "2024-07-16T21:22:34.164Z"
   },
   {
    "duration": 98,
    "start_time": "2024-07-16T21:31:16.786Z"
   },
   {
    "duration": 114,
    "start_time": "2024-07-16T21:32:15.382Z"
   },
   {
    "duration": 89,
    "start_time": "2024-07-16T21:32:36.604Z"
   },
   {
    "duration": 42,
    "start_time": "2024-07-16T21:33:38.922Z"
   },
   {
    "duration": 426,
    "start_time": "2024-07-16T21:38:38.068Z"
   },
   {
    "duration": 25,
    "start_time": "2024-07-16T21:46:28.864Z"
   },
   {
    "duration": 24,
    "start_time": "2024-07-16T21:46:41.115Z"
   },
   {
    "duration": 75,
    "start_time": "2024-07-16T21:47:02.695Z"
   },
   {
    "duration": 78,
    "start_time": "2024-07-16T21:50:04.508Z"
   },
   {
    "duration": 100,
    "start_time": "2024-07-16T21:50:12.352Z"
   },
   {
    "duration": 3,
    "start_time": "2024-07-16T21:50:17.092Z"
   },
   {
    "duration": 68,
    "start_time": "2024-07-16T21:50:17.729Z"
   },
   {
    "duration": 24,
    "start_time": "2024-07-16T21:50:20.659Z"
   },
   {
    "duration": 3,
    "start_time": "2024-07-16T21:50:29.509Z"
   },
   {
    "duration": 1511,
    "start_time": "2024-07-16T21:50:30.154Z"
   },
   {
    "duration": 25,
    "start_time": "2024-07-16T21:50:32.217Z"
   },
   {
    "duration": 26,
    "start_time": "2024-07-16T21:50:33.117Z"
   },
   {
    "duration": 19,
    "start_time": "2024-07-16T21:50:34.372Z"
   },
   {
    "duration": 20,
    "start_time": "2024-07-16T21:50:35.156Z"
   },
   {
    "duration": 17,
    "start_time": "2024-07-16T21:50:35.997Z"
   },
   {
    "duration": 4,
    "start_time": "2024-07-16T21:50:41.930Z"
   },
   {
    "duration": 178,
    "start_time": "2024-07-16T21:50:42.759Z"
   },
   {
    "duration": 95,
    "start_time": "2024-07-16T21:50:44.613Z"
   },
   {
    "duration": 97,
    "start_time": "2024-07-16T21:50:47.395Z"
   },
   {
    "duration": 3,
    "start_time": "2024-07-16T21:50:50.046Z"
   },
   {
    "duration": 22,
    "start_time": "2024-07-16T21:50:53.476Z"
   },
   {
    "duration": 107,
    "start_time": "2024-07-16T21:50:56.032Z"
   },
   {
    "duration": 16,
    "start_time": "2024-07-16T21:50:57.068Z"
   },
   {
    "duration": 3,
    "start_time": "2024-07-16T21:51:03.913Z"
   },
   {
    "duration": 199,
    "start_time": "2024-07-16T21:51:04.790Z"
   },
   {
    "duration": 44,
    "start_time": "2024-07-16T21:51:08.881Z"
   },
   {
    "duration": 123,
    "start_time": "2024-07-16T22:49:29.613Z"
   },
   {
    "duration": 19,
    "start_time": "2024-07-16T22:49:30.907Z"
   },
   {
    "duration": 3,
    "start_time": "2024-07-16T22:49:33.998Z"
   },
   {
    "duration": 166,
    "start_time": "2024-07-16T22:49:35.360Z"
   },
   {
    "duration": 44,
    "start_time": "2024-07-16T22:49:39.523Z"
   },
   {
    "duration": 25,
    "start_time": "2024-07-16T22:50:47.682Z"
   },
   {
    "duration": 12,
    "start_time": "2024-07-16T22:50:48.821Z"
   },
   {
    "duration": 37,
    "start_time": "2024-07-16T22:50:49.590Z"
   },
   {
    "duration": 35,
    "start_time": "2024-07-16T22:50:50.493Z"
   },
   {
    "duration": 44,
    "start_time": "2024-07-16T22:50:51.353Z"
   },
   {
    "duration": 3,
    "start_time": "2024-07-16T22:50:53.559Z"
   },
   {
    "duration": 10,
    "start_time": "2024-07-16T22:50:53.995Z"
   },
   {
    "duration": 4,
    "start_time": "2024-07-16T22:50:54.996Z"
   },
   {
    "duration": 10,
    "start_time": "2024-07-16T22:50:55.571Z"
   },
   {
    "duration": 3,
    "start_time": "2024-07-16T22:50:57.629Z"
   },
   {
    "duration": 10,
    "start_time": "2024-07-16T22:50:58.109Z"
   },
   {
    "duration": 3,
    "start_time": "2024-07-16T22:50:58.781Z"
   },
   {
    "duration": 10,
    "start_time": "2024-07-16T22:50:59.162Z"
   },
   {
    "duration": 7,
    "start_time": "2024-07-16T22:51:01.177Z"
   },
   {
    "duration": 1369,
    "start_time": "2024-07-16T22:51:01.977Z"
   },
   {
    "duration": 3,
    "start_time": "2024-07-16T22:51:03.351Z"
   },
   {
    "duration": 1190,
    "start_time": "2024-07-16T22:51:04.164Z"
   },
   {
    "duration": 3,
    "start_time": "2024-07-16T22:51:07.975Z"
   },
   {
    "duration": 11,
    "start_time": "2024-07-16T22:51:09.103Z"
   },
   {
    "duration": 23,
    "start_time": "2024-07-16T22:51:11.068Z"
   },
   {
    "duration": 4,
    "start_time": "2024-07-16T22:51:15.599Z"
   },
   {
    "duration": 16,
    "start_time": "2024-07-16T22:51:16.541Z"
   },
   {
    "duration": 15,
    "start_time": "2024-07-16T22:51:17.791Z"
   },
   {
    "duration": 13,
    "start_time": "2024-07-16T22:51:21.152Z"
   },
   {
    "duration": 14,
    "start_time": "2024-07-16T22:51:35.100Z"
   },
   {
    "duration": 16,
    "start_time": "2024-07-16T22:51:37.057Z"
   },
   {
    "duration": 11,
    "start_time": "2024-07-16T22:51:38.344Z"
   },
   {
    "duration": 11,
    "start_time": "2024-07-16T22:51:43.096Z"
   },
   {
    "duration": 29,
    "start_time": "2024-07-16T22:51:45.141Z"
   },
   {
    "duration": 53,
    "start_time": "2024-07-16T22:51:46.473Z"
   },
   {
    "duration": 15,
    "start_time": "2024-07-16T22:51:47.834Z"
   },
   {
    "duration": 3,
    "start_time": "2024-07-16T22:51:49.936Z"
   },
   {
    "duration": 562,
    "start_time": "2024-07-16T22:51:52.055Z"
   },
   {
    "duration": 104,
    "start_time": "2024-07-16T22:51:53.668Z"
   },
   {
    "duration": 4,
    "start_time": "2024-07-16T22:51:56.495Z"
   },
   {
    "duration": 68,
    "start_time": "2024-07-16T22:51:57.152Z"
   },
   {
    "duration": 17,
    "start_time": "2024-07-16T22:54:05.239Z"
   },
   {
    "duration": 14,
    "start_time": "2024-07-16T22:54:09.197Z"
   },
   {
    "duration": 13,
    "start_time": "2024-07-16T22:54:09.969Z"
   },
   {
    "duration": 12,
    "start_time": "2024-07-16T22:54:12.483Z"
   },
   {
    "duration": 330,
    "start_time": "2024-07-16T22:54:13.633Z"
   },
   {
    "duration": 15,
    "start_time": "2024-07-16T22:54:15.595Z"
   },
   {
    "duration": 232,
    "start_time": "2024-07-16T22:54:16.439Z"
   },
   {
    "duration": 12,
    "start_time": "2024-07-16T22:54:18.614Z"
   },
   {
    "duration": 19,
    "start_time": "2024-07-16T23:07:45.145Z"
   },
   {
    "duration": 13,
    "start_time": "2024-07-16T23:09:57.715Z"
   },
   {
    "duration": 587,
    "start_time": "2024-07-16T23:12:13.443Z"
   },
   {
    "duration": 13,
    "start_time": "2024-07-16T23:12:19.640Z"
   },
   {
    "duration": 67,
    "start_time": "2024-07-16T23:12:21.155Z"
   },
   {
    "duration": 10,
    "start_time": "2024-07-16T23:12:54.735Z"
   },
   {
    "duration": 10,
    "start_time": "2024-07-16T23:13:04.133Z"
   },
   {
    "duration": 15,
    "start_time": "2024-07-16T23:13:09.967Z"
   },
   {
    "duration": 11,
    "start_time": "2024-07-16T23:13:14.683Z"
   },
   {
    "duration": 11,
    "start_time": "2024-07-16T23:13:15.800Z"
   },
   {
    "duration": 4,
    "start_time": "2024-07-16T23:13:36.587Z"
   },
   {
    "duration": 1599,
    "start_time": "2024-07-16T23:13:37.055Z"
   },
   {
    "duration": 29,
    "start_time": "2024-07-16T23:13:38.658Z"
   },
   {
    "duration": 48,
    "start_time": "2024-07-16T23:13:38.691Z"
   },
   {
    "duration": 23,
    "start_time": "2024-07-16T23:13:39.588Z"
   },
   {
    "duration": 21,
    "start_time": "2024-07-16T23:13:41.324Z"
   },
   {
    "duration": 32,
    "start_time": "2024-07-16T23:13:42.211Z"
   },
   {
    "duration": 5,
    "start_time": "2024-07-16T23:13:43.859Z"
   },
   {
    "duration": 177,
    "start_time": "2024-07-16T23:13:44.919Z"
   },
   {
    "duration": 92,
    "start_time": "2024-07-16T23:13:45.456Z"
   },
   {
    "duration": 89,
    "start_time": "2024-07-16T23:13:47.509Z"
   },
   {
    "duration": 7,
    "start_time": "2024-07-16T23:13:49.484Z"
   },
   {
    "duration": 21,
    "start_time": "2024-07-16T23:13:50.280Z"
   },
   {
    "duration": 108,
    "start_time": "2024-07-16T23:13:52.547Z"
   },
   {
    "duration": 18,
    "start_time": "2024-07-16T23:13:53.213Z"
   },
   {
    "duration": 4,
    "start_time": "2024-07-16T23:13:54.031Z"
   },
   {
    "duration": 165,
    "start_time": "2024-07-16T23:13:54.594Z"
   },
   {
    "duration": 42,
    "start_time": "2024-07-16T23:13:55.203Z"
   },
   {
    "duration": 29,
    "start_time": "2024-07-16T23:13:56.997Z"
   },
   {
    "duration": 22,
    "start_time": "2024-07-16T23:13:57.303Z"
   },
   {
    "duration": 46,
    "start_time": "2024-07-16T23:13:58.527Z"
   },
   {
    "duration": 36,
    "start_time": "2024-07-16T23:14:00.811Z"
   },
   {
    "duration": 49,
    "start_time": "2024-07-16T23:14:02.555Z"
   },
   {
    "duration": 3,
    "start_time": "2024-07-16T23:14:05.966Z"
   },
   {
    "duration": 13,
    "start_time": "2024-07-16T23:14:06.581Z"
   },
   {
    "duration": 4,
    "start_time": "2024-07-16T23:14:07.510Z"
   },
   {
    "duration": 12,
    "start_time": "2024-07-16T23:14:08.969Z"
   },
   {
    "duration": 5,
    "start_time": "2024-07-16T23:14:10.710Z"
   },
   {
    "duration": 11,
    "start_time": "2024-07-16T23:14:11.194Z"
   },
   {
    "duration": 4,
    "start_time": "2024-07-16T23:14:11.962Z"
   },
   {
    "duration": 11,
    "start_time": "2024-07-16T23:14:12.449Z"
   },
   {
    "duration": 3,
    "start_time": "2024-07-16T23:14:13.713Z"
   },
   {
    "duration": 1450,
    "start_time": "2024-07-16T23:14:13.932Z"
   },
   {
    "duration": 4,
    "start_time": "2024-07-16T23:14:15.386Z"
   },
   {
    "duration": 1284,
    "start_time": "2024-07-16T23:14:15.394Z"
   },
   {
    "duration": 3,
    "start_time": "2024-07-16T23:14:17.609Z"
   },
   {
    "duration": 14,
    "start_time": "2024-07-16T23:14:18.139Z"
   },
   {
    "duration": 21,
    "start_time": "2024-07-16T23:14:19.394Z"
   },
   {
    "duration": 4,
    "start_time": "2024-07-16T23:14:20.817Z"
   },
   {
    "duration": 17,
    "start_time": "2024-07-16T23:14:21.606Z"
   },
   {
    "duration": 13,
    "start_time": "2024-07-16T23:14:22.332Z"
   },
   {
    "duration": 11,
    "start_time": "2024-07-16T23:14:24.712Z"
   },
   {
    "duration": 20,
    "start_time": "2024-07-16T23:14:30.347Z"
   },
   {
    "duration": 19,
    "start_time": "2024-07-16T23:14:37.873Z"
   },
   {
    "duration": 14,
    "start_time": "2024-07-16T23:14:38.770Z"
   },
   {
    "duration": 14,
    "start_time": "2024-07-16T23:14:40.239Z"
   },
   {
    "duration": 22,
    "start_time": "2024-07-16T23:14:41.959Z"
   },
   {
    "duration": 30,
    "start_time": "2024-07-16T23:14:45.308Z"
   },
   {
    "duration": 60,
    "start_time": "2024-07-16T23:14:46.459Z"
   },
   {
    "duration": 17,
    "start_time": "2024-07-16T23:14:48.802Z"
   },
   {
    "duration": 3,
    "start_time": "2024-07-16T23:14:49.781Z"
   },
   {
    "duration": 669,
    "start_time": "2024-07-16T23:14:50.494Z"
   },
   {
    "duration": 108,
    "start_time": "2024-07-16T23:14:51.167Z"
   },
   {
    "duration": 8,
    "start_time": "2024-07-16T23:14:52.206Z"
   },
   {
    "duration": 69,
    "start_time": "2024-07-16T23:14:52.837Z"
   },
   {
    "duration": 13,
    "start_time": "2024-07-16T23:21:06.358Z"
   },
   {
    "duration": 81,
    "start_time": "2024-07-16T23:34:53.513Z"
   },
   {
    "duration": 22,
    "start_time": "2024-07-17T00:03:21.969Z"
   },
   {
    "duration": 21,
    "start_time": "2024-07-17T00:03:34.626Z"
   },
   {
    "duration": 10,
    "start_time": "2024-07-17T00:03:37.420Z"
   },
   {
    "duration": 4,
    "start_time": "2024-07-17T00:03:58.601Z"
   },
   {
    "duration": 355,
    "start_time": "2024-07-17T00:04:04.373Z"
   },
   {
    "duration": 29,
    "start_time": "2024-07-17T00:04:35.311Z"
   },
   {
    "duration": 794,
    "start_time": "2024-07-17T00:04:46.300Z"
   },
   {
    "duration": 1070,
    "start_time": "2024-07-17T00:04:59.834Z"
   },
   {
    "duration": 1881,
    "start_time": "2024-07-17T00:05:00.911Z"
   },
   {
    "duration": 39,
    "start_time": "2024-07-17T00:05:02.798Z"
   },
   {
    "duration": 29,
    "start_time": "2024-07-17T00:05:02.842Z"
   },
   {
    "duration": 51,
    "start_time": "2024-07-17T00:05:02.875Z"
   },
   {
    "duration": 25,
    "start_time": "2024-07-17T00:05:02.931Z"
   },
   {
    "duration": 31,
    "start_time": "2024-07-17T00:05:02.960Z"
   },
   {
    "duration": 33,
    "start_time": "2024-07-17T00:05:02.993Z"
   },
   {
    "duration": 224,
    "start_time": "2024-07-17T00:05:03.030Z"
   },
   {
    "duration": 129,
    "start_time": "2024-07-17T00:05:03.264Z"
   },
   {
    "duration": 122,
    "start_time": "2024-07-17T00:05:03.397Z"
   },
   {
    "duration": 4,
    "start_time": "2024-07-17T00:05:03.521Z"
   },
   {
    "duration": 20,
    "start_time": "2024-07-17T00:05:03.528Z"
   },
   {
    "duration": 180,
    "start_time": "2024-07-17T00:05:03.552Z"
   },
   {
    "duration": 22,
    "start_time": "2024-07-17T00:05:03.735Z"
   },
   {
    "duration": 10,
    "start_time": "2024-07-17T00:05:03.761Z"
   },
   {
    "duration": 258,
    "start_time": "2024-07-17T00:05:03.774Z"
   },
   {
    "duration": 68,
    "start_time": "2024-07-17T00:05:04.036Z"
   },
   {
    "duration": 38,
    "start_time": "2024-07-17T00:05:04.125Z"
   },
   {
    "duration": 13,
    "start_time": "2024-07-17T00:05:04.166Z"
   },
   {
    "duration": 65,
    "start_time": "2024-07-17T00:05:04.182Z"
   },
   {
    "duration": 45,
    "start_time": "2024-07-17T00:05:04.250Z"
   },
   {
    "duration": 69,
    "start_time": "2024-07-17T00:05:04.298Z"
   },
   {
    "duration": 4,
    "start_time": "2024-07-17T00:05:04.371Z"
   },
   {
    "duration": 10,
    "start_time": "2024-07-17T00:05:04.379Z"
   },
   {
    "duration": 4,
    "start_time": "2024-07-17T00:05:04.423Z"
   },
   {
    "duration": 13,
    "start_time": "2024-07-17T00:05:04.431Z"
   },
   {
    "duration": 4,
    "start_time": "2024-07-17T00:05:04.454Z"
   },
   {
    "duration": 10,
    "start_time": "2024-07-17T00:05:04.462Z"
   },
   {
    "duration": 48,
    "start_time": "2024-07-17T00:05:04.475Z"
   },
   {
    "duration": 11,
    "start_time": "2024-07-17T00:05:04.527Z"
   },
   {
    "duration": 7,
    "start_time": "2024-07-17T00:05:04.541Z"
   },
   {
    "duration": 1494,
    "start_time": "2024-07-17T00:05:04.550Z"
   },
   {
    "duration": 3,
    "start_time": "2024-07-17T00:05:06.047Z"
   },
   {
    "duration": 1300,
    "start_time": "2024-07-17T00:05:06.054Z"
   },
   {
    "duration": 4,
    "start_time": "2024-07-17T00:05:07.361Z"
   },
   {
    "duration": 27,
    "start_time": "2024-07-17T00:05:07.369Z"
   },
   {
    "duration": 37,
    "start_time": "2024-07-17T00:05:07.400Z"
   },
   {
    "duration": 7,
    "start_time": "2024-07-17T00:05:07.440Z"
   },
   {
    "duration": 13,
    "start_time": "2024-07-17T00:05:07.450Z"
   },
   {
    "duration": 17,
    "start_time": "2024-07-17T00:05:07.465Z"
   },
   {
    "duration": 44,
    "start_time": "2024-07-17T00:05:07.485Z"
   },
   {
    "duration": 17,
    "start_time": "2024-07-17T00:05:07.534Z"
   },
   {
    "duration": 20,
    "start_time": "2024-07-17T00:05:07.556Z"
   },
   {
    "duration": 51,
    "start_time": "2024-07-17T00:05:07.580Z"
   },
   {
    "duration": 14,
    "start_time": "2024-07-17T00:05:07.634Z"
   },
   {
    "duration": 26,
    "start_time": "2024-07-17T00:05:07.651Z"
   },
   {
    "duration": 51,
    "start_time": "2024-07-17T00:05:07.680Z"
   },
   {
    "duration": 41,
    "start_time": "2024-07-17T00:05:07.734Z"
   },
   {
    "duration": 87,
    "start_time": "2024-07-17T00:05:07.778Z"
   },
   {
    "duration": 15,
    "start_time": "2024-07-17T00:05:07.869Z"
   },
   {
    "duration": 4,
    "start_time": "2024-07-17T00:05:07.887Z"
   },
   {
    "duration": 588,
    "start_time": "2024-07-17T00:05:07.923Z"
   },
   {
    "duration": 420,
    "start_time": "2024-07-17T00:05:08.514Z"
   },
   {
    "duration": 0,
    "start_time": "2024-07-17T00:05:08.938Z"
   },
   {
    "duration": 0,
    "start_time": "2024-07-17T00:05:08.940Z"
   },
   {
    "duration": 0,
    "start_time": "2024-07-17T00:05:08.942Z"
   },
   {
    "duration": 0,
    "start_time": "2024-07-17T00:05:08.944Z"
   },
   {
    "duration": 0,
    "start_time": "2024-07-17T00:05:08.946Z"
   },
   {
    "duration": 0,
    "start_time": "2024-07-17T00:05:08.948Z"
   },
   {
    "duration": 0,
    "start_time": "2024-07-17T00:05:08.950Z"
   },
   {
    "duration": 0,
    "start_time": "2024-07-17T00:05:08.954Z"
   },
   {
    "duration": 0,
    "start_time": "2024-07-17T00:05:08.957Z"
   },
   {
    "duration": 0,
    "start_time": "2024-07-17T00:05:08.959Z"
   },
   {
    "duration": 0,
    "start_time": "2024-07-17T00:05:08.961Z"
   },
   {
    "duration": 0,
    "start_time": "2024-07-17T00:05:08.963Z"
   },
   {
    "duration": 0,
    "start_time": "2024-07-17T00:05:08.964Z"
   },
   {
    "duration": 0,
    "start_time": "2024-07-17T00:05:08.966Z"
   },
   {
    "duration": 0,
    "start_time": "2024-07-17T00:05:08.968Z"
   },
   {
    "duration": 0,
    "start_time": "2024-07-17T00:05:08.970Z"
   },
   {
    "duration": 0,
    "start_time": "2024-07-17T00:05:08.972Z"
   },
   {
    "duration": 0,
    "start_time": "2024-07-17T00:05:08.974Z"
   },
   {
    "duration": 0,
    "start_time": "2024-07-17T00:05:09.023Z"
   },
   {
    "duration": 0,
    "start_time": "2024-07-17T00:05:09.025Z"
   },
   {
    "duration": 0,
    "start_time": "2024-07-17T00:05:09.028Z"
   },
   {
    "duration": 0,
    "start_time": "2024-07-17T00:05:09.030Z"
   },
   {
    "duration": 0,
    "start_time": "2024-07-17T00:05:09.032Z"
   },
   {
    "duration": 0,
    "start_time": "2024-07-17T00:05:09.034Z"
   },
   {
    "duration": 0,
    "start_time": "2024-07-17T00:05:09.036Z"
   },
   {
    "duration": 0,
    "start_time": "2024-07-17T00:05:09.038Z"
   },
   {
    "duration": 0,
    "start_time": "2024-07-17T00:05:09.045Z"
   },
   {
    "duration": 0,
    "start_time": "2024-07-17T00:05:09.048Z"
   },
   {
    "duration": 0,
    "start_time": "2024-07-17T00:05:09.050Z"
   },
   {
    "duration": 0,
    "start_time": "2024-07-17T00:05:09.052Z"
   },
   {
    "duration": 1,
    "start_time": "2024-07-17T00:05:09.054Z"
   },
   {
    "duration": 0,
    "start_time": "2024-07-17T00:05:09.056Z"
   },
   {
    "duration": 0,
    "start_time": "2024-07-17T00:05:09.059Z"
   },
   {
    "duration": 0,
    "start_time": "2024-07-17T00:05:09.061Z"
   },
   {
    "duration": 1,
    "start_time": "2024-07-17T00:05:09.063Z"
   },
   {
    "duration": 0,
    "start_time": "2024-07-17T00:05:09.124Z"
   },
   {
    "duration": 0,
    "start_time": "2024-07-17T00:05:09.126Z"
   },
   {
    "duration": 0,
    "start_time": "2024-07-17T00:05:09.129Z"
   },
   {
    "duration": 105,
    "start_time": "2024-07-17T00:06:14.600Z"
   },
   {
    "duration": 15,
    "start_time": "2024-07-17T00:07:18.689Z"
   },
   {
    "duration": 604,
    "start_time": "2024-07-17T00:07:28.482Z"
   },
   {
    "duration": 123,
    "start_time": "2024-07-17T00:08:09.565Z"
   },
   {
    "duration": 89,
    "start_time": "2024-07-17T00:19:50.147Z"
   },
   {
    "duration": 21,
    "start_time": "2024-07-17T00:22:08.431Z"
   },
   {
    "duration": 15,
    "start_time": "2024-07-17T00:22:09.403Z"
   },
   {
    "duration": 15,
    "start_time": "2024-07-17T00:22:10.375Z"
   },
   {
    "duration": 20,
    "start_time": "2024-07-17T00:22:17.653Z"
   },
   {
    "duration": 471,
    "start_time": "2024-07-17T00:22:18.794Z"
   },
   {
    "duration": 19,
    "start_time": "2024-07-17T00:22:26.559Z"
   },
   {
    "duration": 314,
    "start_time": "2024-07-17T00:22:27.411Z"
   },
   {
    "duration": 13,
    "start_time": "2024-07-17T00:22:29.396Z"
   },
   {
    "duration": 485,
    "start_time": "2024-07-17T00:22:30.089Z"
   },
   {
    "duration": 5,
    "start_time": "2024-07-17T00:22:33.544Z"
   },
   {
    "duration": 12,
    "start_time": "2024-07-17T00:22:34.242Z"
   },
   {
    "duration": 8,
    "start_time": "2024-07-17T00:22:34.887Z"
   },
   {
    "duration": 8,
    "start_time": "2024-07-17T00:22:40.688Z"
   },
   {
    "duration": 15,
    "start_time": "2024-07-17T00:22:41.749Z"
   },
   {
    "duration": 13,
    "start_time": "2024-07-17T00:22:42.672Z"
   },
   {
    "duration": 7,
    "start_time": "2024-07-17T00:22:44.216Z"
   },
   {
    "duration": 18,
    "start_time": "2024-07-17T00:22:44.892Z"
   },
   {
    "duration": 539,
    "start_time": "2024-07-17T00:22:46.041Z"
   },
   {
    "duration": 88,
    "start_time": "2024-07-17T00:22:49.177Z"
   },
   {
    "duration": 2377,
    "start_time": "2024-07-17T00:22:52.053Z"
   },
   {
    "duration": 15,
    "start_time": "2024-07-17T00:22:54.441Z"
   },
   {
    "duration": 533,
    "start_time": "2024-07-17T00:23:04.028Z"
   },
   {
    "duration": 13,
    "start_time": "2024-07-17T00:23:05.649Z"
   },
   {
    "duration": 614,
    "start_time": "2024-07-17T00:23:07.352Z"
   },
   {
    "duration": 412,
    "start_time": "2024-07-17T00:23:11.611Z"
   },
   {
    "duration": 16,
    "start_time": "2024-07-17T00:23:14.081Z"
   },
   {
    "duration": 231,
    "start_time": "2024-07-17T00:23:16.441Z"
   },
   {
    "duration": 1364,
    "start_time": "2024-07-17T00:23:17.274Z"
   },
   {
    "duration": 6,
    "start_time": "2024-07-17T00:23:18.881Z"
   },
   {
    "duration": 755,
    "start_time": "2024-07-17T00:23:20.236Z"
   },
   {
    "duration": 2259,
    "start_time": "2024-07-17T00:23:22.680Z"
   },
   {
    "duration": 1923,
    "start_time": "2024-07-17T00:23:30.940Z"
   },
   {
    "duration": 61,
    "start_time": "2024-07-17T00:23:32.867Z"
   },
   {
    "duration": 1088,
    "start_time": "2024-07-17T00:23:35.693Z"
   },
   {
    "duration": 234,
    "start_time": "2024-07-17T00:23:38.000Z"
   },
   {
    "duration": 21,
    "start_time": "2024-07-17T00:23:38.616Z"
   },
   {
    "duration": 8,
    "start_time": "2024-07-17T00:27:10.588Z"
   },
   {
    "duration": 353,
    "start_time": "2024-07-18T02:35:55.492Z"
   },
   {
    "duration": 23,
    "start_time": "2024-07-18T02:35:56.190Z"
   },
   {
    "duration": 22,
    "start_time": "2024-07-18T02:36:10.585Z"
   },
   {
    "duration": 4889,
    "start_time": "2024-07-18T02:36:21.426Z"
   },
   {
    "duration": 2139,
    "start_time": "2024-07-18T02:36:26.320Z"
   },
   {
    "duration": 51,
    "start_time": "2024-07-18T02:36:28.463Z"
   },
   {
    "duration": 35,
    "start_time": "2024-07-18T02:36:28.519Z"
   },
   {
    "duration": 27,
    "start_time": "2024-07-18T02:36:37.907Z"
   },
   {
    "duration": 24,
    "start_time": "2024-07-18T02:36:39.214Z"
   },
   {
    "duration": 23,
    "start_time": "2024-07-18T02:36:40.537Z"
   },
   {
    "duration": 5,
    "start_time": "2024-07-18T02:36:50.183Z"
   },
   {
    "duration": 1583,
    "start_time": "2024-07-18T02:36:55.320Z"
   },
   {
    "duration": 29,
    "start_time": "2024-07-18T02:36:56.909Z"
   },
   {
    "duration": 26,
    "start_time": "2024-07-18T02:36:56.943Z"
   },
   {
    "duration": 59,
    "start_time": "2024-07-18T02:36:56.974Z"
   },
   {
    "duration": 23,
    "start_time": "2024-07-18T02:36:57.037Z"
   },
   {
    "duration": 55,
    "start_time": "2024-07-18T02:36:57.063Z"
   },
   {
    "duration": 4,
    "start_time": "2024-07-18T02:36:58.237Z"
   },
   {
    "duration": 210,
    "start_time": "2024-07-18T02:36:58.407Z"
   },
   {
    "duration": 136,
    "start_time": "2024-07-18T02:36:58.621Z"
   },
   {
    "duration": 130,
    "start_time": "2024-07-18T02:36:58.764Z"
   },
   {
    "duration": 3,
    "start_time": "2024-07-18T02:36:59.055Z"
   },
   {
    "duration": 29,
    "start_time": "2024-07-18T02:36:59.217Z"
   },
   {
    "duration": 140,
    "start_time": "2024-07-18T02:37:00.278Z"
   },
   {
    "duration": 18,
    "start_time": "2024-07-18T02:37:01.239Z"
   },
   {
    "duration": 4,
    "start_time": "2024-07-18T02:37:01.519Z"
   },
   {
    "duration": 228,
    "start_time": "2024-07-18T02:37:02.265Z"
   },
   {
    "duration": 68,
    "start_time": "2024-07-18T02:37:02.496Z"
   },
   {
    "duration": 28,
    "start_time": "2024-07-18T02:37:04.945Z"
   },
   {
    "duration": 14,
    "start_time": "2024-07-18T02:37:05.288Z"
   },
   {
    "duration": 52,
    "start_time": "2024-07-18T02:37:05.565Z"
   },
   {
    "duration": 39,
    "start_time": "2024-07-18T02:37:06.189Z"
   },
   {
    "duration": 56,
    "start_time": "2024-07-18T02:37:06.434Z"
   },
   {
    "duration": 4,
    "start_time": "2024-07-18T02:37:07.270Z"
   },
   {
    "duration": 10,
    "start_time": "2024-07-18T02:37:07.428Z"
   },
   {
    "duration": 3,
    "start_time": "2024-07-18T02:37:07.777Z"
   },
   {
    "duration": 10,
    "start_time": "2024-07-18T02:37:07.961Z"
   },
   {
    "duration": 3,
    "start_time": "2024-07-18T02:37:08.604Z"
   },
   {
    "duration": 12,
    "start_time": "2024-07-18T02:37:08.783Z"
   },
   {
    "duration": 3,
    "start_time": "2024-07-18T02:37:08.923Z"
   },
   {
    "duration": 12,
    "start_time": "2024-07-18T02:37:09.088Z"
   },
   {
    "duration": 3,
    "start_time": "2024-07-18T02:37:10.398Z"
   },
   {
    "duration": 1537,
    "start_time": "2024-07-18T02:37:10.621Z"
   },
   {
    "duration": 5,
    "start_time": "2024-07-18T02:37:12.162Z"
   },
   {
    "duration": 1402,
    "start_time": "2024-07-18T02:37:12.170Z"
   },
   {
    "duration": 4,
    "start_time": "2024-07-18T02:37:13.579Z"
   },
   {
    "duration": 31,
    "start_time": "2024-07-18T02:37:13.586Z"
   },
   {
    "duration": 22,
    "start_time": "2024-07-18T02:37:13.622Z"
   },
   {
    "duration": 4,
    "start_time": "2024-07-18T02:37:13.647Z"
   },
   {
    "duration": 59,
    "start_time": "2024-07-18T02:37:13.654Z"
   },
   {
    "duration": 15,
    "start_time": "2024-07-18T02:37:13.715Z"
   },
   {
    "duration": 10,
    "start_time": "2024-07-18T02:37:13.738Z"
   },
   {
    "duration": 18,
    "start_time": "2024-07-18T02:37:14.065Z"
   },
   {
    "duration": 20,
    "start_time": "2024-07-18T02:37:14.970Z"
   },
   {
    "duration": 13,
    "start_time": "2024-07-18T02:37:15.161Z"
   },
   {
    "duration": 14,
    "start_time": "2024-07-18T02:37:15.318Z"
   },
   {
    "duration": 22,
    "start_time": "2024-07-18T02:37:15.485Z"
   },
   {
    "duration": 16,
    "start_time": "2024-07-18T02:37:15.786Z"
   },
   {
    "duration": 30,
    "start_time": "2024-07-18T02:37:16.068Z"
   },
   {
    "duration": 55,
    "start_time": "2024-07-18T02:37:16.229Z"
   },
   {
    "duration": 14,
    "start_time": "2024-07-18T02:37:16.547Z"
   },
   {
    "duration": 4,
    "start_time": "2024-07-18T02:37:16.886Z"
   },
   {
    "duration": 651,
    "start_time": "2024-07-18T02:37:17.430Z"
   },
   {
    "duration": 121,
    "start_time": "2024-07-18T02:37:18.088Z"
   },
   {
    "duration": 6,
    "start_time": "2024-07-18T02:37:18.301Z"
   },
   {
    "duration": 67,
    "start_time": "2024-07-18T02:37:18.532Z"
   },
   {
    "duration": 24,
    "start_time": "2024-07-18T02:37:29.922Z"
   },
   {
    "duration": 16,
    "start_time": "2024-07-18T02:37:30.322Z"
   },
   {
    "duration": 25,
    "start_time": "2024-07-18T02:37:30.637Z"
   },
   {
    "duration": 13,
    "start_time": "2024-07-18T02:37:31.660Z"
   },
   {
    "duration": 368,
    "start_time": "2024-07-18T02:37:31.929Z"
   },
   {
    "duration": 16,
    "start_time": "2024-07-18T02:37:35.651Z"
   },
   {
    "duration": 296,
    "start_time": "2024-07-18T02:37:36.380Z"
   },
   {
    "duration": 12,
    "start_time": "2024-07-18T02:37:39.813Z"
   },
   {
    "duration": 415,
    "start_time": "2024-07-18T02:37:41.682Z"
   },
   {
    "duration": 4,
    "start_time": "2024-07-18T02:37:45.951Z"
   },
   {
    "duration": 12,
    "start_time": "2024-07-18T02:37:47.219Z"
   },
   {
    "duration": 8,
    "start_time": "2024-07-18T02:37:48.221Z"
   },
   {
    "duration": 5,
    "start_time": "2024-07-18T02:37:48.747Z"
   },
   {
    "duration": 11,
    "start_time": "2024-07-18T02:37:49.329Z"
   },
   {
    "duration": 7,
    "start_time": "2024-07-18T02:37:49.833Z"
   },
   {
    "duration": 5,
    "start_time": "2024-07-18T02:37:50.069Z"
   },
   {
    "duration": 14,
    "start_time": "2024-07-18T02:37:50.314Z"
   },
   {
    "duration": 458,
    "start_time": "2024-07-18T02:37:50.590Z"
   },
   {
    "duration": 97,
    "start_time": "2024-07-18T02:37:51.771Z"
   },
   {
    "duration": 2067,
    "start_time": "2024-07-18T02:37:58.626Z"
   },
   {
    "duration": 12,
    "start_time": "2024-07-18T02:38:03.235Z"
   },
   {
    "duration": 634,
    "start_time": "2024-07-18T02:38:05.244Z"
   },
   {
    "duration": 9,
    "start_time": "2024-07-18T02:38:05.885Z"
   },
   {
    "duration": 468,
    "start_time": "2024-07-18T02:38:05.898Z"
   },
   {
    "duration": 267,
    "start_time": "2024-07-18T02:38:06.538Z"
   },
   {
    "duration": 8,
    "start_time": "2024-07-18T02:38:06.808Z"
   },
   {
    "duration": 195,
    "start_time": "2024-07-18T02:38:10.813Z"
   },
   {
    "duration": 1019,
    "start_time": "2024-07-18T02:38:13.416Z"
   },
   {
    "duration": 6,
    "start_time": "2024-07-18T02:38:16.415Z"
   },
   {
    "duration": 412,
    "start_time": "2024-07-18T02:38:18.105Z"
   },
   {
    "duration": 1632,
    "start_time": "2024-07-18T02:39:11.457Z"
   },
   {
    "duration": 84,
    "start_time": "2024-07-18T03:13:06.149Z"
   },
   {
    "duration": 95,
    "start_time": "2024-07-18T03:13:16.921Z"
   },
   {
    "duration": 174,
    "start_time": "2024-07-18T03:19:15.521Z"
   },
   {
    "duration": 167,
    "start_time": "2024-07-18T03:19:51.470Z"
   },
   {
    "duration": 187,
    "start_time": "2024-07-18T03:19:58.239Z"
   },
   {
    "duration": 170,
    "start_time": "2024-07-18T03:21:45.222Z"
   },
   {
    "duration": 173,
    "start_time": "2024-07-18T03:21:48.533Z"
   },
   {
    "duration": 71,
    "start_time": "2024-07-18T03:45:35.989Z"
   }
  ],
  "colab": {
   "provenance": []
  },
  "kernelspec": {
   "display_name": "base",
   "language": "python",
   "name": "python3"
  },
  "language_info": {
   "codemirror_mode": {
    "name": "ipython",
    "version": 3
   },
   "file_extension": ".py",
   "mimetype": "text/x-python",
   "name": "python",
   "nbconvert_exporter": "python",
   "pygments_lexer": "ipython3",
   "version": "3.11.7"
  },
  "toc": {
   "base_numbering": 1,
   "nav_menu": {},
   "number_sections": true,
   "sideBar": true,
   "skip_h1_title": true,
   "title_cell": "Table of Contents",
   "title_sidebar": "Contents",
   "toc_cell": false,
   "toc_position": {},
   "toc_section_display": true,
   "toc_window_display": false
  }
 },
 "nbformat": 4,
 "nbformat_minor": 5
}
