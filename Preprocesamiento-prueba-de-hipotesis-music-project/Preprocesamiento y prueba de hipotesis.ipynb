{
 "cells": [
  {
   "cell_type": "markdown",
   "metadata": {},
   "source": [
    "# Proyecto Preprocesamiento de datos/Prueba de hipótesis"
   ]
  },
  {
   "cell_type": "markdown",
   "metadata": {
    "id": "E0vqbgi9ay0H"
   },
   "source": [
    "## Déjame escuchar la música"
   ]
  },
  {
   "cell_type": "markdown",
   "metadata": {
    "id": "fhq_eyov_Zcs"
   },
   "source": [
    "## Contenido <a id='back'></a>\n",
    "\n",
    "* [Introducción](#intro)\n",
    "* [Etapa 1. Descripción de los datos](#data_review)\n",
    "    * [Conclusiones](#data_review_conclusions)\n",
    "* [Etapa 2. Preprocesamiento de datos](#data_preprocessing)\n",
    "    * [2.1 Estilo del encabezado](#header_style)\n",
    "    * [2.2 Valores ausentes](#missing_values)\n",
    "    * [2.3 Duplicados](#duplicates)\n",
    "    * [2.4 Conclusiones](#data_preprocessing_conclusions)\n",
    "* [Etapa 3. Prueba de hipótesis](#hypothesis)\n",
    "    * [3.1 Hipótesis 1: actividad de los usuarios y las usuarias en las dos ciudades](#activity)\n",
    "* [Conclusiones](#end)"
   ]
  },
  {
   "cell_type": "markdown",
   "metadata": {
    "id": "VUC88oWjTJw2"
   },
   "source": [
    "## Introducción <a id='intro'></a>\n",
    "Como analista de datos, tu trabajo consiste en analizar datos para extraer información valiosa y tomar decisiones basadas en ellos. Esto implica diferentes etapas, como la descripción general de los datos, el preprocesamiento y la prueba de hipótesis.\n",
    "\n",
    "Siempre que investigamos, necesitamos formular hipótesis que después podamos probar. A veces aceptamos estas hipótesis; otras veces, las rechazamos. Para tomar las decisiones correctas, una empresa debe ser capaz de entender si está haciendo las suposiciones correctas.\n",
    "\n",
    "En este proyecto, compararás las preferencias musicales de las ciudades de Springfield y Shelbyville. Estudiarás datos reales de transmisión de música online para probar la hipótesis a continuación y comparar el comportamiento de los usuarios y las usuarias de estas dos ciudades.\n",
    "\n",
    "### Objetivo:\n",
    "Prueba la hipótesis:\n",
    "1. La actividad de los usuarios y las usuarias difiere según el día de la semana y dependiendo de la ciudad.\n",
    "\n",
    "\n",
    "### Etapas\n",
    "Los datos del comportamiento del usuario se almacenan en el archivo `/datasets/music_project_en.csv`. No hay ninguna información sobre la calidad de los datos, así que necesitarás examinarlos antes de probar la hipótesis.\n",
    "\n",
    "Primero, evaluarás la calidad de los datos y verás si los problemas son significativos. Entonces, durante el preprocesamiento de datos, tomarás en cuenta los problemas más críticos.\n",
    "\n",
    "Tu proyecto consistirá en tres etapas:\n",
    " 1. Descripción de los datos.\n",
    " 2. Preprocesamiento de datos.\n",
    " 3. Prueba de hipótesis.\n",
    "\n",
    "\n",
    "\n",
    "\n",
    "\n",
    "\n"
   ]
  },
  {
   "cell_type": "markdown",
   "metadata": {
    "id": "hDt6pg-Rw-1U"
   },
   "source": [
    "[Volver a Contenidos](#back)"
   ]
  },
  {
   "cell_type": "markdown",
   "metadata": {
    "id": "Ml1hmfXC_Zcs"
   },
   "source": [
    "## Etapa 1. Descripción de los datos <a id='data_review'></a>\n",
    "\n",
    "Abre los datos y examínalos."
   ]
  },
  {
   "cell_type": "markdown",
   "metadata": {
    "id": "57eAOGIz_Zcs"
   },
   "source": [
    "Necesitarás `pandas`, así que impórtalo."
   ]
  },
  {
   "cell_type": "code",
   "execution_count": 1,
   "metadata": {
    "id": "AXN7PHPN_Zcs"
   },
   "outputs": [],
   "source": [
    "import pandas as pd\n",
    "# Importar pandas\n"
   ]
  },
  {
   "cell_type": "markdown",
   "metadata": {
    "id": "SG23P8tt_Zcs"
   },
   "source": [
    "Lee el archivo `music_project_en.csv` de la carpeta `/datasets/` y guárdalo en la variable `df`:"
   ]
  },
  {
   "cell_type": "code",
   "execution_count": 3,
   "metadata": {
    "id": "fFVu7vqh_Zct"
   },
   "outputs": [],
   "source": [
    "df = pd.read_csv('./datasets/music_project_en.csv')\n",
    "# Leer el archivo y almacenarlo en df\n"
   ]
  },
  {
   "cell_type": "markdown",
   "metadata": {
    "id": "rDoOMd3uTqnZ"
   },
   "source": [
    "Muestra las 10 primeras filas de la tabla:"
   ]
  },
  {
   "cell_type": "code",
   "execution_count": 29,
   "metadata": {
    "id": "oWTVX3gW_Zct"
   },
   "outputs": [
    {
     "name": "stdout",
     "output_type": "stream",
     "text": [
      "     userID                        Track            artist   genre  \\\n",
      "0  FFB692EC            Kamigata To Boots  The Mass Missile    rock   \n",
      "1  55204538  Delayed Because of Accident  Andreas Rönnberg    rock   \n",
      "2    20EC38            Funiculì funiculà       Mario Lanza     pop   \n",
      "3  A3DD03C9        Dragons in the Sunset        Fire + Ice    folk   \n",
      "4  E2DC1FAE                  Soul People        Space Echo   dance   \n",
      "5  842029A1                       Chains          Obladaet  rusrap   \n",
      "6  4CB90AA5                         True      Roman Messer   dance   \n",
      "7  F03E1C1F             Feeling This Way   Polina Griffith   dance   \n",
      "8  8FA1D3BE                     L’estate       Julia Dalia  ruspop   \n",
      "9  E772D5C0                    Pessimist               NaN   dance   \n",
      "\n",
      "        City        time        Day  \n",
      "0  Shelbyville  20:28:33  Wednesday  \n",
      "1  Springfield  14:07:09     Friday  \n",
      "2  Shelbyville  20:58:07  Wednesday  \n",
      "3  Shelbyville  08:37:09     Monday  \n",
      "4  Springfield  08:34:34     Monday  \n",
      "5  Shelbyville  13:09:41     Friday  \n",
      "6  Springfield  13:00:07  Wednesday  \n",
      "7  Springfield  20:47:49  Wednesday  \n",
      "8  Springfield  09:17:40     Friday  \n",
      "9  Shelbyville  21:20:49  Wednesday  \n"
     ]
    }
   ],
   "source": [
    "print(df.head(10))\n",
    "# Obtener las 10 primeras filas de la tabla df\n"
   ]
  },
  {
   "cell_type": "markdown",
   "metadata": {
    "id": "EO73Kwic_Zct"
   },
   "source": [
    "Obtén la información general sobre la tabla con un comando. Conoces el método que muestra la información general que necesitamos."
   ]
  },
  {
   "cell_type": "code",
   "execution_count": 30,
   "metadata": {
    "id": "DSf2kIb-_Zct"
   },
   "outputs": [
    {
     "name": "stdout",
     "output_type": "stream",
     "text": [
      "<class 'pandas.core.frame.DataFrame'>\n",
      "RangeIndex: 65079 entries, 0 to 65078\n",
      "Data columns (total 7 columns):\n",
      " #   Column    Non-Null Count  Dtype \n",
      "---  ------    --------------  ----- \n",
      " 0     userID  65079 non-null  object\n",
      " 1   Track     63736 non-null  object\n",
      " 2   artist    57512 non-null  object\n",
      " 3   genre     63881 non-null  object\n",
      " 4     City    65079 non-null  object\n",
      " 5   time      65079 non-null  object\n",
      " 6   Day       65079 non-null  object\n",
      "dtypes: object(7)\n",
      "memory usage: 3.5+ MB\n",
      "None\n"
     ]
    }
   ],
   "source": [
    "print(df.info())\n",
    "# Obtener la información general sobre nuestros datos\n"
   ]
  },
  {
   "cell_type": "markdown",
   "metadata": {
    "id": "TaQ2Iwbr_Zct"
   },
   "source": [
    "Estas son nuestras observaciones sobre la tabla. Contiene siete columnas. Almacenan los mismos tipos de datos: `object`.\n",
    "\n",
    "Según la documentación:\n",
    "- `' userID'`: identificador del usuario o la usuaria;\n",
    "- `'Track'`: título de la canción;\n",
    "- `'artist'`: nombre del artista;\n",
    "- `'genre'`: género de la pista;\n",
    "- `'City'`: ciudad del usuario o la usuaria;\n",
    "- `'time'`: la hora exacta en la que se reprodujo la canción;\n",
    "- `'Day'`: día de la semana.\n",
    "\n",
    "Podemos ver tres problemas con el estilo en los encabezados de la tabla:\n",
    "1. Algunos encabezados están en mayúsculas, otros en minúsculas.\n",
    "2. Hay espacios en algunos encabezados.\n",
    "3. `Detecta el tercer problema por tu cuenta y descríbelo aquí`. La columna '  userID', a parte de tener un espacio y mayusculas y minusculas, requiere modificarse a 'user-id'\n",
    " \n",
    "\n",
    "\n"
   ]
  },
  {
   "cell_type": "markdown",
   "metadata": {
    "id": "MCB6-dXG_Zct"
   },
   "source": [
    "### Escribe observaciones de tu parte. Estas son algunas de las preguntas que pueden ser útiles: <a id='data_review_conclusions'></a>\n",
    "\n",
    "`1.   ¿Qué tipo de datos tenemos a nuestra disposición en las filas? ¿Y cómo podemos entender lo que almacenan las columnas?`\n",
    "\n",
    "La tabla nos muestra informacion sobre una cantidad de personas que escucha musica en dos ciudades, el genero, nombre del artista y que reprodujo, pero solo de 3 dias de la semana, \n",
    "\n",
    "`2.   ¿Hay suficientes datos para proporcionar respuestas a nuestra hipótesis o necesitamos más información?`\n",
    "\n",
    "La información estaria completa si pudieramos analizar todos los dias, \n",
    "\n",
    "`3.   ¿Notaste algún problema en los datos, como valores ausentes, duplicados o tipos de datos incorrectos?`\n",
    "\n",
    "Los encabezados de las columnas muestran errores de escritura que son facil de corregir, como los espacios demás, mayusculas y aplicar la regla snake-case si elnombre tiene varias palabras.\n",
    "\n",
    "Hay espacios vacios(sin datos como Track, Artis y genre, sin embargo user-id, ciudad, tiempo y dia de la semana siempre se encuentra con información, lo que permite mostrar que ciudades escuchan musica para cada uno de los 3 dias, (Monday, Wednesday and Friday)\n"
   ]
  },
  {
   "cell_type": "markdown",
   "metadata": {
    "id": "3eL__vcwViOi"
   },
   "source": [
    "[Volver a Contenidos](#back)"
   ]
  },
  {
   "cell_type": "markdown",
   "metadata": {
    "id": "SjYF6Ub9_Zct"
   },
   "source": [
    "## Etapa 2. Preprocesamiento de datos <a id='data_preprocessing'></a>\n",
    "\n",
    "El objetivo aquí es preparar los datos para que sean analizados.\n",
    "El primer paso es resolver cualquier problema con los encabezados. Luego podemos avanzar a los valores ausentes y duplicados. Empecemos.\n",
    "\n",
    "Corrige el formato en los encabezados de la tabla.\n"
   ]
  },
  {
   "cell_type": "markdown",
   "metadata": {
    "id": "dIaKXr29_Zct"
   },
   "source": [
    "### Estilo del encabezado <a id='header_style'></a>\n",
    "Muestra los encabezados de la tabla (los nombres de las columnas):"
   ]
  },
  {
   "cell_type": "code",
   "execution_count": 31,
   "metadata": {
    "id": "oKOTdF_Q_Zct"
   },
   "outputs": [
    {
     "name": "stdout",
     "output_type": "stream",
     "text": [
      "Index(['  userID', 'Track', 'artist', 'genre', '  City  ', 'time', 'Day'], dtype='object')\n"
     ]
    }
   ],
   "source": [
    "columns = df.columns\n",
    "print(columns)\n",
    "\n",
    "\n",
    "# Muestra los nombres de las columnas\n"
   ]
  },
  {
   "cell_type": "markdown",
   "metadata": {
    "id": "zj5534cv_Zct"
   },
   "source": [
    "Cambia los encabezados de la tabla de acuerdo con las reglas del buen estilo:\n",
    "* Todos los caracteres deben ser minúsculas.\n",
    "* Elimina los espacios.\n",
    "* Si el nombre tiene varias palabras, utiliza snake_case."
   ]
  },
  {
   "cell_type": "markdown",
   "metadata": {
    "id": "Xu0zkfe5zNJe"
   },
   "source": [
    "Anteriormente, aprendiste acerca de la forma automática de cambiar el nombre de las columnas. Vamos a aplicarla ahora. Utiliza el bucle for para iterar sobre los nombres de las columnas y poner todos los caracteres en minúsculas. Cuando hayas terminado, vuelve a mostrar los encabezados de la tabla:"
   ]
  },
  {
   "cell_type": "code",
   "execution_count": 32,
   "metadata": {
    "id": "6I_RwwMhzM4e"
   },
   "outputs": [
    {
     "name": "stdout",
     "output_type": "stream",
     "text": [
      "Index(['  userid', 'track', 'artist', 'genre', '  city  ', 'time', 'day'], dtype='object')\n"
     ]
    }
   ],
   "source": [
    "columns_new =[]\n",
    "for columns_name in df.columns:\n",
    "    name_lowered = columns_name.lower()\n",
    "    columns_new.append(name_lowered)\n",
    "    \n",
    "df.columns=columns_new    \n",
    "print(df.columns)\n",
    "\n",
    "# Bucle en los encabezados poniendo todo en minúsculas\n"
   ]
  },
  {
   "cell_type": "markdown",
   "metadata": {
    "id": "pweIRxjSzPYW"
   },
   "source": [
    "Ahora, utilizando el mismo método, elimina los espacios al principio y al final de los nombres de las columnas e imprime los nombres de las columnas nuevamente:"
   ]
  },
  {
   "cell_type": "code",
   "execution_count": 33,
   "metadata": {
    "id": "vVQXbFyJzSYl"
   },
   "outputs": [
    {
     "name": "stdout",
     "output_type": "stream",
     "text": [
      "Index(['userid', 'track', 'artist', 'genre', 'city', 'time', 'day'], dtype='object')\n"
     ]
    }
   ],
   "source": [
    "columns_new =[]\n",
    "for columns_name in df.columns:\n",
    "    name_stripped = columns_name.strip()\n",
    "    columns_new.append(name_stripped)\n",
    "    \n",
    "df.columns=columns_new    \n",
    "print(df.columns)\n",
    "\n",
    "# Bucle en los encabezados eliminando los espacios\n"
   ]
  },
  {
   "cell_type": "markdown",
   "metadata": {
    "id": "yCb8MW1JzURd"
   },
   "source": [
    "Necesitamos aplicar la regla de snake_case a la columna `userid`. Debe ser `user_id`. Cambia el nombre de esta columna y muestra los nombres de todas las columnas cuando hayas terminado."
   ]
  },
  {
   "cell_type": "code",
   "execution_count": 34,
   "metadata": {
    "id": "ISlFqs5y_Zct"
   },
   "outputs": [
    {
     "name": "stdout",
     "output_type": "stream",
     "text": [
      "Index(['user_id', 'track', 'artist', 'genre', 'city', 'time', 'day'], dtype='object')\n"
     ]
    }
   ],
   "source": [
    "columns_new =[]\n",
    "for columns_name in df.columns:\n",
    "    name_userid = columns_name.replace('userid', 'user_id')\n",
    "    columns_new.append(name_userid)\n",
    "    \n",
    "df.columns=columns_new    \n",
    "print(df.columns)"
   ]
  },
  {
   "cell_type": "markdown",
   "metadata": {
    "id": "1dqbh00J_Zct"
   },
   "source": [
    "Comprueba el resultado. Muestra los encabezados una vez más:"
   ]
  },
  {
   "cell_type": "code",
   "execution_count": 35,
   "metadata": {
    "id": "d4NOAmTW_Zct"
   },
   "outputs": [
    {
     "name": "stdout",
     "output_type": "stream",
     "text": [
      "<class 'pandas.core.frame.DataFrame'>\n",
      "RangeIndex: 65079 entries, 0 to 65078\n",
      "Data columns (total 7 columns):\n",
      " #   Column   Non-Null Count  Dtype \n",
      "---  ------   --------------  ----- \n",
      " 0   user_id  65079 non-null  object\n",
      " 1   track    63736 non-null  object\n",
      " 2   artist   57512 non-null  object\n",
      " 3   genre    63881 non-null  object\n",
      " 4   city     65079 non-null  object\n",
      " 5   time     65079 non-null  object\n",
      " 6   day      65079 non-null  object\n",
      "dtypes: object(7)\n",
      "memory usage: 3.5+ MB\n",
      "None\n"
     ]
    }
   ],
   "source": [
    "print(df.info())\n",
    "# Comprobar el resultado: la lista de encabezados\n"
   ]
  },
  {
   "cell_type": "markdown",
   "metadata": {
    "id": "5ISfbcfY_Zct"
   },
   "source": [
    "### Valores ausentes <a id='missing_values'></a>\n",
    " Primero, encuentra el número de valores ausentes en la tabla. Debes utilizar dos métodos en una secuencia para obtener el número de valores ausentes."
   ]
  },
  {
   "cell_type": "code",
   "execution_count": 36,
   "metadata": {
    "id": "RskX29qr_Zct"
   },
   "outputs": [
    {
     "name": "stdout",
     "output_type": "stream",
     "text": [
      "user_id       0\n",
      "track      1343\n",
      "artist     7567\n",
      "genre      1198\n",
      "city          0\n",
      "time          0\n",
      "day           0\n",
      "dtype: int64\n"
     ]
    }
   ],
   "source": [
    "mis_val = df.isna().sum()\n",
    "\n",
    "print(mis_val)\n",
    "\n",
    "# Calcular el número de valores ausentes\n"
   ]
  },
  {
   "cell_type": "markdown",
   "metadata": {
    "id": "qubhgnlO_Zct"
   },
   "source": [
    "No todos los valores ausentes afectan a la investigación. Por ejemplo, los valores ausentes en `track` y `artist` no son cruciales. Simplemente puedes reemplazarlos con valores predeterminados como el string `'unknown'` (desconocido).\n",
    "\n",
    "Pero los valores ausentes en `'genre'` pueden afectar la comparación entre las preferencias musicales de Springfield y Shelbyville. En la vida real, sería útil saber las razones por las cuales hay datos ausentes e intentar recuperarlos. Pero no tenemos esa oportunidad en este proyecto. Así que tendrás que:\n",
    "* rellenar estos valores ausentes con un valor predeterminado;\n",
    "* evaluar cuánto podrían afectar los valores ausentes a tus cómputos;"
   ]
  },
  {
   "cell_type": "markdown",
   "metadata": {
    "id": "fSv2laPA_Zct"
   },
   "source": [
    "Reemplazar los valores ausentes en las columnas `'track'`, `'artist'` y `'genre'` con el string `'unknown'`. Como mostramos anteriormente en las lecciones, la mejor forma de hacerlo es crear una lista que almacene los nombres de las columnas donde se necesita el reemplazo. Luego, utiliza esta lista e itera sobre las columnas donde se necesita el reemplazo haciendo el propio reemplazo."
   ]
  },
  {
   "cell_type": "code",
   "execution_count": 37,
   "metadata": {
    "id": "KplB5qWs_Zct"
   },
   "outputs": [
    {
     "name": "stdout",
     "output_type": "stream",
     "text": [
      "user_id    0\n",
      "track      0\n",
      "artist     0\n",
      "genre      0\n",
      "city       0\n",
      "time       0\n",
      "day        0\n",
      "dtype: int64\n"
     ]
    }
   ],
   "source": [
    "columns_replace = ['track', 'artist', 'genre']\n",
    "\n",
    "for columns_replace in df:\n",
    "    df[columns_replace].fillna('unknown', inplace=True)\n",
    "\n",
    "print(df.isna().sum())\n",
    "\n",
    "# Bucle en los encabezados reemplazando los valores ausentes con 'unknown'\n"
   ]
  },
  {
   "cell_type": "markdown",
   "metadata": {
    "id": "Ilsm-MZo_Zct"
   },
   "source": [
    "Ahora comprueba el resultado para asegurarte de que después del reemplazo no haya valores ausentes en el conjunto de datos. Para hacer esto, cuenta los valores ausentes nuevamente."
   ]
  },
  {
   "cell_type": "code",
   "execution_count": 38,
   "metadata": {
    "id": "Tq4nYRX4_Zct"
   },
   "outputs": [
    {
     "name": "stdout",
     "output_type": "stream",
     "text": [
      "user_id    0\n",
      "track      0\n",
      "artist     0\n",
      "genre      0\n",
      "city       0\n",
      "time       0\n",
      "day        0\n",
      "dtype: int64\n"
     ]
    }
   ],
   "source": [
    "mis_val = df.isna().sum()\n",
    "\n",
    "print(mis_val)\n",
    "# Contar valores ausentes\n"
   ]
  },
  {
   "cell_type": "markdown",
   "metadata": {
    "id": "BWKRtBJ3_Zct"
   },
   "source": [
    "### Duplicados <a id='duplicates'></a>\n",
    "Encuentra el número de duplicados explícitos en la tabla. Una vez más, debes aplicar dos métodos en una secuencia para obtener la cantidad de duplicados explícitos."
   ]
  },
  {
   "cell_type": "code",
   "execution_count": 39,
   "metadata": {
    "id": "36eES_S0_Zct"
   },
   "outputs": [
    {
     "name": "stdout",
     "output_type": "stream",
     "text": [
      "3826\n"
     ]
    }
   ],
   "source": [
    "print(df.duplicated().sum())\n",
    "# Contar duplicados explícitos\n"
   ]
  },
  {
   "cell_type": "markdown",
   "metadata": {
    "id": "Ot25h6XR_Zct"
   },
   "source": [
    "Ahora, elimina todos los duplicados. Para ello, llama al método que hace exactamente esto."
   ]
  },
  {
   "cell_type": "code",
   "execution_count": 40,
   "metadata": {
    "id": "exFHq6tt_Zct"
   },
   "outputs": [
    {
     "name": "stdout",
     "output_type": "stream",
     "text": [
      "0\n"
     ]
    }
   ],
   "source": [
    "df = df.drop_duplicates()\n",
    "\n",
    "print(df.duplicated().sum())\n",
    "# Eliminar duplicados explícitos\n"
   ]
  },
  {
   "cell_type": "markdown",
   "metadata": {
    "id": "Im2YwBEG_Zct"
   },
   "source": [
    "Comprobemos ahora si eliminamos con éxito todos los duplicados. Cuenta los duplicados explícitos una vez más para asegurarte de haberlos eliminado todos:"
   ]
  },
  {
   "cell_type": "code",
   "execution_count": 41,
   "metadata": {
    "id": "-8PuNWQ0_Zct"
   },
   "outputs": [
    {
     "name": "stdout",
     "output_type": "stream",
     "text": [
      "0\n"
     ]
    }
   ],
   "source": [
    "df.drop_duplicates(inplace=True)\n",
    "\n",
    "print(df.duplicated().sum())\n",
    "# Comprobar de nuevo si hay duplicados\n"
   ]
  },
  {
   "cell_type": "markdown",
   "metadata": {
    "id": "QlFBsxAr_Zct"
   },
   "source": [
    "Ahora queremos deshacernos de los duplicados implícitos en la columna `genre`. Por ejemplo, el nombre de un género se puede escribir de varias formas. Dichos errores también pueden afectar al resultado."
   ]
  },
  {
   "cell_type": "markdown",
   "metadata": {
    "id": "eSjWwsOh_Zct"
   },
   "source": [
    "Para hacerlo, primero mostremos una lista de nombres de género únicos, ordenados en orden alfabético. Para ello:\n",
    "* Extrae la columna `genre` del DataFrame.\n",
    "* Llama al método que devolverá todos los valores únicos en la columna extraída.\n"
   ]
  },
  {
   "cell_type": "code",
   "execution_count": 42,
   "metadata": {
    "id": "JIUcqzZN_Zct"
   },
   "outputs": [
    {
     "name": "stdout",
     "output_type": "stream",
     "text": [
      "['rock' 'pop' 'folk' 'dance' 'rusrap' 'ruspop' 'world' 'electronic'\n",
      " 'unknown' 'alternative' 'children' 'rnb' 'hip' 'jazz' 'postrock' 'latin'\n",
      " 'classical' 'metal' 'reggae' 'triphop' 'blues' 'instrumental' 'rusrock'\n",
      " 'dnb' 'türk' 'post' 'country' 'psychedelic' 'conjazz' 'indie'\n",
      " 'posthardcore' 'local' 'avantgarde' 'punk' 'videogame' 'techno' 'house'\n",
      " 'christmas' 'melodic' 'caucasian' 'reggaeton' 'soundtrack' 'singer' 'ska'\n",
      " 'salsa' 'ambient' 'film' 'western' 'rap' 'beats' \"hard'n'heavy\"\n",
      " 'progmetal' 'minimal' 'tropical' 'contemporary' 'new' 'soul' 'holiday'\n",
      " 'german' 'jpop' 'spiritual' 'urban' 'gospel' 'nujazz' 'folkmetal'\n",
      " 'trance' 'miscellaneous' 'anime' 'hardcore' 'progressive' 'korean'\n",
      " 'numetal' 'vocal' 'estrada' 'tango' 'loungeelectronic' 'classicmetal'\n",
      " 'dubstep' 'club' 'deep' 'southern' 'black' 'folkrock' 'fitness' 'french'\n",
      " 'disco' 'religious' 'hiphop' 'drum' 'extrememetal' 'türkçe'\n",
      " 'experimental' 'easy' 'metalcore' 'modern' 'argentinetango' 'old' 'swing'\n",
      " 'breaks' 'eurofolk' 'stonerrock' 'industrial' 'funk' 'middle' 'variété'\n",
      " 'other' 'adult' 'christian' 'thrash' 'gothic' 'international' 'muslim'\n",
      " 'relax' 'schlager' 'caribbean' 'nu' 'breakbeat' 'comedy' 'chill' 'newage'\n",
      " 'specialty' 'uzbek' 'k-pop' 'balkan' 'chinese' 'meditative' 'dub' 'power'\n",
      " 'death' 'grime' 'arabesk' 'romance' 'flamenco' 'leftfield' 'european'\n",
      " 'tech' 'newwave' 'dancehall' 'mpb' 'piano' 'top' 'bigroom' 'opera'\n",
      " 'celtic' 'tradjazz' 'acoustic' 'epicmetal' 'hip-hop' 'historisch'\n",
      " 'downbeat' 'downtempo' 'africa' 'audiobook' 'jewish' 'sängerportrait'\n",
      " 'deutschrock' 'eastern' 'action' 'future' 'electropop' 'folklore'\n",
      " 'bollywood' 'marschmusik' 'rnr' 'karaoke' 'indian' 'rancheras'\n",
      " 'afrikaans' 'rhythm' 'sound' 'deutschspr' 'trip' 'lovers' 'choral'\n",
      " 'dancepop' 'retro' 'smooth' 'mexican' 'brazilian' 'ïîï' 'mood' 'surf'\n",
      " 'gangsta' 'inspirational' 'idm' 'ethnic' 'bluegrass' 'broadway'\n",
      " 'animated' 'americana' 'karadeniz' 'rockabilly' 'colombian' 'self' 'hop'\n",
      " 'sertanejo' 'japanese' 'canzone' 'lounge' 'sport' 'ragga' 'traditional'\n",
      " 'gitarre' 'frankreich' 'emo' 'laiko' 'cantopop' 'glitch' 'documentary'\n",
      " 'oceania' 'popeurodance' 'dark' 'vi' 'grunge' 'hardstyle' 'samba'\n",
      " 'garage' 'art' 'folktronica' 'entehno' 'mediterranean' 'chamber' 'cuban'\n",
      " 'taraftar' 'gypsy' 'hardtechno' 'shoegazing' 'bossa' 'latino' 'worldbeat'\n",
      " 'malaysian' 'baile' 'ghazal' 'arabic' 'popelectronic' 'acid' 'kayokyoku'\n",
      " 'neoklassik' 'tribal' 'tanzorchester' 'native' 'independent' 'cantautori'\n",
      " 'handsup' 'punjabi' 'synthpop' 'rave' 'französisch' 'quebecois' 'speech'\n",
      " 'soulful' 'jam' 'ram' 'horror' 'orchestral' 'neue' 'roots' 'slow'\n",
      " 'jungle' 'indipop' 'axé' 'fado' 'showtunes' 'arena' 'irish' 'mandopop'\n",
      " 'forró' 'dirty' 'regional']\n"
     ]
    }
   ],
   "source": [
    "\n",
    "print(df['genre'].unique())\n",
    "# Inspeccionar los nombres de géneros únicos\n"
   ]
  },
  {
   "cell_type": "markdown",
   "metadata": {
    "id": "qej-Qmuo_Zct"
   },
   "source": [
    "Busca en la lista para encontrar duplicados implícitos del género `hiphop`. Estos pueden ser nombres escritos incorrectamente o nombres alternativos para el mismo género.\n",
    "\n",
    "Verás los siguientes duplicados implícitos:\n",
    "* `hip`\n",
    "* `hop`\n",
    "* `hip-hop`\n",
    "\n",
    "Para deshacerte de ellos, crea una función llamada `replace_wrong_genres()` con dos parámetros:\n",
    "* `wrong_genres=`: esta es una lista que contiene todos los valores que necesitas reemplazar.\n",
    "* `correct_genre=`: este es un string que vas a utilizar como reemplazo.\n",
    "\n",
    "Como resultado, la función debería corregir los nombres en la columna `'genre'` de la tabla `df`, es decir, remplazar cada valor de la lista `wrong_genres` por el valor en `correct_genre`.\n",
    "\n",
    "Dentro del cuerpo de la función, utiliza un bucle `'for'` para iterar sobre la lista de géneros incorrectos, extrae la columna `'genre'` y aplica el método `replace` para hacer correcciones."
   ]
  },
  {
   "cell_type": "code",
   "execution_count": 43,
   "metadata": {
    "id": "ErNDkmns_Zct"
   },
   "outputs": [],
   "source": [
    "def replace_wrong_genres(df, column, wrong_genres, correct_genre):\n",
    "    for wrong_genre in wrong_genres:\n",
    "        df[column] = df[column].replace(wrong_genre, correct_genre)\n",
    "    return df\n",
    "\n",
    "# Función para reemplazar duplicados implícitos\n"
   ]
  },
  {
   "cell_type": "markdown",
   "metadata": {
    "id": "aDoBJxbA_Zct"
   },
   "source": [
    "Ahora, llama a `replace_wrong_genres()` y pásale tales argumentos para que retire los duplicados implícitos (`hip`, `hop` y `hip-hop`) y los reemplace por `hiphop`:"
   ]
  },
  {
   "cell_type": "code",
   "execution_count": 44,
   "metadata": {
    "id": "YN5i2hpmSo09"
   },
   "outputs": [
    {
     "name": "stdout",
     "output_type": "stream",
     "text": [
      "        user_id                              track            artist  \\\n",
      "0      FFB692EC                  Kamigata To Boots  The Mass Missile   \n",
      "1      55204538        Delayed Because of Accident  Andreas Rönnberg   \n",
      "2        20EC38                  Funiculì funiculà       Mario Lanza   \n",
      "3      A3DD03C9              Dragons in the Sunset        Fire + Ice   \n",
      "4      E2DC1FAE                        Soul People        Space Echo   \n",
      "...         ...                                ...               ...   \n",
      "65074  729CBB09                            My Name            McLean   \n",
      "65075  D08D4A55  Maybe One Day (feat. Black Spade)       Blu & Exile   \n",
      "65076  C5E3A0D5                          Jalopiina           unknown   \n",
      "65077  321D0506                      Freight Train     Chas McDevitt   \n",
      "65078  3A64EF84          Tell Me Sweet Little Lies      Monica Lopez   \n",
      "\n",
      "            genre         city      time        day  \n",
      "0            rock  Shelbyville  20:28:33  Wednesday  \n",
      "1            rock  Springfield  14:07:09     Friday  \n",
      "2             pop  Shelbyville  20:58:07  Wednesday  \n",
      "3            folk  Shelbyville  08:37:09     Monday  \n",
      "4           dance  Springfield  08:34:34     Monday  \n",
      "...           ...          ...       ...        ...  \n",
      "65074         rnb  Springfield  13:32:28  Wednesday  \n",
      "65075      hiphop  Shelbyville  10:00:00     Monday  \n",
      "65076  industrial  Springfield  20:09:26     Friday  \n",
      "65077        rock  Springfield  21:43:59     Friday  \n",
      "65078     country  Springfield  21:59:46     Friday  \n",
      "\n",
      "[61253 rows x 7 columns]\n"
     ]
    }
   ],
   "source": [
    "wrong_genres = ['hip', 'hop', 'hip-hop']\n",
    "correct_genre = 'hiphop'\n",
    "\n",
    "df = replace_wrong_genres(df, 'genre', wrong_genres, correct_genre)\n",
    "print(df)\n",
    "# Eliminar duplicados implícitos\n"
   ]
  },
  {
   "cell_type": "markdown",
   "metadata": {
    "id": "zQKF16_RG15m"
   },
   "source": [
    "Asegúrate de que los nombres duplicados han sido eliminados. Muestra la lista de valores únicos de la columna `'genre'` una vez más:"
   ]
  },
  {
   "cell_type": "code",
   "execution_count": 45,
   "metadata": {
    "id": "wvixALnFG15m"
   },
   "outputs": [
    {
     "name": "stdout",
     "output_type": "stream",
     "text": [
      "['rock' 'pop' 'folk' 'dance' 'rusrap' 'ruspop' 'world' 'electronic'\n",
      " 'unknown' 'alternative' 'children' 'rnb' 'hiphop' 'jazz' 'postrock'\n",
      " 'latin' 'classical' 'metal' 'reggae' 'triphop' 'blues' 'instrumental'\n",
      " 'rusrock' 'dnb' 'türk' 'post' 'country' 'psychedelic' 'conjazz' 'indie'\n",
      " 'posthardcore' 'local' 'avantgarde' 'punk' 'videogame' 'techno' 'house'\n",
      " 'christmas' 'melodic' 'caucasian' 'reggaeton' 'soundtrack' 'singer' 'ska'\n",
      " 'salsa' 'ambient' 'film' 'western' 'rap' 'beats' \"hard'n'heavy\"\n",
      " 'progmetal' 'minimal' 'tropical' 'contemporary' 'new' 'soul' 'holiday'\n",
      " 'german' 'jpop' 'spiritual' 'urban' 'gospel' 'nujazz' 'folkmetal'\n",
      " 'trance' 'miscellaneous' 'anime' 'hardcore' 'progressive' 'korean'\n",
      " 'numetal' 'vocal' 'estrada' 'tango' 'loungeelectronic' 'classicmetal'\n",
      " 'dubstep' 'club' 'deep' 'southern' 'black' 'folkrock' 'fitness' 'french'\n",
      " 'disco' 'religious' 'drum' 'extrememetal' 'türkçe' 'experimental' 'easy'\n",
      " 'metalcore' 'modern' 'argentinetango' 'old' 'swing' 'breaks' 'eurofolk'\n",
      " 'stonerrock' 'industrial' 'funk' 'middle' 'variété' 'other' 'adult'\n",
      " 'christian' 'thrash' 'gothic' 'international' 'muslim' 'relax' 'schlager'\n",
      " 'caribbean' 'nu' 'breakbeat' 'comedy' 'chill' 'newage' 'specialty'\n",
      " 'uzbek' 'k-pop' 'balkan' 'chinese' 'meditative' 'dub' 'power' 'death'\n",
      " 'grime' 'arabesk' 'romance' 'flamenco' 'leftfield' 'european' 'tech'\n",
      " 'newwave' 'dancehall' 'mpb' 'piano' 'top' 'bigroom' 'opera' 'celtic'\n",
      " 'tradjazz' 'acoustic' 'epicmetal' 'historisch' 'downbeat' 'downtempo'\n",
      " 'africa' 'audiobook' 'jewish' 'sängerportrait' 'deutschrock' 'eastern'\n",
      " 'action' 'future' 'electropop' 'folklore' 'bollywood' 'marschmusik' 'rnr'\n",
      " 'karaoke' 'indian' 'rancheras' 'afrikaans' 'rhythm' 'sound' 'deutschspr'\n",
      " 'trip' 'lovers' 'choral' 'dancepop' 'retro' 'smooth' 'mexican'\n",
      " 'brazilian' 'ïîï' 'mood' 'surf' 'gangsta' 'inspirational' 'idm' 'ethnic'\n",
      " 'bluegrass' 'broadway' 'animated' 'americana' 'karadeniz' 'rockabilly'\n",
      " 'colombian' 'self' 'sertanejo' 'japanese' 'canzone' 'lounge' 'sport'\n",
      " 'ragga' 'traditional' 'gitarre' 'frankreich' 'emo' 'laiko' 'cantopop'\n",
      " 'glitch' 'documentary' 'oceania' 'popeurodance' 'dark' 'vi' 'grunge'\n",
      " 'hardstyle' 'samba' 'garage' 'art' 'folktronica' 'entehno'\n",
      " 'mediterranean' 'chamber' 'cuban' 'taraftar' 'gypsy' 'hardtechno'\n",
      " 'shoegazing' 'bossa' 'latino' 'worldbeat' 'malaysian' 'baile' 'ghazal'\n",
      " 'arabic' 'popelectronic' 'acid' 'kayokyoku' 'neoklassik' 'tribal'\n",
      " 'tanzorchester' 'native' 'independent' 'cantautori' 'handsup' 'punjabi'\n",
      " 'synthpop' 'rave' 'französisch' 'quebecois' 'speech' 'soulful' 'jam'\n",
      " 'ram' 'horror' 'orchestral' 'neue' 'roots' 'slow' 'jungle' 'indipop'\n",
      " 'axé' 'fado' 'showtunes' 'arena' 'irish' 'mandopop' 'forró' 'dirty'\n",
      " 'regional']\n"
     ]
    }
   ],
   "source": [
    "print(df['genre'].unique())\n",
    "# Comprobación de duplicados implícitos"
   ]
  },
  {
   "cell_type": "markdown",
   "metadata": {
    "id": "WttZHXH0SqKk"
   },
   "source": [
    "## Etapa 3. Prueba de hipótesis <a id='hypothesis'></a>"
   ]
  },
  {
   "cell_type": "markdown",
   "metadata": {
    "id": "Im936VVi_Zcu"
   },
   "source": [
    "### Hipótesis: comparar el comportamiento del usuario o la usuaria en las dos ciudades <a id='activity'></a>"
   ]
  },
  {
   "cell_type": "markdown",
   "metadata": {
    "id": "nwt_MuaL_Zcu"
   },
   "source": [
    "La hipótesis afirma que existen diferencias en la forma en que los usuarios y las usuarias de Springfield y Shelbyville consumen música. Para comprobar esto, usa los datos de tres días de la semana: lunes, miércoles y viernes.\n",
    "\n",
    "* Agrupa a los usuarios y las usuarias por ciudad.\n",
    "* Compara el número de canciones que cada grupo reprodujo el lunes, el miércoles y el viernes.\n"
   ]
  },
  {
   "cell_type": "markdown",
   "metadata": {
    "id": "8Dw_YMmT_Zcu"
   },
   "source": [
    "Realiza cada cálculo por separado.\n",
    "\n",
    "El primer paso es evaluar la actividad del usuario en cada ciudad. Recuerda las etapas dividir-aplicar-combinar de las que hablamos anteriormente en la lección. Tu objetivo ahora es agrupar los datos por ciudad, aplicar el método apropiado para contar durante la etapa de aplicación y luego encontrar la cantidad de canciones reproducidas en cada grupo especificando la columna para obtener el recuento.\n",
    "\n",
    "A continuación se muestra un ejemplo de cómo debería verse el resultado final:\n",
    "`df.groupby(by='....')['column'].method()`Realiza cada cálculo por separado.\n",
    "\n",
    "Para evaluar la actividad de los usuarios y las usuarias en cada ciudad, agrupa los datos por ciudad y encuentra la cantidad de canciones reproducidas en cada grupo.\n",
    "\n"
   ]
  },
  {
   "cell_type": "code",
   "execution_count": 46,
   "metadata": {
    "id": "0_Qs96oh_Zcu"
   },
   "outputs": [
    {
     "name": "stdout",
     "output_type": "stream",
     "text": [
      "city\n",
      "Shelbyville    18512\n",
      "Springfield    42741\n",
      "Name: track, dtype: int64\n"
     ]
    }
   ],
   "source": [
    "# Contar las canciones reproducidas en cada ciudad\n",
    "\n",
    "activity_by_city = df.groupby(by='city')['track'].count()\n",
    "\n",
    "print(activity_by_city)\n"
   ]
  },
  {
   "cell_type": "markdown",
   "metadata": {
    "id": "t_Qx-3NewAnK"
   },
   "source": [
    "`Comenta tus observaciones aquí`"
   ]
  },
  {
   "cell_type": "markdown",
   "metadata": {
    "id": "dzli3w8o_Zcu"
   },
   "source": [
    "Ahora agrupemos los datos por día de la semana y encontremos el número de canciones reproducidas el lunes, miércoles y viernes. Utiliza el mismo método que antes, pero ahora necesitamos una agrupación diferente.\n"
   ]
  },
  {
   "cell_type": "code",
   "execution_count": 47,
   "metadata": {
    "id": "uZMKjiJz_Zcu"
   },
   "outputs": [
    {
     "name": "stdout",
     "output_type": "stream",
     "text": [
      "day\n",
      "Friday       21840\n",
      "Monday       21354\n",
      "Wednesday    18059\n",
      "Name: track, dtype: int64\n"
     ]
    }
   ],
   "source": [
    "# Calcular las canciones reproducidas en cada uno de los tres días\n",
    "\n",
    "total_play = df.groupby(by='day')['track'].count()\n",
    "\n",
    "print(total_play)"
   ]
  },
  {
   "cell_type": "markdown",
   "metadata": {
    "id": "POzs8bGa_Zcu"
   },
   "source": [
    "Ya sabes cómo contar entradas agrupándolas por ciudad o día. Ahora necesitas escribir una función que pueda contar entradas según ambos criterios simultáneamente.\n",
    "\n",
    "Crea la función `number_tracks()` para calcular el número de canciones reproducidas en un determinado día **y** ciudad. La función debe aceptar dos parámetros:\n",
    "\n",
    "- `day`: un día de la semana para filtrar. Por ejemplo, `'Monday'` (lunes).\n",
    "- `city`: una ciudad para filtrar. Por ejemplo, `'Springfield'`.\n",
    "\n",
    "Dentro de la función, aplicarás un filtrado consecutivo con indexación lógica.\n",
    "\n",
    "Primero filtra los datos por día y luego filtra la tabla resultante por ciudad.\n",
    "\n",
    "Después de filtrar los datos por dos criterios, cuenta el número de valores de la columna 'user_id' en la tabla resultante. Este recuento representa el número de entradas que estás buscando. Guarda el resultado en una nueva variable y devuélvelo desde la función."
   ]
  },
  {
   "cell_type": "code",
   "execution_count": 48,
   "metadata": {
    "id": "Nz3GdQB1_Zcu"
   },
   "outputs": [],
   "source": [
    "# Declara la función number_tracks() con dos parámetros: day= y city=.\n",
    "def number_tracks(df, day, city):\n",
    "    byDay=df[df['day']==day]\n",
    "    byCity=byDay[byDay['city']==city]\n",
    "    userCount=byCity['user_id'].count()\n",
    "    return userCount\n",
    "\n",
    "    # Almacena las filas del DataFrame donde el valor en la columna 'day' es igual al parámetro day=\n",
    "\n",
    "    # Filtra las filas donde el valor en la columna 'city' es igual al parámetro city=\n",
    "\n",
    "    # Extrae la columna 'user_id' de la tabla filtrada y aplica el método count()\n",
    "\n",
    "    # Devolve el número de valores de la columna 'user_id'"
   ]
  },
  {
   "cell_type": "markdown",
   "metadata": {
    "id": "ytf7xFrFJQ2r"
   },
   "source": [
    "Llama a `number_tracks()` seis veces, cambiando los valores de los parámetros para que recuperes los datos de ambas ciudades para cada uno de los tres días."
   ]
  },
  {
   "cell_type": "code",
   "execution_count": 49,
   "metadata": {
    "id": "rJcRATNQ_Zcu"
   },
   "outputs": [
    {
     "name": "stdout",
     "output_type": "stream",
     "text": [
      "15740\n"
     ]
    }
   ],
   "source": [
    "# El número de canciones reproducidas en Springfield el lunes\n",
    "print(number_tracks(df,'Monday','Springfield'))"
   ]
  },
  {
   "cell_type": "code",
   "execution_count": 50,
   "metadata": {
    "id": "hq_ncZ5T_Zcu"
   },
   "outputs": [
    {
     "name": "stdout",
     "output_type": "stream",
     "text": [
      "5614\n"
     ]
    }
   ],
   "source": [
    "# El número de canciones reproducidas en Shelbyville el lunes\n",
    "print(number_tracks(df,'Monday','Shelbyville'))"
   ]
  },
  {
   "cell_type": "code",
   "execution_count": 51,
   "metadata": {
    "id": "_NTy2VPU_Zcu"
   },
   "outputs": [
    {
     "name": "stdout",
     "output_type": "stream",
     "text": [
      "11056\n"
     ]
    }
   ],
   "source": [
    "# El número de canciones reproducidas en Springfield el miércoles\n",
    "print(number_tracks(df,'Wednesday','Springfield'))"
   ]
  },
  {
   "cell_type": "code",
   "execution_count": 52,
   "metadata": {
    "id": "j2y3TAwo_Zcu"
   },
   "outputs": [
    {
     "name": "stdout",
     "output_type": "stream",
     "text": [
      "7003\n"
     ]
    }
   ],
   "source": [
    "# El número de canciones reproducidas en Shelbyville el miércoles\n",
    "print(number_tracks(df,'Wednesday','Shelbyville'))"
   ]
  },
  {
   "cell_type": "code",
   "execution_count": 53,
   "metadata": {
    "id": "vYDw5u_K_Zcu"
   },
   "outputs": [
    {
     "name": "stdout",
     "output_type": "stream",
     "text": [
      "15945\n"
     ]
    }
   ],
   "source": [
    "# El número de canciones reproducidas en Springfield el viernes\n",
    "print(number_tracks(df,'Friday','Springfield'))"
   ]
  },
  {
   "cell_type": "code",
   "execution_count": 54,
   "metadata": {
    "id": "8_yzFtW3_Zcu"
   },
   "outputs": [
    {
     "name": "stdout",
     "output_type": "stream",
     "text": [
      "5895\n"
     ]
    }
   ],
   "source": [
    "# El número de canciones reproducidas en Shelbyville el viernes\n",
    "print(number_tracks(df,'Friday','Shelbyville'))"
   ]
  },
  {
   "cell_type": "markdown",
   "metadata": {},
   "source": [
    "Comenta si la hipótesis es correcta o se debe rechazar. Explica tu razonamiento.\n",
    "\n",
    "Hipótesis: \"La actividad de los usuarios difiere según el día de la semana y dependiendo de la ciudad\".\n",
    "\n",
    "La hipótesis es correcta ya que en los datos que el análisis nos brinda podemos notar una relación en el número de canciones reproducidas y los días y ciudades que toma en cuenta el conjunto de datos. En el caso de la ciudad de Springfield, presenta números similares para los días lunes y viernes, y una disminución el miércoles. En caso contrario, la ciudad de Shelbyville presenta un aumento el miércoles y números similares el lunes y viernes."
   ]
  },
  {
   "cell_type": "markdown",
   "metadata": {
    "id": "ykKQ0N65_Zcv"
   },
   "source": [
    "# Conclusiones <a id='end'></a>"
   ]
  },
  {
   "cell_type": "markdown",
   "metadata": {
    "id": "azLHu64yOIp7"
   },
   "source": [
    "\n",
    "Podemos concluir que en la ciudad de Springfield los lunes y viernes el número de canciones reproducidas aumentan y en Shelbyville el miércoles es el día con mayor número de canciones reproducidas. Y en la ciudad de Springfield el número de canciones reproducidas es mayor que en la ciudad Shelbyville."
   ]
  }
 ],
 "metadata": {
  "ExecuteTimeLog": [
   {
    "duration": 305,
    "start_time": "2024-06-19T04:41:54.604Z"
   },
   {
    "duration": 453,
    "start_time": "2024-06-19T04:42:03.213Z"
   },
   {
    "duration": 4,
    "start_time": "2024-06-19T04:43:07.466Z"
   },
   {
    "duration": 4,
    "start_time": "2024-06-19T04:43:13.409Z"
   },
   {
    "duration": 197,
    "start_time": "2024-06-19T04:43:20.886Z"
   },
   {
    "duration": 9,
    "start_time": "2024-06-19T04:46:22.403Z"
   },
   {
    "duration": 61,
    "start_time": "2024-06-19T04:48:07.814Z"
   },
   {
    "duration": 9,
    "start_time": "2024-06-19T04:53:54.360Z"
   },
   {
    "duration": 10,
    "start_time": "2024-06-19T04:58:25.936Z"
   },
   {
    "duration": 4,
    "start_time": "2024-06-19T05:23:28.484Z"
   },
   {
    "duration": 23,
    "start_time": "2024-06-19T05:25:04.709Z"
   },
   {
    "duration": 21,
    "start_time": "2024-06-19T05:25:23.540Z"
   },
   {
    "duration": 21,
    "start_time": "2024-06-19T05:27:58.179Z"
   },
   {
    "duration": 32,
    "start_time": "2024-06-19T05:35:47.474Z"
   },
   {
    "duration": 3,
    "start_time": "2024-06-19T05:37:53.572Z"
   },
   {
    "duration": 4,
    "start_time": "2024-06-19T05:38:07.702Z"
   },
   {
    "duration": 5,
    "start_time": "2024-06-19T05:38:54.586Z"
   },
   {
    "duration": 9,
    "start_time": "2024-06-19T05:41:45.079Z"
   },
   {
    "duration": 4,
    "start_time": "2024-06-19T05:44:56.747Z"
   },
   {
    "duration": 4,
    "start_time": "2024-06-19T05:45:13.659Z"
   },
   {
    "duration": 4,
    "start_time": "2024-06-19T05:45:59.022Z"
   },
   {
    "duration": 8,
    "start_time": "2024-06-19T05:46:04.715Z"
   },
   {
    "duration": 3,
    "start_time": "2024-06-19T05:46:14.344Z"
   },
   {
    "duration": 4,
    "start_time": "2024-06-19T05:46:23.617Z"
   },
   {
    "duration": 5,
    "start_time": "2024-06-19T05:46:35.770Z"
   },
   {
    "duration": 5,
    "start_time": "2024-06-19T05:47:13.572Z"
   },
   {
    "duration": 632,
    "start_time": "2024-06-19T16:44:54.393Z"
   },
   {
    "duration": 168,
    "start_time": "2024-06-19T16:48:43.910Z"
   },
   {
    "duration": 5,
    "start_time": "2024-06-19T16:49:29.669Z"
   },
   {
    "duration": 167,
    "start_time": "2024-06-19T16:49:49.316Z"
   },
   {
    "duration": 169,
    "start_time": "2024-06-19T16:50:09.527Z"
   },
   {
    "duration": 167,
    "start_time": "2024-06-19T16:52:03.964Z"
   },
   {
    "duration": 5,
    "start_time": "2024-06-19T16:52:34.054Z"
   },
   {
    "duration": 492,
    "start_time": "2024-06-19T16:56:13.037Z"
   },
   {
    "duration": 180,
    "start_time": "2024-06-19T16:56:28.462Z"
   },
   {
    "duration": 165,
    "start_time": "2024-06-19T16:56:35.756Z"
   },
   {
    "duration": 185,
    "start_time": "2024-06-19T16:58:35.563Z"
   },
   {
    "duration": 159,
    "start_time": "2024-06-19T16:58:51.211Z"
   },
   {
    "duration": 160,
    "start_time": "2024-06-19T16:59:51.765Z"
   },
   {
    "duration": 181,
    "start_time": "2024-06-19T17:00:02.312Z"
   },
   {
    "duration": 160,
    "start_time": "2024-06-19T17:00:11.947Z"
   },
   {
    "duration": 5,
    "start_time": "2024-06-19T17:07:22.700Z"
   },
   {
    "duration": 6,
    "start_time": "2024-06-19T17:08:13.035Z"
   },
   {
    "duration": 5,
    "start_time": "2024-06-19T17:09:57.023Z"
   },
   {
    "duration": 3,
    "start_time": "2024-06-19T17:10:51.902Z"
   },
   {
    "duration": 6,
    "start_time": "2024-06-19T17:10:59.811Z"
   },
   {
    "duration": 164,
    "start_time": "2024-06-19T17:14:41.897Z"
   },
   {
    "duration": 12,
    "start_time": "2024-06-19T17:14:45.112Z"
   },
   {
    "duration": 35,
    "start_time": "2024-06-19T17:14:53.341Z"
   },
   {
    "duration": 8,
    "start_time": "2024-06-19T17:15:23.495Z"
   },
   {
    "duration": 7,
    "start_time": "2024-06-19T17:15:44.053Z"
   },
   {
    "duration": 3,
    "start_time": "2024-06-19T17:17:11.351Z"
   },
   {
    "duration": 4,
    "start_time": "2024-06-19T17:17:37.619Z"
   },
   {
    "duration": 5,
    "start_time": "2024-06-19T17:17:49.854Z"
   },
   {
    "duration": 6,
    "start_time": "2024-06-19T17:18:16.880Z"
   },
   {
    "duration": 30,
    "start_time": "2024-06-19T17:19:13.360Z"
   },
   {
    "duration": 26,
    "start_time": "2024-06-19T17:19:55.013Z"
   },
   {
    "duration": 7,
    "start_time": "2024-06-19T17:20:15.517Z"
   },
   {
    "duration": 25,
    "start_time": "2024-06-19T17:21:21.280Z"
   },
   {
    "duration": 764,
    "start_time": "2024-06-19T17:21:48.760Z"
   },
   {
    "duration": 7,
    "start_time": "2024-06-19T17:22:52.853Z"
   },
   {
    "duration": 8,
    "start_time": "2024-06-19T17:24:44.458Z"
   },
   {
    "duration": 160,
    "start_time": "2024-06-19T17:25:24.406Z"
   },
   {
    "duration": 235,
    "start_time": "2024-06-19T17:26:06.427Z"
   },
   {
    "duration": 160,
    "start_time": "2024-06-19T17:26:28.683Z"
   },
   {
    "duration": 3,
    "start_time": "2024-06-19T17:26:43.430Z"
   },
   {
    "duration": 183,
    "start_time": "2024-06-19T17:26:46.657Z"
   },
   {
    "duration": 10,
    "start_time": "2024-06-19T17:26:49.451Z"
   },
   {
    "duration": 34,
    "start_time": "2024-06-19T17:26:57.256Z"
   },
   {
    "duration": 4,
    "start_time": "2024-06-19T17:27:04.202Z"
   },
   {
    "duration": 6,
    "start_time": "2024-06-19T17:27:12.441Z"
   },
   {
    "duration": 7,
    "start_time": "2024-06-19T17:27:29.566Z"
   },
   {
    "duration": 181,
    "start_time": "2024-06-19T17:27:51.715Z"
   },
   {
    "duration": 160,
    "start_time": "2024-06-19T17:28:14.348Z"
   },
   {
    "duration": 195,
    "start_time": "2024-06-19T17:28:25.883Z"
   },
   {
    "duration": 8,
    "start_time": "2024-06-19T17:28:51.784Z"
   },
   {
    "duration": 6,
    "start_time": "2024-06-19T17:38:16.065Z"
   },
   {
    "duration": 6,
    "start_time": "2024-06-19T17:38:31.751Z"
   },
   {
    "duration": 13,
    "start_time": "2024-06-19T17:38:34.895Z"
   },
   {
    "duration": 6,
    "start_time": "2024-06-19T17:41:18.321Z"
   },
   {
    "duration": 19,
    "start_time": "2024-06-19T17:41:34.735Z"
   },
   {
    "duration": 6,
    "start_time": "2024-06-19T17:43:16.047Z"
   },
   {
    "duration": 4,
    "start_time": "2024-06-19T17:43:27.853Z"
   },
   {
    "duration": 5,
    "start_time": "2024-06-19T17:43:41.894Z"
   },
   {
    "duration": 203,
    "start_time": "2024-06-19T17:43:50.424Z"
   },
   {
    "duration": 9,
    "start_time": "2024-06-19T17:43:53.386Z"
   },
   {
    "duration": 46,
    "start_time": "2024-06-19T17:44:02.606Z"
   },
   {
    "duration": 5,
    "start_time": "2024-06-19T17:44:21.734Z"
   },
   {
    "duration": 22,
    "start_time": "2024-06-19T17:44:31.780Z"
   },
   {
    "duration": 7,
    "start_time": "2024-06-19T17:44:42.998Z"
   },
   {
    "duration": 7,
    "start_time": "2024-06-19T17:44:50.430Z"
   },
   {
    "duration": 5,
    "start_time": "2024-06-19T17:45:49.907Z"
   },
   {
    "duration": 34,
    "start_time": "2024-06-19T17:46:57.897Z"
   },
   {
    "duration": 222,
    "start_time": "2024-06-19T17:54:37.517Z"
   },
   {
    "duration": 4,
    "start_time": "2024-06-19T17:55:01.294Z"
   },
   {
    "duration": 241,
    "start_time": "2024-06-19T17:55:14.418Z"
   },
   {
    "duration": 198,
    "start_time": "2024-06-19T18:25:05.993Z"
   },
   {
    "duration": 217,
    "start_time": "2024-06-19T18:26:06.989Z"
   },
   {
    "duration": 217,
    "start_time": "2024-06-19T18:29:11.263Z"
   },
   {
    "duration": 227,
    "start_time": "2024-06-19T18:29:54.070Z"
   },
   {
    "duration": 250,
    "start_time": "2024-06-19T18:30:53.333Z"
   },
   {
    "duration": 4,
    "start_time": "2024-06-19T18:31:06.705Z"
   },
   {
    "duration": 160,
    "start_time": "2024-06-19T18:31:10.232Z"
   },
   {
    "duration": 9,
    "start_time": "2024-06-19T18:31:15.784Z"
   },
   {
    "duration": 35,
    "start_time": "2024-06-19T18:31:26.003Z"
   },
   {
    "duration": 6,
    "start_time": "2024-06-19T18:31:39.440Z"
   },
   {
    "duration": 5,
    "start_time": "2024-06-19T18:31:48.213Z"
   },
   {
    "duration": 6,
    "start_time": "2024-06-19T18:31:56.414Z"
   },
   {
    "duration": 6,
    "start_time": "2024-06-19T18:32:05.895Z"
   },
   {
    "duration": 34,
    "start_time": "2024-06-19T18:32:11.253Z"
   },
   {
    "duration": 191,
    "start_time": "2024-06-19T18:32:19.140Z"
   },
   {
    "duration": 212,
    "start_time": "2024-06-19T18:32:32.280Z"
   },
   {
    "duration": 206,
    "start_time": "2024-06-19T18:32:35.891Z"
   },
   {
    "duration": 201,
    "start_time": "2024-06-19T18:32:38.696Z"
   },
   {
    "duration": 227,
    "start_time": "2024-06-19T18:32:45.179Z"
   },
   {
    "duration": 224,
    "start_time": "2024-06-19T18:32:55.460Z"
   },
   {
    "duration": 232,
    "start_time": "2024-06-19T18:33:05.288Z"
   },
   {
    "duration": 191,
    "start_time": "2024-06-19T18:33:51.338Z"
   },
   {
    "duration": 3,
    "start_time": "2024-06-19T18:34:28.779Z"
   },
   {
    "duration": 4,
    "start_time": "2024-06-19T18:35:15.263Z"
   },
   {
    "duration": 9,
    "start_time": "2024-06-19T18:36:29.167Z"
   },
   {
    "duration": 205,
    "start_time": "2024-06-19T18:37:06.312Z"
   },
   {
    "duration": 221,
    "start_time": "2024-06-19T18:37:15.364Z"
   },
   {
    "duration": 41,
    "start_time": "2024-06-19T18:37:27.544Z"
   },
   {
    "duration": 29,
    "start_time": "2024-06-19T18:39:11.201Z"
   },
   {
    "duration": 342,
    "start_time": "2024-06-19T18:52:04.786Z"
   },
   {
    "duration": 221,
    "start_time": "2024-06-19T18:53:36.897Z"
   },
   {
    "duration": 221,
    "start_time": "2024-06-19T18:54:25.053Z"
   },
   {
    "duration": 43,
    "start_time": "2024-06-19T19:05:45.765Z"
   },
   {
    "duration": 12,
    "start_time": "2024-06-19T19:07:04.878Z"
   },
   {
    "duration": 1043,
    "start_time": "2024-06-19T19:08:50.498Z"
   },
   {
    "duration": 109,
    "start_time": "2024-06-19T19:09:11.955Z"
   },
   {
    "duration": 15,
    "start_time": "2024-06-19T19:09:22.317Z"
   },
   {
    "duration": 22,
    "start_time": "2024-06-19T19:14:05.480Z"
   },
   {
    "duration": 23,
    "start_time": "2024-06-19T19:23:51.363Z"
   },
   {
    "duration": 24,
    "start_time": "2024-06-19T19:25:46.755Z"
   },
   {
    "duration": 23,
    "start_time": "2024-06-19T19:25:50.185Z"
   },
   {
    "duration": 4,
    "start_time": "2024-06-19T19:26:55.934Z"
   },
   {
    "duration": 24,
    "start_time": "2024-06-19T19:27:53.568Z"
   },
   {
    "duration": 23,
    "start_time": "2024-06-19T19:28:17.439Z"
   },
   {
    "duration": 76,
    "start_time": "2024-06-19T19:28:27.736Z"
   },
   {
    "duration": 743,
    "start_time": "2024-06-19T20:03:51.225Z"
   },
   {
    "duration": 26,
    "start_time": "2024-06-19T20:11:10.874Z"
   },
   {
    "duration": 114,
    "start_time": "2024-06-19T20:11:49.348Z"
   },
   {
    "duration": 92,
    "start_time": "2024-06-19T20:12:56.766Z"
   },
   {
    "duration": 106,
    "start_time": "2024-06-19T20:14:22.335Z"
   },
   {
    "duration": 16,
    "start_time": "2024-06-19T20:22:03.312Z"
   },
   {
    "duration": 8,
    "start_time": "2024-06-19T20:26:38.029Z"
   },
   {
    "duration": 10,
    "start_time": "2024-06-19T20:35:00.080Z"
   },
   {
    "duration": 22,
    "start_time": "2024-06-19T21:25:22.238Z"
   },
   {
    "duration": 6,
    "start_time": "2024-06-19T21:26:07.000Z"
   },
   {
    "duration": 17,
    "start_time": "2024-06-19T21:26:30.435Z"
   },
   {
    "duration": 13,
    "start_time": "2024-06-19T21:26:40.991Z"
   },
   {
    "duration": 6,
    "start_time": "2024-06-19T21:27:13.595Z"
   },
   {
    "duration": 11,
    "start_time": "2024-06-19T21:27:47.257Z"
   },
   {
    "duration": 7,
    "start_time": "2024-06-19T22:28:38.642Z"
   },
   {
    "duration": 26,
    "start_time": "2024-06-19T22:28:51.911Z"
   },
   {
    "duration": 11,
    "start_time": "2024-06-19T22:29:32.706Z"
   },
   {
    "duration": 26,
    "start_time": "2024-06-19T22:39:36.061Z"
   },
   {
    "duration": 11,
    "start_time": "2024-06-19T22:40:07.586Z"
   },
   {
    "duration": 3,
    "start_time": "2024-06-19T22:59:25.052Z"
   },
   {
    "duration": 3,
    "start_time": "2024-06-19T22:59:28.055Z"
   },
   {
    "duration": 369,
    "start_time": "2024-06-19T23:03:27.111Z"
   },
   {
    "duration": 83,
    "start_time": "2024-06-19T23:03:49.045Z"
   },
   {
    "duration": 79,
    "start_time": "2024-06-19T23:06:46.313Z"
   },
   {
    "duration": 81,
    "start_time": "2024-06-19T23:09:14.244Z"
   },
   {
    "duration": 8,
    "start_time": "2024-06-19T23:09:34.998Z"
   },
   {
    "duration": 11,
    "start_time": "2024-06-19T23:09:43.370Z"
   },
   {
    "duration": 9,
    "start_time": "2024-06-19T23:09:48.998Z"
   },
   {
    "duration": 80,
    "start_time": "2024-06-19T23:11:00.344Z"
   },
   {
    "duration": 3,
    "start_time": "2024-06-19T23:13:44.069Z"
   },
   {
    "duration": 160,
    "start_time": "2024-06-19T23:13:47.262Z"
   },
   {
    "duration": 9,
    "start_time": "2024-06-19T23:13:50.176Z"
   },
   {
    "duration": 32,
    "start_time": "2024-06-19T23:13:58.466Z"
   },
   {
    "duration": 4,
    "start_time": "2024-06-19T23:14:11.779Z"
   },
   {
    "duration": 6,
    "start_time": "2024-06-19T23:14:35.337Z"
   },
   {
    "duration": 5,
    "start_time": "2024-06-19T23:14:49.795Z"
   },
   {
    "duration": 6,
    "start_time": "2024-06-19T23:14:59.327Z"
   },
   {
    "duration": 31,
    "start_time": "2024-06-19T23:15:07.690Z"
   },
   {
    "duration": 178,
    "start_time": "2024-06-19T23:15:23.449Z"
   },
   {
    "duration": 203,
    "start_time": "2024-06-19T23:15:33.882Z"
   },
   {
    "duration": 35,
    "start_time": "2024-06-19T23:16:16.665Z"
   },
   {
    "duration": 224,
    "start_time": "2024-06-19T23:16:26.756Z"
   },
   {
    "duration": 135,
    "start_time": "2024-06-19T23:16:41.584Z"
   },
   {
    "duration": 130,
    "start_time": "2024-06-19T23:17:17.756Z"
   },
   {
    "duration": 9,
    "start_time": "2024-06-19T23:17:26.872Z"
   },
   {
    "duration": 6,
    "start_time": "2024-06-19T23:17:49.078Z"
   },
   {
    "duration": 16,
    "start_time": "2024-06-19T23:17:56.663Z"
   },
   {
    "duration": 10,
    "start_time": "2024-06-19T23:18:05.127Z"
   },
   {
    "duration": 17,
    "start_time": "2024-06-19T23:20:12.174Z"
   },
   {
    "duration": 8,
    "start_time": "2024-06-19T23:20:40.375Z"
   },
   {
    "duration": 83,
    "start_time": "2024-06-19T23:22:32.900Z"
   },
   {
    "duration": 80,
    "start_time": "2024-06-19T23:23:22.657Z"
   },
   {
    "duration": 79,
    "start_time": "2024-06-19T23:24:02.162Z"
   },
   {
    "duration": 84,
    "start_time": "2024-06-19T23:25:12.654Z"
   },
   {
    "duration": 78,
    "start_time": "2024-06-19T23:27:42.126Z"
   },
   {
    "duration": 109,
    "start_time": "2024-06-19T23:29:16.605Z"
   },
   {
    "duration": 91,
    "start_time": "2024-06-19T23:30:01.646Z"
   },
   {
    "duration": 80,
    "start_time": "2024-06-19T23:30:14.290Z"
   },
   {
    "duration": 3,
    "start_time": "2024-06-19T23:30:38.867Z"
   },
   {
    "duration": 25,
    "start_time": "2024-06-19T23:34:03.705Z"
   },
   {
    "duration": 49,
    "start_time": "2024-06-19T23:34:31.689Z"
   },
   {
    "duration": 25,
    "start_time": "2024-06-19T23:35:34.198Z"
   },
   {
    "duration": 25,
    "start_time": "2024-06-19T23:35:37.932Z"
   },
   {
    "duration": 31,
    "start_time": "2024-06-19T23:36:26.404Z"
   },
   {
    "duration": 32,
    "start_time": "2024-06-19T23:36:43.210Z"
   },
   {
    "duration": 30,
    "start_time": "2024-06-19T23:36:48.798Z"
   },
   {
    "duration": 6,
    "start_time": "2024-06-19T23:36:54.512Z"
   },
   {
    "duration": 6,
    "start_time": "2024-06-19T23:36:58.272Z"
   },
   {
    "duration": 6,
    "start_time": "2024-06-19T23:37:05.285Z"
   },
   {
    "duration": 5,
    "start_time": "2024-06-19T23:37:13.677Z"
   },
   {
    "duration": 32,
    "start_time": "2024-06-19T23:37:22.759Z"
   },
   {
    "duration": 5,
    "start_time": "2024-06-19T23:37:39.569Z"
   },
   {
    "duration": 30,
    "start_time": "2024-06-19T23:38:11.926Z"
   },
   {
    "duration": 3,
    "start_time": "2024-06-19T23:38:22.052Z"
   },
   {
    "duration": 151,
    "start_time": "2024-06-19T23:38:25.638Z"
   },
   {
    "duration": 8,
    "start_time": "2024-06-19T23:38:45.131Z"
   },
   {
    "duration": 3,
    "start_time": "2024-06-19T23:39:45.695Z"
   },
   {
    "duration": 154,
    "start_time": "2024-06-19T23:39:48.715Z"
   },
   {
    "duration": 9,
    "start_time": "2024-06-19T23:39:56.734Z"
   },
   {
    "duration": 170,
    "start_time": "2024-06-19T23:40:07.277Z"
   },
   {
    "duration": 9,
    "start_time": "2024-06-19T23:40:12.237Z"
   },
   {
    "duration": 34,
    "start_time": "2024-06-19T23:40:25.649Z"
   },
   {
    "duration": 4,
    "start_time": "2024-06-19T23:40:43.437Z"
   },
   {
    "duration": 5,
    "start_time": "2024-06-19T23:40:51.523Z"
   },
   {
    "duration": 7,
    "start_time": "2024-06-19T23:41:05.129Z"
   },
   {
    "duration": 5,
    "start_time": "2024-06-19T23:41:15.671Z"
   },
   {
    "duration": 33,
    "start_time": "2024-06-19T23:41:20.580Z"
   },
   {
    "duration": 34,
    "start_time": "2024-06-19T23:41:24.520Z"
   },
   {
    "duration": 28,
    "start_time": "2024-06-19T23:41:51.818Z"
   },
   {
    "duration": 60,
    "start_time": "2024-06-19T23:42:08.346Z"
   },
   {
    "duration": 56,
    "start_time": "2024-06-19T23:42:32.669Z"
   },
   {
    "duration": 28,
    "start_time": "2024-06-19T23:42:40.970Z"
   },
   {
    "duration": 78,
    "start_time": "2024-06-19T23:43:30.454Z"
   },
   {
    "duration": 146,
    "start_time": "2024-06-19T23:43:45.579Z"
   },
   {
    "duration": 144,
    "start_time": "2024-06-19T23:43:51.909Z"
   },
   {
    "duration": 144,
    "start_time": "2024-06-19T23:43:55.704Z"
   },
   {
    "duration": 11,
    "start_time": "2024-06-19T23:44:02.699Z"
   },
   {
    "duration": 5,
    "start_time": "2024-06-19T23:45:35.871Z"
   },
   {
    "duration": 18,
    "start_time": "2024-06-19T23:45:38.863Z"
   },
   {
    "duration": 10,
    "start_time": "2024-06-19T23:46:26.970Z"
   },
   {
    "duration": 10,
    "start_time": "2024-06-19T23:47:20.402Z"
   },
   {
    "duration": 11,
    "start_time": "2024-06-19T23:47:28.457Z"
   },
   {
    "duration": 6,
    "start_time": "2024-06-19T23:47:44.029Z"
   },
   {
    "duration": 16,
    "start_time": "2024-06-19T23:48:17.790Z"
   },
   {
    "duration": 16,
    "start_time": "2024-06-19T23:49:43.415Z"
   },
   {
    "duration": 23,
    "start_time": "2024-06-20T00:26:40.143Z"
   },
   {
    "duration": 24,
    "start_time": "2024-06-20T00:29:39.988Z"
   },
   {
    "duration": 23,
    "start_time": "2024-06-20T00:30:04.495Z"
   },
   {
    "duration": 22,
    "start_time": "2024-06-20T00:32:32.394Z"
   },
   {
    "duration": 7,
    "start_time": "2024-06-20T00:33:30.351Z"
   },
   {
    "duration": 24,
    "start_time": "2024-06-20T00:33:59.866Z"
   },
   {
    "duration": 252,
    "start_time": "2024-06-20T00:34:38.682Z"
   },
   {
    "duration": 29,
    "start_time": "2024-06-20T00:37:38.167Z"
   },
   {
    "duration": 51,
    "start_time": "2024-06-20T00:38:33.136Z"
   },
   {
    "duration": 153,
    "start_time": "2024-06-20T00:44:17.564Z"
   },
   {
    "duration": 15,
    "start_time": "2024-06-20T00:44:26.966Z"
   },
   {
    "duration": 33,
    "start_time": "2024-06-20T00:50:36.004Z"
   },
   {
    "duration": 75,
    "start_time": "2024-06-20T00:50:57.805Z"
   },
   {
    "duration": 18,
    "start_time": "2024-06-20T00:51:28.879Z"
   },
   {
    "duration": 15,
    "start_time": "2024-06-20T00:51:43.247Z"
   },
   {
    "duration": 8,
    "start_time": "2024-06-20T01:43:24.733Z"
   },
   {
    "duration": 11,
    "start_time": "2024-06-20T01:43:52.922Z"
   },
   {
    "duration": 24,
    "start_time": "2024-06-20T01:45:26.797Z"
   },
   {
    "duration": 37,
    "start_time": "2024-06-20T01:46:27.665Z"
   },
   {
    "duration": 37,
    "start_time": "2024-06-20T01:47:00.663Z"
   },
   {
    "duration": 35,
    "start_time": "2024-06-20T01:48:38.064Z"
   },
   {
    "duration": 38,
    "start_time": "2024-06-20T01:49:25.608Z"
   },
   {
    "duration": 60,
    "start_time": "2024-06-20T01:50:43.474Z"
   },
   {
    "duration": 34,
    "start_time": "2024-06-20T01:50:55.106Z"
   },
   {
    "duration": 13,
    "start_time": "2024-06-20T01:53:17.447Z"
   },
   {
    "duration": 56,
    "start_time": "2024-06-20T01:53:39.678Z"
   },
   {
    "duration": 9,
    "start_time": "2024-06-20T01:53:48.517Z"
   },
   {
    "duration": 34,
    "start_time": "2024-06-20T01:53:52.960Z"
   },
   {
    "duration": 41,
    "start_time": "2024-06-20T01:57:13.816Z"
   },
   {
    "duration": 31,
    "start_time": "2024-06-20T01:59:19.005Z"
   },
   {
    "duration": 5,
    "start_time": "2024-06-20T01:59:40.016Z"
   },
   {
    "duration": 5,
    "start_time": "2024-06-20T02:00:51.815Z"
   },
   {
    "duration": 29,
    "start_time": "2024-06-20T02:01:15.784Z"
   },
   {
    "duration": 12,
    "start_time": "2024-06-20T02:02:30.128Z"
   },
   {
    "duration": 10,
    "start_time": "2024-06-20T02:03:01.909Z"
   },
   {
    "duration": 12,
    "start_time": "2024-06-20T02:03:38.887Z"
   },
   {
    "duration": 12,
    "start_time": "2024-06-20T02:04:45.264Z"
   },
   {
    "duration": 11,
    "start_time": "2024-06-20T02:04:47.959Z"
   },
   {
    "duration": 5,
    "start_time": "2024-06-20T02:05:22.321Z"
   },
   {
    "duration": 42,
    "start_time": "2024-06-20T02:05:25.962Z"
   },
   {
    "duration": 44,
    "start_time": "2024-06-20T02:05:33.825Z"
   },
   {
    "duration": 5,
    "start_time": "2024-06-20T02:06:31.111Z"
   },
   {
    "duration": 74,
    "start_time": "2024-06-20T02:06:37.366Z"
   },
   {
    "duration": 6,
    "start_time": "2024-06-20T02:06:47.787Z"
   },
   {
    "duration": 73,
    "start_time": "2024-06-20T02:06:55.516Z"
   },
   {
    "duration": 5,
    "start_time": "2024-06-20T02:07:41.963Z"
   },
   {
    "duration": 40,
    "start_time": "2024-06-20T02:07:48.944Z"
   },
   {
    "duration": 5,
    "start_time": "2024-06-20T02:08:10.278Z"
   },
   {
    "duration": 32,
    "start_time": "2024-06-20T02:08:12.527Z"
   },
   {
    "duration": 31,
    "start_time": "2024-06-20T02:08:15.058Z"
   },
   {
    "duration": 11,
    "start_time": "2024-06-20T02:08:15.868Z"
   },
   {
    "duration": 11,
    "start_time": "2024-06-20T02:08:16.582Z"
   },
   {
    "duration": 12,
    "start_time": "2024-06-20T02:08:17.270Z"
   },
   {
    "duration": 11,
    "start_time": "2024-06-20T02:08:17.988Z"
   },
   {
    "duration": 5,
    "start_time": "2024-06-20T02:09:15.178Z"
   },
   {
    "duration": 33,
    "start_time": "2024-06-20T02:09:16.559Z"
   },
   {
    "duration": 5,
    "start_time": "2024-06-20T02:10:46.290Z"
   },
   {
    "duration": 44,
    "start_time": "2024-06-20T02:10:48.103Z"
   },
   {
    "duration": 42,
    "start_time": "2024-06-20T02:11:12.316Z"
   },
   {
    "duration": 39,
    "start_time": "2024-06-20T02:11:16.806Z"
   },
   {
    "duration": 12,
    "start_time": "2024-06-20T02:11:30.002Z"
   },
   {
    "duration": 11,
    "start_time": "2024-06-20T02:11:31.552Z"
   },
   {
    "duration": 5,
    "start_time": "2024-06-20T02:13:02.692Z"
   },
   {
    "duration": 46,
    "start_time": "2024-06-20T02:13:04.529Z"
   },
   {
    "duration": 38,
    "start_time": "2024-06-20T02:13:09.007Z"
   },
   {
    "duration": 21,
    "start_time": "2024-06-20T02:13:10.189Z"
   },
   {
    "duration": 5,
    "start_time": "2024-06-20T02:14:48.739Z"
   },
   {
    "duration": 50,
    "start_time": "2024-06-20T02:14:52.822Z"
   },
   {
    "duration": 6,
    "start_time": "2024-06-20T02:15:27.340Z"
   },
   {
    "duration": 41,
    "start_time": "2024-06-20T02:15:29.019Z"
   },
   {
    "duration": 5,
    "start_time": "2024-06-20T02:15:58.493Z"
   },
   {
    "duration": 39,
    "start_time": "2024-06-20T02:16:00.344Z"
   },
   {
    "duration": 34,
    "start_time": "2024-06-20T02:16:04.792Z"
   },
   {
    "duration": 11,
    "start_time": "2024-06-20T02:16:06.368Z"
   },
   {
    "duration": 11,
    "start_time": "2024-06-20T02:16:09.379Z"
   },
   {
    "duration": 12,
    "start_time": "2024-06-20T02:16:10.975Z"
   },
   {
    "duration": 11,
    "start_time": "2024-06-20T02:16:11.999Z"
   },
   {
    "duration": 6,
    "start_time": "2024-06-20T02:19:57.101Z"
   },
   {
    "duration": 42,
    "start_time": "2024-06-20T02:20:03.576Z"
   },
   {
    "duration": 40,
    "start_time": "2024-06-20T02:20:19.473Z"
   },
   {
    "duration": 27,
    "start_time": "2024-06-20T02:20:22.470Z"
   },
   {
    "duration": 21,
    "start_time": "2024-06-20T02:20:24.145Z"
   },
   {
    "duration": 21,
    "start_time": "2024-06-20T02:20:29.530Z"
   },
   {
    "duration": 21,
    "start_time": "2024-06-20T02:20:30.817Z"
   },
   {
    "duration": 17,
    "start_time": "2024-06-20T02:21:02.429Z"
   },
   {
    "duration": 26,
    "start_time": "2024-06-20T02:21:14.134Z"
   },
   {
    "duration": 25,
    "start_time": "2024-06-20T02:21:32.038Z"
   },
   {
    "duration": 20,
    "start_time": "2024-06-20T02:21:51.587Z"
   },
   {
    "duration": 9,
    "start_time": "2024-06-20T02:21:59.558Z"
   },
   {
    "duration": 31,
    "start_time": "2024-06-20T02:22:09.669Z"
   },
   {
    "duration": 22,
    "start_time": "2024-06-20T02:22:21.933Z"
   },
   {
    "duration": 22,
    "start_time": "2024-06-20T02:22:35.262Z"
   },
   {
    "duration": 11,
    "start_time": "2024-06-20T02:22:44.910Z"
   },
   {
    "duration": 152,
    "start_time": "2024-06-20T02:22:50.905Z"
   },
   {
    "duration": 143,
    "start_time": "2024-06-20T02:22:57.407Z"
   },
   {
    "duration": 234,
    "start_time": "2024-06-20T02:23:25.082Z"
   },
   {
    "duration": 156,
    "start_time": "2024-06-20T02:23:50.262Z"
   },
   {
    "duration": 86,
    "start_time": "2024-06-20T02:24:21.182Z"
   },
   {
    "duration": 5,
    "start_time": "2024-06-20T02:24:41.952Z"
   },
   {
    "duration": 33,
    "start_time": "2024-06-20T02:24:53.581Z"
   },
   {
    "duration": 5,
    "start_time": "2024-06-20T02:25:45.640Z"
   },
   {
    "duration": 5,
    "start_time": "2024-06-20T02:25:55.339Z"
   },
   {
    "duration": 6,
    "start_time": "2024-06-20T02:26:05.000Z"
   },
   {
    "duration": 45,
    "start_time": "2024-06-20T02:26:13.716Z"
   },
   {
    "duration": 33,
    "start_time": "2024-06-20T02:26:28.817Z"
   },
   {
    "duration": 28,
    "start_time": "2024-06-20T02:26:33.136Z"
   },
   {
    "duration": 38,
    "start_time": "2024-06-20T02:26:37.155Z"
   },
   {
    "duration": 29,
    "start_time": "2024-06-20T02:26:43.698Z"
   },
   {
    "duration": 77,
    "start_time": "2024-06-20T02:26:50.366Z"
   },
   {
    "duration": 59,
    "start_time": "2024-06-20T02:26:57.311Z"
   },
   {
    "duration": 36,
    "start_time": "2024-06-20T02:27:01.280Z"
   },
   {
    "duration": 38,
    "start_time": "2024-06-20T02:27:06.673Z"
   },
   {
    "duration": 28,
    "start_time": "2024-06-20T02:27:10.979Z"
   },
   {
    "duration": 96,
    "start_time": "2024-06-20T02:27:15.743Z"
   },
   {
    "duration": 86,
    "start_time": "2024-06-20T02:27:19.854Z"
   },
   {
    "duration": 73,
    "start_time": "2024-06-20T02:27:23.828Z"
   },
   {
    "duration": 143,
    "start_time": "2024-06-20T02:27:28.309Z"
   },
   {
    "duration": 154,
    "start_time": "2024-06-20T02:27:32.572Z"
   },
   {
    "duration": 153,
    "start_time": "2024-06-20T02:27:36.697Z"
   },
   {
    "duration": 196,
    "start_time": "2024-06-20T02:27:40.843Z"
   },
   {
    "duration": 146,
    "start_time": "2024-06-20T02:27:45.156Z"
   },
   {
    "duration": 21,
    "start_time": "2024-06-20T02:27:50.107Z"
   },
   {
    "duration": 10,
    "start_time": "2024-06-20T02:27:57.534Z"
   },
   {
    "duration": 30,
    "start_time": "2024-06-20T02:28:07.784Z"
   },
   {
    "duration": 23,
    "start_time": "2024-06-20T02:28:13.744Z"
   },
   {
    "duration": 20,
    "start_time": "2024-06-20T02:28:18.251Z"
   },
   {
    "duration": 11,
    "start_time": "2024-06-20T02:28:26.396Z"
   },
   {
    "duration": 16,
    "start_time": "2024-06-20T02:28:44.599Z"
   },
   {
    "duration": 26,
    "start_time": "2024-06-20T02:28:50.459Z"
   },
   {
    "duration": 16,
    "start_time": "2024-06-20T02:28:57.568Z"
   },
   {
    "duration": 28,
    "start_time": "2024-06-20T02:29:02.060Z"
   },
   {
    "duration": 16,
    "start_time": "2024-06-20T02:29:06.789Z"
   },
   {
    "duration": 17,
    "start_time": "2024-06-20T02:29:20.176Z"
   },
   {
    "duration": 7,
    "start_time": "2024-06-20T02:29:24.992Z"
   },
   {
    "duration": 25,
    "start_time": "2024-06-20T02:29:33.722Z"
   },
   {
    "duration": 19,
    "start_time": "2024-06-20T02:29:36.085Z"
   },
   {
    "duration": 19,
    "start_time": "2024-06-20T02:29:38.348Z"
   },
   {
    "duration": 18,
    "start_time": "2024-06-20T02:29:40.151Z"
   },
   {
    "duration": 24,
    "start_time": "2024-06-20T02:29:41.856Z"
   },
   {
    "duration": 19,
    "start_time": "2024-06-20T02:29:44.561Z"
   },
   {
    "duration": 5,
    "start_time": "2024-06-20T02:34:48.714Z"
   },
   {
    "duration": 26,
    "start_time": "2024-06-20T02:34:50.478Z"
   },
   {
    "duration": 27,
    "start_time": "2024-06-20T02:34:51.769Z"
   },
   {
    "duration": 20,
    "start_time": "2024-06-20T02:37:56.853Z"
   },
   {
    "duration": 21,
    "start_time": "2024-06-20T02:37:58.037Z"
   },
   {
    "duration": 24,
    "start_time": "2024-06-20T02:38:00.306Z"
   },
   {
    "duration": 25,
    "start_time": "2024-06-20T02:38:01.425Z"
   },
   {
    "duration": 19,
    "start_time": "2024-06-20T02:38:02.500Z"
   },
   {
    "duration": 14,
    "start_time": "2024-06-20T15:20:23.365Z"
   },
   {
    "duration": 318,
    "start_time": "2024-06-20T15:20:34.268Z"
   },
   {
    "duration": 26,
    "start_time": "2024-06-20T15:20:44.728Z"
   },
   {
    "duration": 4,
    "start_time": "2024-06-20T15:23:21.954Z"
   },
   {
    "duration": 21,
    "start_time": "2024-06-20T15:23:25.155Z"
   },
   {
    "duration": 22,
    "start_time": "2024-06-20T15:23:36.775Z"
   },
   {
    "duration": 22,
    "start_time": "2024-06-20T15:24:04.280Z"
   },
   {
    "duration": 324,
    "start_time": "2024-06-20T15:24:31.188Z"
   },
   {
    "duration": 23,
    "start_time": "2024-06-20T15:24:43.831Z"
   },
   {
    "duration": 38,
    "start_time": "2024-06-20T15:24:44.426Z"
   },
   {
    "duration": 22,
    "start_time": "2024-06-20T15:24:44.901Z"
   },
   {
    "duration": 24,
    "start_time": "2024-06-20T15:24:45.910Z"
   },
   {
    "duration": 25,
    "start_time": "2024-06-20T15:24:46.423Z"
   },
   {
    "duration": 37,
    "start_time": "2024-06-20T15:24:46.929Z"
   },
   {
    "duration": 62,
    "start_time": "2024-06-20T15:24:47.603Z"
   },
   {
    "duration": 0,
    "start_time": "2024-06-20T15:24:47.669Z"
   },
   {
    "duration": 27,
    "start_time": "2024-06-20T15:24:48.755Z"
   },
   {
    "duration": 25,
    "start_time": "2024-06-20T15:24:49.317Z"
   },
   {
    "duration": 22,
    "start_time": "2024-06-20T15:24:49.377Z"
   },
   {
    "duration": 22,
    "start_time": "2024-06-20T15:24:50.429Z"
   },
   {
    "duration": 26,
    "start_time": "2024-06-20T15:24:50.455Z"
   },
   {
    "duration": 25,
    "start_time": "2024-06-20T15:24:50.965Z"
   },
   {
    "duration": 25,
    "start_time": "2024-06-20T15:24:51.354Z"
   },
   {
    "duration": 4,
    "start_time": "2024-06-20T15:24:51.721Z"
   },
   {
    "duration": 32,
    "start_time": "2024-06-20T15:24:52.271Z"
   },
   {
    "duration": 22,
    "start_time": "2024-06-20T15:24:52.606Z"
   },
   {
    "duration": 25,
    "start_time": "2024-06-20T15:24:54.217Z"
   },
   {
    "duration": 25,
    "start_time": "2024-06-20T15:24:54.825Z"
   },
   {
    "duration": 6,
    "start_time": "2024-06-20T15:24:55.419Z"
   },
   {
    "duration": 26,
    "start_time": "2024-06-20T15:24:56.029Z"
   },
   {
    "duration": 22,
    "start_time": "2024-06-20T15:24:56.239Z"
   },
   {
    "duration": 27,
    "start_time": "2024-06-20T15:24:56.460Z"
   },
   {
    "duration": 22,
    "start_time": "2024-06-20T15:24:56.656Z"
   },
   {
    "duration": 24,
    "start_time": "2024-06-20T15:25:35.191Z"
   },
   {
    "duration": 462,
    "start_time": "2024-06-20T15:25:52.136Z"
   },
   {
    "duration": 202,
    "start_time": "2024-06-20T15:25:53.210Z"
   },
   {
    "duration": 13,
    "start_time": "2024-06-20T15:25:55.890Z"
   },
   {
    "duration": 36,
    "start_time": "2024-06-20T15:25:56.698Z"
   },
   {
    "duration": 11,
    "start_time": "2024-06-20T15:25:57.912Z"
   },
   {
    "duration": 6,
    "start_time": "2024-06-20T15:25:58.455Z"
   },
   {
    "duration": 9,
    "start_time": "2024-06-20T15:25:59.007Z"
   },
   {
    "duration": 7,
    "start_time": "2024-06-20T15:25:59.378Z"
   },
   {
    "duration": 46,
    "start_time": "2024-06-20T15:25:59.738Z"
   },
   {
    "duration": 34,
    "start_time": "2024-06-20T15:26:00.515Z"
   },
   {
    "duration": 55,
    "start_time": "2024-06-20T15:26:01.117Z"
   },
   {
    "duration": 26,
    "start_time": "2024-06-20T15:26:01.492Z"
   },
   {
    "duration": 89,
    "start_time": "2024-06-20T15:26:02.251Z"
   },
   {
    "duration": 168,
    "start_time": "2024-06-20T15:26:03.057Z"
   },
   {
    "duration": 178,
    "start_time": "2024-06-20T15:26:03.229Z"
   },
   {
    "duration": 11,
    "start_time": "2024-06-20T15:26:03.635Z"
   },
   {
    "duration": 5,
    "start_time": "2024-06-20T15:26:04.230Z"
   },
   {
    "duration": 20,
    "start_time": "2024-06-20T15:26:04.807Z"
   },
   {
    "duration": 11,
    "start_time": "2024-06-20T15:26:05.355Z"
   },
   {
    "duration": 15,
    "start_time": "2024-06-20T15:26:07.605Z"
   },
   {
    "duration": 20,
    "start_time": "2024-06-20T15:26:08.294Z"
   },
   {
    "duration": 5,
    "start_time": "2024-06-20T15:26:08.992Z"
   },
   {
    "duration": 26,
    "start_time": "2024-06-20T15:26:09.680Z"
   },
   {
    "duration": 19,
    "start_time": "2024-06-20T15:26:09.998Z"
   },
   {
    "duration": 23,
    "start_time": "2024-06-20T15:26:10.407Z"
   },
   {
    "duration": 19,
    "start_time": "2024-06-20T15:26:11.061Z"
   },
   {
    "duration": 24,
    "start_time": "2024-06-20T15:26:11.308Z"
   },
   {
    "duration": 20,
    "start_time": "2024-06-20T15:26:11.527Z"
   }
  ],
  "colab": {
   "collapsed_sections": [
    "E0vqbgi9ay0H",
    "VUC88oWjTJw2"
   ],
   "provenance": []
  },
  "kernelspec": {
   "display_name": "base",
   "language": "python",
   "name": "python3"
  },
  "language_info": {
   "codemirror_mode": {
    "name": "ipython",
    "version": 3
   },
   "file_extension": ".py",
   "mimetype": "text/x-python",
   "name": "python",
   "nbconvert_exporter": "python",
   "pygments_lexer": "ipython3",
   "version": "3.11.7"
  },
  "toc": {
   "base_numbering": 1,
   "nav_menu": {},
   "number_sections": true,
   "sideBar": true,
   "skip_h1_title": true,
   "title_cell": "Table of Contents",
   "title_sidebar": "Contents",
   "toc_cell": false,
   "toc_position": {},
   "toc_section_display": true,
   "toc_window_display": false
  }
 },
 "nbformat": 4,
 "nbformat_minor": 4
}
