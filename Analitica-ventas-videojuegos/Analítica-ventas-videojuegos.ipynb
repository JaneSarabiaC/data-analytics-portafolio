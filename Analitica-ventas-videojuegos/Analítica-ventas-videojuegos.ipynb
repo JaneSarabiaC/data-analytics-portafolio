{
 "cells": [
  {
   "cell_type": "markdown",
   "metadata": {},
   "source": [
    "# Proyecto Analítica de venta de videojuegos"
   ]
  },
  {
   "cell_type": "markdown",
   "metadata": {},
   "source": [
    "## Tabla de contenido\n",
    "\n",
    "1. Introducción del Proyecto\n",
    "2. Objetivos específicos\n",
    "3. Etapas de análisis del proyecto\n",
    "4. Inicialización\n",
    "5. Cargar y explorar los datos\n",
    "6. Preparar los datos\n",
    "7. Análisis de los datos\n",
    "8. Perfil de usuario para cada región\n",
    "9. Prueba de hipótesis\n",
    "10. Conclusión general del Proyecto"
   ]
  },
  {
   "cell_type": "markdown",
   "metadata": {
    "tags": [
     "e5c1f0c2-db9f-43a0-99b9-4875c52427e8"
    ]
   },
   "source": [
    "## Descripción del proyecto\n",
    "\n",
    "Trabajas para la tienda online Ice que vende videojuegos por todo el mundo. Las reseñas de usuarios y expertos, los géneros, las plataformas (por ejemplo, Xbox o PlayStation) y los datos históricos sobre las ventas de juegos están disponibles en fuentes abiertas. Tienes que identificar patrones que determinen si un juego tiene éxito o no. Esto te permitirá detectar proyectos prometedores y planificar campañas publicitarias.\n",
    "\n",
    "Delante de ti hay datos que se remontan a 2016. Imaginemos que es diciembre de 2016 y estás planeando una campaña para 2017.\n",
    "\n",
    "Lo importante es adquirir experiencia de trabajo con datos. Realmente no importa si estás pronosticando las ventas de 2017 en función de los datos de 2016 o las ventas de 2027 en función de los datos de 2026.\n",
    "\n",
    "El dataset contiene una columna \"rating\" que almacena la clasificación ESRB de cada juego. El Entertainment Software Rating Board (la Junta de clasificación de software de entretenimiento) evalúa el contenido de un juego y asigna una clasificación de edad como Adolescente o Adulto."
   ]
  },
  {
   "cell_type": "markdown",
   "metadata": {},
   "source": [
    "## Objetivos específicos\n",
    "\n",
    "1. Identificar las plataformas de videojuegos más rentables y su evolución a lo largo del tiempo: Esto incluye analizar las tendencias de ventas en diferentes plataformas, identificando aquellas que solían ser populares y las que actualmente dominan el mercado.\n",
    "\n",
    "2. Evaluar la influencia de las reseñas de usuarios y expertos en las ventas de videojuegos: Se explorará cómo las calificaciones afectan las ventas en diferentes plataformas, utilizando análisis de correlación y gráficos de dispersión.\n",
    "\n",
    "3. Analizar la distribución de ventas por género y región: Se estudiarán las diferencias en las preferencias de los usuarios según el género del juego y la región geográfica (NA, UE, JP), así como la influencia de la clasificación ESRB en las ventas de cada región."
   ]
  },
  {
   "cell_type": "markdown",
   "metadata": {},
   "source": [
    "## Etapas de análisis del proyecto\n",
    "\n",
    "1. **Apertura y Exploración Inicial de los Datos**\n",
    "\n",
    "    . **Carga del Dataset:** Abre el archivo /datasets/games.csv y realiza una exploración inicial para familiarizarte con la estructura de los datos.\n",
    "    \n",
    "    . **Revisión General de la Información:** Examina el contenido para comprender las columnas, el tipo de datos, y las características de las variables. Este paso permite identificar cualquier anomalía o dato ausente.\n",
    "\n",
    "2. **Preparación y Limpieza de Datos**\n",
    "\n",
    "    . **Estandarización de Columnas:** Reemplaza los nombres de las columnas poniéndolos en minúsculas para asegurar la consistencia.\n",
    "    \n",
    "    . **Conversión de Tipos de Datos:** Convierte las columnas a los tipos de datos apropiados (por ejemplo, convertir columnas de fechas o números que estén como texto).\n",
    "    \n",
    "    . **Tratamiento de Valores Ausentes:** Identifica y maneja los valores ausentes según corresponda. Esto puede incluir el llenado de valores faltantes, su eliminación o su mantenimiento dependiendo del análisis. Particularmente, se debe abordar cómo manejar la abreviatura \"TBD\" en la columna de puntajes de usuario.\n",
    "   \n",
    "    . **Cálculo de Ventas Totales:** Suma las ventas en todas las regiones para cada juego y almacena este valor en una nueva columna.\n",
    "\n",
    "3. **Análisis de los Datos**\n",
    "\n",
    "    . **Distribución Temporal de Lanzamientos:** Analiza cuántos juegos se lanzaron en diferentes años y determina si los datos son significativos en cada período.\n",
    "   \n",
    "    . **Evolución de Ventas por Plataforma:** Observa las variaciones de ventas entre plataformas a lo largo de los años, identificando plataformas con mayores ventas, aquellas en declive, y el tiempo que tardan en emerger o desaparecer las plataformas.\n",
    "   \n",
    "    . **Selección del Período Relevante:** Con base en los análisis anteriores, decide qué período de datos utilizar para construir un modelo para 2017. Excluye datos que no sean relevantes para este análisis.\n",
    "   \n",
    "    . **Evaluación de las Plataformas Líderes:** Identifica las plataformas con las mayores ventas, aquellas en crecimiento o en declive, y selecciona plataformas potencialmente rentables para análisis adicionales.\n",
    "   \n",
    "    . **Visualización de Ventas:** Crea diagramas de caja para comparar las ventas globales de juegos por plataforma y analiza las diferencias significativas entre ellas.\n",
    "    \n",
    "    . **Impacto de las Reseñas en las Ventas:** Analiza cómo las reseñas de usuarios y críticos afectan las ventas de una plataforma seleccionada, utilizando gráficos de dispersión y calculando la correlación entre estas variables.\n",
    "\n",
    "4. **Análisis Regional y Perfil de Usuario**\n",
    "\n",
    "    .   **Plataformas y Géneros por Región:** Para cada región (NA, UE, JP), identifica las cinco principales plataformas y géneros, describiendo las diferencias y variaciones en las cuotas de mercado.\n",
    "    \n",
    "    . **Impacto de las Clasificaciones ESRB:** Evalúa si las clasificaciones de ESRB influyen en las ventas en cada región específica.\n",
    "\n",
    "5.  **Pruebas de Hipótesis**\n",
    "\n",
    "    . **Formulación y Prueba de Hipótesis:** Prueba las hipótesis relacionadas con las calificaciones de usuarios entre plataformas (Xbox One vs. PC) y géneros (Acción vs. Deportes), definiendo un valor alfa para determinar la significancia estadística.\n",
    "   \n",
    "    . **Explicación del Proceso de Prueba:** Detalla cómo se formularon las hipótesis nula y alternativa, así como los criterios utilizados para realizar la prueba.\n",
    "\n",
    "6. Conclusión General\n",
    "\n",
    "    . **Documentación del Proyecto:** Escribe una conclusión que resuma los hallazgos clave del análisis y las implicaciones para la planificación de futuras campañas. Asegúrate de presentar el informe en un Jupyter Notebook, con el código y las explicaciones claramente separadas y bien formateadas."
   ]
  },
  {
   "cell_type": "code",
   "execution_count": null,
   "metadata": {},
   "outputs": [],
   "source": [
    "# Cargar todas las librerías\n",
    "\n",
    "import pandas as pd\n",
    "import matplotlib.pyplot as plt\n",
    "from scipy import stats\n",
    "from scipy import stats as st\n",
    "import numpy as np\n",
    "import math\n",
    "import seaborn as sns\n"
   ]
  },
  {
   "cell_type": "code",
   "execution_count": null,
   "metadata": {},
   "outputs": [],
   "source": [
    "# Cargar todos los dataset\n",
    "df_games = pd.read_csv('/datasets/games.csv')"
   ]
  },
  {
   "cell_type": "code",
   "execution_count": 5,
   "metadata": {},
   "outputs": [
    {
     "name": "stdout",
     "output_type": "stream",
     "text": [
      "<class 'pandas.core.frame.DataFrame'>\n",
      "RangeIndex: 16715 entries, 0 to 16714\n",
      "Data columns (total 11 columns):\n",
      " #   Column           Non-Null Count  Dtype  \n",
      "---  ------           --------------  -----  \n",
      " 0   Name             16713 non-null  object \n",
      " 1   Platform         16715 non-null  object \n",
      " 2   Year_of_Release  16446 non-null  float64\n",
      " 3   Genre            16713 non-null  object \n",
      " 4   NA_sales         16715 non-null  float64\n",
      " 5   EU_sales         16715 non-null  float64\n",
      " 6   JP_sales         16715 non-null  float64\n",
      " 7   Other_sales      16715 non-null  float64\n",
      " 8   Critic_Score     8137 non-null   float64\n",
      " 9   User_Score       10014 non-null  object \n",
      " 10  Rating           9949 non-null   object \n",
      "dtypes: float64(6), object(5)\n",
      "memory usage: 1.4+ MB\n"
     ]
    }
   ],
   "source": [
    "df_games.info()"
   ]
  },
  {
   "cell_type": "code",
   "execution_count": 6,
   "metadata": {},
   "outputs": [
    {
     "data": {
      "text/html": [
       "<div>\n",
       "<style scoped>\n",
       "    .dataframe tbody tr th:only-of-type {\n",
       "        vertical-align: middle;\n",
       "    }\n",
       "\n",
       "    .dataframe tbody tr th {\n",
       "        vertical-align: top;\n",
       "    }\n",
       "\n",
       "    .dataframe thead th {\n",
       "        text-align: right;\n",
       "    }\n",
       "</style>\n",
       "<table border=\"1\" class=\"dataframe\">\n",
       "  <thead>\n",
       "    <tr style=\"text-align: right;\">\n",
       "      <th></th>\n",
       "      <th>Name</th>\n",
       "      <th>Platform</th>\n",
       "      <th>Year_of_Release</th>\n",
       "      <th>Genre</th>\n",
       "      <th>NA_sales</th>\n",
       "      <th>EU_sales</th>\n",
       "      <th>JP_sales</th>\n",
       "      <th>Other_sales</th>\n",
       "      <th>Critic_Score</th>\n",
       "      <th>User_Score</th>\n",
       "      <th>Rating</th>\n",
       "    </tr>\n",
       "  </thead>\n",
       "  <tbody>\n",
       "    <tr>\n",
       "      <th>0</th>\n",
       "      <td>Wii Sports</td>\n",
       "      <td>Wii</td>\n",
       "      <td>2006.0</td>\n",
       "      <td>Sports</td>\n",
       "      <td>41.36</td>\n",
       "      <td>28.96</td>\n",
       "      <td>3.77</td>\n",
       "      <td>8.45</td>\n",
       "      <td>76.0</td>\n",
       "      <td>8</td>\n",
       "      <td>E</td>\n",
       "    </tr>\n",
       "    <tr>\n",
       "      <th>1</th>\n",
       "      <td>Super Mario Bros.</td>\n",
       "      <td>NES</td>\n",
       "      <td>1985.0</td>\n",
       "      <td>Platform</td>\n",
       "      <td>29.08</td>\n",
       "      <td>3.58</td>\n",
       "      <td>6.81</td>\n",
       "      <td>0.77</td>\n",
       "      <td>NaN</td>\n",
       "      <td>NaN</td>\n",
       "      <td>NaN</td>\n",
       "    </tr>\n",
       "    <tr>\n",
       "      <th>2</th>\n",
       "      <td>Mario Kart Wii</td>\n",
       "      <td>Wii</td>\n",
       "      <td>2008.0</td>\n",
       "      <td>Racing</td>\n",
       "      <td>15.68</td>\n",
       "      <td>12.76</td>\n",
       "      <td>3.79</td>\n",
       "      <td>3.29</td>\n",
       "      <td>82.0</td>\n",
       "      <td>8.3</td>\n",
       "      <td>E</td>\n",
       "    </tr>\n",
       "    <tr>\n",
       "      <th>3</th>\n",
       "      <td>Wii Sports Resort</td>\n",
       "      <td>Wii</td>\n",
       "      <td>2009.0</td>\n",
       "      <td>Sports</td>\n",
       "      <td>15.61</td>\n",
       "      <td>10.93</td>\n",
       "      <td>3.28</td>\n",
       "      <td>2.95</td>\n",
       "      <td>80.0</td>\n",
       "      <td>8</td>\n",
       "      <td>E</td>\n",
       "    </tr>\n",
       "    <tr>\n",
       "      <th>4</th>\n",
       "      <td>Pokemon Red/Pokemon Blue</td>\n",
       "      <td>GB</td>\n",
       "      <td>1996.0</td>\n",
       "      <td>Role-Playing</td>\n",
       "      <td>11.27</td>\n",
       "      <td>8.89</td>\n",
       "      <td>10.22</td>\n",
       "      <td>1.00</td>\n",
       "      <td>NaN</td>\n",
       "      <td>NaN</td>\n",
       "      <td>NaN</td>\n",
       "    </tr>\n",
       "    <tr>\n",
       "      <th>5</th>\n",
       "      <td>Tetris</td>\n",
       "      <td>GB</td>\n",
       "      <td>1989.0</td>\n",
       "      <td>Puzzle</td>\n",
       "      <td>23.20</td>\n",
       "      <td>2.26</td>\n",
       "      <td>4.22</td>\n",
       "      <td>0.58</td>\n",
       "      <td>NaN</td>\n",
       "      <td>NaN</td>\n",
       "      <td>NaN</td>\n",
       "    </tr>\n",
       "    <tr>\n",
       "      <th>6</th>\n",
       "      <td>New Super Mario Bros.</td>\n",
       "      <td>DS</td>\n",
       "      <td>2006.0</td>\n",
       "      <td>Platform</td>\n",
       "      <td>11.28</td>\n",
       "      <td>9.14</td>\n",
       "      <td>6.50</td>\n",
       "      <td>2.88</td>\n",
       "      <td>89.0</td>\n",
       "      <td>8.5</td>\n",
       "      <td>E</td>\n",
       "    </tr>\n",
       "    <tr>\n",
       "      <th>7</th>\n",
       "      <td>Wii Play</td>\n",
       "      <td>Wii</td>\n",
       "      <td>2006.0</td>\n",
       "      <td>Misc</td>\n",
       "      <td>13.96</td>\n",
       "      <td>9.18</td>\n",
       "      <td>2.93</td>\n",
       "      <td>2.84</td>\n",
       "      <td>58.0</td>\n",
       "      <td>6.6</td>\n",
       "      <td>E</td>\n",
       "    </tr>\n",
       "    <tr>\n",
       "      <th>8</th>\n",
       "      <td>New Super Mario Bros. Wii</td>\n",
       "      <td>Wii</td>\n",
       "      <td>2009.0</td>\n",
       "      <td>Platform</td>\n",
       "      <td>14.44</td>\n",
       "      <td>6.94</td>\n",
       "      <td>4.70</td>\n",
       "      <td>2.24</td>\n",
       "      <td>87.0</td>\n",
       "      <td>8.4</td>\n",
       "      <td>E</td>\n",
       "    </tr>\n",
       "    <tr>\n",
       "      <th>9</th>\n",
       "      <td>Duck Hunt</td>\n",
       "      <td>NES</td>\n",
       "      <td>1984.0</td>\n",
       "      <td>Shooter</td>\n",
       "      <td>26.93</td>\n",
       "      <td>0.63</td>\n",
       "      <td>0.28</td>\n",
       "      <td>0.47</td>\n",
       "      <td>NaN</td>\n",
       "      <td>NaN</td>\n",
       "      <td>NaN</td>\n",
       "    </tr>\n",
       "  </tbody>\n",
       "</table>\n",
       "</div>"
      ],
      "text/plain": [
       "                        Name Platform  Year_of_Release         Genre  \\\n",
       "0                 Wii Sports      Wii           2006.0        Sports   \n",
       "1          Super Mario Bros.      NES           1985.0      Platform   \n",
       "2             Mario Kart Wii      Wii           2008.0        Racing   \n",
       "3          Wii Sports Resort      Wii           2009.0        Sports   \n",
       "4   Pokemon Red/Pokemon Blue       GB           1996.0  Role-Playing   \n",
       "5                     Tetris       GB           1989.0        Puzzle   \n",
       "6      New Super Mario Bros.       DS           2006.0      Platform   \n",
       "7                   Wii Play      Wii           2006.0          Misc   \n",
       "8  New Super Mario Bros. Wii      Wii           2009.0      Platform   \n",
       "9                  Duck Hunt      NES           1984.0       Shooter   \n",
       "\n",
       "   NA_sales  EU_sales  JP_sales  Other_sales  Critic_Score User_Score Rating  \n",
       "0     41.36     28.96      3.77         8.45          76.0          8      E  \n",
       "1     29.08      3.58      6.81         0.77           NaN        NaN    NaN  \n",
       "2     15.68     12.76      3.79         3.29          82.0        8.3      E  \n",
       "3     15.61     10.93      3.28         2.95          80.0          8      E  \n",
       "4     11.27      8.89     10.22         1.00           NaN        NaN    NaN  \n",
       "5     23.20      2.26      4.22         0.58           NaN        NaN    NaN  \n",
       "6     11.28      9.14      6.50         2.88          89.0        8.5      E  \n",
       "7     13.96      9.18      2.93         2.84          58.0        6.6      E  \n",
       "8     14.44      6.94      4.70         2.24          87.0        8.4      E  \n",
       "9     26.93      0.63      0.28         0.47           NaN        NaN    NaN  "
      ]
     },
     "execution_count": 6,
     "metadata": {},
     "output_type": "execute_result"
    }
   ],
   "source": [
    "df_games.head(10)"
   ]
  },
  {
   "cell_type": "markdown",
   "metadata": {},
   "source": [
    "### Prepara los datos\n",
    "\n",
    "* Reemplaza los nombres de las columnas (ponlos en minúsculas).\n",
    "\n",
    "* Convierte los datos en los tipos necesarios.\n",
    "\n",
    "* Describe las columnas en las que los tipos de datos han sido cambiados y explica por qué.\n",
    "\n",
    "* Si es necesario, elige la manera de tratar los valores ausentes:\n",
    "\n",
    "     * Explica por qué rellenaste los valores ausentes como lo hiciste o por qué decidiste dejarlos en blanco.\n",
    "     * ¿Por qué crees que los valores están ausentes? Brinda explicaciones posibles.\n",
    "     * Presta atención a la abreviatura TBD: significa \"to be determined\" (a determinar). Especifica cómo piensas manejar estos casos.\n",
    "     * Calcula las ventas totales (la suma de las ventas en todas las regiones) para cada juego y coloca estos valores en una columna separada."
   ]
  },
  {
   "cell_type": "code",
   "execution_count": 7,
   "metadata": {},
   "outputs": [],
   "source": [
    "#Reemplaza los nombres de las columnas (ponlos en minúsculas).\n",
    "\n",
    "df_games.columns = df_games.columns.str.lower()"
   ]
  },
  {
   "cell_type": "code",
   "execution_count": 8,
   "metadata": {},
   "outputs": [],
   "source": [
    " #Cambie el nombre de la columna para que sea más claro a que nombre se refiere.\n",
    "    \n",
    "df_games.rename(columns={'name':'games_name'}, inplace=True)"
   ]
  },
  {
   "cell_type": "code",
   "execution_count": 9,
   "metadata": {},
   "outputs": [
    {
     "name": "stdout",
     "output_type": "stream",
     "text": [
      "critic_score    float64\n",
      "user_score      float64\n",
      "dtype: object\n"
     ]
    }
   ],
   "source": [
    "# Convertir las columnas a tipo float\n",
    "\n",
    "df_games['critic_score'] = pd.to_numeric(df_games['critic_score'], errors='coerce')\n",
    "df_games['user_score'] = pd.to_numeric(df_games['user_score'], errors='coerce')\n",
    "\n",
    "# Verifica los tipos de datos después de la conversión\n",
    "print(df_games[['critic_score', 'user_score']].dtypes)"
   ]
  },
  {
   "cell_type": "code",
   "execution_count": 10,
   "metadata": {},
   "outputs": [
    {
     "name": "stdout",
     "output_type": "stream",
     "text": [
      "games_name            2\n",
      "platform              0\n",
      "year_of_release     269\n",
      "genre                 2\n",
      "na_sales              0\n",
      "eu_sales              0\n",
      "jp_sales              0\n",
      "other_sales           0\n",
      "critic_score       8578\n",
      "user_score         9125\n",
      "rating             6766\n",
      "dtype: int64\n"
     ]
    }
   ],
   "source": [
    "#Cantudad de valores faltantes en la tabla de datos.\n",
    "\n",
    "missing_values = df_games.isnull().sum()\n",
    "print(missing_values)"
   ]
  },
  {
   "cell_type": "code",
   "execution_count": 11,
   "metadata": {},
   "outputs": [
    {
     "name": "stdout",
     "output_type": "stream",
     "text": [
      "[2006. 1985. 2008. 2009. 1996. 1989. 1984. 2005. 1999. 2007. 2010. 2013.\n",
      " 2004. 1990. 1988. 2002. 2001. 2011. 1998. 2015. 2012. 2014. 1992. 1997.\n",
      " 1993. 1994. 1982. 2016. 2003. 1986. 2000.   nan 1995. 1991. 1981. 1987.\n",
      " 1980. 1983.]\n"
     ]
    }
   ],
   "source": [
    "#muestra en que año fue lanzado el 1er juego y en que año finalizaron sus lanzamientos, el periodo inicia en 1980 y finaliza el año 2016.\n",
    "\n",
    "print(df_games['year_of_release'].unique())"
   ]
  },
  {
   "cell_type": "code",
   "execution_count": 12,
   "metadata": {},
   "outputs": [
    {
     "name": "stdout",
     "output_type": "stream",
     "text": [
      "<class 'pandas.core.frame.DataFrame'>\n",
      "RangeIndex: 16715 entries, 0 to 16714\n",
      "Data columns (total 11 columns):\n",
      " #   Column           Non-Null Count  Dtype  \n",
      "---  ------           --------------  -----  \n",
      " 0   games_name       16713 non-null  object \n",
      " 1   platform         16715 non-null  object \n",
      " 2   year_of_release  16446 non-null  float64\n",
      " 3   genre            16713 non-null  object \n",
      " 4   na_sales         16715 non-null  float64\n",
      " 5   eu_sales         16715 non-null  float64\n",
      " 6   jp_sales         16715 non-null  float64\n",
      " 7   other_sales      16715 non-null  float64\n",
      " 8   critic_score     8137 non-null   float64\n",
      " 9   user_score       7590 non-null   float64\n",
      " 10  rating           9949 non-null   object \n",
      "dtypes: float64(7), object(4)\n",
      "memory usage: 1.4+ MB\n"
     ]
    },
    {
     "data": {
      "text/html": [
       "<div>\n",
       "<style scoped>\n",
       "    .dataframe tbody tr th:only-of-type {\n",
       "        vertical-align: middle;\n",
       "    }\n",
       "\n",
       "    .dataframe tbody tr th {\n",
       "        vertical-align: top;\n",
       "    }\n",
       "\n",
       "    .dataframe thead th {\n",
       "        text-align: right;\n",
       "    }\n",
       "</style>\n",
       "<table border=\"1\" class=\"dataframe\">\n",
       "  <thead>\n",
       "    <tr style=\"text-align: right;\">\n",
       "      <th></th>\n",
       "      <th>games_name</th>\n",
       "      <th>platform</th>\n",
       "      <th>year_of_release</th>\n",
       "      <th>genre</th>\n",
       "      <th>na_sales</th>\n",
       "      <th>eu_sales</th>\n",
       "      <th>jp_sales</th>\n",
       "      <th>other_sales</th>\n",
       "      <th>critic_score</th>\n",
       "      <th>user_score</th>\n",
       "      <th>rating</th>\n",
       "    </tr>\n",
       "  </thead>\n",
       "  <tbody>\n",
       "    <tr>\n",
       "      <th>0</th>\n",
       "      <td>Wii Sports</td>\n",
       "      <td>Wii</td>\n",
       "      <td>2006.0</td>\n",
       "      <td>Sports</td>\n",
       "      <td>41.36</td>\n",
       "      <td>28.96</td>\n",
       "      <td>3.77</td>\n",
       "      <td>8.45</td>\n",
       "      <td>76.0</td>\n",
       "      <td>8.0</td>\n",
       "      <td>E</td>\n",
       "    </tr>\n",
       "    <tr>\n",
       "      <th>1</th>\n",
       "      <td>Super Mario Bros.</td>\n",
       "      <td>NES</td>\n",
       "      <td>1985.0</td>\n",
       "      <td>Platform</td>\n",
       "      <td>29.08</td>\n",
       "      <td>3.58</td>\n",
       "      <td>6.81</td>\n",
       "      <td>0.77</td>\n",
       "      <td>NaN</td>\n",
       "      <td>NaN</td>\n",
       "      <td>NaN</td>\n",
       "    </tr>\n",
       "    <tr>\n",
       "      <th>2</th>\n",
       "      <td>Mario Kart Wii</td>\n",
       "      <td>Wii</td>\n",
       "      <td>2008.0</td>\n",
       "      <td>Racing</td>\n",
       "      <td>15.68</td>\n",
       "      <td>12.76</td>\n",
       "      <td>3.79</td>\n",
       "      <td>3.29</td>\n",
       "      <td>82.0</td>\n",
       "      <td>8.3</td>\n",
       "      <td>E</td>\n",
       "    </tr>\n",
       "    <tr>\n",
       "      <th>3</th>\n",
       "      <td>Wii Sports Resort</td>\n",
       "      <td>Wii</td>\n",
       "      <td>2009.0</td>\n",
       "      <td>Sports</td>\n",
       "      <td>15.61</td>\n",
       "      <td>10.93</td>\n",
       "      <td>3.28</td>\n",
       "      <td>2.95</td>\n",
       "      <td>80.0</td>\n",
       "      <td>8.0</td>\n",
       "      <td>E</td>\n",
       "    </tr>\n",
       "    <tr>\n",
       "      <th>4</th>\n",
       "      <td>Pokemon Red/Pokemon Blue</td>\n",
       "      <td>GB</td>\n",
       "      <td>1996.0</td>\n",
       "      <td>Role-Playing</td>\n",
       "      <td>11.27</td>\n",
       "      <td>8.89</td>\n",
       "      <td>10.22</td>\n",
       "      <td>1.00</td>\n",
       "      <td>NaN</td>\n",
       "      <td>NaN</td>\n",
       "      <td>NaN</td>\n",
       "    </tr>\n",
       "    <tr>\n",
       "      <th>5</th>\n",
       "      <td>Tetris</td>\n",
       "      <td>GB</td>\n",
       "      <td>1989.0</td>\n",
       "      <td>Puzzle</td>\n",
       "      <td>23.20</td>\n",
       "      <td>2.26</td>\n",
       "      <td>4.22</td>\n",
       "      <td>0.58</td>\n",
       "      <td>NaN</td>\n",
       "      <td>NaN</td>\n",
       "      <td>NaN</td>\n",
       "    </tr>\n",
       "    <tr>\n",
       "      <th>6</th>\n",
       "      <td>New Super Mario Bros.</td>\n",
       "      <td>DS</td>\n",
       "      <td>2006.0</td>\n",
       "      <td>Platform</td>\n",
       "      <td>11.28</td>\n",
       "      <td>9.14</td>\n",
       "      <td>6.50</td>\n",
       "      <td>2.88</td>\n",
       "      <td>89.0</td>\n",
       "      <td>8.5</td>\n",
       "      <td>E</td>\n",
       "    </tr>\n",
       "    <tr>\n",
       "      <th>7</th>\n",
       "      <td>Wii Play</td>\n",
       "      <td>Wii</td>\n",
       "      <td>2006.0</td>\n",
       "      <td>Misc</td>\n",
       "      <td>13.96</td>\n",
       "      <td>9.18</td>\n",
       "      <td>2.93</td>\n",
       "      <td>2.84</td>\n",
       "      <td>58.0</td>\n",
       "      <td>6.6</td>\n",
       "      <td>E</td>\n",
       "    </tr>\n",
       "    <tr>\n",
       "      <th>8</th>\n",
       "      <td>New Super Mario Bros. Wii</td>\n",
       "      <td>Wii</td>\n",
       "      <td>2009.0</td>\n",
       "      <td>Platform</td>\n",
       "      <td>14.44</td>\n",
       "      <td>6.94</td>\n",
       "      <td>4.70</td>\n",
       "      <td>2.24</td>\n",
       "      <td>87.0</td>\n",
       "      <td>8.4</td>\n",
       "      <td>E</td>\n",
       "    </tr>\n",
       "    <tr>\n",
       "      <th>9</th>\n",
       "      <td>Duck Hunt</td>\n",
       "      <td>NES</td>\n",
       "      <td>1984.0</td>\n",
       "      <td>Shooter</td>\n",
       "      <td>26.93</td>\n",
       "      <td>0.63</td>\n",
       "      <td>0.28</td>\n",
       "      <td>0.47</td>\n",
       "      <td>NaN</td>\n",
       "      <td>NaN</td>\n",
       "      <td>NaN</td>\n",
       "    </tr>\n",
       "  </tbody>\n",
       "</table>\n",
       "</div>"
      ],
      "text/plain": [
       "                  games_name platform  year_of_release         genre  \\\n",
       "0                 Wii Sports      Wii           2006.0        Sports   \n",
       "1          Super Mario Bros.      NES           1985.0      Platform   \n",
       "2             Mario Kart Wii      Wii           2008.0        Racing   \n",
       "3          Wii Sports Resort      Wii           2009.0        Sports   \n",
       "4   Pokemon Red/Pokemon Blue       GB           1996.0  Role-Playing   \n",
       "5                     Tetris       GB           1989.0        Puzzle   \n",
       "6      New Super Mario Bros.       DS           2006.0      Platform   \n",
       "7                   Wii Play      Wii           2006.0          Misc   \n",
       "8  New Super Mario Bros. Wii      Wii           2009.0      Platform   \n",
       "9                  Duck Hunt      NES           1984.0       Shooter   \n",
       "\n",
       "   na_sales  eu_sales  jp_sales  other_sales  critic_score  user_score rating  \n",
       "0     41.36     28.96      3.77         8.45          76.0         8.0      E  \n",
       "1     29.08      3.58      6.81         0.77           NaN         NaN    NaN  \n",
       "2     15.68     12.76      3.79         3.29          82.0         8.3      E  \n",
       "3     15.61     10.93      3.28         2.95          80.0         8.0      E  \n",
       "4     11.27      8.89     10.22         1.00           NaN         NaN    NaN  \n",
       "5     23.20      2.26      4.22         0.58           NaN         NaN    NaN  \n",
       "6     11.28      9.14      6.50         2.88          89.0         8.5      E  \n",
       "7     13.96      9.18      2.93         2.84          58.0         6.6      E  \n",
       "8     14.44      6.94      4.70         2.24          87.0         8.4      E  \n",
       "9     26.93      0.63      0.28         0.47           NaN         NaN    NaN  "
      ]
     },
     "execution_count": 12,
     "metadata": {},
     "output_type": "execute_result"
    }
   ],
   "source": [
    "#Muestra del DataFrame con los cambios aplicados, tanto tipo de dato, mayusculas, y cambio de nombre en columnas como name a games_name.\n",
    "\n",
    "df_games.info()\n",
    "df_games.head(10)"
   ]
  },
  {
   "cell_type": "code",
   "execution_count": 13,
   "metadata": {},
   "outputs": [
    {
     "name": "stdout",
     "output_type": "stream",
     "text": [
      "Número de filas duplicadas: 0\n"
     ]
    }
   ],
   "source": [
    "#verificación de duplicados.\n",
    "\n",
    "duplicated_rows = df_games.duplicated().sum()\n",
    "print(f\"Número de filas duplicadas: {duplicated_rows}\")\n"
   ]
  },
  {
   "cell_type": "code",
   "execution_count": 14,
   "metadata": {},
   "outputs": [
    {
     "name": "stdout",
     "output_type": "stream",
     "text": [
      "['Wii' 'NES' 'GB' 'DS' 'X360' 'PS3' 'PS2' 'SNES' 'GBA' 'PS4' '3DS' 'N64'\n",
      " 'PS' 'XB' 'PC' '2600' 'PSP' 'XOne' 'WiiU' 'GC' 'GEN' 'DC' 'PSV' 'SAT'\n",
      " 'SCD' 'WS' 'NG' 'TG16' '3DO' 'GG' 'PCFX']\n"
     ]
    }
   ],
   "source": [
    "#valores únicos de la columna 'platform'\n",
    "\n",
    "print(df_games['platform'].unique())"
   ]
  },
  {
   "cell_type": "code",
   "execution_count": 15,
   "metadata": {},
   "outputs": [
    {
     "name": "stdout",
     "output_type": "stream",
     "text": [
      "0    Wii\n",
      "1    NES\n",
      "2    Wii\n",
      "3    Wii\n",
      "4     GB\n",
      "Name: platform, dtype: category\n",
      "Categories (31, object): ['2600', '3DO', '3DS', 'DC', ..., 'WiiU', 'X360', 'XB', 'XOne']\n"
     ]
    }
   ],
   "source": [
    "#converti 'platform' de columna de string a columna categórica usando el método astype()\n",
    "\n",
    "df_games['platform'] = df_games['platform'].astype('category')\n",
    "print(df_games['platform'].head())"
   ]
  },
  {
   "cell_type": "code",
   "execution_count": null,
   "metadata": {},
   "outputs": [],
   "source": []
  },
  {
   "cell_type": "code",
   "execution_count": 16,
   "metadata": {},
   "outputs": [
    {
     "name": "stdout",
     "output_type": "stream",
     "text": [
      "[8.  nan 8.3 8.5 6.6 8.4 8.6 7.7 6.3 7.4 8.2 9.  7.9 8.1 8.7 7.1 3.4 5.3\n",
      " 4.8 3.2 8.9 6.4 7.8 7.5 2.6 7.2 9.2 7.  7.3 4.3 7.6 5.7 5.  9.1 6.5 8.8\n",
      " 6.9 9.4 6.8 6.1 6.7 5.4 4.  4.9 4.5 9.3 6.2 4.2 6.  3.7 4.1 5.8 5.6 5.5\n",
      " 4.4 4.6 5.9 3.9 3.1 2.9 5.2 3.3 4.7 5.1 3.5 2.5 1.9 3.  2.7 2.2 2.  9.5\n",
      " 2.1 3.6 2.8 1.8 3.8 0.  1.6 9.6 2.4 1.7 1.1 0.3 1.5 0.7 1.2 2.3 0.5 1.3\n",
      " 0.2 0.6 1.4 0.9 1.  9.7]\n"
     ]
    }
   ],
   "source": [
    "# Cambiar 'TBD' a NaN en la columna 'user_score' ya que tener la abreviatura significa lo mismo que un valor ausente, no cuento con la informacion.\n",
    "\n",
    "print(df_games['user_score'].unique())"
   ]
  },
  {
   "cell_type": "code",
   "execution_count": 17,
   "metadata": {},
   "outputs": [],
   "source": [
    "df_games['user_score'] = df_games['user_score'].replace('tbd', np.nan)\n"
   ]
  },
  {
   "cell_type": "code",
   "execution_count": 18,
   "metadata": {},
   "outputs": [
    {
     "name": "stdout",
     "output_type": "stream",
     "text": [
      "9125\n"
     ]
    }
   ],
   "source": [
    "print(df_games['user_score'].isnull().sum()) #total de valores nulos en la columna user_score."
   ]
  },
  {
   "cell_type": "code",
   "execution_count": 19,
   "metadata": {},
   "outputs": [
    {
     "name": "stdout",
     "output_type": "stream",
     "text": [
      "[8.  nan 8.3 8.5 6.6 8.4 8.6 7.7 6.3 7.4 8.2 9.  7.9 8.1 8.7 7.1 3.4 5.3\n",
      " 4.8 3.2 8.9 6.4 7.8 7.5 2.6 7.2 9.2 7.  7.3 4.3 7.6 5.7 5.  9.1 6.5 8.8\n",
      " 6.9 9.4 6.8 6.1 6.7 5.4 4.  4.9 4.5 9.3 6.2 4.2 6.  3.7 4.1 5.8 5.6 5.5\n",
      " 4.4 4.6 5.9 3.9 3.1 2.9 5.2 3.3 4.7 5.1 3.5 2.5 1.9 3.  2.7 2.2 2.  9.5\n",
      " 2.1 3.6 2.8 1.8 3.8 0.  1.6 9.6 2.4 1.7 1.1 0.3 1.5 0.7 1.2 2.3 0.5 1.3\n",
      " 0.2 0.6 1.4 0.9 1.  9.7]\n"
     ]
    }
   ],
   "source": [
    "print(df_games['user_score'].unique()) #Se ha modificado la abreviatura tbd a nan."
   ]
  },
  {
   "cell_type": "code",
   "execution_count": 20,
   "metadata": {},
   "outputs": [
    {
     "name": "stdout",
     "output_type": "stream",
     "text": [
      "games_name          0.011965\n",
      "platform            0.000000\n",
      "year_of_release     1.609333\n",
      "genre               0.011965\n",
      "na_sales            0.000000\n",
      "eu_sales            0.000000\n",
      "jp_sales            0.000000\n",
      "other_sales         0.000000\n",
      "critic_score       51.319174\n",
      "user_score         54.591684\n",
      "rating             40.478612\n",
      "dtype: float64\n"
     ]
    }
   ],
   "source": [
    "#porcentaje de valores ausentes, las columnas de critic_score 51.319174 y user_score 54.591684 presentan un 50% de valores ausentes, puede que algunos juegos no fueran evaluados..\n",
    "\n",
    "\n",
    "missing_data = df_games.isnull().mean() * 100\n",
    "print(missing_data)"
   ]
  },
  {
   "cell_type": "code",
   "execution_count": 22,
   "metadata": {},
   "outputs": [
    {
     "name": "stdout",
     "output_type": "stream",
     "text": [
      "critic_score    0\n",
      "user_score      0\n",
      "dtype: int64\n"
     ]
    }
   ],
   "source": [
    "# Rellenar valores nulos en 'critic_score' y 'user_score' con la mediana\n",
    "\n",
    "df_games['critic_score'].fillna(df_games['critic_score'].median(), inplace=True)\n",
    "df_games['user_score'].fillna(df_games['user_score'].median(), inplace=True)\n",
    "\n",
    "\n",
    "# Verifica si hay valores nulos restantes\n",
    "print(df_games[['critic_score', 'user_score']].isnull().sum())"
   ]
  },
  {
   "cell_type": "code",
   "execution_count": 23,
   "metadata": {},
   "outputs": [
    {
     "name": "stdout",
     "output_type": "stream",
     "text": [
      "games_name          0.011965\n",
      "platform            0.000000\n",
      "year_of_release     1.609333\n",
      "genre               0.011965\n",
      "na_sales            0.000000\n",
      "eu_sales            0.000000\n",
      "jp_sales            0.000000\n",
      "other_sales         0.000000\n",
      "critic_score        0.000000\n",
      "user_score          0.000000\n",
      "rating             40.478612\n",
      "dtype: float64\n"
     ]
    }
   ],
   "source": [
    "#porcentaje de valores ausentes, las columnas de critic_score 51.319174 y user_score 54.591684 presentan un 50% de valores ausentes, puede que algunos juegos no fueran evaluados..\n",
    "\n",
    "\n",
    "missing_data = df_games.isnull().mean() * 100\n",
    "print(missing_data)"
   ]
  },
  {
   "cell_type": "code",
   "execution_count": 24,
   "metadata": {},
   "outputs": [
    {
     "name": "stdout",
     "output_type": "stream",
     "text": [
      "                  games_name platform  year_of_release         genre  \\\n",
      "0                 Wii Sports      Wii           2006.0        Sports   \n",
      "1          Super Mario Bros.      NES           1985.0      Platform   \n",
      "2             Mario Kart Wii      Wii           2008.0        Racing   \n",
      "3          Wii Sports Resort      Wii           2009.0        Sports   \n",
      "4   Pokemon Red/Pokemon Blue       GB           1996.0  Role-Playing   \n",
      "5                     Tetris       GB           1989.0        Puzzle   \n",
      "6      New Super Mario Bros.       DS           2006.0      Platform   \n",
      "7                   Wii Play      Wii           2006.0          Misc   \n",
      "8  New Super Mario Bros. Wii      Wii           2009.0      Platform   \n",
      "9                  Duck Hunt      NES           1984.0       Shooter   \n",
      "\n",
      "   na_sales  eu_sales  jp_sales  other_sales  critic_score  user_score rating  \\\n",
      "0     41.36     28.96      3.77         8.45          76.0         8.0      E   \n",
      "1     29.08      3.58      6.81         0.77          71.0         7.5    NaN   \n",
      "2     15.68     12.76      3.79         3.29          82.0         8.3      E   \n",
      "3     15.61     10.93      3.28         2.95          80.0         8.0      E   \n",
      "4     11.27      8.89     10.22         1.00          71.0         7.5    NaN   \n",
      "5     23.20      2.26      4.22         0.58          71.0         7.5    NaN   \n",
      "6     11.28      9.14      6.50         2.88          89.0         8.5      E   \n",
      "7     13.96      9.18      2.93         2.84          58.0         6.6      E   \n",
      "8     14.44      6.94      4.70         2.24          87.0         8.4      E   \n",
      "9     26.93      0.63      0.28         0.47          71.0         7.5    NaN   \n",
      "\n",
      "   total_sales  \n",
      "0        82.54  \n",
      "1        40.24  \n",
      "2        35.52  \n",
      "3        32.77  \n",
      "4        31.38  \n",
      "5        30.26  \n",
      "6        29.80  \n",
      "7        28.91  \n",
      "8        28.32  \n",
      "9        28.31  \n"
     ]
    }
   ],
   "source": [
    "#Calcula las ventas totales (la suma de las ventas en todas las regiones) para cada juego y coloca estos valores en una columna separada.\n",
    "\n",
    "df_games['total_sales'] = df_games['na_sales'] + df_games['eu_sales'] + df_games['jp_sales'] + df_games['other_sales']\n",
    "df_games= df_games.sort_values(by='total_sales', ascending=False)\n",
    "print(df_games.head(10))\n",
    "                                                                                 "
   ]
  },
  {
   "cell_type": "code",
   "execution_count": 25,
   "metadata": {},
   "outputs": [
    {
     "name": "stdout",
     "output_type": "stream",
     "text": [
      "                  games_name platform  year_of_release         genre  \\\n",
      "0                 Wii Sports      Wii           2006.0        Sports   \n",
      "1          Super Mario Bros.      NES           1985.0      Platform   \n",
      "2             Mario Kart Wii      Wii           2008.0        Racing   \n",
      "3          Wii Sports Resort      Wii           2009.0        Sports   \n",
      "4   Pokemon Red/Pokemon Blue       GB           1996.0  Role-Playing   \n",
      "5                     Tetris       GB           1989.0        Puzzle   \n",
      "6      New Super Mario Bros.       DS           2006.0      Platform   \n",
      "7                   Wii Play      Wii           2006.0          Misc   \n",
      "8  New Super Mario Bros. Wii      Wii           2009.0      Platform   \n",
      "9                  Duck Hunt      NES           1984.0       Shooter   \n",
      "\n",
      "   na_sales  eu_sales  jp_sales  other_sales  critic_score  user_score rating  \\\n",
      "0     41.36     28.96      3.77         8.45          76.0         8.0      E   \n",
      "1     29.08      3.58      6.81         0.77          71.0         7.5    NaN   \n",
      "2     15.68     12.76      3.79         3.29          82.0         8.3      E   \n",
      "3     15.61     10.93      3.28         2.95          80.0         8.0      E   \n",
      "4     11.27      8.89     10.22         1.00          71.0         7.5    NaN   \n",
      "5     23.20      2.26      4.22         0.58          71.0         7.5    NaN   \n",
      "6     11.28      9.14      6.50         2.88          89.0         8.5      E   \n",
      "7     13.96      9.18      2.93         2.84          58.0         6.6      E   \n",
      "8     14.44      6.94      4.70         2.24          87.0         8.4      E   \n",
      "9     26.93      0.63      0.28         0.47          71.0         7.5    NaN   \n",
      "\n",
      "   total_sales  average_sales  \n",
      "0        82.54        20.6350  \n",
      "1        40.24        10.0600  \n",
      "2        35.52         8.8800  \n",
      "3        32.77         8.1925  \n",
      "4        31.38         7.8450  \n",
      "5        30.26         7.5650  \n",
      "6        29.80         7.4500  \n",
      "7        28.91         7.2275  \n",
      "8        28.32         7.0800  \n",
      "9        28.31         7.0775  \n"
     ]
    }
   ],
   "source": [
    "df_games['average_sales'] = (df_games['total_sales']) / 4\n",
    "\n",
    "df_games= df_games.sort_values(by=['average_sales', 'total_sales'], ascending=False)\n",
    "\n",
    "print(df_games.head(10))"
   ]
  },
  {
   "cell_type": "markdown",
   "metadata": {},
   "source": [
    "### Analiza los datos"
   ]
  },
  {
   "cell_type": "markdown",
   "metadata": {},
   "source": [
    "* Mira cuántos juegos fueron lanzados en diferentes años. ¿Son significativos los datos de cada período?\n",
    "\n",
    "* Observa cómo varían las ventas de una plataforma a otra. Elige las plataformas con las mayores ventas totales y construye una distribución basada en los datos de cada año. Busca las plataformas que solían ser populares pero que ahora no tienen ventas. ¿Cuánto tardan generalmente las nuevas plataformas en aparecer y las antiguas en desaparecer?\n",
    "\n",
    "* Determina para qué período debes tomar datos. Para hacerlo mira tus respuestas a las preguntas anteriores. Los datos deberían permitirte construir un modelo para 2017.\n",
    "\n",
    "* Trabaja solo con los datos que consideras relevantes. Ignora los datos de años anteriores.\n",
    "\n",
    "* ¿Qué plataformas son líderes en ventas? ¿Cuáles crecen y cuáles se reducen? Elige varias plataformas potencialmente rentables.\n",
    "\n",
    "* Crea un diagrama de caja para las ventas globales de todos los juegos, desglosados por plataforma. ¿Son significativas las diferencias en las ventas? ¿Qué sucede con las ventas promedio en varias plataformas? Describe tus hallazgos.\n",
    "\n",
    "* Mira cómo las reseñas de usuarios y profesionales afectan las ventas de una plataforma popular (tu elección). Crea un gráfico de dispersión y calcula la correlación entre las reseñas y las ventas. Saca conclusiones.\n",
    "\n",
    "* Teniendo en cuenta tus conclusiones compara las ventas de los mismos juegos en otras plataformas.\n",
    "\n",
    "* Echa un vistazo a la distribución general de los juegos por género. ¿Qué se puede decir de los géneros más rentables? ¿Puedes generalizar acerca de los géneros con ventas altas y bajas?\n"
   ]
  },
  {
   "cell_type": "code",
   "execution_count": 26,
   "metadata": {},
   "outputs": [
    {
     "data": {
      "text/plain": [
       "platform\n",
       "2600      96.98\n",
       "3DO        0.10\n",
       "3DS      259.00\n",
       "DC        15.95\n",
       "DS       806.12\n",
       "GB       255.46\n",
       "GBA      317.85\n",
       "GC       198.93\n",
       "GEN       30.77\n",
       "GG         0.04\n",
       "N64      218.68\n",
       "NES      251.05\n",
       "NG         1.44\n",
       "PC       259.52\n",
       "PCFX       0.03\n",
       "PS       730.86\n",
       "PS2     1255.77\n",
       "PS3      939.65\n",
       "PS4      314.14\n",
       "PSP      294.05\n",
       "PSV       54.07\n",
       "SAT       33.59\n",
       "SCD        1.86\n",
       "SNES     200.04\n",
       "TG16       0.16\n",
       "WS         1.42\n",
       "Wii      907.51\n",
       "WiiU      82.19\n",
       "X360     971.42\n",
       "XB       257.74\n",
       "XOne     159.32\n",
       "Name: total_sales, dtype: float64"
      ]
     },
     "execution_count": 26,
     "metadata": {},
     "output_type": "execute_result"
    }
   ],
   "source": [
    "#Ventas por plataforma\n",
    "\n",
    "sales_by_platform = df_games.groupby('platform')['total_sales'].sum()\n",
    "sales_by_platform"
   ]
  },
  {
   "cell_type": "code",
   "execution_count": 27,
   "metadata": {},
   "outputs": [
    {
     "name": "stdout",
     "output_type": "stream",
     "text": [
      "1980.0 2016.0\n"
     ]
    }
   ],
   "source": [
    "print(df_games['year_of_release'].min(), df_games['year_of_release'].max())"
   ]
  },
  {
   "cell_type": "code",
   "execution_count": 28,
   "metadata": {},
   "outputs": [
    {
     "name": "stdout",
     "output_type": "stream",
     "text": [
      "1980.0       9\n",
      "1981.0      46\n",
      "1982.0      36\n",
      "1983.0      17\n",
      "1984.0      14\n",
      "1985.0      14\n",
      "1986.0      21\n",
      "1987.0      16\n",
      "1988.0      15\n",
      "1989.0      17\n",
      "1990.0      16\n",
      "1991.0      41\n",
      "1992.0      43\n",
      "1993.0      62\n",
      "1994.0     121\n",
      "1995.0     219\n",
      "1996.0     263\n",
      "1997.0     289\n",
      "1998.0     379\n",
      "1999.0     338\n",
      "2000.0     350\n",
      "2001.0     482\n",
      "2002.0     829\n",
      "2003.0     775\n",
      "2004.0     762\n",
      "2005.0     939\n",
      "2006.0    1006\n",
      "2007.0    1197\n",
      "2008.0    1427\n",
      "2009.0    1426\n",
      "2010.0    1255\n",
      "2011.0    1136\n",
      "2012.0     653\n",
      "2013.0     544\n",
      "2014.0     581\n",
      "2015.0     606\n",
      "2016.0     502\n",
      "Name: year_of_release, dtype: int64\n"
     ]
    }
   ],
   "source": [
    "#Total de juegos lanzados en diferentes años.\n",
    "\n",
    "games_per_year = df_games['year_of_release'].value_counts().sort_index()  \n",
    "\n",
    "print(games_per_year)"
   ]
  },
  {
   "cell_type": "code",
   "execution_count": 29,
   "metadata": {},
   "outputs": [
    {
     "data": {
      "image/png": "[encoded data removed]",
      "text/plain": [
       "<Figure size 1200x600 with 1 Axes>"
      ]
     },
     "metadata": {},
     "output_type": "display_data"
    }
   ],
   "source": [
    "# Graficar el número de juegos lanzados por año\n",
    "\n",
    "plt.figure(figsize=(12, 6))\n",
    "games_per_year.plot(kind='bar')\n",
    "plt.title('Número de juegos lanzados por año')\n",
    "plt.xlabel('Año de Lanzamiento')\n",
    "plt.ylabel('Número de Juegos')\n",
    "plt.xticks(rotation=45)\n",
    "plt.show()"
   ]
  },
  {
   "cell_type": "code",
   "execution_count": 30,
   "metadata": {},
   "outputs": [],
   "source": [
    "#plataformas líderes en ventas"
   ]
  },
  {
   "cell_type": "code",
   "execution_count": 31,
   "metadata": {},
   "outputs": [],
   "source": [
    "sales_by_platform = df_games.groupby('platform')[['na_sales', 'eu_sales', 'jp_sales', 'other_sales', 'total_sales']].sum()"
   ]
  },
  {
   "cell_type": "code",
   "execution_count": 32,
   "metadata": {},
   "outputs": [
    {
     "name": "stdout",
     "output_type": "stream",
     "text": [
      "          na_sales  eu_sales  jp_sales  other_sales  total_sales\n",
      "platform                                                        \n",
      "PS2         583.84    339.29    139.20       193.44      1255.77\n",
      "X360        602.47    270.76     12.43        85.76       971.42\n",
      "PS3         393.49    330.29     80.19       135.68       939.65\n",
      "Wii         496.90    262.21     69.33        79.07       907.51\n",
      "DS          382.40    188.89    175.57        59.26       806.12\n",
      "PS          336.52    213.61    139.82        40.91       730.86\n",
      "GBA         187.54     75.25     47.33         7.73       317.85\n",
      "PS4         108.74    141.09     15.96        48.35       314.14\n",
      "PSP         109.17     66.68     76.78        41.42       294.05\n",
      "PC           94.53    142.44      0.17        22.38       259.52\n"
     ]
    }
   ],
   "source": [
    "top_platforms = sales_by_platform.sort_values('total_sales', ascending=False).head(10)\n",
    "print(top_platforms)"
   ]
  },
  {
   "cell_type": "code",
   "execution_count": null,
   "metadata": {},
   "outputs": [],
   "source": []
  },
  {
   "cell_type": "code",
   "execution_count": 33,
   "metadata": {},
   "outputs": [
    {
     "data": {
      "text/plain": [
       "<Figure size 1200x600 with 0 Axes>"
      ]
     },
     "metadata": {},
     "output_type": "display_data"
    },
    {
     "data": {
      "image/png": "[encoded data removed]",
      "text/plain": [
       "<Figure size 640x480 with 1 Axes>"
      ]
     },
     "metadata": {},
     "output_type": "display_data"
    }
   ],
   "source": [
    "# Filtrar el dataframe para incluir solo las plataformas que estamos analizando\n",
    "\n",
    "top_platforms_list = top_platforms.index.tolist()\n",
    "df_top_platforms = df_games[df_games['platform'].isin(top_platforms_list)]\n",
    "\n",
    "# Filtrar los datos para incluir solo los años entre 2005 y 2011\n",
    "df_top_platforms = df_top_platforms[(df_top_platforms['year_of_release'] >= 2005) & (df_top_platforms['year_of_release'] <= 2011)]\n",
    "\n",
    "# Crear una tabla dinámica para ventas por año y plataforma\n",
    "sales_distribution = df_top_platforms.pivot_table(index='year_of_release', columns='platform', values='total_sales', aggfunc='sum', fill_value=0)\n",
    "\n",
    "# Graficar la distribución de las ventas por plataforma\n",
    "plt.figure(figsize=(12, 6))\n",
    "sales_distribution.plot(kind='bar', stacked=True)\n",
    "plt.title('Distribución de ventas por plataforma por año')\n",
    "plt.xlabel('Año de Lanzamiento')\n",
    "plt.ylabel('Ventas Totales (Millones)')\n",
    "plt.legend(title='Plataforma')\n",
    "plt.show()"
   ]
  },
  {
   "cell_type": "code",
   "execution_count": null,
   "metadata": {},
   "outputs": [],
   "source": []
  },
  {
   "cell_type": "code",
   "execution_count": 34,
   "metadata": {},
   "outputs": [
    {
     "name": "stdout",
     "output_type": "stream",
     "text": [
      "platform\n",
      "2600    0.0\n",
      "3DO     0.0\n",
      "DC      0.0\n",
      "GB      0.0\n",
      "GBA     0.0\n",
      "GC      0.0\n",
      "GEN     0.0\n",
      "GG      0.0\n",
      "N64     0.0\n",
      "NES     0.0\n",
      "NG      0.0\n",
      "PCFX    0.0\n",
      "PS      0.0\n",
      "SAT     0.0\n",
      "SCD     0.0\n",
      "SNES    0.0\n",
      "TG16    0.0\n",
      "WS      0.0\n",
      "XB      0.0\n",
      "Name: total_sales, dtype: float64\n"
     ]
    }
   ],
   "source": [
    "# Mostrar plataformas que tenían ventas en el pasado pero no generan ventas actualmente\n",
    "\n",
    "platforms_no_sales = df_games.groupby('platform').filter(lambda x: x['total_sales'].sum() > 0)\n",
    "platforms_no_sales = platforms_no_sales.loc[platforms_no_sales['year_of_release'] >= 2010].groupby('platform')['total_sales'].sum()\n",
    "\n",
    "# Filtrar plataformas sin ventas en años recientes\n",
    "\n",
    "no_sales_recent = platforms_no_sales[platforms_no_sales == 0]\n",
    "print(no_sales_recent)"
   ]
  },
  {
   "cell_type": "code",
   "execution_count": null,
   "metadata": {},
   "outputs": [],
   "source": []
  },
  {
   "cell_type": "code",
   "execution_count": 35,
   "metadata": {},
   "outputs": [
    {
     "name": "stdout",
     "output_type": "stream",
     "text": [
      "             min     max  lifespan\n",
      "platform                          \n",
      "PC        1985.0  2016.0      31.0\n",
      "DS        1985.0  2013.0      28.0\n",
      "GB        1988.0  2001.0      13.0\n",
      "X360      2005.0  2016.0      11.0\n",
      "PSP       2004.0  2015.0      11.0\n",
      "PS2       2000.0  2011.0      11.0\n",
      "NES       1983.0  1994.0      11.0\n",
      "DC        1998.0  2008.0      10.0\n",
      "Wii       2006.0  2016.0      10.0\n",
      "PS3       2006.0  2016.0      10.0\n",
      "2600      1980.0  1989.0       9.0\n",
      "SNES      1990.0  1999.0       9.0\n",
      "PS        1994.0  2003.0       9.0\n",
      "XB        2000.0  2008.0       8.0\n",
      "GBA       2000.0  2007.0       7.0\n",
      "GC        2001.0  2007.0       6.0\n",
      "N64       1996.0  2002.0       6.0\n",
      "3DS       2011.0  2016.0       5.0\n",
      "PSV       2011.0  2016.0       5.0\n",
      "SAT       1994.0  1999.0       5.0\n",
      "WiiU      2012.0  2016.0       4.0\n",
      "GEN       1990.0  1994.0       4.0\n",
      "NG        1993.0  1996.0       3.0\n",
      "XOne      2013.0  2016.0       3.0\n",
      "PS4       2013.0  2016.0       3.0\n",
      "WS        1999.0  2001.0       2.0\n",
      "3DO       1994.0  1995.0       1.0\n",
      "SCD       1993.0  1994.0       1.0\n",
      "TG16      1995.0  1995.0       0.0\n",
      "PCFX      1996.0  1996.0       0.0\n",
      "GG        1992.0  1992.0       0.0\n"
     ]
    }
   ],
   "source": [
    "# Encontrar el primer y último año de ventas por plataforma\n",
    "first_last_year = df_games.groupby('platform')['year_of_release'].agg(['min', 'max'])\n",
    "\n",
    "# Calcular el tiempo que tardan en desaparecer\n",
    "first_last_year['lifespan'] = first_last_year['max'] - first_last_year['min']\n",
    "\n",
    "# Mostrar plataformas con su tiempo de vida\n",
    "print(first_last_year.sort_values('lifespan', ascending=False))"
   ]
  },
  {
   "cell_type": "code",
   "execution_count": 36,
   "metadata": {},
   "outputs": [],
   "source": [
    "#Crea un diagrama de caja para las ventas globales de todos los juegos, desglosados por plataforma. ¿Son significativas las diferencias en las ventas? ¿Qué sucede con las ventas promedio en varias plataformas? Describe tus hallazgos."
   ]
  },
  {
   "cell_type": "code",
   "execution_count": 37,
   "metadata": {},
   "outputs": [
    {
     "data": {
      "image/png": "[encoded data removed]",
      "text/plain": [
       "<Figure size 1200x600 with 1 Axes>"
      ]
     },
     "metadata": {},
     "output_type": "display_data"
    }
   ],
   "source": [
    "# Crear el diagrama de caja\n",
    "plt.figure(figsize=(12, 6))\n",
    "sns.boxplot(x='platform', y='total_sales', data=df_games)\n",
    "plt.title('Diagrama de Caja de Ventas Globales por Plataforma')\n",
    "plt.xlabel('Plataforma')\n",
    "plt.ylabel('Ventas Globales (Millones)')\n",
    "plt.xticks(rotation=45)\n",
    "plt.show()"
   ]
  },
  {
   "cell_type": "markdown",
   "metadata": {},
   "source": [
    "Análisis de Ventas Promedio\n",
    "Finalmente, puedes calcular las ventas promedio por plataforma para tener una idea más clara de cómo se comparan:"
   ]
  },
  {
   "cell_type": "code",
   "execution_count": 38,
   "metadata": {},
   "outputs": [
    {
     "name": "stdout",
     "output_type": "stream",
     "text": [
      "Ventas promedio por plataforma:\n",
      " platform\n",
      "GB      2.606735\n",
      "NES     2.561735\n",
      "GEN     1.061034\n",
      "SNES    0.836987\n",
      "PS4     0.801378\n",
      "X360    0.769746\n",
      "2600    0.729173\n",
      "PS3     0.705973\n",
      "Wii     0.687508\n",
      "N64     0.685517\n",
      "XOne    0.645020\n",
      "PS      0.610576\n",
      "PS2     0.581106\n",
      "WiiU    0.559116\n",
      "3DS     0.498077\n",
      "GBA     0.386679\n",
      "DS      0.374765\n",
      "GC      0.357788\n",
      "XB      0.312791\n",
      "SCD     0.310000\n",
      "DC      0.306731\n",
      "PC      0.266448\n",
      "PSP     0.243218\n",
      "WS      0.236667\n",
      "SAT     0.194162\n",
      "PSV     0.125744\n",
      "NG      0.120000\n",
      "TG16    0.080000\n",
      "GG      0.040000\n",
      "3DO     0.033333\n",
      "PCFX    0.030000\n",
      "Name: total_sales, dtype: float64\n"
     ]
    }
   ],
   "source": [
    "# Calcular ventas promedio por plataforma\n",
    "average_sales_by_platform = df_games.groupby('platform')['total_sales'].mean().sort_values(ascending=False)\n",
    "print(\"Ventas promedio por plataforma:\\n\", average_sales_by_platform)"
   ]
  },
  {
   "cell_type": "markdown",
   "metadata": {},
   "source": [
    "Las ventas promedio por plataforma ayudara a comprender mejor cuál es más rentable o popular en términos de ingresos. Las plataformas con ventas promedio significativamente más altas pueden indicar un mejor desempeño en el mercado."
   ]
  },
  {
   "cell_type": "code",
   "execution_count": 39,
   "metadata": {},
   "outputs": [],
   "source": [
    "#Teniendo en cuenta tus conclusiones compara las ventas de los mismos juegos en otras plataformas."
   ]
  },
  {
   "cell_type": "code",
   "execution_count": 40,
   "metadata": {},
   "outputs": [
    {
     "data": {
      "text/plain": [
       "games_name\n",
       " Beyblade Burst                 1\n",
       " Fire Emblem Fates              1\n",
       " Frozen: Olaf's Quest           2\n",
       " Haikyu!! Cross Team Match!     1\n",
       " Tales of Xillia 2              1\n",
       "                               ..\n",
       "thinkSMART: Chess for Kids      1\n",
       "uDraw Studio                    1\n",
       "uDraw Studio: Instant Artist    2\n",
       "wwe Smackdown vs. Raw 2006      1\n",
       "¡Shin Chan Flipa en colores!    1\n",
       "Name: platform, Length: 11559, dtype: int64"
      ]
     },
     "execution_count": 40,
     "metadata": {},
     "output_type": "execute_result"
    }
   ],
   "source": [
    "# Contar cuántas plataformas tiene cada juego\n",
    "platform_counts = df_games.groupby('games_name')['platform'].nunique()\n",
    "platform_counts"
   ]
  },
  {
   "cell_type": "code",
   "execution_count": 41,
   "metadata": {},
   "outputs": [
    {
     "data": {
      "text/plain": [
       "[\" Frozen: Olaf's Quest\",\n",
       " '007: Quantum of Solace',\n",
       " '007: The World is not Enough',\n",
       " '11eyes: CrossOver',\n",
       " '18 Wheeler: American Pro Trucker',\n",
       " '187: Ride or Die',\n",
       " '2 in 1 Combo Pack: Sonic Heroes / Super Monkey Ball Deluxe',\n",
       " '2002 FIFA World Cup',\n",
       " '2010 FIFA World Cup South Africa',\n",
       " '2014 FIFA World Cup Brazil',\n",
       " '25 to Life',\n",
       " '3rd Super Robot Wars Z Jigoku Hen',\n",
       " '3rd Super Robot Wars Z: Tengoku-Hen',\n",
       " '428: Fuusa Sareta Shibuya de',\n",
       " '4x4 EVO 2',\n",
       " '50 Cent: Blood on the Sand',\n",
       " '50 Cent: Bulletproof',\n",
       " '50 Classic Games',\n",
       " '7 Days to Die',\n",
       " '7 Wonders of the Ancient World',\n",
       " \"A Bug's Life\",\n",
       " 'AC/DC LIVE: Rock Band Track Pack',\n",
       " 'AKB1/149: Love Election',\n",
       " 'AKB1/48: Idol to Guam de Koishitara...',\n",
       " 'AMF Bowling Pinbusters!',\n",
       " 'ATV Quad Kings',\n",
       " 'ATV Quad Power Racing 2',\n",
       " 'ATV: Quad Power Racing',\n",
       " 'Abunai: Koi no Sousa Shitsu',\n",
       " 'Accel World: Ginyoku no Kakusei',\n",
       " 'Accel World: Kasoku no Chouten',\n",
       " 'Ace Combat: Assault Horizon',\n",
       " 'Activision Anthology',\n",
       " \"Adventure Time: Explore the Dungeon Because I Don't Know!\",\n",
       " 'Adventure Time: Finn & Jake Investigations',\n",
       " 'Adventure Time: The Secret of the Nameless ',\n",
       " 'Adventure Time: The Secret of the Nameless Kingdom',\n",
       " 'Aegis of Earth: Protonovus Assault',\n",
       " 'Aeon Flux',\n",
       " 'Afro Samurai',\n",
       " \"Agatha Christie's The ABC Murders\",\n",
       " 'Agatha Christie: The ABC Murders',\n",
       " 'Aggressive Inline',\n",
       " 'Air Conflicts: Secret Wars',\n",
       " 'AirForce Delta Storm',\n",
       " 'Akatsuki no Goei Trinity',\n",
       " \"Akiba's Trip: Undead & Undressed\",\n",
       " 'Alan Wake',\n",
       " 'Alias',\n",
       " 'Alice in Wonderland',\n",
       " 'Alice: Madness Returns',\n",
       " 'Alien Hominid',\n",
       " 'Alien Syndrome',\n",
       " 'Alien: Isolation',\n",
       " 'Aliens in the Attic',\n",
       " 'Aliens versus Predator: Extinction',\n",
       " 'Aliens vs Predator',\n",
       " 'Aliens: Colonial Marines',\n",
       " 'All Kamen Rider: Rider Generation 2',\n",
       " 'All Star Cheer Squad',\n",
       " 'All-Pro Football 2K8',\n",
       " 'All-Star Baseball 2002',\n",
       " 'All-Star Baseball 2003',\n",
       " 'All-Star Baseball 2004',\n",
       " 'All-Star Baseball 2005',\n",
       " 'Alone in the Dark',\n",
       " 'Alpha Protocol',\n",
       " 'Alter Echo',\n",
       " 'Alvin and the Chipmunks',\n",
       " 'Alvin and the Chipmunks: Chipwrecked',\n",
       " 'Alvin and the Chipmunks: The Squeakquel',\n",
       " 'Amagami',\n",
       " \"America's Next Top Model\",\n",
       " 'American Chopper',\n",
       " 'American Chopper 2: Full Throttle',\n",
       " 'American Idol',\n",
       " 'Amnesia Later',\n",
       " 'Anarchy Reigns',\n",
       " 'And1 Streetball',\n",
       " 'Angry Birds Star Wars',\n",
       " 'Angry Birds Trilogy',\n",
       " 'Animal Planet: Vet Life',\n",
       " 'Antz Extreme Racing',\n",
       " 'Apache: Air Assault',\n",
       " 'Ape Escape',\n",
       " 'Aquaman: Battle for Atlantis',\n",
       " 'Ar Nosurge: Ode to an Unborn Star',\n",
       " 'Arabians Lost: The Engagement on Desert',\n",
       " 'Arcana Heart 3',\n",
       " 'Arcania: Gothic 4',\n",
       " 'Archer Maclean Presents: Pool Paradise',\n",
       " 'Arctic Tale',\n",
       " 'Arctic Thunder',\n",
       " 'Are You Smarter Than a 5th Grader? Back to School',\n",
       " 'Are You Smarter than a 5th Grader? Game Time',\n",
       " 'Are You Smarter than a 5th Grader? Make the Grade',\n",
       " 'Area 51',\n",
       " 'Arena Football',\n",
       " 'Armored Core 4',\n",
       " 'Armored Core V',\n",
       " 'Armored Core: For Answer',\n",
       " 'Armorines: Project S.W.A.R.M.',\n",
       " 'Army Men: Green Rogue',\n",
       " 'Army Men: RTS',\n",
       " \"Army Men: Sarge's Heroes\",\n",
       " \"Army Men: Sarge's Heroes 2\",\n",
       " \"Army Men: Sarge's War\",\n",
       " 'Army Men: Soldiers of Misfortune',\n",
       " 'Army of Two',\n",
       " 'Army of Two: The 40th Day',\n",
       " \"Army of Two: The Devil's Cartel\",\n",
       " 'Around the World in 80 Days',\n",
       " 'Arslan: The Warriors of Legend',\n",
       " 'Ashes Cricket 2009',\n",
       " \"Assassin's Creed\",\n",
       " \"Assassin's Creed Chronicles\",\n",
       " \"Assassin's Creed II\",\n",
       " \"Assassin's Creed III\",\n",
       " \"Assassin's Creed IV: Black Flag\",\n",
       " \"Assassin's Creed Syndicate\",\n",
       " \"Assassin's Creed The Ezio Collection\",\n",
       " \"Assassin's Creed: Brotherhood\",\n",
       " \"Assassin's Creed: Revelations\",\n",
       " \"Assassin's Creed: Rogue\",\n",
       " \"Assassin's Creed: Unity\",\n",
       " 'Assetto Corsa',\n",
       " 'Asteroids',\n",
       " 'Astro Boy: The Video Game',\n",
       " \"Asura's Wrath\",\n",
       " 'Atari Anthology',\n",
       " 'Atari Flashback Classics: Volume 1',\n",
       " 'Atari Flashback Classics: Volume 2',\n",
       " 'Atelier Ayesha: The Alchemist of Dusk',\n",
       " 'Atelier Escha & Logy: Alchemists of the Dusk Sky',\n",
       " 'Atelier Firis: The Alchemist of the Mysterious Journey',\n",
       " 'Atelier Meruru: Alchemist of Arland 3',\n",
       " 'Atelier Rorona: Alchemist of Arland',\n",
       " 'Atelier Sophie: The Alchemist of the Mysterious Book',\n",
       " 'Atelier Totori: The Adventurer of Arland',\n",
       " 'Attack of the Movies 3D',\n",
       " 'Attack on Titan (KOEI)',\n",
       " 'Auto Modellista',\n",
       " 'Avatar: The Game',\n",
       " 'Avatar: The Last Airbender',\n",
       " 'Avatar: The Last Airbender - Into the Inferno',\n",
       " 'Avatar: The Last Airbender - The Burning Earth',\n",
       " 'BMX XXX',\n",
       " 'Back to the Future: The Game',\n",
       " 'Backbreaker',\n",
       " 'Backyard Baseball',\n",
       " \"Backyard Baseball '09\",\n",
       " \"Backyard Baseball '10\",\n",
       " 'Backyard Hockey',\n",
       " 'Backyard NBA Basketball',\n",
       " 'Backyard NFL Football',\n",
       " \"Backyard NFL Football '09\",\n",
       " \"Backyard NFL Football '10\",\n",
       " 'Backyard NFL Football 2006',\n",
       " 'Backyard Sports Football: Rookie Rush',\n",
       " 'Backyard Sports: Sandlot Sluggers',\n",
       " 'Backyard Wrestling 2: There Goes the Neighborhood',\n",
       " \"Backyard Wrestling: Don't Try This at Home\",\n",
       " 'Bad Boys: Miami Takedown',\n",
       " 'Baja: Edge of Control',\n",
       " 'Bakugan Battle Brawlers: Defenders of the Core',\n",
       " 'Bakugan: Battle Brawlers',\n",
       " 'Bakumatsu Rock: Ultra Soul',\n",
       " \"Baldur's Gate: Dark Alliance\",\n",
       " \"Baldur's Gate: Dark Alliance II\",\n",
       " 'Balloon Pop',\n",
       " 'Balls of Fury',\n",
       " 'Band Hero',\n",
       " 'Banjo-Kazooie',\n",
       " 'Barbie Horse Adventures: Riding Camp',\n",
       " 'Barbie Horse Adventures: Wild Horse Rescue',\n",
       " 'Barbie and Her Sisters Puppy Rescue',\n",
       " 'Barbie and the Three Musketeers',\n",
       " 'Barbie as The Island Princess',\n",
       " 'Barbie: Groom and Glam Pups',\n",
       " 'Barbie: Jet, Set & Style!',\n",
       " 'Barnyard',\n",
       " 'Baroque',\n",
       " 'Baseball',\n",
       " 'Bass Pro Shops: The Hunt',\n",
       " 'Bass Pro Shops: The Strike',\n",
       " 'Batman Begins',\n",
       " 'Batman Beyond: Return of the Joker',\n",
       " 'Batman: A Telltale Game Series',\n",
       " 'Batman: Arkham Asylum',\n",
       " 'Batman: Arkham City',\n",
       " 'Batman: Arkham Knight',\n",
       " 'Batman: Arkham Origins',\n",
       " 'Batman: Arkham Origins Blackgate',\n",
       " 'Batman: Dark Tomorrow',\n",
       " 'Batman: Return to Arkham',\n",
       " 'Batman: Rise of Sin Tzu',\n",
       " 'Batman: The Brave and the Bold the Videogame',\n",
       " 'Batman: Vengeance',\n",
       " 'Battle Engine Aquila',\n",
       " 'Battle Stadium D.O.N',\n",
       " 'Battle vs. Chess',\n",
       " 'Battleborn',\n",
       " 'Battlefield 1',\n",
       " 'Battlefield 2: Modern Combat',\n",
       " 'Battlefield 3',\n",
       " 'Battlefield 4',\n",
       " 'Battlefield: Bad Company',\n",
       " 'Battlefield: Bad Company 2',\n",
       " 'Battlefield: Hardline',\n",
       " 'Battlestar Galactica',\n",
       " 'Battlestations: Midway',\n",
       " 'Battlestations: Pacific',\n",
       " 'Battlezone',\n",
       " 'Bayonetta',\n",
       " 'BeatMania',\n",
       " 'Bee Movie Game',\n",
       " 'Beijing 2008',\n",
       " 'Bejeweled 3',\n",
       " 'Bejeweled Twist',\n",
       " 'Ben 10 Alien Force: Vilgax Attacks',\n",
       " 'Ben 10 Galactic Racing',\n",
       " 'Ben 10 Omniverse 2',\n",
       " 'Ben 10 Ultimate Alien: Cosmic Destruction',\n",
       " 'Ben 10: Alien Force',\n",
       " 'Ben 10: Protector of Earth',\n",
       " 'Beowulf: The Game',\n",
       " 'Berserk and the Band of the Hawk',\n",
       " 'Beyond Good & Evil',\n",
       " \"Big Idea's VeggieTales: LarryBoy and the Bad Apple\",\n",
       " 'Big League Sports',\n",
       " 'Big League Sports: Summer',\n",
       " 'Big Mutha Truckers',\n",
       " 'Big Mutha Truckers 2',\n",
       " 'Bigfoot: Collision Course',\n",
       " 'Biker Mice From Mars',\n",
       " 'Binary Domain',\n",
       " 'Bio FREAKS',\n",
       " 'BioShock',\n",
       " 'BioShock 2',\n",
       " 'BioShock Infinite',\n",
       " 'BioShock The Collection',\n",
       " 'Biohazard: Revival Selection',\n",
       " 'Bionic Commando',\n",
       " 'Bionicle',\n",
       " 'Bionicle Heroes',\n",
       " 'Birds of Steel',\n",
       " 'Black',\n",
       " 'Black & Bruised',\n",
       " 'Blacksite: Area 51',\n",
       " 'Blade Arcus from Shining EX',\n",
       " 'Blade II',\n",
       " 'Blades of Time',\n",
       " 'Bladestorm: Nightmare',\n",
       " \"Bladestorm: The Hundred Years' War\",\n",
       " 'BlazBlue Central Fiction',\n",
       " 'BlazBlue: Calamity Trigger',\n",
       " 'BlazBlue: Chrono Phantasma',\n",
       " 'BlazBlue: Chrono Phantasma Extend',\n",
       " 'BlazBlue: Continuum Shift',\n",
       " 'BlazBlue: Continuum Shift II',\n",
       " 'Blazblue: Continuum Shift Extend',\n",
       " 'Blazing Angels 2: Secret Missions of WWII',\n",
       " 'Blazing Angels: Squadrons of WWII',\n",
       " 'Blitz: The League',\n",
       " 'Blitz: The League II',\n",
       " 'Blood Bowl',\n",
       " 'Blood Drive',\n",
       " 'Blood Omen 2',\n",
       " 'BloodRayne',\n",
       " 'BloodRayne 2',\n",
       " 'BlowOut',\n",
       " 'Blur',\n",
       " 'Bodycount',\n",
       " 'Bolt',\n",
       " 'Bomberman',\n",
       " 'Bomberman Land',\n",
       " 'Boogie',\n",
       " 'Bookworm',\n",
       " 'Borderlands',\n",
       " 'Borderlands 2',\n",
       " 'Borderlands: The Handsome Collection',\n",
       " 'Borderlands: The Pre-Sequel',\n",
       " 'Bottom of the 9th',\n",
       " 'Boxing',\n",
       " 'Bratz Kidz',\n",
       " 'Bratz: Forever Diamondz',\n",
       " 'Bratz: Girlz Really Rock',\n",
       " 'Bratz: Rock Angelz',\n",
       " 'Bratz: The Movie',\n",
       " \"Brave: A Warrior's Tale\",\n",
       " 'Brave: The Video Game',\n",
       " 'Breath of Fire II',\n",
       " 'Breath of Fire III',\n",
       " 'Brink',\n",
       " \"Britney's Dance Beat\",\n",
       " \"Broken Sword 5: The Serpent's Curse\",\n",
       " 'Brothers In Arms: Earned in Blood',\n",
       " 'Brothers In Arms: Road to Hill 30',\n",
       " 'Brothers in Arms: Furious 4',\n",
       " \"Brothers in Arms: Hell's Highway\",\n",
       " 'Brothers: A Tale of Two Sons',\n",
       " 'Brunswick Circuit Pro Bowling',\n",
       " 'Brunswick Pro Bowling',\n",
       " 'Brutal Legend',\n",
       " 'Buffy the Vampire Slayer: Chaos Bleeds',\n",
       " 'Bulletstorm',\n",
       " 'Bully: Scholarship Edition',\n",
       " 'Burger Island',\n",
       " 'Burnout',\n",
       " 'Burnout 2: Point of Impact',\n",
       " 'Burnout 3: Takedown',\n",
       " 'Burnout Legends',\n",
       " 'Burnout Paradise',\n",
       " 'Burnout Paradise: The Ultimate Box',\n",
       " 'Burnout Revenge',\n",
       " \"Bust-A-Move '99\",\n",
       " 'Bust-A-Move 2 Arcade Edition',\n",
       " 'Busy Scissors',\n",
       " 'CID The Dummy',\n",
       " 'CSI: Deadly Intent',\n",
       " 'CSI: Fatal Conspiracy',\n",
       " 'CSI: Hard Evidence',\n",
       " \"Cabela's Adventure Camp\",\n",
       " \"Cabela's African Safari\",\n",
       " \"Cabela's Alaskan Adventure\",\n",
       " \"Cabela's Big Game Hunter\",\n",
       " \"Cabela's Big Game Hunter (2008)\",\n",
       " \"Cabela's Big Game Hunter 2005 Adventures\",\n",
       " \"Cabela's Big Game Hunter 2010\",\n",
       " \"Cabela's Big Game Hunter 2012\",\n",
       " \"Cabela's Big Game Hunter: Pro Hunts\",\n",
       " \"Cabela's Dangerous Hunts\",\n",
       " \"Cabela's Dangerous Hunts 2\",\n",
       " \"Cabela's Dangerous Hunts 2009\",\n",
       " \"Cabela's Dangerous Hunts 2011\",\n",
       " \"Cabela's Deer Hunt 2005 Season\",\n",
       " \"Cabela's Deer Hunt: 2004 Season\",\n",
       " \"Cabela's Legendary Adventures\",\n",
       " \"Cabela's North American Adventures\",\n",
       " \"Cabela's Outdoor Adventures\",\n",
       " \"Cabela's Outdoor Adventures (2009)\",\n",
       " \"Cabela's Survival: Shadows of Katmai\",\n",
       " \"Cabela's Trophy Bucks\",\n",
       " \"Cake Mania: Baker's Challenge\",\n",
       " 'Call Of Duty 2: Big Red One',\n",
       " 'Call of Duty 2',\n",
       " 'Call of Duty 3',\n",
       " 'Call of Duty 4: Modern Warfare',\n",
       " 'Call of Duty: Advanced Warfare',\n",
       " 'Call of Duty: Black Ops',\n",
       " 'Call of Duty: Black Ops 3',\n",
       " 'Call of Duty: Black Ops II',\n",
       " 'Call of Duty: Finest Hour',\n",
       " 'Call of Duty: Ghosts',\n",
       " 'Call of Duty: Infinite Warfare',\n",
       " 'Call of Duty: Modern Warfare 2',\n",
       " 'Call of Duty: Modern Warfare 3',\n",
       " 'Call of Duty: Modern Warfare Trilogy',\n",
       " 'Call of Duty: World at War',\n",
       " 'Call of Juarez',\n",
       " 'Call of Juarez: Bound in Blood',\n",
       " 'Call of Juarez: The Cartel',\n",
       " \"Candace Kane's Candy Factory\",\n",
       " 'Capcom Classics Collection',\n",
       " 'Capcom Fighting Evolution',\n",
       " 'Capcom vs. SNK 2 EO',\n",
       " 'Captain America: Super Soldier',\n",
       " 'Captain Morgane and the Golden Turtle',\n",
       " 'Carmageddon: Max Damage',\n",
       " 'Carmen Sandiego: The Secret of the Stolen Drums',\n",
       " 'Carnival Games',\n",
       " \"Carol Vorderman's Sudoku\",\n",
       " 'Cars',\n",
       " 'Cars 2',\n",
       " 'Cars: Mater-National Championship',\n",
       " 'Cars: Race-O-Rama',\n",
       " 'Cartoon Network: Punch Time Explosion XL',\n",
       " 'Casper',\n",
       " \"Casper's Scare School: Spooky Sports Day\",\n",
       " 'Casper: Spirit Dimensions',\n",
       " 'Castlevania',\n",
       " 'Castlevania: Curse of Darkness',\n",
       " 'Castlevania: Lords of Shadow',\n",
       " 'Castlevania: Lords of Shadow - Reverie',\n",
       " 'Castlevania: Lords of Shadow 2',\n",
       " 'Cate West: The Vanishing Files',\n",
       " 'Catherine',\n",
       " 'Catwoman',\n",
       " 'Catz',\n",
       " 'Cel Damage',\n",
       " 'Centipede',\n",
       " 'Centipede: Infestation',\n",
       " 'Challenge Me: Brain Puzzles 2',\n",
       " 'Champion Jockey: G1 Jockey & Gallop Racer',\n",
       " 'Chaos;Child',\n",
       " 'Chaos;Head - Love Chu*Chu!',\n",
       " 'Chaos;Head Noah',\n",
       " 'Chaotic: Shadow Warriors',\n",
       " 'Charlie and the Chocolate Factory',\n",
       " 'Chessmaster',\n",
       " 'Chessmaster: The Art of Learning',\n",
       " 'Chevrolet Camaro: Wild Ride',\n",
       " 'Chicken Blaster',\n",
       " 'Chicken Shoot',\n",
       " 'Child of Eden',\n",
       " 'Child of Light',\n",
       " 'Chrono Trigger',\n",
       " 'Chrysler Classic Racing',\n",
       " \"Chuck E. Cheese's Party Games\",\n",
       " 'Clannad',\n",
       " 'Clash of Elementalists',\n",
       " 'Clash of the Titans',\n",
       " 'Classic Road',\n",
       " \"Clive Barker's Jericho\",\n",
       " 'Cloudy With a Chance of Meatballs',\n",
       " 'Clover no Kuni no Alice: Wonderful Wonder World',\n",
       " 'Cocoto Kart Racer',\n",
       " 'Code Geass: Hangyaku no Lelouch - Lost Colors',\n",
       " 'Code Lyoko: Quest for Infinity',\n",
       " 'Codename: Kids Next Door: Operation V.I.D.E.O.G.A.M.E.',\n",
       " 'Cold Fear',\n",
       " 'Colin McRae Rally 04',\n",
       " 'Colin McRae Rally 2.0',\n",
       " 'Colin McRae Rally 2005',\n",
       " 'Colin McRae Rally 3',\n",
       " 'College Hoops 2K6',\n",
       " 'College Hoops 2K7',\n",
       " 'College Hoops 2K8',\n",
       " 'Combat Elite: WWII Paratroopers',\n",
       " 'Command & Conquer',\n",
       " \"Command & Conquer 3: Kane's Wrath\",\n",
       " 'Command & Conquer 3: Tiberium Wars',\n",
       " 'Command & Conquer: Red Alert',\n",
       " 'Command & Conquer: Red Alert 3',\n",
       " 'Commando',\n",
       " 'Commandos 2: Men of Courage',\n",
       " 'Commandos: Strike Force',\n",
       " 'Conan',\n",
       " 'Conception II: Children of the Seven Stars',\n",
       " 'Condemned 2: Bloodshot',\n",
       " 'Conflict: Denied Ops',\n",
       " 'Conflict: Desert Storm',\n",
       " 'Conflict: Desert Storm II - Back to Bagdhad',\n",
       " 'Conflict: Global Terror',\n",
       " 'Conflict: Vietnam',\n",
       " 'Constantine',\n",
       " 'Cool Boarders 2001',\n",
       " 'Coraline',\n",
       " 'Corpse Party: Blood Covered - Repeated Fear',\n",
       " 'Corvette',\n",
       " 'Countdown: The Game',\n",
       " \"Crash 'N' Burn\",\n",
       " 'Crash Bandicoot: The Wrath of Cortex',\n",
       " 'Crash Nitro Kart',\n",
       " 'Crash Tag Team Racing',\n",
       " 'Crash of the Titans',\n",
       " 'Crash: Mind Over Mutant',\n",
       " 'Crash: Twinsanity',\n",
       " 'Crazy Machines',\n",
       " 'Crazy Taxi',\n",
       " 'Create',\n",
       " 'Criminal Girls: Invite Only',\n",
       " 'Crouching Tiger, Hidden Dragon',\n",
       " 'Crysis 2',\n",
       " 'Crysis 3',\n",
       " 'Culdcept',\n",
       " 'Curious George',\n",
       " 'Custom Robo',\n",
       " 'CyberTiger',\n",
       " 'DC Universe Online',\n",
       " 'DJ Hero',\n",
       " 'DJ Hero 2',\n",
       " \"Dakar 2: The World's Ultimate Rally\",\n",
       " 'Damnation',\n",
       " 'Dance on Broadway',\n",
       " \"Dance! It's Your Stage\",\n",
       " 'DanceDanceRevolution',\n",
       " 'Dancing With The Stars',\n",
       " 'Dancing on Ice',\n",
       " 'Dancing with the Stars: We Dance!',\n",
       " 'Danganronpa 2: Goodbye Despair',\n",
       " 'Danganronpa: Trigger Happy Havoc',\n",
       " \"Dante's Inferno\",\n",
       " 'Dark Sector',\n",
       " 'Dark Souls',\n",
       " 'Dark Souls II',\n",
       " 'Dark Souls III',\n",
       " 'Dark Summit',\n",
       " 'Dark Void',\n",
       " 'Darksiders',\n",
       " 'Darksiders II',\n",
       " 'Darksiders: Warmastered Edition',\n",
       " 'Darkwatch',\n",
       " 'Dave Mirra BMX Challenge',\n",
       " 'Dave Mirra Freestyle BMX 2',\n",
       " 'Dawn of Discovery',\n",
       " 'Dead Island',\n",
       " 'Dead Island Definitive Collection',\n",
       " 'Dead Island: Riptide',\n",
       " 'Dead Rising',\n",
       " 'Dead Rising 2',\n",
       " 'Dead Rising 2: Off the Record',\n",
       " 'Dead Space',\n",
       " 'Dead Space 2',\n",
       " 'Dead Space 3',\n",
       " 'Dead or Alive',\n",
       " 'Dead or Alive 2',\n",
       " 'Dead or Alive 5',\n",
       " 'Dead to Rights',\n",
       " 'Dead to Rights II',\n",
       " 'Dead to Rights: Retribution',\n",
       " 'Deadliest Catch: Sea of Chaos',\n",
       " 'Deadliest Warrior: Ancient Combat',\n",
       " 'Deadly Premonition',\n",
       " 'Deadpool',\n",
       " 'Deal or No Deal',\n",
       " 'Deception IV: Blood Ties',\n",
       " \"Deepak Chopra's Leela\",\n",
       " 'Deer Drive',\n",
       " 'Def Jam Icon',\n",
       " 'Def Jam Rapstar',\n",
       " 'Def Jam Vendetta',\n",
       " 'Def Jam: Fight for NY',\n",
       " 'Defender',\n",
       " \"Defendin' De Penguin\",\n",
       " 'Defiance',\n",
       " 'Delta Force: Black Hawk Down',\n",
       " 'Dengeki Bunko Fighting Climax',\n",
       " 'Derby Stallion',\n",
       " 'Despicable Me: The Game',\n",
       " 'Destiny',\n",
       " 'Destiny: The Collection',\n",
       " 'Destiny: The Taken King',\n",
       " 'Destroy All Humans!',\n",
       " 'Destroy All Humans! Path of the Furon',\n",
       " 'Detana TwinBee Yahho! Deluxe Pack',\n",
       " 'Detective Conan: Prelude from the Past',\n",
       " 'Deus Ex: Human Revolution',\n",
       " 'Deus Ex: Mankind Divided',\n",
       " 'Devil May Cry 4',\n",
       " 'Devil May Cry HD Collection',\n",
       " 'DiRT',\n",
       " 'DiRT 2',\n",
       " 'DiRT 3',\n",
       " 'DiRT Rally',\n",
       " 'DiRT Showdown',\n",
       " 'Diablo',\n",
       " 'Diablo III',\n",
       " 'Diabolik Lovers: More Blood',\n",
       " 'Dig Dug',\n",
       " 'Digimon All-Star Rumble',\n",
       " 'Digimon Rumble Arena 2',\n",
       " 'Digimon Story: Cyber Sleuth',\n",
       " 'Digimon World 4',\n",
       " 'Diner Dash: Sizzle & Serve',\n",
       " 'Dinotopia: The Sunstone Odyssey',\n",
       " 'Disgaea 4: A Promise Unforgotten',\n",
       " 'Dishonored',\n",
       " 'Dishonored 2',\n",
       " 'Disney Infinity',\n",
       " 'Disney Infinity 2.0: Marvel Super Heroes',\n",
       " 'Disney Infinity 3.0',\n",
       " 'Disney Planes Fire & Rescue',\n",
       " 'Disney Princess: Enchanted Journey',\n",
       " 'Disney Princess: Enchanting Storybooks',\n",
       " 'Disney Sing It',\n",
       " 'Disney Sing It! High School Musical 3: Senior Year',\n",
       " 'Disney Sing It: Family Hits',\n",
       " 'Disney Sing It: Party Hits',\n",
       " 'Disney Sing It: Pop Hits',\n",
       " 'Disney Sports Football',\n",
       " 'Disney Sports Skateboarding',\n",
       " 'Disney Sports Soccer',\n",
       " 'Disney TH!NK Fast: The Ultimate Trivia Showdown',\n",
       " 'Disney Tangled',\n",
       " 'Disney Universe',\n",
       " \"Disney's Aladdin\",\n",
       " \"Disney's Atlantis: The Lost Empire\",\n",
       " \"Disney's Chicken Little\",\n",
       " \"Disney's Chicken Little: Ace In Action\",\n",
       " \"Disney's Donald Duck: Goin' Quackers\",\n",
       " \"Disney's DuckTales\",\n",
       " \"Disney's Extreme Skate Adventure\",\n",
       " \"Disney's Meet the Robinsons\",\n",
       " \"Disney's PK: Out of the Shadows\",\n",
       " \"Disney's Party\",\n",
       " \"Disney's Planes\",\n",
       " \"Disney's Tarzan Untamed\",\n",
       " \"Disney's The Haunted Mansion\",\n",
       " \"Disney's The Lion King\",\n",
       " \"Disney's Treasure Planet\",\n",
       " \"Disney's Winnie the Pooh's Rumbly Tumbly Adventure\",\n",
       " 'Diva Girls: Divas on Ice',\n",
       " 'Divinity II: Ego Draconis',\n",
       " 'Divinity: Original Sin',\n",
       " 'DmC: Devil May Cry',\n",
       " 'Dodge Racing: Charger vs Challenger',\n",
       " 'Dogz',\n",
       " 'Dokapon Kingdom',\n",
       " 'Don Bradman Cricket 14',\n",
       " 'Don King Boxing',\n",
       " 'Donkey Kong',\n",
       " 'Donkey Kong Country',\n",
       " 'Donkey Kong Country Returns',\n",
       " 'Donkey Kong Jungle Beat',\n",
       " 'Doom',\n",
       " 'Doom (2016)',\n",
       " 'Doom 3',\n",
       " 'Doom 3 BFG Edition',\n",
       " 'Doom II: Hell on Earth',\n",
       " 'Dora The Explorer: Dora Saves the Snow Princess',\n",
       " 'Dora the Explorer: Dora Saves the Crystal Kingdom',\n",
       " 'Dora the Explorer: Dora Saves the Mermaids',\n",
       " 'Dora the Explorer: Journey to the Purple Planet',\n",
       " \"Dora's Big Birthday Adventure\",\n",
       " 'Dr. Mario',\n",
       " 'Dr. Muto',\n",
       " \"Dr. Seuss' The Cat in the Hat\",\n",
       " 'Dragon Age II',\n",
       " 'Dragon Age Origins: Awakening',\n",
       " 'Dragon Age: Inquisition',\n",
       " 'Dragon Age: Origins',\n",
       " 'Dragon Ball Z: Battle of Z',\n",
       " 'Dragon Ball Z: Budokai',\n",
       " 'Dragon Ball Z: Budokai 2',\n",
       " 'Dragon Ball Z: Budokai Tenkaichi 2',\n",
       " 'Dragon Ball Z: Budokai Tenkaichi 3',\n",
       " 'Dragon Ball Z: Burst Limit',\n",
       " 'Dragon Ball Z: Idainaru Dragon Ball Densetsu',\n",
       " 'Dragon Ball Z: Sagas',\n",
       " 'Dragon Ball Z: Ultimate Tenkaichi',\n",
       " 'Dragon Ball: Raging Blast',\n",
       " 'Dragon Ball: Raging Blast 2',\n",
       " 'Dragon Ball: XenoVerse',\n",
       " 'Dragon Ball: Xenoverse 2',\n",
       " 'Dragon Quest Builders: Revive Alefgard',\n",
       " \"Dragon Quest Heroes II: Twin Kings and the Prophecy's End\",\n",
       " \"Dragon Quest Heroes: The World's Tree Woe and the Blight Below\",\n",
       " 'Dragon Quest Monsters 2',\n",
       " 'Dragon Quest V: Tenkuu no Hanayome',\n",
       " 'Dragon Quest VII: Warriors of Eden',\n",
       " 'Dragon Quest VIII: Journey of the Cursed King',\n",
       " 'Dragon Quest X',\n",
       " 'Dragon Slayer: The Legend of Heroes',\n",
       " 'Dragon Warrior III',\n",
       " \"Dragon's Crown\",\n",
       " \"Dragon's Dogma\",\n",
       " \"Dragon's Dogma Online\",\n",
       " \"Dragon's Lair 3D: Return to the Lair\",\n",
       " 'Drawn to Life: The Next Chapter',\n",
       " 'Dream C Club',\n",
       " 'Dream Pinball 3D',\n",
       " 'Dream Salon',\n",
       " 'DreamWorks Super Star Kartz',\n",
       " 'Dreamworks Madagascar Kartz',\n",
       " 'Driv3r',\n",
       " 'Driven',\n",
       " 'Driver: Parallel Lines',\n",
       " 'Driver: San Francisco',\n",
       " 'Drome Racers',\n",
       " 'DuckTales: Remastered',\n",
       " 'Duke Nukem 3D: 20th Anniversary World Tour',\n",
       " 'Duke Nukem Forever',\n",
       " 'Dunamis 15',\n",
       " 'Dungeon Explorer: Warriors of Ancient Arts',\n",
       " 'Dungeon Siege III',\n",
       " 'Dungeon Travelers 2: The Royal Library & The Monster Seal',\n",
       " 'Dying Light',\n",
       " 'Dynasty Warriors',\n",
       " 'Dynasty Warriors 3',\n",
       " 'Dynasty Warriors 4',\n",
       " 'Dynasty Warriors 5',\n",
       " 'Dynasty Warriors 5 Empires',\n",
       " 'Dynasty Warriors 6',\n",
       " 'Dynasty Warriors 6 Empires',\n",
       " 'Dynasty Warriors 7',\n",
       " 'Dynasty Warriors 8',\n",
       " 'Dynasty Warriors 8: Empires',\n",
       " 'Dynasty Warriors 8: Xtreme Legends',\n",
       " 'Dynasty Warriors Gundam',\n",
       " 'Dynasty Warriors: Eiketsuden',\n",
       " 'Dynasty Warriors: Gundam 2',\n",
       " 'Dynasty Warriors: Gundam 3',\n",
       " 'Dynasty Warriors: Gundam Reborn',\n",
       " 'Dynasty Warriors: Strikeforce',\n",
       " 'E.X. Troopers',\n",
       " 'EA Playground',\n",
       " 'EA Sports Active 2',\n",
       " 'EA Sports MMA',\n",
       " 'EA Sports UFC',\n",
       " 'EA Sports UFC 2',\n",
       " 'ECW Hardcore Revolution',\n",
       " 'ESPN College Hoops 2K5',\n",
       " 'ESPN International Winter Sports 2002',\n",
       " 'ESPN MLB Baseball',\n",
       " 'ESPN MLS ExtraTime 2002',\n",
       " 'ESPN NBA 2K5',\n",
       " 'ESPN NBA 2Night 2002',\n",
       " 'ESPN NBA Basketball',\n",
       " 'ESPN NFL 2K5',\n",
       " 'ESPN NFL Football',\n",
       " 'ESPN NFL Primetime 2002',\n",
       " 'ESPN NHL 2K5',\n",
       " 'ESPN NHL Hockey',\n",
       " 'ESPN Winter X Games: Snowboarding 2002',\n",
       " 'ESPN X Games Skateboarding',\n",
       " 'Earth Defense Force 2025',\n",
       " 'Earth Defense Force 2: Invaders from Planet Space',\n",
       " 'Earth Defense Force: Insect Armageddon',\n",
       " 'Eat Lead: The Return of Matt Hazard',\n",
       " 'Ed, Edd n Eddy: The Mis-Edventures',\n",
       " 'Egg Mania: Eggstreme Madness',\n",
       " 'El Shaddai: Ascension of the Metatron',\n",
       " 'Elf Bowling 1 & 2',\n",
       " 'Emergency 2012',\n",
       " 'Enchanted Arms',\n",
       " 'Enchanted Arms (JP sales)',\n",
       " 'Enemy Front',\n",
       " 'Enemy Territory: Quake Wars',\n",
       " 'Enslaved: Odyssey to the West',\n",
       " 'Enter the Matrix',\n",
       " 'Epic Mickey 2: The Power of Two',\n",
       " 'Eragon',\n",
       " 'Escape Dead Island',\n",
       " 'Escape The Museum',\n",
       " 'Eternal Sonata',\n",
       " 'Etrian Odyssey II: Heroes of Lagaard',\n",
       " 'Evangelion: Jo',\n",
       " 'Evil Dead: Fistfull of Boomstick',\n",
       " 'Evil Dead: Regeneration',\n",
       " 'Evolution Skateboarding',\n",
       " 'Evolve',\n",
       " 'Exist Archive: The Other Side of the Sky',\n",
       " 'Exstetra',\n",
       " 'EyePet',\n",
       " 'F.E.A.R.',\n",
       " 'F.E.A.R. 2: Project Origin',\n",
       " 'F.E.A.R. 3',\n",
       " 'F1 2001',\n",
       " 'F1 2002',\n",
       " 'F1 2009',\n",
       " 'F1 2010',\n",
       " 'F1 2011',\n",
       " 'F1 2012',\n",
       " 'F1 2013',\n",
       " 'F1 2014',\n",
       " 'F1 2015',\n",
       " 'F1 2016 (Codemasters)',\n",
       " 'F1 Race Stars',\n",
       " 'FIFA 12',\n",
       " 'FIFA 14',\n",
       " 'FIFA 15',\n",
       " 'FIFA 16',\n",
       " 'FIFA 17',\n",
       " 'FIFA Soccer',\n",
       " 'FIFA Soccer 06',\n",
       " 'FIFA Soccer 07',\n",
       " 'FIFA Soccer 08',\n",
       " 'FIFA Soccer 09',\n",
       " 'FIFA Soccer 10',\n",
       " 'FIFA Soccer 11',\n",
       " 'FIFA Soccer 13',\n",
       " 'FIFA Soccer 2002',\n",
       " 'FIFA Soccer 2003',\n",
       " 'FIFA Soccer 2004',\n",
       " 'FIFA Soccer 2005',\n",
       " 'FIFA Street',\n",
       " 'FIFA Street 2',\n",
       " 'FIFA Street 3',\n",
       " 'FIFA World Cup Germany 2006',\n",
       " 'FabStyle',\n",
       " 'Fable',\n",
       " 'Fable III',\n",
       " 'FaceBreaker',\n",
       " 'Fairytale Fights',\n",
       " 'Fallout 3',\n",
       " 'Fallout 4',\n",
       " 'Fallout: Brotherhood of Steel',\n",
       " 'Fallout: New Vegas',\n",
       " 'Family Feud: 2010 Edition',\n",
       " 'Family Feud: 2012 Edition',\n",
       " 'Family Fortunes',\n",
       " 'Family Game Night 4: The Game Show',\n",
       " 'Family Guy: Back to the Multiverse',\n",
       " 'Fantasia: Music Evolved',\n",
       " 'Fantastic 4',\n",
       " 'Fantastic Four: Rise of the Silver Surfer',\n",
       " 'Far Cry 2',\n",
       " 'Far Cry 3',\n",
       " 'Far Cry 4',\n",
       " 'Far Cry: Primal',\n",
       " 'Far East of Eden II: Manji Maru',\n",
       " 'Farm Frenzy 3',\n",
       " 'Farming Simulator 17',\n",
       " 'Farming Simulator 2013',\n",
       " 'Farming Simulator 2015',\n",
       " 'Fast & Furious: Showdown',\n",
       " 'Fast Food Panic',\n",
       " 'Fatal Frame',\n",
       " 'Fate/Extella: The Umbral Star',\n",
       " 'Fate/Stay Night [Réalta Nua]',\n",
       " 'Ferrari Challenge Trofeo Pirelli',\n",
       " 'Fight Club',\n",
       " 'Fight Night 2004',\n",
       " 'Fight Night Champion',\n",
       " 'Fight Night Round 2',\n",
       " 'Fight Night Round 3',\n",
       " 'Fight Night Round 4',\n",
       " 'Final Fantasy',\n",
       " 'Final Fantasy Crystal Chronicles: Echoes of Time',\n",
       " 'Final Fantasy II',\n",
       " 'Final Fantasy III',\n",
       " 'Final Fantasy IV',\n",
       " 'Final Fantasy Type-0',\n",
       " 'Final Fantasy V',\n",
       " 'Final Fantasy X / X-2 HD Remaster',\n",
       " 'Final Fantasy XI',\n",
       " \"Final Fantasy XI: Vana'diel Collection 2008\",\n",
       " 'Final Fantasy XI: Wings of the Goddess',\n",
       " 'Final Fantasy XIII',\n",
       " 'Final Fantasy XIII-2',\n",
       " 'Final Fantasy XIV: A Realm Reborn',\n",
       " 'Final Fantasy XIV: Heavensward',\n",
       " 'Final Fight: Streetwise',\n",
       " 'Finding Nemo',\n",
       " 'Fireblade',\n",
       " \"Fist of the North Star: Ken's Rage\",\n",
       " \"Fist of the North Star: Ken's Rage 2\",\n",
       " 'Fit in Six',\n",
       " 'FlatOut',\n",
       " 'FlatOut 2',\n",
       " 'FlatOut: Ultimate Carnage',\n",
       " 'Flushed Away',\n",
       " 'Football Manager 2012',\n",
       " 'Football Manager 2014',\n",
       " 'Ford Mustang: The Legend Lives',\n",
       " 'Ford Racing 2',\n",
       " 'Ford Racing 3',\n",
       " 'Ford Racing Off Road',\n",
       " 'Ford vs. Chevy',\n",
       " 'Forgotten Realms: Demon Stone',\n",
       " 'Forza Horizon 2',\n",
       " 'Fracture',\n",
       " 'Freaky Flyers',\n",
       " 'Freedom Fighters',\n",
       " 'Freekstyle',\n",
       " 'Freestyle Metal X',\n",
       " 'Fritz Chess',\n",
       " 'Frogger',\n",
       " 'Frogger Beyond',\n",
       " \"Frogger's Adventures: The Rescue\",\n",
       " 'Frogger: Ancient Shadow',\n",
       " 'Frogger: Helmet Chaos',\n",
       " 'From Russia With Love',\n",
       " 'From TV Animation One Piece: Grand Battle! 3',\n",
       " 'Front Mission',\n",
       " 'Front Mission Evolved',\n",
       " 'Frontlines: Fuel of War',\n",
       " 'Fuel',\n",
       " 'Full Spectrum Warrior',\n",
       " 'Full Spectrum Warrior: Ten Hammers',\n",
       " 'Fuse (Insomniac)',\n",
       " 'Futurama',\n",
       " 'Future Tactics: The Uprising',\n",
       " 'G-Force',\n",
       " 'G.I. Joe: The Rise of Cobra',\n",
       " 'GRID',\n",
       " 'GRID 2',\n",
       " 'GRID Autosport',\n",
       " 'Game of Thrones',\n",
       " 'Game of Thrones (Telltale)',\n",
       " 'Gauntlet Legends',\n",
       " 'Gauntlet: Dark Legacy',\n",
       " 'Gauntlet: Seven Sorrows',\n",
       " 'Gears of War',\n",
       " 'Gem Smashers',\n",
       " 'Generator Rex: Agent of Providence',\n",
       " 'Geometry Wars: Galaxies',\n",
       " 'George of the Jungle and the Search for the Secret',\n",
       " \"Germany's Next Topmodel 2011\",\n",
       " 'Get Fit with Mel B',\n",
       " 'Get Up and Dance',\n",
       " 'Gex 3: Deep Cover Gecko',\n",
       " 'Ghost in the Shell: Stand Alone Complex',\n",
       " 'Ghostbusters (2016)',\n",
       " 'Ghostbusters: The Video Game',\n",
       " 'Ghostbusters: The Video Game (DS Version)',\n",
       " 'Gladiator: Sword of Vengeance',\n",
       " 'Gladius',\n",
       " 'Glover',\n",
       " 'Go Diego Go! Great Dinosaur Rescue',\n",
       " 'Goblin Commander: Unleash the Horde',\n",
       " 'God Eater 2',\n",
       " 'God Eater 2: Rage Burst',\n",
       " 'God Eater Resurrection',\n",
       " 'God of War Collection',\n",
       " 'God of War III',\n",
       " 'Godzilla: Destroy All Monsters Melee',\n",
       " 'Godzilla: Save the Earth',\n",
       " 'Golden Axe: Beast Rider',\n",
       " 'GoldenEye 007 (2010)',\n",
       " 'GoldenEye: Rogue Agent',\n",
       " 'Goldeneye 007: Reloaded',\n",
       " 'Golf',\n",
       " 'Goosebumps HorrorLand',\n",
       " 'Gormiti: The Lords of Nature!',\n",
       " 'Gotouchi Tetsudou: Gotouchi Chara to Nihon Zenkoku no Tabi',\n",
       " 'Grand Ages: Medieval',\n",
       " 'Grand Kingdom',\n",
       " 'Grand Slam Tennis 2',\n",
       " 'Grand Theft Auto',\n",
       " 'Grand Theft Auto III',\n",
       " 'Grand Theft Auto IV',\n",
       " 'Grand Theft Auto V',\n",
       " 'Grand Theft Auto: Chinatown Wars',\n",
       " 'Grand Theft Auto: Liberty City Stories',\n",
       " 'Grand Theft Auto: San Andreas',\n",
       " 'Grand Theft Auto: Vice City',\n",
       " 'Grand Theft Auto: Vice City Stories',\n",
       " 'Grandia',\n",
       " 'Grandia II',\n",
       " 'Gray Matter',\n",
       " 'Grease',\n",
       " 'Grease Dance',\n",
       " 'Green Day: Rock Band',\n",
       " 'Green Lantern: Rise of the Manhunters',\n",
       " 'Greg Hastings Paintball 2',\n",
       " \"Greg Hastings' Tournament Paintball Max'd\",\n",
       " 'Gretzky NHL 06',\n",
       " \"Grey's Anatomy: The Video Game\",\n",
       " 'Grooverider: Slot Car Thunder',\n",
       " 'Guilty Gear XX Accent Core',\n",
       " 'Guilty Gear XX Accent Core Plus',\n",
       " 'Guilty Gear Xrd -Revelator-',\n",
       " 'Guilty Gear Xrd: Sign',\n",
       " 'Guinness World Records: The Videogame',\n",
       " 'Guitar Hero 5',\n",
       " 'Guitar Hero II',\n",
       " 'Guitar Hero III: Legends of Rock',\n",
       " 'Guitar Hero Live',\n",
       " 'Guitar Hero: Aerosmith',\n",
       " 'Guitar Hero: Metallica',\n",
       " 'Guitar Hero: Smash Hits',\n",
       " 'Guitar Hero: Van Halen',\n",
       " 'Guitar Hero: Warriors of Rock',\n",
       " 'Guitar Hero: World Tour',\n",
       " 'Gummy Bears Mini Golf',\n",
       " 'Gun',\n",
       " 'Gundam Breaker',\n",
       " 'Gundam Breaker 2',\n",
       " 'Gundam Breaker 3',\n",
       " 'Hail to the Chimp',\n",
       " 'Half-Life',\n",
       " 'Half-Life 2',\n",
       " 'Halo 2',\n",
       " 'Halo: Combat Evolved',\n",
       " 'Handball 16',\n",
       " 'Hannah Montana: Spotlight World Tour',\n",
       " 'Hannah Montana: The Movie',\n",
       " 'Hannspree Ten Kate Honda: SBK Superbike World Championship',\n",
       " 'Happy Feet',\n",
       " 'Happy Feet Two',\n",
       " 'Harry Potter and the Chamber of Secrets',\n",
       " 'Harry Potter and the Deathly Hallows - Part 1',\n",
       " 'Harry Potter and the Deathly Hallows - Part 2',\n",
       " 'Harry Potter and the Goblet of Fire',\n",
       " 'Harry Potter and the Half-Blood Prince',\n",
       " 'Harry Potter and the Order of the Phoenix',\n",
       " 'Harry Potter and the Prisoner of Azkaban',\n",
       " \"Harry Potter and the Sorcerer's Stone\",\n",
       " 'Harry Potter: Quidditch World Cup',\n",
       " 'Harukanaru Toki no Naka de 6',\n",
       " 'Harvest Moon: Magical Melody',\n",
       " 'Harvest Moon: The Tale of Two Towns',\n",
       " 'Harvey Birdman: Attorney at Law',\n",
       " 'Hasbro Family Game Night',\n",
       " 'Hasbro Family Game Night 3',\n",
       " 'Hasbro Family Game Night Fun Pack',\n",
       " 'Hatsune Miku: Project Diva F 2nd',\n",
       " 'Hatsune Miku: Project Diva X',\n",
       " 'Hatsune Miku: Project Diva f',\n",
       " 'Headhunter: Redemption',\n",
       " 'Heart no Kuni no Alice',\n",
       " 'Heatseeker',\n",
       " 'Heavy Fire: Afghanistan',\n",
       " \"Hell's Kitchen: The Game\",\n",
       " 'Hellboy: The Science of Evil',\n",
       " 'Hello Kitty: Roller Rescue',\n",
       " 'Heroes of the Pacific',\n",
       " 'Heroes over Europe',\n",
       " 'Hidden Mysteries: Titanic - Secrets of the Fateful Voyage',\n",
       " 'High Heat Major League Baseball 2004',\n",
       " 'High Rollers Casino',\n",
       " 'High School Musical 3: Senior Year DANCE!',\n",
       " 'High School Musical: Sing It!',\n",
       " 'Higurashi no Naku Koro ni Iki',\n",
       " 'History Civil War: Secret Missions',\n",
       " 'Hitman (2016)',\n",
       " 'Hitman 2: Silent Assassin',\n",
       " 'Hitman: Absolution',\n",
       " ...]"
      ]
     },
     "execution_count": 41,
     "metadata": {},
     "output_type": "execute_result"
    }
   ],
   "source": [
    "# Filtrar juegos que están en más de una plataforma\n",
    "multiple_platforms_games = platform_counts[platform_counts > 1].index.tolist()\n",
    "multiple_platforms_games"
   ]
  },
  {
   "cell_type": "code",
   "execution_count": 42,
   "metadata": {},
   "outputs": [
    {
     "data": {
      "text/html": [
       "<div>\n",
       "<style scoped>\n",
       "    .dataframe tbody tr th:only-of-type {\n",
       "        vertical-align: middle;\n",
       "    }\n",
       "\n",
       "    .dataframe tbody tr th {\n",
       "        vertical-align: top;\n",
       "    }\n",
       "\n",
       "    .dataframe thead th {\n",
       "        text-align: right;\n",
       "    }\n",
       "</style>\n",
       "<table border=\"1\" class=\"dataframe\">\n",
       "  <thead>\n",
       "    <tr style=\"text-align: right;\">\n",
       "      <th></th>\n",
       "      <th>games_name</th>\n",
       "      <th>platform</th>\n",
       "      <th>year_of_release</th>\n",
       "      <th>genre</th>\n",
       "      <th>na_sales</th>\n",
       "      <th>eu_sales</th>\n",
       "      <th>jp_sales</th>\n",
       "      <th>other_sales</th>\n",
       "      <th>critic_score</th>\n",
       "      <th>user_score</th>\n",
       "      <th>rating</th>\n",
       "      <th>total_sales</th>\n",
       "      <th>average_sales</th>\n",
       "    </tr>\n",
       "  </thead>\n",
       "  <tbody>\n",
       "    <tr>\n",
       "      <th>1</th>\n",
       "      <td>Super Mario Bros.</td>\n",
       "      <td>NES</td>\n",
       "      <td>1985.0</td>\n",
       "      <td>Platform</td>\n",
       "      <td>29.08</td>\n",
       "      <td>3.58</td>\n",
       "      <td>6.81</td>\n",
       "      <td>0.77</td>\n",
       "      <td>71.0</td>\n",
       "      <td>7.5</td>\n",
       "      <td>NaN</td>\n",
       "      <td>40.24</td>\n",
       "      <td>10.0600</td>\n",
       "    </tr>\n",
       "    <tr>\n",
       "      <th>5</th>\n",
       "      <td>Tetris</td>\n",
       "      <td>GB</td>\n",
       "      <td>1989.0</td>\n",
       "      <td>Puzzle</td>\n",
       "      <td>23.20</td>\n",
       "      <td>2.26</td>\n",
       "      <td>4.22</td>\n",
       "      <td>0.58</td>\n",
       "      <td>71.0</td>\n",
       "      <td>7.5</td>\n",
       "      <td>NaN</td>\n",
       "      <td>30.26</td>\n",
       "      <td>7.5650</td>\n",
       "    </tr>\n",
       "    <tr>\n",
       "      <th>16</th>\n",
       "      <td>Grand Theft Auto V</td>\n",
       "      <td>PS3</td>\n",
       "      <td>2013.0</td>\n",
       "      <td>Action</td>\n",
       "      <td>7.02</td>\n",
       "      <td>9.09</td>\n",
       "      <td>0.98</td>\n",
       "      <td>3.96</td>\n",
       "      <td>97.0</td>\n",
       "      <td>8.2</td>\n",
       "      <td>M</td>\n",
       "      <td>21.05</td>\n",
       "      <td>5.2625</td>\n",
       "    </tr>\n",
       "    <tr>\n",
       "      <th>17</th>\n",
       "      <td>Grand Theft Auto: San Andreas</td>\n",
       "      <td>PS2</td>\n",
       "      <td>2004.0</td>\n",
       "      <td>Action</td>\n",
       "      <td>9.43</td>\n",
       "      <td>0.40</td>\n",
       "      <td>0.41</td>\n",
       "      <td>10.57</td>\n",
       "      <td>95.0</td>\n",
       "      <td>9.0</td>\n",
       "      <td>M</td>\n",
       "      <td>20.81</td>\n",
       "      <td>5.2025</td>\n",
       "    </tr>\n",
       "    <tr>\n",
       "      <th>18</th>\n",
       "      <td>Super Mario World</td>\n",
       "      <td>SNES</td>\n",
       "      <td>1990.0</td>\n",
       "      <td>Platform</td>\n",
       "      <td>12.78</td>\n",
       "      <td>3.75</td>\n",
       "      <td>3.54</td>\n",
       "      <td>0.55</td>\n",
       "      <td>71.0</td>\n",
       "      <td>7.5</td>\n",
       "      <td>NaN</td>\n",
       "      <td>20.62</td>\n",
       "      <td>5.1550</td>\n",
       "    </tr>\n",
       "    <tr>\n",
       "      <th>...</th>\n",
       "      <td>...</td>\n",
       "      <td>...</td>\n",
       "      <td>...</td>\n",
       "      <td>...</td>\n",
       "      <td>...</td>\n",
       "      <td>...</td>\n",
       "      <td>...</td>\n",
       "      <td>...</td>\n",
       "      <td>...</td>\n",
       "      <td>...</td>\n",
       "      <td>...</td>\n",
       "      <td>...</td>\n",
       "      <td>...</td>\n",
       "    </tr>\n",
       "    <tr>\n",
       "      <th>16178</th>\n",
       "      <td>Egg Mania: Eggstreme Madness</td>\n",
       "      <td>XB</td>\n",
       "      <td>2002.0</td>\n",
       "      <td>Puzzle</td>\n",
       "      <td>0.01</td>\n",
       "      <td>0.00</td>\n",
       "      <td>0.00</td>\n",
       "      <td>0.00</td>\n",
       "      <td>58.0</td>\n",
       "      <td>7.5</td>\n",
       "      <td>E</td>\n",
       "      <td>0.01</td>\n",
       "      <td>0.0025</td>\n",
       "    </tr>\n",
       "    <tr>\n",
       "      <th>16180</th>\n",
       "      <td>WRC: FIA World Rally Championship</td>\n",
       "      <td>PC</td>\n",
       "      <td>NaN</td>\n",
       "      <td>Racing</td>\n",
       "      <td>0.00</td>\n",
       "      <td>0.01</td>\n",
       "      <td>0.00</td>\n",
       "      <td>0.00</td>\n",
       "      <td>65.0</td>\n",
       "      <td>7.5</td>\n",
       "      <td>RP</td>\n",
       "      <td>0.01</td>\n",
       "      <td>0.0025</td>\n",
       "    </tr>\n",
       "    <tr>\n",
       "      <th>16182</th>\n",
       "      <td>Rocksmith 2014 Edition Remastered</td>\n",
       "      <td>XOne</td>\n",
       "      <td>2016.0</td>\n",
       "      <td>Misc</td>\n",
       "      <td>0.01</td>\n",
       "      <td>0.00</td>\n",
       "      <td>0.00</td>\n",
       "      <td>0.00</td>\n",
       "      <td>71.0</td>\n",
       "      <td>7.5</td>\n",
       "      <td>T</td>\n",
       "      <td>0.01</td>\n",
       "      <td>0.0025</td>\n",
       "    </tr>\n",
       "    <tr>\n",
       "      <th>16714</th>\n",
       "      <td>Winning Post 8 2016</td>\n",
       "      <td>PSV</td>\n",
       "      <td>2016.0</td>\n",
       "      <td>Simulation</td>\n",
       "      <td>0.00</td>\n",
       "      <td>0.00</td>\n",
       "      <td>0.01</td>\n",
       "      <td>0.00</td>\n",
       "      <td>71.0</td>\n",
       "      <td>7.5</td>\n",
       "      <td>NaN</td>\n",
       "      <td>0.01</td>\n",
       "      <td>0.0025</td>\n",
       "    </tr>\n",
       "    <tr>\n",
       "      <th>16709</th>\n",
       "      <td>SCORE International Baja 1000: The Official Game</td>\n",
       "      <td>PS2</td>\n",
       "      <td>2008.0</td>\n",
       "      <td>Racing</td>\n",
       "      <td>0.00</td>\n",
       "      <td>0.00</td>\n",
       "      <td>0.00</td>\n",
       "      <td>0.00</td>\n",
       "      <td>71.0</td>\n",
       "      <td>7.5</td>\n",
       "      <td>NaN</td>\n",
       "      <td>0.00</td>\n",
       "      <td>0.0000</td>\n",
       "    </tr>\n",
       "  </tbody>\n",
       "</table>\n",
       "<p>7959 rows × 13 columns</p>\n",
       "</div>"
      ],
      "text/plain": [
       "                                             games_name platform  \\\n",
       "1                                     Super Mario Bros.      NES   \n",
       "5                                                Tetris       GB   \n",
       "16                                   Grand Theft Auto V      PS3   \n",
       "17                        Grand Theft Auto: San Andreas      PS2   \n",
       "18                                    Super Mario World     SNES   \n",
       "...                                                 ...      ...   \n",
       "16178                      Egg Mania: Eggstreme Madness       XB   \n",
       "16180                 WRC: FIA World Rally Championship       PC   \n",
       "16182                 Rocksmith 2014 Edition Remastered     XOne   \n",
       "16714                               Winning Post 8 2016      PSV   \n",
       "16709  SCORE International Baja 1000: The Official Game      PS2   \n",
       "\n",
       "       year_of_release       genre  na_sales  eu_sales  jp_sales  other_sales  \\\n",
       "1               1985.0    Platform     29.08      3.58      6.81         0.77   \n",
       "5               1989.0      Puzzle     23.20      2.26      4.22         0.58   \n",
       "16              2013.0      Action      7.02      9.09      0.98         3.96   \n",
       "17              2004.0      Action      9.43      0.40      0.41        10.57   \n",
       "18              1990.0    Platform     12.78      3.75      3.54         0.55   \n",
       "...                ...         ...       ...       ...       ...          ...   \n",
       "16178           2002.0      Puzzle      0.01      0.00      0.00         0.00   \n",
       "16180              NaN      Racing      0.00      0.01      0.00         0.00   \n",
       "16182           2016.0        Misc      0.01      0.00      0.00         0.00   \n",
       "16714           2016.0  Simulation      0.00      0.00      0.01         0.00   \n",
       "16709           2008.0      Racing      0.00      0.00      0.00         0.00   \n",
       "\n",
       "       critic_score  user_score rating  total_sales  average_sales  \n",
       "1              71.0         7.5    NaN        40.24        10.0600  \n",
       "5              71.0         7.5    NaN        30.26         7.5650  \n",
       "16             97.0         8.2      M        21.05         5.2625  \n",
       "17             95.0         9.0      M        20.81         5.2025  \n",
       "18             71.0         7.5    NaN        20.62         5.1550  \n",
       "...             ...         ...    ...          ...            ...  \n",
       "16178          58.0         7.5      E         0.01         0.0025  \n",
       "16180          65.0         7.5     RP         0.01         0.0025  \n",
       "16182          71.0         7.5      T         0.01         0.0025  \n",
       "16714          71.0         7.5    NaN         0.01         0.0025  \n",
       "16709          71.0         7.5    NaN         0.00         0.0000  \n",
       "\n",
       "[7959 rows x 13 columns]"
      ]
     },
     "execution_count": 42,
     "metadata": {},
     "output_type": "execute_result"
    }
   ],
   "source": [
    "# Filtrar el dataframe para incluir solo esos juegos\n",
    "df_multiple_platforms = df_games[df_games['games_name'].isin(multiple_platforms_games)]\n",
    "df_multiple_platforms"
   ]
  },
  {
   "cell_type": "code",
   "execution_count": 43,
   "metadata": {},
   "outputs": [
    {
     "data": {
      "text/html": [
       "<div>\n",
       "<style scoped>\n",
       "    .dataframe tbody tr th:only-of-type {\n",
       "        vertical-align: middle;\n",
       "    }\n",
       "\n",
       "    .dataframe tbody tr th {\n",
       "        vertical-align: top;\n",
       "    }\n",
       "\n",
       "    .dataframe thead th {\n",
       "        text-align: right;\n",
       "    }\n",
       "</style>\n",
       "<table border=\"1\" class=\"dataframe\">\n",
       "  <thead>\n",
       "    <tr style=\"text-align: right;\">\n",
       "      <th></th>\n",
       "      <th>games_name</th>\n",
       "      <th>platform</th>\n",
       "      <th>na_sales</th>\n",
       "      <th>eu_sales</th>\n",
       "      <th>jp_sales</th>\n",
       "      <th>other_sales</th>\n",
       "      <th>total_sales</th>\n",
       "    </tr>\n",
       "  </thead>\n",
       "  <tbody>\n",
       "    <tr>\n",
       "      <th>0</th>\n",
       "      <td>Frozen: Olaf's Quest</td>\n",
       "      <td>2600</td>\n",
       "      <td>0.00</td>\n",
       "      <td>0.00</td>\n",
       "      <td>0.0</td>\n",
       "      <td>0.00</td>\n",
       "      <td>0.00</td>\n",
       "    </tr>\n",
       "    <tr>\n",
       "      <th>1</th>\n",
       "      <td>Frozen: Olaf's Quest</td>\n",
       "      <td>3DO</td>\n",
       "      <td>0.00</td>\n",
       "      <td>0.00</td>\n",
       "      <td>0.0</td>\n",
       "      <td>0.00</td>\n",
       "      <td>0.00</td>\n",
       "    </tr>\n",
       "    <tr>\n",
       "      <th>2</th>\n",
       "      <td>Frozen: Olaf's Quest</td>\n",
       "      <td>3DS</td>\n",
       "      <td>0.27</td>\n",
       "      <td>0.27</td>\n",
       "      <td>0.0</td>\n",
       "      <td>0.05</td>\n",
       "      <td>0.59</td>\n",
       "    </tr>\n",
       "    <tr>\n",
       "      <th>3</th>\n",
       "      <td>Frozen: Olaf's Quest</td>\n",
       "      <td>DC</td>\n",
       "      <td>0.00</td>\n",
       "      <td>0.00</td>\n",
       "      <td>0.0</td>\n",
       "      <td>0.00</td>\n",
       "      <td>0.00</td>\n",
       "    </tr>\n",
       "    <tr>\n",
       "      <th>4</th>\n",
       "      <td>Frozen: Olaf's Quest</td>\n",
       "      <td>DS</td>\n",
       "      <td>0.21</td>\n",
       "      <td>0.26</td>\n",
       "      <td>0.0</td>\n",
       "      <td>0.04</td>\n",
       "      <td>0.51</td>\n",
       "    </tr>\n",
       "    <tr>\n",
       "      <th>...</th>\n",
       "      <td>...</td>\n",
       "      <td>...</td>\n",
       "      <td>...</td>\n",
       "      <td>...</td>\n",
       "      <td>...</td>\n",
       "      <td>...</td>\n",
       "      <td>...</td>\n",
       "    </tr>\n",
       "    <tr>\n",
       "      <th>86950</th>\n",
       "      <td>uDraw Studio: Instant Artist</td>\n",
       "      <td>Wii</td>\n",
       "      <td>0.06</td>\n",
       "      <td>0.09</td>\n",
       "      <td>0.0</td>\n",
       "      <td>0.02</td>\n",
       "      <td>0.17</td>\n",
       "    </tr>\n",
       "    <tr>\n",
       "      <th>86951</th>\n",
       "      <td>uDraw Studio: Instant Artist</td>\n",
       "      <td>WiiU</td>\n",
       "      <td>0.00</td>\n",
       "      <td>0.00</td>\n",
       "      <td>0.0</td>\n",
       "      <td>0.00</td>\n",
       "      <td>0.00</td>\n",
       "    </tr>\n",
       "    <tr>\n",
       "      <th>86952</th>\n",
       "      <td>uDraw Studio: Instant Artist</td>\n",
       "      <td>X360</td>\n",
       "      <td>0.01</td>\n",
       "      <td>0.01</td>\n",
       "      <td>0.0</td>\n",
       "      <td>0.00</td>\n",
       "      <td>0.02</td>\n",
       "    </tr>\n",
       "    <tr>\n",
       "      <th>86953</th>\n",
       "      <td>uDraw Studio: Instant Artist</td>\n",
       "      <td>XB</td>\n",
       "      <td>0.00</td>\n",
       "      <td>0.00</td>\n",
       "      <td>0.0</td>\n",
       "      <td>0.00</td>\n",
       "      <td>0.00</td>\n",
       "    </tr>\n",
       "    <tr>\n",
       "      <th>86954</th>\n",
       "      <td>uDraw Studio: Instant Artist</td>\n",
       "      <td>XOne</td>\n",
       "      <td>0.00</td>\n",
       "      <td>0.00</td>\n",
       "      <td>0.0</td>\n",
       "      <td>0.00</td>\n",
       "      <td>0.00</td>\n",
       "    </tr>\n",
       "  </tbody>\n",
       "</table>\n",
       "<p>86955 rows × 7 columns</p>\n",
       "</div>"
      ],
      "text/plain": [
       "                         games_name platform  na_sales  eu_sales  jp_sales  \\\n",
       "0              Frozen: Olaf's Quest     2600      0.00      0.00       0.0   \n",
       "1              Frozen: Olaf's Quest      3DO      0.00      0.00       0.0   \n",
       "2              Frozen: Olaf's Quest      3DS      0.27      0.27       0.0   \n",
       "3              Frozen: Olaf's Quest       DC      0.00      0.00       0.0   \n",
       "4              Frozen: Olaf's Quest       DS      0.21      0.26       0.0   \n",
       "...                             ...      ...       ...       ...       ...   \n",
       "86950  uDraw Studio: Instant Artist      Wii      0.06      0.09       0.0   \n",
       "86951  uDraw Studio: Instant Artist     WiiU      0.00      0.00       0.0   \n",
       "86952  uDraw Studio: Instant Artist     X360      0.01      0.01       0.0   \n",
       "86953  uDraw Studio: Instant Artist       XB      0.00      0.00       0.0   \n",
       "86954  uDraw Studio: Instant Artist     XOne      0.00      0.00       0.0   \n",
       "\n",
       "       other_sales  total_sales  \n",
       "0             0.00         0.00  \n",
       "1             0.00         0.00  \n",
       "2             0.05         0.59  \n",
       "3             0.00         0.00  \n",
       "4             0.04         0.51  \n",
       "...            ...          ...  \n",
       "86950         0.02         0.17  \n",
       "86951         0.00         0.00  \n",
       "86952         0.00         0.02  \n",
       "86953         0.00         0.00  \n",
       "86954         0.00         0.00  \n",
       "\n",
       "[86955 rows x 7 columns]"
      ]
     },
     "execution_count": 43,
     "metadata": {},
     "output_type": "execute_result"
    }
   ],
   "source": [
    "# Calcular las ventas totales por juego y plataforma\n",
    "sales_by_game_platform = df_multiple_platforms.groupby(['games_name', 'platform'])[['na_sales', 'eu_sales', 'jp_sales', 'other_sales', 'total_sales']].sum().reset_index()\n",
    "sales_by_game_platform"
   ]
  },
  {
   "cell_type": "code",
   "execution_count": 44,
   "metadata": {},
   "outputs": [],
   "source": [
    "# Calcular Ventas Totales por Género, Primero, debes agrupar los datos por género y sumar las ventas en todas las regiones."
   ]
  },
  {
   "cell_type": "code",
   "execution_count": 45,
   "metadata": {},
   "outputs": [
    {
     "name": "stdout",
     "output_type": "stream",
     "text": [
      "              na_sales  eu_sales  jp_sales  other_sales  total_sales\n",
      "genre                                                               \n",
      "Action          879.01    519.13    161.43       184.60      1744.17\n",
      "Sports          684.43    376.79    135.54       134.51      1331.27\n",
      "Shooter         592.24    317.34     38.76       104.11      1052.45\n",
      "Role-Playing    330.81    188.71    355.41        59.63       934.56\n",
      "Platform        445.50    200.35    130.83        51.09       827.77\n",
      "Misc            407.27    212.74    108.11        74.39       802.51\n",
      "Racing          359.35    236.51     56.71        76.10       728.67\n",
      "Fighting        223.36    100.33     87.48        36.36       447.53\n",
      "Simulation      181.92    113.52     63.80        30.73       389.97\n",
      "Puzzle          122.87     50.01     57.31        12.38       242.57\n",
      "Adventure       105.26     63.54     52.30        16.49       237.59\n",
      "Strategy         68.55     45.17     49.66        10.85       174.23\n"
     ]
    }
   ],
   "source": [
    "# Calcular ventas totales por género\n",
    "total_sales_by_genre = df_games.groupby('genre')[['na_sales', 'eu_sales', 'jp_sales', 'other_sales', 'total_sales']].sum()\n",
    "\n",
    "# Ordenar los géneros por ventas totales\n",
    "total_sales_by_genre = total_sales_by_genre.sort_values('total_sales', ascending=False)\n",
    "print(total_sales_by_genre)"
   ]
  },
  {
   "cell_type": "code",
   "execution_count": 46,
   "metadata": {},
   "outputs": [
    {
     "data": {
      "image/png": "[encoded data removed]",
      "text/plain": [
       "<Figure size 1200x600 with 1 Axes>"
      ]
     },
     "metadata": {},
     "output_type": "display_data"
    }
   ],
   "source": [
    "#Visualización de Ventas por Género\n",
    "#Puedes visualizar las ventas totales por género utilizando un gráfico de barras para facilitar el análisis.\n",
    "\n",
    "# Graficar ventas totales por género\n",
    "plt.figure(figsize=(12, 6))\n",
    "total_sales_by_genre['total_sales'].plot(kind='bar', color='skyblue')\n",
    "plt.title('Ventas totales por género')\n",
    "plt.xlabel('Género')\n",
    "plt.ylabel('Ventas Totales (Millones)')\n",
    "plt.xticks(rotation=45)\n",
    "plt.show()"
   ]
  },
  {
   "cell_type": "markdown",
   "metadata": {},
   "source": [
    "**Análisis de Géneros de Ventas Altas y Bajas**\n",
    "\n",
    "Identificar los géneros con ventas altas y bajas:\n",
    "\n",
    "Géneros con ventas altas: Analiza cuántos juegos y qué plataformas están asociadas con estos géneros. Investiga si hay alguna tendencia particular en términos de gameplay o popularidad.\n",
    "\n",
    "Géneros con ventas bajas: Del mismo modo, explora las razones detrás de sus ventas bajas. Pregúntate si estos géneros han sido más difíciles de monetizar, si han caído en popularidad, o si hay menos títulos lanzados en comparación con otros."
   ]
  },
  {
   "cell_type": "code",
   "execution_count": null,
   "metadata": {},
   "outputs": [],
   "source": []
  },
  {
   "cell_type": "markdown",
   "metadata": {},
   "source": [
    "**Comparar Ventas Regionales**\n",
    "\n",
    "También puedes observar cómo varían las ventas de diferentes géneros en distintas regiones. Esto puede ofrecerte información sobre las preferencias del consumidor en diferentes partes del mundo."
   ]
  },
  {
   "cell_type": "code",
   "execution_count": 47,
   "metadata": {},
   "outputs": [
    {
     "data": {
      "image/png": "[encoded data removed]",
      "text/plain": [
       "<Figure size 1200x600 with 1 Axes>"
      ]
     },
     "metadata": {},
     "output_type": "display_data"
    }
   ],
   "source": [
    "# Graficar ventas por región y género\n",
    "sales_by_region_genre = df_games.groupby('genre')[['na_sales', 'eu_sales', 'jp_sales', 'other_sales']].sum()\n",
    "\n",
    "# Graficar usando un gráfico de barras apiladas\n",
    "sales_by_region_genre.plot(kind='bar', stacked=True, figsize=(12, 6))\n",
    "plt.title('Ventas por región y género')\n",
    "plt.xlabel('Género')\n",
    "plt.ylabel('Ventas Totales (Millones)')\n",
    "plt.xticks(rotation=45)\n",
    "plt.legend(title='Región')\n",
    "plt.show()"
   ]
  },
  {
   "cell_type": "markdown",
   "metadata": {},
   "source": [
    "Resumen de Observaciones\n",
    "\n",
    "Identificación de Tendencias: Generalizar sobre los géneros más y menos populares. Evalúar la relación entre la cantidad de títulos producidos y sus ventas.\n",
    "\n",
    "Impacto en el Desarrollo de Juegos: Esta análisis puede influir en el desarrollo futuro de videojuegos y las decisiones de marketing.\n",
    "\n",
    "Diferencias Regionales: Teniendo en cuenta las diferencias en las preferencias según la región, lo cual es crucial para desarrollar y comercializar videojuegos.\n",
    "\n",
    "Este enfoque permitirá comprender mejor cómo las ventas se distribuyen entre los diferentes géneros en la industria de videojuegos. "
   ]
  },
  {
   "cell_type": "markdown",
   "metadata": {},
   "source": [
    "Calcular Rentabilidad por Género\n",
    "Si dispones de información sobre los costos de desarrollo o producción por género, este será un factor clave para calcular la rentabilidad. Sin embargo, si solo tienes datos de ventas, puedes evaluar la rentabilidad en términos de ventas totales. Si no tienes costos, simplemente puedes analizar las ventas."
   ]
  },
  {
   "cell_type": "code",
   "execution_count": null,
   "metadata": {},
   "outputs": [],
   "source": []
  },
  {
   "cell_type": "code",
   "execution_count": 48,
   "metadata": {},
   "outputs": [
    {
     "name": "stdout",
     "output_type": "stream",
     "text": [
      "              total_sales  title_count  avg_sales_per_title\n",
      "Platform           827.77          888             0.932173\n",
      "Shooter           1052.45         1323             0.795503\n",
      "Role-Playing       934.56         1498             0.623872\n",
      "Racing             728.67         1249             0.583403\n",
      "Sports            1331.27         2348             0.566980\n",
      "Fighting           447.53          849             0.527126\n",
      "Action            1744.17         3369             0.517711\n",
      "Misc               802.51         1750             0.458577\n",
      "Simulation         389.97          873             0.446701\n",
      "Puzzle             242.57          580             0.418224\n",
      "Strategy           174.23          683             0.255095\n",
      "Adventure          237.59         1303             0.182341\n"
     ]
    }
   ],
   "source": [
    "# Calcular cuántos títulos hay por género\n",
    "titles_by_genre = df_games['genre'].value_counts()\n",
    "\n",
    "# Combinar ventas y cantidad de títulos en un solo DataFrame para un análisis más completo\n",
    "genre_analysis = pd.DataFrame({\n",
    "    'total_sales': total_sales_by_genre['total_sales'],\n",
    "    'title_count': titles_by_genre\n",
    "})\n",
    "\n",
    "# Calcular las ventas promedio por título\n",
    "genre_analysis['avg_sales_per_title'] = genre_analysis['total_sales'] / genre_analysis['title_count']\n",
    "\n",
    "# Ordenar por ventas promedio por título\n",
    "genre_analysis = genre_analysis.sort_values('avg_sales_per_title', ascending=False)\n",
    "print(genre_analysis)"
   ]
  },
  {
   "cell_type": "markdown",
   "metadata": {},
   "source": [
    "Resumen de Observaciones\n",
    "\n",
    "Identificación de Géneros Rentables: Utilizar la información obtenida para identificar qué géneros son más rentables en términos de ventas totales y ventas promedio por título.\n",
    "\n",
    "Recomendaciones de Mercado: Evalúar si ciertos géneros presentan un alto potencial de rentabilidad y considerar recomendar la inversión en esos géneros.\n",
    "\n",
    "Tendencias a Largo Plazo: Si tenemos datos a través de los años, analizar cómo están cambiando las tendencias de rentabilidad por género a lo largo del tiempo.\n",
    "Este enfoque te permitirá conocer qué géneros son más rentables en el conjunto de datos. "
   ]
  },
  {
   "cell_type": "code",
   "execution_count": null,
   "metadata": {},
   "outputs": [],
   "source": []
  },
  {
   "cell_type": "code",
   "execution_count": 49,
   "metadata": {},
   "outputs": [
    {
     "name": "stdout",
     "output_type": "stream",
     "text": [
      "Top 5 plataformas en NA:\n",
      "           na_sales  eu_sales  jp_sales\n",
      "platform                              \n",
      "X360        602.47    270.76     12.43\n",
      "PS2         583.84    339.29    139.20\n",
      "Wii         496.90    262.21     69.33\n",
      "PS3         393.49    330.29     80.19\n",
      "DS          382.40    188.89    175.57\n",
      "Top 5 plataformas en UE:\n",
      "           na_sales  eu_sales  jp_sales\n",
      "platform                              \n",
      "PS2         583.84    339.29    139.20\n",
      "PS3         393.49    330.29     80.19\n",
      "X360        602.47    270.76     12.43\n",
      "Wii         496.90    262.21     69.33\n",
      "PS          336.52    213.61    139.82\n",
      "Top 5 plataformas en JP:\n",
      "           na_sales  eu_sales  jp_sales\n",
      "platform                              \n",
      "DS          382.40    188.89    175.57\n",
      "PS          336.52    213.61    139.82\n",
      "PS2         583.84    339.29    139.20\n",
      "SNES         61.23     19.04    116.55\n",
      "3DS          83.49     61.48    100.67\n"
     ]
    }
   ],
   "source": [
    "# Calcular ventas totales por plataforma y región\n",
    "platform_sales_by_region = df_games.groupby('platform')[['na_sales', 'eu_sales', 'jp_sales']].sum()\n",
    "\n",
    "# Obtener las cinco principales plataformas por región\n",
    "top_platforms_na = platform_sales_by_region.nlargest(5, 'na_sales')\n",
    "top_platforms_eu = platform_sales_by_region.nlargest(5, 'eu_sales')\n",
    "top_platforms_jp = platform_sales_by_region.nlargest(5, 'jp_sales')\n",
    "\n",
    "print(\"Top 5 plataformas en NA:\\n\", top_platforms_na)\n",
    "print(\"Top 5 plataformas en UE:\\n\", top_platforms_eu)\n",
    "print(\"Top 5 plataformas en JP:\\n\", top_platforms_jp)"
   ]
  },
  {
   "cell_type": "markdown",
   "metadata": {},
   "source": [
    "Variaciones en cuotas de mercado\n",
    "\n",
    "Para analizar las variaciones en cuotas de mercado entre regiones, calcularemos las cuotas de mercado de las plataformas seleccionadas:"
   ]
  },
  {
   "cell_type": "code",
   "execution_count": 50,
   "metadata": {},
   "outputs": [
    {
     "name": "stdout",
     "output_type": "stream",
     "text": [
      "          na_market_share  eu_market_share  jp_market_share\n",
      "platform                                                   \n",
      "2600             0.020580         0.002256         0.000000\n",
      "3DO              0.000000         0.000000         0.000077\n",
      "3DS              0.018965         0.025356         0.077595\n",
      "DC               0.001233         0.000697         0.006598\n",
      "DS               0.086863         0.077903         0.135328\n",
      "GB               0.025968         0.019722         0.065610\n",
      "GBA              0.042600         0.031035         0.036481\n",
      "GC               0.030316         0.015965         0.016634\n",
      "GEN              0.004782         0.002495         0.002081\n",
      "GG               0.000000         0.000000         0.000031\n",
      "N64              0.031579         0.016934         0.026376\n",
      "NES              0.028607         0.008723         0.076038\n",
      "NG               0.000000         0.000000         0.001110\n",
      "PC               0.021473         0.058746         0.000131\n",
      "PCFX             0.000000         0.000000         0.000023\n",
      "PS               0.076441         0.088099         0.107772\n",
      "PS2              0.132620         0.139932         0.107294\n",
      "PS3              0.089382         0.136221         0.061810\n",
      "PS4              0.024700         0.058189         0.012302\n",
      "PSP              0.024798         0.027501         0.059181\n",
      "PSV              0.002858         0.005411         0.016888\n",
      "SAT              0.000164         0.000223         0.024866\n",
      "SCD              0.000227         0.000148         0.000347\n",
      "SNES             0.013908         0.007853         0.089836\n",
      "TG16             0.000000         0.000000         0.000123\n",
      "WS               0.000000         0.000000         0.001095\n",
      "Wii              0.112872         0.108143         0.053439\n",
      "WiiU             0.008654         0.010364         0.010028\n",
      "X360             0.136852         0.111669         0.009581\n",
      "XB               0.042407         0.025137         0.001064\n",
      "XOne             0.021152         0.021277         0.000262\n"
     ]
    }
   ],
   "source": [
    "# Calcular cuotas de mercado\n",
    "total_sales_na = platform_sales_by_region['na_sales'].sum()\n",
    "total_sales_eu = platform_sales_by_region['eu_sales'].sum()\n",
    "total_sales_jp = platform_sales_by_region['jp_sales'].sum()\n",
    "\n",
    "platform_sales_by_region['na_market_share'] = platform_sales_by_region['na_sales'] / total_sales_na\n",
    "platform_sales_by_region['eu_market_share'] = platform_sales_by_region['eu_sales'] / total_sales_eu\n",
    "platform_sales_by_region['jp_market_share'] = platform_sales_by_region['jp_sales'] / total_sales_jp\n",
    "\n",
    "# Mostrar cuotas de mercado\n",
    "print(platform_sales_by_region[['na_market_share', 'eu_market_share', 'jp_market_share']])"
   ]
  },
  {
   "cell_type": "markdown",
   "metadata": {},
   "source": [
    "**Los cinco géneros principales por región**\n",
    "\n",
    "Ahora calculamos las ventas totales por género para cada región y determinamos los cinco principales:"
   ]
  },
  {
   "cell_type": "code",
   "execution_count": 51,
   "metadata": {},
   "outputs": [
    {
     "name": "stdout",
     "output_type": "stream",
     "text": [
      "Top 5 géneros en NA:\n",
      "           na_sales  eu_sales  jp_sales\n",
      "genre                                 \n",
      "Action      879.01    519.13    161.43\n",
      "Sports      684.43    376.79    135.54\n",
      "Shooter     592.24    317.34     38.76\n",
      "Platform    445.50    200.35    130.83\n",
      "Misc        407.27    212.74    108.11\n",
      "Top 5 géneros en UE:\n",
      "          na_sales  eu_sales  jp_sales\n",
      "genre                                \n",
      "Action     879.01    519.13    161.43\n",
      "Sports     684.43    376.79    135.54\n",
      "Shooter    592.24    317.34     38.76\n",
      "Racing     359.35    236.51     56.71\n",
      "Misc       407.27    212.74    108.11\n",
      "Top 5 géneros en JP:\n",
      "               na_sales  eu_sales  jp_sales\n",
      "genre                                     \n",
      "Role-Playing    330.81    188.71    355.41\n",
      "Action          879.01    519.13    161.43\n",
      "Sports          684.43    376.79    135.54\n",
      "Platform        445.50    200.35    130.83\n",
      "Misc            407.27    212.74    108.11\n"
     ]
    }
   ],
   "source": [
    "# Calcular ventas totales por género y región\n",
    "genre_sales_by_region = df_games.groupby('genre')[['na_sales', 'eu_sales', 'jp_sales']].sum()\n",
    "\n",
    "# Obtener las cinco principales géneros por región\n",
    "top_genres_na = genre_sales_by_region.nlargest(5, 'na_sales')\n",
    "top_genres_eu = genre_sales_by_region.nlargest(5, 'eu_sales')\n",
    "top_genres_jp = genre_sales_by_region.nlargest(5, 'jp_sales')\n",
    "\n",
    "print(\"Top 5 géneros en NA:\\n\", top_genres_na)\n",
    "print(\"Top 5 géneros en UE:\\n\", top_genres_eu)\n",
    "print(\"Top 5 géneros en JP:\\n\", top_genres_jp)"
   ]
  },
  {
   "cell_type": "markdown",
   "metadata": {},
   "source": [
    "Variaciones y Diferencias en Géneros\n",
    "\n",
    "A partir de los resultados, observa las diferencias entre los géneros más vendidos en diferentes regiones. Por ejemplo:\n",
    "\n",
    "Preferencias Regionales: Puedes notar que ciertos géneros son más populares en una región que en otra. Esto puede estar influenciado por factores culturales.\n",
    "\n",
    "Tendencias de Competiciones: Puede que algunos géneros tengan más competencia en una región y, por lo tanto, su popularidad sea diferente."
   ]
  },
  {
   "cell_type": "code",
   "execution_count": null,
   "metadata": {},
   "outputs": [],
   "source": []
  },
  {
   "cell_type": "markdown",
   "metadata": {},
   "source": [
    "Impacto de las Clasificaciones ESRB en las Ventas.\n",
    "\n",
    "Para evaluar si las clasificaciones ESRB afectan a las ventas en regiones individuales, calcula las ventas totales por clasificación en cada región:"
   ]
  },
  {
   "cell_type": "code",
   "execution_count": 52,
   "metadata": {},
   "outputs": [
    {
     "name": "stdout",
     "output_type": "stream",
     "text": [
      "        na_sales  eu_sales  jp_sales\n",
      "rating                              \n",
      "AO          1.26      0.61      0.00\n",
      "E        1292.99    710.25    198.11\n",
      "E10+      353.32    188.52     40.20\n",
      "EC          1.53      0.11      0.00\n",
      "K-A         2.56      0.27      1.46\n",
      "M         748.48    483.97     64.24\n",
      "RP          0.00      0.08      0.00\n",
      "T         759.75    427.03    151.40\n"
     ]
    }
   ],
   "source": [
    "# Calcular ventas totales por clasificación ESRB y región\n",
    "\n",
    "esrb_sales = df_games.groupby('rating')[['na_sales', 'eu_sales', 'jp_sales']].sum()\n",
    "\n",
    "# Mostrar las ventas por clasificación\n",
    "\n",
    "print(esrb_sales)"
   ]
  },
  {
   "cell_type": "markdown",
   "metadata": {},
   "source": [
    "Grafica estas ventas para visualizar cómo las clasificaciones se relacionan con las ventas en diferentes regiones"
   ]
  },
  {
   "cell_type": "code",
   "execution_count": 53,
   "metadata": {},
   "outputs": [
    {
     "data": {
      "image/png": "[encoded data removed]",
      "text/plain": [
       "<Figure size 1200x600 with 1 Axes>"
      ]
     },
     "metadata": {},
     "output_type": "display_data"
    }
   ],
   "source": [
    "# Crear un gráfico de barras para visualizar las ventas por clasificación ESRB\n",
    "esrb_sales.plot(kind='bar', figsize=(12, 6))\n",
    "plt.title('Ventas por Clasificación ESRB en diferentes Regiones')\n",
    "plt.xlabel('Clasificación ESRB')\n",
    "plt.ylabel('Ventas Totales (Millones)')\n",
    "plt.xticks(rotation=45)\n",
    "plt.legend(title='Región')\n",
    "plt.grid()\n",
    "plt.show()"
   ]
  },
  {
   "cell_type": "markdown",
   "metadata": {},
   "source": [
    "Conclusiones\n",
    "Plataformas y Géneros Principales: Las cinco plataformas y géneros principales proporcionarán información sobre qué elecciones hacen los consumidores en cada región. Las diferencias en la cuota de mercado pueden indicar regiones más competitivas para ciertos productos.\n",
    "\n",
    "Variaciones en Preferencias: Las observaciones sobre diferentes géneros pueden ayudar a las empresas a adaptar sus estrategias de marketing y desarrollo a las preferencias locales.\n",
    "\n",
    "Clasificaciones ESRB: Evaluar cómo influyen las clasificaciones ESRB en las ventas es fundamental para formular estrategias de lanzamiento y marketing. Un análisis que muestre un impacto positivo de ciertas clasificaciones en ventas podría llevar a un enfoque más centrado en esas cualidades en futuros lanzamientos."
   ]
  },
  {
   "cell_type": "code",
   "execution_count": null,
   "metadata": {},
   "outputs": [],
   "source": []
  },
  {
   "cell_type": "markdown",
   "metadata": {},
   "source": [
    "#  Prueba las siguientes hipótesis:"
   ]
  },
  {
   "cell_type": "markdown",
   "metadata": {},
   "source": [
    "— Las calificaciones promedio de los usuarios para las plataformas Xbox One y PC son las mismas.\n",
    "\n",
    "— Las calificaciones promedio de los usuarios para los géneros de Acción y Deportes son diferentes.\n",
    "\n",
    "Establece tu mismo el valor de umbral alfa.\n",
    "\n",
    "Explica:\n",
    "\n",
    "— Cómo formulaste las hipótesis nula y alternativa.\n",
    "\n",
    "— Qué criterio utilizaste para probar las hipótesis y por qué."
   ]
  },
  {
   "cell_type": "code",
   "execution_count": 64,
   "metadata": {},
   "outputs": [],
   "source": [
    "# Filtrar plataformas Xbox One y PC\n",
    "xbox_one_scores = df_games[df_games['platform'] == 'XOne']['user_score'].dropna()\n",
    "pc_scores = df_games[df_games['platform'] == 'PC']['user_score'].dropna()\n"
   ]
  },
  {
   "cell_type": "code",
   "execution_count": 65,
   "metadata": {},
   "outputs": [
    {
     "name": "stdout",
     "output_type": "stream",
     "text": [
      "Prueba de Levene: Estadístico = 7.777487276478054e-05, p-value = 0.9929649852182456\n"
     ]
    }
   ],
   "source": [
    "levene_statistic, p_value_levene = stats.levene(xbox_one_scores, pc_scores)\n",
    "alpha = 0.05\n",
    "\n",
    "print(f'Prueba de Levene: Estadístico = {levene_statistic}, p-value = {p_value_levene}')"
   ]
  },
  {
   "cell_type": "code",
   "execution_count": 66,
   "metadata": {},
   "outputs": [
    {
     "name": "stdout",
     "output_type": "stream",
     "text": [
      "No rechazamos la hipótesis nula de varianzas iguales.\n"
     ]
    }
   ],
   "source": [
    "if p_value_levene > alpha:\n",
    "    print(\"No rechazamos la hipótesis nula de varianzas iguales.\")\n",
    "    equal_var = True  # Si no se rechaza, usamos True\n",
    "else:\n",
    "    print(\"Rechazamos la hipótesis nula de varianzas iguales.\")\n",
    "    equal_var = False  # Si se rechaza, usamos False"
   ]
  },
  {
   "cell_type": "code",
   "execution_count": 67,
   "metadata": {},
   "outputs": [
    {
     "name": "stdout",
     "output_type": "stream",
     "text": [
      "Prueba t: Estadístico = -3.9004867777916257, p-value = 0.0001012395510719321\n"
     ]
    }
   ],
   "source": [
    "t_statistic, p_value_t = stats.ttest_ind(xbox_one_scores, pc_scores, equal_var=equal_var)\n",
    "\n",
    "print(f'Prueba t: Estadístico = {t_statistic}, p-value = {p_value_t}')"
   ]
  },
  {
   "cell_type": "code",
   "execution_count": 68,
   "metadata": {},
   "outputs": [
    {
     "name": "stdout",
     "output_type": "stream",
     "text": [
      "Rechazamos la hipótesis nula: hay una diferencia significativa entre Xbox One y PC.\n"
     ]
    }
   ],
   "source": [
    "if p_value_t < alpha:\n",
    "    print(\"Rechazamos la hipótesis nula: hay una diferencia significativa entre Xbox One y PC.\")\n",
    "else:\n",
    "    print(\"No rechazamos la hipótesis nula: no hay una diferencia significativa entre Xbox One y PC.\")"
   ]
  },
  {
   "cell_type": "code",
   "execution_count": null,
   "metadata": {},
   "outputs": [],
   "source": []
  },
  {
   "cell_type": "code",
   "execution_count": 74,
   "metadata": {},
   "outputs": [],
   "source": [
    "# Filtrar géneros de acción y deportes\n",
    "action_scores = df_games[df_games['genre'] == 'Action']['user_score'].dropna()\n",
    "sports_scores = df_games[df_games['genre'] == 'Sports']['user_score'].dropna()\n"
   ]
  },
  {
   "cell_type": "code",
   "execution_count": 75,
   "metadata": {},
   "outputs": [
    {
     "name": "stdout",
     "output_type": "stream",
     "text": [
      "Prueba de Levene: Estadístico = 0.1669962996816641, p-value = 0.6828105166182066\n"
     ]
    }
   ],
   "source": [
    "levene_statistic, p_value_levene = stats.levene(action_scores, sports_scores)\n",
    "alpha = 0.05\n",
    "\n",
    "print(f'Prueba de Levene: Estadístico = {levene_statistic}, p-value = {p_value_levene}')"
   ]
  },
  {
   "cell_type": "code",
   "execution_count": 76,
   "metadata": {},
   "outputs": [
    {
     "name": "stdout",
     "output_type": "stream",
     "text": [
      "No rechazamos la hipótesis nula de varianzas iguales.\n"
     ]
    }
   ],
   "source": [
    "if p_value_levene > alpha:\n",
    "    print(\"No rechazamos la hipótesis nula de varianzas iguales.\")\n",
    "    equal_var = True  # Si no se rechaza, usamos True\n",
    "else:\n",
    "    print(\"Rechazamos la hipótesis nula de varianzas iguales.\")\n",
    "    equal_var = False  # Si se rechaza, usamos False\n"
   ]
  },
  {
   "cell_type": "code",
   "execution_count": 77,
   "metadata": {},
   "outputs": [
    {
     "name": "stdout",
     "output_type": "stream",
     "text": [
      "Prueba t: Estadístico = 0.3676581294613721, p-value = 0.7131417795320426\n"
     ]
    }
   ],
   "source": [
    "t_statistic, p_value_t = stats.ttest_ind(action_scores, sports_scores, equal_var=equal_var)\n",
    "\n",
    "print(f'Prueba t: Estadístico = {t_statistic}, p-value = {p_value_t}')"
   ]
  },
  {
   "cell_type": "code",
   "execution_count": 78,
   "metadata": {},
   "outputs": [
    {
     "name": "stdout",
     "output_type": "stream",
     "text": [
      "No rechazamos la hipótesis nula: no hay una diferencia significativa entre las calificaciones de Acción y Deportes.\n"
     ]
    }
   ],
   "source": [
    "if p_value_t < alpha:\n",
    "    print(\"Rechazamos la hipótesis nula: hay una diferencia significativa entre las calificaciones de Acción y Deportes.\")\n",
    "else:\n",
    "    print(\"No rechazamos la hipótesis nula: no hay una diferencia significativa entre las calificaciones de Acción y Deportes.\")"
   ]
  },
  {
   "cell_type": "markdown",
   "metadata": {},
   "source": [
    "#  Resumen\n",
    "\n",
    "Se formularon hipótesis nula y alternativa, correspondientes a las comparaciones de las medias entre plataformas y géneros.\n",
    "\n",
    "Criterio para la Prueba: Se utilizó una prueba t de Student como criterio para probar las hipótesis, basándose en su adecuación para comparar las medias de dos muestras independientes.\n"
   ]
  },
  {
   "cell_type": "code",
   "execution_count": null,
   "metadata": {},
   "outputs": [],
   "source": []
  }
 ],
 "metadata": {
  "ExecuteTimeLog": [
   {
    "duration": 2424,
    "start_time": "2024-12-04T04:34:52.271Z"
   },
   {
    "duration": 35,
    "start_time": "2024-12-04T04:34:54.697Z"
   },
   {
    "duration": 12,
    "start_time": "2024-12-04T04:35:17.477Z"
   },
   {
    "duration": 13,
    "start_time": "2024-12-04T04:35:51.082Z"
   },
   {
    "duration": 159,
    "start_time": "2024-12-05T20:20:15.700Z"
   },
   {
    "duration": 2452,
    "start_time": "2024-12-05T20:20:24.614Z"
   },
   {
    "duration": 3,
    "start_time": "2024-12-05T20:20:27.069Z"
   },
   {
    "duration": 49,
    "start_time": "2024-12-05T20:20:27.073Z"
   },
   {
    "duration": 11,
    "start_time": "2024-12-05T20:20:27.124Z"
   },
   {
    "duration": 18,
    "start_time": "2024-12-05T20:20:27.138Z"
   },
   {
    "duration": 73,
    "start_time": "2024-12-05T20:21:11.652Z"
   },
   {
    "duration": 14,
    "start_time": "2024-12-05T20:21:38.774Z"
   },
   {
    "duration": 12,
    "start_time": "2024-12-05T20:21:45.537Z"
   },
   {
    "duration": 3,
    "start_time": "2024-12-05T20:24:49.599Z"
   },
   {
    "duration": 2,
    "start_time": "2024-12-05T20:24:50.086Z"
   },
   {
    "duration": 24,
    "start_time": "2024-12-05T20:24:50.712Z"
   },
   {
    "duration": 12,
    "start_time": "2024-12-05T20:24:53.617Z"
   },
   {
    "duration": 11,
    "start_time": "2024-12-05T20:25:06.187Z"
   },
   {
    "duration": 3,
    "start_time": "2024-12-05T20:29:37.118Z"
   },
   {
    "duration": 16,
    "start_time": "2024-12-05T20:29:44.780Z"
   },
   {
    "duration": 15,
    "start_time": "2024-12-06T00:42:44.729Z"
   },
   {
    "duration": 13,
    "start_time": "2024-12-06T00:43:03.451Z"
   },
   {
    "duration": 25,
    "start_time": "2024-12-06T00:43:05.918Z"
   },
   {
    "duration": 13,
    "start_time": "2024-12-06T00:43:06.449Z"
   },
   {
    "duration": 12,
    "start_time": "2024-12-06T00:43:07.278Z"
   },
   {
    "duration": 3,
    "start_time": "2024-12-06T00:43:08.219Z"
   },
   {
    "duration": 2,
    "start_time": "2024-12-06T00:43:08.374Z"
   },
   {
    "duration": 20,
    "start_time": "2024-12-06T00:43:08.648Z"
   },
   {
    "duration": 2,
    "start_time": "2024-12-06T00:43:08.966Z"
   },
   {
    "duration": 12,
    "start_time": "2024-12-06T00:43:09.660Z"
   },
   {
    "duration": 480,
    "start_time": "2024-12-06T00:43:37.526Z"
   },
   {
    "duration": 5,
    "start_time": "2024-12-06T00:44:56.500Z"
   },
   {
    "duration": 17,
    "start_time": "2024-12-06T00:45:06.417Z"
   },
   {
    "duration": 13,
    "start_time": "2024-12-06T00:45:22.570Z"
   },
   {
    "duration": 13,
    "start_time": "2024-12-06T00:47:58.896Z"
   },
   {
    "duration": 7,
    "start_time": "2024-12-06T00:48:43.733Z"
   },
   {
    "duration": 24,
    "start_time": "2024-12-06T00:50:28.127Z"
   },
   {
    "duration": 17,
    "start_time": "2024-12-06T00:51:43.001Z"
   },
   {
    "duration": 9,
    "start_time": "2024-12-06T00:51:50.559Z"
   },
   {
    "duration": 66,
    "start_time": "2024-12-06T01:48:25.873Z"
   },
   {
    "duration": 109,
    "start_time": "2024-12-06T01:49:26.287Z"
   },
   {
    "duration": 20,
    "start_time": "2024-12-06T01:49:29.123Z"
   },
   {
    "duration": 11,
    "start_time": "2024-12-06T01:49:31.072Z"
   },
   {
    "duration": 6,
    "start_time": "2024-12-06T01:49:32.359Z"
   },
   {
    "duration": 154,
    "start_time": "2024-12-06T19:06:35.851Z"
   },
   {
    "duration": 2493,
    "start_time": "2024-12-06T19:06:43.708Z"
   },
   {
    "duration": 2,
    "start_time": "2024-12-06T19:06:46.204Z"
   },
   {
    "duration": 37,
    "start_time": "2024-12-06T19:06:46.208Z"
   },
   {
    "duration": 12,
    "start_time": "2024-12-06T19:06:46.247Z"
   },
   {
    "duration": 14,
    "start_time": "2024-12-06T19:06:50.075Z"
   },
   {
    "duration": 2,
    "start_time": "2024-12-06T19:06:55.191Z"
   },
   {
    "duration": 3,
    "start_time": "2024-12-06T19:06:55.849Z"
   },
   {
    "duration": 15,
    "start_time": "2024-12-06T19:06:57.518Z"
   },
   {
    "duration": 19,
    "start_time": "2024-12-06T19:07:06.755Z"
   },
   {
    "duration": 11,
    "start_time": "2024-12-06T19:07:42.040Z"
   },
   {
    "duration": 6,
    "start_time": "2024-12-06T19:07:42.798Z"
   },
   {
    "duration": 72,
    "start_time": "2024-12-06T19:12:34.943Z"
   },
   {
    "duration": 82,
    "start_time": "2024-12-06T19:12:57.998Z"
   },
   {
    "duration": 13,
    "start_time": "2024-12-06T19:16:54.251Z"
   },
   {
    "duration": 14,
    "start_time": "2024-12-06T19:17:11.348Z"
   },
   {
    "duration": 17,
    "start_time": "2024-12-06T19:33:30.290Z"
   },
   {
    "duration": 21,
    "start_time": "2024-12-06T20:23:22.096Z"
   },
   {
    "duration": 602,
    "start_time": "2024-12-06T20:56:31.656Z"
   },
   {
    "duration": 2,
    "start_time": "2024-12-07T00:23:40.919Z"
   },
   {
    "duration": 6,
    "start_time": "2024-12-07T00:23:59.287Z"
   },
   {
    "duration": 3,
    "start_time": "2024-12-07T00:29:56.307Z"
   },
   {
    "duration": 3,
    "start_time": "2024-12-07T00:29:57.790Z"
   },
   {
    "duration": 3,
    "start_time": "2024-12-07T00:29:58.553Z"
   },
   {
    "duration": 13,
    "start_time": "2024-12-07T00:30:00.014Z"
   },
   {
    "duration": 19,
    "start_time": "2024-12-07T00:30:15.430Z"
   },
   {
    "duration": 10,
    "start_time": "2024-12-07T00:30:25.910Z"
   },
   {
    "duration": 4,
    "start_time": "2024-12-07T00:30:27.537Z"
   },
   {
    "duration": 23,
    "start_time": "2024-12-07T00:36:11.165Z"
   },
   {
    "duration": 3,
    "start_time": "2024-12-07T00:41:56.488Z"
   },
   {
    "duration": 25,
    "start_time": "2024-12-07T00:41:57.476Z"
   },
   {
    "duration": 10,
    "start_time": "2024-12-07T00:42:00.171Z"
   },
   {
    "duration": 3,
    "start_time": "2024-12-07T00:43:53.524Z"
   },
   {
    "duration": 24,
    "start_time": "2024-12-07T00:44:02.909Z"
   },
   {
    "duration": 11,
    "start_time": "2024-12-07T00:44:03.336Z"
   },
   {
    "duration": 19,
    "start_time": "2024-12-07T01:09:06.613Z"
   },
   {
    "duration": 4,
    "start_time": "2024-12-07T01:09:32.428Z"
   },
   {
    "duration": 4,
    "start_time": "2024-12-07T01:09:39.743Z"
   },
   {
    "duration": 7,
    "start_time": "2024-12-07T01:11:42.791Z"
   },
   {
    "duration": 12,
    "start_time": "2024-12-07T01:17:08.426Z"
   },
   {
    "duration": 10,
    "start_time": "2024-12-07T01:17:38.669Z"
   },
   {
    "duration": 15,
    "start_time": "2024-12-07T01:18:26.973Z"
   },
   {
    "duration": 5,
    "start_time": "2024-12-07T01:18:41.267Z"
   },
   {
    "duration": 12,
    "start_time": "2024-12-07T01:21:01.497Z"
   },
   {
    "duration": 5,
    "start_time": "2024-12-07T01:22:17.598Z"
   },
   {
    "duration": 12,
    "start_time": "2024-12-07T01:22:20.854Z"
   },
   {
    "duration": 157,
    "start_time": "2024-12-09T23:57:43.311Z"
   },
   {
    "duration": 2398,
    "start_time": "2024-12-09T23:57:52.553Z"
   },
   {
    "duration": 2,
    "start_time": "2024-12-09T23:57:54.953Z"
   },
   {
    "duration": 36,
    "start_time": "2024-12-09T23:57:54.958Z"
   },
   {
    "duration": 11,
    "start_time": "2024-12-09T23:57:54.996Z"
   },
   {
    "duration": 14,
    "start_time": "2024-12-09T23:57:55.009Z"
   },
   {
    "duration": 2,
    "start_time": "2024-12-09T23:57:55.025Z"
   },
   {
    "duration": 4,
    "start_time": "2024-12-09T23:57:55.028Z"
   },
   {
    "duration": 3,
    "start_time": "2024-12-09T23:57:55.034Z"
   },
   {
    "duration": 3,
    "start_time": "2024-12-09T23:57:55.307Z"
   },
   {
    "duration": 3,
    "start_time": "2024-12-09T23:57:55.593Z"
   },
   {
    "duration": 20,
    "start_time": "2024-12-09T23:57:55.869Z"
   },
   {
    "duration": 11,
    "start_time": "2024-12-09T23:57:56.152Z"
   },
   {
    "duration": 3,
    "start_time": "2024-12-09T23:57:56.484Z"
   },
   {
    "duration": 7,
    "start_time": "2024-12-09T23:57:57.143Z"
   },
   {
    "duration": 7,
    "start_time": "2024-12-09T23:57:57.550Z"
   },
   {
    "duration": 12,
    "start_time": "2024-12-09T23:57:57.920Z"
   },
   {
    "duration": 70,
    "start_time": "2024-12-09T23:57:58.500Z"
   },
   {
    "duration": 11,
    "start_time": "2024-12-09T23:58:32.814Z"
   },
   {
    "duration": 6,
    "start_time": "2024-12-10T00:00:45.465Z"
   },
   {
    "duration": 3,
    "start_time": "2024-12-10T00:00:56.720Z"
   },
   {
    "duration": 12,
    "start_time": "2024-12-10T00:01:23.700Z"
   },
   {
    "duration": 4,
    "start_time": "2024-12-10T00:22:43.387Z"
   },
   {
    "duration": 3,
    "start_time": "2024-12-10T00:25:39.103Z"
   },
   {
    "duration": 2,
    "start_time": "2024-12-10T00:25:39.540Z"
   },
   {
    "duration": 23,
    "start_time": "2024-12-10T00:25:39.899Z"
   },
   {
    "duration": 12,
    "start_time": "2024-12-10T00:25:40.131Z"
   },
   {
    "duration": 12,
    "start_time": "2024-12-10T00:25:40.373Z"
   },
   {
    "duration": 2,
    "start_time": "2024-12-10T00:25:40.848Z"
   },
   {
    "duration": 3,
    "start_time": "2024-12-10T00:25:41.123Z"
   },
   {
    "duration": 4,
    "start_time": "2024-12-10T00:25:41.448Z"
   },
   {
    "duration": 2,
    "start_time": "2024-12-10T00:25:41.764Z"
   },
   {
    "duration": 3,
    "start_time": "2024-12-10T00:25:42.154Z"
   },
   {
    "duration": 19,
    "start_time": "2024-12-10T00:25:42.803Z"
   },
   {
    "duration": 10,
    "start_time": "2024-12-10T00:25:44.409Z"
   },
   {
    "duration": 5,
    "start_time": "2024-12-10T00:25:44.658Z"
   },
   {
    "duration": 6,
    "start_time": "2024-12-10T00:25:45.470Z"
   },
   {
    "duration": 5,
    "start_time": "2024-12-10T00:25:46.994Z"
   },
   {
    "duration": 13,
    "start_time": "2024-12-10T00:25:54.314Z"
   },
   {
    "duration": 12,
    "start_time": "2024-12-10T00:25:57.355Z"
   },
   {
    "duration": 4,
    "start_time": "2024-12-10T00:26:00.244Z"
   },
   {
    "duration": 12,
    "start_time": "2024-12-10T00:29:55.282Z"
   },
   {
    "duration": 3,
    "start_time": "2024-12-10T00:37:37.587Z"
   },
   {
    "duration": 13,
    "start_time": "2024-12-10T00:37:42.180Z"
   },
   {
    "duration": 17,
    "start_time": "2024-12-10T00:37:46.345Z"
   },
   {
    "duration": 15,
    "start_time": "2024-12-10T00:38:07.197Z"
   },
   {
    "duration": 12,
    "start_time": "2024-12-10T00:38:07.597Z"
   },
   {
    "duration": 3,
    "start_time": "2024-12-10T00:38:15.187Z"
   },
   {
    "duration": 2,
    "start_time": "2024-12-10T00:38:15.631Z"
   },
   {
    "duration": 23,
    "start_time": "2024-12-10T00:38:16.084Z"
   },
   {
    "duration": 13,
    "start_time": "2024-12-10T00:38:16.717Z"
   },
   {
    "duration": 12,
    "start_time": "2024-12-10T00:38:17.223Z"
   },
   {
    "duration": 2,
    "start_time": "2024-12-10T00:38:20.105Z"
   },
   {
    "duration": 3,
    "start_time": "2024-12-10T00:38:20.352Z"
   },
   {
    "duration": 3,
    "start_time": "2024-12-10T00:38:21.018Z"
   },
   {
    "duration": 3,
    "start_time": "2024-12-10T00:38:21.663Z"
   },
   {
    "duration": 12,
    "start_time": "2024-12-10T00:38:22.795Z"
   },
   {
    "duration": 12,
    "start_time": "2024-12-10T00:38:58.138Z"
   },
   {
    "duration": 13,
    "start_time": "2024-12-10T00:39:13.538Z"
   },
   {
    "duration": 2,
    "start_time": "2024-12-10T00:39:41.402Z"
   },
   {
    "duration": 11,
    "start_time": "2024-12-10T00:39:42.460Z"
   },
   {
    "duration": 4,
    "start_time": "2024-12-10T00:39:44.696Z"
   },
   {
    "duration": 15,
    "start_time": "2024-12-10T00:40:12.264Z"
   },
   {
    "duration": 13,
    "start_time": "2024-12-10T00:40:40.890Z"
   },
   {
    "duration": 2,
    "start_time": "2024-12-10T00:41:47.925Z"
   },
   {
    "duration": 11,
    "start_time": "2024-12-10T00:41:48.798Z"
   },
   {
    "duration": 11,
    "start_time": "2024-12-10T00:44:08.392Z"
   },
   {
    "duration": 2,
    "start_time": "2024-12-10T00:44:08.869Z"
   },
   {
    "duration": 5,
    "start_time": "2024-12-10T00:44:21.372Z"
   },
   {
    "duration": 2,
    "start_time": "2024-12-10T00:44:21.955Z"
   },
   {
    "duration": 23,
    "start_time": "2024-12-10T00:44:22.470Z"
   },
   {
    "duration": 10,
    "start_time": "2024-12-10T00:44:23.008Z"
   },
   {
    "duration": 12,
    "start_time": "2024-12-10T00:44:24.490Z"
   },
   {
    "duration": 2,
    "start_time": "2024-12-10T00:44:26.904Z"
   },
   {
    "duration": 3,
    "start_time": "2024-12-10T00:44:27.474Z"
   },
   {
    "duration": 3,
    "start_time": "2024-12-10T00:44:31.079Z"
   },
   {
    "duration": 2,
    "start_time": "2024-12-10T00:44:32.222Z"
   },
   {
    "duration": 2,
    "start_time": "2024-12-10T00:44:33.984Z"
   },
   {
    "duration": 20,
    "start_time": "2024-12-10T00:44:34.699Z"
   },
   {
    "duration": 3,
    "start_time": "2024-12-10T00:44:53.675Z"
   },
   {
    "duration": 13,
    "start_time": "2024-12-10T00:44:54.240Z"
   },
   {
    "duration": 2,
    "start_time": "2024-12-10T00:45:03.451Z"
   },
   {
    "duration": 11,
    "start_time": "2024-12-10T00:45:49.515Z"
   },
   {
    "duration": 2,
    "start_time": "2024-12-10T00:46:05.159Z"
   },
   {
    "duration": 3,
    "start_time": "2024-12-10T00:46:05.628Z"
   },
   {
    "duration": 2,
    "start_time": "2024-12-10T00:46:06.074Z"
   },
   {
    "duration": 2,
    "start_time": "2024-12-10T00:46:06.254Z"
   },
   {
    "duration": 20,
    "start_time": "2024-12-10T00:46:06.458Z"
   },
   {
    "duration": 12,
    "start_time": "2024-12-10T00:46:07.567Z"
   },
   {
    "duration": 4,
    "start_time": "2024-12-10T00:46:23.878Z"
   },
   {
    "duration": 4,
    "start_time": "2024-12-10T00:46:58.586Z"
   },
   {
    "duration": 4,
    "start_time": "2024-12-10T00:48:02.980Z"
   },
   {
    "duration": 5,
    "start_time": "2024-12-10T00:48:11.950Z"
   },
   {
    "duration": 9,
    "start_time": "2024-12-10T00:49:24.888Z"
   },
   {
    "duration": 9,
    "start_time": "2024-12-10T00:50:00.308Z"
   },
   {
    "duration": 9,
    "start_time": "2024-12-10T00:50:22.474Z"
   },
   {
    "duration": 10,
    "start_time": "2024-12-10T00:51:22.628Z"
   },
   {
    "duration": 3,
    "start_time": "2024-12-10T00:52:18.569Z"
   },
   {
    "duration": 2,
    "start_time": "2024-12-10T00:52:19.117Z"
   },
   {
    "duration": 23,
    "start_time": "2024-12-10T00:52:19.667Z"
   },
   {
    "duration": 10,
    "start_time": "2024-12-10T00:52:20.284Z"
   },
   {
    "duration": 20,
    "start_time": "2024-12-10T00:52:32.799Z"
   },
   {
    "duration": 3,
    "start_time": "2024-12-10T00:52:40.111Z"
   },
   {
    "duration": 3,
    "start_time": "2024-12-10T00:52:40.810Z"
   },
   {
    "duration": 3,
    "start_time": "2024-12-10T00:52:41.451Z"
   },
   {
    "duration": 2,
    "start_time": "2024-12-10T00:52:41.694Z"
   },
   {
    "duration": 2,
    "start_time": "2024-12-10T00:52:41.946Z"
   },
   {
    "duration": 20,
    "start_time": "2024-12-10T00:52:42.238Z"
   },
   {
    "duration": 4,
    "start_time": "2024-12-10T00:52:43.341Z"
   },
   {
    "duration": 9,
    "start_time": "2024-12-10T00:52:46.216Z"
   },
   {
    "duration": 4,
    "start_time": "2024-12-10T00:52:46.419Z"
   },
   {
    "duration": 6,
    "start_time": "2024-12-10T00:52:46.604Z"
   },
   {
    "duration": 6,
    "start_time": "2024-12-10T00:52:46.873Z"
   },
   {
    "duration": 12,
    "start_time": "2024-12-10T00:52:47.230Z"
   },
   {
    "duration": 13,
    "start_time": "2024-12-10T00:52:47.712Z"
   },
   {
    "duration": 4,
    "start_time": "2024-12-10T00:52:48.197Z"
   },
   {
    "duration": 5,
    "start_time": "2024-12-10T00:57:09.199Z"
   },
   {
    "duration": 4,
    "start_time": "2024-12-10T00:57:20.683Z"
   },
   {
    "duration": 3,
    "start_time": "2024-12-10T00:57:33.720Z"
   },
   {
    "duration": 4,
    "start_time": "2024-12-10T00:57:48.842Z"
   },
   {
    "duration": 12,
    "start_time": "2024-12-10T00:58:02.738Z"
   },
   {
    "duration": 13,
    "start_time": "2024-12-10T00:58:21.385Z"
   },
   {
    "duration": 2,
    "start_time": "2024-12-10T00:58:49.422Z"
   },
   {
    "duration": 3,
    "start_time": "2024-12-10T00:58:59.420Z"
   },
   {
    "duration": 21,
    "start_time": "2024-12-10T00:59:01.606Z"
   },
   {
    "duration": 3,
    "start_time": "2024-12-10T00:59:06.572Z"
   },
   {
    "duration": 22,
    "start_time": "2024-12-10T00:59:07.999Z"
   },
   {
    "duration": 4,
    "start_time": "2024-12-10T00:59:08.945Z"
   },
   {
    "duration": 11,
    "start_time": "2024-12-10T00:59:09.176Z"
   },
   {
    "duration": 4,
    "start_time": "2024-12-10T00:59:10.154Z"
   },
   {
    "duration": 5,
    "start_time": "2024-12-10T00:59:11.204Z"
   },
   {
    "duration": 5,
    "start_time": "2024-12-10T00:59:12.171Z"
   },
   {
    "duration": 13,
    "start_time": "2024-12-10T00:59:12.835Z"
   },
   {
    "duration": 12,
    "start_time": "2024-12-10T00:59:15.649Z"
   },
   {
    "duration": 4,
    "start_time": "2024-12-10T00:59:19.002Z"
   },
   {
    "duration": 22,
    "start_time": "2024-12-10T01:01:13.287Z"
   },
   {
    "duration": 3,
    "start_time": "2024-12-10T01:01:37.701Z"
   },
   {
    "duration": 2,
    "start_time": "2024-12-10T01:01:38.171Z"
   },
   {
    "duration": 24,
    "start_time": "2024-12-10T01:01:38.352Z"
   },
   {
    "duration": 12,
    "start_time": "2024-12-10T01:01:38.530Z"
   },
   {
    "duration": 11,
    "start_time": "2024-12-10T01:01:38.758Z"
   },
   {
    "duration": 2,
    "start_time": "2024-12-10T01:01:39.577Z"
   },
   {
    "duration": 2,
    "start_time": "2024-12-10T01:01:40.515Z"
   },
   {
    "duration": 2,
    "start_time": "2024-12-10T01:01:45.618Z"
   },
   {
    "duration": 2,
    "start_time": "2024-12-10T01:01:45.920Z"
   },
   {
    "duration": 2,
    "start_time": "2024-12-10T01:01:46.613Z"
   },
   {
    "duration": 4,
    "start_time": "2024-12-10T01:01:49.612Z"
   },
   {
    "duration": 10,
    "start_time": "2024-12-10T01:01:53.292Z"
   },
   {
    "duration": 20,
    "start_time": "2024-12-10T01:01:54.193Z"
   },
   {
    "duration": 4,
    "start_time": "2024-12-10T01:01:55.839Z"
   },
   {
    "duration": 7,
    "start_time": "2024-12-10T01:01:57.142Z"
   },
   {
    "duration": 5,
    "start_time": "2024-12-10T01:02:00.676Z"
   },
   {
    "duration": 12,
    "start_time": "2024-12-10T01:02:05.275Z"
   },
   {
    "duration": 13,
    "start_time": "2024-12-10T01:02:07.876Z"
   },
   {
    "duration": 4,
    "start_time": "2024-12-10T01:02:11.570Z"
   },
   {
    "duration": 13,
    "start_time": "2024-12-10T01:03:19.040Z"
   },
   {
    "duration": 5,
    "start_time": "2024-12-10T01:03:31.861Z"
   },
   {
    "duration": 5,
    "start_time": "2024-12-10T01:04:13.886Z"
   },
   {
    "duration": 6,
    "start_time": "2024-12-10T01:05:43.236Z"
   },
   {
    "duration": 3,
    "start_time": "2024-12-10T01:05:46.829Z"
   },
   {
    "duration": 5,
    "start_time": "2024-12-10T01:05:47.481Z"
   },
   {
    "duration": 2442,
    "start_time": "2024-12-11T19:50:08.566Z"
   },
   {
    "duration": 2,
    "start_time": "2024-12-11T19:50:11.011Z"
   },
   {
    "duration": 97,
    "start_time": "2024-12-11T19:50:11.015Z"
   },
   {
    "duration": 12,
    "start_time": "2024-12-11T19:50:11.114Z"
   },
   {
    "duration": 16,
    "start_time": "2024-12-11T19:50:11.128Z"
   },
   {
    "duration": 2,
    "start_time": "2024-12-11T19:50:11.146Z"
   },
   {
    "duration": 3,
    "start_time": "2024-12-11T19:50:11.150Z"
   },
   {
    "duration": 3,
    "start_time": "2024-12-11T19:50:11.363Z"
   },
   {
    "duration": 5,
    "start_time": "2024-12-11T19:50:11.606Z"
   },
   {
    "duration": 10,
    "start_time": "2024-12-11T19:50:11.879Z"
   },
   {
    "duration": 20,
    "start_time": "2024-12-11T19:50:12.270Z"
   },
   {
    "duration": 4,
    "start_time": "2024-12-11T19:50:12.510Z"
   },
   {
    "duration": 6,
    "start_time": "2024-12-11T19:50:12.716Z"
   },
   {
    "duration": 6,
    "start_time": "2024-12-11T19:50:12.939Z"
   },
   {
    "duration": 13,
    "start_time": "2024-12-11T19:50:13.142Z"
   },
   {
    "duration": 13,
    "start_time": "2024-12-11T19:50:13.519Z"
   },
   {
    "duration": 4,
    "start_time": "2024-12-11T19:50:13.886Z"
   },
   {
    "duration": 5,
    "start_time": "2024-12-11T19:50:14.102Z"
   },
   {
    "duration": 9,
    "start_time": "2024-12-12T00:42:31.031Z"
   },
   {
    "duration": 3,
    "start_time": "2024-12-12T00:42:44.789Z"
   },
   {
    "duration": 155,
    "start_time": "2024-12-12T00:43:01.781Z"
   },
   {
    "duration": 2430,
    "start_time": "2024-12-12T00:43:09.601Z"
   },
   {
    "duration": 2,
    "start_time": "2024-12-12T00:43:12.033Z"
   },
   {
    "duration": 38,
    "start_time": "2024-12-12T00:43:12.037Z"
   },
   {
    "duration": 11,
    "start_time": "2024-12-12T00:43:12.078Z"
   },
   {
    "duration": 13,
    "start_time": "2024-12-12T00:43:12.091Z"
   },
   {
    "duration": 2,
    "start_time": "2024-12-12T00:43:12.107Z"
   },
   {
    "duration": 3,
    "start_time": "2024-12-12T00:43:12.110Z"
   },
   {
    "duration": 3,
    "start_time": "2024-12-12T00:43:12.349Z"
   },
   {
    "duration": 5,
    "start_time": "2024-12-12T00:43:13.082Z"
   },
   {
    "duration": 9,
    "start_time": "2024-12-12T00:43:13.837Z"
   },
   {
    "duration": 19,
    "start_time": "2024-12-12T00:43:14.545Z"
   },
   {
    "duration": 4,
    "start_time": "2024-12-12T00:43:14.771Z"
   },
   {
    "duration": 7,
    "start_time": "2024-12-12T00:43:15.441Z"
   },
   {
    "duration": 6,
    "start_time": "2024-12-12T00:43:16.224Z"
   },
   {
    "duration": 13,
    "start_time": "2024-12-12T00:43:17.648Z"
   },
   {
    "duration": 14,
    "start_time": "2024-12-12T00:43:21.154Z"
   },
   {
    "duration": 4,
    "start_time": "2024-12-12T00:43:22.817Z"
   },
   {
    "duration": 5,
    "start_time": "2024-12-12T00:43:23.545Z"
   },
   {
    "duration": 4,
    "start_time": "2024-12-12T00:43:59.950Z"
   },
   {
    "duration": 3,
    "start_time": "2024-12-12T00:44:16.213Z"
   },
   {
    "duration": 14,
    "start_time": "2024-12-12T00:44:27.401Z"
   },
   {
    "duration": 2,
    "start_time": "2024-12-12T00:44:45.449Z"
   },
   {
    "duration": 13,
    "start_time": "2024-12-12T00:45:14.326Z"
   },
   {
    "duration": 13,
    "start_time": "2024-12-12T00:50:06.189Z"
   },
   {
    "duration": 157,
    "start_time": "2024-12-12T19:29:32.424Z"
   },
   {
    "duration": 2839,
    "start_time": "2024-12-12T19:29:39.337Z"
   },
   {
    "duration": 2,
    "start_time": "2024-12-12T19:29:42.179Z"
   },
   {
    "duration": 37,
    "start_time": "2024-12-12T19:29:42.183Z"
   },
   {
    "duration": 11,
    "start_time": "2024-12-12T19:29:42.223Z"
   },
   {
    "duration": 15,
    "start_time": "2024-12-12T19:29:42.237Z"
   },
   {
    "duration": 2,
    "start_time": "2024-12-12T19:29:42.816Z"
   },
   {
    "duration": 3,
    "start_time": "2024-12-12T19:29:43.465Z"
   },
   {
    "duration": 3,
    "start_time": "2024-12-12T19:29:45.411Z"
   },
   {
    "duration": 4,
    "start_time": "2024-12-12T19:29:48.131Z"
   },
   {
    "duration": 10,
    "start_time": "2024-12-12T19:29:49.959Z"
   },
   {
    "duration": 21,
    "start_time": "2024-12-12T19:29:55.261Z"
   },
   {
    "duration": 4,
    "start_time": "2024-12-12T19:29:55.987Z"
   },
   {
    "duration": 6,
    "start_time": "2024-12-12T19:29:56.924Z"
   },
   {
    "duration": 6,
    "start_time": "2024-12-12T19:29:57.144Z"
   },
   {
    "duration": 13,
    "start_time": "2024-12-12T19:29:57.425Z"
   },
   {
    "duration": 14,
    "start_time": "2024-12-12T19:29:57.743Z"
   },
   {
    "duration": 4,
    "start_time": "2024-12-12T19:29:59.096Z"
   },
   {
    "duration": 6,
    "start_time": "2024-12-12T19:29:59.538Z"
   },
   {
    "duration": 4,
    "start_time": "2024-12-12T19:37:25.792Z"
   },
   {
    "duration": 6,
    "start_time": "2024-12-12T19:37:37.599Z"
   },
   {
    "duration": 13,
    "start_time": "2024-12-12T19:41:46.440Z"
   },
   {
    "duration": 3,
    "start_time": "2024-12-12T19:46:59.681Z"
   },
   {
    "duration": 4,
    "start_time": "2024-12-12T19:48:03.274Z"
   },
   {
    "duration": 5,
    "start_time": "2024-12-12T19:48:39.700Z"
   },
   {
    "duration": 5,
    "start_time": "2024-12-12T19:49:00.065Z"
   },
   {
    "duration": 4,
    "start_time": "2024-12-12T19:49:00.346Z"
   },
   {
    "duration": 6,
    "start_time": "2024-12-12T19:49:00.555Z"
   },
   {
    "duration": 13,
    "start_time": "2024-12-12T19:49:00.770Z"
   },
   {
    "duration": 14,
    "start_time": "2024-12-12T19:49:01.132Z"
   },
   {
    "duration": 7,
    "start_time": "2024-12-12T19:49:01.334Z"
   },
   {
    "duration": 4,
    "start_time": "2024-12-12T19:49:01.720Z"
   },
   {
    "duration": 5,
    "start_time": "2024-12-12T19:49:02.502Z"
   },
   {
    "duration": 3,
    "start_time": "2024-12-12T19:53:46.432Z"
   },
   {
    "duration": 468,
    "start_time": "2024-12-12T20:00:47.568Z"
   },
   {
    "duration": 40,
    "start_time": "2024-12-12T20:01:15.002Z"
   },
   {
    "duration": 11,
    "start_time": "2024-12-12T20:01:24.893Z"
   },
   {
    "duration": 7,
    "start_time": "2024-12-12T20:02:19.249Z"
   },
   {
    "duration": 2514,
    "start_time": "2024-12-14T17:50:03.034Z"
   },
   {
    "duration": 3,
    "start_time": "2024-12-14T17:50:05.550Z"
   },
   {
    "duration": 36,
    "start_time": "2024-12-14T17:50:05.555Z"
   },
   {
    "duration": 11,
    "start_time": "2024-12-14T17:50:05.593Z"
   },
   {
    "duration": 14,
    "start_time": "2024-12-14T17:50:05.609Z"
   },
   {
    "duration": 2,
    "start_time": "2024-12-14T17:50:05.625Z"
   },
   {
    "duration": 3,
    "start_time": "2024-12-14T17:50:05.628Z"
   },
   {
    "duration": 3,
    "start_time": "2024-12-14T17:50:05.632Z"
   },
   {
    "duration": 6,
    "start_time": "2024-12-14T17:50:05.637Z"
   },
   {
    "duration": 4,
    "start_time": "2024-12-14T17:50:05.645Z"
   },
   {
    "duration": 9,
    "start_time": "2024-12-14T17:50:05.651Z"
   },
   {
    "duration": 21,
    "start_time": "2024-12-14T17:50:05.824Z"
   },
   {
    "duration": 11,
    "start_time": "2024-12-14T17:50:06.031Z"
   },
   {
    "duration": 4,
    "start_time": "2024-12-14T17:50:06.305Z"
   },
   {
    "duration": 7,
    "start_time": "2024-12-14T17:50:06.571Z"
   },
   {
    "duration": 4,
    "start_time": "2024-12-14T17:50:06.883Z"
   },
   {
    "duration": 9,
    "start_time": "2024-12-14T17:50:07.163Z"
   },
   {
    "duration": 4,
    "start_time": "2024-12-14T17:50:07.667Z"
   },
   {
    "duration": 6,
    "start_time": "2024-12-14T17:50:08.449Z"
   },
   {
    "duration": 13,
    "start_time": "2024-12-14T17:50:08.739Z"
   },
   {
    "duration": 15,
    "start_time": "2024-12-14T17:50:08.967Z"
   },
   {
    "duration": 8,
    "start_time": "2024-12-14T17:50:09.271Z"
   },
   {
    "duration": 4,
    "start_time": "2024-12-14T17:50:09.553Z"
   },
   {
    "duration": 6,
    "start_time": "2024-12-14T17:50:09.836Z"
   },
   {
    "duration": 14,
    "start_time": "2024-12-14T17:51:13.063Z"
   },
   {
    "duration": 7,
    "start_time": "2024-12-14T17:51:15.116Z"
   },
   {
    "duration": 4,
    "start_time": "2024-12-14T17:51:17.682Z"
   },
   {
    "duration": 6,
    "start_time": "2024-12-14T17:51:18.445Z"
   },
   {
    "duration": 12,
    "start_time": "2024-12-14T17:53:08.180Z"
   },
   {
    "duration": 13,
    "start_time": "2024-12-14T17:54:11.074Z"
   },
   {
    "duration": 3,
    "start_time": "2024-12-16T17:20:57.992Z"
   },
   {
    "duration": 2404,
    "start_time": "2024-12-16T17:20:58.195Z"
   },
   {
    "duration": 3,
    "start_time": "2024-12-16T17:21:00.601Z"
   },
   {
    "duration": 38,
    "start_time": "2024-12-16T17:21:00.606Z"
   },
   {
    "duration": 12,
    "start_time": "2024-12-16T17:21:00.646Z"
   },
   {
    "duration": 14,
    "start_time": "2024-12-16T17:21:00.659Z"
   },
   {
    "duration": 2,
    "start_time": "2024-12-16T17:21:00.675Z"
   },
   {
    "duration": 3,
    "start_time": "2024-12-16T17:21:01.116Z"
   },
   {
    "duration": 3,
    "start_time": "2024-12-16T17:21:01.665Z"
   },
   {
    "duration": 6,
    "start_time": "2024-12-16T17:21:01.934Z"
   },
   {
    "duration": 4,
    "start_time": "2024-12-16T17:21:02.196Z"
   },
   {
    "duration": 10,
    "start_time": "2024-12-16T17:21:02.487Z"
   },
   {
    "duration": 20,
    "start_time": "2024-12-16T17:21:02.961Z"
   },
   {
    "duration": 12,
    "start_time": "2024-12-16T17:21:03.214Z"
   },
   {
    "duration": 3,
    "start_time": "2024-12-16T17:21:03.458Z"
   },
   {
    "duration": 6,
    "start_time": "2024-12-16T17:21:03.702Z"
   },
   {
    "duration": 4,
    "start_time": "2024-12-16T17:21:04.397Z"
   },
   {
    "duration": 6,
    "start_time": "2024-12-16T17:21:04.906Z"
   },
   {
    "duration": 4,
    "start_time": "2024-12-16T17:21:05.124Z"
   },
   {
    "duration": 6,
    "start_time": "2024-12-16T17:21:05.556Z"
   },
   {
    "duration": 13,
    "start_time": "2024-12-16T17:21:05.956Z"
   },
   {
    "duration": 13,
    "start_time": "2024-12-16T17:21:06.175Z"
   },
   {
    "duration": 8,
    "start_time": "2024-12-16T17:21:06.415Z"
   },
   {
    "duration": 4,
    "start_time": "2024-12-16T17:21:06.993Z"
   },
   {
    "duration": 7,
    "start_time": "2024-12-16T17:21:07.234Z"
   },
   {
    "duration": 4,
    "start_time": "2024-12-16T19:01:33.027Z"
   },
   {
    "duration": 4,
    "start_time": "2024-12-16T19:09:23.686Z"
   },
   {
    "duration": 5,
    "start_time": "2024-12-16T19:09:24.574Z"
   },
   {
    "duration": 3,
    "start_time": "2024-12-16T19:10:15.223Z"
   },
   {
    "duration": 4,
    "start_time": "2024-12-16T19:11:02.046Z"
   },
   {
    "duration": 3,
    "start_time": "2024-12-16T19:11:02.983Z"
   },
   {
    "duration": 4,
    "start_time": "2024-12-16T19:11:04.252Z"
   },
   {
    "duration": 13,
    "start_time": "2024-12-16T19:11:42.910Z"
   },
   {
    "duration": 6,
    "start_time": "2024-12-16T19:20:17.648Z"
   },
   {
    "duration": 4,
    "start_time": "2024-12-16T19:21:58.059Z"
   },
   {
    "duration": 4,
    "start_time": "2024-12-16T19:30:10.774Z"
   },
   {
    "duration": 5,
    "start_time": "2024-12-16T19:33:06.390Z"
   },
   {
    "duration": 8,
    "start_time": "2024-12-16T19:33:31.234Z"
   },
   {
    "duration": 6,
    "start_time": "2024-12-16T19:34:33.190Z"
   },
   {
    "duration": 7,
    "start_time": "2024-12-16T19:34:33.873Z"
   },
   {
    "duration": 8,
    "start_time": "2024-12-16T19:35:45.697Z"
   },
   {
    "duration": 805,
    "start_time": "2024-12-16T19:39:46.973Z"
   },
   {
    "duration": 8,
    "start_time": "2024-12-16T19:43:57.962Z"
   },
   {
    "duration": 7,
    "start_time": "2024-12-16T19:44:03.722Z"
   },
   {
    "duration": 4,
    "start_time": "2024-12-16T19:44:03.943Z"
   },
   {
    "duration": 12,
    "start_time": "2024-12-16T19:44:04.138Z"
   },
   {
    "duration": 23,
    "start_time": "2024-12-16T19:44:04.373Z"
   },
   {
    "duration": 10,
    "start_time": "2024-12-16T19:44:04.530Z"
   },
   {
    "duration": 6,
    "start_time": "2024-12-16T19:44:04.760Z"
   },
   {
    "duration": 5,
    "start_time": "2024-12-16T19:44:04.984Z"
   },
   {
    "duration": 4,
    "start_time": "2024-12-16T19:44:05.208Z"
   },
   {
    "duration": 3,
    "start_time": "2024-12-16T19:44:05.434Z"
   },
   {
    "duration": 4,
    "start_time": "2024-12-16T19:44:05.844Z"
   },
   {
    "duration": 3,
    "start_time": "2024-12-16T19:44:06.257Z"
   },
   {
    "duration": 9,
    "start_time": "2024-12-16T19:44:06.870Z"
   },
   {
    "duration": 4,
    "start_time": "2024-12-16T19:44:07.624Z"
   },
   {
    "duration": 12,
    "start_time": "2024-12-16T19:44:33.004Z"
   },
   {
    "duration": 3,
    "start_time": "2024-12-16T19:45:24.138Z"
   },
   {
    "duration": 3,
    "start_time": "2024-12-16T20:14:07.052Z"
   },
   {
    "duration": 2,
    "start_time": "2024-12-16T20:14:07.340Z"
   },
   {
    "duration": 4,
    "start_time": "2024-12-16T20:16:25.652Z"
   },
   {
    "duration": 19,
    "start_time": "2024-12-16T20:16:26.150Z"
   },
   {
    "duration": 5,
    "start_time": "2024-12-16T20:17:56.715Z"
   },
   {
    "duration": 6,
    "start_time": "2024-12-16T20:18:08.386Z"
   },
   {
    "duration": 13,
    "start_time": "2024-12-16T20:18:10.268Z"
   },
   {
    "duration": 12,
    "start_time": "2024-12-16T20:18:14.592Z"
   },
   {
    "duration": 6,
    "start_time": "2024-12-16T20:18:16.667Z"
   },
   {
    "duration": 4,
    "start_time": "2024-12-16T20:18:16.918Z"
   },
   {
    "duration": 5,
    "start_time": "2024-12-16T20:18:17.199Z"
   },
   {
    "duration": 10,
    "start_time": "2024-12-16T20:19:35.669Z"
   },
   {
    "duration": 9,
    "start_time": "2024-12-16T20:20:29.841Z"
   },
   {
    "duration": 9,
    "start_time": "2024-12-16T20:21:38.849Z"
   },
   {
    "duration": 13,
    "start_time": "2024-12-16T20:23:07.155Z"
   },
   {
    "duration": 13,
    "start_time": "2024-12-16T20:24:14.027Z"
   },
   {
    "duration": 13,
    "start_time": "2024-12-16T20:25:10.884Z"
   },
   {
    "duration": 10,
    "start_time": "2024-12-16T20:25:38.198Z"
   },
   {
    "duration": 12,
    "start_time": "2024-12-16T20:25:51.599Z"
   },
   {
    "duration": 10,
    "start_time": "2024-12-16T20:25:54.100Z"
   },
   {
    "duration": 7,
    "start_time": "2024-12-16T20:26:38.969Z"
   },
   {
    "duration": 3,
    "start_time": "2024-12-16T20:26:46.707Z"
   },
   {
    "duration": 4,
    "start_time": "2024-12-16T20:26:59.117Z"
   },
   {
    "duration": 17,
    "start_time": "2024-12-16T20:27:31.519Z"
   },
   {
    "duration": 10,
    "start_time": "2024-12-16T20:27:45.401Z"
   },
   {
    "duration": 25,
    "start_time": "2024-12-16T20:27:53.014Z"
   },
   {
    "duration": 6,
    "start_time": "2024-12-16T20:31:31.039Z"
   },
   {
    "duration": 263,
    "start_time": "2024-12-16T20:32:22.901Z"
   },
   {
    "duration": 8,
    "start_time": "2024-12-16T23:53:36.579Z"
   },
   {
    "duration": 20,
    "start_time": "2024-12-16T23:55:28.990Z"
   },
   {
    "duration": 87,
    "start_time": "2024-12-16T23:58:04.068Z"
   },
   {
    "duration": 3,
    "start_time": "2024-12-16T23:58:38.584Z"
   },
   {
    "duration": 2,
    "start_time": "2024-12-16T23:58:39.074Z"
   },
   {
    "duration": 24,
    "start_time": "2024-12-16T23:58:39.695Z"
   },
   {
    "duration": 12,
    "start_time": "2024-12-16T23:58:40.437Z"
   },
   {
    "duration": 12,
    "start_time": "2024-12-16T23:58:41.246Z"
   },
   {
    "duration": 2,
    "start_time": "2024-12-16T23:58:42.857Z"
   },
   {
    "duration": 2,
    "start_time": "2024-12-16T23:58:43.397Z"
   },
   {
    "duration": 3,
    "start_time": "2024-12-16T23:58:43.965Z"
   },
   {
    "duration": 9,
    "start_time": "2024-12-16T23:58:44.616Z"
   },
   {
    "duration": 7,
    "start_time": "2024-12-16T23:58:53.558Z"
   },
   {
    "duration": 4,
    "start_time": "2024-12-16T23:58:56.889Z"
   },
   {
    "duration": 7,
    "start_time": "2024-12-17T00:00:20.653Z"
   },
   {
    "duration": 6,
    "start_time": "2024-12-17T00:00:45.060Z"
   },
   {
    "duration": 17,
    "start_time": "2024-12-17T00:02:50.778Z"
   },
   {
    "duration": 5,
    "start_time": "2024-12-17T00:08:27.090Z"
   },
   {
    "duration": 4,
    "start_time": "2024-12-17T00:08:44.481Z"
   },
   {
    "duration": 257,
    "start_time": "2024-12-17T00:09:10.310Z"
   },
   {
    "duration": 8,
    "start_time": "2024-12-17T00:10:16.980Z"
   },
   {
    "duration": 2,
    "start_time": "2024-12-17T00:10:18.337Z"
   },
   {
    "duration": 2,
    "start_time": "2024-12-17T00:10:18.871Z"
   },
   {
    "duration": 43,
    "start_time": "2024-12-17T00:10:21.159Z"
   },
   {
    "duration": 5,
    "start_time": "2024-12-17T00:10:42.213Z"
   },
   {
    "duration": 5,
    "start_time": "2024-12-17T00:10:51.833Z"
   },
   {
    "duration": 13,
    "start_time": "2024-12-17T00:10:55.799Z"
   },
   {
    "duration": 12,
    "start_time": "2024-12-17T00:10:57.969Z"
   },
   {
    "duration": 6,
    "start_time": "2024-12-17T00:10:58.910Z"
   },
   {
    "duration": 3,
    "start_time": "2024-12-17T00:11:00.242Z"
   },
   {
    "duration": 15,
    "start_time": "2024-12-17T00:13:20.131Z"
   },
   {
    "duration": 6,
    "start_time": "2024-12-17T00:14:31.631Z"
   },
   {
    "duration": 6,
    "start_time": "2024-12-17T00:15:41.960Z"
   },
   {
    "duration": 10,
    "start_time": "2024-12-17T00:16:04.437Z"
   },
   {
    "duration": 11,
    "start_time": "2024-12-17T00:17:29.392Z"
   },
   {
    "duration": 11,
    "start_time": "2024-12-17T00:17:40.896Z"
   },
   {
    "duration": 10,
    "start_time": "2024-12-17T00:17:55.231Z"
   },
   {
    "duration": 3,
    "start_time": "2024-12-17T00:18:06.227Z"
   },
   {
    "duration": 3,
    "start_time": "2024-12-17T00:18:06.440Z"
   },
   {
    "duration": 6,
    "start_time": "2024-12-17T00:18:06.729Z"
   },
   {
    "duration": 8,
    "start_time": "2024-12-17T00:18:07.241Z"
   },
   {
    "duration": 4,
    "start_time": "2024-12-17T00:18:07.506Z"
   },
   {
    "duration": 11,
    "start_time": "2024-12-17T00:18:07.766Z"
   },
   {
    "duration": 22,
    "start_time": "2024-12-17T00:18:08.068Z"
   },
   {
    "duration": 11,
    "start_time": "2024-12-17T00:18:08.309Z"
   },
   {
    "duration": 4,
    "start_time": "2024-12-17T00:18:08.590Z"
   },
   {
    "duration": 6,
    "start_time": "2024-12-17T00:18:08.847Z"
   },
   {
    "duration": 4,
    "start_time": "2024-12-17T00:18:09.127Z"
   },
   {
    "duration": 3,
    "start_time": "2024-12-17T00:18:09.355Z"
   },
   {
    "duration": 3,
    "start_time": "2024-12-17T00:18:09.602Z"
   },
   {
    "duration": 3,
    "start_time": "2024-12-17T00:18:10.253Z"
   },
   {
    "duration": 8,
    "start_time": "2024-12-17T00:18:10.487Z"
   },
   {
    "duration": 2,
    "start_time": "2024-12-17T00:18:10.798Z"
   },
   {
    "duration": 3,
    "start_time": "2024-12-17T00:18:11.122Z"
   },
   {
    "duration": 11,
    "start_time": "2024-12-17T00:18:11.655Z"
   },
   {
    "duration": 12,
    "start_time": "2024-12-17T00:18:12.624Z"
   },
   {
    "duration": 7,
    "start_time": "2024-12-17T00:18:13.794Z"
   },
   {
    "duration": 13,
    "start_time": "2024-12-17T00:18:46.738Z"
   },
   {
    "duration": 11,
    "start_time": "2024-12-17T00:19:05.083Z"
   },
   {
    "duration": 6,
    "start_time": "2024-12-17T00:19:14.466Z"
   },
   {
    "duration": 3,
    "start_time": "2024-12-17T00:19:26.611Z"
   },
   {
    "duration": 6,
    "start_time": "2024-12-17T00:19:27.566Z"
   },
   {
    "duration": 252,
    "start_time": "2024-12-17T00:19:59.555Z"
   },
   {
    "duration": 16,
    "start_time": "2024-12-17T00:20:00.261Z"
   },
   {
    "duration": 4,
    "start_time": "2024-12-17T00:22:50.318Z"
   },
   {
    "duration": 6,
    "start_time": "2024-12-17T00:23:04.305Z"
   },
   {
    "duration": 4,
    "start_time": "2024-12-17T00:27:01.722Z"
   },
   {
    "duration": 8,
    "start_time": "2024-12-17T00:27:10.486Z"
   },
   {
    "duration": 16,
    "start_time": "2024-12-17T00:31:25.273Z"
   },
   {
    "duration": 16,
    "start_time": "2024-12-17T00:32:41.319Z"
   },
   {
    "duration": 17,
    "start_time": "2024-12-17T00:33:03.493Z"
   },
   {
    "duration": 10,
    "start_time": "2024-12-17T00:33:42.695Z"
   },
   {
    "duration": 1564,
    "start_time": "2024-12-17T01:08:17.144Z"
   },
   {
    "duration": 16,
    "start_time": "2024-12-17T01:10:00.469Z"
   },
   {
    "duration": 11,
    "start_time": "2024-12-17T01:10:54.285Z"
   },
   {
    "duration": 1529,
    "start_time": "2024-12-17T01:12:04.567Z"
   },
   {
    "duration": 1644,
    "start_time": "2024-12-17T01:12:35.290Z"
   },
   {
    "duration": 1556,
    "start_time": "2024-12-17T01:12:49.814Z"
   },
   {
    "duration": 3,
    "start_time": "2024-12-17T01:15:44.556Z"
   },
   {
    "duration": 20,
    "start_time": "2024-12-17T01:16:07.590Z"
   },
   {
    "duration": 6,
    "start_time": "2024-12-17T01:16:43.165Z"
   },
   {
    "duration": 427,
    "start_time": "2024-12-17T01:17:10.317Z"
   },
   {
    "duration": 430,
    "start_time": "2024-12-17T01:17:48.794Z"
   },
   {
    "duration": 16,
    "start_time": "2024-12-17T01:21:00.393Z"
   },
   {
    "duration": 438,
    "start_time": "2024-12-17T01:21:31.888Z"
   },
   {
    "duration": 608,
    "start_time": "2024-12-17T01:22:37.561Z"
   },
   {
    "duration": 10,
    "start_time": "2024-12-17T02:33:43.703Z"
   },
   {
    "duration": 182,
    "start_time": "2024-12-17T02:35:00.328Z"
   },
   {
    "duration": 260,
    "start_time": "2024-12-17T02:35:46.241Z"
   },
   {
    "duration": 5,
    "start_time": "2024-12-17T02:37:10.399Z"
   },
   {
    "duration": 3,
    "start_time": "2024-12-17T02:37:32.772Z"
   },
   {
    "duration": 196,
    "start_time": "2024-12-17T02:37:55.177Z"
   },
   {
    "duration": 12,
    "start_time": "2024-12-17T02:38:27.725Z"
   },
   {
    "duration": 161,
    "start_time": "2024-12-17T22:11:18.118Z"
   },
   {
    "duration": 2401,
    "start_time": "2024-12-17T22:11:24.105Z"
   },
   {
    "duration": 2,
    "start_time": "2024-12-17T22:11:26.508Z"
   },
   {
    "duration": 44,
    "start_time": "2024-12-17T22:11:26.512Z"
   },
   {
    "duration": 11,
    "start_time": "2024-12-17T22:11:26.558Z"
   },
   {
    "duration": 13,
    "start_time": "2024-12-17T22:11:26.571Z"
   },
   {
    "duration": 2,
    "start_time": "2024-12-17T22:11:26.586Z"
   },
   {
    "duration": 5,
    "start_time": "2024-12-17T22:11:26.590Z"
   },
   {
    "duration": 3,
    "start_time": "2024-12-17T22:11:26.733Z"
   },
   {
    "duration": 10,
    "start_time": "2024-12-17T22:11:27.015Z"
   },
   {
    "duration": 7,
    "start_time": "2024-12-17T22:11:27.630Z"
   },
   {
    "duration": 4,
    "start_time": "2024-12-17T22:11:27.878Z"
   },
   {
    "duration": 9,
    "start_time": "2024-12-17T22:11:28.144Z"
   },
   {
    "duration": 19,
    "start_time": "2024-12-17T22:11:28.388Z"
   },
   {
    "duration": 11,
    "start_time": "2024-12-17T22:11:28.654Z"
   },
   {
    "duration": 5,
    "start_time": "2024-12-17T22:11:28.898Z"
   },
   {
    "duration": 6,
    "start_time": "2024-12-17T22:11:29.424Z"
   },
   {
    "duration": 4,
    "start_time": "2024-12-17T22:11:29.714Z"
   },
   {
    "duration": 3,
    "start_time": "2024-12-17T22:11:29.994Z"
   },
   {
    "duration": 4,
    "start_time": "2024-12-17T22:11:30.252Z"
   },
   {
    "duration": 4,
    "start_time": "2024-12-17T22:11:30.516Z"
   },
   {
    "duration": 7,
    "start_time": "2024-12-17T22:11:30.782Z"
   },
   {
    "duration": 2,
    "start_time": "2024-12-17T22:11:31.034Z"
   },
   {
    "duration": 2,
    "start_time": "2024-12-17T22:11:31.289Z"
   },
   {
    "duration": 12,
    "start_time": "2024-12-17T22:11:31.884Z"
   },
   {
    "duration": 12,
    "start_time": "2024-12-17T22:11:32.128Z"
   },
   {
    "duration": 6,
    "start_time": "2024-12-17T22:11:32.445Z"
   },
   {
    "duration": 3,
    "start_time": "2024-12-17T22:11:33.219Z"
   },
   {
    "duration": 5,
    "start_time": "2024-12-17T22:11:33.653Z"
   },
   {
    "duration": 265,
    "start_time": "2024-12-17T22:11:34.388Z"
   },
   {
    "duration": 6,
    "start_time": "2024-12-17T22:11:35.022Z"
   },
   {
    "duration": 6,
    "start_time": "2024-12-17T22:11:36.044Z"
   },
   {
    "duration": 1533,
    "start_time": "2024-12-17T22:11:37.259Z"
   },
   {
    "duration": 16,
    "start_time": "2024-12-17T22:11:40.666Z"
   },
   {
    "duration": 10,
    "start_time": "2024-12-17T22:11:43.099Z"
   },
   {
    "duration": 18,
    "start_time": "2024-12-17T22:11:45.070Z"
   },
   {
    "duration": 5,
    "start_time": "2024-12-17T22:11:46.301Z"
   },
   {
    "duration": 523,
    "start_time": "2024-12-17T22:11:47.628Z"
   },
   {
    "duration": 340,
    "start_time": "2024-12-17T22:11:48.331Z"
   },
   {
    "duration": 3,
    "start_time": "2024-12-17T22:11:49.088Z"
   },
   {
    "duration": 10,
    "start_time": "2024-12-17T22:11:49.896Z"
   },
   {
    "duration": 158,
    "start_time": "2024-12-17T22:11:50.352Z"
   },
   {
    "duration": 235,
    "start_time": "2024-12-17T22:11:51.242Z"
   },
   {
    "duration": 6,
    "start_time": "2024-12-17T22:11:52.150Z"
   },
   {
    "duration": 3,
    "start_time": "2024-12-17T22:11:52.851Z"
   },
   {
    "duration": 157,
    "start_time": "2024-12-17T22:11:54.650Z"
   },
   {
    "duration": 8,
    "start_time": "2024-12-17T22:11:55.663Z"
   },
   {
    "duration": 7,
    "start_time": "2024-12-17T22:56:59.195Z"
   },
   {
    "duration": 29,
    "start_time": "2024-12-17T23:06:25.809Z"
   },
   {
    "duration": 22,
    "start_time": "2024-12-17T23:08:08.369Z"
   },
   {
    "duration": 25,
    "start_time": "2024-12-17T23:08:53.757Z"
   },
   {
    "duration": 27,
    "start_time": "2024-12-17T23:09:58.766Z"
   },
   {
    "duration": 664,
    "start_time": "2024-12-17T23:14:04.620Z"
   },
   {
    "duration": 15,
    "start_time": "2024-12-17T23:28:03.506Z"
   },
   {
    "duration": 17,
    "start_time": "2024-12-17T23:28:17.471Z"
   },
   {
    "duration": 15,
    "start_time": "2024-12-17T23:29:28.159Z"
   },
   {
    "duration": 16,
    "start_time": "2024-12-17T23:30:32.769Z"
   },
   {
    "duration": 15,
    "start_time": "2024-12-17T23:30:43.924Z"
   },
   {
    "duration": 7,
    "start_time": "2024-12-18T00:34:54.239Z"
   },
   {
    "duration": 69,
    "start_time": "2024-12-18T01:12:23.786Z"
   },
   {
    "duration": 2,
    "start_time": "2024-12-18T01:12:25.069Z"
   },
   {
    "duration": 23,
    "start_time": "2024-12-18T01:12:25.273Z"
   },
   {
    "duration": 11,
    "start_time": "2024-12-18T01:12:25.660Z"
   },
   {
    "duration": 12,
    "start_time": "2024-12-18T01:12:25.860Z"
   },
   {
    "duration": 2,
    "start_time": "2024-12-18T01:12:26.416Z"
   },
   {
    "duration": 3,
    "start_time": "2024-12-18T01:12:26.716Z"
   },
   {
    "duration": 3,
    "start_time": "2024-12-18T01:12:26.938Z"
   },
   {
    "duration": 9,
    "start_time": "2024-12-18T01:12:27.149Z"
   },
   {
    "duration": 8,
    "start_time": "2024-12-18T01:12:27.571Z"
   },
   {
    "duration": 4,
    "start_time": "2024-12-18T01:12:27.773Z"
   },
   {
    "duration": 10,
    "start_time": "2024-12-18T01:12:27.982Z"
   },
   {
    "duration": 21,
    "start_time": "2024-12-18T01:12:28.516Z"
   },
   {
    "duration": 10,
    "start_time": "2024-12-18T01:12:28.696Z"
   },
   {
    "duration": 4,
    "start_time": "2024-12-18T01:12:28.867Z"
   },
   {
    "duration": 8,
    "start_time": "2024-12-18T01:12:29.066Z"
   },
   {
    "duration": 3,
    "start_time": "2024-12-18T01:12:29.276Z"
   },
   {
    "duration": 3,
    "start_time": "2024-12-18T01:12:29.474Z"
   },
   {
    "duration": 3,
    "start_time": "2024-12-18T01:12:29.677Z"
   },
   {
    "duration": 3,
    "start_time": "2024-12-18T01:12:29.889Z"
   },
   {
    "duration": 6,
    "start_time": "2024-12-18T01:12:30.113Z"
   },
   {
    "duration": 3,
    "start_time": "2024-12-18T01:12:30.266Z"
   },
   {
    "duration": 2,
    "start_time": "2024-12-18T01:12:30.473Z"
   },
   {
    "duration": 12,
    "start_time": "2024-12-18T01:12:30.857Z"
   },
   {
    "duration": 12,
    "start_time": "2024-12-18T01:12:31.417Z"
   },
   {
    "duration": 6,
    "start_time": "2024-12-18T01:12:32.270Z"
   },
   {
    "duration": 4,
    "start_time": "2024-12-18T01:12:33.070Z"
   },
   {
    "duration": 6,
    "start_time": "2024-12-18T01:12:33.467Z"
   },
   {
    "duration": 266,
    "start_time": "2024-12-18T01:12:33.688Z"
   },
   {
    "duration": 4,
    "start_time": "2024-12-18T01:12:33.956Z"
   },
   {
    "duration": 5,
    "start_time": "2024-12-18T01:12:34.388Z"
   },
   {
    "duration": 6,
    "start_time": "2024-12-18T01:12:34.605Z"
   },
   {
    "duration": 586,
    "start_time": "2024-12-18T01:12:35.631Z"
   },
   {
    "duration": 15,
    "start_time": "2024-12-18T01:12:36.753Z"
   },
   {
    "duration": 11,
    "start_time": "2024-12-18T01:12:37.535Z"
   },
   {
    "duration": 3,
    "start_time": "2024-12-18T01:12:42.591Z"
   },
   {
    "duration": 10,
    "start_time": "2024-12-18T01:12:42.807Z"
   },
   {
    "duration": 234,
    "start_time": "2024-12-18T01:12:43.034Z"
   },
   {
    "duration": 231,
    "start_time": "2024-12-18T01:12:43.993Z"
   },
   {
    "duration": 5,
    "start_time": "2024-12-18T01:12:44.918Z"
   },
   {
    "duration": 4,
    "start_time": "2024-12-18T01:12:45.162Z"
   },
   {
    "duration": 159,
    "start_time": "2024-12-18T01:12:45.499Z"
   },
   {
    "duration": 10,
    "start_time": "2024-12-18T01:12:45.901Z"
   },
   {
    "duration": 379,
    "start_time": "2024-12-18T01:13:30.536Z"
   },
   {
    "duration": 5,
    "start_time": "2024-12-18T01:28:24.155Z"
   },
   {
    "duration": 300,
    "start_time": "2024-12-18T01:29:29.503Z"
   },
   {
    "duration": 193,
    "start_time": "2024-12-18T01:40:56.760Z"
   },
   {
    "duration": 370,
    "start_time": "2024-12-18T01:56:03.415Z"
   },
   {
    "duration": 16,
    "start_time": "2024-12-18T01:57:06.571Z"
   },
   {
    "duration": 42,
    "start_time": "2024-12-18T01:57:36.615Z"
   },
   {
    "duration": 387,
    "start_time": "2024-12-18T01:57:52.083Z"
   },
   {
    "duration": 70,
    "start_time": "2024-12-18T01:58:11.286Z"
   },
   {
    "duration": 160,
    "start_time": "2024-12-18T03:07:11.478Z"
   },
   {
    "duration": 2573,
    "start_time": "2024-12-18T03:07:32.424Z"
   },
   {
    "duration": 6,
    "start_time": "2024-12-18T03:07:34.999Z"
   },
   {
    "duration": 36,
    "start_time": "2024-12-18T03:07:35.007Z"
   },
   {
    "duration": 12,
    "start_time": "2024-12-18T03:07:35.046Z"
   },
   {
    "duration": 15,
    "start_time": "2024-12-18T03:07:35.059Z"
   },
   {
    "duration": 2,
    "start_time": "2024-12-18T03:07:35.077Z"
   },
   {
    "duration": 5,
    "start_time": "2024-12-18T03:07:35.080Z"
   },
   {
    "duration": 19,
    "start_time": "2024-12-18T03:07:35.086Z"
   },
   {
    "duration": 10,
    "start_time": "2024-12-18T03:07:35.107Z"
   },
   {
    "duration": 6,
    "start_time": "2024-12-18T03:07:35.389Z"
   },
   {
    "duration": 5,
    "start_time": "2024-12-18T03:07:35.635Z"
   },
   {
    "duration": 10,
    "start_time": "2024-12-18T03:07:35.854Z"
   },
   {
    "duration": 20,
    "start_time": "2024-12-18T03:07:36.138Z"
   },
   {
    "duration": 10,
    "start_time": "2024-12-18T03:07:36.371Z"
   },
   {
    "duration": 4,
    "start_time": "2024-12-18T03:07:36.627Z"
   },
   {
    "duration": 6,
    "start_time": "2024-12-18T03:07:36.892Z"
   },
   {
    "duration": 4,
    "start_time": "2024-12-18T03:07:37.158Z"
   },
   {
    "duration": 3,
    "start_time": "2024-12-18T03:07:37.406Z"
   },
   {
    "duration": 4,
    "start_time": "2024-12-18T03:07:37.687Z"
   },
   {
    "duration": 4,
    "start_time": "2024-12-18T03:07:37.925Z"
   },
   {
    "duration": 7,
    "start_time": "2024-12-18T03:07:38.189Z"
   },
   {
    "duration": 3,
    "start_time": "2024-12-18T03:07:38.421Z"
   },
   {
    "duration": 2,
    "start_time": "2024-12-18T03:07:38.892Z"
   },
   {
    "duration": 13,
    "start_time": "2024-12-18T03:07:39.420Z"
   },
   {
    "duration": 13,
    "start_time": "2024-12-18T03:07:39.639Z"
   },
   {
    "duration": 6,
    "start_time": "2024-12-18T03:07:39.889Z"
   },
   {
    "duration": 4,
    "start_time": "2024-12-18T03:07:40.203Z"
   },
   {
    "duration": 5,
    "start_time": "2024-12-18T03:07:40.477Z"
   },
   {
    "duration": 270,
    "start_time": "2024-12-18T03:07:40.796Z"
   },
   {
    "duration": 2,
    "start_time": "2024-12-18T03:07:41.084Z"
   },
   {
    "duration": 5,
    "start_time": "2024-12-18T03:07:41.778Z"
   },
   {
    "duration": 6,
    "start_time": "2024-12-18T03:07:42.053Z"
   },
   {
    "duration": 622,
    "start_time": "2024-12-18T03:07:43.119Z"
   },
   {
    "duration": 16,
    "start_time": "2024-12-18T03:07:43.743Z"
   },
   {
    "duration": 10,
    "start_time": "2024-12-18T03:07:43.984Z"
   },
   {
    "duration": 2,
    "start_time": "2024-12-18T03:07:44.220Z"
   },
   {
    "duration": 398,
    "start_time": "2024-12-18T03:07:44.468Z"
   },
   {
    "duration": 5,
    "start_time": "2024-12-18T03:07:45.288Z"
   },
   {
    "duration": 3,
    "start_time": "2024-12-18T03:07:46.002Z"
   },
   {
    "duration": 194,
    "start_time": "2024-12-18T03:07:46.747Z"
   },
   {
    "duration": 2,
    "start_time": "2024-12-18T03:07:47.390Z"
   },
   {
    "duration": 14,
    "start_time": "2024-12-18T03:07:48.297Z"
   },
   {
    "duration": 3,
    "start_time": "2024-12-18T03:07:50.042Z"
   },
   {
    "duration": 5,
    "start_time": "2024-12-18T03:07:50.570Z"
   },
   {
    "duration": 414,
    "start_time": "2024-12-18T03:07:51.058Z"
   },
   {
    "duration": 3,
    "start_time": "2024-12-18T03:11:06.932Z"
   },
   {
    "duration": 863,
    "start_time": "2024-12-18T03:11:06.938Z"
   },
   {
    "duration": 2,
    "start_time": "2024-12-18T03:11:07.803Z"
   },
   {
    "duration": 23,
    "start_time": "2024-12-18T03:11:07.808Z"
   },
   {
    "duration": 11,
    "start_time": "2024-12-18T03:11:07.833Z"
   },
   {
    "duration": 13,
    "start_time": "2024-12-18T03:11:07.846Z"
   },
   {
    "duration": 2,
    "start_time": "2024-12-18T03:11:07.860Z"
   },
   {
    "duration": 3,
    "start_time": "2024-12-18T03:11:07.864Z"
   },
   {
    "duration": 3,
    "start_time": "2024-12-18T03:11:07.868Z"
   },
   {
    "duration": 39,
    "start_time": "2024-12-18T03:11:07.873Z"
   },
   {
    "duration": 6,
    "start_time": "2024-12-18T03:11:07.914Z"
   },
   {
    "duration": 3,
    "start_time": "2024-12-18T03:11:07.922Z"
   },
   {
    "duration": 9,
    "start_time": "2024-12-18T03:11:07.927Z"
   },
   {
    "duration": 18,
    "start_time": "2024-12-18T03:11:07.937Z"
   },
   {
    "duration": 10,
    "start_time": "2024-12-18T03:11:07.957Z"
   },
   {
    "duration": 4,
    "start_time": "2024-12-18T03:11:08.004Z"
   },
   {
    "duration": 6,
    "start_time": "2024-12-18T03:11:08.010Z"
   },
   {
    "duration": 5,
    "start_time": "2024-12-18T03:11:08.018Z"
   },
   {
    "duration": 3,
    "start_time": "2024-12-18T03:11:08.024Z"
   },
   {
    "duration": 3,
    "start_time": "2024-12-18T03:11:08.029Z"
   },
   {
    "duration": 3,
    "start_time": "2024-12-18T03:11:08.034Z"
   },
   {
    "duration": 6,
    "start_time": "2024-12-18T03:11:08.039Z"
   },
   {
    "duration": 2,
    "start_time": "2024-12-18T03:11:08.047Z"
   },
   {
    "duration": 3,
    "start_time": "2024-12-18T03:11:08.050Z"
   },
   {
    "duration": 57,
    "start_time": "2024-12-18T03:11:08.054Z"
   },
   {
    "duration": 12,
    "start_time": "2024-12-18T03:11:08.113Z"
   },
   {
    "duration": 5,
    "start_time": "2024-12-18T03:11:08.127Z"
   },
   {
    "duration": 3,
    "start_time": "2024-12-18T03:11:08.137Z"
   },
   {
    "duration": 5,
    "start_time": "2024-12-18T03:11:08.142Z"
   },
   {
    "duration": 301,
    "start_time": "2024-12-18T03:11:08.148Z"
   },
   {
    "duration": 2,
    "start_time": "2024-12-18T03:11:08.451Z"
   },
   {
    "duration": 5,
    "start_time": "2024-12-18T03:11:08.455Z"
   },
   {
    "duration": 7,
    "start_time": "2024-12-18T03:11:08.461Z"
   },
   {
    "duration": 641,
    "start_time": "2024-12-18T03:11:08.469Z"
   },
   {
    "duration": 16,
    "start_time": "2024-12-18T03:11:09.112Z"
   },
   {
    "duration": 9,
    "start_time": "2024-12-18T03:11:09.129Z"
   },
   {
    "duration": 2,
    "start_time": "2024-12-18T03:11:09.139Z"
   },
   {
    "duration": 426,
    "start_time": "2024-12-18T03:11:09.143Z"
   },
   {
    "duration": 5,
    "start_time": "2024-12-18T03:11:09.571Z"
   },
   {
    "duration": 2,
    "start_time": "2024-12-18T03:11:09.578Z"
   },
   {
    "duration": 12,
    "start_time": "2024-12-18T03:11:09.582Z"
   },
   {
    "duration": 10,
    "start_time": "2024-12-18T03:11:09.596Z"
   },
   {
    "duration": 23,
    "start_time": "2024-12-18T03:11:09.608Z"
   },
   {
    "duration": 4,
    "start_time": "2024-12-18T03:11:09.633Z"
   },
   {
    "duration": 5,
    "start_time": "2024-12-18T03:11:09.639Z"
   },
   {
    "duration": 445,
    "start_time": "2024-12-18T03:11:09.646Z"
   },
   {
    "duration": 873,
    "start_time": "2024-12-18T03:13:01.121Z"
   },
   {
    "duration": 2,
    "start_time": "2024-12-18T03:13:01.996Z"
   },
   {
    "duration": 24,
    "start_time": "2024-12-18T03:13:02.179Z"
   },
   {
    "duration": 11,
    "start_time": "2024-12-18T03:13:03.037Z"
   },
   {
    "duration": 15,
    "start_time": "2024-12-18T03:13:04.484Z"
   },
   {
    "duration": 2,
    "start_time": "2024-12-18T03:13:06.446Z"
   },
   {
    "duration": 3,
    "start_time": "2024-12-18T03:13:07.057Z"
   },
   {
    "duration": 3,
    "start_time": "2024-12-18T03:13:07.632Z"
   },
   {
    "duration": 9,
    "start_time": "2024-12-18T03:13:09.668Z"
   },
   {
    "duration": 6,
    "start_time": "2024-12-18T03:13:14.403Z"
   },
   {
    "duration": 4,
    "start_time": "2024-12-18T03:13:15.109Z"
   },
   {
    "duration": 10,
    "start_time": "2024-12-18T03:13:15.344Z"
   },
   {
    "duration": 20,
    "start_time": "2024-12-18T03:13:15.698Z"
   },
   {
    "duration": 11,
    "start_time": "2024-12-18T03:13:16.046Z"
   },
   {
    "duration": 3,
    "start_time": "2024-12-18T03:13:16.760Z"
   },
   {
    "duration": 6,
    "start_time": "2024-12-18T03:13:17.298Z"
   },
   {
    "duration": 4,
    "start_time": "2024-12-18T03:13:17.911Z"
   },
   {
    "duration": 3,
    "start_time": "2024-12-18T03:13:18.548Z"
   },
   {
    "duration": 4,
    "start_time": "2024-12-18T03:13:19.467Z"
   },
   {
    "duration": 4,
    "start_time": "2024-12-18T03:13:19.963Z"
   },
   {
    "duration": 7,
    "start_time": "2024-12-18T03:13:20.516Z"
   },
   {
    "duration": 2,
    "start_time": "2024-12-18T03:13:21.199Z"
   },
   {
    "duration": 2,
    "start_time": "2024-12-18T03:13:21.843Z"
   },
   {
    "duration": 12,
    "start_time": "2024-12-18T03:13:23.399Z"
   },
   {
    "duration": 13,
    "start_time": "2024-12-18T03:13:24.150Z"
   },
   {
    "duration": 7,
    "start_time": "2024-12-18T03:13:25.165Z"
   },
   {
    "duration": 3,
    "start_time": "2024-12-18T03:13:26.021Z"
   },
   {
    "duration": 5,
    "start_time": "2024-12-18T03:13:26.753Z"
   },
   {
    "duration": 261,
    "start_time": "2024-12-18T03:13:27.690Z"
   },
   {
    "duration": 5,
    "start_time": "2024-12-18T03:13:28.481Z"
   },
   {
    "duration": 4,
    "start_time": "2024-12-18T03:13:29.521Z"
   },
   {
    "duration": 9,
    "start_time": "2024-12-18T03:13:30.046Z"
   },
   {
    "duration": 673,
    "start_time": "2024-12-18T03:13:32.180Z"
   },
   {
    "duration": 17,
    "start_time": "2024-12-18T03:13:34.861Z"
   },
   {
    "duration": 10,
    "start_time": "2024-12-18T03:13:36.940Z"
   },
   {
    "duration": 2,
    "start_time": "2024-12-18T03:13:38.899Z"
   },
   {
    "duration": 404,
    "start_time": "2024-12-18T03:13:39.861Z"
   },
   {
    "duration": 6,
    "start_time": "2024-12-18T03:13:42.740Z"
   },
   {
    "duration": 2,
    "start_time": "2024-12-18T03:13:45.350Z"
   },
   {
    "duration": 2,
    "start_time": "2024-12-18T03:13:51.070Z"
   },
   {
    "duration": 15,
    "start_time": "2024-12-18T03:13:52.185Z"
   },
   {
    "duration": 3,
    "start_time": "2024-12-18T03:13:53.563Z"
   },
   {
    "duration": 5,
    "start_time": "2024-12-18T03:13:54.168Z"
   },
   {
    "duration": 405,
    "start_time": "2024-12-18T03:13:55.492Z"
   },
   {
    "duration": 170,
    "start_time": "2024-12-18T03:15:05.033Z"
   },
   {
    "duration": 860,
    "start_time": "2024-12-18T03:15:12.499Z"
   },
   {
    "duration": 2,
    "start_time": "2024-12-18T03:15:13.395Z"
   },
   {
    "duration": 36,
    "start_time": "2024-12-18T03:15:13.913Z"
   },
   {
    "duration": 12,
    "start_time": "2024-12-18T03:15:14.578Z"
   },
   {
    "duration": 16,
    "start_time": "2024-12-18T03:15:15.571Z"
   },
   {
    "duration": 2,
    "start_time": "2024-12-18T03:15:16.095Z"
   },
   {
    "duration": 3,
    "start_time": "2024-12-18T03:15:16.269Z"
   },
   {
    "duration": 3,
    "start_time": "2024-12-18T03:15:16.400Z"
   },
   {
    "duration": 9,
    "start_time": "2024-12-18T03:15:16.634Z"
   },
   {
    "duration": 6,
    "start_time": "2024-12-18T03:15:17.095Z"
   },
   {
    "duration": 7,
    "start_time": "2024-12-18T03:15:17.394Z"
   },
   {
    "duration": 10,
    "start_time": "2024-12-18T03:15:18.165Z"
   },
   {
    "duration": 20,
    "start_time": "2024-12-18T03:15:18.746Z"
   },
   {
    "duration": 12,
    "start_time": "2024-12-18T03:15:18.935Z"
   },
   {
    "duration": 4,
    "start_time": "2024-12-18T03:15:19.180Z"
   },
   {
    "duration": 6,
    "start_time": "2024-12-18T03:15:19.360Z"
   },
   {
    "duration": 4,
    "start_time": "2024-12-18T03:15:19.591Z"
   },
   {
    "duration": 4,
    "start_time": "2024-12-18T03:15:19.792Z"
   },
   {
    "duration": 3,
    "start_time": "2024-12-18T03:15:20.013Z"
   },
   {
    "duration": 4,
    "start_time": "2024-12-18T03:15:20.254Z"
   },
   {
    "duration": 8,
    "start_time": "2024-12-18T03:15:20.487Z"
   },
   {
    "duration": 3,
    "start_time": "2024-12-18T03:15:20.785Z"
   },
   {
    "duration": 2,
    "start_time": "2024-12-18T03:15:21.060Z"
   },
   {
    "duration": 11,
    "start_time": "2024-12-18T03:15:21.579Z"
   },
   {
    "duration": 13,
    "start_time": "2024-12-18T03:15:22.205Z"
   },
   {
    "duration": 7,
    "start_time": "2024-12-18T03:15:22.500Z"
   },
   {
    "duration": 4,
    "start_time": "2024-12-18T03:15:22.835Z"
   },
   {
    "duration": 6,
    "start_time": "2024-12-18T03:15:23.254Z"
   },
   {
    "duration": 259,
    "start_time": "2024-12-18T03:15:23.826Z"
   },
   {
    "duration": 2,
    "start_time": "2024-12-18T03:15:24.284Z"
   },
   {
    "duration": 6,
    "start_time": "2024-12-18T03:15:24.976Z"
   },
   {
    "duration": 10,
    "start_time": "2024-12-18T03:15:25.806Z"
   },
   {
    "duration": 550,
    "start_time": "2024-12-18T03:15:27.203Z"
   },
   {
    "duration": 18,
    "start_time": "2024-12-18T03:15:32.637Z"
   },
   {
    "duration": 11,
    "start_time": "2024-12-18T03:15:33.248Z"
   },
   {
    "duration": 3,
    "start_time": "2024-12-18T03:15:33.960Z"
   },
   {
    "duration": 406,
    "start_time": "2024-12-18T03:15:34.593Z"
   },
   {
    "duration": 5,
    "start_time": "2024-12-18T03:15:37.374Z"
   },
   {
    "duration": 2,
    "start_time": "2024-12-18T03:15:40.664Z"
   },
   {
    "duration": 2,
    "start_time": "2024-12-18T03:15:41.331Z"
   },
   {
    "duration": 14,
    "start_time": "2024-12-18T03:15:41.921Z"
   },
   {
    "duration": 5,
    "start_time": "2024-12-18T03:15:42.433Z"
   },
   {
    "duration": 5,
    "start_time": "2024-12-18T03:15:42.944Z"
   },
   {
    "duration": 437,
    "start_time": "2024-12-18T03:15:43.941Z"
   },
   {
    "duration": 2,
    "start_time": "2024-12-18T03:15:50.009Z"
   },
   {
    "duration": 10,
    "start_time": "2024-12-18T03:15:50.752Z"
   },
   {
    "duration": 155,
    "start_time": "2024-12-18T03:15:51.863Z"
   },
   {
    "duration": 272,
    "start_time": "2024-12-18T03:15:54.703Z"
   },
   {
    "duration": 6,
    "start_time": "2024-12-18T03:15:56.869Z"
   },
   {
    "duration": 3,
    "start_time": "2024-12-18T03:15:57.405Z"
   },
   {
    "duration": 152,
    "start_time": "2024-12-18T03:15:58.033Z"
   },
   {
    "duration": 10,
    "start_time": "2024-12-18T03:15:59.689Z"
   },
   {
    "duration": 417,
    "start_time": "2024-12-18T03:17:01.893Z"
   },
   {
    "duration": 11,
    "start_time": "2024-12-18T03:17:53.397Z"
   },
   {
    "duration": 16,
    "start_time": "2024-12-18T03:18:00.768Z"
   },
   {
    "duration": 21,
    "start_time": "2024-12-18T03:19:10.876Z"
   },
   {
    "duration": 13,
    "start_time": "2024-12-18T03:26:52.925Z"
   },
   {
    "duration": 9,
    "start_time": "2024-12-18T03:27:40.225Z"
   },
   {
    "duration": 13,
    "start_time": "2024-12-18T03:28:57.168Z"
   },
   {
    "duration": 8,
    "start_time": "2024-12-18T03:30:12.059Z"
   },
   {
    "duration": 191,
    "start_time": "2024-12-18T03:30:42.564Z"
   },
   {
    "duration": 76,
    "start_time": "2024-12-18T03:33:03.860Z"
   },
   {
    "duration": 9,
    "start_time": "2024-12-18T03:33:15.819Z"
   },
   {
    "duration": 9,
    "start_time": "2024-12-18T03:33:41.825Z"
   },
   {
    "duration": 176,
    "start_time": "2024-12-18T18:23:48.321Z"
   },
   {
    "duration": 2538,
    "start_time": "2024-12-18T18:25:19.064Z"
   },
   {
    "duration": 2,
    "start_time": "2024-12-18T18:25:21.604Z"
   },
   {
    "duration": 36,
    "start_time": "2024-12-18T18:25:21.608Z"
   },
   {
    "duration": 12,
    "start_time": "2024-12-18T18:25:21.646Z"
   },
   {
    "duration": 15,
    "start_time": "2024-12-18T18:25:21.659Z"
   },
   {
    "duration": 2,
    "start_time": "2024-12-18T18:25:23.199Z"
   },
   {
    "duration": 11,
    "start_time": "2024-12-18T18:25:31.655Z"
   },
   {
    "duration": 12,
    "start_time": "2024-12-18T18:25:32.447Z"
   },
   {
    "duration": 2,
    "start_time": "2024-12-18T18:25:33.921Z"
   },
   {
    "duration": 4,
    "start_time": "2024-12-18T18:25:34.475Z"
   },
   {
    "duration": 3,
    "start_time": "2024-12-18T18:25:34.947Z"
   },
   {
    "duration": 10,
    "start_time": "2024-12-18T18:25:35.741Z"
   },
   {
    "duration": 6,
    "start_time": "2024-12-18T18:25:37.129Z"
   },
   {
    "duration": 4,
    "start_time": "2024-12-18T18:25:39.136Z"
   },
   {
    "duration": 10,
    "start_time": "2024-12-18T18:25:39.991Z"
   },
   {
    "duration": 22,
    "start_time": "2024-12-18T18:25:40.535Z"
   },
   {
    "duration": 11,
    "start_time": "2024-12-18T18:25:41.022Z"
   },
   {
    "duration": 4,
    "start_time": "2024-12-18T18:25:41.308Z"
   },
   {
    "duration": 6,
    "start_time": "2024-12-18T18:25:41.554Z"
   },
   {
    "duration": 4,
    "start_time": "2024-12-18T18:25:41.808Z"
   },
   {
    "duration": 3,
    "start_time": "2024-12-18T18:25:42.041Z"
   },
   {
    "duration": 3,
    "start_time": "2024-12-18T18:25:42.272Z"
   },
   {
    "duration": 4,
    "start_time": "2024-12-18T18:25:42.517Z"
   },
   {
    "duration": 7,
    "start_time": "2024-12-18T18:25:42.760Z"
   },
   {
    "duration": 2,
    "start_time": "2024-12-18T18:25:43.008Z"
   },
   {
    "duration": 2,
    "start_time": "2024-12-18T18:25:43.243Z"
   },
   {
    "duration": 12,
    "start_time": "2024-12-18T18:25:43.726Z"
   },
   {
    "duration": 13,
    "start_time": "2024-12-18T18:25:43.984Z"
   },
   {
    "duration": 6,
    "start_time": "2024-12-18T18:25:44.209Z"
   },
   {
    "duration": 3,
    "start_time": "2024-12-18T18:25:44.427Z"
   },
   {
    "duration": 5,
    "start_time": "2024-12-18T18:25:44.643Z"
   },
   {
    "duration": 279,
    "start_time": "2024-12-18T18:25:44.866Z"
   },
   {
    "duration": 2,
    "start_time": "2024-12-18T18:25:45.147Z"
   },
   {
    "duration": 5,
    "start_time": "2024-12-18T18:25:45.328Z"
   },
   {
    "duration": 6,
    "start_time": "2024-12-18T18:25:45.784Z"
   },
   {
    "duration": 617,
    "start_time": "2024-12-18T18:25:46.331Z"
   },
   {
    "duration": 17,
    "start_time": "2024-12-18T18:25:46.950Z"
   },
   {
    "duration": 10,
    "start_time": "2024-12-18T18:25:47.337Z"
   },
   {
    "duration": 2,
    "start_time": "2024-12-18T18:25:47.562Z"
   },
   {
    "duration": 405,
    "start_time": "2024-12-18T18:25:47.778Z"
   },
   {
    "duration": 5,
    "start_time": "2024-12-18T18:25:48.204Z"
   },
   {
    "duration": 2,
    "start_time": "2024-12-18T18:25:48.837Z"
   },
   {
    "duration": 4,
    "start_time": "2024-12-18T18:25:49.106Z"
   },
   {
    "duration": 15,
    "start_time": "2024-12-18T18:25:49.357Z"
   },
   {
    "duration": 12,
    "start_time": "2024-12-18T18:25:49.847Z"
   },
   {
    "duration": 20,
    "start_time": "2024-12-18T18:25:50.176Z"
   },
   {
    "duration": 460,
    "start_time": "2024-12-18T18:25:50.437Z"
   },
   {
    "duration": 2,
    "start_time": "2024-12-18T18:25:51.205Z"
   },
   {
    "duration": 9,
    "start_time": "2024-12-18T18:25:51.672Z"
   },
   {
    "duration": 158,
    "start_time": "2024-12-18T18:25:51.947Z"
   },
   {
    "duration": 238,
    "start_time": "2024-12-18T18:25:53.058Z"
   },
   {
    "duration": 5,
    "start_time": "2024-12-18T18:25:54.159Z"
   },
   {
    "duration": 4,
    "start_time": "2024-12-18T18:25:54.805Z"
   },
   {
    "duration": 164,
    "start_time": "2024-12-18T18:25:55.641Z"
   },
   {
    "duration": 8,
    "start_time": "2024-12-18T18:25:56.357Z"
   },
   {
    "duration": 14,
    "start_time": "2024-12-18T18:25:57.127Z"
   },
   {
    "duration": 8,
    "start_time": "2024-12-18T18:25:57.806Z"
   },
   {
    "duration": 14,
    "start_time": "2024-12-18T18:25:58.480Z"
   },
   {
    "duration": 8,
    "start_time": "2024-12-18T18:25:59.518Z"
   },
   {
    "duration": 184,
    "start_time": "2024-12-18T18:26:00.113Z"
   },
   {
    "duration": 5,
    "start_time": "2024-12-18T18:26:00.940Z"
   },
   {
    "duration": 3,
    "start_time": "2024-12-18T18:26:02.735Z"
   },
   {
    "duration": 7,
    "start_time": "2024-12-18T18:26:03.417Z"
   },
   {
    "duration": 4,
    "start_time": "2024-12-18T18:26:04.163Z"
   },
   {
    "duration": 2,
    "start_time": "2024-12-18T18:26:04.853Z"
   },
   {
    "duration": 3,
    "start_time": "2024-12-18T18:26:05.899Z"
   },
   {
    "duration": 4,
    "start_time": "2024-12-18T18:26:19.938Z"
   },
   {
    "duration": 2512,
    "start_time": "2024-12-20T18:46:34.297Z"
   },
   {
    "duration": 3,
    "start_time": "2024-12-20T18:46:36.811Z"
   },
   {
    "duration": 36,
    "start_time": "2024-12-20T18:46:36.815Z"
   },
   {
    "duration": 12,
    "start_time": "2024-12-20T18:46:36.854Z"
   },
   {
    "duration": 14,
    "start_time": "2024-12-20T18:46:37.081Z"
   },
   {
    "duration": 2,
    "start_time": "2024-12-20T18:46:38.459Z"
   },
   {
    "duration": 3,
    "start_time": "2024-12-20T18:46:38.680Z"
   },
   {
    "duration": 3,
    "start_time": "2024-12-20T18:46:39.363Z"
   },
   {
    "duration": 10,
    "start_time": "2024-12-20T18:46:39.880Z"
   },
   {
    "duration": 7,
    "start_time": "2024-12-20T18:46:41.510Z"
   },
   {
    "duration": 4,
    "start_time": "2024-12-20T18:46:42.212Z"
   },
   {
    "duration": 10,
    "start_time": "2024-12-20T18:46:42.931Z"
   },
   {
    "duration": 21,
    "start_time": "2024-12-20T18:46:43.493Z"
   },
   {
    "duration": 12,
    "start_time": "2024-12-20T18:46:43.699Z"
   },
   {
    "duration": 4,
    "start_time": "2024-12-20T18:46:44.005Z"
   },
   {
    "duration": 7,
    "start_time": "2024-12-20T18:46:44.149Z"
   },
   {
    "duration": 4,
    "start_time": "2024-12-20T18:46:44.382Z"
   },
   {
    "duration": 3,
    "start_time": "2024-12-20T18:46:44.630Z"
   },
   {
    "duration": 4,
    "start_time": "2024-12-20T18:46:45.083Z"
   },
   {
    "duration": 4,
    "start_time": "2024-12-20T18:46:45.333Z"
   },
   {
    "duration": 7,
    "start_time": "2024-12-20T18:46:45.551Z"
   },
   {
    "duration": 1,
    "start_time": "2024-12-20T18:46:45.798Z"
   },
   {
    "duration": 2,
    "start_time": "2024-12-20T18:46:46.043Z"
   },
   {
    "duration": 13,
    "start_time": "2024-12-20T18:46:48.613Z"
   },
   {
    "duration": 12,
    "start_time": "2024-12-20T18:46:48.842Z"
   },
   {
    "duration": 6,
    "start_time": "2024-12-20T18:46:49.083Z"
   },
   {
    "duration": 4,
    "start_time": "2024-12-20T18:46:49.339Z"
   },
   {
    "duration": 7,
    "start_time": "2024-12-20T18:46:49.627Z"
   },
   {
    "duration": 280,
    "start_time": "2024-12-20T18:46:49.862Z"
   },
   {
    "duration": 2,
    "start_time": "2024-12-20T18:46:50.250Z"
   },
   {
    "duration": 5,
    "start_time": "2024-12-20T18:46:50.375Z"
   },
   {
    "duration": 6,
    "start_time": "2024-12-20T18:46:50.632Z"
   },
   {
    "duration": 559,
    "start_time": "2024-12-20T18:46:51.102Z"
   },
   {
    "duration": 16,
    "start_time": "2024-12-20T18:46:51.708Z"
   },
   {
    "duration": 11,
    "start_time": "2024-12-20T18:46:52.112Z"
   },
   {
    "duration": 2,
    "start_time": "2024-12-20T18:46:52.371Z"
   },
   {
    "duration": 459,
    "start_time": "2024-12-20T18:46:52.619Z"
   },
   {
    "duration": 7,
    "start_time": "2024-12-20T18:46:53.127Z"
   },
   {
    "duration": 3,
    "start_time": "2024-12-20T18:46:53.657Z"
   },
   {
    "duration": 2,
    "start_time": "2024-12-20T18:46:53.932Z"
   },
   {
    "duration": 17,
    "start_time": "2024-12-20T18:46:54.236Z"
   },
   {
    "duration": 12,
    "start_time": "2024-12-20T18:46:54.486Z"
   },
   {
    "duration": 19,
    "start_time": "2024-12-20T18:46:54.995Z"
   },
   {
    "duration": 409,
    "start_time": "2024-12-20T18:46:55.809Z"
   },
   {
    "duration": 2,
    "start_time": "2024-12-20T18:46:57.495Z"
   },
   {
    "duration": 9,
    "start_time": "2024-12-20T18:46:57.893Z"
   },
   {
    "duration": 161,
    "start_time": "2024-12-20T18:46:58.201Z"
   },
   {
    "duration": 227,
    "start_time": "2024-12-20T18:47:00.528Z"
   },
   {
    "duration": 5,
    "start_time": "2024-12-20T18:47:03.201Z"
   },
   {
    "duration": 4,
    "start_time": "2024-12-20T18:47:04.028Z"
   },
   {
    "duration": 157,
    "start_time": "2024-12-20T18:47:04.614Z"
   },
   {
    "duration": 9,
    "start_time": "2024-12-20T18:47:05.711Z"
   },
   {
    "duration": 13,
    "start_time": "2024-12-20T18:47:06.810Z"
   },
   {
    "duration": 8,
    "start_time": "2024-12-20T18:47:07.488Z"
   },
   {
    "duration": 13,
    "start_time": "2024-12-20T18:47:08.053Z"
   },
   {
    "duration": 8,
    "start_time": "2024-12-20T18:47:09.190Z"
   },
   {
    "duration": 184,
    "start_time": "2024-12-20T18:47:09.777Z"
   },
   {
    "duration": 6,
    "start_time": "2024-12-20T18:47:10.675Z"
   },
   {
    "duration": 274,
    "start_time": "2024-12-20T18:47:10.960Z"
   },
   {
    "duration": 7,
    "start_time": "2024-12-20T18:47:11.482Z"
   },
   {
    "duration": 13,
    "start_time": "2024-12-20T18:47:11.820Z"
   },
   {
    "duration": 3,
    "start_time": "2024-12-20T18:47:12.217Z"
   },
   {
    "duration": 15,
    "start_time": "2024-12-20T18:47:12.689Z"
   },
   {
    "duration": 16,
    "start_time": "2024-12-20T18:47:13.013Z"
   },
   {
    "duration": 7,
    "start_time": "2024-12-20T18:47:24.173Z"
   },
   {
    "duration": 184,
    "start_time": "2024-12-20T18:47:26.225Z"
   },
   {
    "duration": 5,
    "start_time": "2024-12-20T18:47:29.806Z"
   },
   {
    "duration": 13,
    "start_time": "2024-12-20T18:47:31.673Z"
   },
   {
    "duration": 6,
    "start_time": "2024-12-20T18:47:33.233Z"
   },
   {
    "duration": 3,
    "start_time": "2024-12-20T18:48:06.251Z"
   },
   {
    "duration": 2,
    "start_time": "2024-12-20T18:48:06.838Z"
   },
   {
    "duration": 22,
    "start_time": "2024-12-20T18:48:07.083Z"
   },
   {
    "duration": 11,
    "start_time": "2024-12-20T18:48:07.766Z"
   },
   {
    "duration": 11,
    "start_time": "2024-12-20T18:48:07.971Z"
   },
   {
    "duration": 2,
    "start_time": "2024-12-20T18:48:08.320Z"
   },
   {
    "duration": 3,
    "start_time": "2024-12-20T18:48:08.460Z"
   },
   {
    "duration": 3,
    "start_time": "2024-12-20T18:48:08.627Z"
   },
   {
    "duration": 9,
    "start_time": "2024-12-20T18:48:08.782Z"
   },
   {
    "duration": 7,
    "start_time": "2024-12-20T18:48:09.245Z"
   },
   {
    "duration": 5,
    "start_time": "2024-12-20T18:48:09.374Z"
   },
   {
    "duration": 9,
    "start_time": "2024-12-20T18:48:09.545Z"
   },
   {
    "duration": 22,
    "start_time": "2024-12-20T18:48:09.720Z"
   },
   {
    "duration": 12,
    "start_time": "2024-12-20T18:48:09.884Z"
   },
   {
    "duration": 4,
    "start_time": "2024-12-20T18:48:10.253Z"
   },
   {
    "duration": 6,
    "start_time": "2024-12-20T18:48:10.482Z"
   },
   {
    "duration": 4,
    "start_time": "2024-12-20T18:48:10.730Z"
   },
   {
    "duration": 3,
    "start_time": "2024-12-20T18:48:10.997Z"
   },
   {
    "duration": 3,
    "start_time": "2024-12-20T18:48:11.819Z"
   },
   {
    "duration": 3,
    "start_time": "2024-12-20T18:48:12.965Z"
   },
   {
    "duration": 7,
    "start_time": "2024-12-20T18:48:13.884Z"
   },
   {
    "duration": 3,
    "start_time": "2024-12-20T18:48:16.164Z"
   },
   {
    "duration": 2,
    "start_time": "2024-12-20T18:48:16.488Z"
   },
   {
    "duration": 12,
    "start_time": "2024-12-20T18:48:16.911Z"
   },
   {
    "duration": 13,
    "start_time": "2024-12-20T18:48:17.129Z"
   },
   {
    "duration": 7,
    "start_time": "2024-12-20T18:48:17.345Z"
   },
   {
    "duration": 4,
    "start_time": "2024-12-20T18:48:17.532Z"
   },
   {
    "duration": 5,
    "start_time": "2024-12-20T18:48:18.219Z"
   },
   {
    "duration": 255,
    "start_time": "2024-12-20T18:48:18.396Z"
   },
   {
    "duration": 2,
    "start_time": "2024-12-20T18:48:18.654Z"
   },
   {
    "duration": 5,
    "start_time": "2024-12-20T18:48:18.858Z"
   },
   {
    "duration": 7,
    "start_time": "2024-12-20T18:48:19.070Z"
   },
   {
    "duration": 568,
    "start_time": "2024-12-20T18:48:19.491Z"
   },
   {
    "duration": 16,
    "start_time": "2024-12-20T18:48:20.061Z"
   },
   {
    "duration": 10,
    "start_time": "2024-12-20T18:48:20.217Z"
   },
   {
    "duration": 3,
    "start_time": "2024-12-20T18:48:20.424Z"
   },
   {
    "duration": 385,
    "start_time": "2024-12-20T18:48:20.584Z"
   },
   {
    "duration": 6,
    "start_time": "2024-12-20T18:48:20.990Z"
   },
   {
    "duration": 2,
    "start_time": "2024-12-20T18:48:21.365Z"
   },
   {
    "duration": 2,
    "start_time": "2024-12-20T18:48:21.544Z"
   },
   {
    "duration": 17,
    "start_time": "2024-12-20T18:48:21.741Z"
   },
   {
    "duration": 11,
    "start_time": "2024-12-20T18:48:23.283Z"
   },
   {
    "duration": 19,
    "start_time": "2024-12-20T18:48:24.565Z"
   },
   {
    "duration": 430,
    "start_time": "2024-12-20T18:48:25.634Z"
   },
   {
    "duration": 3,
    "start_time": "2024-12-20T18:48:26.351Z"
   },
   {
    "duration": 9,
    "start_time": "2024-12-20T18:48:26.552Z"
   },
   {
    "duration": 159,
    "start_time": "2024-12-20T18:48:26.731Z"
   },
   {
    "duration": 276,
    "start_time": "2024-12-20T18:48:27.440Z"
   },
   {
    "duration": 5,
    "start_time": "2024-12-20T18:48:28.286Z"
   },
   {
    "duration": 3,
    "start_time": "2024-12-20T18:48:28.674Z"
   },
   {
    "duration": 155,
    "start_time": "2024-12-20T18:48:29.065Z"
   },
   {
    "duration": 8,
    "start_time": "2024-12-20T18:48:29.442Z"
   },
   {
    "duration": 13,
    "start_time": "2024-12-20T18:48:29.834Z"
   },
   {
    "duration": 8,
    "start_time": "2024-12-20T18:48:30.206Z"
   },
   {
    "duration": 12,
    "start_time": "2024-12-20T18:48:30.716Z"
   },
   {
    "duration": 8,
    "start_time": "2024-12-20T18:48:31.582Z"
   },
   {
    "duration": 191,
    "start_time": "2024-12-20T18:48:31.966Z"
   },
   {
    "duration": 5,
    "start_time": "2024-12-20T18:48:32.588Z"
   },
   {
    "duration": 3,
    "start_time": "2024-12-20T18:48:33.692Z"
   },
   {
    "duration": 7,
    "start_time": "2024-12-20T18:48:34.703Z"
   },
   {
    "duration": 3,
    "start_time": "2024-12-20T18:48:35.523Z"
   },
   {
    "duration": 2,
    "start_time": "2024-12-20T18:48:36.355Z"
   },
   {
    "duration": 3,
    "start_time": "2024-12-20T18:48:37.180Z"
   },
   {
    "duration": 3,
    "start_time": "2024-12-20T18:48:38.757Z"
   },
   {
    "duration": 2,
    "start_time": "2024-12-20T18:49:07.987Z"
   },
   {
    "duration": 2,
    "start_time": "2024-12-20T18:49:46.719Z"
   },
   {
    "duration": 800,
    "start_time": "2024-12-20T18:49:47.562Z"
   },
   {
    "duration": 2,
    "start_time": "2024-12-20T18:49:49.382Z"
   },
   {
    "duration": 27,
    "start_time": "2024-12-20T18:49:50.405Z"
   },
   {
    "duration": 12,
    "start_time": "2024-12-20T18:49:51.019Z"
   },
   {
    "duration": 16,
    "start_time": "2024-12-20T18:49:51.245Z"
   },
   {
    "duration": 2,
    "start_time": "2024-12-20T18:49:52.058Z"
   },
   {
    "duration": 3,
    "start_time": "2024-12-20T18:49:52.247Z"
   },
   {
    "duration": 4,
    "start_time": "2024-12-20T18:49:52.519Z"
   },
   {
    "duration": 8,
    "start_time": "2024-12-20T18:49:52.822Z"
   },
   {
    "duration": 6,
    "start_time": "2024-12-20T18:49:53.202Z"
   },
   {
    "duration": 4,
    "start_time": "2024-12-20T18:49:53.385Z"
   },
   {
    "duration": 10,
    "start_time": "2024-12-20T18:49:53.589Z"
   },
   {
    "duration": 20,
    "start_time": "2024-12-20T18:49:53.809Z"
   },
   {
    "duration": 11,
    "start_time": "2024-12-20T18:49:54.020Z"
   },
   {
    "duration": 4,
    "start_time": "2024-12-20T18:49:54.235Z"
   },
   {
    "duration": 24,
    "start_time": "2024-12-20T18:50:14.128Z"
   },
   {
    "duration": 10,
    "start_time": "2024-12-20T18:50:15.576Z"
   },
   {
    "duration": 4,
    "start_time": "2024-12-20T18:50:16.611Z"
   },
   {
    "duration": 6,
    "start_time": "2024-12-20T18:50:17.725Z"
   },
   {
    "duration": 4,
    "start_time": "2024-12-20T18:50:17.911Z"
   },
   {
    "duration": 3,
    "start_time": "2024-12-20T18:50:18.118Z"
   },
   {
    "duration": 4,
    "start_time": "2024-12-20T18:50:18.278Z"
   },
   {
    "duration": 4,
    "start_time": "2024-12-20T18:50:18.433Z"
   },
   {
    "duration": 7,
    "start_time": "2024-12-20T18:50:18.621Z"
   },
   {
    "duration": 12,
    "start_time": "2024-12-20T18:50:19.114Z"
   },
   {
    "duration": 14,
    "start_time": "2024-12-20T18:50:19.316Z"
   },
   {
    "duration": 6,
    "start_time": "2024-12-20T18:50:19.497Z"
   },
   {
    "duration": 4,
    "start_time": "2024-12-20T18:50:19.723Z"
   },
   {
    "duration": 6,
    "start_time": "2024-12-20T18:50:19.935Z"
   },
   {
    "duration": 263,
    "start_time": "2024-12-20T18:50:20.158Z"
   },
   {
    "duration": 3,
    "start_time": "2024-12-20T18:50:20.422Z"
   },
   {
    "duration": 5,
    "start_time": "2024-12-20T18:50:20.573Z"
   },
   {
    "duration": 8,
    "start_time": "2024-12-20T18:50:20.772Z"
   },
   {
    "duration": 615,
    "start_time": "2024-12-20T18:50:21.270Z"
   },
   {
    "duration": 26,
    "start_time": "2024-12-20T18:50:21.887Z"
   },
   {
    "duration": 9,
    "start_time": "2024-12-20T18:50:21.987Z"
   },
   {
    "duration": 2,
    "start_time": "2024-12-20T18:50:22.206Z"
   },
   {
    "duration": 402,
    "start_time": "2024-12-20T18:50:22.455Z"
   },
   {
    "duration": 6,
    "start_time": "2024-12-20T18:50:23.562Z"
   },
   {
    "duration": 3,
    "start_time": "2024-12-20T18:50:24.000Z"
   },
   {
    "duration": 3,
    "start_time": "2024-12-20T18:50:24.223Z"
   },
   {
    "duration": 16,
    "start_time": "2024-12-20T18:50:24.428Z"
   },
   {
    "duration": 13,
    "start_time": "2024-12-20T18:50:24.581Z"
   },
   {
    "duration": 21,
    "start_time": "2024-12-20T18:50:24.767Z"
   },
   {
    "duration": 421,
    "start_time": "2024-12-20T18:50:24.936Z"
   },
   {
    "duration": 2,
    "start_time": "2024-12-20T18:50:25.572Z"
   },
   {
    "duration": 10,
    "start_time": "2024-12-20T18:50:25.873Z"
   },
   {
    "duration": 156,
    "start_time": "2024-12-20T18:50:26.043Z"
   },
   {
    "duration": 226,
    "start_time": "2024-12-20T18:50:26.884Z"
   },
   {
    "duration": 6,
    "start_time": "2024-12-20T18:50:27.696Z"
   },
   {
    "duration": 3,
    "start_time": "2024-12-20T18:50:27.997Z"
   },
   {
    "duration": 155,
    "start_time": "2024-12-20T18:50:28.391Z"
   },
   {
    "duration": 9,
    "start_time": "2024-12-20T18:50:28.746Z"
   },
   {
    "duration": 12,
    "start_time": "2024-12-20T18:50:29.169Z"
   },
   {
    "duration": 10,
    "start_time": "2024-12-20T18:50:29.594Z"
   },
   {
    "duration": 15,
    "start_time": "2024-12-20T18:50:30.002Z"
   },
   {
    "duration": 9,
    "start_time": "2024-12-20T18:50:30.667Z"
   },
   {
    "duration": 252,
    "start_time": "2024-12-20T18:50:30.974Z"
   },
   {
    "duration": 4,
    "start_time": "2024-12-20T18:50:32.315Z"
   },
   {
    "duration": 3,
    "start_time": "2024-12-20T18:50:32.530Z"
   },
   {
    "duration": 7,
    "start_time": "2024-12-20T18:50:32.734Z"
   },
   {
    "duration": 3,
    "start_time": "2024-12-20T18:50:32.957Z"
   },
   {
    "duration": 3,
    "start_time": "2024-12-20T18:50:33.201Z"
   },
   {
    "duration": 3,
    "start_time": "2024-12-20T18:50:33.413Z"
   },
   {
    "duration": 4,
    "start_time": "2024-12-20T18:50:33.635Z"
   },
   {
    "duration": 3,
    "start_time": "2025-01-02T19:53:13.462Z"
   },
   {
    "duration": 2612,
    "start_time": "2025-01-02T23:33:13.779Z"
   },
   {
    "duration": 3,
    "start_time": "2025-01-02T23:33:16.394Z"
   },
   {
    "duration": 36,
    "start_time": "2025-01-02T23:33:16.399Z"
   },
   {
    "duration": 12,
    "start_time": "2025-01-02T23:33:16.437Z"
   },
   {
    "duration": 14,
    "start_time": "2025-01-02T23:33:16.450Z"
   },
   {
    "duration": 3,
    "start_time": "2025-01-02T23:33:16.466Z"
   },
   {
    "duration": 3,
    "start_time": "2025-01-02T23:33:17.013Z"
   },
   {
    "duration": 10,
    "start_time": "2025-01-02T23:33:17.965Z"
   },
   {
    "duration": 7,
    "start_time": "2025-01-02T23:33:19.975Z"
   },
   {
    "duration": 4,
    "start_time": "2025-01-02T23:33:20.853Z"
   },
   {
    "duration": 2,
    "start_time": "2025-01-02T23:33:21.618Z"
   },
   {
    "duration": 20,
    "start_time": "2025-01-02T23:33:22.813Z"
   },
   {
    "duration": 10,
    "start_time": "2025-01-02T23:33:23.734Z"
   },
   {
    "duration": 4,
    "start_time": "2025-01-02T23:33:24.465Z"
   },
   {
    "duration": 6,
    "start_time": "2025-01-02T23:33:25.402Z"
   },
   {
    "duration": 4,
    "start_time": "2025-01-02T23:33:25.886Z"
   },
   {
    "duration": 3,
    "start_time": "2025-01-02T23:33:26.155Z"
   },
   {
    "duration": 3,
    "start_time": "2025-01-02T23:33:26.397Z"
   },
   {
    "duration": 4,
    "start_time": "2025-01-02T23:33:26.670Z"
   },
   {
    "duration": 7,
    "start_time": "2025-01-02T23:33:26.898Z"
   },
   {
    "duration": 11,
    "start_time": "2025-01-02T23:33:27.422Z"
   },
   {
    "duration": 15,
    "start_time": "2025-01-02T23:33:27.695Z"
   },
   {
    "duration": 8,
    "start_time": "2025-01-02T23:33:27.933Z"
   },
   {
    "duration": 4,
    "start_time": "2025-01-02T23:33:28.183Z"
   },
   {
    "duration": 6,
    "start_time": "2025-01-02T23:33:28.431Z"
   },
   {
    "duration": 271,
    "start_time": "2025-01-02T23:33:28.918Z"
   },
   {
    "duration": 3,
    "start_time": "2025-01-02T23:33:29.191Z"
   },
   {
    "duration": 5,
    "start_time": "2025-01-02T23:33:29.453Z"
   },
   {
    "duration": 7,
    "start_time": "2025-01-02T23:33:29.721Z"
   },
   {
    "duration": 633,
    "start_time": "2025-01-02T23:33:30.609Z"
   },
   {
    "duration": 17,
    "start_time": "2025-01-02T23:33:31.841Z"
   },
   {
    "duration": 11,
    "start_time": "2025-01-02T23:33:33.322Z"
   },
   {
    "duration": 2,
    "start_time": "2025-01-02T23:33:33.990Z"
   },
   {
    "duration": 430,
    "start_time": "2025-01-02T23:33:35.214Z"
   },
   {
    "duration": 6,
    "start_time": "2025-01-02T23:33:36.524Z"
   },
   {
    "duration": 3,
    "start_time": "2025-01-02T23:33:38.277Z"
   },
   {
    "duration": 2,
    "start_time": "2025-01-02T23:33:38.895Z"
   },
   {
    "duration": 16,
    "start_time": "2025-01-02T23:33:39.620Z"
   },
   {
    "duration": 13,
    "start_time": "2025-01-02T23:33:40.776Z"
   },
   {
    "duration": 19,
    "start_time": "2025-01-02T23:33:41.362Z"
   },
   {
    "duration": 463,
    "start_time": "2025-01-02T23:33:41.950Z"
   },
   {
    "duration": 2,
    "start_time": "2025-01-02T23:33:43.978Z"
   },
   {
    "duration": 9,
    "start_time": "2025-01-02T23:33:44.214Z"
   },
   {
    "duration": 164,
    "start_time": "2025-01-02T23:33:44.392Z"
   },
   {
    "duration": 234,
    "start_time": "2025-01-02T23:33:45.268Z"
   },
   {
    "duration": 6,
    "start_time": "2025-01-02T23:33:46.438Z"
   },
   {
    "duration": 3,
    "start_time": "2025-01-02T23:33:46.896Z"
   },
   {
    "duration": 156,
    "start_time": "2025-01-02T23:33:47.348Z"
   },
   {
    "duration": 9,
    "start_time": "2025-01-02T23:33:47.810Z"
   },
   {
    "duration": 17,
    "start_time": "2025-01-02T23:33:48.252Z"
   },
   {
    "duration": 9,
    "start_time": "2025-01-02T23:33:48.740Z"
   },
   {
    "duration": 14,
    "start_time": "2025-01-02T23:33:49.369Z"
   },
   {
    "duration": 8,
    "start_time": "2025-01-02T23:33:50.343Z"
   },
   {
    "duration": 191,
    "start_time": "2025-01-02T23:33:50.896Z"
   },
   {
    "duration": 6,
    "start_time": "2025-01-02T23:33:52.438Z"
   },
   {
    "duration": 3,
    "start_time": "2025-01-02T23:33:52.710Z"
   },
   {
    "duration": 7,
    "start_time": "2025-01-02T23:33:52.920Z"
   },
   {
    "duration": 4,
    "start_time": "2025-01-02T23:33:53.490Z"
   },
   {
    "duration": 2,
    "start_time": "2025-01-02T23:33:53.869Z"
   },
   {
    "duration": 3,
    "start_time": "2025-01-02T23:33:54.415Z"
   },
   {
    "duration": 3,
    "start_time": "2025-01-02T23:33:54.682Z"
   },
   {
    "duration": 2547,
    "start_time": "2025-01-07T19:16:30.786Z"
   },
   {
    "duration": 2,
    "start_time": "2025-01-07T19:16:33.336Z"
   },
   {
    "duration": 39,
    "start_time": "2025-01-07T19:16:33.340Z"
   },
   {
    "duration": 11,
    "start_time": "2025-01-07T19:16:33.381Z"
   },
   {
    "duration": 14,
    "start_time": "2025-01-07T19:16:34.547Z"
   },
   {
    "duration": 3,
    "start_time": "2025-01-07T19:16:36.601Z"
   },
   {
    "duration": 3,
    "start_time": "2025-01-07T19:16:37.134Z"
   },
   {
    "duration": 10,
    "start_time": "2025-01-07T19:16:37.716Z"
   },
   {
    "duration": 7,
    "start_time": "2025-01-07T19:16:38.748Z"
   },
   {
    "duration": 3,
    "start_time": "2025-01-07T19:16:38.928Z"
   },
   {
    "duration": 2,
    "start_time": "2025-01-07T19:16:39.149Z"
   },
   {
    "duration": 20,
    "start_time": "2025-01-07T19:16:39.377Z"
   },
   {
    "duration": 11,
    "start_time": "2025-01-07T19:16:39.828Z"
   },
   {
    "duration": 4,
    "start_time": "2025-01-07T19:16:40.019Z"
   },
   {
    "duration": 8,
    "start_time": "2025-01-07T19:16:40.224Z"
   },
   {
    "duration": 4,
    "start_time": "2025-01-07T19:16:40.636Z"
   },
   {
    "duration": 10,
    "start_time": "2025-01-07T19:16:40.949Z"
   },
   {
    "duration": 4,
    "start_time": "2025-01-07T19:16:41.306Z"
   },
   {
    "duration": 4,
    "start_time": "2025-01-07T19:16:41.548Z"
   },
   {
    "duration": 7,
    "start_time": "2025-01-07T19:16:41.666Z"
   },
   {
    "duration": 11,
    "start_time": "2025-01-07T19:16:42.269Z"
   },
   {
    "duration": 11,
    "start_time": "2025-01-07T19:16:42.303Z"
   },
   {
    "duration": 7,
    "start_time": "2025-01-07T19:16:42.520Z"
   },
   {
    "duration": 4,
    "start_time": "2025-01-07T19:16:42.722Z"
   },
   {
    "duration": 6,
    "start_time": "2025-01-07T19:16:42.915Z"
   },
   {
    "duration": 266,
    "start_time": "2025-01-07T19:16:43.119Z"
   },
   {
    "duration": 3,
    "start_time": "2025-01-07T19:16:43.387Z"
   },
   {
    "duration": 5,
    "start_time": "2025-01-07T19:16:43.559Z"
   },
   {
    "duration": 7,
    "start_time": "2025-01-07T19:16:43.789Z"
   },
   {
    "duration": 586,
    "start_time": "2025-01-07T19:16:44.492Z"
   },
   {
    "duration": 16,
    "start_time": "2025-01-07T19:16:45.287Z"
   },
   {
    "duration": 10,
    "start_time": "2025-01-07T19:16:45.807Z"
   },
   {
    "duration": 2,
    "start_time": "2025-01-07T19:16:46.428Z"
   },
   {
    "duration": 497,
    "start_time": "2025-01-07T19:16:46.848Z"
   },
   {
    "duration": 6,
    "start_time": "2025-01-07T19:16:48.056Z"
   },
   {
    "duration": 3,
    "start_time": "2025-01-07T19:16:49.047Z"
   },
   {
    "duration": 3,
    "start_time": "2025-01-07T19:16:50.086Z"
   },
   {
    "duration": 16,
    "start_time": "2025-01-07T19:16:51.117Z"
   },
   {
    "duration": 12,
    "start_time": "2025-01-07T19:16:51.333Z"
   },
   {
    "duration": 20,
    "start_time": "2025-01-07T19:16:53.229Z"
   },
   {
    "duration": 440,
    "start_time": "2025-01-07T19:16:53.887Z"
   },
   {
    "duration": 3,
    "start_time": "2025-01-07T19:16:54.767Z"
   },
   {
    "duration": 9,
    "start_time": "2025-01-07T19:16:54.875Z"
   },
   {
    "duration": 160,
    "start_time": "2025-01-07T19:16:55.055Z"
   },
   {
    "duration": 234,
    "start_time": "2025-01-07T19:16:55.831Z"
   },
   {
    "duration": 5,
    "start_time": "2025-01-07T19:16:56.557Z"
   },
   {
    "duration": 4,
    "start_time": "2025-01-07T19:16:56.951Z"
   },
   {
    "duration": 161,
    "start_time": "2025-01-07T19:16:57.439Z"
   },
   {
    "duration": 10,
    "start_time": "2025-01-07T19:16:57.945Z"
   },
   {
    "duration": 14,
    "start_time": "2025-01-07T19:16:58.604Z"
   },
   {
    "duration": 10,
    "start_time": "2025-01-07T19:16:59.279Z"
   },
   {
    "duration": 14,
    "start_time": "2025-01-07T19:17:00.205Z"
   },
   {
    "duration": 8,
    "start_time": "2025-01-07T19:17:01.015Z"
   },
   {
    "duration": 212,
    "start_time": "2025-01-07T19:17:01.436Z"
   },
   {
    "duration": 5,
    "start_time": "2025-01-07T19:17:02.098Z"
   },
   {
    "duration": 3,
    "start_time": "2025-01-07T19:17:02.325Z"
   },
   {
    "duration": 7,
    "start_time": "2025-01-07T19:17:02.550Z"
   },
   {
    "duration": 3,
    "start_time": "2025-01-07T19:17:02.798Z"
   },
   {
    "duration": 3,
    "start_time": "2025-01-07T19:17:03.469Z"
   },
   {
    "duration": 3,
    "start_time": "2025-01-07T19:17:03.900Z"
   },
   {
    "duration": 3,
    "start_time": "2025-01-07T19:17:04.598Z"
   },
   {
    "duration": 15,
    "start_time": "2025-01-07T19:32:57.044Z"
   },
   {
    "duration": 16,
    "start_time": "2025-01-07T19:33:28.453Z"
   },
   {
    "duration": 12,
    "start_time": "2025-01-07T19:33:29.547Z"
   },
   {
    "duration": 8,
    "start_time": "2025-01-07T19:33:31.063Z"
   },
   {
    "duration": 4,
    "start_time": "2025-01-07T19:33:48.682Z"
   },
   {
    "duration": 9,
    "start_time": "2025-01-07T19:33:49.597Z"
   },
   {
    "duration": 11,
    "start_time": "2025-01-07T19:33:52.589Z"
   },
   {
    "duration": 2548,
    "start_time": "2025-01-14T18:46:22.003Z"
   },
   {
    "duration": 3,
    "start_time": "2025-01-14T18:46:24.553Z"
   },
   {
    "duration": 44,
    "start_time": "2025-01-14T18:46:24.558Z"
   },
   {
    "duration": 14,
    "start_time": "2025-01-14T18:46:24.605Z"
   },
   {
    "duration": 19,
    "start_time": "2025-01-14T18:46:24.624Z"
   },
   {
    "duration": 4,
    "start_time": "2025-01-14T18:46:26.752Z"
   },
   {
    "duration": 3,
    "start_time": "2025-01-14T18:46:27.959Z"
   },
   {
    "duration": 13,
    "start_time": "2025-01-14T18:46:28.820Z"
   },
   {
    "duration": 7,
    "start_time": "2025-01-14T18:46:30.197Z"
   },
   {
    "duration": 4,
    "start_time": "2025-01-14T18:46:30.492Z"
   },
   {
    "duration": 21,
    "start_time": "2025-01-14T18:46:31.234Z"
   },
   {
    "duration": 13,
    "start_time": "2025-01-14T18:46:31.582Z"
   },
   {
    "duration": 4,
    "start_time": "2025-01-14T18:46:32.677Z"
   },
   {
    "duration": 7,
    "start_time": "2025-01-14T18:46:33.398Z"
   },
   {
    "duration": 5,
    "start_time": "2025-01-14T18:46:34.103Z"
   },
   {
    "duration": 3,
    "start_time": "2025-01-14T18:46:35.959Z"
   },
   {
    "duration": 4,
    "start_time": "2025-01-14T18:46:36.684Z"
   },
   {
    "duration": 4,
    "start_time": "2025-01-14T18:46:37.597Z"
   },
   {
    "duration": 8,
    "start_time": "2025-01-14T18:46:39.839Z"
   },
   {
    "duration": 14,
    "start_time": "2025-01-14T18:46:41.492Z"
   },
   {
    "duration": 17,
    "start_time": "2025-01-14T18:46:42.417Z"
   },
   {
    "duration": 8,
    "start_time": "2025-01-14T18:46:45.310Z"
   },
   {
    "duration": 5,
    "start_time": "2025-01-14T18:46:46.155Z"
   },
   {
    "duration": 6,
    "start_time": "2025-01-14T18:46:47.142Z"
   },
   {
    "duration": 271,
    "start_time": "2025-01-14T18:46:48.169Z"
   },
   {
    "duration": 3,
    "start_time": "2025-01-14T18:46:49.475Z"
   },
   {
    "duration": 6,
    "start_time": "2025-01-14T18:46:49.998Z"
   },
   {
    "duration": 7,
    "start_time": "2025-01-14T18:46:50.404Z"
   },
   {
    "duration": 659,
    "start_time": "2025-01-14T18:46:51.621Z"
   },
   {
    "duration": 26,
    "start_time": "2025-01-14T18:46:52.282Z"
   },
   {
    "duration": 13,
    "start_time": "2025-01-14T18:46:53.015Z"
   },
   {
    "duration": 2,
    "start_time": "2025-01-14T18:46:54.753Z"
   },
   {
    "duration": 531,
    "start_time": "2025-01-14T18:46:56.058Z"
   },
   {
    "duration": 5,
    "start_time": "2025-01-14T18:46:57.307Z"
   },
   {
    "duration": 2,
    "start_time": "2025-01-14T18:46:58.568Z"
   },
   {
    "duration": 3,
    "start_time": "2025-01-14T18:46:59.074Z"
   },
   {
    "duration": 19,
    "start_time": "2025-01-14T18:46:59.323Z"
   },
   {
    "duration": 13,
    "start_time": "2025-01-14T18:46:59.496Z"
   },
   {
    "duration": 27,
    "start_time": "2025-01-14T18:46:59.704Z"
   },
   {
    "duration": 410,
    "start_time": "2025-01-14T18:46:59.918Z"
   },
   {
    "duration": 2,
    "start_time": "2025-01-14T18:47:00.689Z"
   },
   {
    "duration": 9,
    "start_time": "2025-01-14T18:47:01.073Z"
   },
   {
    "duration": 181,
    "start_time": "2025-01-14T18:47:01.410Z"
   },
   {
    "duration": 246,
    "start_time": "2025-01-14T18:47:02.670Z"
   },
   {
    "duration": 8,
    "start_time": "2025-01-14T18:47:03.532Z"
   },
   {
    "duration": 4,
    "start_time": "2025-01-14T18:47:04.001Z"
   },
   {
    "duration": 156,
    "start_time": "2025-01-14T18:47:04.435Z"
   },
   {
    "duration": 14,
    "start_time": "2025-01-14T18:47:04.917Z"
   },
   {
    "duration": 13,
    "start_time": "2025-01-14T18:47:05.366Z"
   },
   {
    "duration": 9,
    "start_time": "2025-01-14T18:47:05.932Z"
   },
   {
    "duration": 13,
    "start_time": "2025-01-14T18:47:07.299Z"
   },
   {
    "duration": 8,
    "start_time": "2025-01-14T18:47:09.461Z"
   },
   {
    "duration": 187,
    "start_time": "2025-01-14T18:47:10.557Z"
   },
   {
    "duration": 5,
    "start_time": "2025-01-14T18:47:11.482Z"
   },
   {
    "duration": 4,
    "start_time": "2025-01-14T18:47:11.808Z"
   },
   {
    "duration": 8,
    "start_time": "2025-01-14T18:47:12.312Z"
   },
   {
    "duration": 4,
    "start_time": "2025-01-14T18:47:13.519Z"
   },
   {
    "duration": 5,
    "start_time": "2025-01-14T18:47:14.131Z"
   },
   {
    "duration": 4,
    "start_time": "2025-01-14T18:47:14.818Z"
   },
   {
    "duration": 4,
    "start_time": "2025-01-14T18:47:15.277Z"
   },
   {
    "duration": 223,
    "start_time": "2025-01-14T18:55:52.971Z"
   },
   {
    "duration": 3,
    "start_time": "2025-01-14T18:57:00.016Z"
   },
   {
    "duration": 15,
    "start_time": "2025-01-14T18:58:29.484Z"
   },
   {
    "duration": 14,
    "start_time": "2025-01-14T18:58:47.439Z"
   },
   {
    "duration": 13,
    "start_time": "2025-01-14T18:59:14.662Z"
   },
   {
    "duration": 7,
    "start_time": "2025-01-14T18:59:23.089Z"
   },
   {
    "duration": 4,
    "start_time": "2025-01-14T18:59:32.605Z"
   },
   {
    "duration": 2,
    "start_time": "2025-01-14T22:49:38.955Z"
   },
   {
    "duration": 2,
    "start_time": "2025-01-14T22:49:39.508Z"
   },
   {
    "duration": 6,
    "start_time": "2025-01-14T22:49:44.262Z"
   },
   {
    "duration": 7,
    "start_time": "2025-01-14T22:49:46.095Z"
   },
   {
    "duration": 4,
    "start_time": "2025-01-14T22:49:51.425Z"
   },
   {
    "duration": 21,
    "start_time": "2025-01-14T22:49:53.339Z"
   },
   {
    "duration": 10,
    "start_time": "2025-01-14T22:49:54.354Z"
   },
   {
    "duration": 5,
    "start_time": "2025-01-14T22:49:56.800Z"
   },
   {
    "duration": 4,
    "start_time": "2025-01-14T22:49:58.558Z"
   },
   {
    "duration": 4,
    "start_time": "2025-01-14T22:50:05.880Z"
   },
   {
    "duration": 3,
    "start_time": "2025-01-14T22:50:16.695Z"
   },
   {
    "duration": 4,
    "start_time": "2025-01-14T22:50:17.686Z"
   },
   {
    "duration": 4,
    "start_time": "2025-01-14T22:50:19.117Z"
   },
   {
    "duration": 3,
    "start_time": "2025-01-14T22:51:14.294Z"
   },
   {
    "duration": 3,
    "start_time": "2025-01-14T22:51:14.674Z"
   },
   {
    "duration": 22,
    "start_time": "2025-01-14T22:51:14.834Z"
   },
   {
    "duration": 12,
    "start_time": "2025-01-14T22:51:15.011Z"
   },
   {
    "duration": 12,
    "start_time": "2025-01-14T22:51:15.183Z"
   },
   {
    "duration": 3,
    "start_time": "2025-01-14T22:51:15.488Z"
   },
   {
    "duration": 3,
    "start_time": "2025-01-14T22:51:15.649Z"
   },
   {
    "duration": 9,
    "start_time": "2025-01-14T22:51:15.974Z"
   },
   {
    "duration": 6,
    "start_time": "2025-01-14T22:51:16.351Z"
   },
   {
    "duration": 4,
    "start_time": "2025-01-14T22:51:16.493Z"
   },
   {
    "duration": 20,
    "start_time": "2025-01-14T22:51:16.683Z"
   },
   {
    "duration": 10,
    "start_time": "2025-01-14T22:51:16.849Z"
   },
   {
    "duration": 4,
    "start_time": "2025-01-14T22:51:17.036Z"
   },
   {
    "duration": 7,
    "start_time": "2025-01-14T22:51:17.292Z"
   },
   {
    "duration": 4,
    "start_time": "2025-01-14T22:51:17.470Z"
   },
   {
    "duration": 4,
    "start_time": "2025-01-14T22:51:17.669Z"
   },
   {
    "duration": 4,
    "start_time": "2025-01-14T22:51:17.877Z"
   },
   {
    "duration": 3,
    "start_time": "2025-01-14T22:51:18.064Z"
   },
   {
    "duration": 7,
    "start_time": "2025-01-14T22:51:18.238Z"
   },
   {
    "duration": 14,
    "start_time": "2025-01-14T22:51:18.609Z"
   },
   {
    "duration": 13,
    "start_time": "2025-01-14T22:51:18.808Z"
   },
   {
    "duration": 7,
    "start_time": "2025-01-14T22:51:19.315Z"
   },
   {
    "duration": 4,
    "start_time": "2025-01-14T22:51:19.499Z"
   },
   {
    "duration": 6,
    "start_time": "2025-01-14T22:51:19.689Z"
   },
   {
    "duration": 251,
    "start_time": "2025-01-14T22:51:19.871Z"
   },
   {
    "duration": 4,
    "start_time": "2025-01-14T22:51:20.124Z"
   },
   {
    "duration": 5,
    "start_time": "2025-01-14T22:51:20.229Z"
   },
   {
    "duration": 6,
    "start_time": "2025-01-14T22:51:20.400Z"
   },
   {
    "duration": 633,
    "start_time": "2025-01-14T22:51:20.759Z"
   },
   {
    "duration": 15,
    "start_time": "2025-01-14T22:51:21.395Z"
   },
   {
    "duration": 10,
    "start_time": "2025-01-14T22:51:22.152Z"
   },
   {
    "duration": 2,
    "start_time": "2025-01-14T22:51:22.434Z"
   },
   {
    "duration": 404,
    "start_time": "2025-01-14T22:51:22.686Z"
   },
   {
    "duration": 6,
    "start_time": "2025-01-14T22:51:23.197Z"
   },
   {
    "duration": 2,
    "start_time": "2025-01-14T22:51:24.498Z"
   },
   {
    "duration": 2,
    "start_time": "2025-01-14T22:51:24.688Z"
   },
   {
    "duration": 16,
    "start_time": "2025-01-14T22:51:24.909Z"
   },
   {
    "duration": 849,
    "start_time": "2025-01-14T22:51:46.863Z"
   },
   {
    "duration": 3,
    "start_time": "2025-01-14T22:51:47.834Z"
   },
   {
    "duration": 25,
    "start_time": "2025-01-14T22:51:49.411Z"
   },
   {
    "duration": 13,
    "start_time": "2025-01-14T22:51:49.876Z"
   },
   {
    "duration": 14,
    "start_time": "2025-01-14T22:51:50.140Z"
   },
   {
    "duration": 3,
    "start_time": "2025-01-14T22:51:50.613Z"
   },
   {
    "duration": 2,
    "start_time": "2025-01-14T22:51:51.193Z"
   },
   {
    "duration": 9,
    "start_time": "2025-01-14T22:51:51.828Z"
   },
   {
    "duration": 6,
    "start_time": "2025-01-14T22:51:53.177Z"
   },
   {
    "duration": 3,
    "start_time": "2025-01-14T22:51:54.281Z"
   },
   {
    "duration": 20,
    "start_time": "2025-01-14T22:51:55.257Z"
   },
   {
    "duration": 10,
    "start_time": "2025-01-14T22:51:56.974Z"
   },
   {
    "duration": 4,
    "start_time": "2025-01-14T22:51:58.892Z"
   },
   {
    "duration": 9,
    "start_time": "2025-01-14T22:52:00.814Z"
   },
   {
    "duration": 4,
    "start_time": "2025-01-14T22:52:02.151Z"
   },
   {
    "duration": 4,
    "start_time": "2025-01-14T22:52:16.124Z"
   },
   {
    "duration": 4,
    "start_time": "2025-01-14T22:52:17.753Z"
   },
   {
    "duration": 4,
    "start_time": "2025-01-14T22:52:19.401Z"
   },
   {
    "duration": 4,
    "start_time": "2025-01-14T22:54:17.261Z"
   },
   {
    "duration": 4,
    "start_time": "2025-01-14T22:54:33.315Z"
   },
   {
    "duration": 4,
    "start_time": "2025-01-14T22:54:34.195Z"
   },
   {
    "duration": 4,
    "start_time": "2025-01-14T22:54:35.169Z"
   },
   {
    "duration": 4,
    "start_time": "2025-01-14T22:54:54.879Z"
   },
   {
    "duration": 5,
    "start_time": "2025-01-14T22:56:12.633Z"
   },
   {
    "duration": 4,
    "start_time": "2025-01-14T22:56:13.723Z"
   },
   {
    "duration": 3,
    "start_time": "2025-01-14T22:56:18.994Z"
   },
   {
    "duration": 3,
    "start_time": "2025-01-14T22:56:19.629Z"
   },
   {
    "duration": 3,
    "start_time": "2025-01-14T22:56:31.924Z"
   },
   {
    "duration": 15,
    "start_time": "2025-01-14T22:56:33.535Z"
   },
   {
    "duration": 11,
    "start_time": "2025-01-14T22:56:36.060Z"
   },
   {
    "duration": 13,
    "start_time": "2025-01-14T22:56:39.879Z"
   },
   {
    "duration": 5,
    "start_time": "2025-01-14T22:58:36.501Z"
   },
   {
    "duration": 4,
    "start_time": "2025-01-14T22:58:59.879Z"
   },
   {
    "duration": 295,
    "start_time": "2025-01-14T22:59:39.698Z"
   },
   {
    "duration": 4,
    "start_time": "2025-01-14T22:59:59.638Z"
   },
   {
    "duration": 6,
    "start_time": "2025-01-14T23:01:14.100Z"
   },
   {
    "duration": 800,
    "start_time": "2025-01-14T23:01:40.106Z"
   },
   {
    "duration": 2,
    "start_time": "2025-01-14T23:01:40.909Z"
   },
   {
    "duration": 29,
    "start_time": "2025-01-14T23:01:41.161Z"
   },
   {
    "duration": 12,
    "start_time": "2025-01-14T23:01:41.929Z"
   },
   {
    "duration": 14,
    "start_time": "2025-01-14T23:01:44.197Z"
   },
   {
    "duration": 2,
    "start_time": "2025-01-14T23:01:46.169Z"
   },
   {
    "duration": 3,
    "start_time": "2025-01-14T23:01:46.442Z"
   },
   {
    "duration": 11,
    "start_time": "2025-01-14T23:01:47.288Z"
   },
   {
    "duration": 7,
    "start_time": "2025-01-14T23:01:48.656Z"
   },
   {
    "duration": 3,
    "start_time": "2025-01-14T23:01:49.714Z"
   },
   {
    "duration": 19,
    "start_time": "2025-01-14T23:01:50.569Z"
   },
   {
    "duration": 11,
    "start_time": "2025-01-14T23:01:51.551Z"
   },
   {
    "duration": 4,
    "start_time": "2025-01-14T23:01:52.414Z"
   },
   {
    "duration": 6,
    "start_time": "2025-01-14T23:01:54.410Z"
   },
   {
    "duration": 4,
    "start_time": "2025-01-14T23:01:57.282Z"
   },
   {
    "duration": 5,
    "start_time": "2025-01-14T23:01:59.928Z"
   },
   {
    "duration": 4,
    "start_time": "2025-01-14T23:02:00.483Z"
   },
   {
    "duration": 4,
    "start_time": "2025-01-14T23:02:01.088Z"
   },
   {
    "duration": 14,
    "start_time": "2025-01-14T23:02:02.039Z"
   },
   {
    "duration": 12,
    "start_time": "2025-01-14T23:02:04.028Z"
   },
   {
    "duration": 12,
    "start_time": "2025-01-14T23:02:04.308Z"
   },
   {
    "duration": 6,
    "start_time": "2025-01-14T23:02:05.112Z"
   },
   {
    "duration": 4,
    "start_time": "2025-01-14T23:02:05.281Z"
   },
   {
    "duration": 5,
    "start_time": "2025-01-14T23:02:05.453Z"
   },
   {
    "duration": 264,
    "start_time": "2025-01-14T23:02:05.766Z"
   },
   {
    "duration": 2,
    "start_time": "2025-01-14T23:02:06.077Z"
   },
   {
    "duration": 5,
    "start_time": "2025-01-14T23:02:06.288Z"
   },
   {
    "duration": 6,
    "start_time": "2025-01-14T23:02:06.496Z"
   },
   {
    "duration": 626,
    "start_time": "2025-01-14T23:02:06.844Z"
   },
   {
    "duration": 17,
    "start_time": "2025-01-14T23:02:07.473Z"
   },
   {
    "duration": 10,
    "start_time": "2025-01-14T23:02:07.682Z"
   },
   {
    "duration": 2,
    "start_time": "2025-01-14T23:02:07.921Z"
   },
   {
    "duration": 411,
    "start_time": "2025-01-14T23:02:08.037Z"
   },
   {
    "duration": 7,
    "start_time": "2025-01-14T23:02:08.450Z"
   },
   {
    "duration": 2,
    "start_time": "2025-01-14T23:02:08.858Z"
   },
   {
    "duration": 2,
    "start_time": "2025-01-14T23:02:09.040Z"
   },
   {
    "duration": 15,
    "start_time": "2025-01-14T23:02:09.759Z"
   },
   {
    "duration": 12,
    "start_time": "2025-01-14T23:02:10.015Z"
   },
   {
    "duration": 22,
    "start_time": "2025-01-14T23:02:10.198Z"
   },
   {
    "duration": 423,
    "start_time": "2025-01-14T23:02:10.417Z"
   },
   {
    "duration": 3,
    "start_time": "2025-01-14T23:02:13.069Z"
   },
   {
    "duration": 16,
    "start_time": "2025-01-14T23:02:13.852Z"
   },
   {
    "duration": 159,
    "start_time": "2025-01-14T23:02:14.729Z"
   },
   {
    "duration": 228,
    "start_time": "2025-01-14T23:02:16.598Z"
   },
   {
    "duration": 5,
    "start_time": "2025-01-14T23:02:17.781Z"
   },
   {
    "duration": 3,
    "start_time": "2025-01-14T23:02:18.525Z"
   },
   {
    "duration": 161,
    "start_time": "2025-01-14T23:02:19.016Z"
   },
   {
    "duration": 9,
    "start_time": "2025-01-14T23:02:19.405Z"
   },
   {
    "duration": 13,
    "start_time": "2025-01-14T23:02:19.788Z"
   },
   {
    "duration": 8,
    "start_time": "2025-01-14T23:02:20.161Z"
   },
   {
    "duration": 13,
    "start_time": "2025-01-14T23:02:20.512Z"
   },
   {
    "duration": 12,
    "start_time": "2025-01-14T23:02:21.179Z"
   },
   {
    "duration": 234,
    "start_time": "2025-01-14T23:02:21.496Z"
   },
   {
    "duration": 6,
    "start_time": "2025-01-14T23:02:22.222Z"
   },
   {
    "duration": 3,
    "start_time": "2025-01-14T23:02:22.439Z"
   },
   {
    "duration": 6,
    "start_time": "2025-01-14T23:02:22.664Z"
   },
   {
    "duration": 3,
    "start_time": "2025-01-14T23:02:22.890Z"
   },
   {
    "duration": 3,
    "start_time": "2025-01-14T23:02:23.110Z"
   },
   {
    "duration": 4,
    "start_time": "2025-01-14T23:02:23.374Z"
   },
   {
    "duration": 3,
    "start_time": "2025-01-14T23:02:23.594Z"
   },
   {
    "duration": 160,
    "start_time": "2025-01-15T00:18:24.827Z"
   },
   {
    "duration": 2583,
    "start_time": "2025-01-15T00:18:33.523Z"
   },
   {
    "duration": 2,
    "start_time": "2025-01-15T00:18:36.110Z"
   },
   {
    "duration": 35,
    "start_time": "2025-01-15T00:18:36.114Z"
   },
   {
    "duration": 12,
    "start_time": "2025-01-15T00:18:36.151Z"
   },
   {
    "duration": 14,
    "start_time": "2025-01-15T00:18:36.519Z"
   },
   {
    "duration": 3,
    "start_time": "2025-01-15T00:18:40.038Z"
   },
   {
    "duration": 3,
    "start_time": "2025-01-15T00:18:40.792Z"
   },
   {
    "duration": 9,
    "start_time": "2025-01-15T00:18:41.342Z"
   },
   {
    "duration": 7,
    "start_time": "2025-01-15T00:18:42.969Z"
   },
   {
    "duration": 4,
    "start_time": "2025-01-15T00:18:43.764Z"
   },
   {
    "duration": 21,
    "start_time": "2025-01-15T00:18:44.583Z"
   },
   {
    "duration": 12,
    "start_time": "2025-01-15T00:18:45.390Z"
   },
   {
    "duration": 4,
    "start_time": "2025-01-15T00:18:51.403Z"
   },
   {
    "duration": 7,
    "start_time": "2025-01-15T00:18:52.250Z"
   },
   {
    "duration": 4,
    "start_time": "2025-01-15T00:18:53.607Z"
   },
   {
    "duration": 4,
    "start_time": "2025-01-15T00:18:54.115Z"
   },
   {
    "duration": 4,
    "start_time": "2025-01-15T00:18:54.324Z"
   },
   {
    "duration": 4,
    "start_time": "2025-01-15T00:18:54.644Z"
   },
   {
    "duration": 8,
    "start_time": "2025-01-15T00:18:54.682Z"
   },
   {
    "duration": 11,
    "start_time": "2025-01-15T00:18:55.576Z"
   },
   {
    "duration": 14,
    "start_time": "2025-01-15T00:18:56.616Z"
   },
   {
    "duration": 7,
    "start_time": "2025-01-15T00:18:58.056Z"
   },
   {
    "duration": 5,
    "start_time": "2025-01-15T00:18:58.214Z"
   },
   {
    "duration": 6,
    "start_time": "2025-01-15T00:18:58.358Z"
   },
   {
    "duration": 268,
    "start_time": "2025-01-15T00:18:58.518Z"
   },
   {
    "duration": 2,
    "start_time": "2025-01-15T00:18:58.829Z"
   },
   {
    "duration": 5,
    "start_time": "2025-01-15T00:18:58.855Z"
   },
   {
    "duration": 7,
    "start_time": "2025-01-15T00:18:58.990Z"
   },
   {
    "duration": 657,
    "start_time": "2025-01-15T00:18:59.280Z"
   },
   {
    "duration": 16,
    "start_time": "2025-01-15T00:18:59.939Z"
   },
   {
    "duration": 10,
    "start_time": "2025-01-15T00:19:00.054Z"
   },
   {
    "duration": 2,
    "start_time": "2025-01-15T00:19:00.231Z"
   },
   {
    "duration": 401,
    "start_time": "2025-01-15T00:19:00.396Z"
   },
   {
    "duration": 6,
    "start_time": "2025-01-15T00:19:00.853Z"
   },
   {
    "duration": 2,
    "start_time": "2025-01-15T00:19:01.190Z"
   },
   {
    "duration": 2,
    "start_time": "2025-01-15T00:19:01.368Z"
   },
   {
    "duration": 17,
    "start_time": "2025-01-15T00:19:01.712Z"
   },
   {
    "duration": 12,
    "start_time": "2025-01-15T00:19:01.897Z"
   },
   {
    "duration": 20,
    "start_time": "2025-01-15T00:19:02.117Z"
   },
   {
    "duration": 456,
    "start_time": "2025-01-15T00:19:02.359Z"
   },
   {
    "duration": 2,
    "start_time": "2025-01-15T00:19:03.024Z"
   },
   {
    "duration": 10,
    "start_time": "2025-01-15T00:19:03.239Z"
   },
   {
    "duration": 162,
    "start_time": "2025-01-15T00:19:03.456Z"
   },
   {
    "duration": 229,
    "start_time": "2025-01-15T00:19:04.300Z"
   },
   {
    "duration": 5,
    "start_time": "2025-01-15T00:19:05.154Z"
   },
   {
    "duration": 3,
    "start_time": "2025-01-15T00:19:05.579Z"
   },
   {
    "duration": 159,
    "start_time": "2025-01-15T00:19:06.002Z"
   },
   {
    "duration": 9,
    "start_time": "2025-01-15T00:19:06.427Z"
   },
   {
    "duration": 16,
    "start_time": "2025-01-15T00:19:07.180Z"
   },
   {
    "duration": 8,
    "start_time": "2025-01-15T00:19:07.991Z"
   },
   {
    "duration": 14,
    "start_time": "2025-01-15T00:19:08.907Z"
   },
   {
    "duration": 8,
    "start_time": "2025-01-15T00:19:10.289Z"
   },
   {
    "duration": 184,
    "start_time": "2025-01-15T00:19:11.478Z"
   },
   {
    "duration": 6,
    "start_time": "2025-01-15T00:19:13.383Z"
   },
   {
    "duration": 4,
    "start_time": "2025-01-15T00:19:13.991Z"
   },
   {
    "duration": 8,
    "start_time": "2025-01-15T00:19:14.515Z"
   },
   {
    "duration": 3,
    "start_time": "2025-01-15T00:19:14.853Z"
   },
   {
    "duration": 2,
    "start_time": "2025-01-15T00:19:16.044Z"
   },
   {
    "duration": 4,
    "start_time": "2025-01-15T00:19:16.289Z"
   },
   {
    "duration": 4,
    "start_time": "2025-01-15T00:19:16.741Z"
   },
   {
    "duration": 6,
    "start_time": "2025-01-15T00:40:15.409Z"
   },
   {
    "duration": 165,
    "start_time": "2025-01-16T02:37:34.121Z"
   },
   {
    "duration": 2560,
    "start_time": "2025-01-16T02:37:44.028Z"
   },
   {
    "duration": 3,
    "start_time": "2025-01-16T02:37:46.591Z"
   },
   {
    "duration": 37,
    "start_time": "2025-01-16T02:37:46.595Z"
   },
   {
    "duration": 12,
    "start_time": "2025-01-16T02:37:46.958Z"
   },
   {
    "duration": 18,
    "start_time": "2025-01-16T02:37:48.452Z"
   },
   {
    "duration": 3,
    "start_time": "2025-01-16T02:37:50.150Z"
   },
   {
    "duration": 3,
    "start_time": "2025-01-16T02:37:50.373Z"
   },
   {
    "duration": 10,
    "start_time": "2025-01-16T02:37:50.886Z"
   },
   {
    "duration": 7,
    "start_time": "2025-01-16T02:37:53.189Z"
   },
   {
    "duration": 3,
    "start_time": "2025-01-16T02:37:57.069Z"
   },
   {
    "duration": 19,
    "start_time": "2025-01-16T02:38:00.807Z"
   },
   {
    "duration": 12,
    "start_time": "2025-01-16T02:38:01.943Z"
   },
   {
    "duration": 4,
    "start_time": "2025-01-16T02:38:03.262Z"
   },
   {
    "duration": 6,
    "start_time": "2025-01-16T02:38:04.378Z"
   },
   {
    "duration": 4,
    "start_time": "2025-01-16T02:38:06.396Z"
   },
   {
    "duration": 3,
    "start_time": "2025-01-16T02:38:07.302Z"
   },
   {
    "duration": 4,
    "start_time": "2025-01-16T02:38:08.085Z"
   },
   {
    "duration": 4,
    "start_time": "2025-01-16T02:38:09.291Z"
   },
   {
    "duration": 13,
    "start_time": "2025-01-16T02:38:10.205Z"
   },
   {
    "duration": 562,
    "start_time": "2025-01-16T02:38:11.107Z"
   },
   {
    "duration": 7,
    "start_time": "2025-01-16T02:39:22.128Z"
   },
   {
    "duration": 7,
    "start_time": "2025-01-16T02:39:49.792Z"
   },
   {
    "duration": 12,
    "start_time": "2025-01-16T02:40:22.383Z"
   },
   {
    "duration": 13,
    "start_time": "2025-01-16T02:40:47.953Z"
   },
   {
    "duration": 7,
    "start_time": "2025-01-16T02:40:50.794Z"
   },
   {
    "duration": 4,
    "start_time": "2025-01-16T02:40:51.850Z"
   },
   {
    "duration": 6,
    "start_time": "2025-01-16T02:40:52.786Z"
   },
   {
    "duration": 266,
    "start_time": "2025-01-16T02:40:53.530Z"
   },
   {
    "duration": 2,
    "start_time": "2025-01-16T02:40:55.587Z"
   },
   {
    "duration": 5,
    "start_time": "2025-01-16T02:40:55.766Z"
   },
   {
    "duration": 6,
    "start_time": "2025-01-16T02:40:55.940Z"
   },
   {
    "duration": 668,
    "start_time": "2025-01-16T02:40:56.563Z"
   },
   {
    "duration": 15,
    "start_time": "2025-01-16T02:40:57.233Z"
   },
   {
    "duration": 10,
    "start_time": "2025-01-16T02:40:58.247Z"
   },
   {
    "duration": 2,
    "start_time": "2025-01-16T02:40:58.260Z"
   },
   {
    "duration": 398,
    "start_time": "2025-01-16T02:40:58.264Z"
   },
   {
    "duration": 5,
    "start_time": "2025-01-16T02:40:58.664Z"
   },
   {
    "duration": 3,
    "start_time": "2025-01-16T02:40:58.813Z"
   },
   {
    "duration": 17,
    "start_time": "2025-01-16T02:40:58.820Z"
   },
   {
    "duration": 12,
    "start_time": "2025-01-16T02:40:59.036Z"
   },
   {
    "duration": 20,
    "start_time": "2025-01-16T02:40:59.050Z"
   },
   {
    "duration": 496,
    "start_time": "2025-01-16T02:40:59.201Z"
   },
   {
    "duration": 6,
    "start_time": "2025-01-16T02:40:59.699Z"
   },
   {
    "duration": 10,
    "start_time": "2025-01-16T02:40:59.707Z"
   },
   {
    "duration": 175,
    "start_time": "2025-01-16T02:40:59.720Z"
   },
   {
    "duration": 258,
    "start_time": "2025-01-16T02:41:00.321Z"
   },
   {
    "duration": 10,
    "start_time": "2025-01-16T02:41:01.017Z"
   },
   {
    "duration": 13,
    "start_time": "2025-01-16T02:41:01.732Z"
   },
   {
    "duration": 9,
    "start_time": "2025-01-16T02:41:02.144Z"
   },
   {
    "duration": 13,
    "start_time": "2025-01-16T02:41:02.866Z"
   },
   {
    "duration": 7,
    "start_time": "2025-01-16T02:41:03.764Z"
   },
   {
    "duration": 195,
    "start_time": "2025-01-16T02:41:04.025Z"
   },
   {
    "duration": 5,
    "start_time": "2025-01-16T02:41:06.224Z"
   },
   {
    "duration": 3,
    "start_time": "2025-01-16T02:41:06.485Z"
   },
   {
    "duration": 7,
    "start_time": "2025-01-16T02:41:07.079Z"
   },
   {
    "duration": 3,
    "start_time": "2025-01-16T02:41:07.363Z"
   },
   {
    "duration": 2,
    "start_time": "2025-01-16T02:41:07.527Z"
   },
   {
    "duration": 4,
    "start_time": "2025-01-16T02:41:08.034Z"
   },
   {
    "duration": 3,
    "start_time": "2025-01-16T02:41:08.213Z"
   },
   {
    "duration": 5,
    "start_time": "2025-01-16T03:03:18.989Z"
   },
   {
    "duration": 5,
    "start_time": "2025-01-16T03:03:19.671Z"
   },
   {
    "duration": 4,
    "start_time": "2025-01-16T03:04:58.327Z"
   },
   {
    "duration": 5,
    "start_time": "2025-01-16T03:17:23.761Z"
   },
   {
    "duration": 4,
    "start_time": "2025-01-16T03:17:24.323Z"
   },
   {
    "duration": 4,
    "start_time": "2025-01-16T03:17:25.227Z"
   },
   {
    "duration": 4,
    "start_time": "2025-01-16T03:17:27.193Z"
   },
   {
    "duration": 3,
    "start_time": "2025-01-16T03:17:31.332Z"
   },
   {
    "duration": 8,
    "start_time": "2025-01-16T03:18:00.597Z"
   },
   {
    "duration": 3,
    "start_time": "2025-01-16T03:18:01.055Z"
   },
   {
    "duration": 2,
    "start_time": "2025-01-16T03:18:01.678Z"
   },
   {
    "duration": 6,
    "start_time": "2025-01-16T03:18:02.707Z"
   },
   {
    "duration": 3,
    "start_time": "2025-01-16T03:18:03.612Z"
   },
   {
    "duration": 6,
    "start_time": "2025-01-16T03:23:56.077Z"
   },
   {
    "duration": 4,
    "start_time": "2025-01-16T03:23:56.592Z"
   },
   {
    "duration": 3,
    "start_time": "2025-01-16T03:24:32.137Z"
   },
   {
    "duration": 4,
    "start_time": "2025-01-16T03:24:32.797Z"
   },
   {
    "duration": 3,
    "start_time": "2025-01-16T03:24:37.696Z"
   }
  ],
  "kernelspec": {
   "display_name": "Python 3 (ipykernel)",
   "language": "python",
   "name": "python3"
  },
  "language_info": {
   "codemirror_mode": {
    "name": "ipython",
    "version": 3
   },
   "file_extension": ".py",
   "mimetype": "text/x-python",
   "name": "python",
   "nbconvert_exporter": "python",
   "pygments_lexer": "ipython3",
   "version": "3.9.19"
  },
  "toc": {
   "base_numbering": 1,
   "nav_menu": {},
   "number_sections": true,
   "sideBar": true,
   "skip_h1_title": true,
   "title_cell": "Table of Contents",
   "title_sidebar": "Contents",
   "toc_cell": false,
   "toc_position": {},
   "toc_section_display": true,
   "toc_window_display": false
  }
 },
 "nbformat": 4,
 "nbformat_minor": 2
}
